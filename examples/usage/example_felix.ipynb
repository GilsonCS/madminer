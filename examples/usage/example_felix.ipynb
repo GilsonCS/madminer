{
 "cells": [
  {
   "cell_type": "markdown",
   "metadata": {},
   "source": [
    "# MadMiner example"
   ]
  },
  {
   "cell_type": "markdown",
   "metadata": {},
   "source": [
    "In this tutorial we'll demonstrate how to use MadMiner to generate train and test samples for the ML methods introduced in [\"Constraining Effective Field Theories With Machine Learning\"](https://arxiv.org/abs/1805.00013) and [\"A Guide to Constraining Effective Field Theories With Machine Learning\"](https://arxiv.org/abs/1805.00020), both by Johann Brehmer, Gilles Louppe, Juan Pavez, and Kyle Cranmer."
   ]
  },
  {
   "cell_type": "markdown",
   "metadata": {},
   "source": [
    "Before you execute this notebook, make sure you have running installations of MadGraph, Pythia, and Delphes. Note that at least for now, the MG-Pythia interface and Delphes require custom patches (available upon request). In addition, MadMiner and [DelphesMiner](https://github.com/johannbrehmer/delphesminer) have to be in your PYTHONPATH."
   ]
  },
  {
   "cell_type": "code",
   "execution_count": 1,
   "metadata": {},
   "outputs": [],
   "source": [
    "import sys\n",
    "import os\n",
    "delphes_src_path = \"/Users/felixkling/work/MadMiner/delphesminer-master\"\n",
    "sys.path.append(delphes_src_path)\n",
    "madminer_src_path = \"/Users/felixkling/work/MadMiner/madminer-master\"\n",
    "sys.path.append(madminer_src_path)"
   ]
  },
  {
   "cell_type": "code",
   "execution_count": 2,
   "metadata": {},
   "outputs": [],
   "source": [
    "from __future__ import absolute_import, division, print_function, unicode_literals\n",
    "\n",
    "import numpy as np\n",
    "from matplotlib import pyplot as plt\n",
    "% matplotlib inline\n",
    "\n",
    "from madminer.goldmine import GoldMine\n",
    "from madminer.refinery import combine_and_shuffle\n",
    "from madminer.refinery import Refinery\n",
    "from madminer.refinery import constant_benchmark_theta, multiple_benchmark_thetas\n",
    "from madminer.refinery import constant_morphing_theta, multiple_morphing_thetas, random_morphing_thetas\n",
    "from madminer.tools.plots import plot_2d_morphing_basis\n",
    "from delphesprocessor.delphesprocessor import DelphesProcessor"
   ]
  },
  {
   "cell_type": "markdown",
   "metadata": {},
   "source": [
    "Please enter here the path to your MG5 root directory. This notebook assumes that you installed Delphes and Pythia through MG5."
   ]
  },
  {
   "cell_type": "code",
   "execution_count": 3,
   "metadata": {},
   "outputs": [],
   "source": [
    "mg_dir = '/Users/felixkling/work/MG5_aMC_v2_6_2'"
   ]
  },
  {
   "cell_type": "markdown",
   "metadata": {},
   "source": [
    "## 1. Define parameter space"
   ]
  },
  {
   "cell_type": "markdown",
   "metadata": {},
   "source": [
    "After creating a `GoldMine` instance, the first important step is the definition of the parameter space. Each model parameter is characterized by a name as well as the LHA block and ID.\n",
    "\n",
    "If morphing is used, one also has to specify the maximal power with which the parameter contributes to the squared matrix element. For instance, a parameter that contributes only to one vertex, will typically have `morphing_max_power=2`, while a parameter that contributes to two vertices usually has `morphing_max_power=4`. Exceptions arise for instance when the interference effects between the SM and dimension-six operators are modelled, but the square of the dimension-six amplitude (subleading in 1/Lambda) is not taken into account, in which case `morphing_max_power=1`. Finally, the `parameter_range` argument defines the range of parameter values that are used for the automatic optimization of the morphing basis."
   ]
  },
  {
   "cell_type": "code",
   "execution_count": 4,
   "metadata": {},
   "outputs": [
    {
     "name": "stderr",
     "output_type": "stream",
     "text": [
      "14:44  \n",
      "14:44  ------------------------------------------------------------\n",
      "14:44  |                                                          |\n",
      "14:44  |  MadMiner                                                |\n",
      "14:44  |                                                          |\n",
      "14:44  |  Version from July 19, 2018                              |\n",
      "14:44  |                                                          |\n",
      "14:44  |           Johann Brehmer, Kyle Cranmer, and Felix Kling  |\n",
      "14:44  |                                                          |\n",
      "14:44  ------------------------------------------------------------\n",
      "14:44  \n",
      "14:44  Added parameter CWL2 (LHA: dim6 2, maximal power in squared ME: 2, range: (-10.0, 10.0))\n",
      "14:44  Added parameter CPWL2 (LHA: dim6 5, maximal power in squared ME: 2, range: (-10.0, 10.0))\n"
     ]
    }
   ],
   "source": [
    "miner = GoldMine()\n",
    "\n",
    "miner.add_parameter(\n",
    "    lha_block='dim6',\n",
    "    lha_id=2,\n",
    "    parameter_name='CWL2',\n",
    "    morphing_max_power=2,\n",
    "    parameter_range=(-10.,10.)\n",
    ")\n",
    "miner.add_parameter(\n",
    "    lha_block='dim6',\n",
    "    lha_id=5,\n",
    "    parameter_name='CPWL2',\n",
    "    morphing_max_power=2,\n",
    "    parameter_range=(-10.,10.)\n",
    ")"
   ]
  },
  {
   "cell_type": "markdown",
   "metadata": {},
   "source": [
    "## 2. Define benchmark points (evaluation points for |M|^2)"
   ]
  },
  {
   "cell_type": "markdown",
   "metadata": {},
   "source": [
    "The next step is the definition of all the points at which the weights (squared matrix elements) should be evaluated by MadGraph. We call these points \"benchmarks\"."
   ]
  },
  {
   "cell_type": "markdown",
   "metadata": {},
   "source": [
    "### 2a. Set benchmarks by hand"
   ]
  },
  {
   "cell_type": "markdown",
   "metadata": {},
   "source": [
    "One can define benchmarks by hand:"
   ]
  },
  {
   "cell_type": "code",
   "execution_count": 5,
   "metadata": {},
   "outputs": [
    {
     "name": "stderr",
     "output_type": "stream",
     "text": [
      "14:44  Added benchmark sm: CWL2 = 0.00e+00, CPWL2 = 0.00e+00)\n",
      "14:44  Added benchmark bsm: CWL2 = 1.00, CPWL2 = 0.00e+00)\n"
     ]
    }
   ],
   "source": [
    "miner.add_benchmark(\n",
    "    {'CWL2':0., 'CPWL2':0.},\n",
    "    'sm'\n",
    ")\n",
    "miner.add_benchmark(\n",
    "    {'CWL2':1., 'CPWL2':0.},\n",
    "    'bsm'\n",
    ")"
   ]
  },
  {
   "cell_type": "markdown",
   "metadata": {},
   "source": [
    "### 2b. Benchmarks for morphing"
   ]
  },
  {
   "cell_type": "markdown",
   "metadata": {},
   "source": [
    "If morphing is used, the function `set_benchmarks_from_morphing` has to be called. With the option `keep_existing_benchmarks=True`, MadMiner will keep all the benchmark points defined beforehand and run a simple optimization algorithm to fix the remaining ones for the basis (which may be none). Otherwise, MadMiner will optimize the full basis and forget about all previously defined benchmark points. The argument `n_trials` determines the number of random candidate bases that the optimization algorithm goes through."
   ]
  },
  {
   "cell_type": "code",
   "execution_count": 6,
   "metadata": {},
   "outputs": [
    {
     "name": "stderr",
     "output_type": "stream",
     "text": [
      "14:44  Optimizing basis for morphing\n",
      "14:44  Added benchmark sm: CWL2 = 0.00e+00, CPWL2 = 0.00e+00)\n",
      "14:44  Added benchmark bsm: CWL2 = 1.00, CPWL2 = 0.00e+00)\n",
      "14:44  Added benchmark morphing_basis_vector_2: CWL2 = -8.87e+00, CPWL2 = 3.17)\n",
      "14:44  Added benchmark morphing_basis_vector_3: CWL2 = -9.03e+00, CPWL2 = -9.89e+00)\n",
      "14:44  Added benchmark morphing_basis_vector_4: CWL2 = 1.84, CPWL2 = 9.62)\n",
      "14:44  Added benchmark morphing_basis_vector_5: CWL2 = 0.95, CPWL2 = -3.65e+00)\n"
     ]
    }
   ],
   "source": [
    "miner.set_benchmarks_from_morphing(\n",
    "    keep_existing_benchmarks=True,\n",
    "    n_trials=1000,\n",
    "    max_overall_power=2\n",
    ")"
   ]
  },
  {
   "cell_type": "markdown",
   "metadata": {},
   "source": [
    "Let's have a look at the resulting morphing basis and the \"morphing error\", i.e. the sum of squared morphing weights as a function of the parameter space:"
   ]
  },
  {
   "cell_type": "code",
   "execution_count": 7,
   "metadata": {},
   "outputs": [
    {
     "data": {
      "image/png": "[encoded data removed]",
      "text/plain": [
       "<matplotlib.figure.Figure at 0x1088e5310>"
      ]
     },
     "metadata": {},
     "output_type": "display_data"
    }
   ],
   "source": [
    "fig = plot_2d_morphing_basis(\n",
    "    miner.morpher,\n",
    "    xlabel=r'$c_{W} / \\Lambda^2$ [TeV$^{-2}$]',\n",
    "    ylabel=r'$c_{\\tilde{W}} / \\Lambda^2$ [TeV$^{-2}$]',\n",
    "    xrange=(-10.,10),\n",
    "    yrange=(-10.,10.)\n",
    ")"
   ]
  },
  {
   "cell_type": "markdown",
   "metadata": {},
   "source": [
    "## 3. Save settings and run MadGraph"
   ]
  },
  {
   "cell_type": "markdown",
   "metadata": {},
   "source": [
    "The parameter space, benchmark points, and morphing setup are saved in a HDF5 file:"
   ]
  },
  {
   "cell_type": "code",
   "execution_count": 8,
   "metadata": {},
   "outputs": [
    {
     "name": "stderr",
     "output_type": "stream",
     "text": [
      "14:44  Saving setup (including morphing) to data/madminer_example.h5\n"
     ]
    }
   ],
   "source": [
    "miner.save('data/madminer_example.h5')"
   ]
  },
  {
   "cell_type": "markdown",
   "metadata": {},
   "source": [
    "In a next step, MadMiner starts MadGraph and Pythia to generate events and calculate the weights. You have to provide paths to the process card, run card, param card (the entries corresponding to the parameters of interest will be automatically adapted), and an empty reweight card.\n",
    "\n",
    "The `sample_benchmark` option can be used to specify which benchmark should be used for sampling. If it is not used, MadMiner will automatically use the benchmark that was added first. Finally, if MadGraph is supposed to run in a different Python environment or requires other setup steps, you can use the `initial_command` argument."
   ]
  },
  {
   "cell_type": "code",
   "execution_count": 9,
   "metadata": {},
   "outputs": [
    {
     "name": "stderr",
     "output_type": "stream",
     "text": [
      "14:44  Generating MadGraph process folder from cards/proc_card.dat at ./MG_process\n",
      "14:44  Creating param and reweight cards in ./MG_process\n",
      "14:44  Starting MadGraph and Pythia in ./MG_process\n"
     ]
    }
   ],
   "source": [
    "miner.run(\n",
    "    mg_directory=mg_dir,\n",
    "    proc_card_file='cards/proc_card.dat',\n",
    "    param_card_template_file='cards/param_card_template.dat',\n",
    "    reweight_card_template_file='cards/reweight_card_template.dat',\n",
    "    run_card_file='cards/run_card.dat',\n",
    "    pythia8_card_file='cards/pythia8_card.dat',\n",
    "    sample_benchmark='sm',\n",
    "    initial_command='source ~/.bashrc'\n",
    ")"
   ]
  },
  {
   "cell_type": "markdown",
   "metadata": {},
   "source": [
    "## 4. Run detector simulation and extract observables"
   ]
  },
  {
   "cell_type": "markdown",
   "metadata": {},
   "source": [
    "The detector simulation and calculation of observables is not part of MadMiner. The reason is that different users might have very different requirements here: while a phenomenologist might be content with the fast detector simulation from Delphes, an experimental analysis might require the full simulation through Geant4.\n",
    "\n",
    "We provide the DelphesMiner package, which wraps around Delphes and allows for the fast extraction of observables into the HDF5 file.\n",
    "\n",
    "Any user is free to replace the DelphesMiner step with a tool of their choice. "
   ]
  },
  {
   "cell_type": "code",
   "execution_count": 10,
   "metadata": {},
   "outputs": [
    {
     "name": "stderr",
     "output_type": "stream",
     "text": [
      "14:48  \n",
      "14:48  ------------------------------------------------------------\n",
      "14:48  |                                                          |\n",
      "14:48  |  DelphesProcessor                                        |\n",
      "14:48  |                                                          |\n",
      "14:48  |  Version from July 19, 2018                              |\n",
      "14:48  |                                                          |\n",
      "14:48  |           Johann Brehmer, Kyle Cranmer, and Felix Kling  |\n",
      "14:48  |                                                          |\n",
      "14:48  ------------------------------------------------------------\n",
      "14:48  \n",
      "14:48  Hi! How are you today?\n"
     ]
    }
   ],
   "source": [
    "dm = DelphesProcessor()"
   ]
  },
  {
   "cell_type": "markdown",
   "metadata": {},
   "source": [
    "After creating the DelphesProcessor object, one can add a number of HepMC event samples..."
   ]
  },
  {
   "cell_type": "code",
   "execution_count": 11,
   "metadata": {},
   "outputs": [
    {
     "name": "stderr",
     "output_type": "stream",
     "text": [
      "14:48  Adding HepMC sample at MG_process/Events/run_01/tag_1_pythia8_events.hepmc.gz\n"
     ]
    }
   ],
   "source": [
    "dm.add_hepmc_sample('MG_process/Events/run_01/tag_1_pythia8_events.hepmc.gz')"
   ]
  },
  {
   "cell_type": "markdown",
   "metadata": {},
   "source": [
    "... and have it run Delphes:"
   ]
  },
  {
   "cell_type": "code",
   "execution_count": 12,
   "metadata": {},
   "outputs": [
    {
     "name": "stderr",
     "output_type": "stream",
     "text": [
      "14:48  Running Delphes at /Users/felixkling/work/MG5_aMC_v2_6_2/Delphes\n"
     ]
    }
   ],
   "source": [
    "dm.run_delphes(delphes_directory=mg_dir + '/Delphes',\n",
    "               delphes_card='cards/delphes_card.dat',\n",
    "               initial_command='source ~/.bashrc')"
   ]
  },
  {
   "cell_type": "markdown",
   "metadata": {},
   "source": [
    "The next step is the definition of observables through a name and a python expression. For the latter, you can use the objects `j[i]`, `e[i]`, `mu[i]`, `a[i]`, `met`, where the indices `i` refer to a ordering by the transverse momentum. All of these objects are scikit-hep [LorentzVectors](http://scikit-hep.org/api/math.html#vector-classes), see the link for a documentation of their properties.\n",
    "\n",
    "There is an optional keyword `required`. If `required=True`, we will only keep events where the observable can be parsed, i.e. all involved particles have been detected. If `required=False`, un-parseable observables will be filled with `np.nan`."
   ]
  },
  {
   "cell_type": "code",
   "execution_count": 13,
   "metadata": {},
   "outputs": [
    {
     "name": "stderr",
     "output_type": "stream",
     "text": [
      "14:50  Adding required observable pt_e1 = e[0].pt\n",
      "14:50  Adding required observable pt_mu1 = mu[0].pt\n",
      "14:50  Adding required observable delta_eta_ll = abs(e[0].eta - mu[0].eta)\n",
      "14:50  Adding required observable delta_phi_ll = abs(e[0].phi() - mu[0].phi())\n"
     ]
    }
   ],
   "source": [
    "dm.add_observable('pt_e1', 'e[0].pt', required=True)\n",
    "dm.add_observable('pt_mu1', 'mu[0].pt', required=True)\n",
    "dm.add_observable('delta_eta_ll', 'abs(e[0].eta - mu[0].eta)', required=True)\n",
    "dm.add_observable('delta_phi_ll', 'abs(e[0].phi() - mu[0].phi())', required=True)"
   ]
  },
  {
   "cell_type": "markdown",
   "metadata": {},
   "source": [
    "The function `analyse_delphes_samples` extracts all these observables from the Delphes ROOT file(s) generated before:"
   ]
  },
  {
   "cell_type": "code",
   "execution_count": 14,
   "metadata": {},
   "outputs": [
    {
     "name": "stderr",
     "output_type": "stream",
     "text": [
      "14:50  Analysing Delphes sample MG_process/Events/run_01/tag_1_pythia8_events_delphes.root\n",
      "14:50  Requiring existence of observable pt_e1: 6828 events pass, 3172 events removed\n",
      "14:50  Requiring existence of observable pt_mu1: 7746 events pass, 2254 events removed\n",
      "14:50  Requiring existence of observable delta_eta_ll: 5444 events pass, 4556 events removed\n",
      "14:50  Requiring existence of observable delta_phi_ll: 5444 events pass, 4556 events removed\n"
     ]
    }
   ],
   "source": [
    "dm.analyse_delphes_samples()"
   ]
  },
  {
   "cell_type": "markdown",
   "metadata": {},
   "source": [
    "The values of the observables and the weights are then saved in the HDF5 file. It is possible to overwrite the same file, or to leave the original file intact and save all the data into a new file as follows:"
   ]
  },
  {
   "cell_type": "code",
   "execution_count": 15,
   "metadata": {},
   "outputs": [
    {
     "name": "stderr",
     "output_type": "stream",
     "text": [
      "14:50  Loading HDF5 data from data/madminer_example.h5 and saving file to data/madminer_example_with_data.h5\n"
     ]
    }
   ],
   "source": [
    "dm.save('data/madminer_example_with_data.h5', 'data/madminer_example.h5')"
   ]
  },
  {
   "cell_type": "markdown",
   "metadata": {},
   "source": [
    "It's easy to check some distributions at this stage"
   ]
  },
  {
   "cell_type": "code",
   "execution_count": 16,
   "metadata": {},
   "outputs": [
    {
     "data": {
      "image/png": "[encoded data removed]",
      "text/plain": [
       "<matplotlib.figure.Figure at 0x10c4a2850>"
      ]
     },
     "metadata": {},
     "output_type": "display_data"
    }
   ],
   "source": [
    "fig = plt.figure(figsize=(5,5))\n",
    "\n",
    "for weights in dm.weights:\n",
    "    plt.hist(dm.observations['pt_e1'], range=(0.,400.), bins=20, histtype='step', weights=weights)\n",
    "\n",
    "plt.show()"
   ]
  },
  {
   "cell_type": "markdown",
   "metadata": {},
   "source": [
    "## 5. Combine and shuffle different event samples"
   ]
  },
  {
   "cell_type": "markdown",
   "metadata": {},
   "source": [
    "To reduce disk usage, you can generate several small event samples with the steps given above, and combine them now. Note that (for now) it is essential that all of them are generated with the same setup, including the same benchmark points / morphing basis!"
   ]
  },
  {
   "cell_type": "code",
   "execution_count": 17,
   "metadata": {},
   "outputs": [
    {
     "name": "stderr",
     "output_type": "stream",
     "text": [
      "14:51  \n",
      "14:51  ------------------------------------------------------------\n",
      "14:51  |                                                          |\n",
      "14:51  |  MadMiner                                                |\n",
      "14:51  |                                                          |\n",
      "14:51  |  Version from July 19, 2018                              |\n",
      "14:51  |                                                          |\n",
      "14:51  |           Johann Brehmer, Kyle Cranmer, and Felix Kling  |\n",
      "14:51  |                                                          |\n",
      "14:51  ------------------------------------------------------------\n",
      "14:51  \n",
      "14:51  Copying setup from data/madminer_example_with_data.h5 to data/madminer_example_shuffled.h5\n",
      "14:51  Loading samples from file 1 / 1 at data/madminer_example_with_data.h5\n"
     ]
    }
   ],
   "source": [
    "combine_and_shuffle(\n",
    "    ['data/madminer_example_with_data.h5'],\n",
    "    'data/madminer_example_shuffled.h5'\n",
    ")"
   ]
  },
  {
   "cell_type": "markdown",
   "metadata": {},
   "source": [
    "## 6. Make (unweighted) training and test samples"
   ]
  },
  {
   "cell_type": "markdown",
   "metadata": {},
   "source": [
    "The last important MadMiner class is the `Smithy`. From all the data we have in the HDF5 file now, it extracts unweighted samples including the augmented data (\"gold\") that is needed as training and evaluation data for the Machine Learning algorithms."
   ]
  },
  {
   "cell_type": "code",
   "execution_count": 4,
   "metadata": {},
   "outputs": [
    {
     "name": "stderr",
     "output_type": "stream",
     "text": [
      "11:57  \n",
      "11:57  ------------------------------------------------------------\n",
      "11:57  |                                                          |\n",
      "11:57  |  MadMiner                                                |\n",
      "11:57  |                                                          |\n",
      "11:57  |  Version from July 19, 2018                              |\n",
      "11:57  |                                                          |\n",
      "11:57  |           Johann Brehmer, Kyle Cranmer, and Felix Kling  |\n",
      "11:57  |                                                          |\n",
      "11:57  ------------------------------------------------------------\n",
      "11:57  \n",
      "11:57  Loading data from data/madminer_example_shuffled.h5\n",
      "11:57  Found 2 parameters:\n",
      "11:57     CWL2 (LHA: dim6 2, maximal power in squared ME: 2, range: (-10.0, 10.0))\n",
      "11:57     CPWL2 (LHA: dim6 5, maximal power in squared ME: 2, range: (-10.0, 10.0))\n",
      "11:57  Found 6 benchmarks:\n",
      "11:57     sm: CWL2 = 0.00e+00, CPWL2 = 0.00e+00\n",
      "11:57     bsm: CWL2 = 1.00, CPWL2 = 0.00e+00\n",
      "11:57     morphing_basis_vector_2: CWL2 = -7.66e+00, CPWL2 = 2.97\n",
      "11:57     morphing_basis_vector_3: CWL2 = -7.62e+00, CPWL2 = -7.49e+00\n",
      "11:57     morphing_basis_vector_4: CWL2 = -7.95e+00, CPWL2 = -9.97e-01\n",
      "11:57     morphing_basis_vector_5: CWL2 = -2.11e+00, CPWL2 = 4.87\n",
      "11:57  Found 4 observables: pt_e1, pt_mu1, delta_eta_ll, delta_phi_ll\n",
      "11:57  Found 5172 events\n",
      "11:57  Found morphing setup with 6 components\n"
     ]
    }
   ],
   "source": [
    "smithy = Refinery('data/madminer_example_shuffled.h5', debug=True)"
   ]
  },
  {
   "cell_type": "markdown",
   "metadata": {},
   "source": [
    "The `Refinery` class defines four different high-level functions to generate train or test samples:\n",
    "- `extract_samples_train_plain()`, which only saves observations x, for instance for histograms or ABC;\n",
    "- `extract_samples_train_local()` for methods like SALLY and SALLINO;\n",
    "- `extract_samples_train_ratio()` for techniques like CARL, ROLR, CASCAL, and RASCAL; and\n",
    "- `extract_samples_test()` for the evaluation of any method.\n",
    "\n",
    "For the arguments `theta`, `theta0`, or `theta1`, you can use the helper functions `constant_benchmark_theta()`, `multiple_benchmark_thetas()`, `constant_morphing_theta()`, `multiple_morphing_thetas()`, and `random_morphing_thetas()`, all defined in the `smithy` module."
   ]
  },
  {
   "cell_type": "code",
   "execution_count": 5,
   "metadata": {},
   "outputs": [
    {
     "name": "stderr",
     "output_type": "stream",
     "text": [
      "11:57  Extracting training sample for local score regression. Sampling and score evaluation according to ('theta', array([1.e-05, 0.e+00]))\n"
     ]
    }
   ],
   "source": [
    "x, theta, t_xz = smithy.extract_samples_train_local(\n",
    "    theta=constant_morphing_theta(np.array([1.e-5,0.])),\n",
    "    n_samples=100000,\n",
    "    folder='./data/samples',\n",
    "    filename='train_sally'\n",
    ")"
   ]
  },
  {
   "cell_type": "code",
   "execution_count": null,
   "metadata": {},
   "outputs": [],
   "source": [
    "x, theta0, theta1, y, r_xz, t_xz = smithy.extract_samples_train_ratio(\n",
    "    theta0=random_morphing_thetas(None, [('gaussian', 0., 0.5), ('flat', -0.8, 0.8)]),\n",
    "    theta1=constant_benchmark_theta('sm'),\n",
    "    n_samples=100000,\n",
    "    folder='./data/samples',\n",
    "    filename='train_rascal'\n",
    ")"
   ]
  },
  {
   "cell_type": "code",
   "execution_count": null,
   "metadata": {},
   "outputs": [],
   "source": [
    "x, theta = smithy.extract_samples_test(\n",
    "    theta=constant_benchmark_theta('sm'),\n",
    "    n_samples=100000,\n",
    "    folder='./data/samples',\n",
    "    filename='test'\n",
    ")"
   ]
  },
  {
   "cell_type": "markdown",
   "metadata": {},
   "source": [
    "Let's have a look at some distributions and correlations in this test sample:"
   ]
  },
  {
   "cell_type": "code",
   "execution_count": null,
   "metadata": {},
   "outputs": [],
   "source": [
    "import corner\n",
    "\n",
    "labels = [r'$p_{T,e}$ [GeV]', r'$p_{T,\\mu}$ [GeV]', r'$\\Delta \\eta_{\\ell\\ell}$', r'$\\Delta \\phi_{\\ell\\ell}$']\n",
    "ranges = [(0., 500.), (0., 500.), (0.,3.), (0.,6.2)]\n",
    "\n",
    "_ = corner.corner(x, color='C0', labels=labels, range=ranges)"
   ]
  },
  {
   "cell_type": "code",
   "execution_count": null,
   "metadata": {},
   "outputs": [],
   "source": []
  }
 ],
 "metadata": {
  "kernelspec": {
   "display_name": "Python 2",
   "language": "python",
   "name": "python2"
  },
  "language_info": {
   "codemirror_mode": {
    "name": "ipython",
    "version": 2
   },
   "file_extension": ".py",
   "mimetype": "text/x-python",
   "name": "python",
   "nbconvert_exporter": "python",
   "pygments_lexer": "ipython2",
   "version": "2.7.15"
  }
 },
 "nbformat": 4,
 "nbformat_minor": 2
}
