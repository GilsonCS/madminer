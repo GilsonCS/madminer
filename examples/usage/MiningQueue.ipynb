{
 "cells": [
  {
   "cell_type": "markdown",
   "metadata": {},
   "source": [
    "# MadMiner : Queue of Miners "
   ]
  },
  {
   "cell_type": "markdown",
   "metadata": {},
   "source": [
    "This file will be used to quickly generate lots of events.  "
   ]
  },
  {
   "cell_type": "markdown",
   "metadata": {},
   "source": [
    "## 0. Setup Environment"
   ]
  },
  {
   "cell_type": "code",
   "execution_count": 1,
   "metadata": {},
   "outputs": [],
   "source": [
    "#Set right path to MadMiner\n",
    "import sys\n",
    "import os\n",
    "delphes_src_path = \"/Users/felixkling/Documents/GitHub/delphesminer\"\n",
    "sys.path.append(delphes_src_path)\n",
    "madminer_src_path = \"/Users/felixkling/Documents/GitHub/madminer\"\n",
    "sys.path.append(madminer_src_path)\n",
    "\n",
    "#Import MadMiner\n",
    "from __future__ import absolute_import, division, print_function, unicode_literals\n",
    "\n",
    "import numpy as np\n",
    "from matplotlib import pyplot as plt\n",
    "% matplotlib inline\n",
    "\n",
    "from madminer.goldmine import GoldMine\n",
    "from madminer.refinery import combine_and_shuffle\n",
    "from madminer.refinery import Refinery\n",
    "from madminer.refinery import constant_benchmark_theta, multiple_benchmark_thetas\n",
    "from madminer.refinery import constant_morphing_theta, multiple_morphing_thetas, random_morphing_thetas\n",
    "from madminer.tools.plots import plot_2d_morphing_basis\n",
    "from delphesprocessor.delphesprocessor import DelphesProcessor\n",
    "\n",
    "#Set Path to MG5 directory\n",
    "mg_dir = '/Users/felixkling/work/MG5_aMC_v2_6_2'"
   ]
  },
  {
   "cell_type": "markdown",
   "metadata": {},
   "source": [
    "## 1. Define parameter space"
   ]
  },
  {
   "cell_type": "code",
   "execution_count": 2,
   "metadata": {},
   "outputs": [
    {
     "name": "stderr",
     "output_type": "stream",
     "text": [
      "15:55  \n",
      "15:55  ------------------------------------------------------------\n",
      "15:55  |                                                          |\n",
      "15:55  |  MadMiner                                                |\n",
      "15:55  |                                                          |\n",
      "15:55  |  Version from July 19, 2018                              |\n",
      "15:55  |                                                          |\n",
      "15:55  |           Johann Brehmer, Kyle Cranmer, and Felix Kling  |\n",
      "15:55  |                                                          |\n",
      "15:55  ------------------------------------------------------------\n",
      "15:55  \n",
      "15:55  Added parameter CWL2 (LHA: dim6 2, maximal power in squared ME: 2, range: (-10.0, 10.0))\n",
      "15:55  Added parameter CPWL2 (LHA: dim6 5, maximal power in squared ME: 2, range: (-10.0, 10.0))\n"
     ]
    }
   ],
   "source": [
    "#Initialize GoldMiner\n",
    "miner = GoldMine()\n",
    "\n",
    "#Define Parameter Space\n",
    "miner.add_parameter(\n",
    "    lha_block='dim6',\n",
    "    lha_id=2,\n",
    "    parameter_name='CWL2',\n",
    "    morphing_max_power=2,\n",
    "    parameter_range=(-10.,10.)\n",
    ")\n",
    "miner.add_parameter(\n",
    "    lha_block='dim6',\n",
    "    lha_id=5,\n",
    "    parameter_name='CPWL2',\n",
    "    morphing_max_power=2,\n",
    "    parameter_range=(-10.,10.)\n",
    ")"
   ]
  },
  {
   "cell_type": "markdown",
   "metadata": {},
   "source": [
    "## 2. Define benchmark points (evaluation points for |M|^2)"
   ]
  },
  {
   "cell_type": "markdown",
   "metadata": {},
   "source": [
    "I now define all benchmarks by hand - to be able to regenerate more events with same benchmarks later"
   ]
  },
  {
   "cell_type": "code",
   "execution_count": 3,
   "metadata": {},
   "outputs": [
    {
     "name": "stderr",
     "output_type": "stream",
     "text": [
      "15:55  Added benchmark sm: CWL2 = 0.00e+00, CPWL2 = 0.00e+00)\n",
      "15:55  Added benchmark bsm1: CWL2 = 4.00, CPWL2 = 0.00e+00)\n",
      "15:55  Added benchmark bsm2: CWL2 = -7.64e+00, CPWL2 = -7.01e+00)\n",
      "15:55  Added benchmark bsm3: CWL2 = 3.29, CPWL2 = -9.86e+00)\n",
      "15:55  Added benchmark bsm4: CWL2 = -8.68e+00, CPWL2 = 6.87)\n",
      "15:55  Added benchmark bsm5: CWL2 = 8.08, CPWL2 = 9.50)\n",
      "15:55  Optimizing basis for morphing\n",
      "15:55  Added benchmark sm: CWL2 = 0.00e+00, CPWL2 = 0.00e+00)\n",
      "15:55  Added benchmark bsm1: CWL2 = 4.00, CPWL2 = 0.00e+00)\n",
      "15:55  Added benchmark bsm2: CWL2 = -7.64e+00, CPWL2 = -7.01e+00)\n",
      "15:55  Added benchmark bsm3: CWL2 = 3.29, CPWL2 = -9.86e+00)\n",
      "15:55  Added benchmark bsm4: CWL2 = -8.68e+00, CPWL2 = 6.87)\n",
      "15:55  Added benchmark bsm5: CWL2 = 8.08, CPWL2 = 9.50)\n",
      "15:55  Saving setup (including morphing) to data/madminer_example.h5\n"
     ]
    },
    {
     "data": {
      "image/png": "[encoded data removed]",
      "text/plain": [
       "<matplotlib.figure.Figure at 0x1041b8ed0>"
      ]
     },
     "metadata": {},
     "output_type": "display_data"
    }
   ],
   "source": [
    "#Add Benchmark by hand\n",
    "miner.add_benchmark(\n",
    "    {'CWL2':0., 'CPWL2':0.},\n",
    "    'sm'\n",
    ")\n",
    "miner.add_benchmark(\n",
    "    {'CWL2':4., 'CPWL2':0.},\n",
    "    'bsm1'\n",
    ")\n",
    "miner.add_benchmark(\n",
    "    {'CWL2':-7.64, 'CPWL2':-7.01},\n",
    "    'bsm2'\n",
    ")\n",
    "miner.add_benchmark(\n",
    "    {'CWL2':3.29, 'CPWL2':-9.86},\n",
    "    'bsm3'\n",
    ")\n",
    "miner.add_benchmark(\n",
    "    {'CWL2':-8.68, 'CPWL2':6.87},\n",
    "    'bsm4'\n",
    ")\n",
    "miner.add_benchmark(\n",
    "    {'CWL2':8.08, 'CPWL2':9.50},\n",
    "    'bsm5'\n",
    ")\n",
    "\n",
    "#Set Benchmarks\n",
    "miner.set_benchmarks_from_morphing(\n",
    "    keep_existing_benchmarks=True,\n",
    "    n_trials=1000,\n",
    "    max_overall_power=2\n",
    ")\n",
    "\n",
    "#Plot Benchmarks\n",
    "fig = plot_2d_morphing_basis(\n",
    "    miner.morpher,\n",
    "    xlabel=r'$c_{W} / \\Lambda^2$ [TeV$^{-2}$]',\n",
    "    ylabel=r'$c_{\\tilde{W}} / \\Lambda^2$ [TeV$^{-2}$]',\n",
    "    xrange=(-10.,10),\n",
    "    yrange=(-10.,10.)\n",
    ")\n",
    "\n",
    "#Save Settings\n",
    "miner.save('data/madminer_example.h5')"
   ]
  },
  {
   "cell_type": "markdown",
   "metadata": {},
   "source": [
    "## 3. Save settings and run MadGraph + Delphes"
   ]
  },
  {
   "cell_type": "markdown",
   "metadata": {},
   "source": [
    "Run everything"
   ]
  },
  {
   "cell_type": "code",
   "execution_count": 5,
   "metadata": {},
   "outputs": [
    {
     "name": "stderr",
     "output_type": "stream",
     "text": [
      "15:59  Generating MadGraph process folder from cards/proc_card.dat at ./MG_process\n",
      "15:59  Creating param and reweight cards in ./MG_process\n",
      "15:59  Starting MadGraph and Pythia in ./MG_process\n",
      "15:59  \n",
      "15:59  ------------------------------------------------------------\n",
      "15:59  |                                                          |\n",
      "15:59  |  DelphesProcessor                                        |\n",
      "15:59  |                                                          |\n",
      "15:59  |  Version from July 19, 2018                              |\n",
      "15:59  |                                                          |\n",
      "15:59  |           Johann Brehmer, Kyle Cranmer, and Felix Kling  |\n",
      "15:59  |                                                          |\n",
      "15:59  ------------------------------------------------------------\n",
      "15:59  \n",
      "15:59  Hi! How are you today?\n",
      "15:59  Adding HepMC sample at MG_process/Events/run_01/tag_1_pythia8_events.hepmc.gz\n",
      "15:59  Running Delphes at /Users/felixkling/work/MG5_aMC_v2_6_2/Delphes\n",
      "15:59  Adding required observable pt_e1 = e[0].pt\n",
      "15:59  Adding required observable pt_mu1 = mu[0].pt\n",
      "15:59  Adding required observable delta_eta_ll = abs(e[0].eta - mu[0].eta)\n",
      "15:59  Adding required observable delta_phi_ll = abs(e[0].phi() - mu[0].phi())\n",
      "15:59  Analysing Delphes sample MG_process/Events/run_01/tag_1_pythia8_events_delphes.root\n",
      "15:59  Requiring existence of observable pt_e1: 65 events pass, 35 events removed\n",
      "15:59  Requiring existence of observable pt_mu1: 78 events pass, 22 events removed\n",
      "15:59  Requiring existence of observable delta_eta_ll: 53 events pass, 47 events removed\n",
      "15:59  Requiring existence of observable delta_phi_ll: 53 events pass, 47 events removed\n",
      "15:59  Loading HDF5 data from data/madminer_example.h5 and saving file to data/madminer_example_with_data_run0.h5\n",
      "15:59  Generating MadGraph process folder from cards/proc_card.dat at ./MG_process\n",
      "15:59  Creating param and reweight cards in ./MG_process\n",
      "15:59  Starting MadGraph and Pythia in ./MG_process\n",
      "16:00  \n",
      "16:00  ------------------------------------------------------------\n",
      "16:00  |                                                          |\n",
      "16:00  |  DelphesProcessor                                        |\n",
      "16:00  |                                                          |\n",
      "16:00  |  Version from July 19, 2018                              |\n",
      "16:00  |                                                          |\n",
      "16:00  |           Johann Brehmer, Kyle Cranmer, and Felix Kling  |\n",
      "16:00  |                                                          |\n",
      "16:00  ------------------------------------------------------------\n",
      "16:00  \n",
      "16:00  Hi! How are you today?\n",
      "16:00  Adding HepMC sample at MG_process/Events/run_01/tag_1_pythia8_events.hepmc.gz\n",
      "16:00  Running Delphes at /Users/felixkling/work/MG5_aMC_v2_6_2/Delphes\n",
      "16:00  Adding required observable pt_e1 = e[0].pt\n",
      "16:00  Adding required observable pt_mu1 = mu[0].pt\n",
      "16:00  Adding required observable delta_eta_ll = abs(e[0].eta - mu[0].eta)\n",
      "16:00  Adding required observable delta_phi_ll = abs(e[0].phi() - mu[0].phi())\n",
      "16:00  Analysing Delphes sample MG_process/Events/run_01/tag_1_pythia8_events_delphes.root\n",
      "16:00  Requiring existence of observable pt_e1: 67 events pass, 33 events removed\n",
      "16:00  Requiring existence of observable pt_mu1: 87 events pass, 13 events removed\n",
      "16:00  Requiring existence of observable delta_eta_ll: 59 events pass, 41 events removed\n",
      "16:00  Requiring existence of observable delta_phi_ll: 59 events pass, 41 events removed\n",
      "16:00  Loading HDF5 data from data/madminer_example.h5 and saving file to data/madminer_example_with_data_run1.h5\n"
     ]
    }
   ],
   "source": [
    "#Set number of runs\n",
    "nruns = 2\n",
    "\n",
    "for counter in range (1, nruns+1):\n",
    "    #Run MG5/Reweight/Pythia\n",
    "    miner.run(mg_directory=mg_dir,\n",
    "              proc_card_file='cards/proc_card.dat',\n",
    "              param_card_template_file='cards/param_card_template.dat',\n",
    "              reweight_card_template_file='cards/reweight_card_template.dat',\n",
    "              run_card_file='cards/run_card.dat',\n",
    "              pythia8_card_file='cards/pythia8_card.dat',\n",
    "              sample_benchmark='sm',\n",
    "              initial_command='source ~/.bashrc'\n",
    "          )\n",
    "    \n",
    "    #Initialize DelphesProcessor\n",
    "    dm = DelphesProcessor()\n",
    "    \n",
    "    #Set hepmc file \n",
    "    dm.add_hepmc_sample('MG_process/Events/run_01/tag_1_pythia8_events.hepmc.gz')\n",
    "    \n",
    "    #Run Delphes\n",
    "    dm.run_delphes(delphes_directory=mg_dir + '/Delphes',\n",
    "               delphes_card='cards/delphes_card.dat',\n",
    "               initial_command='source ~/.bashrc')\n",
    "    \n",
    "    #Define observables \n",
    "    dm.add_observable('pt_e1', 'e[0].pt', required=True)\n",
    "    dm.add_observable('pt_mu1', 'mu[0].pt', required=True)\n",
    "    dm.add_observable('delta_eta_ll', 'abs(e[0].eta - mu[0].eta)', required=True)\n",
    "    dm.add_observable('delta_phi_ll', 'abs(e[0].phi() - mu[0].phi())', required=True)\n",
    "    \n",
    "    #Extract all these observables from the Delphes ROOT file generated before:\n",
    "    dm.analyse_delphes_samples()\n",
    "    \n",
    "    #The values of the observables and the weights are then saved in the HDF5 file\n",
    "    dm.save('data/madminer_example_with_data_run'+`counter`+'.h5', 'data/madminer_example.h5')"
   ]
  },
  {
   "cell_type": "markdown",
   "metadata": {},
   "source": [
    "## 5. Combine and shuffle different event samples"
   ]
  },
  {
   "cell_type": "markdown",
   "metadata": {},
   "source": [
    "To reduce disk usage, you can generate several small event samples with the steps given above, and combine them now. Note that (for now) it is essential that all of them are generated with the same setup, including the same benchmark points / morphing basis!"
   ]
  },
  {
   "cell_type": "code",
   "execution_count": 7,
   "metadata": {},
   "outputs": [
    {
     "name": "stderr",
     "output_type": "stream",
     "text": [
      "16:03  \n",
      "16:03  ------------------------------------------------------------\n",
      "16:03  |                                                          |\n",
      "16:03  |  MadMiner                                                |\n",
      "16:03  |                                                          |\n",
      "16:03  |  Version from July 19, 2018                              |\n",
      "16:03  |                                                          |\n",
      "16:03  |           Johann Brehmer, Kyle Cranmer, and Felix Kling  |\n",
      "16:03  |                                                          |\n",
      "16:03  ------------------------------------------------------------\n",
      "16:03  \n",
      "16:03  Careful: this tool assumes that all samples are generated with the same setup, including identical benchmarks (and thus morphing setup). If it is used with samples with different settings, there will be wrong results! There are no explicit cross checks in place yet.\n",
      "16:03  Copying setup from data/madminer_example_with_data_run0.h5 to data/madminer_example_shuffled.h5\n",
      "16:03  Loading samples from file 1 / 2 at data/madminer_example_with_data_run0.h5\n",
      "16:03  Loading samples from file 2 / 2 at data/madminer_example_with_data_run1.h5\n"
     ]
    }
   ],
   "source": [
    "combine_and_shuffle(\n",
    "    ['data/madminer_example_with_data_run0.h5','data/madminer_example_with_data_run1.h5'],\n",
    "    'data/madminer_example_shuffled.h5'\n",
    ")"
   ]
  }
 ],
 "metadata": {
  "kernelspec": {
   "display_name": "Python 2",
   "language": "python",
   "name": "python2"
  },
  "language_info": {
   "codemirror_mode": {
    "name": "ipython",
    "version": 2
   },
   "file_extension": ".py",
   "mimetype": "text/x-python",
   "name": "python",
   "nbconvert_exporter": "python",
   "pygments_lexer": "ipython2",
   "version": "2.7.15"
  }
 },
 "nbformat": 4,
 "nbformat_minor": 2
}
