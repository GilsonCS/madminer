{
 "cells": [
  {
   "cell_type": "code",
   "execution_count": 1,
   "metadata": {},
   "outputs": [],
   "source": [
    "from __future__ import absolute_import, division, print_function, unicode_literals\n",
    "\n",
    "import numpy as np\n",
    "from matplotlib import pyplot as plt\n",
    "% matplotlib inline\n",
    "\n",
    "from madminer import GoldMine, Smithy\n",
    "from madminer.smithy import constant_benchmark_theta, multiple_benchmark_thetas\n",
    "from madminer.smithy import constant_morphing_theta, multiple_morphing_thetas, random_morphing_thetas\n",
    "from madminer.tools.plots import plot_2d_morphing_basis\n",
    "from delphesminer import DelphesMiner"
   ]
  },
  {
   "cell_type": "code",
   "execution_count": 2,
   "metadata": {},
   "outputs": [
    {
     "name": "stderr",
     "output_type": "stream",
     "text": [
      "11:07  \n",
      "11:07  ------------------------------------------------------------\n",
      "11:07  |                                                          |\n",
      "11:07  |  MadMiner                                                |\n",
      "11:07  |                                                          |\n",
      "11:07  |  Version from July 5, 2018                               |\n",
      "11:07  |                                                          |\n",
      "11:07  |           Johann Brehmer, Kyle Cranmer, and Felix Kling  |\n",
      "11:07  |                                                          |\n",
      "11:07  ------------------------------------------------------------\n",
      "11:07  \n",
      "11:07  Hi! How are you today?\n",
      "11:07  Added parameter fW (LHA: ANOINPUTS 3, maximal power in squared ME: 3, range: (-1.0, 1.0))\n",
      "11:07  Added parameter fWW (LHA: ANOINPUTS 7, maximal power in squared ME: 5, range: (-1.0, 1.0))\n"
     ]
    }
   ],
   "source": [
    "miner = GoldMine()\n",
    "\n",
    "miner.add_parameter(\n",
    "    lha_block='ANOINPUTS',\n",
    "    lha_id=3,\n",
    "    parameter_name='fW',\n",
    "    morphing_max_power=3,\n",
    "    parameter_range=(-1.,1.),\n",
    "    param_card_transform=lambda x : 1.64949627e-05*x,\n",
    ")\n",
    "miner.add_parameter(\n",
    "    lha_block='ANOINPUTS',\n",
    "    lha_id=7,\n",
    "    parameter_name='fWW',\n",
    "    morphing_max_power=5,\n",
    "    parameter_range=(-1.,1.),\n",
    "    param_card_transform=lambda x : 1.64949627e-05*x,\n",
    ")"
   ]
  },
  {
   "cell_type": "code",
   "execution_count": 5,
   "metadata": {},
   "outputs": [
    {
     "name": "stderr",
     "output_type": "stream",
     "text": [
      "11:07  Optimizing basis for morphing\n",
      "11:07  Added benchmark morphing_basis_vector_0: fW = -3.95e-01, fWW = 0.72)\n",
      "11:07  Added benchmark morphing_basis_vector_1: fW = 0.03, fWW = 0.51)\n",
      "11:07  Added benchmark morphing_basis_vector_2: fW = 0.13, fWW = -5.04e-01)\n",
      "11:07  Added benchmark morphing_basis_vector_3: fW = -8.99e-02, fWW = 0.10)\n",
      "11:07  Added benchmark morphing_basis_vector_4: fW = -3.30e-01, fWW = -4.26e-01)\n",
      "11:07  Added benchmark morphing_basis_vector_5: fW = -7.78e-01, fWW = -8.63e-01)\n",
      "11:07  Added benchmark morphing_basis_vector_6: fW = 0.33, fWW = -9.11e-01)\n",
      "11:07  Added benchmark morphing_basis_vector_7: fW = 0.77, fWW = 0.68)\n",
      "11:07  Added benchmark morphing_basis_vector_8: fW = 0.39, fWW = 0.15)\n",
      "11:07  Added benchmark morphing_basis_vector_9: fW = -8.00e-01, fWW = 0.07)\n",
      "11:07  Added benchmark morphing_basis_vector_10: fW = -5.04e-01, fWW = 0.98)\n",
      "11:07  Added benchmark morphing_basis_vector_11: fW = -2.62e-01, fWW = 0.69)\n",
      "11:07  Added benchmark morphing_basis_vector_12: fW = 0.79, fWW = -9.69e-01)\n",
      "11:07  Added benchmark morphing_basis_vector_13: fW = 0.37, fWW = 0.85)\n",
      "11:07  Added benchmark morphing_basis_vector_14: fW = -3.43e-01, fWW = -3.35e-01)\n",
      "11:07  Added benchmark morphing_basis_vector_15: fW = 0.88, fWW = -2.64e-01)\n",
      "11:07  Added benchmark morphing_basis_vector_16: fW = -6.03e-01, fWW = -2.07e-01)\n",
      "11:07  Added benchmark morphing_basis_vector_17: fW = -5.32e-01, fWW = -9.66e-01)\n",
      "11:07  Added benchmark morphing_basis_vector_18: fW = -9.91e-01, fWW = 0.16)\n",
      "11:07  Added benchmark morphing_basis_vector_19: fW = -7.41e-01, fWW = 0.52)\n",
      "11:07  Added benchmark morphing_basis_vector_20: fW = 0.11, fWW = 0.97)\n",
      "11:07  Added benchmark morphing_basis_vector_21: fW = 0.97, fWW = 0.39)\n",
      "11:07  Added benchmark morphing_basis_vector_22: fW = 0.46, fWW = -5.49e-01)\n",
      "11:07  Added benchmark morphing_basis_vector_23: fW = -5.12e-01, fWW = 0.16)\n"
     ]
    }
   ],
   "source": [
    "miner.set_benchmarks_from_morphing(\n",
    "    keep_existing_benchmarks=False,\n",
    "    n_bases=1,\n",
    "    n_trials=100,\n",
    "    n_test_thetas=100,\n",
    "    max_overall_power=100\n",
    ")"
   ]
  },
  {
   "cell_type": "code",
   "execution_count": 6,
   "metadata": {},
   "outputs": [
    {
     "data": {
      "text/plain": [
       "array([[0, 0],\n",
       "       [0, 1],\n",
       "       [0, 2],\n",
       "       [0, 3],\n",
       "       [0, 4],\n",
       "       [0, 5],\n",
       "       [1, 0],\n",
       "       [1, 1],\n",
       "       [1, 2],\n",
       "       [1, 3],\n",
       "       [1, 4],\n",
       "       [1, 5],\n",
       "       [2, 0],\n",
       "       [2, 1],\n",
       "       [2, 2],\n",
       "       [2, 3],\n",
       "       [2, 4],\n",
       "       [2, 5],\n",
       "       [3, 0],\n",
       "       [3, 1],\n",
       "       [3, 2],\n",
       "       [3, 3],\n",
       "       [3, 4],\n",
       "       [3, 5]])"
      ]
     },
     "execution_count": 6,
     "metadata": {},
     "output_type": "execute_result"
    }
   ],
   "source": [
    "miner.morpher.components"
   ]
  },
  {
   "cell_type": "code",
   "execution_count": null,
   "metadata": {},
   "outputs": [],
   "source": []
  }
 ],
 "metadata": {
  "kernelspec": {
   "display_name": "Python [conda env:higgs_inference]",
   "language": "python",
   "name": "conda-env-higgs_inference-py"
  },
  "language_info": {
   "codemirror_mode": {
    "name": "ipython",
    "version": 3
   },
   "file_extension": ".py",
   "mimetype": "text/x-python",
   "name": "python",
   "nbconvert_exporter": "python",
   "pygments_lexer": "ipython3",
   "version": "3.6.4"
  }
 },
 "nbformat": 4,
 "nbformat_minor": 2
}
