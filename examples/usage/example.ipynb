{
 "cells": [
  {
   "cell_type": "markdown",
   "metadata": {},
   "source": [
    "# MadMiner example"
   ]
  },
  {
   "cell_type": "markdown",
   "metadata": {},
   "source": [
    "In this tutorial we'll demonstrate how to use MadMiner to generate train and test samples for the ML methods introduced in the following papers:\n",
    "- J. Brehmer, K. Cranmer, G. Louppe, and J. Pavez: [\"Constraining Effective Field Theories With Machine Learning\"](https://arxiv.org/abs/1805.00013)\n",
    "- J. Brehmer, K. Cranmer, G. Louppe, and J. Pavez: [\"A Guide to Constraining Effective Field Theories With Machine Learning\"](https://arxiv.org/abs/1805.00020)\n",
    "- J. Brehmer, G. Louppe, J. Pavez, and K. Cranmer: [\"Mining gold from implicit models to improve likelihood-free inference\"](https://arxiv.org/abs/1805.12244)\n",
    "- M. Stoye, J. Brehmer, G. Louppe, J. Pavez, and K. Cranmer: [\"Likelihood-free inference with an improved cross-entropy estimator\"](https://arxiv.org/abs/1808.00973)"
   ]
  },
  {
   "cell_type": "markdown",
   "metadata": {},
   "source": [
    "Before you execute this notebook, make sure you have running installations of MadGraph, Pythia, and Delphes. Note that at least for now, the MG-Pythia interface and Delphes require custom patches (available upon request). In addition, MadMiner and [DelphesMiner](https://github.com/johannbrehmer/delphesminer) have to be in your PYTHONPATH."
   ]
  },
  {
   "cell_type": "code",
   "execution_count": 25,
   "metadata": {},
   "outputs": [],
   "source": [
    "from __future__ import absolute_import, division, print_function, unicode_literals\n",
    "\n",
    "import numpy as np\n",
    "from matplotlib import pyplot as plt\n",
    "% matplotlib inline\n",
    "\n",
    "from madminer.goldmine import GoldMine\n",
    "from madminer.tools.plots import plot_2d_morphing_basis\n",
    "\n",
    "from delphesprocessor.delphesprocessor import DelphesProcessor\n",
    "\n",
    "from madminer.refinery import combine_and_shuffle\n",
    "from madminer.refinery import Refinery\n",
    "from madminer.refinery import constant_benchmark_theta, multiple_benchmark_thetas\n",
    "from madminer.refinery import constant_morphing_theta, multiple_morphing_thetas, random_morphing_thetas\n",
    "\n",
    "from forge.forge import Forge"
   ]
  },
  {
   "cell_type": "markdown",
   "metadata": {},
   "source": [
    "Please enter here the path to your MG5 root directory. This notebook assumes that you installed Delphes and Pythia through MG5."
   ]
  },
  {
   "cell_type": "code",
   "execution_count": 2,
   "metadata": {},
   "outputs": [],
   "source": [
    "mg_dir = '/Users/johannbrehmer/work/projects/madminer/MG5_aMC_v2_6_2'"
   ]
  },
  {
   "cell_type": "markdown",
   "metadata": {},
   "source": [
    "## 1. Define parameter space"
   ]
  },
  {
   "cell_type": "markdown",
   "metadata": {},
   "source": [
    "After creating a `GoldMine` instance, the first important step is the definition of the parameter space. Each model parameter is characterized by a name as well as the LHA block and ID.\n",
    "\n",
    "If morphing is used, one also has to specify the maximal power with which the parameter contributes to the squared matrix element. For instance, a parameter that contributes only to one vertex, will typically have `morphing_max_power=2`, while a parameter that contributes to two vertices usually has `morphing_max_power=4`. Exceptions arise for instance when the interference effects between the SM and dimension-six operators are modelled, but the square of the dimension-six amplitude (subleading in 1/Lambda) is not taken into account, in which case `morphing_max_power=1`. Finally, the `parameter_range` argument defines the range of parameter values that are used for the automatic optimization of the morphing basis."
   ]
  },
  {
   "cell_type": "code",
   "execution_count": 26,
   "metadata": {},
   "outputs": [
    {
     "name": "stderr",
     "output_type": "stream",
     "text": [
      "10:29  \n",
      "10:29  ------------------------------------------------------------\n",
      "10:29  |                                                          |\n",
      "10:29  |  MadMiner                                                |\n",
      "10:29  |                                                          |\n",
      "10:29  |  Version from July 31, 2018                              |\n",
      "10:29  |                                                          |\n",
      "10:29  |           Johann Brehmer, Kyle Cranmer, and Felix Kling  |\n",
      "10:29  |                                                          |\n",
      "10:29  ------------------------------------------------------------\n",
      "10:29  \n",
      "10:29  Added parameter CWL2 (LHA: dim6 2, maximal power in squared ME: 2, range: (-50.0, 50.0))\n",
      "10:29  Added parameter CPWL2 (LHA: dim6 5, maximal power in squared ME: 2, range: (-50.0, 50.0))\n"
     ]
    }
   ],
   "source": [
    "miner = GoldMine()\n",
    "\n",
    "miner.add_parameter(\n",
    "    lha_block='dim6',\n",
    "    lha_id=2,\n",
    "    parameter_name='CWL2',\n",
    "    morphing_max_power=2,\n",
    "    parameter_range=(-50.,50.)\n",
    ")\n",
    "miner.add_parameter(\n",
    "    lha_block='dim6',\n",
    "    lha_id=5,\n",
    "    parameter_name='CPWL2',\n",
    "    morphing_max_power=2,\n",
    "    parameter_range=(-50.,50.)\n",
    ")"
   ]
  },
  {
   "cell_type": "markdown",
   "metadata": {},
   "source": [
    "## 2. Define benchmark points (evaluation points for |M|^2)"
   ]
  },
  {
   "cell_type": "markdown",
   "metadata": {},
   "source": [
    "The next step is the definition of all the points at which the weights (squared matrix elements) should be evaluated by MadGraph. We call these points \"benchmarks\"."
   ]
  },
  {
   "cell_type": "markdown",
   "metadata": {},
   "source": [
    "### 2a. Set benchmarks by hand"
   ]
  },
  {
   "cell_type": "markdown",
   "metadata": {},
   "source": [
    "One can define benchmarks by hand:"
   ]
  },
  {
   "cell_type": "code",
   "execution_count": 27,
   "metadata": {},
   "outputs": [
    {
     "name": "stderr",
     "output_type": "stream",
     "text": [
      "10:29  Added benchmark sm: CWL2 = 0.00e+00, CPWL2 = 0.00e+00)\n",
      "10:29  Added benchmark w: CWL2 = 20.00, CPWL2 = 0.00e+00)\n",
      "10:29  Added benchmark w2: CWL2 = 50.00, CPWL2 = 0.00e+00)\n"
     ]
    }
   ],
   "source": [
    "miner.add_benchmark(\n",
    "    {'CWL2':0., 'CPWL2':0.},\n",
    "    'sm'\n",
    ")\n",
    "miner.add_benchmark(\n",
    "    {'CWL2':20., 'CPWL2':0.},\n",
    "    'w'\n",
    ")\n",
    "miner.add_benchmark(\n",
    "    {'CWL2':50., 'CPWL2':0.},\n",
    "    'w2'\n",
    ")"
   ]
  },
  {
   "cell_type": "markdown",
   "metadata": {},
   "source": [
    "### 2b. Benchmarks for morphing"
   ]
  },
  {
   "cell_type": "markdown",
   "metadata": {},
   "source": [
    "If morphing is used, the function `set_benchmarks_from_morphing` has to be called. With the option `keep_existing_benchmarks=True`, MadMiner will keep all the benchmark points defined beforehand and run a simple optimization algorithm to fix the remaining ones for the basis (which may be none). Otherwise, MadMiner will optimize the full basis and forget about all previously defined benchmark points. The argument `n_trials` determines the number of random candidate bases that the optimization algorithm goes through."
   ]
  },
  {
   "cell_type": "code",
   "execution_count": 28,
   "metadata": {
    "scrolled": true
   },
   "outputs": [
    {
     "name": "stderr",
     "output_type": "stream",
     "text": [
      "10:29  Optimizing basis for morphing\n",
      "10:29  Added benchmark sm: CWL2 = 0.00e+00, CPWL2 = 0.00e+00)\n",
      "10:29  Added benchmark w: CWL2 = 20.00, CPWL2 = 0.00e+00)\n",
      "10:29  Added benchmark w2: CWL2 = 50.00, CPWL2 = 0.00e+00)\n",
      "10:29  Added benchmark morphing_basis_vector_3: CWL2 = -3.10e+00, CPWL2 = 25.00)\n",
      "10:29  Added benchmark morphing_basis_vector_4: CWL2 = 0.41, CPWL2 = -4.71e+01)\n",
      "10:29  Added benchmark morphing_basis_vector_5: CWL2 = 47.59, CPWL2 = 41.79)\n"
     ]
    }
   ],
   "source": [
    "miner.set_benchmarks_from_morphing(\n",
    "    keep_existing_benchmarks=True,\n",
    "    n_trials=1000,\n",
    "    max_overall_power=2\n",
    ")"
   ]
  },
  {
   "cell_type": "markdown",
   "metadata": {},
   "source": [
    "Let's have a look at the resulting morphing basis and the \"morphing error\", i.e. the sum of squared morphing weights as a function of the parameter space:"
   ]
  },
  {
   "cell_type": "code",
   "execution_count": 29,
   "metadata": {},
   "outputs": [
    {
     "data": {
      "image/png": "[encoded data removed]",
      "text/plain": [
       "<matplotlib.figure.Figure at 0x114287a58>"
      ]
     },
     "metadata": {},
     "output_type": "display_data"
    }
   ],
   "source": [
    "fig = plot_2d_morphing_basis(\n",
    "    miner.morpher,\n",
    "    xlabel=r'$c_{W} / \\Lambda^2$ [TeV$^{-2}$]',\n",
    "    ylabel=r'$c_{\\tilde{W}} / \\Lambda^2$ [TeV$^{-2}$]',\n",
    "    xrange=(-60.,60),\n",
    "    yrange=(-60.,60.)\n",
    ")"
   ]
  },
  {
   "cell_type": "markdown",
   "metadata": {},
   "source": [
    "## 3. Save settings and run MadGraph"
   ]
  },
  {
   "cell_type": "markdown",
   "metadata": {},
   "source": [
    "The parameter space, benchmark points, and morphing setup are saved in a HDF5 file:"
   ]
  },
  {
   "cell_type": "code",
   "execution_count": 30,
   "metadata": {},
   "outputs": [
    {
     "name": "stderr",
     "output_type": "stream",
     "text": [
      "10:30  Saving setup (including morphing) to data/madminer_example.h5\n"
     ]
    }
   ],
   "source": [
    "miner.save('data/madminer_example.h5')"
   ]
  },
  {
   "cell_type": "markdown",
   "metadata": {},
   "source": [
    "In a next step, MadMiner starts MadGraph and Pythia to generate events and calculate the weights. You have to provide paths to the process card, run card, param card (the entries corresponding to the parameters of interest will be automatically adapted), and an empty reweight card.\n",
    "\n",
    "The `sample_benchmark` option can be used to specify which benchmark should be used for sampling. If it is not used, MadMiner will automatically use the benchmark that was added first. Finally, if MadGraph is supposed to run in a different Python environment or requires other setup steps, you can use the `initial_command` argument."
   ]
  },
  {
   "cell_type": "code",
   "execution_count": 31,
   "metadata": {},
   "outputs": [
    {
     "name": "stderr",
     "output_type": "stream",
     "text": [
      "10:30  Generating MadGraph process folder from cards/proc_card.dat at ./MG_process\n",
      "10:30  Creating param and reweight cards in ./MG_process\n",
      "10:30  Starting MadGraph and Pythia in ./MG_process\n"
     ]
    }
   ],
   "source": [
    "miner.run(\n",
    "    mg_directory=mg_dir,\n",
    "    proc_card_file='cards/proc_card.dat',\n",
    "    param_card_template_file='cards/param_card_template.dat',\n",
    "    reweight_card_template_file='cards/reweight_card_template.dat',\n",
    "    run_card_file='cards/run_card.dat',\n",
    "    pythia8_card_file='cards/pythia8_card.dat',\n",
    "    sample_benchmark='sm',\n",
    "    initial_command='source activate python2'\n",
    ")"
   ]
  },
  {
   "cell_type": "markdown",
   "metadata": {},
   "source": [
    "## 4. Run detector simulation and extract observables"
   ]
  },
  {
   "cell_type": "markdown",
   "metadata": {},
   "source": [
    "The detector simulation and calculation of observables is not part of MadMiner. The reason is that different users might have very different requirements here: while a phenomenologist might be content with the fast detector simulation from Delphes, an experimental analysis might require the full simulation through Geant4.\n",
    "\n",
    "We provide the DelphesMiner package, which wraps around Delphes and allows for the fast extraction of observables into the HDF5 file.\n",
    "\n",
    "Any user is free to replace the DelphesMiner step with a tool of their choice. "
   ]
  },
  {
   "cell_type": "code",
   "execution_count": 32,
   "metadata": {},
   "outputs": [
    {
     "name": "stderr",
     "output_type": "stream",
     "text": [
      "10:43  \n",
      "10:43  ------------------------------------------------------------\n",
      "10:43  |                                                          |\n",
      "10:43  |  DelphesProcessor                                        |\n",
      "10:43  |                                                          |\n",
      "10:43  |  Version from July 31, 2018                              |\n",
      "10:43  |                                                          |\n",
      "10:43  |           Johann Brehmer, Kyle Cranmer, and Felix Kling  |\n",
      "10:43  |                                                          |\n",
      "10:43  ------------------------------------------------------------\n",
      "10:43  \n",
      "10:43  Hi! How are you today?\n"
     ]
    }
   ],
   "source": [
    "dm = DelphesProcessor(debug=False)"
   ]
  },
  {
   "cell_type": "markdown",
   "metadata": {},
   "source": [
    "After creating the DelphesProcessor object, one can add a number of HepMC event samples and have it run Delphes:"
   ]
  },
  {
   "cell_type": "code",
   "execution_count": 33,
   "metadata": {
    "scrolled": false
   },
   "outputs": [
    {
     "name": "stderr",
     "output_type": "stream",
     "text": [
      "10:43  Adding HepMC sample at MG_process/Events/run_01/tag_1_pythia8_events.hepmc.gz\n",
      "10:43  Running Delphes at /Users/johannbrehmer/work/projects/madminer/MG5_aMC_v2_6_2/Delphes\n"
     ]
    }
   ],
   "source": [
    "dm.add_hepmc_sample('MG_process/Events/run_01/tag_1_pythia8_events.hepmc.gz', sampled_from_benchmark='sm')\n",
    "\n",
    "dm.run_delphes(delphes_directory=mg_dir + '/Delphes',\n",
    "               delphes_card='cards/delphes_card.dat',\n",
    "               initial_command='source activate python2')"
   ]
  },
  {
   "cell_type": "markdown",
   "metadata": {},
   "source": [
    "The next step is the definition of observables through a name and a python expression. For the latter, you can use the objects `j[i]`, `e[i]`, `mu[i]`, `a[i]`, `met`, where the indices `i` refer to a ordering by the transverse momentum. All of these objects are scikit-hep [LorentzVectors](http://scikit-hep.org/api/math.html#vector-classes), see the link for a documentation of their properties.\n",
    "\n",
    "There is an optional keyword `required`. If `required=True`, we will only keep events where the observable can be parsed, i.e. all involved particles have been detected. If `required=False`, un-parseable observables will be filled with `np.nan`. NaNs in training or test data for machine learning will cause some problems, so we stick to `required=True`."
   ]
  },
  {
   "cell_type": "code",
   "execution_count": 34,
   "metadata": {},
   "outputs": [
    {
     "name": "stderr",
     "output_type": "stream",
     "text": [
      "10:46  Adding required observable pt_j1 = j[0].pt\n",
      "10:46  Adding required observable delta_phi_jj = abs(j[0].phi() - j[1].phi())\n"
     ]
    }
   ],
   "source": [
    "dm.add_observable('pt_j1', 'j[0].pt', required=True)\n",
    "#dm.add_observable('pt_j2', 'j[1].pt', required=True)\n",
    "dm.add_observable('delta_phi_jj', 'abs(j[0].phi() - j[1].phi())', required=True)\n",
    "#dm.add_observable('delta_eta_jj', 'abs(j[0].eta - j[1].eta)', required=True)\n",
    "#dm.add_observable('m_jj', '(j[0] + j[1]).m', required=True)"
   ]
  },
  {
   "cell_type": "markdown",
   "metadata": {},
   "source": [
    "The function `analyse_delphes_samples` extracts all these observables from the Delphes ROOT file(s) generated before:"
   ]
  },
  {
   "cell_type": "code",
   "execution_count": 35,
   "metadata": {},
   "outputs": [
    {
     "name": "stderr",
     "output_type": "stream",
     "text": [
      "10:46  Analysing Delphes sample MG_process/Events/run_01/tag_1_pythia8_events_delphes.root\n",
      "10:46  Requiring existence of observable pt_j1: 49857 events pass, 143 events removed\n",
      "10:46  Requiring existence of observable delta_phi_jj: 46487 events pass, 3513 events removed\n"
     ]
    }
   ],
   "source": [
    "dm.analyse_delphes_samples()"
   ]
  },
  {
   "cell_type": "markdown",
   "metadata": {},
   "source": [
    "The values of the observables and the weights are then saved in the HDF5 file. It is possible to overwrite the same file, or to leave the original file intact and save all the data into a new file as follows:"
   ]
  },
  {
   "cell_type": "code",
   "execution_count": 36,
   "metadata": {},
   "outputs": [
    {
     "name": "stderr",
     "output_type": "stream",
     "text": [
      "10:46  Loading HDF5 data from data/madminer_example.h5 and saving file to data/madminer_example_with_data.h5\n"
     ]
    }
   ],
   "source": [
    "dm.save('data/madminer_example_with_data.h5', 'data/madminer_example.h5')"
   ]
  },
  {
   "cell_type": "markdown",
   "metadata": {},
   "source": [
    "It's easy to check some (normalized) distributions at this stage"
   ]
  },
  {
   "cell_type": "code",
   "execution_count": 37,
   "metadata": {},
   "outputs": [
    {
     "data": {
      "image/png": "[encoded data removed]",
      "text/plain": [
       "<matplotlib.figure.Figure at 0x11cd03d68>"
      ]
     },
     "metadata": {},
     "output_type": "display_data"
    }
   ],
   "source": [
    "fig = plt.figure(figsize=(5,5))\n",
    "\n",
    "for label in ['sm', 'w', 'w2']:\n",
    "    plt.hist(dm.observations['pt_j1'], range=(0.,800.), bins=20, histtype='step', weights=dm.weights[label], label=label)\n",
    "    \n",
    "plt.legend()\n",
    "plt.tight_layout()\n",
    "plt.show()"
   ]
  },
  {
   "cell_type": "markdown",
   "metadata": {},
   "source": [
    "## 5. Combine and shuffle different event samples"
   ]
  },
  {
   "cell_type": "markdown",
   "metadata": {},
   "source": [
    "To reduce disk usage, you can generate several small event samples with the steps given above, and combine them now. Note that (for now) it is essential that all of them are generated with the same setup, including the same benchmark points / morphing basis!"
   ]
  },
  {
   "cell_type": "code",
   "execution_count": 38,
   "metadata": {},
   "outputs": [
    {
     "name": "stderr",
     "output_type": "stream",
     "text": [
      "10:46  \n",
      "10:46  ------------------------------------------------------------\n",
      "10:46  |                                                          |\n",
      "10:46  |  MadMiner                                                |\n",
      "10:46  |                                                          |\n",
      "10:46  |  Version from July 31, 2018                              |\n",
      "10:46  |                                                          |\n",
      "10:46  |           Johann Brehmer, Kyle Cranmer, and Felix Kling  |\n",
      "10:46  |                                                          |\n",
      "10:46  ------------------------------------------------------------\n",
      "10:46  \n",
      "10:46  Copying setup from data/madminer_example_with_data.h5 to data/madminer_example_shuffled.h5\n",
      "10:46  Loading samples from file 1 / 1 at data/madminer_example_with_data.h5\n"
     ]
    }
   ],
   "source": [
    "combine_and_shuffle(\n",
    "    ['data/madminer_example_with_data.h5'],\n",
    "    'data/madminer_example_shuffled.h5'\n",
    ")"
   ]
  },
  {
   "cell_type": "markdown",
   "metadata": {},
   "source": [
    "## 6. Refine data: Make (unweighted) training and test samples"
   ]
  },
  {
   "cell_type": "markdown",
   "metadata": {},
   "source": [
    "The next step is handled by the MadMiner class `Refinery`. From all the data we have in the HDF5 file now, it extracts unweighted samples including the augmented data (\"gold\") that is needed as training and evaluation data for the Machine Learning algorithms."
   ]
  },
  {
   "cell_type": "code",
   "execution_count": 39,
   "metadata": {},
   "outputs": [
    {
     "name": "stderr",
     "output_type": "stream",
     "text": [
      "10:46  \n",
      "10:46  ------------------------------------------------------------\n",
      "10:46  |                                                          |\n",
      "10:46  |  MadMiner                                                |\n",
      "10:46  |                                                          |\n",
      "10:46  |  Version from July 31, 2018                              |\n",
      "10:46  |                                                          |\n",
      "10:46  |           Johann Brehmer, Kyle Cranmer, and Felix Kling  |\n",
      "10:46  |                                                          |\n",
      "10:46  ------------------------------------------------------------\n",
      "10:46  \n",
      "10:46  Loading data from data/madminer_example_shuffled.h5\n",
      "10:46  Found 2 parameters:\n",
      "10:46     CWL2 (LHA: dim6 2, maximal power in squared ME: 2, range: (-50.0, 50.0))\n",
      "10:46     CPWL2 (LHA: dim6 5, maximal power in squared ME: 2, range: (-50.0, 50.0))\n",
      "10:46  Found 6 benchmarks:\n",
      "10:46     sm: CWL2 = 0.00e+00, CPWL2 = 0.00e+00\n",
      "10:46     w: CWL2 = 20.00, CPWL2 = 0.00e+00\n",
      "10:46     w2: CWL2 = 50.00, CPWL2 = 0.00e+00\n",
      "10:46     morphing_basis_vector_3: CWL2 = -3.10e+00, CPWL2 = 25.00\n",
      "10:46     morphing_basis_vector_4: CWL2 = 0.41, CPWL2 = -4.71e+01\n",
      "10:46     morphing_basis_vector_5: CWL2 = 47.59, CPWL2 = 41.79\n",
      "10:46  Found 2 observables: pt_j1, delta_phi_jj\n",
      "10:46  Found 46487 events\n",
      "10:46  Found morphing setup with 6 components\n"
     ]
    }
   ],
   "source": [
    "refinery = Refinery('data/madminer_example_shuffled.h5', debug=False)"
   ]
  },
  {
   "cell_type": "markdown",
   "metadata": {},
   "source": [
    "The `Refinery` class defines five different high-level functions to generate train or test samples:\n",
    "- `extract_samples_train_plain()`, which only saves observations x, for instance for histograms or ABC;\n",
    "- `extract_samples_train_local()` for methods like SALLY and SALLINO;\n",
    "- `extract_samples_train_ratio()` for techniques like CARL, ROLR, CASCAL, and RASCAL, when only theta0 is parameterized;\n",
    "- `extract_samples_train_more_ratios()` for the same techniques, but with both theta0 and theta1 parameterized;\n",
    "- `extract_samples_test()` for the evaluation of any method.\n",
    "\n",
    "For the arguments `theta`, `theta0`, or `theta1`, you can use the helper functions `constant_benchmark_theta()`, `multiple_benchmark_thetas()`, `constant_morphing_theta()`, `multiple_morphing_thetas()`, and `random_morphing_thetas()`, all defined in the `smithy` module."
   ]
  },
  {
   "cell_type": "code",
   "execution_count": 40,
   "metadata": {},
   "outputs": [
    {
     "name": "stderr",
     "output_type": "stream",
     "text": [
      "10:46  Extracting training sample for ratio-based methods. Numerator hypothesis: ('random', (1000, [('gaussian', 0.0, 30.0), ('gaussian', 0.0, 30.0)])), denominator hypothesis: ('benchmark', 'sm')\n"
     ]
    }
   ],
   "source": [
    "x, theta0, theta1, y, r_xz, t_xz = refinery.extract_samples_train_ratio(\n",
    "    theta0=random_morphing_thetas(1000, [('gaussian', 0., 30.), ('gaussian', 0., 30.)]),\n",
    "    theta1=constant_benchmark_theta('sm'),\n",
    "    n_samples=100000,\n",
    "    folder='./data/samples',\n",
    "    filename='train_rascal'\n",
    ")"
   ]
  },
  {
   "cell_type": "code",
   "execution_count": 41,
   "metadata": {},
   "outputs": [
    {
     "name": "stderr",
     "output_type": "stream",
     "text": [
      "10:46  Extracting training sample for ratio-based methods. Numerator hypothesis: ('random', (1000, [('gaussian', 0.0, 30.0), ('gaussian', 0.0, 30.0)])), denominator hypothesis: ('random', (1000, [('gaussian', 0.0, 30.0), ('gaussian', 0.0, 30.0)]))\n",
      "10:46  Oversampling: created 1000000 training samples from 100000 original unweighted events\n"
     ]
    }
   ],
   "source": [
    "x, theta0, theta1, y, r_xz, t_xz0, t_xz1 = refinery.extract_samples_train_more_ratios(\n",
    "    theta0=random_morphing_thetas(1000, [('gaussian', 0., 30.), ('gaussian', 0., 30.)]),\n",
    "    theta1=random_morphing_thetas(1000, [('gaussian', 0., 30.), ('gaussian', 0., 30.)]),\n",
    "    additional_thetas=[random_morphing_thetas(1000, [('gaussian', 0., 30.), ('gaussian', 0., 30.)]) for _ in range(9)],\n",
    "    n_samples=100000,\n",
    "    folder='./data/samples',\n",
    "    filename='train_multiple_rascals'\n",
    ")"
   ]
  },
  {
   "cell_type": "code",
   "execution_count": 42,
   "metadata": {
    "scrolled": true
   },
   "outputs": [
    {
     "name": "stderr",
     "output_type": "stream",
     "text": [
      "10:46  Extracting evaluation sample. Sampling according to ('benchmark', 'sm')\n",
      "10:46  Extracting evaluation sample. Sampling according to ('benchmark', 'w2')\n"
     ]
    }
   ],
   "source": [
    "x, theta = refinery.extract_samples_test(\n",
    "    theta=constant_benchmark_theta('sm'),\n",
    "    n_samples=20000,\n",
    "    folder='./data/samples',\n",
    "    filename='test'\n",
    ")\n",
    "\n",
    "x_bsm, theta_bsm = refinery.extract_samples_test(\n",
    "    theta=constant_benchmark_theta('w2'),\n",
    "    n_samples=20000,\n",
    "    folder='./data/samples',\n",
    "    filename='test_bsm'\n",
    ")"
   ]
  },
  {
   "cell_type": "markdown",
   "metadata": {},
   "source": [
    "Let's have a look at some distributions and correlations in this test sample:"
   ]
  },
  {
   "cell_type": "code",
   "execution_count": 46,
   "metadata": {},
   "outputs": [
    {
     "data": {
      "image/png": "[encoded data removed]",
      "text/plain": [
       "<matplotlib.figure.Figure at 0x113cb3710>"
      ]
     },
     "metadata": {},
     "output_type": "display_data"
    }
   ],
   "source": [
    "import corner\n",
    "\n",
    "#labels = [r'$p_{T,j1}$ [GeV]', r'$p_{T,j2}$ [GeV]', r'$\\Delta \\phi_{jj}$', r'$\\Delta \\eta_{jj}$', r'$m_{jj}$']\n",
    "#ranges = [(0., 300.), (0., 200.), (0.,6.2), (0.,8.), (0.,1500.)]\n",
    "labels = [r'$p_{T,j1}$ [GeV]', r'$\\Delta \\phi_{jj}$']\n",
    "ranges = [(0., 400.), (0.,6.2)]\n",
    "\n",
    "fig = corner.corner(x_bsm, color='C1', labels=labels, range=ranges)\n",
    "_ = corner.corner(x, color='C0', labels=labels, range=ranges, fig=fig)"
   ]
  },
  {
   "cell_type": "markdown",
   "metadata": {},
   "source": [
    "We can also calculate total cross sections:"
   ]
  },
  {
   "cell_type": "code",
   "execution_count": 47,
   "metadata": {},
   "outputs": [
    {
     "name": "stderr",
     "output_type": "stream",
     "text": [
      "10:51  theta [0. 0.]: xsec = (0.0006142383790574968 +/- 2.8492332828216978e-06) pb\n",
      "10:51  theta [20.  0.]: xsec = (0.0005198451690375805 +/- 1.1396481364020613e-05) pb\n",
      "10:51  theta [50.  0.]: xsec = (0.0010751893278211355 +/- 7.639644999251403e-05) pb\n",
      "10:51  theta [-3.10094136 25.00113204]: xsec = (0.0009651892469264567 +/- 2.1010664364318778e-05) pb\n",
      "10:51  theta [  0.40716244 -47.11518255]: xsec = (0.0016597274225205183 +/- 6.254759526734882e-05) pb\n",
      "10:51  theta [47.59036343 41.79090077]: xsec = (0.0017711425898596644 +/- 9.275374263960356e-05) pb\n",
      "10:51  theta [-21.12195021 -14.63357399]: xsec = (0.001207519312902877 +/- 5.2773465080788325e-05) pb\n",
      "10:51  theta [ 18.41321118 -24.32009861]: xsec = (0.0008067881045954726 +/- 3.6449677118196754e-05) pb\n",
      "10:51  theta [-23.58127734  24.86136703]: xsec = (0.0015192892464469955 +/- 7.866750113094482e-05) pb\n",
      "10:51  theta [-31.57970265  14.96129302]: xsec = (0.001643832183205847 +/- 0.00010741986003844943) pb\n",
      "10:51  theta [56.5900686   5.19138816]: xsec = (0.0013131154012585155 +/- 9.780764401291858e-05) pb\n",
      "10:51  theta [6.5998781  4.66073474]: xsec = (0.0005519074695777608 +/- 9.116522249502803e-06) pb\n",
      "10:51  theta [ 15.63514209 -34.43439804]: xsec = (0.0010862445331583704 +/- 5.060971686485535e-05) pb\n",
      "10:51  theta [ -8.59851747 -27.70541742]: xsec = (0.0011231577059399888 +/- 3.28940933442858e-05) pb\n",
      "10:51  theta [ 0.27234782 -2.60537488]: xsec = (0.0006133888758288049 +/- 3.4802347596020733e-06) pb\n",
      "10:51  theta [51.94734319 16.14769836]: xsec = (0.0012388978746061072 +/- 7.021936590699839e-05) pb\n",
      "10:51  theta [ 21.70310097 -52.78317437]: xsec = (0.001885503779047575 +/- 0.00010531496672615377) pb\n",
      "10:51  theta [ 9.73376949 -8.92098796]: xsec = (0.0005614666693030542 +/- 1.0795722625670288e-05) pb\n",
      "10:51  theta [-55.58449613  26.1918088 ]: xsec = (0.003205666610050433 +/- 0.0002798717722909691) pb\n",
      "10:51  theta [-34.29678216 -11.55193678]: xsec = (0.0016905086095003825 +/- 0.00010586391455681986) pb\n",
      "10:51  theta [ -3.9189711  -27.54060633]: xsec = (0.0010303011342367113 +/- 2.8632573334110225e-05) pb\n",
      "10:51  theta [-28.85203832  -5.63086703]: xsec = (0.001414391624669495 +/- 8.252709215355019e-05) pb\n",
      "10:51  theta [-15.27426115  38.97669006]: xsec = (0.0016837364625840573 +/- 6.386000374400036e-05) pb\n",
      "10:51  theta [-32.00555048 -15.14568721]: xsec = (0.00163014994298301 +/- 9.483241536224104e-05) pb\n",
      "10:51  theta [ 62.77022058 -24.66093152]: xsec = (0.0019021030345468504 +/- 0.00019786433443909305) pb\n",
      "10:51  theta [-5.65726686 26.13622944]: xsec = (0.001041461446179095 +/- 2.451787890718893e-05) pb\n",
      "10:51  theta [-3.02373266 26.49995063]: xsec = (0.0010008877047288632 +/- 2.2674950454320936e-05) pb\n",
      "10:51  theta [ 22.28373516 -29.24260175]: xsec = (0.0009572319891372936 +/- 5.152086966611765e-05) pb\n",
      "10:51  theta [-29.27768201   2.85602915]: xsec = (0.0014297025388181907 +/- 8.777359611326043e-05) pb\n",
      "10:51  theta [ 55.20695193 -15.0613221 ]: xsec = (0.0013899096519036666 +/- 0.0001303561097116299) pb\n",
      "10:51  theta [ -3.75804364 -26.68207092]: xsec = (0.0010056757694399043 +/- 2.7424487598608896e-05) pb\n",
      "10:51  theta [ 10.24050704 -18.33157473]: xsec = (0.0006832304361825232 +/- 1.986983590461918e-05) pb\n",
      "10:51  theta [-30.43680956  22.67190612]: xsec = (0.0017409975822804805 +/- 0.00010918736812190217) pb\n",
      "10:51  theta [14.20014217 17.73126122]: xsec = (0.0006525435275326221 +/- 2.3855857616293805e-05) pb\n",
      "10:51  theta [-1.18090832 38.81840844]: xsec = (0.0013547404233725715 +/- 3.948383898236363e-05) pb\n",
      "10:51  theta [ 17.18971499 -29.07777254]: xsec = (0.0009256884980410914 +/- 4.2907597460774926e-05) pb\n",
      "10:51  theta [-10.42287469 -19.59625584]: xsec = (0.0009844265526429924 +/- 2.7672782006700384e-05) pb\n",
      "10:51  theta [-37.24613043  -6.96614783]: xsec = (0.0017944806110024812 +/- 0.00012205212868739291) pb\n",
      "10:51  theta [17.51031272 -6.86379589]: xsec = (0.0005368255192198355 +/- 1.3277640908640572e-05) pb\n",
      "10:51  theta [-13.06689584  16.4869386 ]: xsec = (0.0010150523571403835 +/- 3.303106571388209e-05) pb\n",
      "10:51  theta [-33.64553558   1.73579276]: xsec = (0.001615195378435672 +/- 0.00010808468941865159) pb\n",
      "10:51  theta [-29.13232211   4.57810548]: xsec = (0.0014316445698751442 +/- 8.803146982811452e-05) pb\n",
      "10:51  theta [-36.14694163 -44.60659125]: xsec = (0.0026166303541741197 +/- 0.00012836761787781776) pb\n",
      "10:51  theta [ 6.85114776 10.99686646]: xsec = (0.0005964938019106187 +/- 1.3310579018511541e-05) pb\n",
      "10:51  theta [-14.27935248  14.90157124]: xsec = (0.0010234859757172986 +/- 3.581088263442549e-05) pb\n",
      "10:51  theta [30.34054198 -2.36499992]: xsec = (0.0006215172181870414 +/- 2.190195679938314e-05) pb\n",
      "10:51  theta [-6.07314839 69.07682521]: xsec = (0.0030091761025653873 +/- 0.00011154177203491699) pb\n",
      "10:51  theta [2.86439653 8.81670151]: xsec = (0.0006151673397497464 +/- 8.464871937031728e-06) pb\n",
      "10:51  theta [5.77485262 4.23761705]: xsec = (0.0005570853153596037 +/- 8.260603281381228e-06) pb\n",
      "10:51  theta [-13.62404576  22.59842202]: xsec = (0.001147195541818968 +/- 3.912100946080842e-05) pb\n",
      "10:51  theta [-20.25408596 -15.37403199]: xsec = (0.0011890816069253663 +/- 5.0157696159583106e-05) pb\n",
      "10:51  theta [ 5.47846004 23.19274917]: xsec = (0.0008060964237184713 +/- 2.25998986052426e-05) pb\n",
      "10:51  theta [-9.66906786 52.21303646]: xsec = (0.002113272040784055 +/- 7.384826435311686e-05) pb\n",
      "10:51  theta [ -7.51561482 -53.03952906]: xsec = (0.0020649193768889898 +/- 7.67930992707648e-05) pb\n",
      "10:51  theta [-9.46344131 67.17733331]: xsec = (0.002964805067302248 +/- 0.00011126035329730137) pb\n",
      "10:51  theta [44.206434   10.27935411]: xsec = (0.000939534651744366 +/- 4.5681039044178466e-05) pb\n",
      "10:51  theta [-25.34949793 -26.35834057]: xsec = (0.0015736016401226376 +/- 7.143827336955687e-05) pb\n",
      "10:51  theta [ 9.6153923  -9.56491758]: xsec = (0.0005678133048208451 +/- 1.1156954618377417e-05) pb\n",
      "10:51  theta [-55.40516484   9.22418212]: xsec = (0.002875110959945363 +/- 0.00025199669661469284) pb\n",
      "10:51  theta [-49.19582486   0.47160971]: xsec = (0.002428988424150941 +/- 0.0001980007436602621) pb\n",
      "10:51  theta [-1.6317935 -1.9788189]: xsec = (0.0006398548378327338 +/- 4.4802854839267515e-06) pb\n",
      "10:51  theta [-22.82562359 -14.00782644]: xsec = (0.0012573809757796231 +/- 5.8409189926804755e-05) pb\n",
      "10:51  theta [  2.63394529 -21.91551006]: xsec = (0.000808277060595878 +/- 2.047541764953735e-05) pb\n",
      "10:51  theta [-27.09653948 -31.98075983]: xsec = (0.0017895808737918247 +/- 8.133949650495716e-05) pb\n",
      "10:51  theta [ 9.82190345 22.67301311]: xsec = (0.0007615920706163718 +/- 2.5928899420787854e-05) pb\n",
      "10:51  theta [-21.92963265 -41.1563898 ]: xsec = (0.0019165134581020805 +/- 7.590385452179277e-05) pb\n",
      "10:51  theta [  4.10584895 -35.30651944]: xsec = (0.0011580725191250505 +/- 4.0843177021938356e-05) pb\n",
      "10:51  theta [-40.74601396   5.62507172]: xsec = (0.0019797712499312987 +/- 0.0001495778451110113) pb\n",
      "10:51  theta [ 24.96650912 -22.51249683]: xsec = (0.0008107053401578984 +/- 4.382542991228919e-05) pb\n",
      "10:51  theta [-8.45564497 23.86844342]: xsec = (0.0010465390488571533 +/- 2.6829707877057955e-05) pb\n",
      "10:51  theta [ 12.61401161 -21.80496979]: xsec = (0.000743928653055969 +/- 2.6167376103103575e-05) pb\n",
      "10:51  theta [-53.19220992 -39.36033705]: xsec = (0.003338365749005948 +/- 0.00021215416296264524) pb\n",
      "10:51  theta [15.78075564 -7.39455594]: xsec = (0.0005377297455434912 +/- 1.2776402123150226e-05) pb\n",
      "10:51  theta [-34.84335573 -15.83016709]: xsec = (0.0017658833976516627 +/- 0.0001078289032346923) pb\n",
      "10:51  theta [5.89401936 2.15233417]: xsec = (0.0005498479205684855 +/- 7.414876868552305e-06) pb\n",
      "10:51  theta [-20.42644173 -53.53308012]: xsec = (0.0024157882016309857 +/- 9.434105273962445e-05) pb\n",
      "10:51  theta [-17.11101358  18.00151549]: xsec = (0.0011564797841092439 +/- 4.714306527570436e-05) pb\n",
      "10:51  theta [ 36.61477153 -40.22044353]: xsec = (0.0015368347129191265 +/- 0.00011609972104780069) pb\n",
      "10:51  theta [-2.55652056 41.17294186]: xsec = (0.0014682502658389003 +/- 4.373087560470033e-05) pb\n",
      "10:51  theta [-81.32835976 -37.04282439]: xsec = (0.005377270678764538 +/- 0.0004294736766882911) pb\n",
      "10:51  theta [-23.51620277  21.36059161]: xsec = (0.0014367918811661424 +/- 7.500314642325472e-05) pb\n",
      "10:51  theta [ 27.91685251 -43.9875338 ]: xsec = (0.0015404395345640987 +/- 9.817505679145366e-05) pb\n"
     ]
    },
    {
     "name": "stderr",
     "output_type": "stream",
     "text": [
      "10:51  theta [15.26286337 40.39419609]: xsec = (0.0012699422264285016 +/- 5.5026224592267755e-05) pb\n",
      "10:51  theta [ 2.64596766 -3.98202605]: xsec = (0.0005878134383863238 +/- 4.626826293210617e-06) pb\n",
      "10:51  theta [-34.75998271 -31.70970632]: xsec = (0.002101355239983438 +/- 0.00011113053142929974) pb\n",
      "10:51  theta [-68.127671  -25.5071991]: xsec = (0.003975216607721897 +/- 0.0003191744440605155) pb\n",
      "10:51  theta [40.28860564 37.34539041]: xsec = (0.0014231363881592723 +/- 7.189566972130007e-05) pb\n",
      "10:51  theta [-15.71022324 -26.00932412]: xsec = (0.0012544400863781341 +/- 4.359217477253098e-05) pb\n",
      "10:51  theta [61.95631352 21.95832256]: xsec = (0.0017174425633401137 +/- 0.00011129955851376821) pb\n",
      "10:51  theta [ -3.10833077 -43.33828547]: xsec = (0.001546290013784399 +/- 5.4435372710122086e-05) pb\n",
      "10:51  theta [  6.7840025  -31.29552447]: xsec = (0.0010096660981274827 +/- 3.56710224614364e-05) pb\n",
      "10:51  theta [-22.31141995  21.15262567]: xsec = (0.0013890358463778244 +/- 6.967561295853397e-05) pb\n",
      "10:51  theta [31.11588354 35.56254585]: xsec = (0.0011982371794588256 +/- 5.9624783523850513e-05) pb\n",
      "10:51  theta [-15.90163281  40.10215551]: xsec = (0.001745482418980959 +/- 6.772027365009851e-05) pb\n",
      "10:51  theta [ 34.36676262 -44.22736051]: xsec = (0.0016562551816339459 +/- 0.00011914240297466365) pb\n",
      "10:51  theta [-29.88654135  26.89245702]: xsec = (0.001821625858793651 +/- 0.00011119413487054646) pb\n",
      "10:51  theta [16.42665393 23.93798442]: xsec = (0.0007722554399317868 +/- 3.2118729004580016e-05) pb\n",
      "10:51  theta [-22.35095113  20.3264607 ]: xsec = (0.0013734279061286456 +/- 6.912618385965234e-05) pb\n",
      "10:51  theta [57.17105523 45.45228887]: xsec = (0.0022358327358329637 +/- 0.00012293716358605363) pb\n",
      "10:51  theta [-12.67697304  36.75501928]: xsec = (0.0015290651525354864 +/- 5.261599563930583e-05) pb\n",
      "10:51  theta [-33.92926249 -60.80204543]: xsec = (0.0033090179925704846 +/- 0.00014689871587646064) pb\n",
      "10:51  theta [ 37.41081059 -30.71633448]: xsec = (0.0012228877340375395 +/- 9.428941151105603e-05) pb\n",
      "10:51  theta [-11.35684569   2.57092214]: xsec = (0.0008377102472678751 +/- 2.3303328762364907e-05) pb\n",
      "10:51  theta [19.92431604 56.39475479]: xsec = (0.0020032236686152085 +/- 9.253492587610078e-05) pb\n",
      "10:51  theta [ -6.37740204 -17.07570748]: xsec = (0.0008555937139323516 +/- 1.9495448078714437e-05) pb\n",
      "10:51  theta [-6.39792067  8.36237012]: xsec = (0.0007589525341923081 +/- 1.2830886301228324e-05) pb\n",
      "10:51  theta [-22.60328149  31.29386061]: xsec = (0.0016612166943707402 +/- 8.164550158988983e-05) pb\n",
      "10:51  theta [-32.1120446   38.45559658]: xsec = (0.002291939746862371 +/- 0.00013976883953708668) pb\n",
      "10:51  theta [-13.00158415  12.46051646]: xsec = (0.0009556490796256869 +/- 3.070429065061539e-05) pb\n",
      "10:51  theta [-19.93423042 -35.75574009]: xsec = (0.0016589314714906577 +/- 6.372696720451179e-05) pb\n",
      "10:51  theta [-18.25812869 -26.40860726]: xsec = (0.001337869062675867 +/- 5.010981371159494e-05) pb\n",
      "10:51  theta [-5.92490936 10.43617466]: xsec = (0.000768693631188896 +/- 1.2711201195716164e-05) pb\n",
      "10:51  theta [75.13423366 -0.66529757]: xsec = (0.002186070991931241 +/- 0.0002154877362971492) pb\n",
      "10:51  theta [-46.21859814   1.21214565]: xsec = (0.0022570387673025998 +/- 0.00017925424265061046) pb\n",
      "10:51  theta [-58.26783362 -49.13068376]: xsec = (0.004057503249905756 +/- 0.0002506687710163993) pb\n",
      "10:51  theta [ 20.36538751 -20.08484439]: xsec = (0.0007243764101520195 +/- 3.227422906912945e-05) pb\n",
      "10:51  theta [-10.41425605 -27.33071559]: xsec = (0.0011533623719293385 +/- 3.491083943253389e-05) pb\n",
      "10:51  theta [ 5.51610961 23.73304101]: xsec = (0.0008177666421941494 +/- 2.3188623399049527e-05) pb\n",
      "10:51  theta [10.20894351 -4.81314339]: xsec = (0.000531644071815126 +/- 9.203825220053181e-06) pb\n",
      "10:51  theta [15.14894889 53.82866751]: xsec = (0.0018674462677266104 +/- 8.084775511068976e-05) pb\n",
      "10:51  theta [-25.58821127 -19.83318276]: xsec = (0.0014452083354416691 +/- 6.946058408023596e-05) pb\n",
      "10:51  theta [-40.94756395 -35.87613333]: xsec = (0.002527245424942236 +/- 0.00014229448823003293) pb\n",
      "10:51  theta [-19.2541217   -2.65726671]: xsec = (0.0010576417560745198 +/- 4.6268422790267455e-05) pb\n",
      "10:51  theta [ 3.37607715 -6.67831962]: xsec = (0.0005933621509711874 +/- 6.299128676940886e-06) pb\n",
      "10:51  theta [ 8.97914397 -6.5699876 ]: xsec = (0.0005475327968474013 +/- 9.180481228155332e-06) pb\n",
      "10:51  theta [ -8.42284277 -13.14677486]: xsec = (0.000842241784894646 +/- 1.9885005952888227e-05) pb\n",
      "10:51  theta [-11.81532662  23.97697711]: xsec = (0.0011303947475709505 +/- 3.505758184384399e-05) pb\n",
      "10:51  theta [  7.79931196 -47.65193003]: xsec = (0.001619946603048712 +/- 6.859397401157577e-05) pb\n",
      "10:51  theta [23.08381243  7.24047708]: xsec = (0.0005587616155398722 +/- 1.479526841395603e-05) pb\n",
      "10:51  theta [ 18.49638644 -36.87498738]: xsec = (0.0011787178126137273 +/- 6.007638275026371e-05) pb\n",
      "10:51  theta [-28.24734464 -45.32040183]: xsec = (0.002310864304163153 +/- 0.00010020549078842361) pb\n",
      "10:51  theta [10.11198551  6.2628749 ]: xsec = (0.0005374307131504759 +/- 1.2242942885272793e-05) pb\n",
      "10:51  theta [9.44158374 8.43855673]: xsec = (0.0005556898968778594 +/- 1.3318986175867373e-05) pb\n",
      "10:51  theta [55.36412618 28.33479645]: xsec = (0.0015970789104369886 +/- 8.829559722671605e-05) pb\n",
      "10:51  theta [11.48945461  1.77243087]: xsec = (0.0005156307410658463 +/- 1.0413832617394823e-05) pb\n",
      "10:51  theta [31.73668135 19.95434072]: xsec = (0.000808825881229686 +/- 3.2313676005496556e-05) pb\n",
      "10:51  theta [ 42.09214283 -18.18103648]: xsec = (0.0010275981772264664 +/- 8.124629032936912e-05) pb\n",
      "10:51  theta [ 22.37601908 -25.25904799]: xsec = (0.0008522199300881785 +/- 4.418492973669174e-05) pb\n",
      "10:51  theta [ 14.66086242 -54.17791872]: xsec = (0.0019245784188380527 +/- 9.431645280877617e-05) pb\n",
      "10:51  theta [ 35.7107434  -24.83717054]: xsec = (0.0010257259397977196 +/- 7.494297641187488e-05) pb\n",
      "10:51  theta [  8.53344849 -40.5678296 ]: xsec = (0.001317892398893758 +/- 5.4037166703622814e-05) pb\n",
      "10:51  theta [22.31236578 36.45927566]: xsec = (0.001143438302470252 +/- 5.478250045899763e-05) pb\n",
      "10:51  theta [ 21.83105478 -16.35224755]: xsec = (0.0006666225376506232 +/- 2.8495717324530986e-05) pb\n",
      "10:51  theta [39.98053173 26.83720334]: xsec = (0.0011077924650078766 +/- 5.091578154368851e-05) pb\n",
      "10:51  theta [30.96195231 27.59568839]: xsec = (0.000963750538441886 +/- 4.457635179941031e-05) pb\n",
      "10:51  theta [-31.75174625  -9.04212036]: xsec = (0.0015560118127942017 +/- 9.454373807362363e-05) pb\n",
      "10:51  theta [-35.48364947 -47.26111213]: xsec = (0.002698872195316839 +/- 0.00012904839994185518) pb\n",
      "10:51  theta [-40.91778089 -10.97659141]: xsec = (0.0020068422921353008 +/- 0.00014009405775088183) pb\n",
      "10:51  theta [-11.62977846  27.35831501]: xsec = (0.0012099233256191663 +/- 3.787702156994678e-05) pb\n",
      "10:51  theta [25.79655973 77.51445211]: xsec = (0.0033655103196357167 +/- 0.000159485687627935) pb\n",
      "10:51  theta [10.79268642 -7.81422593]: xsec = (0.0005479694216880097 +/- 1.0670133941277231e-05) pb\n",
      "10:51  theta [70.26694608  3.26451072]: xsec = (0.0019217033236335012 +/- 0.00017561000847092126) pb\n",
      "10:51  theta [-14.22549084 -11.95143092]: xsec = (0.0009685514767910363 +/- 3.2003898781211076e-05) pb\n",
      "10:51  theta [-31.21861517 -10.02291554]: xsec = (0.0015408804956315188 +/- 9.192345364323015e-05) pb\n",
      "10:51  theta [ 30.49658478 -62.80859856]: xsec = (0.002550822082763026 +/- 0.00016199068204582074) pb\n",
      "10:51  theta [23.65261706 31.59204962]: xsec = (0.000997229706750148 +/- 4.745505501583791e-05) pb\n",
      "10:51  theta [  8.76906129 -11.72053336]: xsec = (0.0005943625499631954 +/- 1.233509279229969e-05) pb\n",
      "10:51  theta [-33.9084422  -37.52520091]: xsec = (0.002247589145849726 +/- 0.00011178248260562332) pb\n",
      "10:51  theta [-5.13892139 -0.70041066]: xsec = (0.0006985455058038932 +/- 9.45456973694437e-06) pb\n",
      "10:51  theta [ 27.09966429 -45.77544082]: xsec = (0.0016075551368849995 +/- 0.00010055506764558888) pb\n",
      "10:51  theta [  7.35213969 -25.25806429]: xsec = (0.0008428422713086419 +/- 2.6889080521101146e-05) pb\n",
      "10:51  theta [ -2.10989347 -47.52860117]: xsec = (0.0017116663493478724 +/- 6.306427458753586e-05) pb\n",
      "10:51  theta [11.5700426   6.63329376]: xsec = (0.0005335705636783581 +/- 1.3143414110874194e-05) pb\n"
     ]
    },
    {
     "name": "stderr",
     "output_type": "stream",
     "text": [
      "10:51  theta [25.62309758 -1.83273845]: xsec = (0.000563150871825594 +/- 1.5083070276266983e-05) pb\n",
      "10:51  theta [45.38962139 19.25803648]: xsec = (0.0010858487505399413 +/- 5.1060437234120446e-05) pb\n",
      "10:51  theta [-23.49645974  35.22467256]: xsec = (0.001821683630152436 +/- 9.0836556500965e-05) pb\n",
      "10:51  theta [-59.21143145  37.12685676]: xsec = (0.003804926180889542 +/- 0.00033205558669899217) pb\n",
      "10:51  theta [ 29.2336497  -28.61183124]: xsec = (0.0010149321544875478 +/- 6.528443201052147e-05) pb\n",
      "10:51  theta [42.76082762 24.17397016]: xsec = (0.001112023800371627 +/- 5.091509445396213e-05) pb\n",
      "10:51  theta [25.69710835 51.51478729]: xsec = (0.0017870050374353143 +/- 8.83305042198781e-05) pb\n",
      "10:51  theta [-11.19501716  -2.33955333]: xsec = (0.0008307983189292238 +/- 2.2719953865378025e-05) pb\n",
      "10:51  theta [-23.15260421 -16.60044019]: xsec = (0.00130428586197842 +/- 6.0010797288769954e-05) pb\n",
      "10:51  theta [-33.8221594  -62.23629049]: xsec = (0.0033865725228142225 +/- 0.00014964933201496388) pb\n",
      "10:51  theta [55.81093221  2.29429428]: xsec = (0.0012780624525269954 +/- 9.830471509699913e-05) pb\n",
      "10:51  theta [-2.88315675 11.57871526]: xsec = (0.0007248074376831237 +/- 9.201089552523773e-06) pb\n",
      "10:51  theta [58.49828659  0.41034302]: xsec = (0.0013838646433403587 +/- 0.00011438156747681791) pb\n",
      "10:51  theta [-6.11439624 34.31404912]: xsec = (0.0012886249502488175 +/- 3.5545152951462374e-05) pb\n",
      "10:51  theta [-11.69511777 -29.24425927]: xsec = (0.001233877815689207 +/- 3.907346573169514e-05) pb\n",
      "10:51  theta [-19.83639061  34.74525178]: xsec = (0.0016761804606032567 +/- 7.448083821777859e-05) pb\n",
      "10:51  theta [ 5.50639756 43.13788349]: xsec = (0.001434235533742831 +/- 4.986312994820544e-05) pb\n",
      "10:51  theta [-48.11718794   6.47504196]: xsec = (0.002395076946758912 +/- 0.00019675649122396333) pb\n",
      "10:51  theta [  3.90706973 -53.56346241]: xsec = (0.001932015654784448 +/- 7.935242195143416e-05) pb\n",
      "10:51  theta [12.74888215 19.48123769]: xsec = (0.0006860216919198547 +/- 2.4819303397985504e-05) pb\n",
      "10:51  theta [-36.03022579  10.27377898]: xsec = (0.001785802695755066 +/- 0.00012683558648565434) pb\n",
      "10:51  theta [-2.12413983  9.7212829 ]: xsec = (0.000692936867912291 +/- 7.526418215840017e-06) pb\n",
      "10:51  theta [-35.60904251 -21.16511388]: xsec = (0.0018883557455927195 +/- 0.00011148180598926617) pb\n",
      "10:51  theta [-39.17217648 -29.59331041]: xsec = (0.0022514089144097223 +/- 0.0001305023127486265) pb\n",
      "10:51  theta [19.98145321  4.7247316 ]: xsec = (0.0005278912300001305 +/- 1.2977759112729446e-05) pb\n",
      "10:51  theta [ 28.76216482 -48.3030357 ]: xsec = (0.0017450945478308143 +/- 0.00011220418802750929) pb\n",
      "10:51  theta [-26.33183491 -13.60498613]: xsec = (0.0013800940234704644 +/- 7.124310853083797e-05) pb\n",
      "10:51  theta [-27.58941977 -38.40831994]: xsec = (0.0020172180390910697 +/- 8.915924825914351e-05) pb\n",
      "10:51  theta [ 0.13315053 15.25578872]: xsec = (0.0007249411783517119 +/- 1.1481983344098808e-05) pb\n",
      "10:51  theta [19.60977474 49.00012031]: xsec = (0.0016353894576336598 +/- 7.588881315626773e-05) pb\n",
      "10:51  theta [45.57604206  9.30345467]: xsec = (0.0009692524117457967 +/- 5.0289477048451386e-05) pb\n",
      "10:51  theta [-11.24916717  -3.38456567]: xsec = (0.0008344525853626371 +/- 2.2920999604333983e-05) pb\n",
      "10:51  theta [22.95889944 26.82055447]: xsec = (0.0008629938814303389 +/- 3.948220271336631e-05) pb\n",
      "10:51  theta [ 59.9922716  -18.52415426]: xsec = (0.001643011686786917 +/- 0.00016451912436543542) pb\n",
      "10:51  theta [9.08994725 5.6832454 ]: xsec = (0.0005396469931188378 +/- 1.1336354965602894e-05) pb\n",
      "10:51  theta [-15.02229173   2.40056584]: xsec = (0.0009337953569876074 +/- 3.358645662311188e-05) pb\n",
      "10:51  theta [-45.08607225   2.66709302]: xsec = (0.0021980812637922955 +/- 0.00017337228524158164) pb\n",
      "10:51  theta [2.70752789 3.62310378]: xsec = (0.0005860794434101278 +/- 5.318519118146452e-06) pb\n",
      "10:51  theta [-16.43994622 -13.51911587]: xsec = (0.0010482384530222442 +/- 3.836145328717089e-05) pb\n",
      "10:51  theta [-16.50902119   5.26773392]: xsec = (0.0009888808120688852 +/- 3.891036988718905e-05) pb\n",
      "10:51  theta [-53.68157872  -0.99459737]: xsec = (0.0027039493460600666 +/- 0.00022754805787790822) pb\n",
      "10:51  theta [-9.74342869 -3.24176459]: xsec = (0.0007984461197506705 +/- 1.931551692130148e-05) pb\n",
      "10:51  theta [-34.20485706 -45.12984305]: xsec = (0.002550452955165968 +/- 0.00012118422200341692) pb\n",
      "10:51  theta [33.12081262 -3.76754284]: xsec = (0.0006701841112642912 +/- 2.8979234077994684e-05) pb\n",
      "10:51  theta [-26.48927618 -13.09586079]: xsec = (0.0013801274049165518 +/- 7.183992196554203e-05) pb\n",
      "10:51  theta [-17.49631417   1.85592836]: xsec = (0.001004554264039954 +/- 4.1245877854159925e-05) pb\n",
      "10:51  theta [-15.11510173  31.73781886]: xsec = (0.0014310223463422879 +/- 5.329556283304716e-05) pb\n",
      "10:51  theta [-11.21164554 -20.34781614]: xsec = (0.0010168224102050352 +/- 2.9685272779867834e-05) pb\n",
      "10:51  theta [-22.87885956  21.95763588]: xsec = (0.001426504371636337 +/- 7.280113288211023e-05) pb\n",
      "10:51  theta [-12.69823924 -51.16636349]: xsec = (0.002085386896986427 +/- 7.690250581347467e-05) pb\n",
      "10:51  theta [ -0.2763469  -29.72804485]: xsec = (0.001034746519920999 +/- 3.0740835213279153e-05) pb\n",
      "10:51  theta [-17.46444595  35.61914326]: xsec = (0.0016290182033517925 +/- 6.654639137174137e-05) pb\n",
      "10:51  theta [35.85966492 27.0224233 ]: xsec = (0.0010284812424671572 +/- 4.689341201670254e-05) pb\n",
      "10:51  theta [ -7.88869447 -21.90719628]: xsec = (0.0009737342815318827 +/- 2.5741930153168043e-05) pb\n",
      "10:51  theta [49.88886762 -5.10379737]: xsec = (0.0010916448308654434 +/- 8.458931731708399e-05) pb\n",
      "10:51  theta [-17.73310872 -10.29119938]: xsec = (0.0010520104402108182 +/- 4.140771450126427e-05) pb\n",
      "10:51  theta [-31.30216998  -0.87245953]: xsec = (0.0015074628520364076 +/- 9.533205235603112e-05) pb\n",
      "10:51  theta [-24.59291792 -29.38519513]: xsec = (0.0016235852141005475 +/- 7.091369229439034e-05) pb\n",
      "10:51  theta [-31.24639734 -27.4502888 ]: xsec = (0.0018329461268170456 +/- 9.412094385086258e-05) pb\n",
      "10:51  theta [12.90923852 20.10589736]: xsec = (0.0006971660139747141 +/- 2.557139603268539e-05) pb\n",
      "10:51  theta [-13.36651778  22.53347421]: xsec = (0.0011387369883960894 +/- 3.828259638513389e-05) pb\n",
      "10:51  theta [ 3.51547806 18.84971163]: xsec = (0.0007399582152603375 +/- 1.675648108481536e-05) pb\n",
      "10:51  theta [-15.54628051  -8.72745652]: xsec = (0.0009751198671888516 +/- 3.484007457048491e-05) pb\n",
      "10:51  theta [31.94569335  8.47609059]: xsec = (0.0006671869615110658 +/- 1.9941561341640293e-05) pb\n",
      "10:51  theta [-17.99403089  18.22827342]: xsec = (0.0011878427741732148 +/- 5.0457542736050304e-05) pb\n",
      "10:51  theta [ 16.11183433 -69.45188625]: xsec = (0.0028322256514302494 +/- 0.00014282057428241865) pb\n",
      "10:51  theta [-0.72367673 -4.43509042]: xsec = (0.0006333310205733615 +/- 4.859098464260653e-06) pb\n",
      "10:51  theta [47.24124914 16.62816877]: xsec = (0.0010972463514239122 +/- 5.472107409772635e-05) pb\n",
      "10:51  theta [19.85348679 16.24843009]: xsec = (0.0006363123516320171 +/- 2.4159847861887043e-05) pb\n",
      "10:51  theta [-12.9237679  -31.29252723]: xsec = (0.0013218662753568813 +/- 4.3548210443772784e-05) pb\n",
      "10:51  theta [44.62858138 32.89658811]: xsec = (0.0013854971994981696 +/- 6.878697054938107e-05) pb\n",
      "10:51  theta [-23.06291743  51.83849686]: xsec = (0.002508538168975603 +/- 0.00011793841255276637) pb\n",
      "10:51  theta [-80.69663141  33.09155485]: xsec = (0.00538265248681126 +/- 0.0005327048976948237) pb\n",
      "10:51  theta [ 3.10386118 26.49745995]: xsec = (0.0009099059128991869 +/- 2.416072568554981e-05) pb\n",
      "10:51  theta [ 2.26577606 -0.46274218]: xsec = (0.0005849543496607406 +/- 3.732863697834376e-06) pb\n",
      "10:51  theta [ 8.56873857 18.2567025 ]: xsec = (0.0006840440547017893 +/- 2.0579156733011817e-05) pb\n",
      "10:51  theta [-12.32955531  -8.66624866]: xsec = (0.0008888240338814765 +/- 2.639867838524644e-05) pb\n",
      "10:51  theta [-51.36354011  12.37977114]: xsec = (0.0026548772419686343 +/- 0.00022632341567674396) pb\n",
      "10:51  theta [27.63911375 -9.06469468]: xsec = (0.0006280303308287909 +/- 2.6162888904704866e-05) pb\n",
      "10:51  theta [11.7622536   5.20917316]: xsec = (0.0005252642651406163 +/- 1.2298888384132214e-05) pb\n",
      "10:51  theta [-49.59763317  22.07716616]: xsec = (0.0027224371797683047 +/- 0.0002273489672294479) pb\n"
     ]
    },
    {
     "name": "stderr",
     "output_type": "stream",
     "text": [
      "10:51  theta [-10.75951957 -16.84212988]: xsec = (0.0009457923836834769 +/- 2.6396419171376255e-05) pb\n",
      "10:51  theta [31.80080359 -5.7179599 ]: xsec = (0.0006592839791552179 +/- 2.8925357495118457e-05) pb\n",
      "10:51  theta [ 5.90923104 12.02980191]: xsec = (0.0006156913399179041 +/- 1.3288629498056497e-05) pb\n",
      "10:51  theta [-11.81894363 -43.87219669]: xsec = (0.0017383522408931985 +/- 6.126039952294223e-05) pb\n",
      "10:51  theta [  0.42735383 -27.03456316]: xsec = (0.0009531596984321055 +/- 2.6894131899005963e-05) pb\n",
      "10:51  theta [ 28.27839053 -37.63832875]: xsec = (0.0012936575196614434 +/- 8.332867499576009e-05) pb\n",
      "10:51  theta [-22.99333394  25.46512755]: xsec = (0.0015128370637743794 +/- 7.671469597874107e-05) pb\n",
      "10:51  theta [-37.62720065 -39.59173389]: xsec = (0.0024918009133937736 +/- 0.0001295167834794547) pb\n",
      "10:51  theta [ 9.73349548 -3.79989304]: xsec = (0.0005294771980504955 +/- 8.800716405015682e-06) pb\n",
      "10:51  theta [ 11.02775918 -19.35288288]: xsec = (0.0006990034750820783 +/- 2.166468004189945e-05) pb\n",
      "10:51  theta [-61.93342265  12.66801426]: xsec = (0.003367698077007218 +/- 0.00030893613001124347) pb\n",
      "10:51  theta [ 1.94524008 -5.79098427]: xsec = (0.0006043506559704606 +/- 5.284818505869151e-06) pb\n",
      "10:51  theta [28.79948141 -3.63555094]: xsec = (0.0006053097399647881 +/- 2.083325758289233e-05) pb\n",
      "10:51  theta [ 33.75138279 -14.94606347]: xsec = (0.0007914659799137843 +/- 4.89446938420764e-05) pb\n",
      "10:51  theta [ 0.8786353  -2.28954128]: xsec = (0.0006045633830851419 +/- 3.337250087126861e-06) pb\n",
      "10:51  theta [-25.9405731  -11.55315349]: xsec = (0.0013427047589679394 +/- 6.971152471857406e-05) pb\n",
      "10:51  theta [39.07024981  7.74246715]: xsec = (0.0007956510357716456 +/- 3.2656581334095175e-05) pb\n",
      "10:51  theta [-24.02277383  73.60159765]: xsec = (0.0038633434162186064 +/- 0.00017894609186625766) pb\n",
      "10:51  theta [10.31301664 69.08311315]: xsec = (0.002775412542881919 +/- 0.00011315815692424788) pb\n",
      "10:51  theta [ 83.93310133 -17.99380632]: xsec = (0.002912335523708675 +/- 0.0003288923169954648) pb\n",
      "10:51  theta [ 24.84633891 -44.42093466]: xsec = (0.001522322923126636 +/- 9.106598976273004e-05) pb\n",
      "10:51  theta [ 47.72226755 -39.4472522 ]: xsec = (0.00180056856576232 +/- 0.0001604076279209619) pb\n",
      "10:51  theta [ 50.76414965 -28.43736908]: xsec = (0.0015285596143608856 +/- 0.00014328271872840234) pb\n",
      "10:51  theta [  9.11403658 -21.1774686 ]: xsec = (0.0007422095409743427 +/- 2.2588538698390133e-05) pb\n",
      "10:51  theta [-18.38998053  55.89938529]: xsec = (0.0025562918970526895 +/- 0.00010739751445791786) pb\n",
      "10:51  theta [-13.73479046 -50.29216205]: xsec = (0.0020692083599329883 +/- 7.631651647617978e-05) pb\n",
      "10:51  theta [-14.53223533  11.03023885]: xsec = (0.0009804586622800511 +/- 3.469897529744147e-05) pb\n",
      "10:51  theta [-4.94150003 18.101169  ]: xsec = (0.0008558773498633879 +/- 1.5953878151718806e-05) pb\n",
      "10:51  theta [-0.77075303  4.18602882]: xsec = (0.0006342730393056119 +/- 3.978857740329482e-06) pb\n",
      "10:51  theta [-41.98561378  19.63525683]: xsec = (0.002234294549814645 +/- 0.00017213041951595523) pb\n",
      "10:51  theta [-31.45537585   6.42318395]: xsec = (0.0015417121666639452 +/- 0.00010016812820504549) pb\n",
      "10:51  theta [96.7205402  -8.32165032]: xsec = (0.0036635911398382637 +/- 0.0004116121639202293) pb\n",
      "10:51  theta [14.10444955 66.06470625]: xsec = (0.002563675732349965 +/- 0.00010921431713370524) pb\n",
      "10:51  theta [ -0.14473978 -36.30803531]: xsec = (0.0012389244268423201 +/- 4.1299628920765976e-05) pb\n",
      "10:51  theta [ 14.32176027 -63.38347813]: xsec = (0.0024422901153930555 +/- 0.00011994276037245708) pb\n",
      "10:51  theta [ -5.96744987 -36.83482771]: xsec = (0.0013483333743382856 +/- 4.363287498072223e-05) pb\n",
      "10:51  theta [-23.42438563 -42.84989643]: xsec = (0.002033149330735471 +/- 8.230456095577058e-05) pb\n",
      "10:51  theta [26.35415722 15.40895549]: xsec = (0.0006693201621152378 +/- 2.4007512139015033e-05) pb\n",
      "10:51  theta [3.62417258 4.07067398]: xsec = (0.0005774647127204147 +/- 6.34497155702484e-06) pb\n",
      "10:51  theta [-30.86824218  -9.99194535]: xsec = (0.001525718143844741 +/- 9.036589661587164e-05) pb\n",
      "10:51  theta [-12.75384969  27.77737012]: xsec = (0.0012506298637861655 +/- 4.1458147758529975e-05) pb\n",
      "10:51  theta [-9.60833245 -6.54261525]: xsec = (0.0008092817912558148 +/- 1.9604466601355654e-05) pb\n",
      "10:51  theta [-20.371742    -3.64219592]: xsec = (0.0010959597146818873 +/- 4.994272330744506e-05) pb\n",
      "10:51  theta [-27.22863902  25.81840901]: xsec = (0.0016834994349178337 +/- 9.659696851964245e-05) pb\n",
      "10:51  theta [-0.8949667  63.56193542]: xsec = (0.002559295485940338 +/- 9.25050753840556e-05) pb\n",
      "10:51  theta [ 4.48842971 13.68514859]: xsec = (0.0006495096410489398 +/- 1.3307275432165704e-05) pb\n",
      "10:51  theta [-21.40906595 -22.45909498]: xsec = (0.00134878376462724 +/- 5.6466768481617925e-05) pb\n",
      "10:51  theta [33.19429133 14.89752931]: xsec = (0.0007524081766489426 +/- 2.642664282119295e-05) pb\n",
      "10:51  theta [44.12836654 -0.37874315]: xsec = (0.0009012380301370143 +/- 5.497844175080615e-05) pb\n",
      "10:51  theta [-11.34540072 -28.641682  ]: xsec = (0.0012092657501783866 +/- 3.7821447522220876e-05) pb\n",
      "10:51  theta [-30.94024083  19.27694654]: xsec = (0.0016911747902987253 +/- 0.0001082305415860239) pb\n",
      "10:51  theta [-54.12519324 -42.50916831]: xsec = (0.003513496497506879 +/- 0.0002196312077381082) pb\n",
      "10:51  theta [12.51178159 28.24607622]: xsec = (0.0008832767060223347 +/- 3.460253727164926e-05) pb\n",
      "10:51  theta [ 21.02430172 -13.49539078]: xsec = (0.0006192547384745966 +/- 2.3394272579469477e-05) pb\n",
      "10:51  theta [-17.66522961  15.16663474]: xsec = (0.0011268032302487053 +/- 4.7258911721190224e-05) pb\n",
      "10:51  theta [ 5.62160819 41.92880692]: xsec = (0.0013841859270640137 +/- 4.7879097413734983e-05) pb\n",
      "10:51  theta [ 38.68536602 -32.14639968]: xsec = (0.0012957684880453193 +/- 0.0001023357025921982) pb\n",
      "10:51  theta [-51.68541542 -15.51643033]: xsec = (0.002666188337192036 +/- 0.00020317754167920325) pb\n",
      "10:51  theta [-15.46377124  38.89506141]: xsec = (0.0016862630016810168 +/- 6.435817023265582e-05) pb\n",
      "10:51  theta [37.16105069 20.80410515]: xsec = (0.0009184945035219129 +/- 3.800430157206468e-05) pb\n",
      "10:51  theta [  6.23715718 -14.79271118]: xsec = (0.0006502252179989656 +/- 1.3827845519030734e-05) pb\n",
      "10:51  theta [18.19483323  6.74706063]: xsec = (0.0005316006732852292 +/- 1.4444782172829538e-05) pb\n",
      "10:51  theta [ -9.50062762 -21.00484428]: xsec = (0.0009901595435868333 +/- 2.7257107864956652e-05) pb\n",
      "10:51  theta [22.28556617 19.46331436]: xsec = (0.0007012589542962739 +/- 2.872032226956867e-05) pb\n",
      "10:51  theta [-3.44247349  1.94049944]: xsec = (0.0006702290786144958 +/- 6.368812386465182e-06) pb\n",
      "10:51  theta [-17.25399722  20.58167306]: xsec = (0.001209987742612876 +/- 4.9555994503119615e-05) pb\n",
      "10:51  theta [24.10778967  9.51587937]: xsec = (0.0005832612614867065 +/- 1.6900003253696186e-05) pb\n",
      "10:51  theta [33.44923299  6.05966383]: xsec = (0.0006770077959400295 +/- 2.1644713701166652e-05) pb\n",
      "10:51  theta [-39.47123071  -4.18629873]: xsec = (0.0018936296542682552 +/- 0.00013533486479865034) pb\n",
      "10:51  theta [40.65173361 16.29433724]: xsec = (0.0009192210269014103 +/- 3.825402403162094e-05) pb\n",
      "10:51  theta [ 26.09822174 -46.85405308]: xsec = (0.0016436681544865868 +/- 0.00010064345486034379) pb\n",
      "10:51  theta [ 4.93978139 22.47454471]: xsec = (0.0007958638052366447 +/- 2.13981381467982e-05) pb\n",
      "10:51  theta [ 14.98480528 -16.60392125]: xsec = (0.0006458383583945906 +/- 2.1453689106597396e-05) pb\n",
      "10:51  theta [ 12.96772638 -18.83621755]: xsec = (0.0006851277786799728 +/- 2.254301212900144e-05) pb\n",
      "10:51  theta [17.61463118 15.25246715]: xsec = (0.0006154120797167684 +/- 2.2540205980475377e-05) pb\n",
      "10:51  theta [-47.74467547   2.6657915 ]: xsec = (0.002350228203490485 +/- 0.00019044742575985207) pb\n",
      "10:51  theta [-24.53839272  -3.36828151]: xsec = (0.0012401304882373584 +/- 6.533847330648326e-05) pb\n",
      "10:51  theta [ 40.64622573 -17.81720418]: xsec = (0.0009847496528629165 +/- 7.537900090682779e-05) pb\n",
      "10:51  theta [-45.74107571  -2.56334554]: xsec = (0.0022262660876928406 +/- 0.00017318147850885077) pb\n",
      "10:51  theta [ -9.61971987 -13.39310783]: xsec = (0.0008715370954298356 +/- 2.222485810830916e-05) pb\n"
     ]
    },
    {
     "name": "stderr",
     "output_type": "stream",
     "text": [
      "10:51  theta [  5.97024053 -12.47320589]: xsec = (0.0006220637321092879 +/- 1.1581813496128309e-05) pb\n",
      "10:51  theta [-21.43633637  42.18161017]: xsec = (0.0020094043689846356 +/- 9.244018178917253e-05) pb\n",
      "10:51  theta [ -8.23074469 -25.6900849 ]: xsec = (0.001065043373150461 +/- 3.011452074761124e-05) pb\n",
      "10:51  theta [-21.72107182 -21.97705212]: xsec = (0.0013493874847521855 +/- 5.719595520102134e-05) pb\n",
      "10:51  theta [36.94072807 44.67131725]: xsec = (0.0016319889056222697 +/- 8.475499964130019e-05) pb\n",
      "10:51  theta [ 57.54485636 -70.9160403 ]: xsec = (0.0038636477847731774 +/- 0.0003303029541558783) pb\n",
      "10:51  theta [ -8.04134944 -73.92732631]: xsec = (0.003329100884497891 +/- 0.00013505980337811128) pb\n",
      "10:51  theta [-10.19932275   5.47309401]: xsec = (0.0008222306228769715 +/- 2.077474669013725e-05) pb\n",
      "10:51  theta [ 17.8013728  -11.44965047]: xsec = (0.0005796430070882362 +/- 1.7762234884793602e-05) pb\n",
      "10:51  theta [ -3.14912635 -15.43432034]: xsec = (0.0007728430168109902 +/- 1.4804498742443943e-05) pb\n",
      "10:51  theta [-15.68482409  11.55955695]: xsec = (0.0010192298042830186 +/- 3.860091766049754e-05) pb\n",
      "10:51  theta [ 36.23111196 -42.52557696]: xsec = (0.0016219206523374477 +/- 0.00012104631591173771) pb\n",
      "10:51  theta [-28.23558795 -32.48246398]: xsec = (0.0018485051810405006 +/- 8.575969502325306e-05) pb\n",
      "10:51  theta [-3.65357907 -1.45376963]: xsec = (0.000672288506832577 +/- 7.059608673363849e-06) pb\n",
      "10:51  theta [-45.2281824   39.09314346]: xsec = (0.0029880045716194183 +/- 0.00022523359784451373) pb\n",
      "10:51  theta [-39.53313938  41.83976007]: xsec = (0.0027863237187658067 +/- 0.0001912742920198571) pb\n",
      "10:51  theta [-8.29519511 26.1027514 ]: xsec = (0.0010969243676135576 +/- 2.8751058856774655e-05) pb\n",
      "10:51  theta [31.31962991 50.02620148]: xsec = (0.0017771492691655497 +/- 9.124947337045642e-05) pb\n",
      "10:51  theta [23.10103841  9.07350546]: xsec = (0.0005719626287203129 +/- 1.6435373253524528e-05) pb\n",
      "10:51  theta [-94.97706918  37.09807838]: xsec = (0.006910431022855044 +/- 0.0007118723056007914) pb\n",
      "10:51  theta [ 32.73036935 -91.81117785]: xsec = (0.004750901163457454 +/- 0.0002836998299555431) pb\n",
      "10:51  theta [25.48348987 18.1524572 ]: xsec = (0.0007028622824423267 +/- 2.7582583955518955e-05) pb\n",
      "10:51  theta [13.55889407 -0.74339223]: xsec = (0.0005101670745497071 +/- 1.0254746445731134e-05) pb\n",
      "10:51  theta [-32.55180902  19.32116952]: xsec = (0.0017631732142165653 +/- 0.00011669736988674074) pb\n",
      "10:51  theta [28.25445324 19.74156372]: xsec = (0.0007589708320949228 +/- 3.056330490207871e-05) pb\n",
      "10:51  theta [31.72075223 17.65979123]: xsec = (0.0007696079223535838 +/- 2.8948302137360627e-05) pb\n",
      "10:51  theta [-14.48808972  -5.23739335]: xsec = (0.0009247106847161954 +/- 3.154156527792552e-05) pb\n",
      "10:51  theta [-25.06609866 -33.15388956]: xsec = (0.0017492925023454738 +/- 7.557450674118386e-05) pb\n",
      "10:51  theta [-3.05462602 52.08172432]: xsec = (0.0019636974153483594 +/- 6.538932886847987e-05) pb\n",
      "10:51  theta [-17.60009755  25.35652034]: xsec = (0.00132837327208358 +/- 5.498475365378913e-05) pb\n",
      "10:51  theta [-7.90415114 27.30485104]: xsec = (0.0011191766133857263 +/- 2.931081046134419e-05) pb\n",
      "10:51  theta [18.14702179 64.22591353]: xsec = (0.0024457714713486977 +/- 0.00010957493420064374) pb\n",
      "10:51  theta [ 55.58881995 -15.27034942]: xsec = (0.0014077734668001126 +/- 0.00013278084210012527) pb\n",
      "10:51  theta [-6.19610424 10.21980395]: xsec = (0.0007719160671251946 +/- 1.3121240472643548e-05) pb\n",
      "10:51  theta [26.40966519 23.36671905]: xsec = (0.0008108432457846254 +/- 3.552864233001603e-05) pb\n",
      "10:51  theta [-0.49062273 14.00895868]: xsec = (0.000716558835384274 +/- 1.0304803914348305e-05) pb\n",
      "10:51  theta [ -2.81717014 -98.22606887]: xsec = (0.005227399478925689 +/- 0.00022718879002086616) pb\n",
      "10:51  theta [34.08359871 17.40169205]: xsec = (0.0008033316222457327 +/- 3.026788208584445e-05) pb\n",
      "10:51  theta [ 16.5060479  -17.79500163]: xsec = (0.0006675922527992629 +/- 2.4399748805856146e-05) pb\n",
      "10:51  theta [ 7.55538916 40.54577402]: xsec = (0.0013121818759280987 +/- 4.7333713764383836e-05) pb\n",
      "10:51  theta [-40.67767124  -1.13858947]: xsec = (0.001951985833893831 +/- 0.00014397989635219234) pb\n",
      "10:51  theta [ 2.18527544 16.36407895]: xsec = (0.0007141109826617083 +/- 1.356868783645767e-05) pb\n",
      "10:51  theta [  6.84020161 -45.51881585]: xsec = (0.0015305909189662005 +/- 6.288692719607927e-05) pb\n",
      "10:51  theta [63.56862574 39.93132209]: xsec = (0.0022820492061128555 +/- 0.00013303685125524626) pb\n",
      "10:51  theta [-3.14940418 25.46728942]: xsec = (0.0009773485078507695 +/- 2.1555345172426824e-05) pb\n",
      "10:51  theta [-27.21892778 -21.30881474]: xsec = (0.0015344147178317975 +/- 7.594292054542216e-05) pb\n",
      "10:51  theta [1.68154736 7.91965933]: xsec = (0.0006223774045162235 +/- 6.95024670532743e-06) pb\n",
      "10:51  theta [-44.85736299  15.36146823]: xsec = (0.0023143034097539107 +/- 0.00018533387980690575) pb\n",
      "10:51  theta [3.65669036 4.79348169]: xsec = (0.0005801665103437097 +/- 6.742597937100804e-06) pb\n",
      "10:51  theta [ 33.41593975 -14.30152163]: xsec = (0.000775942633706631 +/- 4.688874158332989e-05) pb\n",
      "10:51  theta [-6.28208737e-03 -4.62309113e+01]: xsec = (0.0016256409127953374 +/- 6.0531439528490786e-05) pb\n",
      "10:51  theta [ 32.44137503 -26.05341214]: xsec = (0.0009959556457183093 +/- 6.814406392847444e-05) pb\n",
      "10:51  theta [ 74.88267003 -36.32066347]: xsec = (0.0028821058284380623 +/- 0.0003191496199137644) pb\n",
      "10:51  theta [ 42.60027508 -16.47622414]: xsec = (0.001010504743408698 +/- 7.932676768030083e-05) pb\n",
      "10:51  theta [20.05284321  7.99043181]: xsec = (0.0005462369585378038 +/- 1.5471834676812308e-05) pb\n",
      "10:51  theta [ -0.30756286 -29.54110995]: xsec = (0.0010299149833529705 +/- 3.0466411345633827e-05) pb\n",
      "10:51  theta [-8.20555237  3.29930651]: xsec = (0.0007669665822751515 +/- 1.569107246956659e-05) pb\n",
      "10:51  theta [ 19.5734729  -42.23328331]: xsec = (0.0013884278075781476 +/- 7.38904932237546e-05) pb\n",
      "10:51  theta [-36.59554633 -58.24232523]: xsec = (0.003286833541614624 +/- 0.00015138550010664092) pb\n",
      "10:51  theta [ 33.44390158 -29.9914977 ]: xsec = (0.0011222735489429154 +/- 7.988112050198215e-05) pb\n",
      "10:51  theta [-9.8931897   5.38730772]: xsec = (0.0008145470908693336 +/- 1.9991979595126708e-05) pb\n",
      "10:51  theta [ 13.11238232 -35.92856476]: xsec = (0.0011355508068180752 +/- 5.0063664545979136e-05) pb\n",
      "10:51  theta [-8.43141564 73.87872862]: xsec = (0.003391972893030044 +/- 0.00012952996687911998) pb\n",
      "10:51  theta [  4.78374071 -16.21694265]: xsec = (0.0006835103554184159 +/- 1.465461842541616e-05) pb\n",
      "10:51  theta [ -0.38704739 -34.42901257]: xsec = (0.0011791008150932448 +/- 3.809855237163022e-05) pb\n",
      "10:51  theta [-17.03663342  46.32699931]: xsec = (0.002040464682124116 +/- 8.245821007855259e-05) pb\n",
      "10:51  theta [-16.54728535  33.39611855]: xsec = (0.0015261332251314689 +/- 6.0262930910501516e-05) pb\n",
      "10:51  theta [-9.88465629  5.52557422]: xsec = (0.0008151271264712003 +/- 1.9997129068517892e-05) pb\n",
      "10:51  theta [11.64019017 35.89851413]: xsec = (0.001118126620819045 +/- 4.422313174652203e-05) pb\n",
      "10:51  theta [29.61346038  0.93918656]: xsec = (0.0006063752501383354 +/- 1.781917370180835e-05) pb\n",
      "10:51  theta [ -4.85881668 -16.30467212]: xsec = (0.0008152013518982175 +/- 1.7102739341471586e-05) pb\n",
      "10:51  theta [-52.86693097 -22.06313951]: xsec = (0.0028445358630556734 +/- 0.00020849416811693613) pb\n",
      "10:51  theta [ 11.03315811 -10.21123864]: xsec = (0.0005682252929369493 +/- 1.2360779415430625e-05) pb\n",
      "10:51  theta [  6.27496521 -57.67170414]: xsec = (0.0021319522083045324 +/- 9.201572365970426e-05) pb\n",
      "10:51  theta [-107.70172724    0.71676749]: xsec = (0.007515678915769687 +/- 0.0007750063306456632) pb\n",
      "10:51  theta [-0.5584616  14.84806256]: xsec = (0.0007292141044391976 +/- 1.0960752500718442e-05) pb\n",
      "10:51  theta [ 10.93762138 -39.81493789]: xsec = (0.0012801568022788592 +/- 5.509264427268006e-05) pb\n",
      "10:51  theta [-22.34592604 -32.41984325]: xsec = (0.0016319114496359094 +/- 6.659384360154464e-05) pb\n",
      "10:51  theta [-5.72729233 11.00383818]: xsec = (0.0007707546997672053 +/- 1.2613067348800833e-05) pb\n",
      "10:51  theta [36.54462234 -9.046291  ]: xsec = (0.0007712683363687183 +/- 4.553611867629002e-05) pb\n",
      "10:51  theta [-30.45254423  -4.79295589]: xsec = (0.001477403237081124 +/- 8.985684949090769e-05) pb\n"
     ]
    },
    {
     "name": "stderr",
     "output_type": "stream",
     "text": [
      "10:51  theta [-46.89360227 -40.90380447]: xsec = (0.0030216848140601793 +/- 0.0001764642247202519) pb\n",
      "10:51  theta [29.55831472 10.341192  ]: xsec = (0.0006482110644369255 +/- 1.9176615853692245e-05) pb\n",
      "10:51  theta [-44.20426855  51.84843457]: xsec = (0.003501707360225529 +/- 0.00024510552343969027) pb\n",
      "10:51  theta [-21.68046828 -51.64221086]: xsec = (0.0023626430652161365 +/- 9.317312806389962e-05) pb\n",
      "10:51  theta [-33.41636464 -10.90800482]: xsec = (0.0016447022343415553 +/- 0.0001018298849297687) pb\n",
      "10:51  theta [-23.19136167  64.57603359]: xsec = (0.0032300978010517552 +/- 0.0001490317587657352) pb\n",
      "10:51  theta [-3.98967613 46.40106321]: xsec = (0.0017137984896771548 +/- 5.415066491461254e-05) pb\n",
      "10:51  theta [-8.36023585 -0.46499674]: xsec = (0.000763776126824316 +/- 1.5954291499035135e-05) pb\n",
      "10:51  theta [ -6.46535336 -29.13905026]: xsec = (0.0011185616653298486 +/- 3.250586664710567e-05) pb\n",
      "10:51  theta [59.23829881 19.92872672]: xsec = (0.0015676309977283658 +/- 9.917822419537612e-05) pb\n",
      "10:51  theta [-22.92300752   6.23186129]: xsec = (0.0012034790099457154 +/- 6.232740645528177e-05) pb\n",
      "10:51  theta [-40.76366504   0.68448785]: xsec = (0.0019586916108934736 +/- 0.00014575066901577317) pb\n",
      "10:51  theta [ 24.60334129 -23.06755148]: xsec = (0.0008195784798612821 +/- 4.416574461634125e-05) pb\n",
      "10:51  theta [-7.97179575 11.51668434]: xsec = (0.0008229871199209044 +/- 1.729224981516781e-05) pb\n",
      "10:51  theta [ 16.6839361 -54.0816508]: xsec = (0.0019242626439780672 +/- 9.783496313295597e-05) pb\n",
      "10:51  theta [-30.73338822  -8.79347736]: xsec = (0.0015106464559722327 +/- 9.000898016941079e-05) pb\n",
      "10:51  theta [24.1034035   1.08816477]: xsec = (0.0005462760398671425 +/- 1.2621590547887589e-05) pb\n",
      "10:51  theta [-0.09588051 51.69830159]: xsec = (0.0018939083338342666 +/- 6.386753781284705e-05) pb\n",
      "10:51  theta [-53.75605877 -12.2541204 ]: xsec = (0.0027585998958593234 +/- 0.00021890753364306977) pb\n",
      "10:51  theta [-1.23196378 12.61738006]: xsec = (0.0007100195675191613 +/- 9.201113534910227e-06) pb\n",
      "10:51  theta [ 2.88921308 -4.84366722]: xsec = (0.0005886556664919323 +/- 5.116901389787098e-06) pb\n",
      "10:51  theta [ 1.32509409 20.12760316]: xsec = (0.0007908714925668997 +/- 1.6356829511923442e-05) pb\n",
      "10:51  theta [-37.33170883  -5.4303663 ]: xsec = (0.0017916221372044894 +/- 0.00012318805896963008) pb\n",
      "10:51  theta [-70.38913478  -3.77024584]: xsec = (0.0039002320627055127 +/- 0.0003580305988934743) pb\n",
      "10:51  theta [  7.19558938 -32.65506867]: xsec = (0.0010485141797897278 +/- 3.8218475634855604e-05) pb\n",
      "10:51  theta [ 41.7320031  -39.65254481]: xsec = (0.001635822222181161 +/- 0.00013432169619307096) pb\n",
      "10:51  theta [-2.41427312 84.22074862]: xsec = (0.00404298891460577 +/- 0.0001574115702800171) pb\n",
      "10:51  theta [-55.78428669  37.31986413]: xsec = (0.0035768627651062207 +/- 0.00030337942389722846) pb\n",
      "10:51  theta [21.63796877  0.56713281]: xsec = (0.0005284052039460876 +/- 1.1753159504160186e-05) pb\n",
      "10:51  theta [-37.24251291  10.72282529]: xsec = (0.0018495524252858516 +/- 0.00013396568274346617) pb\n",
      "10:51  theta [ 4.74247489 -5.25084076]: xsec = (0.0005715197255928333 +/- 6.3078631405656705e-06) pb\n",
      "10:51  theta [-16.2747563    3.78168781]: xsec = (0.0009746202607175313 +/- 3.775813727568473e-05) pb\n",
      "10:51  theta [-33.75569097  21.84337142]: xsec = (0.0018703755883214257 +/- 0.0001259611116435735) pb\n",
      "10:51  theta [38.30337166 37.94882985]: xsec = (0.0014018173802073655 +/- 7.09668228228765e-05) pb\n",
      "10:51  theta [-52.51438933  -1.51228284]: xsec = (0.0026297106986336843 +/- 0.00021881414177233385) pb\n",
      "10:51  theta [-10.43031429 -48.80520556]: xsec = (0.0019217855751294968 +/- 6.95089388870247e-05) pb\n",
      "10:51  theta [-2.97594037 15.7242157 ]: xsec = (0.0007811653280495553 +/- 1.220359383031458e-05) pb\n",
      "10:51  theta [ 34.94827765 -22.58435466]: xsec = (0.0009576405802788284 +/- 6.770528106631348e-05) pb\n",
      "10:51  theta [22.10560962  1.84210656]: xsec = (0.0005320495162761482 +/- 1.1939512713567522e-05) pb\n",
      "10:51  theta [-21.14015467  23.11927484]: xsec = (0.0013911973167580608 +/- 6.659793086789061e-05) pb\n",
      "10:51  theta [-23.46061438  -4.12328273]: xsec = (0.001203132507945399 +/- 6.103387141556517e-05) pb\n",
      "10:51  theta [ 37.89772038 -30.40839144]: xsec = (0.0012242902326116477 +/- 9.520484581328916e-05) pb\n",
      "10:51  theta [-1.38358482 14.41495079]: xsec = (0.0007358154432266471 +/- 1.0582203151118255e-05) pb\n",
      "10:51  theta [-32.67641501 -41.16473474]: xsec = (0.0023256748238030538 +/- 0.00011051891529604679) pb\n",
      "10:51  theta [-23.08916405  15.53451732]: xsec = (0.001313882851418599 +/- 6.845454054846084e-05) pb\n",
      "10:51  theta [ 16.77702001 -17.55532742]: xsec = (0.0006640096771226226 +/- 2.434776276102165e-05) pb\n",
      "10:51  theta [-50.46097753  39.16351921]: xsec = (0.0033033786081195374 +/- 0.0002644755062274487) pb\n",
      "10:51  theta [11.20328676 57.50764801]: xsec = (0.0020753565028966874 +/- 8.45139782039563e-05) pb\n",
      "10:51  theta [32.36791895 13.82870885]: xsec = (0.0007256002441734734 +/- 2.455226435827396e-05) pb\n",
      "10:51  theta [-49.26850502 -29.92504646]: xsec = (0.0028068485311953427 +/- 0.00018543528742391807) pb\n",
      "10:51  theta [ 55.03609908 -15.80852354]: xsec = (0.0013956911336115028 +/- 0.00013131527340932856) pb\n",
      "10:51  theta [ 21.1576072 -19.3916587]: xsec = (0.0007156643503345915 +/- 3.227368541643781e-05) pb\n",
      "10:51  theta [-7.82705656 50.65073402]: xsec = (0.001992295923969156 +/- 6.7197011293916e-05) pb\n",
      "10:51  theta [-1.10019822 20.66824059]: xsec = (0.0008367718243512178 +/- 1.6057974810936543e-05) pb\n",
      "10:51  theta [-41.19781544 -31.39814843]: xsec = (0.0024032192821779727 +/- 0.0001412721071285169) pb\n",
      "10:51  theta [-8.26106632  8.9114518 ]: xsec = (0.0008029846283323445 +/- 1.696977967894107e-05) pb\n",
      "10:51  theta [27.30864586 19.86093162]: xsec = (0.0007505726435407777 +/- 3.0466796603573818e-05) pb\n",
      "10:51  theta [-22.39583499  14.1524428 ]: xsec = (0.001268463234439807 +/- 6.463973558465473e-05) pb\n",
      "10:51  theta [-34.33944228  -5.12018872]: xsec = (0.001649408326212018 +/- 0.00010809731262688038) pb\n",
      "10:51  theta [-8.95019193 24.37365653]: xsec = (0.0010696594146910805 +/- 2.835620894317265e-05) pb\n",
      "10:51  theta [-39.01378709 -23.77892993]: xsec = (0.00210402283787955 +/- 0.00012830027872621567) pb\n",
      "10:51  theta [-38.87204777 -16.32145604]: xsec = (0.0019650737409248283 +/- 0.0001277254006951086) pb\n",
      "10:51  theta [-12.86790728   5.49415783]: xsec = (0.0008888206820467238 +/- 2.7925740040220325e-05) pb\n",
      "10:51  theta [32.36159302 42.97677028]: xsec = (0.0014862688730824334 +/- 7.619144096920693e-05) pb\n",
      "10:51  theta [-59.62052296  40.70684006]: xsec = (0.00397371997304771 +/- 0.00034376315393359067) pb\n",
      "10:51  theta [ -4.25804395 -31.52978679]: xsec = (0.0011471209580138386 +/- 3.4386359654879716e-05) pb\n",
      "10:51  theta [  4.7250256 -62.3572038]: xsec = (0.0024105941861704647 +/- 0.00010355704295642779) pb\n",
      "10:51  theta [46.35290616 37.13289441]: xsec = (0.0015676753425852502 +/- 8.027178863954588e-05) pb\n",
      "10:51  theta [  6.25834464 -12.98607412]: xsec = (0.0006260352238394082 +/- 1.2159215781753468e-05) pb\n",
      "10:51  theta [10.63121066 37.93234483]: xsec = (0.0011940019980278482 +/- 4.627785014446619e-05) pb\n",
      "10:51  theta [-23.39849368  46.66454836]: xsec = (0.0022739587609059797 +/- 0.00010915521006249726) pb\n",
      "10:51  theta [16.00042391  3.08177226]: xsec = (0.0005122818131907336 +/- 1.1953871772963794e-05) pb\n",
      "10:51  theta [35.59696119 -0.79452157]: xsec = (0.0007053166499049708 +/- 3.081435504166955e-05) pb\n",
      "10:51  theta [20.49337171 18.22611833]: xsec = (0.000670370100181639 +/- 2.6697810743611777e-05) pb\n",
      "10:51  theta [ 8.7683403  22.76761213]: xsec = (0.0007700624308794695 +/- 2.5121508756166856e-05) pb\n",
      "10:51  theta [-46.91388292 -62.80229992]: xsec = (0.004067325745155341 +/- 0.000204843525567499) pb\n",
      "10:51  theta [-38.76124712 -42.60364084]: xsec = (0.002660109183137518 +/- 0.00013746443091665204) pb\n",
      "10:51  theta [15.17428037 45.48963336]: xsec = (0.0014763940605196065 +/- 6.39982666265811e-05) pb\n",
      "10:51  theta [-18.7837068 -44.5346335]: xsec = (0.0019524057563305689 +/- 7.38724059136754e-05) pb\n",
      "10:51  theta [-56.31823998 -36.56343203]: xsec = (0.0034416445141462627 +/- 0.00023105766528605062) pb\n",
      "10:51  theta [ 27.69639107 -29.4085342 ]: xsec = (0.0010169945414928172 +/- 6.325199407519048e-05) pb\n"
     ]
    },
    {
     "name": "stderr",
     "output_type": "stream",
     "text": [
      "10:51  theta [ 0.26876038 34.02761157]: xsec = (0.0011653681304969112 +/- 3.229932949089121e-05) pb\n",
      "10:51  theta [31.02866677 54.90267624]: xsec = (0.0020124268535945304 +/- 0.00010282781740597091) pb\n",
      "10:51  theta [ 20.29420514 -26.14195838]: xsec = (0.0008604750103643169 +/- 4.23382325280257e-05) pb\n",
      "10:51  theta [-21.95641338 -18.10420475]: xsec = (0.001286673589460665 +/- 5.640203165130788e-05) pb\n",
      "10:51  theta [-2.12487105  0.94318573]: xsec = (0.0006467148526086555 +/- 4.4943420395792935e-06) pb\n",
      "10:51  theta [44.18932224 -8.28840554]: xsec = (0.0009459118906661509 +/- 6.834413808203911e-05) pb\n",
      "10:51  theta [20.13442588 56.51033557]: xsec = (0.002009952494352429 +/- 9.307132237559131e-05) pb\n",
      "10:51  theta [50.7105748  85.69837341]: xsec = (0.004462247567035039 +/- 0.00023588519083200224) pb\n",
      "10:51  theta [-24.53900412  28.72403493]: xsec = (0.0016569497601862618 +/- 8.722364153700882e-05) pb\n",
      "10:51  theta [  0.56275479 -45.9769504 ]: xsec = (0.001607554804739429 +/- 6.0134891829790224e-05) pb\n",
      "10:51  theta [-19.58152797 -29.0738045 ]: xsec = (0.0014468781048790214 +/- 5.582108847969015e-05) pb\n",
      "10:51  theta [-21.40688428 -10.08879401]: xsec = (0.0011672688689823932 +/- 5.3180734370458184e-05) pb\n",
      "10:51  theta [ -6.7002997  -17.65229441]: xsec = (0.0008712320294653756 +/- 2.0383510875524228e-05) pb\n",
      "10:51  theta [-22.01523106  40.36066523]: xsec = (0.00195694694477443 +/- 9.195620529808733e-05) pb\n",
      "10:51  theta [18.14838318 18.19791156]: xsec = (0.0006620425725616713 +/- 2.600632480926515e-05) pb\n",
      "10:51  theta [ 23.59984781 -39.63928495]: xsec = (0.0013155803339875544 +/- 7.645457039029737e-05) pb\n",
      "10:51  theta [-27.11436015 -66.59835481]: xsec = (0.003379287691424637 +/- 0.00014032298415399893) pb\n",
      "10:51  theta [ 39.93380848 -37.18444569]: xsec = (0.0014973227720209482 +/- 0.00012025220227695346) pb\n",
      "10:51  theta [-30.79531155  -3.93658809]: xsec = (0.0014893136206517818 +/- 9.171376506818228e-05) pb\n",
      "10:51  theta [39.68366457 -4.28772996]: xsec = (0.0008036305769586346 +/- 4.6585168833193874e-05) pb\n",
      "10:51  theta [-33.35462377 -17.59961275]: xsec = (0.0017246256911556737 +/- 0.00010086423687913145) pb\n",
      "10:51  theta [ 35.72066356 -66.67758804]: xsec = (0.0028914392106703457 +/- 0.00019552990194191314) pb\n",
      "10:51  theta [-40.01285421  14.02830192]: xsec = (0.0020324219983175193 +/- 0.00015335425683045645) pb\n",
      "10:51  theta [-17.88264907 -23.22173554]: xsec = (0.001253611546919924 +/- 4.6810149546280945e-05) pb\n",
      "10:51  theta [ 47.62378329 -72.47613843]: xsec = (0.0036036525710255464 +/- 0.0002759298436769726) pb\n",
      "10:51  theta [19.97654011 -6.62493064]: xsec = (0.0005441153512700809 +/- 1.4552442048079665e-05) pb\n",
      "10:51  theta [10.80820708 27.1520575 ]: xsec = (0.0008616667145659231 +/- 3.1779781440518835e-05) pb\n",
      "10:51  theta [ 1.69195702 29.91804641]: xsec = (0.0010198199223305788 +/- 2.7341618514409514e-05) pb\n",
      "10:51  theta [-20.99455961  33.63591996]: xsec = (0.0016786994475776306 +/- 7.775301412325446e-05) pb\n",
      "10:51  theta [-15.38096992 -80.25095968]: xsec = (0.0039541391916681976 +/- 0.00016106437332400465) pb\n",
      "10:51  theta [ 42.98676209 -21.67288783]: xsec = (0.0011216330655717073 +/- 9.253159837680245e-05) pb\n",
      "10:51  theta [ 18.84243054 -15.66162742]: xsec = (0.000639570734198914 +/- 2.3927817283635187e-05) pb\n",
      "10:51  theta [-13.12306925 -29.41666419]: xsec = (0.0012737102592685436 +/- 4.1703666092371706e-05) pb\n",
      "10:51  theta [ 74.8068142  -18.52746539]: xsec = (0.002372274273206725 +/- 0.00025983035139443873) pb\n",
      "10:51  theta [52.34254226  2.92174825]: xsec = (0.0011531978848434948 +/- 8.190543039518597e-05) pb\n",
      "10:51  theta [26.25350972  0.65132474]: xsec = (0.000566336275109621 +/- 1.4193400027826793e-05) pb\n",
      "10:51  theta [  1.17344353 -25.50832625]: xsec = (0.0009058874263165221 +/- 2.4861028373308167e-05) pb\n",
      "10:51  theta [ 4.96764287 73.63756788]: xsec = (0.0031335135373375725 +/- 0.00012223931717085157) pb\n",
      "10:51  theta [-30.24386526  21.37411736]: xsec = (0.001704073767373488 +/- 0.00010681075596656952) pb\n",
      "10:51  theta [45.77916608 11.26495801]: xsec = (0.0009914825159745943 +/- 5.01793730623286e-05) pb\n",
      "10:51  theta [-7.13818348 35.94134126]: xsec = (0.0013653978810921087 +/- 3.936192087777015e-05) pb\n",
      "10:51  theta [-44.77310257  37.77015061]: xsec = (0.0029115391332011466 +/- 0.00021945541921531702) pb\n",
      "10:51  theta [ 55.95829426 -21.8750519 ]: xsec = (0.0015498884388036784 +/- 0.00015156141091077625) pb\n",
      "10:51  theta [-8.9577787  19.91748359]: xsec = (0.0009740697376570034 +/- 2.450758778659167e-05) pb\n",
      "10:51  theta [31.22195104 48.04215961]: xsec = (0.0016850253660456093 +/- 8.64871470775174e-05) pb\n",
      "10:51  theta [-46.03983281 -14.10336695]: xsec = (0.002315969781906931 +/- 0.00016832874441677015) pb\n",
      "10:51  theta [-20.16489998  29.5363874 ]: xsec = (0.001523870862888178 +/- 6.927614876832618e-05) pb\n",
      "10:51  theta [-9.57895593 25.47091028]: xsec = (0.0011108839466686866 +/- 3.083295256515535e-05) pb\n",
      "10:51  theta [-23.38107288  32.32080585]: xsec = (0.0017215198784672164 +/- 8.639795409355424e-05) pb\n",
      "10:51  theta [-13.41746567  18.00557846]: xsec = (0.001050242506830701 +/- 3.504233037309968e-05) pb\n",
      "10:51  theta [-63.67439098 -22.15163351]: xsec = (0.0035750753118499942 +/- 0.0002855623004903083) pb\n",
      "10:51  theta [ 16.89053095 -25.60287193]: xsec = (0.0008329623738112717 +/- 3.654669336453647e-05) pb\n",
      "10:51  theta [-21.96449902   2.14377045]: xsec = (0.0011501435012947609 +/- 5.7025415946125894e-05) pb\n",
      "10:51  theta [39.16737471  4.94785888]: xsec = (0.0007841399804894146 +/- 3.4284041471212876e-05) pb\n",
      "10:51  theta [-2.77748569 29.13640601]: xsec = (0.0010669222295976325 +/- 2.5769931032166364e-05) pb\n",
      "10:51  theta [-54.36547574 -27.24516063]: xsec = (0.003050894389694316 +/- 0.00021741100137691877) pb\n",
      "10:51  theta [53.60745219 -2.19518014]: xsec = (0.0012041519306574067 +/- 9.555123685315492e-05) pb\n",
      "10:51  theta [-2.61214805  9.17559471]: xsec = (0.0006959828261010682 +/- 7.555283990731097e-06) pb\n",
      "10:51  theta [ 17.22606359 -14.89517447]: xsec = (0.0006228279803561214 +/- 2.1326399709477067e-05) pb\n",
      "10:51  theta [16.29006705  3.32930816]: xsec = (0.0005131940864503641 +/- 1.2105626252393888e-05) pb\n",
      "10:51  theta [-23.60362006  24.20274761]: xsec = (0.0015041463127323164 +/- 7.80983129242995e-05) pb\n",
      "10:51  theta [ 5.1366893  -9.37651312]: xsec = (0.0005967706151214628 +/- 8.792647066395795e-06) pb\n",
      "10:51  theta [ 24.25884185 -57.41937538]: xsec = (0.0021548709115709087 +/- 0.00012527421321925316) pb\n",
      "10:51  theta [26.01157854 38.99875942]: xsec = (0.0012596152905818884 +/- 6.240913710763355e-05) pb\n",
      "10:51  theta [-10.41498175  17.07726373]: xsec = (0.0009572382019907764 +/- 2.6038758025880245e-05) pb\n",
      "10:51  theta [62.98504948 -9.13953518]: xsec = (0.0016322599743137617 +/- 0.00015802852106813363) pb\n",
      "10:51  theta [-95.86007936  11.74820076]: xsec = (0.006330717487651837 +/- 0.0006527460272429328) pb\n",
      "10:51  theta [12.20262686 16.30080677]: xsec = (0.0006344092712904472 +/- 2.135094027963502e-05) pb\n",
      "10:51  theta [  2.94621132 -16.70189754]: xsec = (0.0007092715881789614 +/- 1.4631717171333461e-05) pb\n",
      "10:51  theta [ -7.26551108 -56.23213566]: xsec = (0.0022249840738383683 +/- 8.433898887321559e-05) pb\n",
      "10:51  theta [25.39444981 21.72269822]: xsec = (0.000767288690911221 +/- 3.2709751088128854e-05) pb\n",
      "10:51  theta [-27.42925315 -13.3854468 ]: xsec = (0.0014198005859099151 +/- 7.555066661006376e-05) pb\n",
      "10:51  theta [18.31568778  9.26671495]: xsec = (0.0005499386201738878 +/- 1.660458072576988e-05) pb\n",
      "10:51  theta [14.92425561 37.75865705]: xsec = (0.0011733271181895901 +/- 5.035230429982374e-05) pb\n",
      "10:51  theta [-12.89610854  -0.72080567]: xsec = (0.0008720671459624516 +/- 2.7143600414992942e-05) pb\n",
      "10:51  theta [ 15.69535165 -25.67275544]: xsec = (0.0008323501593837251 +/- 3.5170247713423847e-05) pb\n",
      "10:51  theta [-23.59016291 -10.43478872]: xsec = (0.0012458597917201664 +/- 6.08912801108826e-05) pb\n",
      "10:51  theta [-56.65561479  -7.15861137]: xsec = (0.0029097754949494467 +/- 0.00024328477789505894) pb\n",
      "10:51  theta [ 36.18361027 -21.84044751]: xsec = (0.0009655560334209864 +/- 6.976091721088267e-05) pb\n",
      "10:51  theta [ 17.14262643 -34.58201683]: xsec = (0.0010946815363814403 +/- 5.3168157828888796e-05) pb\n",
      "10:51  theta [ 30.96790355 -47.35950936]: xsec = (0.0017350849738923101 +/- 0.00011646809408478167) pb\n"
     ]
    },
    {
     "name": "stderr",
     "output_type": "stream",
     "text": [
      "10:51  theta [-42.96730013  -9.0036652 ]: xsec = (0.0020989531146958676 +/- 0.00015252275891948993) pb\n",
      "10:51  theta [-30.28172628  50.85289117]: xsec = (0.002751536303493573 +/- 0.00015264830415143632) pb\n",
      "10:51  theta [ 15.30929231 -76.58098486]: xsec = (0.003328007329729277 +/- 0.00016567999752263127) pb\n",
      "10:51  theta [-81.59423502  10.69632696]: xsec = (0.004934999853311329 +/- 0.000490188271744916) pb\n",
      "10:51  theta [10.29225687 -5.00549528]: xsec = (0.0005322227708460904 +/- 9.289629386020937e-06) pb\n",
      "10:51  theta [-26.45424159 -53.32629781]: xsec = (0.0026107304776308094 +/- 0.00010844678347196635) pb\n",
      "10:51  theta [-16.48861961  20.78337762]: xsec = (0.0011908543905033537 +/- 4.702303827075869e-05) pb\n",
      "10:51  theta [-21.71151465  -4.56574262]: xsec = (0.0011436107767032204 +/- 5.452876992665471e-05) pb\n",
      "10:51  theta [ 4.76371079 59.01815705]: xsec = (0.0022135786504322978 +/- 8.229588891806176e-05) pb\n",
      "10:51  theta [12.23051756 21.03670492]: xsec = (0.0007171596402505425 +/- 2.608930259706909e-05) pb\n",
      "10:51  theta [ 2.10619896 -6.07722885]: xsec = (0.0006040295256602882 +/- 5.498538021877239e-06) pb\n",
      "10:51  theta [-25.88504535 -41.0328151 ]: xsec = (0.0020497963458490716 +/- 8.68757623062773e-05) pb\n",
      "10:51  theta [-14.94469352 -19.7742382 ]: xsec = (0.0011014235190554768 +/- 3.725708481373703e-05) pb\n",
      "10:51  theta [-56.41453545  71.22552321]: xsec = (0.005437010633460897 +/- 0.00040013380862411943) pb\n",
      "10:51  theta [-26.51950916  31.91229754]: xsec = (0.0018286738395831034 +/- 0.00010057710096905696) pb\n",
      "10:51  theta [ 14.01296282 -27.39358986]: xsec = (0.0008753218910008958 +/- 3.599003650848831e-05) pb\n",
      "10:51  theta [-24.21137672  -5.78264292]: xsec = (0.0012364898186057994 +/- 6.35943381908052e-05) pb\n",
      "10:51  theta [ 9.51050997 25.01311359]: xsec = (0.0008160513629249642 +/- 2.817448445815088e-05) pb\n",
      "10:51  theta [-10.38379804  30.71041506]: xsec = (0.0012727808508172461 +/- 3.854350818263719e-05) pb\n",
      "10:51  theta [63.06401035  7.96622735]: xsec = (0.0015932377568628113 +/- 0.0001264797173580126) pb\n",
      "10:51  theta [-13.97448953  -2.13587982]: xsec = (0.0009017209499694839 +/- 3.0064426554312036e-05) pb\n",
      "10:51  theta [-11.10031482  27.40769083]: xsec = (0.0011977518760254422 +/- 3.6536235617036736e-05) pb\n",
      "10:51  theta [-27.75241517   0.07763382]: xsec = (0.0013610417039646291 +/- 7.970236835911191e-05) pb\n",
      "10:51  theta [ 23.60764771 -27.60365954]: xsec = (0.0009227792620898647 +/- 5.083417435149069e-05) pb\n",
      "10:51  theta [ 1.67505218 -8.62032426]: xsec = (0.0006268392058287192 +/- 7.191695178491247e-06) pb\n",
      "10:51  theta [-37.59387664   1.48600099]: xsec = (0.0018007115617608984 +/- 0.00012856215100218618) pb\n",
      "10:51  theta [74.61267107 -8.98299416]: xsec = (0.002214446983771669 +/- 0.0002317821477509292) pb\n",
      "10:51  theta [ 21.55917329 -27.07006699]: xsec = (0.0008924626899943465 +/- 4.610432449859057e-05) pb\n",
      "10:51  theta [-46.20612958  -3.89068309]: xsec = (0.0022545273085696122 +/- 0.0001751019868878223) pb\n",
      "10:51  theta [38.42539417 32.75358421]: xsec = (0.0012353811741999386 +/- 6.0216550753689305e-05) pb\n",
      "10:51  theta [-38.58186387 -13.80284697]: xsec = (0.0019180899792260579 +/- 0.00012671866502248383) pb\n",
      "10:51  theta [13.68737646  5.49769333]: xsec = (0.0005221032278631414 +/- 1.3050778164560748e-05) pb\n",
      "10:51  theta [-16.51844501 -14.30339498]: xsec = (0.001060370726652035 +/- 3.8817131273903583e-05) pb\n",
      "10:51  theta [-29.90020493  48.09898818]: xsec = (0.002602201607307489 +/- 0.00014488827749297508) pb\n",
      "10:51  theta [-12.55053657  32.07834883]: xsec = (0.0013699941480866773 +/- 4.58778224716116e-05) pb\n",
      "10:51  theta [-37.87963513 -49.86720712]: xsec = (0.0029273418251996755 +/- 0.00014249632464092844) pb\n",
      "10:51  theta [22.64449044 54.54375015]: xsec = (0.0019173381168318296 +/- 9.16348607580758e-05) pb\n",
      "10:51  theta [40.2361126  11.66923495]: xsec = (0.0008535912473948799 +/- 3.515616164495105e-05) pb\n",
      "10:51  theta [ 26.41148947 -47.93444493]: xsec = (0.001696925727129249 +/- 0.00010438552935022328) pb\n",
      "10:51  theta [-10.36367452  26.73635207]: xsec = (0.001161820806589582 +/- 3.398063214166156e-05) pb\n",
      "10:51  theta [-10.73512355 -10.84181917]: xsec = (0.000869013027825624 +/- 2.3376697332245205e-05) pb\n",
      "10:51  theta [-1.19252337 55.45681293]: xsec = (0.0021040285825134624 +/- 7.236341293634141e-05) pb\n",
      "10:51  theta [-0.81493158  2.13772103]: xsec = (0.0006284604130440665 +/- 3.332591567725786e-06) pb\n",
      "10:51  theta [-25.61174317  -5.62468636]: xsec = (0.0012875590502437289 +/- 6.90806021170854e-05) pb\n",
      "10:51  theta [ 22.70392572 -21.3678455 ]: xsec = (0.0007660316023147648 +/- 3.7863563649926104e-05) pb\n",
      "10:51  theta [-22.46041435  28.23056857]: xsec = (0.0015666951084010187 +/- 7.739320873324078e-05) pb\n",
      "10:51  theta [ -3.95686213 -73.38165728]: xsec = (0.0032208178614613094 +/- 0.00013284771355706428) pb\n",
      "10:51  theta [-29.16177487 -36.14785632]: xsec = (0.0020009735491166632 +/- 9.227627744134995e-05) pb\n",
      "10:51  theta [26.445327    7.87003772]: xsec = (0.0005922858974264869 +/- 1.57860022766425e-05) pb\n",
      "10:51  theta [  9.9163754  -16.56675702]: xsec = (0.000654883981408874 +/- 1.7653429736166013e-05) pb\n",
      "10:51  theta [-3.78797584 30.33694006]: xsec = (0.0011193933414003988 +/- 2.7839352283623302e-05) pb\n",
      "10:51  theta [-9.45090582 21.28911871]: xsec = (0.0010130028555431609 +/- 2.6725327739509657e-05) pb\n",
      "10:51  theta [-42.54344708 -26.3694403 ]: xsec = (0.00234240859081634 +/- 0.00014689921322076616) pb\n",
      "10:51  theta [22.9999833  43.05634867]: xsec = (0.0013929496429884835 +/- 6.756900372466924e-05) pb\n",
      "10:51  theta [24.03891744 25.81347734]: xsec = (0.0008459423574650731 +/- 3.842262530517738e-05) pb\n",
      "10:51  theta [-36.52481388  -3.3286557 ]: xsec = (0.0017467678289674402 +/- 0.00012000699157631681) pb\n",
      "10:51  theta [-8.41846503 -7.83874605]: xsec = (0.0007912516500474028 +/- 1.7496750060510138e-05) pb\n",
      "10:51  theta [21.26321339 62.54058794]: xsec = (0.0023519500534006418 +/- 0.00010940592528459185) pb\n",
      "10:51  theta [ -0.4909439 -39.2949982]: xsec = (0.0013505094023250406 +/- 4.662108850680705e-05) pb\n",
      "10:51  theta [26.01380905 -9.90407593]: xsec = (0.0006179923343539971 +/- 2.484699909403622e-05) pb\n",
      "10:51  theta [-59.11332601  -0.42595733]: xsec = (0.0030653256851516813 +/- 0.00026848950168063677) pb\n",
      "10:51  theta [ 28.72759273 -49.19179822]: xsec = (0.0017865546042981797 +/- 0.00011456821633711611) pb\n",
      "10:51  theta [21.13322376 -6.36856749]: xsec = (0.0005485206481147175 +/- 1.5146510222002479e-05) pb\n",
      "10:51  theta [ 2.99186748 29.98061447]: xsec = (0.0010049531217757354 +/- 2.8241053111377966e-05) pb\n",
      "10:51  theta [-20.06512612  67.71368672]: xsec = (0.0033168380514774103 +/- 0.00014426416485811613) pb\n",
      "10:51  theta [-14.63431431 -31.52050182]: xsec = (0.0013726712915892152 +/- 4.693950598711255e-05) pb\n",
      "10:51  theta [-42.81048391 -22.62532666]: xsec = (0.002274900978107653 +/- 0.0001480867164285984) pb\n",
      "10:51  theta [23.12058809  5.40188145]: xsec = (0.0005491240214254424 +/- 1.3473036204515885e-05) pb\n",
      "10:51  theta [-31.31850049  -1.33473028]: xsec = (0.0015081235845015742 +/- 9.519795839377985e-05) pb\n",
      "10:51  theta [-13.04100678  -2.16906202]: xsec = (0.0008770385063080253 +/- 2.7500572805038076e-05) pb\n",
      "10:51  theta [-23.29273795 -18.51947173]: xsec = (0.0013395761334424616 +/- 6.0992595134939513e-05) pb\n",
      "10:51  theta [ 2.47247007 32.38723771]: xsec = (0.0010829440999534554 +/- 3.103124316676178e-05) pb\n",
      "10:51  theta [ 25.06845864 -20.1441713 ]: xsec = (0.0007620084316500386 +/- 3.976317017945495e-05) pb\n",
      "10:51  theta [ 12.6379823  -25.46082034]: xsec = (0.0008271690293537338 +/- 3.148846494707345e-05) pb\n",
      "10:51  theta [ 16.20161626 -37.77262772]: xsec = (0.001203370005052765 +/- 5.813609452726906e-05) pb\n",
      "10:51  theta [ -5.47139618 -71.08732361]: xsec = (0.0030880242295341013 +/- 0.00012551221623442827) pb\n",
      "10:51  theta [-31.69585917 -63.00412121]: xsec = (0.003341231612528147 +/- 0.0001444482137683253) pb\n",
      "10:51  theta [  8.87733837 -22.03939988]: xsec = (0.0007612524699413891 +/- 2.3538050373856613e-05) pb\n",
      "10:51  theta [-49.28590892 -14.71018999]: xsec = (0.0025110056139641184 +/- 0.00018807188505702807) pb\n",
      "10:51  theta [-4.825318    6.70021734]: xsec = (0.0007159092517823235 +/- 9.434621117446687e-06) pb\n",
      "10:51  theta [-36.53511136  -8.54791263]: xsec = (0.00176990568590381 +/- 0.00011777230548199831) pb\n"
     ]
    },
    {
     "name": "stderr",
     "output_type": "stream",
     "text": [
      "10:51  theta [ 6.76276243 34.74799121]: xsec = (0.0011119008048947954 +/- 3.775575984004534e-05) pb\n",
      "10:51  theta [-33.35516404   9.84100892]: xsec = (0.0016565204690922827 +/- 0.0001122214672467866) pb\n",
      "10:51  theta [32.12831026 20.08924319]: xsec = (0.000817150773832908 +/- 3.273562096194655e-05) pb\n",
      "10:51  theta [-2.17932069 14.78519555]: xsec = (0.0007538723970138218 +/- 1.1062638399793046e-05) pb\n",
      "10:51  theta [ 11.96969653 -29.77615813]: xsec = (0.0009429135275146222 +/- 3.768293194275982e-05) pb\n",
      "10:51  theta [-91.93459294  -6.23793574]: xsec = (0.00582848990353525 +/- 0.0005701016885066775) pb\n",
      "10:51  theta [-21.63924917  10.698033  ]: xsec = (0.0011983265038280372 +/- 5.952315166517005e-05) pb\n",
      "10:51  theta [-37.46801151  -4.93153604]: xsec = (0.0017964553146977919 +/- 0.00012414512338467356) pb\n",
      "10:51  theta [-14.7780546 -54.014543 ]: xsec = (0.0022784453040420416 +/- 8.579648418314132e-05) pb\n",
      "10:51  theta [ 63.35920166 -32.30868123]: xsec = (0.002150991970877968 +/- 0.00022491650642507698) pb\n",
      "10:51  theta [-49.70256509 -48.26228953]: xsec = (0.003482772515353646 +/- 0.00019828142342680213) pb\n",
      "10:51  theta [-3.95942593 23.2612349 ]: xsec = (0.0009403374843030631 +/- 1.970287873586245e-05) pb\n",
      "10:51  theta [-12.59473937  -8.60188371]: xsec = (0.000895041377409999 +/- 2.703458558773553e-05) pb\n",
      "10:51  theta [ -8.52743006 -13.68225128]: xsec = (0.000851107680490558 +/- 2.0373851594072972e-05) pb\n",
      "10:51  theta [-31.69562034  59.92068265]: xsec = (0.003302848259149064 +/- 0.0001816224964718494) pb\n",
      "10:51  theta [-3.84471047 40.39058015]: xsec = (0.0014612996600689837 +/- 4.3023375124450536e-05) pb\n",
      "10:51  theta [30.5463267  54.86690075]: xsec = (0.0020044107773803865 +/- 0.00010213968805808457) pb\n",
      "10:51  theta [ 47.85713305 -73.49818691]: xsec = (0.003683744360294178 +/- 0.00028140779174475766) pb\n",
      "10:51  theta [ 17.73695298 -27.32911832]: xsec = (0.0008796893003660882 +/- 4.06085231320237e-05) pb\n",
      "10:51  theta [-23.22679775   8.64068166]: xsec = (0.0012334767466772936 +/- 6.472990038453398e-05) pb\n",
      "10:51  theta [ 37.038555   -30.21613371]: xsec = (0.001199810400636078 +/- 9.180203863848411e-05) pb\n",
      "10:51  theta [ 30.57029114 -62.31196799]: xsec = (0.002522029911575331 +/- 0.00016060730602276513) pb\n",
      "10:51  theta [ 20.72372478 -28.64416987]: xsec = (0.0009296194889274801 +/- 4.761190179204988e-05) pb\n",
      "10:51  theta [-28.66923298 -57.83099544]: xsec = (0.0029281608353751926 +/- 0.00012386508871044073) pb\n",
      "10:51  theta [ 41.23257056 -39.30182684]: xsec = (0.001609319818908551 +/- 0.00013127900779763644) pb\n",
      "10:51  theta [-3.74054215  5.17640817]: xsec = (0.0006871704004295949 +/- 7.282791804583604e-06) pb\n",
      "10:51  theta [11.7702567 -5.9676616]: xsec = (0.000532178460057529 +/- 1.02490499216881e-05) pb\n",
      "10:51  theta [-40.85546849 -29.49779818]: xsec = (0.0023334160817905392 +/- 0.0001388508659142116) pb\n",
      "10:51  theta [-10.60826275 -15.49229157]: xsec = (0.0009221179049918664 +/- 2.529500048256301e-05) pb\n",
      "10:51  theta [-34.63546658  -1.21106544]: xsec = (0.0016561061609025622 +/- 0.00011141968113398035) pb\n",
      "10:51  theta [-40.85722356   1.88096374]: xsec = (0.001966752136011062 +/- 0.00014718311796394753) pb\n",
      "10:51  theta [-16.76409392  27.42942894]: xsec = (0.0013560746561609607 +/- 5.405664568292607e-05) pb\n",
      "10:51  theta [-28.41433017 -30.04048847]: xsec = (0.0017854336166744094 +/- 8.462664606753435e-05) pb\n",
      "10:51  theta [ 8.41686391 -1.98121222]: xsec = (0.0005313825106850074 +/- 8.084226404783458e-06) pb\n",
      "10:51  theta [-23.85879656  11.44373785]: xsec = (0.0012856478784955662 +/- 6.893495918265613e-05) pb\n",
      "10:51  theta [ 51.87294962 -31.14475431]: xsec = (0.001647923277262123 +/- 0.00015634830058543068) pb\n",
      "10:51  theta [11.06871473  1.47414955]: xsec = (0.0005167506276192115 +/- 1.0141847706986306e-05) pb\n",
      "10:51  theta [-11.64951197 -18.6636416 ]: xsec = (0.0009969010073172103 +/- 2.9324894593711144e-05) pb\n",
      "10:51  theta [-59.00269413 -14.2944863 ]: xsec = (0.003126501077629509 +/- 0.0002549764407943509) pb\n",
      "10:51  theta [-16.88799477 -14.8692934 ]: xsec = (0.0010785874890487418 +/- 4.002339369780671e-05) pb\n",
      "10:51  theta [  9.98232424 -20.90826974]: xsec = (0.0007329002530739577 +/- 2.2854494934632505e-05) pb\n",
      "10:51  theta [-30.35746414  41.66709571]: xsec = (0.0023402421008198032 +/- 0.0001354178177442776) pb\n",
      "10:51  theta [ 11.75277099 -44.92250301]: xsec = (0.0014856562063560916 +/- 6.704885180124869e-05) pb\n",
      "10:51  theta [  7.52624071 -10.32545861]: xsec = (0.0005870883242952492 +/- 1.0615729260069618e-05) pb\n",
      "10:51  theta [-7.10572031 34.08952111]: xsec = (0.001302324171343764 +/- 3.659913357717465e-05) pb\n",
      "10:51  theta [  9.9514827  -49.33115459]: xsec = (0.0016887101158183843 +/- 7.496226427557123e-05) pb\n",
      "10:51  theta [ 9.05675159 30.37327286]: xsec = (0.0009592125428588876 +/- 3.410436913445525e-05) pb\n",
      "10:51  theta [-33.02886639  31.19649797]: xsec = (0.002084391102918558 +/- 0.00013383864559337154) pb\n",
      "10:51  theta [-44.73032923  92.66212341]: xsec = (0.006402693567843167 +/- 0.00037774424260425413) pb\n",
      "10:51  theta [ 5.29044392 18.13542741]: xsec = (0.0007087243556209719 +/- 1.7650844570128045e-05) pb\n",
      "10:51  theta [ 22.6501144  -82.23613763]: xsec = (0.0038037626122379344 +/- 0.0002061694273822677) pb\n",
      "10:51  theta [ 23.75097113 -52.30090064]: xsec = (0.0018791479401390023 +/- 0.00010914702870112654) pb\n",
      "10:51  theta [46.64901787 24.03668968]: xsec = (0.0012130468217712094 +/- 5.8722706118960244e-05) pb\n",
      "10:51  theta [-23.91729022 -13.8351647 ]: xsec = (0.0012937564355189287 +/- 6.224750451482436e-05) pb\n",
      "10:51  theta [ 3.45628011 11.26499449]: xsec = (0.0006318634289814132 +/- 1.0638339282681308e-05) pb\n",
      "10:51  theta [-4.35671321 18.65995094]: xsec = (0.0008547348520948863 +/- 1.574836833807902e-05) pb\n",
      "10:51  theta [ 43.5742963  -30.48708409]: xsec = (0.0013676309680154964 +/- 0.00011680748972317287) pb\n",
      "10:51  theta [-21.41874541 -61.34069828]: xsec = (0.0028676288925964244 +/- 0.00011416125057138547) pb\n",
      "10:51  theta [52.80968083 -7.89387372]: xsec = (0.001212282607808701 +/- 0.00010282622426620074) pb\n",
      "10:51  theta [-21.90371106  -3.5378363 ]: xsec = (0.0011470660456370109 +/- 5.537952366245191e-05) pb\n",
      "10:51  theta [ 72.16092559 -23.85019821]: xsec = (0.002346262099710801 +/- 0.00025713169203151506) pb\n",
      "10:51  theta [-39.47611857 -22.90852517]: xsec = (0.002108892572110553 +/- 0.00013054478529275234) pb\n",
      "10:51  theta [  5.4358194  -43.55899865]: xsec = (0.00145700155096034 +/- 5.7533351857239816e-05) pb\n",
      "10:51  theta [-11.37632206  -5.66353801]: xsec = (0.0008462442710744785 +/- 2.3500465669685716e-05) pb\n",
      "10:51  theta [-9.86503495 23.36772425]: xsec = (0.0010679026250209125 +/- 2.9493243274934814e-05) pb\n",
      "10:51  theta [-7.62018659  6.75281925]: xsec = (0.0007721984101782712 +/- 1.494337408721483e-05) pb\n",
      "10:51  theta [ 13.51794927 -17.38192475]: xsec = (0.0006590019611529173 +/- 2.1183864258558573e-05) pb\n",
      "10:51  theta [45.10914032  7.27822639]: xsec = (0.0009430086357683833 +/- 5.0005609846499966e-05) pb\n",
      "10:51  theta [40.43814412  7.39040659]: xsec = (0.000824556062303066 +/- 3.6219440489257435e-05) pb\n",
      "10:51  theta [-30.49978348  -9.26058138]: xsec = (0.0015042854027300851 +/- 8.887401935401652e-05) pb\n",
      "10:51  theta [44.19926045  7.65788587]: xsec = (0.0009204171580108275 +/- 4.6862457854320226e-05) pb\n",
      "10:51  theta [-17.85143398 -33.93986677]: xsec = (0.0015366629413541976 +/- 5.658030839727716e-05) pb\n",
      "10:51  theta [-49.45364716   8.777562  ]: xsec = (0.002495373891568793 +/- 0.0002084093385623889) pb\n",
      "10:51  theta [-21.16948501 -14.00711566]: xsec = (0.0012010680112834369 +/- 5.280894393381425e-05) pb\n",
      "10:51  theta [-35.40750892  24.06929468]: xsec = (0.00199924687341119 +/- 0.00013790720555967363) pb\n",
      "10:51  theta [-31.33178408  67.19212361]: xsec = (0.0037345173247911373 +/- 0.00019878150001920975) pb\n",
      "10:51  theta [41.37882447  9.31859549]: xsec = (0.0008598785817454387 +/- 3.803577792662588e-05) pb\n",
      "10:51  theta [ 11.07110767 -38.09991164]: xsec = (0.001215832464639129 +/- 5.181621109647738e-05) pb\n",
      "10:51  theta [27.92954484 29.52576862]: xsec = (0.0009769355969245256 +/- 4.635422537028075e-05) pb\n",
      "10:51  theta [-25.24935198  21.98487476]: xsec = (0.0015150175148581368 +/- 8.32931241875229e-05) pb\n",
      "10:51  theta [-21.58701035 -14.89764247]: xsec = (0.001226535310849192 +/- 5.435747969014468e-05) pb\n"
     ]
    },
    {
     "name": "stderr",
     "output_type": "stream",
     "text": [
      "10:51  theta [46.51461705  1.11424627]: xsec = (0.0009667729866651334 +/- 6.133431521336277e-05) pb\n",
      "10:51  theta [21.13409306 17.09115855]: xsec = (0.0006549718423373464 +/- 2.5420851188201192e-05) pb\n",
      "10:51  theta [-17.41904235   7.84842148]: xsec = (0.0010340215897232555 +/- 4.279517592667835e-05) pb\n",
      "10:51  theta [ 35.15434939 -35.22039459]: xsec = (0.0013220889431373368 +/- 9.793654527033387e-05) pb\n",
      "10:51  theta [ 33.73495733 -16.99517577]: xsec = (0.0008243157247827649 +/- 5.284727401952157e-05) pb\n",
      "10:51  theta [-50.73246842  12.0955213 ]: xsec = (0.0026120296728667355 +/- 0.00022143597786970825) pb\n",
      "10:51  theta [-56.77667786  30.5091843 ]: xsec = (0.0034106250173261505 +/- 0.0002976687805345452) pb\n",
      "10:51  theta [6.39028667 3.63266278]: xsec = (0.0005496412112267592 +/- 8.44142318693646e-06) pb\n",
      "10:51  theta [-37.31724233   9.36469577]: xsec = (0.0018384154343309997 +/- 0.00013316535490936741) pb\n",
      "10:51  theta [14.21013927 35.45236707]: xsec = (0.0010949833423699513 +/- 4.60784416125163e-05) pb\n",
      "10:51  theta [ 10.5591035  -15.86687727]: xsec = (0.0006413833105272359 +/- 1.7306970548627868e-05) pb\n",
      "10:51  theta [-3.3331603   4.12482524]: xsec = (0.0006751566935674443 +/- 6.4437630930042e-06) pb\n",
      "10:51  theta [-9.40522264 12.54017172]: xsec = (0.000867338663428451 +/- 2.106130967322648e-05) pb\n",
      "10:51  theta [-15.66787039 -23.19333067]: xsec = (0.0011891181426072835 +/- 4.124783713900813e-05) pb\n",
      "10:51  theta [-1.54855446 14.39941074]: xsec = (0.0007382134116980554 +/- 1.0591669129093916e-05) pb\n",
      "10:51  theta [ 24.38063072 -37.59911913]: xsec = (0.0012467023298367319 +/- 7.354071026411509e-05) pb\n",
      "10:51  theta [ 14.95638468 -69.36608476]: xsec = (0.0028234255726401164 +/- 0.00014010816394739056) pb\n",
      "10:51  theta [ 1.20671152 12.8762866 ]: xsec = (0.0006779807255967188 +/- 1.012844595306047e-05) pb\n",
      "10:51  theta [ 67.34522174 -17.18256512]: xsec = (0.001953873925198891 +/- 0.0002050380832633793) pb\n",
      "10:51  theta [28.90686668 10.19902907]: xsec = (0.0006385892448849936 +/- 1.870106515652743e-05) pb\n",
      "10:51  theta [-36.82780017  50.31987471]: xsec = (0.0030318433222141384 +/- 0.00019090273016204986) pb\n",
      "10:51  theta [ 93.30506946 -13.87204937]: xsec = (0.003483763972542956 +/- 0.00039732473844393074) pb\n",
      "10:51  theta [ 0.33106926 -6.90641343]: xsec = (0.0006315711114826916 +/- 6.019178770028675e-06) pb\n",
      "10:51  theta [ 2.63882235 25.94953415]: xsec = (0.00090188769861105 +/- 2.3206227594808598e-05) pb\n",
      "10:51  theta [-11.80019435   2.20530115]: xsec = (0.0008477132675932498 +/- 2.442917808359442e-05) pb\n",
      "10:51  theta [49.24403397  4.73472519]: xsec = (0.0010545833893771497 +/- 6.705752014775101e-05) pb\n",
      "10:51  theta [-13.77790511 -22.78730814]: xsec = (0.0011295544145863473 +/- 3.6695204657367e-05) pb\n",
      "10:51  theta [ 31.24956243 -29.98167734]: xsec = (0.0010846317165516303 +/- 7.358556249135721e-05) pb\n",
      "10:51  theta [-16.35018717  45.35709395]: xsec = (0.001976212402710944 +/- 7.826069514955668e-05) pb\n",
      "10:51  theta [-18.86740942  22.95034121]: xsec = (0.0013115660416916895 +/- 5.7480319216634014e-05) pb\n",
      "10:51  theta [12.03050383 12.05885313]: xsec = (0.0005788692782131623 +/- 1.747734507471775e-05) pb\n",
      "10:51  theta [-18.54649865  26.31096656]: xsec = (0.001382469492478613 +/- 5.9452863261361327e-05) pb\n",
      "10:51  theta [-24.94678497 -18.76784368]: xsec = (0.0014030025369260498 +/- 6.684948794053105e-05) pb\n",
      "10:51  theta [-6.17235434 45.47408839]: xsec = (0.0017171591182519013 +/- 5.4405137693391965e-05) pb\n",
      "10:51  theta [  0.5491427  -35.01888551]: xsec = (0.0011865336906481754 +/- 3.91728533820907e-05) pb\n",
      "10:51  theta [-10.75903155  -0.78701936]: xsec = (0.0008187004880407823 +/- 2.1595810030859363e-05) pb\n",
      "10:51  theta [-2.79355009 85.41302504]: xsec = (0.0041467558021259935 +/- 0.0001619420290713019) pb\n",
      "10:51  theta [ -4.37512462 -29.23427443]: xsec = (0.0010833478404148086 +/- 3.116869688193616e-05) pb\n",
      "10:51  theta [ 31.94263237 -47.86554277]: xsec = (0.0017748142331295408 +/- 0.0001210840286779304) pb\n",
      "10:51  theta [ -7.1023594  -37.76258788]: xsec = (0.001402370241931862 +/- 4.59370652900446e-05) pb\n",
      "10:51  theta [15.60114975 -3.26225644]: xsec = (0.0005150397349569217 +/- 1.0789812740673064e-05) pb\n",
      "10:51  theta [-25.75502351 -37.50015903]: xsec = (0.0019164125617865072 +/- 8.21916672678105e-05) pb\n",
      "10:51  theta [-29.08099572  13.96092259]: xsec = (0.001522340672543608 +/- 9.418374870738445e-05) pb\n",
      "10:51  theta [ 54.26754009 -39.68544438]: xsec = (0.0020367811680042404 +/- 0.00019476712596311983) pb\n",
      "10:51  theta [-24.75218706 -34.68028118]: xsec = (0.0017858182335309183 +/- 7.605197897671566e-05) pb\n",
      "10:51  theta [-55.32810606  16.49377372]: xsec = (0.0029729965892899353 +/- 0.00026174200066099033) pb\n",
      "10:51  theta [ 13.72279667 -35.4793883 ]: xsec = (0.0011199144890516 +/- 4.998825650460464e-05) pb\n",
      "10:51  theta [-29.99457389  20.12787609]: xsec = (0.0016674481994659557 +/- 0.00010426690884087206) pb\n",
      "10:51  theta [ -0.53706456 -11.38391831]: xsec = (0.0006819628008554311 +/- 9.77959537916942e-06) pb\n",
      "10:51  theta [-44.61926136 -57.08929649]: xsec = (0.0036253563529184837 +/- 0.00018374001795850578) pb\n",
      "10:51  theta [15.84849441 19.13385419]: xsec = (0.0006755615740003124 +/- 2.616291838881326e-05) pb\n",
      "10:51  theta [47.78263669 43.85383862]: xsec = (0.001857823752416605 +/- 9.79505222527626e-05) pb\n",
      "10:51  theta [-32.73503396  10.09901733]: xsec = (0.001631344933507038 +/- 0.00010923474398567559) pb\n",
      "10:51  theta [-74.69850635 -34.3604688 ]: xsec = (0.004727461648634181 +/- 0.0003708716197957118) pb\n",
      "10:51  theta [ 63.68819725 -53.43581759]: xsec = (0.003069359117726017 +/- 0.000301374359366881) pb\n",
      "10:51  theta [ 11.70826239 -24.65977559]: xsec = (0.0008095976703144998 +/- 2.9409904129223023e-05) pb\n",
      "10:51  theta [38.21714132 -6.72228883]: xsec = (0.0007863788870935431 +/- 4.62379925264665e-05) pb\n",
      "10:51  theta [ 17.92369844 -21.48384904]: xsec = (0.0007418720580242293 +/- 3.129215714170924e-05) pb\n",
      "10:51  theta [ -2.27768095 -17.48333042]: xsec = (0.0007905634694093969 +/- 1.6169675758723813e-05) pb\n",
      "10:51  theta [7.3629997  4.60975922]: xsec = (0.0005458305302299893 +/- 9.638690794290329e-06) pb\n",
      "10:51  theta [-0.19614171 -9.33719695]: xsec = (0.0006572804565642542 +/- 7.991977714363813e-06) pb\n",
      "10:51  theta [ 23.12652573 -14.98543912]: xsec = (0.0006549777750715231 +/- 2.820379109350721e-05) pb\n",
      "10:51  theta [-3.24322222 30.922184  ]: xsec = (0.0011266361198083313 +/- 2.8294708533809834e-05) pb\n",
      "10:51  theta [32.32663532  5.15454085]: xsec = (0.0006546627425560975 +/- 2.0013401189466132e-05) pb\n",
      "10:51  theta [  1.94361417 -10.75985968]: xsec = (0.0006432054863365528 +/- 8.918707919710948e-06) pb\n",
      "10:51  theta [-1.07759831e+01 -8.00665718e-03]: xsec = (0.0008191817370373814 +/- 2.1643464489077236e-05) pb\n",
      "10:51  theta [-29.2334249   40.79929313]: xsec = (0.00225685925708634 +/- 0.00012783319464399793) pb\n",
      "10:51  theta [-10.39484229  20.08199667]: xsec = (0.0010112666728604777 +/- 2.806794264959063e-05) pb\n",
      "10:51  theta [-53.48366426  30.03434564]: xsec = (0.0031779477972743975 +/- 0.0002702284115704502) pb\n",
      "10:51  theta [-9.29138597 36.65917339]: xsec = (0.0014396289887301627 +/- 4.4265296932588154e-05) pb\n",
      "10:51  theta [36.81103093  1.73256427]: xsec = (0.0007275913114926773 +/- 3.1023503699547354e-05) pb\n",
      "10:51  theta [-27.01888055  55.20992525]: xsec = (0.0028378133704893846 +/- 0.0001445773917296831) pb\n",
      "10:51  theta [-19.79803758  -4.90247068]: xsec = (0.0010814380694523105 +/- 4.785091528659772e-05) pb\n",
      "10:51  theta [-21.05401325 -26.17994491]: xsec = (0.0014201720877552264 +/- 5.765252830104848e-05) pb\n",
      "10:51  theta [10.31969222 35.28024128]: xsec = (0.0011038904736094001 +/- 4.199618823250671e-05) pb\n",
      "10:51  theta [ 45.45701241 -15.19104169]: xsec = (0.0010677774240728678 +/- 8.72413150521944e-05) pb\n",
      "10:51  theta [ 12.53324316 -30.79439728]: xsec = (0.0009716169507358777 +/- 4.001524399402948e-05) pb\n",
      "10:51  theta [-8.27439971 27.56638703]: xsec = (0.0011344082372969782 +/- 3.0302877147316598e-05) pb\n",
      "10:51  theta [3.90878062 4.40831551]: xsec = (0.0005757960509516734 +/- 6.765859762575584e-06) pb\n",
      "10:51  theta [0.95503706 4.08707782]: xsec = (0.0006096049942232579 +/- 4.217580784380746e-06) pb\n",
      "10:51  theta [ 25.83246507 -60.70086658]: xsec = (0.002359184008816702 +/- 0.00013988508173455222) pb\n"
     ]
    },
    {
     "name": "stderr",
     "output_type": "stream",
     "text": [
      "10:51  theta [ 8.94533129 60.3355492 ]: xsec = (0.0022481837856527763 +/- 8.887632470795456e-05) pb\n",
      "10:51  theta [ -8.66500926 -46.50110904]: xsec = (0.0017806338638974985 +/- 6.32710995043096e-05) pb\n",
      "10:51  theta [ 30.65331565 -45.90985583]: xsec = (0.0016643950558147868 +/- 0.00011146412876369541) pb\n",
      "10:51  theta [-23.31930548  31.52427844]: xsec = (0.0016943476329749469 +/- 8.510408815776489e-05) pb\n",
      "10:51  theta [-17.74347288   2.36760292]: xsec = (0.0010134661243890856 +/- 4.2175961998655345e-05) pb\n",
      "10:51  theta [  4.29041196 -20.19310927]: xsec = (0.0007570371857606936 +/- 1.8866611029186357e-05) pb\n",
      "10:51  theta [-13.69859971  34.79123222]: xsec = (0.0014891480829398419 +/- 5.27924703475115e-05) pb\n",
      "10:51  theta [-57.54827695  23.20214794]: xsec = (0.003261844261492777 +/- 0.00029039325048619646) pb\n",
      "10:51  theta [-23.46886807  38.20490048]: xsec = (0.0019274394743067354 +/- 9.507936455344567e-05) pb\n",
      "10:51  theta [1.77672408 3.29433328]: xsec = (0.0005961887843682561 +/- 4.391131789151482e-06) pb\n",
      "10:51  theta [9.80476937 5.44397848]: xsec = (0.0005345539563626586 +/- 1.1582999361420381e-05) pb\n",
      "10:51  theta [-67.10744528 -13.48828817]: xsec = (0.003702383310027134 +/- 0.0003191678579365241) pb\n",
      "10:51  theta [-51.81434451  10.83905316]: xsec = (0.002663175235471691 +/- 0.0002275787563443748) pb\n",
      "10:51  theta [-29.2888788    9.72695452]: xsec = (0.0014787029884892528 +/- 9.199118479525636e-05) pb\n",
      "10:51  theta [-2.12325636 10.26245005]: xsec = (0.0006981725563299815 +/- 7.859649326786843e-06) pb\n",
      "10:51  theta [ 24.1787221 -12.3525502]: xsec = (0.0006278755170381355 +/- 2.5758119078607275e-05) pb\n",
      "10:51  theta [38.54737538  1.72113085]: xsec = (0.000763952680787873 +/- 3.544500108726974e-05) pb\n",
      "10:51  theta [ 16.0244206  -34.31445402]: xsec = (0.0010829809005599125 +/- 5.094490348434747e-05) pb\n",
      "10:51  theta [28.68456055 43.1876476 ]: xsec = (0.0014471185696155139 +/- 7.319641430245101e-05) pb\n",
      "10:51  theta [ 53.11013689 -29.66255492]: xsec = (0.0016469217330989225 +/- 0.00015837244142483632) pb\n",
      "10:51  theta [-61.63649245 -22.62354902]: xsec = (0.003438388156758782 +/- 0.00026984419895505484) pb\n",
      "10:51  theta [-46.70446369  -4.99470912]: xsec = (0.0022858123695165935 +/- 0.00017743407346392816) pb\n",
      "10:51  theta [28.77566232  4.60955713]: xsec = (0.0006021162244891385 +/- 1.571526292150206e-05) pb\n",
      "10:51  theta [ 29.73059203 -51.05367617]: xsec = (0.001891735716363971 +/- 0.0001229759266001084) pb\n",
      "10:51  theta [ 36.20394263 -26.4822455 ]: xsec = (0.0010776024255728903 +/- 8.022216369449705e-05) pb\n",
      "10:51  theta [16.05308032  7.74559722]: xsec = (0.0005344885480931634 +/- 1.5105760261948906e-05) pb\n",
      "10:51  theta [  7.99375247 -36.20023972]: xsec = (0.0011604527692905438 +/- 4.5109486008231345e-05) pb\n",
      "10:51  theta [43.81375795 -4.77344148]: xsec = (0.0009092891286010134 +/- 6.071937343927361e-05) pb\n",
      "10:51  theta [-21.32675274  -4.14661862]: xsec = (0.0011291877898227036 +/- 5.3216559424610436e-05) pb\n",
      "10:51  theta [ 16.30537813 -77.32597915]: xsec = (0.0033860286919751826 +/- 0.0001706030015758502) pb\n",
      "10:51  theta [ 10.23242075 -25.03740292]: xsec = (0.0008230569886811446 +/- 2.8680268232958607e-05) pb\n",
      "10:51  theta [-19.52543513  13.77701421]: xsec = (0.0011657375546355769 +/- 5.319724984932217e-05) pb\n",
      "10:51  theta [17.8490994  60.54105645]: xsec = (0.00222850551430791 +/- 9.981982949076263e-05) pb\n",
      "10:51  theta [ 35.24090767 -12.95606385]: xsec = (0.0007906073243722973 +/- 4.909042575142562e-05) pb\n",
      "10:51  theta [60.14843303 36.74192818]: xsec = (0.002027310355915755 +/- 0.00011549692897013085) pb\n",
      "10:51  theta [-37.92547904  29.05972513]: xsec = (0.0022552346638284137 +/- 0.00015959714905554992) pb\n",
      "10:51  theta [30.48670479 -3.17218074]: xsec = (0.0006264397485931964 +/- 2.3080534724561395e-05) pb\n",
      "10:51  theta [25.50004479 19.35213225]: xsec = (0.0007235742644940927 +/- 2.9280083261312254e-05) pb\n",
      "10:51  theta [ 6.93566237 32.72941978]: xsec = (0.001045776473397173 +/- 3.514059324511429e-05) pb\n",
      "10:51  theta [56.91669724 52.51463652]: xsec = (0.002543298401926649 +/- 0.00013975945279064413) pb\n",
      "10:51  theta [ 9.15612367 30.86432904]: xsec = (0.0009727860010764467 +/- 3.482643251613244e-05) pb\n",
      "10:51  theta [-6.77913648 -5.43948497]: xsec = (0.0007427896670445007 +/- 1.356397238221609e-05) pb\n",
      "10:51  theta [ 5.23472353 -3.96035154]: xsec = (0.000561271016852375 +/- 6.224575817778358e-06) pb\n",
      "10:51  theta [ 25.26486235 -21.2634309 ]: xsec = (0.0007868144249388831 +/- 4.211357918361171e-05) pb\n",
      "10:51  theta [64.4983414  26.02819024]: xsec = (0.0019142465507070822 +/- 0.00012367461386662585) pb\n",
      "10:51  theta [-34.64976936  32.69370217]: xsec = (0.002207109911948756 +/- 0.000145324179557319) pb\n",
      "10:51  theta [ 3.83692186 23.43652829]: xsec = (0.0008286411154398325 +/- 2.1429678495968306e-05) pb\n",
      "10:51  theta [ -6.59827141 -10.65068341]: xsec = (0.0007773009218311478 +/- 1.5446339494238353e-05) pb\n",
      "10:51  theta [21.12513419 16.73013692]: xsec = (0.0006493201326713965 +/- 2.4972707832407854e-05) pb\n",
      "10:51  theta [-64.49799172  -4.97838001]: xsec = (0.0034515441296149914 +/- 0.0003062607109609702) pb\n",
      "10:51  theta [-15.99850698 -13.43635368]: xsec = (0.0010345857794666015 +/- 3.712565725764911e-05) pb\n",
      "10:51  theta [-23.46681884 -17.80189423]: xsec = (0.0013339269397527622 +/- 6.13879332714155e-05) pb\n",
      "10:51  theta [-16.66022211  -2.94925154]: xsec = (0.0009788213585374807 +/- 3.790486734746522e-05) pb\n",
      "10:51  theta [-38.67170646 -17.31289937]: xsec = (0.001969652357630928 +/- 0.00012655968235725413) pb\n",
      "10:51  theta [-19.67563076 -22.31800283]: xsec = (0.0012897743200989398 +/- 5.121482081482789e-05) pb\n",
      "10:51  theta [-2.20250758 -0.91183496]: xsec = (0.0006475720078373877 +/- 4.845560364751723e-06) pb\n",
      "10:51  theta [-20.25302995  19.24745272]: xsec = (0.0012799522764674494 +/- 5.9744393449396946e-05) pb\n",
      "10:51  theta [30.94549875 64.7657364 ]: xsec = (0.002564260407576486 +/- 0.0001290584217696256) pb\n",
      "10:51  theta [-24.94935989   7.3126116 ]: xsec = (0.0012853313761757713 +/- 7.112671494011775e-05) pb\n",
      "10:51  theta [-42.4581358    3.29918609]: xsec = (0.0020568848679830523 +/- 0.00015777283043514446) pb\n",
      "10:51  theta [-2.91016799 -9.29196719]: xsec = (0.0006980106450851014 +/- 9.779898082326273e-06) pb\n",
      "10:51  theta [18.98771447 14.2878955 ]: xsec = (0.0006057603750721742 +/- 2.1770646517773186e-05) pb\n",
      "10:51  theta [1.18453066 0.52322403]: xsec = (0.0005984670569240787 +/- 3.102167152408747e-06) pb\n",
      "10:51  theta [-41.47105365   2.16731834]: xsec = (0.0019998442633348615 +/- 0.00015098808054680958) pb\n",
      "10:51  theta [-38.46334918  33.51083657]: xsec = (0.0024210187377668732 +/- 0.00016975299263559686) pb\n",
      "10:51  theta [-3.3373434  10.95968417]: xsec = (0.0007258729895274622 +/- 9.233742651343389e-06) pb\n",
      "10:51  theta [-17.9313947   35.89961121]: xsec = (0.0016535250133835374 +/- 6.866837827694948e-05) pb\n",
      "10:51  theta [-6.97044979 -5.68940539]: xsec = (0.0007478946535697904 +/- 1.3999371401551352e-05) pb\n",
      "10:51  theta [ 63.3695387 -32.7536069]: xsec = (0.002166104420749491 +/- 0.00022640416546316916) pb\n",
      "10:51  theta [-22.08508493  37.45866336]: xsec = (0.0018495442842785775 +/- 8.777774867910318e-05) pb\n",
      "10:51  theta [-10.93565942 -12.277152  ]: xsec = (0.0008888736164363601 +/- 2.4377769823646226e-05) pb\n",
      "10:51  theta [ -1.59979715 -33.12282865]: xsec = (0.0011540970157772653 +/- 3.6030302114642676e-05) pb\n",
      "10:51  theta [ 27.42139734 -31.47736918]: xsec = (0.0010750728770088616 +/- 6.70504677780108e-05) pb\n",
      "10:51  theta [11.76460945  0.52146975]: xsec = (0.0005136918136291974 +/- 1.005590175062962e-05) pb\n",
      "10:51  theta [-44.7145079   41.72476062]: xsec = (0.003064045251225188 +/- 0.0002267424293226694) pb\n",
      "10:51  theta [-3.35779614  3.16591583]: xsec = (0.0006720321561798252 +/- 6.327650660460654e-06) pb\n",
      "10:51  theta [10.77780559 26.69248098]: xsec = (0.0008501442551582404 +/- 3.120977258766712e-05) pb\n",
      "10:51  theta [-45.96800204 -20.92022662]: xsec = (0.0024144921877457233 +/- 0.00016602840419884616) pb\n",
      "10:51  theta [51.47465328  4.20862029]: xsec = (0.0011259462778792143 +/- 7.657408420052629e-05) pb\n",
      "10:51  theta [38.1934693 32.2190131]: xsec = (0.0012146936287558135 +/- 5.89088708921166e-05) pb\n",
      "10:51  theta [-5.72727068 33.24166603]: xsec = (0.0012458333087612618 +/- 3.354681592877936e-05) pb\n",
      "10:51  theta [-21.22468281  17.81242836]: xsec = (0.001286426675633331 +/- 6.249612697084629e-05) pb\n"
     ]
    },
    {
     "name": "stderr",
     "output_type": "stream",
     "text": [
      "10:51  theta [16.39992654 46.35543604]: xsec = (0.0015128686487744947 +/- 6.700025167507094e-05) pb\n",
      "10:51  theta [24.88942353  7.99806888]: xsec = (0.000578254498059988 +/- 1.556533196539131e-05) pb\n",
      "10:51  theta [-11.72506999  -2.40745302]: xsec = (0.0008439488325907409 +/- 2.4056733071653427e-05) pb\n",
      "10:51  theta [26.66089354 19.33046779]: xsec = (0.0007343276563275212 +/- 2.9518992905301253e-05) pb\n",
      "10:51  theta [15.57868411 45.48656881]: xsec = (0.0014757754428556605 +/- 6.444017873312688e-05) pb\n",
      "10:51  theta [-1.1220774  35.57454626]: xsec = (0.0012384300046787832 +/- 3.438648193270236e-05) pb\n",
      "10:51  theta [17.76966122  8.37537325]: xsec = (0.000541522785162154 +/- 1.57813911434037e-05) pb\n",
      "10:51  theta [ 66.24542937 -12.33406862]: xsec = (0.0018224477408559539 +/- 0.00018523634625979162) pb\n",
      "10:51  theta [23.41700054 13.50419373]: xsec = (0.0006190397657519786 +/- 2.1284766643679066e-05) pb\n",
      "10:51  theta [51.03941859  5.69756806]: xsec = (0.001116101961626725 +/- 7.304447881275098e-05) pb\n",
      "10:51  theta [-19.96093634 -18.99718321]: xsec = (0.0012361002129124203 +/- 5.0450640622867396e-05) pb\n",
      "10:51  theta [ -2.95572856 -24.03841417]: xsec = (0.0009294032344154716 +/- 2.371484787334982e-05) pb\n",
      "10:51  theta [18.96421183  6.43158986]: xsec = (0.0005321119300478365 +/- 1.4198490262707307e-05) pb\n",
      "10:51  theta [-33.60653962  -8.57949928]: xsec = (0.0016344637778178967 +/- 0.00010332127075824423) pb\n",
      "10:51  theta [-5.13248526  7.18944822]: xsec = (0.0007250769472508416 +/- 1.0108886047282518e-05) pb\n",
      "10:51  theta [ 13.87216671 -46.35486767]: xsec = (0.0015469753805859245 +/- 7.339732109665267e-05) pb\n",
      "10:51  theta [-36.31658125 -11.08932909]: xsec = (0.0017799373014448401 +/- 0.00011586126441021073) pb\n",
      "10:51  theta [23.28268535 74.20684495]: xsec = (0.003113059502834363 +/- 0.00014519275865664414) pb\n",
      "10:51  theta [-18.81417416  -0.73742365]: xsec = (0.0010420449089586284 +/- 4.5093171460980224e-05) pb\n",
      "10:51  theta [-13.41471925  25.24823222]: xsec = (0.001203291909837909 +/- 4.086194840602872e-05) pb\n",
      "10:51  theta [-31.54022282 -18.72853566]: xsec = (0.0016637514528192862 +/- 9.289995788705545e-05) pb\n",
      "10:51  theta [ 21.71022988 -65.02775964]: xsec = (0.0025791319797033897 +/- 0.0001419219696194499) pb\n",
      "10:51  theta [  4.59289305 -51.31176318]: xsec = (0.001813881771783513 +/- 7.43470807946537e-05) pb\n",
      "10:51  theta [18.49206536 59.69129218]: xsec = (0.002180875776776603 +/- 9.856845413328196e-05) pb\n",
      "10:51  theta [ 52.73145256 -22.50107685]: xsec = (0.0014440674605731947 +/- 0.00013686922615887415) pb\n",
      "10:51  theta [  3.91795385 -49.76059259]: xsec = (0.0017449329484043805 +/- 7.01933431027751e-05) pb\n",
      "10:51  theta [ 2.69624784 -2.7269505 ]: xsec = (0.0005832779178555067 +/- 4.254344347835267e-06) pb\n",
      "10:51  theta [  1.63609613 -11.77982205]: xsec = (0.0006577634265524293 +/- 9.771280051624847e-06) pb\n",
      "10:51  theta [-29.05965288  30.70703688]: xsec = (0.001895298824740011 +/- 0.00011174267840690994) pb\n",
      "10:51  theta [9.23905473 8.65630336]: xsec = (0.000558558135560669 +/- 1.3348084686128928e-05) pb\n",
      "10:51  theta [-3.27432223 -1.72909952]: xsec = (0.000666125229166873 +/- 6.543851339195723e-06) pb\n",
      "10:51  theta [21.44138786 20.04780136]: xsec = (0.0007071248028067721 +/- 2.9280772049150485e-05) pb\n",
      "10:51  theta [-46.96385359   2.68631665]: xsec = (0.002304946582604643 +/- 0.0001853716772383019) pb\n",
      "10:51  theta [-62.76463874  -6.2667794 ]: xsec = (0.0033291482775739093 +/- 0.0002908369039850061) pb\n",
      "10:51  theta [-56.57061452  18.83169461]: xsec = (0.0030995656047129866 +/- 0.00027514127184436246) pb\n",
      "10:51  theta [-6.01775349 -7.20724444]: xsec = (0.0007378029994149539 +/- 1.2848443954350761e-05) pb\n",
      "10:51  theta [-50.20128181  -2.68102752]: xsec = (0.0024873002026111254 +/- 0.00020192836739080878) pb\n",
      "10:51  theta [57.10173335 27.62873472]: xsec = (0.0016443489952768751 +/- 9.368387695326729e-05) pb\n",
      "10:51  theta [ 2.96545181 30.85366716]: xsec = (0.0010305719391979823 +/- 2.9333879209491878e-05) pb\n",
      "10:51  theta [ 10.73098938 -18.14629381]: xsec = (0.0006781716755854489 +/- 1.999124719253375e-05) pb\n",
      "10:51  theta [-15.57755968  32.83729751]: xsec = (0.0014790524819801038 +/- 5.620745870886435e-05) pb\n",
      "10:51  theta [41.61939159 -9.79772764]: xsec = (0.0008936175132444401 +/- 6.22823215130841e-05) pb\n",
      "10:51  theta [58.55101952 55.34661342]: xsec = (0.0027455853879226975 +/- 0.00015174149409423026) pb\n",
      "10:51  theta [  7.46782272 -10.2572006 ]: xsec = (0.0005868035577746306 +/- 1.0536735381196293e-05) pb\n",
      "10:51  theta [-16.23641128  -7.29776923]: xsec = (0.000984814854411036 +/- 3.66559419264186e-05) pb\n",
      "10:51  theta [  0.04030441 -33.13527907]: xsec = (0.0011320869856945666 +/- 3.6006692623681215e-05) pb\n",
      "10:51  theta [-14.30899025  31.5331622 ]: xsec = (0.0014015915058865893 +/- 5.045088638361286e-05) pb\n",
      "10:51  theta [-13.88077062  -6.85118195]: xsec = (0.000916654340490954 +/- 3.0034714947088606e-05) pb\n",
      "10:51  theta [35.89048376 -6.42543908]: xsec = (0.0007361919589537506 +/- 3.942921265151412e-05) pb\n",
      "10:51  theta [-51.99115156 -16.2192714 ]: xsec = (0.002694382890090592 +/- 0.00020486084095680852) pb\n",
      "10:51  theta [-44.14160642   6.22278242]: xsec = (0.002166199405908875 +/- 0.0001707351903483957) pb\n",
      "10:51  theta [43.49167885 15.60532608]: xsec = (0.0009793803828144917 +/- 4.414438863372394e-05) pb\n",
      "10:51  theta [19.47115658  0.87996284]: xsec = (0.0005174758555304982 +/- 1.1389072122374108e-05) pb\n",
      "10:51  theta [-10.281589   -14.80193436]: xsec = (0.0009048990268324583 +/- 2.4264912620659846e-05) pb\n",
      "10:51  theta [35.26270717  7.92034046]: xsec = (0.0007196056648959151 +/- 2.465397680106505e-05) pb\n",
      "10:51  theta [-25.83088693  10.8691051 ]: xsec = (0.0013528901862938144 +/- 7.700627590373757e-05) pb\n",
      "10:51  theta [ 14.40655434 -19.12108453]: xsec = (0.0006893928468011966 +/- 2.4165347779072176e-05) pb\n",
      "10:51  theta [ 10.31846392 -32.63755463]: xsec = (0.0010329404061658522 +/- 4.087989875576386e-05) pb\n",
      "10:51  theta [-65.33057109   3.79581871]: xsec = (0.0035281030257711646 +/- 0.0003243135072475908) pb\n",
      "10:51  theta [-35.23189299  19.89510999]: xsec = (0.0018982580405996576 +/- 0.00013197658382768058) pb\n",
      "10:51  theta [-10.75166386 -31.39873513]: xsec = (0.0012728679743257661 +/- 4.0302636680755095e-05) pb\n",
      "10:51  theta [52.05960666  6.53411751]: xsec = (0.001154041153283244 +/- 7.628354612466673e-05) pb\n",
      "10:51  theta [-21.14459708 -45.95235766]: xsec = (0.002085755347665636 +/- 8.148625766292783e-05) pb\n",
      "10:51  theta [-12.92888581  36.6587769 ]: xsec = (0.0015324790014933905 +/- 5.318466691745356e-05) pb\n",
      "10:51  theta [-21.66323995  -9.6475086 ]: xsec = (0.001172128077122622 +/- 5.404825568334321e-05) pb\n",
      "10:51  theta [-33.66593468 -28.8732415 ]: xsec = (0.0019740612065538335 +/- 0.00010491197901003752) pb\n",
      "10:51  theta [-46.81268179  23.62173673]: xsec = (0.0025927938948586042 +/- 0.00020987992196231644) pb\n",
      "10:51  theta [105.90114658   2.44319364]: xsec = (0.00433582489167619 +/- 0.00047003754974721186) pb\n",
      "10:51  theta [ 11.30551149 -41.04131526]: xsec = (0.001326765848514272 +/- 5.806016603683192e-05) pb\n",
      "10:51  theta [-26.67412472 -17.84854694]: xsec = (0.0014524737761398634 +/- 7.302581609498037e-05) pb\n",
      "10:51  theta [-16.24864891  -6.6106349 ]: xsec = (0.0009810686491749682 +/- 3.6646158971579256e-05) pb\n",
      "10:51  theta [-77.5978134   15.78794308]: xsec = (0.004659674047886944 +/- 0.00045943292318020694) pb\n",
      "10:51  theta [-38.40705456  13.19302476]: xsec = (0.0019387128696520953 +/- 0.00014299956721105318) pb\n",
      "10:51  theta [10.21394737 29.18123653]: xsec = (0.000918683482488615 +/- 3.370394903576617e-05) pb\n",
      "10:51  theta [-42.12628857  47.20733392]: xsec = (0.0031600375776493837 +/- 0.00021977907861973585) pb\n",
      "10:51  theta [-32.70117723  -6.7633661 ]: xsec = (0.0015830361362279533 +/- 9.9588403656324e-05) pb\n",
      "10:51  theta [ -9.21704365 -19.02132943]: xsec = (0.0009469747531131627 +/- 2.5170302410194845e-05) pb\n",
      "10:51  theta [ -7.94544849 -19.13814121]: xsec = (0.0009218811196738851 +/- 2.3319344488336824e-05) pb\n",
      "10:51  theta [-0.15838957 32.57664002]: xsec = (0.0011256325952015956 +/- 3.0151037993687223e-05) pb\n",
      "10:51  theta [ 7.7290365  16.62317967]: xsec = (0.0006630483363062524 +/- 1.8446775467164857e-05) pb\n",
      "10:51  theta [19.65820341 12.94682594]: xsec = (0.000591406231321356 +/- 2.0391521297831177e-05) pb\n"
     ]
    },
    {
     "name": "stderr",
     "output_type": "stream",
     "text": [
      "10:51  theta [37.79031698 97.31876892]: xsec = (0.005147186038788421 +/- 0.0002541061757758508) pb\n",
      "10:51  theta [-36.28072301  40.08203531]: xsec = (0.0025509422206753535 +/- 0.00016725171757909593) pb\n",
      "10:51  theta [-40.49621287  -2.77005109]: xsec = (0.0019432886793202449 +/- 0.00014189084729999645) pb\n",
      "10:51  theta [ 10.69534363 -22.83162514]: xsec = (0.0007707091352589358 +/- 2.5948373530403836e-05) pb\n",
      "10:51  theta [ 11.58262608 -38.99018226]: xsec = (0.0012475671172970174 +/- 5.419187743247253e-05) pb\n",
      "10:51  theta [-23.16648431  55.36245227]: xsec = (0.002695240492037963 +/- 0.00012612043091479486) pb\n",
      "10:51  theta [-17.15709841 -12.05410389]: xsec = (0.0010523375993381277 +/- 4.0020822212912175e-05) pb\n",
      "10:51  theta [  6.36268564 -33.72510244]: xsec = (0.0010879411101032501 +/- 3.944847182426848e-05) pb\n",
      "10:51  theta [33.22888312 35.79385136]: xsec = (0.001236985621812623 +/- 6.17174384288294e-05) pb\n",
      "10:51  theta [ 17.60076204 -25.8153168 ]: xsec = (0.0008402777535073248 +/- 3.783728510097374e-05) pb\n",
      "10:51  theta [-31.36301942   6.03173856]: xsec = (0.0015349353099372064 +/- 9.946118348715176e-05) pb\n",
      "10:51  theta [  9.67440943 -35.34372045]: xsec = (0.0011233571380490693 +/- 4.508571473695308e-05) pb\n",
      "10:51  theta [-15.21668203 -27.9377182 ]: xsec = (0.0012891602543576288 +/- 4.427836256789729e-05) pb\n",
      "10:51  theta [16.7704203   2.41202688]: xsec = (0.000511671640539199 +/- 1.1688551582549006e-05) pb\n",
      "10:51  theta [ 79.70195107 -23.01873106]: xsec = (0.00275793982907498 +/- 0.0003109432141756012) pb\n",
      "10:51  theta [  6.87984148 -46.45789741]: xsec = (0.0015715418891124981 +/- 6.500289641169078e-05) pb\n",
      "10:51  theta [-7.67823302 -4.6260753 ]: xsec = (0.0007576757114538733 +/- 1.5091993188980282e-05) pb\n",
      "10:51  theta [-16.91584956  16.34538725]: xsec = (0.0011223618932518322 +/- 4.536195255074585e-05) pb\n",
      "10:51  theta [-45.45468682 -19.43106681]: xsec = (0.00235963899088423 +/- 0.00016329749528155746) pb\n",
      "10:51  theta [25.08728294 17.76267609]: xsec = (0.0006929477142432665 +/- 2.69693252940664e-05) pb\n",
      "10:51  theta [-71.24357585 -22.18020218]: xsec = (0.004150691258412101 +/- 0.00034706918922991416) pb\n",
      "10:51  theta [32.42127284 24.49168648]: xsec = (0.0009109272333325744 +/- 4.0007319575121586e-05) pb\n",
      "10:51  theta [42.20285413  2.46719402]: xsec = (0.0008502282519497387 +/- 4.5149531652344955e-05) pb\n",
      "10:51  theta [-11.30575594 -39.65800335]: xsec = (0.0015609480569087467 +/- 5.324450328681941e-05) pb\n",
      "10:51  theta [41.79659757 -5.30026587]: xsec = (0.0008601820469146071 +/- 5.481276426213607e-05) pb\n",
      "10:51  theta [ 10.80876063 -49.2960398 ]: xsec = (0.0016846876814663049 +/- 7.59769586888158e-05) pb\n",
      "10:51  theta [-31.50276409 -12.17955101]: xsec = (0.0015733570193303314 +/- 9.284587081477548e-05) pb\n",
      "10:51  theta [ 45.20388202 -39.86794679]: xsec = (0.0017403344230758461 +/- 0.0001499594985809479) pb\n",
      "10:51  theta [ 2.25795578 -2.93082462]: xsec = (0.0005889102765818168 +/- 4.054243140923682e-06) pb\n",
      "10:51  theta [-7.74357661 -9.52447127]: xsec = (0.0007901944989934716 +/- 1.6862013234600284e-05) pb\n",
      "10:51  theta [-16.11061002   6.59709324]: xsec = (0.0009855579397320317 +/- 3.8035322817934274e-05) pb\n",
      "10:51  theta [ -0.39710367 -40.04146787]: xsec = (0.0013773547506426382 +/- 4.80231468319166e-05) pb\n",
      "10:51  theta [ -8.77054255 -15.65605477]: xsec = (0.000883108252029273 +/- 2.201004507954758e-05) pb\n"
     ]
    }
   ],
   "source": [
    "thetas_benchmarks, xsecs_benchmarks, xsec_errors_benchmarks = refinery.extract_cross_sections(\n",
    "    theta=multiple_benchmark_thetas(['sm', 'w', 'w2', 'morphing_basis_vector_3', 'morphing_basis_vector_4', 'morphing_basis_vector_5'])\n",
    ")\n",
    "\n",
    "thetas_morphing, xsecs_morphing, xsec_errors_morphing = refinery.extract_cross_sections(\n",
    "    theta=random_morphing_thetas(1000, [('gaussian', 0., 30.), ('gaussian', 0., 30.)])\n",
    ")"
   ]
  },
  {
   "cell_type": "code",
   "execution_count": 60,
   "metadata": {},
   "outputs": [
    {
     "data": {
      "image/png": "[encoded data removed]",
      "text/plain": [
       "<matplotlib.figure.Figure at 0x1160ea048>"
      ]
     },
     "metadata": {},
     "output_type": "display_data"
    }
   ],
   "source": [
    "fig = plt.figure(figsize=(5,4))\n",
    "\n",
    "sc = plt.scatter(thetas_morphing[:,0], thetas_morphing[:,1], c=xsecs_morphing,\n",
    "            s=40., cmap='viridis', vmin=0.0005, vmax=.0025,\n",
    "            marker='o')\n",
    "\n",
    "plt.scatter(thetas_benchmarks[:,0], thetas_benchmarks[:,1], c=xsecs_benchmarks,\n",
    "            s=200., cmap='viridis', vmin=0.0005, vmax=.0025, lw=2., edgecolor='black',\n",
    "            marker='s')\n",
    "\n",
    "cb = plt.colorbar(sc)\n",
    "cb.set_label('xsec [pb]')\n",
    "\n",
    "plt.xlim(-60.,60.)\n",
    "plt.ylim(-60.,60.)\n",
    "plt.tight_layout()\n",
    "plt.show()"
   ]
  },
  {
   "cell_type": "markdown",
   "metadata": {},
   "source": [
    "For debugging, you can also access the full list of observables and benchmark weights (same units as in the LHE file) in the HDF5 file:"
   ]
  },
  {
   "cell_type": "code",
   "execution_count": 61,
   "metadata": {},
   "outputs": [],
   "source": [
    "all_x, all_weights = refinery.extract_raw_data(theta=[0.0,0.1])"
   ]
  },
  {
   "cell_type": "markdown",
   "metadata": {},
   "source": [
    "## 7. Forge likelihood ratio estimators"
   ]
  },
  {
   "cell_type": "markdown",
   "metadata": {},
   "source": [
    "It's now time to build the likelihood ratio estimators. The central object for this is the `Forge` class. It defines functions that train, save, load, and evaluate the neural networks that estimate the likelihood ratio.\n",
    "\n",
    "Here we will use the RASCAL method described in [\"Constraining Effective Field Theories With Machine Learning\"](https://arxiv.org/abs/1805.00013) and [\"A Guide to Constraining Effective Field Theories With Machine Learning\"](https://arxiv.org/abs/1805.00020). Other implemented methods include CARL, CASCAL, and ROLR described in the same publications, as well as ALICE and ALICES which are introduced in [\"Likelihood-free inference with an improved cross-entropy estimator\"](https://arxiv.org/abs/1808.00973). All of these methods exist both in a \"single parameterized\" version, in which only the dependence of the likelihood ratio on the numerator is modelled, and a \"doubly parameterized\" version, in which both the dependence on the numerator and denominator parameters is modelled. For the single parameterized version, use `method='rascal'`, `method='alice'`, and so on. For the double parameterized version, use `method='rascal2'`, `method='alice2'`, etc. Note that for the doubly parameterized estimators you have to provide `theta1_filename`, and in the case of RASCAL and ALICE also `t_xz1_filename`.\n",
    "\n",
    "Finally, the SALLY and SALLINO techniques, which are based on an estimator for the score at a reference parameter point, will be added at some point."
   ]
  },
  {
   "cell_type": "code",
   "execution_count": null,
   "metadata": {},
   "outputs": [
    {
     "name": "stderr",
     "output_type": "stream",
     "text": [
      "14:59  \n",
      "14:59  ------------------------------------------------------------\n",
      "14:59  |                                                          |\n",
      "14:59  |  Forge                                                   |\n",
      "14:59  |                                                          |\n",
      "14:59  |  Version from July 31, 2018                              |\n",
      "14:59  |                                                          |\n",
      "14:59  |           Johann Brehmer, Kyle Cranmer, and Felix Kling  |\n",
      "14:59  |                                                          |\n",
      "14:59  ------------------------------------------------------------\n",
      "14:59  \n",
      "14:59  Starting training\n",
      "14:59    Method:                 rascal\n",
      "14:59    Training data: theta0 at data/samples/theta0_train_rascal.npy\n",
      "14:59                   x at data/samples/x_train_rascal.npy\n",
      "14:59                   y at data/samples/y_train_rascal.npy\n",
      "14:59                   r_xz at data/samples/r_xz_train_rascal.npy\n",
      "14:59                   t_xz (theta0) at  data/samples/t_xz_train_rascal.npy\n",
      "14:59    Method:                 rascal\n",
      "14:59    Hidden layers:          (20, 20)\n",
      "14:59    Activation function:    tanh\n",
      "14:59    alpha:                  100.0\n",
      "14:59    Batch size:             64\n",
      "14:59    Epochs:                 5\n",
      "14:59    Learning rate:          0.001 initially, decaying to 0.0001\n",
      "14:59    Early stopping:         True\n",
      "14:59  Loading training data\n",
      "14:59  Found 100000 samples with 2 parameters and 2 observables\n",
      "14:59  Creating model for method rascal\n",
      "14:59  Training model\n",
      "15:33    Epoch 1: train loss 38.17 ([3.81116721e+01 5.95201193e-04])\n",
      "16:11    Epoch 2: train loss 37.59 ([3.75081505e+01 7.84956013e-04])\n",
      "16:46    Epoch 3: train loss 36.94 ([3.68615275e+01 7.56089632e-04])\n",
      "17:21    Epoch 4: train loss 36.38 ([3.63177637e+01 6.57149760e-04])\n"
     ]
    }
   ],
   "source": [
    "forge = Forge(debug=True)\n",
    "\n",
    "forge.train(\n",
    "    method='rascal',\n",
    "    theta0_filename='data/samples/theta0_train_rascal.npy',\n",
    "    x_filename='data/samples/x_train_rascal.npy',\n",
    "    y_filename='data/samples/y_train_rascal.npy',\n",
    "    r_xz_filename='data/samples/r_xz_train_rascal.npy',\n",
    "    t_xz0_filename='data/samples/t_xz_train_rascal.npy',\n",
    "    n_hidden=(20,20),\n",
    "    alpha=100.,\n",
    "    n_epochs=5,\n",
    "    validation_split=None\n",
    ")\n",
    "\n",
    "forge.save('models/rascal')"
   ]
  },
  {
   "cell_type": "markdown",
   "metadata": {},
   "source": [
    "`forge.evaluate(theta,x)` estimated the log likelihood ratio and the score for all combination between the given phase-space points `x` and parameters `theta`. That is, if given 100 events `x` and a grid of 25 `theta` points, it will return 25\\*100 estimates for the log likelihood and 25\\*100 estimates for the  score, both indexed by `[i_theta,i_x]`."
   ]
  },
  {
   "cell_type": "code",
   "execution_count": null,
   "metadata": {},
   "outputs": [],
   "source": [
    "theta_each = np.linspace(-100.,100.,21)\n",
    "theta0, theta1 = np.meshgrid(theta_each, theta_each)\n",
    "theta_grid = np.vstack((theta0.flatten(), theta1.flatten())).T\n",
    "np.save('data/theta_grid.npy', theta_grid)\n"
   ]
  },
  {
   "cell_type": "code",
   "execution_count": null,
   "metadata": {},
   "outputs": [],
   "source": [
    "forge.load('models/rascal')\n",
    "\n",
    "log_r_hat, _, _ = forge.evaluate(\n",
    "    theta0_filename='data/theta_grid.npy',\n",
    "    x_filename='data/samples/x_test.npy',\n",
    ")"
   ]
  },
  {
   "cell_type": "code",
   "execution_count": null,
   "metadata": {},
   "outputs": [],
   "source": [
    "expected_llr = np.mean(log_r_hat,axis=1)\n",
    "best_fit = theta_grid[np.argmin(-2.*expected_llr)]\n",
    "\n",
    "cmin, cmax = -2.,4.\n",
    "\n",
    "bin_size = theta_each[1] - theta_each[0]\n",
    "edges = np.linspace(theta_each[0] - bin_size/2, theta_each[-1] + bin_size/2, len(theta_each)+1)\n",
    "\n",
    "fig = plt.figure(figsize=(5,4))\n",
    "ax = plt.gca()\n",
    "    \n",
    "pcm = ax.pcolormesh(edges, edges, -2. * expected_llr.reshape((21,21)),\n",
    "                    norm=matplotlib.colors.Normalize(vmin=cmin, vmax=cmax),\n",
    "                    cmap='viridis_r')\n",
    "cbar = fig.colorbar(pcm, ax=ax, extend='both')\n",
    "\n",
    "plt.scatter(best_fit[0], best_fit[1], s=50., color='black', marker='o')\n",
    "plt.scatter(0., 0., s=50., color='yellow', marker='*')\n",
    "\n",
    "plt.xlabel(r'$\\theta_0$')\n",
    "plt.ylabel(r'$\\theta_1$')\n",
    "cbar.set_label(r'$\\mathbb{E}_x [ -2\\, \\log \\,\\hat{r}(x | \\theta, \\theta_{SM}) ]$')\n",
    "\n",
    "plt.tight_layout()\n",
    "plt.show()\n"
   ]
  },
  {
   "cell_type": "code",
   "execution_count": null,
   "metadata": {},
   "outputs": [],
   "source": []
  }
 ],
 "metadata": {
  "kernelspec": {
   "display_name": "Python [default]",
   "language": "python",
   "name": "python3"
  },
  "language_info": {
   "codemirror_mode": {
    "name": "ipython",
    "version": 3
   },
   "file_extension": ".py",
   "mimetype": "text/x-python",
   "name": "python",
   "nbconvert_exporter": "python",
   "pygments_lexer": "ipython3",
   "version": "3.6.4"
  }
 },
 "nbformat": 4,
 "nbformat_minor": 2
}
