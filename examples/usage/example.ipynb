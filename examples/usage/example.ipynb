{
 "cells": [
  {
   "cell_type": "markdown",
   "metadata": {},
   "source": [
    "# MadMiner example"
   ]
  },
  {
   "cell_type": "markdown",
   "metadata": {},
   "source": [
    "In this tutorial we'll demonstrate how to use MadMiner to generate train and test samples for the ML methods introduced in [\"Constraining Effective Field Theories With Machine Learning\"](https://arxiv.org/abs/1805.00013) and [\"A Guide to Constraining Effective Field Theories With Machine Learning\"](https://arxiv.org/abs/1805.00020), both by Johann Brehmer, Gilles Louppe, Juan Pavez, and Kyle Cranmer."
   ]
  },
  {
   "cell_type": "markdown",
   "metadata": {},
   "source": [
    "Before you execute this notebook, make sure you have running installations of MadGraph, Pythia, and Delphes. Note that at least for now, the MG-Pythia interface and Delphes require custom patches (available upon request). In addition, MadMiner and [DelphesMiner](https://github.com/johannbrehmer/delphesminer) have to be in your PYTHONPATH."
   ]
  },
  {
   "cell_type": "code",
   "execution_count": 1,
   "metadata": {},
   "outputs": [],
   "source": [
    "from __future__ import absolute_import, division, print_function, unicode_literals\n",
    "\n",
    "import numpy as np\n",
    "from matplotlib import pyplot as plt\n",
    "% matplotlib inline\n",
    "\n",
    "from madminer import GoldMine, Smithy\n",
    "from madminer.smithy import constant_benchmark_theta, multiple_benchmark_thetas\n",
    "from madminer.smithy import constant_morphing_theta, multiple_morphing_thetas, random_morphing_thetas\n",
    "from madminer.tools.plots import plot_2d_morphing_basis\n",
    "from delphesminer import DelphesMiner"
   ]
  },
  {
   "cell_type": "markdown",
   "metadata": {},
   "source": [
    "Please enter here the path to your MG5 root directory. This notebook assumes that you installed Delphes and Pythia through MG5."
   ]
  },
  {
   "cell_type": "code",
   "execution_count": 2,
   "metadata": {},
   "outputs": [],
   "source": [
    "mg_dir = '/Users/johannbrehmer/work/projects/madminer/MG5_aMC_v2_6_2'"
   ]
  },
  {
   "cell_type": "markdown",
   "metadata": {},
   "source": [
    "## 1. Define parameter space"
   ]
  },
  {
   "cell_type": "markdown",
   "metadata": {},
   "source": [
    "After creating a `GoldMine` instance, the first important step is the definition of the parameter space. Each model parameter is characterized by a name as well as the LHA block and ID.\n",
    "\n",
    "If morphing is used, one also has to specify the maximal power with which the parameter contributes to the squared matrix element. For instance, a parameter that contributes only to one vertex, will typically have `morphing_max_power=2`, while a parameter that contributes to two vertices usually has `morphing_max_power=4`. Exceptions arise for instance when the interference effects between the SM and dimension-six operators are modelled, but the square of the dimension-six amplitude (subleading in 1/Lambda) is not taken into account, in which case `morphing_max_power=1`. Finally, the `parameter_range` argument defines the range of parameter values that are used for the automatic optimization of the morphing basis."
   ]
  },
  {
   "cell_type": "code",
   "execution_count": 3,
   "metadata": {},
   "outputs": [
    {
     "name": "stderr",
     "output_type": "stream",
     "text": [
      "13:07  \n",
      "13:07  ------------------------------------------------------------\n",
      "13:07  |                                                          |\n",
      "13:07  |  MadMiner                                                |\n",
      "13:07  |                                                          |\n",
      "13:07  |  Version from July 5, 2018                               |\n",
      "13:07  |                                                          |\n",
      "13:07  |           Johann Brehmer, Kyle Cranmer, and Felix Kling  |\n",
      "13:07  |                                                          |\n",
      "13:07  ------------------------------------------------------------\n",
      "13:07  \n",
      "13:07  Hi! How are you today?\n",
      "13:07  Added parameter fW (LHA: ANOINPUTS 3, maximal power in squared ME: 2, range: (-0.6, 0.6))\n",
      "13:07  Added parameter fWW (LHA: ANOINPUTS 7, maximal power in squared ME: 2, range: (-0.6, 0.6))\n"
     ]
    }
   ],
   "source": [
    "miner = GoldMine()\n",
    "\n",
    "miner.add_parameter(\n",
    "    lha_block='ANOINPUTS',\n",
    "    lha_id=3,\n",
    "    parameter_name='fW',\n",
    "    morphing_max_power=2,\n",
    "    parameter_range=(-.6,.6),\n",
    "    param_card_transform=lambda x : 1.64949627e-05*x,\n",
    ")\n",
    "miner.add_parameter(\n",
    "    lha_block='ANOINPUTS',\n",
    "    lha_id=7,\n",
    "    parameter_name='fWW',\n",
    "    morphing_max_power=2,\n",
    "    parameter_range=(-.6,.6),\n",
    "    param_card_transform=lambda x : 1.64949627e-05*x,\n",
    ")"
   ]
  },
  {
   "cell_type": "markdown",
   "metadata": {},
   "source": [
    "## 2. Define benchmark points (evaluation points for |M|^2)"
   ]
  },
  {
   "cell_type": "markdown",
   "metadata": {},
   "source": [
    "The next step is the definition of all the points at which the weights (squared matrix elements) should be evaluated by MadGraph. We call these points \"benchmarks\"."
   ]
  },
  {
   "cell_type": "markdown",
   "metadata": {},
   "source": [
    "### 2a. Set benchmarks by hand"
   ]
  },
  {
   "cell_type": "markdown",
   "metadata": {},
   "source": [
    "One can define benchmarks by hand:"
   ]
  },
  {
   "cell_type": "code",
   "execution_count": 4,
   "metadata": {},
   "outputs": [
    {
     "name": "stderr",
     "output_type": "stream",
     "text": [
      "13:07  Added benchmark sm: fW = 0.00e+00, fWW = 0.00e+00)\n",
      "13:07  Added benchmark bsm: fW = -5.00e-01, fWW = -5.00e-01)\n",
      "13:07  Added benchmark w: fW = 0.10, fWW = 0.00e+00)\n",
      "13:07  Added benchmark ww: fW = 0.00e+00, fWW = 0.10)\n"
     ]
    }
   ],
   "source": [
    "miner.add_benchmark(\n",
    "    {'fW':0., 'fWW':0.},\n",
    "    'sm'\n",
    ")\n",
    "\n",
    "miner.add_benchmark(\n",
    "    {'fW':-0.5, 'fWW':-0.5},\n",
    "    'bsm'\n",
    ")\n",
    "\n",
    "miner.add_benchmark(\n",
    "    {'fW':0.1, 'fWW':0.},\n",
    "    'w'\n",
    ")\n",
    "\n",
    "miner.add_benchmark(\n",
    "    {'fW':0., 'fWW':0.1},\n",
    "    'ww'\n",
    ")"
   ]
  },
  {
   "cell_type": "markdown",
   "metadata": {},
   "source": [
    "### 2b. Benchmarks for morphing"
   ]
  },
  {
   "cell_type": "markdown",
   "metadata": {},
   "source": [
    "If morphing is used, the function `set_benchmarks_from_morphing` has to be called. With the option `keep_existing_benchmarks=True`, MadMiner will keep all the benchmark points defined beforehand and run a simple optimization algorithm to fix the remaining ones for the basis (which may be none). Otherwise, MadMiner will optimize the full basis and forget about all previously defined benchmark points."
   ]
  },
  {
   "cell_type": "code",
   "execution_count": 10,
   "metadata": {},
   "outputs": [
    {
     "name": "stderr",
     "output_type": "stream",
     "text": [
      "13:07  Optimizing basis for morphing\n",
      "13:07  Added benchmark sm: fW = 0.00e+00, fWW = 0.00e+00)\n",
      "13:07  Added benchmark bsm: fW = -5.00e-01, fWW = -5.00e-01)\n",
      "13:07  Added benchmark w: fW = 0.10, fWW = 0.00e+00)\n",
      "13:07  Added benchmark ww: fW = 0.00e+00, fWW = 0.10)\n",
      "13:07  Added benchmark morphing_basis_vector_4: fW = -4.48e-01, fWW = 0.21)\n",
      "13:07  Added benchmark morphing_basis_vector_5: fW = 0.13, fWW = -3.36e-01)\n"
     ]
    }
   ],
   "source": [
    "miner.set_benchmarks_from_morphing(\n",
    "    keep_existing_benchmarks=True,\n",
    "    n_bases=1,\n",
    "    n_trials=1000,\n",
    "    n_test_thetas=100,\n",
    "    max_overall_power=2\n",
    ")"
   ]
  },
  {
   "cell_type": "markdown",
   "metadata": {},
   "source": [
    "Let's have a look at the resulting morphing basis and the \"morphing error\", i.e. the sum of squared morphing weights as a function of the parameter space:"
   ]
  },
  {
   "cell_type": "code",
   "execution_count": 11,
   "metadata": {},
   "outputs": [
    {
     "data": {
      "image/png": "[encoded data removed]",
      "text/plain": [
       "<matplotlib.figure.Figure at 0x10baffeb8>"
      ]
     },
     "metadata": {},
     "output_type": "display_data"
    }
   ],
   "source": [
    "fig = plot_2d_morphing_basis(\n",
    "    miner.morpher,\n",
    "    xlabel=r'$f_{W} / \\Lambda^2$ [GeV${}^{-2}$]',\n",
    "    ylabel=r'$f_{WW} / \\Lambda^2$ [GeV${}^{-2}$]'\n",
    ")"
   ]
  },
  {
   "cell_type": "markdown",
   "metadata": {},
   "source": [
    "## 3. Save settings and run MadGraph"
   ]
  },
  {
   "cell_type": "markdown",
   "metadata": {},
   "source": [
    "The parameter space, benchmark points, and morphing setup are saved in a HDF5 file:"
   ]
  },
  {
   "cell_type": "code",
   "execution_count": 12,
   "metadata": {},
   "outputs": [
    {
     "name": "stderr",
     "output_type": "stream",
     "text": [
      "13:07  Saving setup (including morphing) to data/madminer_example.h5\n"
     ]
    }
   ],
   "source": [
    "miner.save('data/madminer_example.h5')"
   ]
  },
  {
   "cell_type": "markdown",
   "metadata": {},
   "source": [
    "In a next step, MadMiner starts MadGraph and Pythia to generate events and calculate the weights. You have to provide the process card, run card, param card (the entries corresponding to the parameters of interest will be automatically adapted), and an empty reweight card.\n",
    "\n",
    "If MadGraph is supposed to run in a different Python environment or requires other setup steps, you can use the `initial_command` argument."
   ]
  },
  {
   "cell_type": "code",
   "execution_count": 13,
   "metadata": {},
   "outputs": [
    {
     "name": "stderr",
     "output_type": "stream",
     "text": [
      "13:07  Generating MadGraph process folder from cards/proc_card.dat at ./MG_process\n",
      "13:07  Creating param and reweight cards in ./MG_process\n",
      "13:07  Starting MadGraph and Pythia in ./MG_process\n"
     ]
    }
   ],
   "source": [
    "miner.run(\n",
    "    mg_directory=mg_dir,\n",
    "    proc_card_file='cards/proc_card.dat',\n",
    "    param_card_template_file='cards/param_card_template.dat',\n",
    "    reweight_card_template_file='cards/reweight_card_template.dat',\n",
    "    run_card_file='cards/run_card.dat',\n",
    "    pythia8_card_file='cards/pythia8_card.dat',\n",
    "    sample_benchmark='sm',\n",
    "    initial_command='source activate python2'\n",
    ")"
   ]
  },
  {
   "cell_type": "markdown",
   "metadata": {},
   "source": [
    "## 4. Run detector simulation and extract observables"
   ]
  },
  {
   "cell_type": "markdown",
   "metadata": {},
   "source": [
    "The detector simulation and calculation of observables is not part of MadMiner. The reason is that different users might have very different requirements here: while a phenomenologist might be content with the fast detector simulation from Delphes, an experimental analysis might require the full simulation through Geant4.\n",
    "\n",
    "We provide the DelphesMiner package, which wraps around Delphes and allows for the fast extraction of observables into the HDF5 file.\n",
    "\n",
    "Any user is free to replace the DelphesMiner step with a tool of their choice. "
   ]
  },
  {
   "cell_type": "code",
   "execution_count": null,
   "metadata": {},
   "outputs": [],
   "source": [
    "dm = DelphesMiner()"
   ]
  },
  {
   "cell_type": "markdown",
   "metadata": {},
   "source": [
    "After creating the DelphesMiner object, one can add a number of HepMC event samples..."
   ]
  },
  {
   "cell_type": "code",
   "execution_count": null,
   "metadata": {},
   "outputs": [],
   "source": [
    "dm.add_hepmc_sample('MG_process/Events/run_01/tag_1_pythia8_events.hepmc.gz')"
   ]
  },
  {
   "cell_type": "markdown",
   "metadata": {},
   "source": [
    "... and have DelphesMiner run Pythia:"
   ]
  },
  {
   "cell_type": "code",
   "execution_count": null,
   "metadata": {},
   "outputs": [],
   "source": [
    "dm.run_delphes(delphes_directory=mg_dir + '/Delphes',\n",
    "               delphes_card='cards/delphes_card.dat',\n",
    "               initial_command='source activate python2')"
   ]
  },
  {
   "cell_type": "markdown",
   "metadata": {},
   "source": [
    "The next step is the definition of observables through a name and a python expression. For the latter, you can use the objects `j[i]`, `e[i]`, `mu[i]`, `a[i]`, `met`, where the indices `i` refer to a ordering by the transverse momentum. All of these objects are scikit-hep [LorentzVectors](http://scikit-hep.org/api/math.html#vector-classes), see the link for a documentation of their properties."
   ]
  },
  {
   "cell_type": "code",
   "execution_count": null,
   "metadata": {},
   "outputs": [],
   "source": [
    "dm.add_observable('n_jets', 'len(j)')\n",
    "dm.add_observable('pt_j1', 'j[0].pt')\n",
    "dm.add_observable('pt_j2', 'j[1].pt')\n",
    "dm.add_observable('m_jj', '(j[0] + j[1]).m')\n",
    "dm.add_observable('delta_eta_jj', 'abs(j[0].eta - j[1].eta)')\n",
    "dm.add_observable('delta_phi_jj', 'abs(j[0].phi() - j[1].phi())')"
   ]
  },
  {
   "cell_type": "markdown",
   "metadata": {},
   "source": [
    "The function `analyse_delphes_samples` extracts all these observables from the Delphes ROOT file(s) generated before:"
   ]
  },
  {
   "cell_type": "code",
   "execution_count": null,
   "metadata": {},
   "outputs": [],
   "source": [
    "dm.analyse_delphes_samples()"
   ]
  },
  {
   "cell_type": "markdown",
   "metadata": {},
   "source": [
    "The values of the observables and the weights are then saved in the HDF5 file. It is possible to overwrite the same file, or to leave the original file intact and save all the data into a new file as follows:"
   ]
  },
  {
   "cell_type": "code",
   "execution_count": null,
   "metadata": {},
   "outputs": [],
   "source": [
    "dm.save('data/madminer_example_with_data.h5', 'data/madminer_example.h5')"
   ]
  },
  {
   "cell_type": "markdown",
   "metadata": {},
   "source": [
    "It's easy to check some distributions at this stage"
   ]
  },
  {
   "cell_type": "code",
   "execution_count": null,
   "metadata": {},
   "outputs": [],
   "source": [
    "fig = plt.figure(figsize=(5,5))\n",
    "\n",
    "for weights in dm.weights:\n",
    "    plt.hist(dm.observations['pt_j1'], range=(0.,400.), bins=20, histtype='step', weights=weights)\n",
    "\n",
    "plt.show()"
   ]
  },
  {
   "cell_type": "markdown",
   "metadata": {},
   "source": [
    "## 5. Make training and test samples"
   ]
  },
  {
   "cell_type": "markdown",
   "metadata": {},
   "source": [
    "The last important MadMiner class is the `Smithy`. From all the data we have in the HDF5 file now, it extracts unweighted samples including the augmented data (\"gold\") that is needed as training and evaluation data for the Machine Learning algorithms."
   ]
  },
  {
   "cell_type": "code",
   "execution_count": null,
   "metadata": {},
   "outputs": [],
   "source": [
    "smithy = Smithy('data/madminer_example_with_data.h5', debug=True)"
   ]
  },
  {
   "cell_type": "markdown",
   "metadata": {},
   "source": [
    "The `Smithy` class defines four different high-level functions to generate train or test samples:\n",
    "- `extract_samples_train_plain()`, which only saves observations x, for instance for histograms or ABC;\n",
    "- `extract_samples_train_local()` for methods like SALLY and SALLINO;\n",
    "- `extract_samples_train_ratio()` for techniques like CARL, ROLR, CASCAL, and RASCAL; and\n",
    "- `extract_samples_test()` for the evaluation of any method.\n",
    "\n",
    "For the arguments `theta`, `theta0`, or `theta1`, you can use the helper functions `constant_benchmark_theta()`, `multiple_benchmark_thetas()`, `constant_morphing_theta()`, `multiple_morphing_thetas()`, and `random_morphing_thetas()`, all defined in the `smithy` module."
   ]
  },
  {
   "cell_type": "code",
   "execution_count": null,
   "metadata": {},
   "outputs": [],
   "source": [
    "smithy.extract_samples_train_local(\n",
    "    theta=constant_morphing_theta(np.array([1.e-5,0.])),\n",
    "    n_samples=1000,\n",
    "    folder='./data/samples',\n",
    "    filename='train'\n",
    ")"
   ]
  },
  {
   "cell_type": "code",
   "execution_count": null,
   "metadata": {},
   "outputs": [],
   "source": []
  }
 ],
 "metadata": {
  "kernelspec": {
   "display_name": "Python [default]",
   "language": "python",
   "name": "python3"
  },
  "language_info": {
   "codemirror_mode": {
    "name": "ipython",
    "version": 3
   },
   "file_extension": ".py",
   "mimetype": "text/x-python",
   "name": "python",
   "nbconvert_exporter": "python",
   "pygments_lexer": "ipython3",
   "version": "3.6.4"
  }
 },
 "nbformat": 4,
 "nbformat_minor": 2
}
