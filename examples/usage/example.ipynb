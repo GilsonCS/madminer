{
 "cells": [
  {
   "cell_type": "markdown",
   "metadata": {},
   "source": [
    "# MadMiner example"
   ]
  },
  {
   "cell_type": "markdown",
   "metadata": {},
   "source": [
    "In this tutorial we'll demonstrate how to use MadMiner to generate train and test samples for the ML methods introduced in [\"Constraining Effective Field Theories With Machine Learning\"](https://arxiv.org/abs/1805.00013) and [\"A Guide to Constraining Effective Field Theories With Machine Learning\"](https://arxiv.org/abs/1805.00020), both by Johann Brehmer, Gilles Louppe, Juan Pavez, and Kyle Cranmer."
   ]
  },
  {
   "cell_type": "markdown",
   "metadata": {},
   "source": [
    "Before you execute this notebook, make sure you have running installations of MadGraph, Pythia, and Delphes. Note that at least for now, the MG-Pythia interface and Delphes require custom patches (available upon request). In addition, MadMiner and [DelphesMiner](https://github.com/johannbrehmer/delphesminer) have to be in your PYTHONPATH."
   ]
  },
  {
   "cell_type": "code",
   "execution_count": 1,
   "metadata": {},
   "outputs": [],
   "source": [
    "from __future__ import absolute_import, division, print_function, unicode_literals\n",
    "\n",
    "import numpy as np\n",
    "from matplotlib import pyplot as plt\n",
    "% matplotlib inline\n",
    "\n",
    "from madminer import GoldMine, Smithy\n",
    "from madminer.smithy import constant_benchmark_theta, multiple_benchmark_thetas\n",
    "from madminer.smithy import constant_morphing_theta, multiple_morphing_thetas, random_morphing_thetas\n",
    "from madminer.tools.plots import plot_2d_morphing_basis\n",
    "from delphesminer import DelphesMiner"
   ]
  },
  {
   "cell_type": "markdown",
   "metadata": {},
   "source": [
    "## 1. Define parameter space"
   ]
  },
  {
   "cell_type": "markdown",
   "metadata": {},
   "source": [
    "After creating a `GoldMine` instance, the first important step is the definition of the parameter space. Each model parameter is characterized by a name as well as the LHA block and ID.\n",
    "\n",
    "If morphing is used, one also has to specify the maximal power with which the parameter contributes to the squared matrix element. For instance, a parameter that contributes only to one vertex, will typically have `morphing_max_power=2`, while a parameter that contributes to two vertices usually has `morphing_max_power=4`. Exceptions arise for instance when the interference effects between the SM and dimension-six operators are modelled, but the square of the dimension-six amplitude (subleading in 1/Lambda) is not taken into account, in which case `morphing_max_power=1`. Finally, the `parameter_range` argument defines the range of parameter values that are used for the automatic optimization of the morphing basis."
   ]
  },
  {
   "cell_type": "code",
   "execution_count": null,
   "metadata": {},
   "outputs": [],
   "source": [
    "miner = GoldMine()\n",
    "\n",
    "miner.add_parameter(\n",
    "    lha_block='ANOINPUTS',\n",
    "    lha_id=3,\n",
    "    parameter_name='fW',\n",
    "    morphing_max_power=4,\n",
    "    parameter_range=(-1.2e-05,1.2e-05)\n",
    ")\n",
    "miner.add_parameter(\n",
    "    lha_block='ANOINPUTS',\n",
    "    lha_id=7,\n",
    "    parameter_name='fWW',\n",
    "    morphing_max_power=4,\n",
    "    parameter_range=(-1.2e-05,1.2e-05)\n",
    ")"
   ]
  },
  {
   "cell_type": "markdown",
   "metadata": {},
   "source": [
    "## 2. Define benchmark points (evaluation points for |M|^2)"
   ]
  },
  {
   "cell_type": "markdown",
   "metadata": {},
   "source": [
    "The next step is the definition of all the points at which the weights (squared matrix elements) should be evaluated by MadGraph. We call these points \"benchmarks\"."
   ]
  },
  {
   "cell_type": "markdown",
   "metadata": {},
   "source": [
    "### 2a. Set benchmarks by hand"
   ]
  },
  {
   "cell_type": "markdown",
   "metadata": {},
   "source": [
    "One can define benchmarks by hand:"
   ]
  },
  {
   "cell_type": "code",
   "execution_count": null,
   "metadata": {},
   "outputs": [],
   "source": [
    "miner.add_benchmark(\n",
    "    {'fW':0., 'fWW':0.},\n",
    "    'sm'\n",
    ")"
   ]
  },
  {
   "cell_type": "markdown",
   "metadata": {},
   "source": [
    "### 2b. Benchmarks for morphing"
   ]
  },
  {
   "cell_type": "markdown",
   "metadata": {},
   "source": [
    "If morphing is used, the function `set_benchmarks_from_morphing` has to be called. With the option `keep_existing_benchmarks=True`, MadMiner will keep all the benchmark points defined beforehand and run a simple optimization algorithm to fix the remaining ones for the basis (which may be none). Otherwise, MadMiner will optimize the full basis and forget about all previously defined benchmark points."
   ]
  },
  {
   "cell_type": "code",
   "execution_count": null,
   "metadata": {},
   "outputs": [],
   "source": [
    "miner.set_benchmarks_from_morphing(\n",
    "    keep_existing_benchmarks=True,\n",
    "    n_bases=1,\n",
    "    n_trials=1000,\n",
    "    n_test_thetas=100\n",
    ")"
   ]
  },
  {
   "cell_type": "markdown",
   "metadata": {},
   "source": [
    "Let's have a look at the resulting morphing basis and the \"morphing error\", i.e. the sum of squared morphing weights as a function of the parameter space:"
   ]
  },
  {
   "cell_type": "code",
   "execution_count": null,
   "metadata": {},
   "outputs": [],
   "source": [
    "fig = plot_2d_morphing_basis(\n",
    "    miner.morpher,\n",
    "    xlabel=r'$f_{W} / \\Lambda^2$ [GeV${}^{-2}$]',\n",
    "    ylabel=r'$f_{WW} / \\Lambda^2$ [GeV${}^{-2}$]',\n",
    "    xrange=(-1.64949627e-05, 1.64949627e-05),\n",
    "    yrange=(-1.64949627e-05, 1.64949627e-05),\n",
    ")"
   ]
  },
  {
   "cell_type": "markdown",
   "metadata": {},
   "source": [
    "## 3. Save settings and run MadGraph"
   ]
  },
  {
   "cell_type": "markdown",
   "metadata": {},
   "source": [
    "The parameter space, benchmark points, and morphing setup are saved in a HDF5 file:"
   ]
  },
  {
   "cell_type": "code",
   "execution_count": null,
   "metadata": {},
   "outputs": [],
   "source": [
    "miner.save('data/madminer_example.h5')"
   ]
  },
  {
   "cell_type": "markdown",
   "metadata": {},
   "source": [
    "In a next step, MadMiner starts MadGraph and Pythia to generate events and calculate the weights. You have to provide the process card, run card, param card (the entries corresponding to the parameters of interest will be automatically adapted), and an empty reweight card.\n",
    "\n",
    "If MadGraph is supposed to run in a different Python environment or requires other setup steps, you can use the `initial_command` argument."
   ]
  },
  {
   "cell_type": "code",
   "execution_count": null,
   "metadata": {},
   "outputs": [],
   "source": [
    "miner.run(\n",
    "    mg_directory='/Users/johannbrehmer/work/projects/madminer/MG5_aMC_v2_6_2',\n",
    "    proc_card_file='./cards/proc_card.dat',\n",
    "    param_card_template_file='./cards/param_card_template.dat',\n",
    "    reweight_card_template_file='./cards/reweight_card_template.dat',\n",
    "    run_card_file='./cards/run_card.dat',\n",
    "    sample_benchmark='sm',\n",
    "    initial_command='source activate python2'\n",
    ")"
   ]
  },
  {
   "cell_type": "markdown",
   "metadata": {},
   "source": [
    "## 4. Run detector simulation and extract observables"
   ]
  },
  {
   "cell_type": "markdown",
   "metadata": {},
   "source": [
    "The detector simulation and calculation of observables is not part of MadMiner. The reason is that different users might have very different requirements here: while a phenomenologist might be content with the fast detector simulation from Delphes, an experimental analysis might require the full simulation through Geant4.\n",
    "\n",
    "We provide the DelphesMiner package, which wraps around Delphes and allows for the fast extraction of observables into the HDF5 file.\n",
    "\n",
    "Any user is free to replace the DelphesMiner step with a tool of their choice. "
   ]
  },
  {
   "cell_type": "code",
   "execution_count": null,
   "metadata": {},
   "outputs": [],
   "source": [
    "dm = DelphesMiner()"
   ]
  },
  {
   "cell_type": "markdown",
   "metadata": {},
   "source": [
    "After creating the DelphesMiner object, one can add a number of HepMC event samples..."
   ]
  },
  {
   "cell_type": "code",
   "execution_count": null,
   "metadata": {},
   "outputs": [],
   "source": [
    "dm.add_hepmc_sample('./MG_process/Events/run_01/tag_1_pythia8_events.hepmc.gz')"
   ]
  },
  {
   "cell_type": "markdown",
   "metadata": {},
   "source": [
    "... and have DelphesMiner run Pythia:"
   ]
  },
  {
   "cell_type": "code",
   "execution_count": null,
   "metadata": {},
   "outputs": [],
   "source": [
    "dm.run_delphes(delphes_directory='/Users/johannbrehmer/work/projects/madminer/MG5_aMC_v2_6_2/Delphes',\n",
    "               delphes_card='./cards/delphes_card.dat')"
   ]
  },
  {
   "cell_type": "markdown",
   "metadata": {},
   "source": [
    "The next step is the definition of observables through a name and a python expression. For the latter, you can use the objects `j[i]`, `e[i]`, `mu[i]`, `a[i]`, `met`, where the indices `i` refer to a ordering by the transverse momentum. All of these objects are scikit-hep [LorentzVectors](http://scikit-hep.org/api/math.html#vector-classes), see the link for a documentation of their properties."
   ]
  },
  {
   "cell_type": "code",
   "execution_count": null,
   "metadata": {},
   "outputs": [],
   "source": [
    "dm.add_observable('n_jets', 'len(j)')\n",
    "dm.add_observable('pt_j1', 'j[0].pt')\n",
    "dm.add_observable('pt_j2', 'j[1].pt')\n",
    "dm.add_observable('m_jj', '(j[0] + j[1]).m')\n",
    "dm.add_observable('delta_eta_jj', 'abs(j[0].eta - j[1].eta)')\n",
    "dm.add_observable('delta_phi_jj', 'abs(j[0].phi() - j[1].phi())')"
   ]
  },
  {
   "cell_type": "markdown",
   "metadata": {},
   "source": [
    "The function `analyse_delphes_samples` extracts all these observables from the Delphes ROOT file(s) generated before:"
   ]
  },
  {
   "cell_type": "code",
   "execution_count": null,
   "metadata": {},
   "outputs": [],
   "source": [
    "dm.analyse_delphes_samples()"
   ]
  },
  {
   "cell_type": "markdown",
   "metadata": {},
   "source": [
    "The values of the observables and the weights are then saved in the HDF5 file. It is possible to overwrite the same file, or to leave the original file intact and save all the data into a new file as follows:"
   ]
  },
  {
   "cell_type": "code",
   "execution_count": null,
   "metadata": {},
   "outputs": [],
   "source": [
    "dm.save('data/madminer_example_with_data.h5', 'data/madminer_example.h5')"
   ]
  },
  {
   "cell_type": "markdown",
   "metadata": {},
   "source": [
    "It's easy to check some distributions at this stage"
   ]
  },
  {
   "cell_type": "code",
   "execution_count": null,
   "metadata": {},
   "outputs": [],
   "source": [
    "fig = plt.figure(figsize=(5,5))\n",
    "\n",
    "for weights in dm.weights:\n",
    "    plt.hist(dm.observations['pt_j1'], range=(0.,400.), bins=20, histtype='step', weights=weights)\n",
    "\n",
    "plt.show()"
   ]
  },
  {
   "cell_type": "markdown",
   "metadata": {},
   "source": [
    "## 5. Make training and test samples"
   ]
  },
  {
   "cell_type": "markdown",
   "metadata": {},
   "source": [
    "The last important MadMiner class is the `Smithy`. From all the data we have in the HDF5 file now, it extracts unweighted samples including the augmented data (\"gold\") that is needed as training and evaluation data for the Machine Learning algorithms."
   ]
  },
  {
   "cell_type": "code",
   "execution_count": 2,
   "metadata": {},
   "outputs": [
    {
     "name": "stderr",
     "output_type": "stream",
     "text": [
      "15:07  \n",
      "15:07  ------------------------------------------------------------\n",
      "15:07  |                                                          |\n",
      "15:07  |  MadMiner                                                |\n",
      "15:07  |                                                          |\n",
      "15:07  |  Version from July 5, 2018                               |\n",
      "15:07  |                                                          |\n",
      "15:07  |           Johann Brehmer, Kyle Cranmer, and Felix Kling  |\n",
      "15:07  |                                                          |\n",
      "15:07  ------------------------------------------------------------\n",
      "15:07  \n",
      "15:07  Hi! How are you today?\n",
      "15:07  Loading data from data/madminer_example_with_data.h5\n",
      "15:07  Found 2 parameters:\n",
      "15:07     fW (LHA: ANOINPUTS 3, maximal power in squared ME: 4, range: (-1.2e-05, 1.2e-05))\n",
      "15:07     fWW (LHA: ANOINPUTS 7, maximal power in squared ME: 4, range: (-1.2e-05, 1.2e-05))\n",
      "15:07  Found 15 benchmarks:\n",
      "15:07     sm: fW = 0.00e+00, fWW = 0.00e+00\n",
      "15:07     morphing_basis_vector_1: fW = 7.92e-06, fWW = 1.10e-05\n",
      "15:07     morphing_basis_vector_2: fW = -2.67e-06, fWW = 6.23e-06\n",
      "15:07     morphing_basis_vector_3: fW = -2.60e-06, fWW = -1.18e-05\n",
      "15:07     morphing_basis_vector_4: fW = 7.89e-06, fWW = -8.49e-06\n",
      "15:07     morphing_basis_vector_5: fW = 9.46e-06, fWW = 4.69e-06\n",
      "15:07     morphing_basis_vector_6: fW = -1.09e-05, fWW = 1.90e-06\n",
      "15:07     morphing_basis_vector_7: fW = -9.78e-06, fWW = 7.61e-06\n",
      "15:07     morphing_basis_vector_8: fW = 1.02e-05, fWW = 1.17e-05\n",
      "15:07     morphing_basis_vector_9: fW = -1.06e-05, fWW = 3.54e-07\n",
      "15:07     morphing_basis_vector_10: fW = -8.62e-06, fWW = -6.30e-06\n",
      "15:07     morphing_basis_vector_11: fW = -2.36e-06, fWW = -9.20e-07\n",
      "15:07     morphing_basis_vector_12: fW = 1.09e-05, fWW = -1.38e-06\n",
      "15:07     morphing_basis_vector_13: fW = 2.21e-06, fWW = -4.89e-06\n",
      "15:07     morphing_basis_vector_14: fW = -5.23e-06, fWW = 6.36e-06\n",
      "15:07  Found morphing setup with 15 components\n",
      "15:07  Found 6 observables: n_jets, pt_j1, pt_j2, m_jj, delta_eta_jj, delta_phi_jj\n",
      "15:07  Found 89972 events\n"
     ]
    }
   ],
   "source": [
    "smithy = Smithy('data/madminer_example_with_data.h5', debug=True)"
   ]
  },
  {
   "cell_type": "markdown",
   "metadata": {},
   "source": [
    "The `Smithy` class defines four different high-level functions to generate train or test samples:\n",
    "- `extract_samples_train_onlysamples()`, which only saves observations x, for instance for histograms or ABC;\n",
    "- `extract_samples_train_local()` for methods like SALLY and SALLINO;\n",
    "- `extract_samples_train_ratio()` for techniques like CARL, ROLR, CASCAL, and RASCAL; and\n",
    "- `extract_samples_test()` for the evaluation of any method.\n",
    "\n",
    "For the arguments `theta`, `theta0`, or `theta1`, you can use the helper functions `constant_benchmark_theta()`, `multiple_benchmark_thetas()`, `constant_morphing_theta()`, `multiple_morphing_thetas()`, and `random_morphing_thetas()`, all defined in the `smithy` module."
   ]
  },
  {
   "cell_type": "code",
   "execution_count": 3,
   "metadata": {},
   "outputs": [
    {
     "name": "stderr",
     "output_type": "stream",
     "text": [
      "15:07  Extracting training sample for ratio-based methods. Numerator hypothesis: ('random', (None, [('gaussian', 0.0, 1e-05), ('gaussian', 0.0, 5e-06)])), denominator hypothesis: ('benchmark', 'sm')\n",
      "15:07  Starting sample extraction\n",
      "15:07  New theta configuration\n",
      "15:07    Sampling theta: morphing, [-0.00 0.00]\n",
      "15:07    Auxiliary theta: benchmark, sm\n",
      "15:07    # samples: 1\n"
     ]
    },
    {
     "ename": "RuntimeError",
     "evalue": "Cannot calculate score without morphing or finite differences",
     "output_type": "error",
     "traceback": [
      "\u001b[0;31m---------------------------------------------------------------------------\u001b[0m",
      "\u001b[0;31mRuntimeError\u001b[0m                              Traceback (most recent call last)",
      "\u001b[0;32m<ipython-input-3-4d483ab49e69>\u001b[0m in \u001b[0;36m<module>\u001b[0;34m()\u001b[0m\n\u001b[1;32m      4\u001b[0m     \u001b[0mn_samples\u001b[0m\u001b[0;34m=\u001b[0m\u001b[0;36m10000\u001b[0m\u001b[0;34m,\u001b[0m\u001b[0;34m\u001b[0m\u001b[0m\n\u001b[1;32m      5\u001b[0m     \u001b[0mfolder\u001b[0m\u001b[0;34m=\u001b[0m\u001b[0;34m'./data/samples'\u001b[0m\u001b[0;34m,\u001b[0m\u001b[0;34m\u001b[0m\u001b[0m\n\u001b[0;32m----> 6\u001b[0;31m     \u001b[0mfilename\u001b[0m\u001b[0;34m=\u001b[0m\u001b[0;34m'train'\u001b[0m\u001b[0;34m\u001b[0m\u001b[0m\n\u001b[0m\u001b[1;32m      7\u001b[0m )\n",
      "\u001b[0;32m~/work/projects/madminer/madminer/madminer/smithy.py\u001b[0m in \u001b[0;36mextract_samples_train_ratio\u001b[0;34m(self, theta0, theta1, n_samples, folder, filename, test_split)\u001b[0m\n\u001b[1;32m    235\u001b[0m             \u001b[0maugmented_data_definitions\u001b[0m\u001b[0;34m=\u001b[0m\u001b[0maugmented_data_definitions0\u001b[0m\u001b[0;34m,\u001b[0m\u001b[0;34m\u001b[0m\u001b[0m\n\u001b[1;32m    236\u001b[0m             \u001b[0mstart_event\u001b[0m\u001b[0;34m=\u001b[0m\u001b[0;36m0\u001b[0m\u001b[0;34m,\u001b[0m\u001b[0;34m\u001b[0m\u001b[0m\n\u001b[0;32m--> 237\u001b[0;31m             \u001b[0mend_event\u001b[0m\u001b[0;34m=\u001b[0m\u001b[0mlast_train_index\u001b[0m\u001b[0;34m\u001b[0m\u001b[0m\n\u001b[0m\u001b[1;32m    238\u001b[0m         )\n\u001b[1;32m    239\u001b[0m \u001b[0;34m\u001b[0m\u001b[0m\n",
      "\u001b[0;32m~/work/projects/madminer/madminer/madminer/smithy.py\u001b[0m in \u001b[0;36mextract_sample\u001b[0;34m(self, theta_sampling_types, theta_sampling_values, n_samples_per_theta, theta_auxiliary_types, theta_auxiliary_values, augmented_data_definitions, start_event, end_event)\u001b[0m\n\u001b[1;32m    524\u001b[0m                     \u001b[0mtheta_auxiliary_value\u001b[0m\u001b[0;34m,\u001b[0m\u001b[0;34m\u001b[0m\u001b[0m\n\u001b[1;32m    525\u001b[0m                     \u001b[0mself\u001b[0m\u001b[0;34m.\u001b[0m\u001b[0mbenchmarks\u001b[0m\u001b[0;34m,\u001b[0m\u001b[0;34m\u001b[0m\u001b[0m\n\u001b[0;32m--> 526\u001b[0;31m                     \u001b[0mself\u001b[0m\u001b[0;34m.\u001b[0m\u001b[0mmorpher\u001b[0m\u001b[0;34m\u001b[0m\u001b[0m\n\u001b[0m\u001b[1;32m    527\u001b[0m                 )\n\u001b[1;32m    528\u001b[0m             \u001b[0;32melse\u001b[0m\u001b[0;34m:\u001b[0m\u001b[0;34m\u001b[0m\u001b[0m\n",
      "\u001b[0;32m~/work/projects/madminer/madminer/madminer/tools/analysis.py\u001b[0m in \u001b[0;36mget_dtheta_benchmark_matrix\u001b[0;34m(theta_type, theta_value, n_benchmarks, morpher)\u001b[0m\n\u001b[1;32m     45\u001b[0m \u001b[0;34m\u001b[0m\u001b[0m\n\u001b[1;32m     46\u001b[0m     \u001b[0;32mif\u001b[0m \u001b[0mtheta_type\u001b[0m \u001b[0;34m==\u001b[0m \u001b[0;34m'benchmark'\u001b[0m\u001b[0;34m:\u001b[0m\u001b[0;34m\u001b[0m\u001b[0m\n\u001b[0;32m---> 47\u001b[0;31m         \u001b[0;32mraise\u001b[0m \u001b[0mRuntimeError\u001b[0m\u001b[0;34m(\u001b[0m\u001b[0;34m\"Cannot calculate score without morphing or finite differences\"\u001b[0m\u001b[0;34m)\u001b[0m\u001b[0;34m\u001b[0m\u001b[0m\n\u001b[0m\u001b[1;32m     48\u001b[0m \u001b[0;34m\u001b[0m\u001b[0m\n\u001b[1;32m     49\u001b[0m     \u001b[0;32melif\u001b[0m \u001b[0mtheta_type\u001b[0m \u001b[0;34m==\u001b[0m \u001b[0;34m'morphing'\u001b[0m\u001b[0;34m:\u001b[0m\u001b[0;34m\u001b[0m\u001b[0m\n",
      "\u001b[0;31mRuntimeError\u001b[0m: Cannot calculate score without morphing or finite differences"
     ]
    }
   ],
   "source": [
    "smithy.extract_samples_train_ratio(\n",
    "    theta0=random_morphing_thetas(None, [('gaussian', 0., 1.e-5), ('gaussian', 0., 0.5e-5)]),\n",
    "    theta1=constant_benchmark_theta('sm'),\n",
    "    n_samples=10000,\n",
    "    folder='./data/samples',\n",
    "    filename='train'\n",
    ")"
   ]
  },
  {
   "cell_type": "code",
   "execution_count": null,
   "metadata": {},
   "outputs": [],
   "source": [
    "smithy.extract_samples_train_ratio(\n",
    "    theta=constant_benchmark_theta('sm'),\n",
    "    n_samples=10000,\n",
    "    folder='./data/samples',\n",
    "    filename='train'\n",
    ")"
   ]
  },
  {
   "cell_type": "code",
   "execution_count": null,
   "metadata": {},
   "outputs": [],
   "source": [
    "benchmark_index = 1\n",
    "\n",
    "theta = smithy.benchmarks[list(smithy.benchmarks.keys())[benchmark_index]]\n",
    "theta = [theta[key] for key in theta]\n",
    "print(theta)\n",
    "\n",
    "augmented_data_definitions = [\n",
    "    ('ratio', 'benchmark', benchmark_index, 'benchmark', 0),\n",
    "    ('ratio', 'benchmark', benchmark_index, 'morphing', np.array((0.,0.))),\n",
    "    ('ratio', 'morphing', theta, 'benchmark', 0),\n",
    "    ('ratio', 'morphing', theta, 'morphing', np.array((0.,0.))),\n",
    "]"
   ]
  },
  {
   "cell_type": "code",
   "execution_count": null,
   "metadata": {},
   "outputs": [],
   "source": [
    "theta, x, gold = smithy.extract_sample(theta_sampling_types=['benchmark'],\n",
    "                                       theta_sampling_values=[0],\n",
    "                                       n_samples_per_theta=10000,\n",
    "                                       augmented_data_definitions=augmented_data_definitions)"
   ]
  },
  {
   "cell_type": "code",
   "execution_count": null,
   "metadata": {},
   "outputs": [],
   "source": [
    "xmin =  [0, 0., 0., 0., 0., 0.]\n",
    "xmax =  [8, 400., 250., 2000., 10., np.pi]\n",
    "xbins = [9, 20, 20, 20, 20, 20]\n",
    "\n",
    "fig = plt.figure(figsize=(12,12))\n",
    "\n",
    "for i, (this_xmin, this_xmax, this_xbins) in enumerate(zip(xmin, xmax, xbins)):\n",
    "    ax = plt.subplot(3, 3, i+1)\n",
    "    \n",
    "    cut = np.isfinite(x[0][:,i])\n",
    "    this_data = x[0][cut,i]\n",
    "\n",
    "    plt.hist(this_data,\n",
    "             range=(this_xmin, this_xmax), bins=this_xbins,\n",
    "             histtype='step', lw=1.5, ls='-')\n",
    "    \n",
    "    for j in range(gold[0].shape[1]):\n",
    "        this_weights = gold[0][cut,j]\n",
    "        plt.hist(this_data, weights=this_weights,\n",
    "                 range=(this_xmin, this_xmax), bins=this_xbins,\n",
    "                 histtype='step', lw=1.5, ls=['-', '--', '-.', ':'][j], alpha=0.4)\n",
    "\n",
    "plt.tight_layout()\n",
    "plt.show()"
   ]
  },
  {
   "cell_type": "code",
   "execution_count": null,
   "metadata": {},
   "outputs": [],
   "source": []
  }
 ],
 "metadata": {
  "kernelspec": {
   "display_name": "Python [default]",
   "language": "python",
   "name": "python3"
  },
  "language_info": {
   "codemirror_mode": {
    "name": "ipython",
    "version": 3
   },
   "file_extension": ".py",
   "mimetype": "text/x-python",
   "name": "python",
   "nbconvert_exporter": "python",
   "pygments_lexer": "ipython3",
   "version": "3.6.4"
  }
 },
 "nbformat": 4,
 "nbformat_minor": 2
}
