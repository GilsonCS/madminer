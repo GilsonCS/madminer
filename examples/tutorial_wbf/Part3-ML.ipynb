{
 "cells": [
  {
   "cell_type": "markdown",
   "metadata": {},
   "source": [
    "# Part 3: Parton Level Fisher Information via Machine Learning"
   ]
  },
  {
   "cell_type": "markdown",
   "metadata": {},
   "source": [
    "## Preparations"
   ]
  },
  {
   "cell_type": "markdown",
   "metadata": {},
   "source": [
    "Let us first load all the python libraries again"
   ]
  },
  {
   "cell_type": "code",
   "execution_count": 1,
   "metadata": {},
   "outputs": [],
   "source": [
    "import sys\n",
    "import os\n",
    "madminer_src_path = \"/Users/felixkling/Documents/GitHub/madminer\"\n",
    "sys.path.append(madminer_src_path)\n",
    "\n",
    "from __future__ import absolute_import, division, print_function, unicode_literals\n",
    "\n",
    "import numpy as np\n",
    "import math\n",
    "import matplotlib\n",
    "from matplotlib import pyplot as plt\n",
    "from scipy.optimize import curve_fit\n",
    "% matplotlib inline\n",
    "\n",
    "from madminer.fisherinformation import FisherInformation\n",
    "from madminer.fisherinformation import project_information,profile_information\n",
    "\n",
    "from madminer.plotting import plot_fisher_information_contours_2d\n",
    "\n",
    "from madminer.sampling import SampleAugmenter\n",
    "from madminer.sampling import constant_benchmark_theta, multiple_benchmark_thetas\n",
    "from madminer.sampling import constant_morphing_theta, multiple_morphing_thetas, random_morphing_thetas\n",
    "from madminer.ml import MLForge, EnsembleForge\n",
    "\n",
    "from sklearn.metrics import mean_squared_error"
   ]
  },
  {
   "cell_type": "markdown",
   "metadata": {},
   "source": [
    "## 6. Obtaining the Fisher Information using Machine Learning"
   ]
  },
  {
   "cell_type": "markdown",
   "metadata": {},
   "source": [
    "Here we introduce some alternative steps which will lead us to an estimator for the score at a reference point (SALLY) and the expected Fisher information. Along the way, we'll introduce some powerful ensemble methods."
   ]
  },
  {
   "cell_type": "markdown",
   "metadata": {},
   "source": [
    "To not forget anything later, let us globaly define the number of events in the MG sample"
   ]
  },
  {
   "cell_type": "code",
   "execution_count": 2,
   "metadata": {},
   "outputs": [],
   "source": [
    "nsamples = 1000"
   ]
  },
  {
   "cell_type": "markdown",
   "metadata": {},
   "source": [
    "### 6a) Make (unweighted) training and test samples with augmented data"
   ]
  },
  {
   "cell_type": "markdown",
   "metadata": {},
   "source": [
    "The next step is handled by the `madminer.sampling` class `SampleAugmenter`. From all the data we have in the MadMiner file now, it extracts unweighted samples including the augmented data, that is needed as training and evaluation data for the machine learning algorithms."
   ]
  },
  {
   "cell_type": "code",
   "execution_count": 3,
   "metadata": {},
   "outputs": [
    {
     "name": "stderr",
     "output_type": "stream",
     "text": [
      "21:36  \n",
      "21:36  ------------------------------------------------------------\n",
      "21:36  |                                                          |\n",
      "21:36  |  MadMiner v0.1.0                                         |\n",
      "21:36  |                                                          |\n",
      "21:36  |           Johann Brehmer, Kyle Cranmer, and Felix Kling  |\n",
      "21:36  |                                                          |\n",
      "21:36  ------------------------------------------------------------\n",
      "21:36  \n",
      "21:36  Loading data from data/madminer_example_shuffled.h5\n",
      "21:36  Found 2 parameters:\n",
      "21:36     CWL2 (LHA: dim6 2, maximal power in squared ME: (2,), range: (-50.0, 50.0))\n",
      "21:36     CWWWL2 (LHA: dim6 5, maximal power in squared ME: (1,), range: (-50.0, 50.0))\n",
      "21:36  Found 5 benchmarks:\n",
      "21:36     sm: CWL2 = 0.00e+00, CWWWL2 = 0.00e+00\n",
      "21:36     w: CWL2 = 20.00, CWWWL2 = 0.00e+00\n",
      "21:36     morphing_basis_vector_2: CWL2 = -4.39e+01, CWWWL2 = -3.77e+00\n",
      "21:36     morphing_basis_vector_3: CWL2 = -2.16e+01, CWWWL2 = -3.88e+01\n",
      "21:36     morphing_basis_vector_4: CWL2 = 27.87, CWWWL2 = -3.87e+01\n",
      "21:36  Found 17 observables: pt_j1, pt_j2, pt_a1, pt_a2, pt_h, eta_j1, eta_j2, eta_a1, eta_a2, eta_h, dphi_j1j2, dphi_a1a2, dphi_j1h, dphi_j2h, m_aa, m_jj, m_jjaa\n",
      "21:36  Found 10000 events\n",
      "21:36  Found morphing setup with 5 components\n"
     ]
    }
   ],
   "source": [
    "sa = SampleAugmenter('data/madminer_example_shuffled.h5', debug=False)"
   ]
  },
  {
   "cell_type": "markdown",
   "metadata": {},
   "source": [
    "The relevant `SampleAugmenter` function for local score estimators is `extract_samples_train_local()`. For the argument `theta` you can use the helper functions `constant_benchmark_theta()`, `multiple_benchmark_thetas()`, `constant_morphing_theta()`, `multiple_morphing_thetas()`, and `random_morphing_thetas()`. \n",
    "\n",
    "Here we are mostly interested in evaluating the Fisher Info at the SM benchmark. We will create two sets of samples, one for training and one for testing. In particular, for training we create `n_estimator` sets of samples. This will allow us later to better investigate the uncertainty of the estimates Fisher Information. "
   ]
  },
  {
   "cell_type": "code",
   "execution_count": 4,
   "metadata": {},
   "outputs": [
    {
     "name": "stderr",
     "output_type": "stream",
     "text": [
      "21:36  Extracting training sample for local score regression. Sampling and score evaluation according to (u'benchmark', u'sm')\n",
      "21:36  Effective number of samples: 4999.999999999835\n",
      "21:36  Extracting training sample for local score regression. Sampling and score evaluation according to (u'benchmark', u'sm')\n",
      "21:36  Effective number of samples: 4999.999999999835\n",
      "21:36  Extracting training sample for local score regression. Sampling and score evaluation according to (u'benchmark', u'sm')\n",
      "21:36  Effective number of samples: 4999.999999999835\n",
      "21:36  Extracting training sample for local score regression. Sampling and score evaluation according to (u'benchmark', u'sm')\n",
      "21:36  Effective number of samples: 4999.999999999835\n",
      "21:36  Extracting training sample for local score regression. Sampling and score evaluation according to (u'benchmark', u'sm')\n",
      "21:36  Effective number of samples: 4999.999999999835\n",
      "21:36  Extracting evaluation sample. Sampling according to (u'benchmark', u'sm')\n",
      "21:36  Effective number of samples: 4998.999999999835\n"
     ]
    }
   ],
   "source": [
    "#Define n_estimator\n",
    "n_estimators = 5\n",
    "\n",
    "#augment train sample\n",
    "for i in range(n_estimators):\n",
    "    x, theta, t_xz = sa.extract_samples_train_local(\n",
    "        theta=constant_benchmark_theta('sm'),\n",
    "        n_samples=int(nsamples/2),\n",
    "        folder='./data/samples_ensemble/',\n",
    "        filename='train{}'.format(i)\n",
    "    )\n",
    "\n",
    "#augment test sample\n",
    "x, theta = sa.extract_samples_test(\n",
    "    theta=constant_benchmark_theta('sm'),\n",
    "    n_samples=int(nsamples/2),\n",
    "    folder='./data/samples_ensemble/',\n",
    "    filename='test'\n",
    ")"
   ]
  },
  {
   "cell_type": "markdown",
   "metadata": {},
   "source": [
    "### 6b)  Train a neural network to estimate the score"
   ]
  },
  {
   "cell_type": "markdown",
   "metadata": {},
   "source": [
    "It's now time to build a neural network. Only this time, instead of the likelihood ratio itself, we will estimate the gradient of the log likelihood with respect to the theory parameters -- the score. To be precise, the output of the neural network is an estimate of the score at some reference parameter point, for instance the Standard Model. A neural network that estimates this \"local\" score can be used to calculate the Fisher information at that point. The estimated score can also be used as a machine learning version of Optimal Observables, and likelihoods can be estimated based on density estimation in the estimated score space. This method for likelihood ratio estimation is called SALLY, and there is a closely related version called SALLINO. Both are explained in [\"Constraining Effective Field Theories With Machine Learning\"](https://arxiv.org/abs/1805.00013) and [\"A Guide to Constraining Effective Field Theories With Machine Learning\"](https://arxiv.org/abs/1805.00020).\n",
    "\n",
    "Again, the central object for this is the `madminer.ml.MLForge` class to get a single estimator. Additionally, instead of using a single neural network to estimate the likelihood ratio, score, or Fisher information, we can use an ensemble of such estimators. That provides us with a more reliable mean prediction as well as a measure of the uncertainty. The class `madminer.ml.EnsembleForge` automates this process. Currently, it only supports SALLY estimators:"
   ]
  },
  {
   "cell_type": "code",
   "execution_count": 5,
   "metadata": {},
   "outputs": [],
   "source": [
    "ensemble = EnsembleForge(estimators=n_estimators)"
   ]
  },
  {
   "cell_type": "markdown",
   "metadata": {},
   "source": [
    "In particular, we can train all estimators simultaneously with `train_all()` and save the ensemble to files"
   ]
  },
  {
   "cell_type": "code",
   "execution_count": 6,
   "metadata": {},
   "outputs": [
    {
     "name": "stderr",
     "output_type": "stream",
     "text": [
      "21:36  Training 5 estimators in ensemble\n",
      "21:36  Training estimator 1 / 5 in ensemble\n",
      "21:36  Starting training\n",
      "21:36    Method:                 sally\n",
      "21:36    Training data: x at data/samples_ensemble/x_train0.npy\n",
      "21:36                   t_xz (theta0) at  data/samples_ensemble/t_xz_train0.npy\n",
      "21:36    Features:               all\n",
      "21:36    Method:                 sally\n",
      "21:36    Hidden layers:          (100, 100)\n",
      "21:36    Activation function:    tanh\n",
      "21:36    Batch size:             256\n",
      "21:36    Trainer:                amsgrad\n",
      "21:36    Epochs:                 20\n",
      "21:36    Learning rate:          0.001 initially, decaying to 0.0001\n",
      "21:36    Validation split:       None\n",
      "21:36    Early stopping:         True\n",
      "21:36    Scale inputs:           True\n",
      "21:36    Shuffle labels          False\n",
      "21:36    Regularization:         None\n",
      "21:36  Loading training data\n",
      "21:36  Found 500 samples with 2 parameters and 17 observables\n",
      "21:36  Rescaling inputs\n",
      "21:36  Creating model for method sally\n",
      "21:36  Training model\n",
      "21:36    Epoch 2: train loss 0.0246 (mse_score: 0.0246)\n",
      "21:36    Epoch 4: train loss 0.0244 (mse_score: 0.0244)\n",
      "21:36    Epoch 6: train loss 0.0228 (mse_score: 0.0228)\n",
      "21:36    Epoch 8: train loss 0.0226 (mse_score: 0.0226)\n",
      "21:36    Epoch 10: train loss 0.0216 (mse_score: 0.0216)\n",
      "21:36    Epoch 12: train loss 0.0210 (mse_score: 0.0210)\n",
      "21:36    Epoch 14: train loss 0.0214 (mse_score: 0.0214)\n",
      "21:36    Epoch 16: train loss 0.0213 (mse_score: 0.0213)\n",
      "21:36    Epoch 18: train loss 0.0205 (mse_score: 0.0205)\n",
      "21:36    Epoch 20: train loss 0.0212 (mse_score: 0.0212)\n",
      "21:36  Finished training\n",
      "21:36  Training estimator 2 / 5 in ensemble\n",
      "21:36  Starting training\n",
      "21:36    Method:                 sally\n",
      "21:36    Training data: x at data/samples_ensemble/x_train0.npy\n",
      "21:36                   t_xz (theta0) at  data/samples_ensemble/t_xz_train0.npy\n",
      "21:36    Features:               all\n",
      "21:36    Method:                 sally\n",
      "21:36    Hidden layers:          (100, 100)\n",
      "21:36    Activation function:    tanh\n",
      "21:36    Batch size:             256\n",
      "21:36    Trainer:                amsgrad\n",
      "21:36    Epochs:                 20\n",
      "21:36    Learning rate:          0.001 initially, decaying to 0.0001\n",
      "21:36    Validation split:       None\n",
      "21:36    Early stopping:         True\n",
      "21:36    Scale inputs:           True\n",
      "21:36    Shuffle labels          False\n",
      "21:36    Regularization:         None\n",
      "21:36  Loading training data\n",
      "21:36  Found 500 samples with 2 parameters and 17 observables\n",
      "21:36  Rescaling inputs\n",
      "21:36  Creating model for method sally\n",
      "21:36  Training model\n",
      "21:36    Epoch 2: train loss 0.0268 (mse_score: 0.0268)\n",
      "21:36    Epoch 4: train loss 0.0257 (mse_score: 0.0257)\n",
      "21:36    Epoch 6: train loss 0.0239 (mse_score: 0.0239)\n",
      "21:36    Epoch 8: train loss 0.0226 (mse_score: 0.0226)\n",
      "21:36    Epoch 10: train loss 0.0228 (mse_score: 0.0228)\n",
      "21:36    Epoch 12: train loss 0.0225 (mse_score: 0.0225)\n",
      "21:36    Epoch 14: train loss 0.0215 (mse_score: 0.0215)\n",
      "21:36    Epoch 16: train loss 0.0213 (mse_score: 0.0213)\n",
      "21:36    Epoch 18: train loss 0.0212 (mse_score: 0.0212)\n",
      "21:36    Epoch 20: train loss 0.0218 (mse_score: 0.0218)\n",
      "21:36  Finished training\n",
      "21:36  Training estimator 3 / 5 in ensemble\n",
      "21:36  Starting training\n",
      "21:36    Method:                 sally\n",
      "21:36    Training data: x at data/samples_ensemble/x_train0.npy\n",
      "21:36                   t_xz (theta0) at  data/samples_ensemble/t_xz_train0.npy\n",
      "21:36    Features:               all\n",
      "21:36    Method:                 sally\n",
      "21:36    Hidden layers:          (100, 100)\n",
      "21:36    Activation function:    tanh\n",
      "21:36    Batch size:             256\n",
      "21:36    Trainer:                amsgrad\n",
      "21:36    Epochs:                 20\n",
      "21:36    Learning rate:          0.001 initially, decaying to 0.0001\n",
      "21:36    Validation split:       None\n",
      "21:36    Early stopping:         True\n",
      "21:36    Scale inputs:           True\n",
      "21:36    Shuffle labels          False\n",
      "21:36    Regularization:         None\n",
      "21:36  Loading training data\n",
      "21:36  Found 500 samples with 2 parameters and 17 observables\n",
      "21:36  Rescaling inputs\n",
      "21:36  Creating model for method sally\n",
      "21:36  Training model\n",
      "21:36    Epoch 2: train loss 0.0262 (mse_score: 0.0262)\n",
      "21:36    Epoch 4: train loss 0.0254 (mse_score: 0.0254)\n",
      "21:36    Epoch 6: train loss 0.0234 (mse_score: 0.0234)\n",
      "21:36    Epoch 8: train loss 0.0226 (mse_score: 0.0226)\n",
      "21:36    Epoch 10: train loss 0.0220 (mse_score: 0.0220)\n",
      "21:36    Epoch 12: train loss 0.0224 (mse_score: 0.0224)\n",
      "21:36    Epoch 14: train loss 0.0222 (mse_score: 0.0222)\n",
      "21:36    Epoch 16: train loss 0.0214 (mse_score: 0.0214)\n",
      "21:36    Epoch 18: train loss 0.0213 (mse_score: 0.0213)\n",
      "21:36    Epoch 20: train loss 0.0212 (mse_score: 0.0212)\n",
      "21:36  Finished training\n",
      "21:36  Training estimator 4 / 5 in ensemble\n",
      "21:36  Starting training\n",
      "21:36    Method:                 sally\n",
      "21:36    Training data: x at data/samples_ensemble/x_train0.npy\n",
      "21:36                   t_xz (theta0) at  data/samples_ensemble/t_xz_train0.npy\n",
      "21:36    Features:               all\n",
      "21:36    Method:                 sally\n",
      "21:36    Hidden layers:          (100, 100)\n",
      "21:36    Activation function:    tanh\n",
      "21:36    Batch size:             256\n",
      "21:36    Trainer:                amsgrad\n",
      "21:36    Epochs:                 20\n",
      "21:36    Learning rate:          0.001 initially, decaying to 0.0001\n",
      "21:36    Validation split:       None\n",
      "21:36    Early stopping:         True\n",
      "21:36    Scale inputs:           True\n",
      "21:36    Shuffle labels          False\n",
      "21:36    Regularization:         None\n",
      "21:36  Loading training data\n",
      "21:36  Found 500 samples with 2 parameters and 17 observables\n",
      "21:36  Rescaling inputs\n",
      "21:36  Creating model for method sally\n",
      "21:36  Training model\n",
      "21:36    Epoch 2: train loss 0.0253 (mse_score: 0.0253)\n",
      "21:36    Epoch 4: train loss 0.0246 (mse_score: 0.0246)\n",
      "21:36    Epoch 6: train loss 0.0240 (mse_score: 0.0240)\n",
      "21:36    Epoch 8: train loss 0.0230 (mse_score: 0.0230)\n",
      "21:36    Epoch 10: train loss 0.0225 (mse_score: 0.0225)\n",
      "21:36    Epoch 12: train loss 0.0214 (mse_score: 0.0214)\n",
      "21:36    Epoch 14: train loss 0.0213 (mse_score: 0.0213)\n",
      "21:36    Epoch 16: train loss 0.0211 (mse_score: 0.0211)\n",
      "21:36    Epoch 18: train loss 0.0210 (mse_score: 0.0210)\n",
      "21:36    Epoch 20: train loss 0.0216 (mse_score: 0.0216)\n",
      "21:36  Finished training\n",
      "21:36  Training estimator 5 / 5 in ensemble\n",
      "21:36  Starting training\n",
      "21:36    Method:                 sally\n",
      "21:36    Training data: x at data/samples_ensemble/x_train0.npy\n",
      "21:36                   t_xz (theta0) at  data/samples_ensemble/t_xz_train0.npy\n",
      "21:36    Features:               all\n",
      "21:36    Method:                 sally\n",
      "21:36    Hidden layers:          (100, 100)\n",
      "21:36    Activation function:    tanh\n",
      "21:36    Batch size:             256\n",
      "21:36    Trainer:                amsgrad\n",
      "21:36    Epochs:                 20\n",
      "21:36    Learning rate:          0.001 initially, decaying to 0.0001\n",
      "21:36    Validation split:       None\n",
      "21:36    Early stopping:         True\n",
      "21:36    Scale inputs:           True\n",
      "21:36    Shuffle labels          False\n",
      "21:36    Regularization:         None\n",
      "21:36  Loading training data\n",
      "21:36  Found 500 samples with 2 parameters and 17 observables\n",
      "21:36  Rescaling inputs\n",
      "21:36  Creating model for method sally\n",
      "21:36  Training model\n",
      "21:36    Epoch 2: train loss 0.0291 (mse_score: 0.0291)\n",
      "21:36    Epoch 4: train loss 0.0248 (mse_score: 0.0248)\n",
      "21:36    Epoch 6: train loss 0.0250 (mse_score: 0.0250)\n",
      "21:36    Epoch 8: train loss 0.0240 (mse_score: 0.0240)\n",
      "21:36    Epoch 10: train loss 0.0225 (mse_score: 0.0225)\n",
      "21:36    Epoch 12: train loss 0.0227 (mse_score: 0.0227)\n",
      "21:36    Epoch 14: train loss 0.0224 (mse_score: 0.0224)\n",
      "21:36    Epoch 16: train loss 0.0215 (mse_score: 0.0215)\n",
      "21:36    Epoch 18: train loss 0.0223 (mse_score: 0.0223)\n",
      "21:36    Epoch 20: train loss 0.0213 (mse_score: 0.0213)\n",
      "21:36  Finished training\n"
     ]
    }
   ],
   "source": [
    "ensemble.train_all(\n",
    "    method='sally',\n",
    "    x_filename='data/samples_ensemble/x_train0.npy',\n",
    "    t_xz0_filename='data/samples_ensemble/t_xz_train0.npy',\n",
    "    #x_filename=['data/samples/x_train{}.npy'.format(i) for i in range(n_estimators)],\n",
    "    #t_xz0_filename=['data/samples/t_xz_train{}.npy'.format(i) for i in range(n_estimators)],\n",
    "    n_epochs=20,\n",
    "    batch_size=256,\n",
    "    validation_split=None\n",
    ")\n",
    "\n",
    "ensemble.save('models/samples_ensemble')"
   ]
  },
  {
   "cell_type": "markdown",
   "metadata": {},
   "source": [
    "### 6c) Evaluate Fisher Information"
   ]
  },
  {
   "cell_type": "markdown",
   "metadata": {},
   "source": [
    "Any evaluation of this ensemble will provide us with mean and variance of the predictions. Let's try that for the Fisher information:"
   ]
  },
  {
   "cell_type": "code",
   "execution_count": 7,
   "metadata": {},
   "outputs": [
    {
     "name": "stderr",
     "output_type": "stream",
     "text": [
      "21:36  Loading data from data/madminer_example_shuffled.h5\n",
      "21:36  Found 2 parameters:\n",
      "21:36     CWL2 (LHA: dim6 2, maximal power in squared ME: (2,), range: (-50.0, 50.0))\n",
      "21:36     CWWWL2 (LHA: dim6 5, maximal power in squared ME: (1,), range: (-50.0, 50.0))\n",
      "21:36  Found 5 benchmarks:\n",
      "21:36     sm: CWL2 = 0.00e+00, CWWWL2 = 0.00e+00\n",
      "21:36     w: CWL2 = 20.00, CWWWL2 = 0.00e+00\n",
      "21:36     morphing_basis_vector_2: CWL2 = -4.39e+01, CWWWL2 = -3.77e+00\n",
      "21:36     morphing_basis_vector_3: CWL2 = -2.16e+01, CWWWL2 = -3.88e+01\n",
      "21:36     morphing_basis_vector_4: CWL2 = 27.87, CWWWL2 = -3.87e+01\n",
      "21:36  Found 17 observables: pt_j1, pt_j2, pt_a1, pt_a2, pt_h, eta_j1, eta_j2, eta_a1, eta_a2, eta_h, dphi_j1j2, dphi_a1a2, dphi_j1h, dphi_j2h, m_aa, m_jj, m_jjaa\n",
      "21:36  Found 10000 events\n",
      "21:36  Found morphing setup with 5 components\n",
      "21:36  Evaluating rate Fisher information\n",
      "21:36  Found ensemble with 5 estimators and expectations None\n"
     ]
    }
   ],
   "source": [
    "fisher = FisherInformation('data/madminer_example_shuffled.h5', debug=False)\n",
    "\n",
    "fi_ml_mean, fi_ml_covariance = fisher.calculate_fisher_information_full_detector(\n",
    "    theta=[0.,0.],\n",
    "    model_file='models/samples_ensemble',\n",
    "    unweighted_x_sample_file='data/samples_ensemble/x_test.npy',\n",
    "    luminosity=300*1000.\n",
    ")\n",
    "\n",
    "fi_truth_mean, fi_truth_covariance = fisher.calculate_fisher_information_full_truth(\n",
    "    theta=[0.,0.],\n",
    "    luminosity=300*1000.\n",
    ")"
   ]
  },
  {
   "cell_type": "markdown",
   "metadata": {},
   "source": [
    "The covariance can be propagated to the Fisher distance contour plot easily. Note that this also includes uncertainty bands corresponding to the uncertainty of the Machine Learning. This uncertainty corresponds to the standard devisation of the different ensemble constituents. "
   ]
  },
  {
   "cell_type": "code",
   "execution_count": 8,
   "metadata": {},
   "outputs": [
    {
     "data": {
      "image/png": "[encoded data removed]",
      "text/plain": [
       "<matplotlib.figure.Figure at 0x10a68dbd0>"
      ]
     },
     "metadata": {},
     "output_type": "display_data"
    }
   ],
   "source": [
    "_ = plot_fisher_information_contours_2d(\n",
    "    [fi_ml_mean, fi_truth_mean ],\n",
    "    [fi_ml_covariance, fi_truth_covariance],\n",
    "    colors=[u'C0',\"black\"],\n",
    "    linestyles=[\"solid\",\"dashed\"],\n",
    "    inline_labels=[\"ML\",\"truth\"],\n",
    "    xrange=(-2.5,2.5),\n",
    "    yrange=(-2.5,2.5)\n",
    ")"
   ]
  },
  {
   "cell_type": "markdown",
   "metadata": {},
   "source": [
    "## 7. Cross-Check: Validating score estimation"
   ]
  },
  {
   "cell_type": "markdown",
   "metadata": {},
   "source": [
    "Let us now validate that the Machine Learning works. The central object consideres here is the score, so we will compare the truth level score with the estimated scores.  "
   ]
  },
  {
   "cell_type": "markdown",
   "metadata": {},
   "source": [
    "### 7a) Run the Data Augmentation and Machine Learning part"
   ]
  },
  {
   "cell_type": "markdown",
   "metadata": {},
   "source": [
    "First, we once again augment the dataand machine learning part again."
   ]
  },
  {
   "cell_type": "code",
   "execution_count": 9,
   "metadata": {},
   "outputs": [
    {
     "name": "stderr",
     "output_type": "stream",
     "text": [
      "21:36  Loading data from data/madminer_example_shuffled.h5\n",
      "21:36  Found 2 parameters:\n",
      "21:36     CWL2 (LHA: dim6 2, maximal power in squared ME: (2,), range: (-50.0, 50.0))\n",
      "21:36     CWWWL2 (LHA: dim6 5, maximal power in squared ME: (1,), range: (-50.0, 50.0))\n",
      "21:36  Found 5 benchmarks:\n",
      "21:36     sm: CWL2 = 0.00e+00, CWWWL2 = 0.00e+00\n",
      "21:36     w: CWL2 = 20.00, CWWWL2 = 0.00e+00\n",
      "21:36     morphing_basis_vector_2: CWL2 = -4.39e+01, CWWWL2 = -3.77e+00\n",
      "21:36     morphing_basis_vector_3: CWL2 = -2.16e+01, CWWWL2 = -3.88e+01\n",
      "21:36     morphing_basis_vector_4: CWL2 = 27.87, CWWWL2 = -3.87e+01\n",
      "21:36  Found 17 observables: pt_j1, pt_j2, pt_a1, pt_a2, pt_h, eta_j1, eta_j2, eta_a1, eta_a2, eta_h, dphi_j1j2, dphi_a1a2, dphi_j1h, dphi_j2h, m_aa, m_jj, m_jjaa\n",
      "21:36  Found 10000 events\n",
      "21:36  Found morphing setup with 5 components\n",
      "21:36  Extracting training sample for local score regression. Sampling and score evaluation according to (u'benchmark', u'sm')\n",
      "21:36  Effective number of samples: 10000.00000000193\n",
      "21:36  Extracting training sample for local score regression. Sampling and score evaluation according to (u'benchmark', u'sm')\n",
      "21:36  Effective number of samples: 10000.00000000193\n"
     ]
    }
   ],
   "source": [
    "sa = SampleAugmenter('data/madminer_example_shuffled.h5', debug=False)\n",
    "\n",
    "x, theta, t_xz = sa.extract_samples_train_local(\n",
    "    theta=constant_benchmark_theta('sm'),\n",
    "    n_samples=int(nsamples/2),\n",
    "    folder='./data/samples_scores/',\n",
    "    test_split=None,\n",
    "    filename='train'\n",
    ")\n",
    "\n",
    "x, theta, t_xz = sa.extract_samples_train_local(\n",
    "    theta=constant_benchmark_theta('sm'),\n",
    "    n_samples=int(nsamples/2),\n",
    "    folder='./data/samples_scores/',\n",
    "    test_split=None,\n",
    "    filename='test',\n",
    "    switch_train_test_events=True\n",
    ")"
   ]
  },
  {
   "cell_type": "markdown",
   "metadata": {},
   "source": [
    "Next, we use the perform the ML part, but with only one sample. We therefore use `MLForge` instead of `EnsembleForge`"
   ]
  },
  {
   "cell_type": "code",
   "execution_count": 10,
   "metadata": {},
   "outputs": [
    {
     "name": "stderr",
     "output_type": "stream",
     "text": [
      "21:36  Starting training\n",
      "21:36    Method:                 sally\n",
      "21:36    Training data: x at ./data/samples_scores/x_train.npy\n",
      "21:36                   t_xz (theta0) at  ./data/samples_scores/t_xz_train.npy\n",
      "21:36    Features:               all\n",
      "21:36    Method:                 sally\n",
      "21:36    Hidden layers:          (100, 100)\n",
      "21:36    Activation function:    tanh\n",
      "21:36    Batch size:             128\n",
      "21:36    Trainer:                amsgrad\n",
      "21:36    Epochs:                 50\n",
      "21:36    Learning rate:          0.001 initially, decaying to 0.0001\n",
      "21:36    Validation split:       None\n",
      "21:36    Early stopping:         True\n",
      "21:36    Scale inputs:           True\n",
      "21:36    Shuffle labels          False\n",
      "21:36    Regularization:         None\n",
      "21:36  Loading training data\n",
      "21:36  Found 500 samples with 2 parameters and 17 observables\n",
      "21:36  Rescaling inputs\n",
      "21:36  Creating model for method sally\n",
      "21:36  Training model\n",
      "21:36    Epoch 5: train loss 0.0066 (mse_score: 0.0066)\n",
      "21:36    Epoch 10: train loss 0.0049 (mse_score: 0.0049)\n",
      "21:36    Epoch 15: train loss 0.0044 (mse_score: 0.0044)\n",
      "21:36    Epoch 20: train loss 0.0040 (mse_score: 0.0040)\n",
      "21:36    Epoch 25: train loss 0.0038 (mse_score: 0.0038)\n",
      "21:36    Epoch 30: train loss 0.0035 (mse_score: 0.0035)\n",
      "21:36    Epoch 35: train loss 0.0033 (mse_score: 0.0033)\n",
      "21:36    Epoch 40: train loss 0.0033 (mse_score: 0.0033)\n",
      "21:36    Epoch 45: train loss 0.0031 (mse_score: 0.0031)\n",
      "21:36    Epoch 50: train loss 0.0030 (mse_score: 0.0030)\n",
      "21:36  Finished training\n"
     ]
    }
   ],
   "source": [
    "forge = MLForge()\n",
    "forge.train(\n",
    "    method='sally',\n",
    "    x_filename='./data/samples_scores/x_train.npy',\n",
    "    t_xz0_filename='./data/samples_scores/t_xz_train.npy',\n",
    "    validation_split=None\n",
    ")\n",
    "forge.save('models/samples_scores')"
   ]
  },
  {
   "cell_type": "markdown",
   "metadata": {},
   "source": [
    "### 7b) Obtain scores"
   ]
  },
  {
   "cell_type": "markdown",
   "metadata": {},
   "source": [
    "We can now obtain the scores. The truth scores have been stored during the augmentation step, and can simply be loaded. The ML scores can be evaluated.  "
   ]
  },
  {
   "cell_type": "code",
   "execution_count": 11,
   "metadata": {},
   "outputs": [],
   "source": [
    "#True score\n",
    "t_truth_train=np.load('./data/samples_scores/t_xz_train.npy')\n",
    "t_truth_test=np.load('./data/samples_scores/t_xz_test.npy')\n",
    "\n",
    "#ML score \n",
    "t_ml_train=forge.evaluate('./data/samples_scores/x_train.npy')\n",
    "t_ml_test=forge.evaluate('./data/samples_scores/x_test.npy')"
   ]
  },
  {
   "cell_type": "markdown",
   "metadata": {},
   "source": [
    "Let us now visualize the scores. The figure shows the \n",
    "- top:  score distribution\n",
    "- center: the score correlation as 2D histogram\n",
    "- bottom: the score correlation as scatter plot\n",
    "Here we just present the 1st and 2nd component of the score. "
   ]
  },
  {
   "cell_type": "code",
   "execution_count": 12,
   "metadata": {},
   "outputs": [
    {
     "data": {
      "image/png": "[encoded data removed]",
      "text/plain": [
       "<matplotlib.figure.Figure at 0x112071410>"
      ]
     },
     "metadata": {},
     "output_type": "display_data"
    }
   ],
   "source": [
    "#######\n",
    "#Figure\n",
    "myrange=(-.1,.1)\n",
    "myrangex=[-.1,.1]\n",
    "f, ((ax11, ax12),(ax21, ax22),(ax31, ax32)) = plt.subplots(3, 2)\n",
    "f.set_size_inches(8,12)\n",
    "\n",
    "#######\n",
    "#Distributions\n",
    "mynbins=20\n",
    "\n",
    "#t0\n",
    "ax11.set_xlabel('t0')\n",
    "ax11.hist(t_truth_test[:,0], \n",
    "         range=myrange, bins=mynbins, normed=True,\n",
    "         histtype='step', color='Black', linestyle='solid', label='PL-train'\n",
    "        )\n",
    "ax11.hist(t_ml_test[:,0], \n",
    "         range=myrange, bins=mynbins, normed=True,\n",
    "         histtype='step', color='Gray', linestyle='dashed', label='PL-test'\n",
    "        )\n",
    "ax11.hist(t_truth_train[:,0], \n",
    "         range=myrange, bins=mynbins, normed=True,\n",
    "         histtype='step', color='Red', linestyle='dotted',label='ML-train'\n",
    "        )\n",
    "ax11.hist(t_ml_train[:,0], \n",
    "         range=myrange, bins=mynbins, normed=True,\n",
    "         histtype='step', color='Blue', linestyle='dotted',label='ML-test'\n",
    "        )\n",
    "ax11.legend(bbox_to_anchor=(0.02, 0.98), loc=2, borderaxespad=0.)\n",
    "\n",
    "#t1\n",
    "ax12.set_xlabel('t1')\n",
    "ax12.hist(t_truth_test[:,1], \n",
    "         range=myrange, bins=mynbins, normed=True,\n",
    "         histtype='step', color='Black', linestyle='solid'\n",
    "        )\n",
    "ax12.hist(t_ml_test[:,1], \n",
    "         range=myrange, bins=mynbins, normed=True,\n",
    "         histtype='step', color='Gray', linestyle='dashed', \n",
    "        )\n",
    "ax12.hist(t_truth_train[:,1], \n",
    "         range=myrange, bins=mynbins, normed=True,\n",
    "         histtype='step', color='Red', linestyle='dotted'\n",
    "        )\n",
    "ax12.hist(t_ml_train[:,1], \n",
    "         range=myrange, bins=mynbins, normed=True,\n",
    "         histtype='step', color='Blue', linestyle='dotted'\n",
    "        )\n",
    "\n",
    "#######\n",
    "#Density\n",
    "ax21.hist2d(t_truth_test[:,0], t_ml_test[:,0], bins=(40, 40), range=(myrange,myrange) ,cmap='jet')\n",
    "ax21.set_xlabel('t0_pl_test')\n",
    "ax21.set_ylabel('t0_ml_test')\n",
    "\n",
    "ax22.hist2d(t_truth_test[:,1], t_ml_test[:,1], bins=(40, 40), range=(myrange,myrange) ,cmap='jet')\n",
    "ax22.set_xlabel('t1_pl_test')\n",
    "ax22.set_ylabel('t1_ml_test')\n",
    "\n",
    "#######\n",
    "#MSE\n",
    "mse_0 = mean_squared_error(t_truth_test[:,0],t_ml_test[:,0])\n",
    "mse_1 = mean_squared_error(t_truth_test[:,1],t_ml_test[:,1])\n",
    "mse_x = mean_squared_error(t_truth_test,t_ml_test)\n",
    "\n",
    "#######\n",
    "#Scatter\n",
    "ax31.scatter(t_truth_test[:,0], t_ml_test[:,0],s=3,alpha=0.02)\n",
    "ax31.set_xlabel('t1_pl_test')\n",
    "ax31.set_ylabel('t1_ml_test')\n",
    "ax31.set_xlim(myrangex)\n",
    "ax31.set_ylim(myrangex)\n",
    "\n",
    "ax32.scatter(t_truth_test[:,1], t_ml_test[:,1],s=3,alpha=0.02)\n",
    "ax32.set_xlabel('t1_pl_test')\n",
    "ax32.set_ylabel('t1_ml_test')\n",
    "ax32.set_xlim(myrangex)\n",
    "ax32.set_ylim(myrangex)\n",
    "plt.text(myrange[0]+0.025*(myrange[1]-myrange[0]), myrange[0]+0.95*(myrange[1]-myrange[0]), 'MSE(t)='+str(mse_x), fontsize=10)\n",
    "plt.text(myrange[0]+0.025*(myrange[1]-myrange[0]), myrange[0]+0.90*(myrange[1]-myrange[0]), 'MSE(t0)='+str(mse_0), fontsize=10)\n",
    "plt.text(myrange[0]+0.025*(myrange[1]-myrange[0]), myrange[0]+0.85*(myrange[1]-myrange[0]), 'MSE(t1)='+str(mse_1), fontsize=10)\n",
    "\n",
    "#######\n",
    "#Plot\n",
    "plt.tight_layout()\n",
    "plt.show()"
   ]
  },
  {
   "cell_type": "code",
   "execution_count": null,
   "metadata": {},
   "outputs": [],
   "source": []
  }
 ],
 "metadata": {
  "kernelspec": {
   "display_name": "Python 2",
   "language": "python",
   "name": "python2"
  },
  "language_info": {
   "codemirror_mode": {
    "name": "ipython",
    "version": 2
   },
   "file_extension": ".py",
   "mimetype": "text/x-python",
   "name": "python",
   "nbconvert_exporter": "python",
   "pygments_lexer": "ipython2",
   "version": "2.7.15"
  }
 },
 "nbformat": 4,
 "nbformat_minor": 2
}
