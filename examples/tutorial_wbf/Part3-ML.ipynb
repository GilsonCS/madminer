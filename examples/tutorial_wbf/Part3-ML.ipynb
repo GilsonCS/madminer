{
 "cells": [
  {
   "cell_type": "markdown",
   "metadata": {},
   "source": [
    "# Part 3: Parton Level Fisher Information via Machine Learning"
   ]
  },
  {
   "cell_type": "markdown",
   "metadata": {},
   "source": [
    "## Preparations"
   ]
  },
  {
   "cell_type": "markdown",
   "metadata": {},
   "source": [
    "Let us first load all the python libraries again"
   ]
  },
  {
   "cell_type": "code",
   "execution_count": 1,
   "metadata": {},
   "outputs": [],
   "source": [
    "import sys\n",
    "import os\n",
    "madminer_src_path = \"/Users/felixkling/Documents/GitHub/madminer\"\n",
    "sys.path.append(madminer_src_path)\n",
    "\n",
    "from __future__ import absolute_import, division, print_function, unicode_literals\n",
    "\n",
    "import numpy as np\n",
    "import math\n",
    "import matplotlib\n",
    "from matplotlib import pyplot as plt\n",
    "from scipy.optimize import curve_fit\n",
    "% matplotlib inline\n",
    "\n",
    "from madminer.fisherinformation import FisherInformation\n",
    "from madminer.fisherinformation import project_information,profile_information\n",
    "\n",
    "from madminer.plotting import plot_fisher_information_contours_2d\n",
    "\n",
    "from madminer.sampling import SampleAugmenter\n",
    "from madminer.sampling import constant_benchmark_theta, multiple_benchmark_thetas\n",
    "from madminer.sampling import constant_morphing_theta, multiple_morphing_thetas, random_morphing_thetas\n",
    "from madminer.ml import MLForge, EnsembleForge\n",
    "\n",
    "from sklearn.metrics import mean_squared_error"
   ]
  },
  {
   "cell_type": "markdown",
   "metadata": {},
   "source": [
    "To not forget anything later, let us globaly define the number of events in the MG sample"
   ]
  },
  {
   "cell_type": "code",
   "execution_count": null,
   "metadata": {},
   "outputs": [],
   "source": [
    "inputfile = 'data/madminer_example_100k.h5'\n",
    "nsamples = 10000"
   ]
  },
  {
   "cell_type": "markdown",
   "metadata": {},
   "source": [
    "## 6. Obtaining the Fisher Information using Machine Learning"
   ]
  },
  {
   "cell_type": "markdown",
   "metadata": {},
   "source": [
    "Here we introduce some alternative steps which will lead us to an estimator for the score at a reference point (SALLY) and the expected Fisher information. Along the way, we'll introduce some powerful ensemble methods."
   ]
  },
  {
   "cell_type": "markdown",
   "metadata": {},
   "source": [
    "### 6a) Make (unweighted) training and test samples with augmented data"
   ]
  },
  {
   "cell_type": "markdown",
   "metadata": {},
   "source": [
    "The next step is handled by the `madminer.sampling` class `SampleAugmenter`. From all the data we have in the MadMiner file now, it extracts unweighted samples including the augmented data, that is needed as training and evaluation data for the machine learning algorithms."
   ]
  },
  {
   "cell_type": "code",
   "execution_count": 3,
   "metadata": {},
   "outputs": [
    {
     "name": "stderr",
     "output_type": "stream",
     "text": [
      "21:53  \n",
      "21:53  ------------------------------------------------------------\n",
      "21:53  |                                                          |\n",
      "21:53  |  MadMiner v0.1.0                                         |\n",
      "21:53  |                                                          |\n",
      "21:53  |           Johann Brehmer, Kyle Cranmer, and Felix Kling  |\n",
      "21:53  |                                                          |\n",
      "21:53  ------------------------------------------------------------\n",
      "21:53  \n",
      "21:53  Loading data from data/madminer_example_shuffled.h5\n",
      "21:53  Found 2 parameters:\n",
      "21:53     CWL2 (LHA: dim6 2, maximal power in squared ME: (2,), range: (-50.0, 50.0))\n",
      "21:53     CWWWL2 (LHA: dim6 5, maximal power in squared ME: (1,), range: (-50.0, 50.0))\n",
      "21:53  Found 5 benchmarks:\n",
      "21:53     sm: CWL2 = 0.00e+00, CWWWL2 = 0.00e+00\n",
      "21:53     w: CWL2 = 20.00, CWWWL2 = 0.00e+00\n",
      "21:53     morphing_basis_vector_2: CWL2 = -4.39e+01, CWWWL2 = -3.77e+00\n",
      "21:53     morphing_basis_vector_3: CWL2 = -2.16e+01, CWWWL2 = -3.88e+01\n",
      "21:53     morphing_basis_vector_4: CWL2 = 27.87, CWWWL2 = -3.87e+01\n",
      "21:53  Found 18 observables: pt_j1, pt_j2, pt_h, pz_j1, pz_j2, pz_h, en_j1, en_j2, en_h, eta_j1, eta_j2, eta_h, dphi_j1j2, dphi_j1h, dphi_j2h, m_aa, m_jj, m_jjaa\n",
      "21:53  Found 10000 events\n",
      "21:53  Found morphing setup with 5 components\n"
     ]
    }
   ],
   "source": [
    "sa = SampleAugmenter(inputfile, debug=False)"
   ]
  },
  {
   "cell_type": "markdown",
   "metadata": {},
   "source": [
    "The relevant `SampleAugmenter` function for local score estimators is `extract_samples_train_local()`. For the argument `theta` you can use the helper functions `constant_benchmark_theta()`, `multiple_benchmark_thetas()`, `constant_morphing_theta()`, `multiple_morphing_thetas()`, and `random_morphing_thetas()`. \n",
    "\n",
    "Here we are mostly interested in evaluating the Fisher Info at the SM benchmark. We will create two sets of samples, one for training and one for testing. In particular, for training we create `n_estimator` sets of samples. This will allow us later to better investigate the uncertainty of the estimates Fisher Information. "
   ]
  },
  {
   "cell_type": "code",
   "execution_count": 4,
   "metadata": {},
   "outputs": [
    {
     "name": "stderr",
     "output_type": "stream",
     "text": [
      "21:53  Extracting training sample for local score regression. Sampling and score evaluation according to (u'benchmark', u'sm')\n",
      "21:53  Effective number of samples: 4999.999999999835\n",
      "21:53  Extracting training sample for local score regression. Sampling and score evaluation according to (u'benchmark', u'sm')\n",
      "21:53  Effective number of samples: 4999.999999999835\n",
      "21:53  Extracting training sample for local score regression. Sampling and score evaluation according to (u'benchmark', u'sm')\n",
      "21:53  Effective number of samples: 4999.999999999835\n",
      "21:53  Extracting training sample for local score regression. Sampling and score evaluation according to (u'benchmark', u'sm')\n",
      "21:53  Effective number of samples: 4999.999999999835\n",
      "21:53  Extracting training sample for local score regression. Sampling and score evaluation according to (u'benchmark', u'sm')\n",
      "21:53  Effective number of samples: 4999.999999999835\n",
      "21:53  Extracting evaluation sample. Sampling according to (u'benchmark', u'sm')\n",
      "21:53  Effective number of samples: 4998.999999999835\n"
     ]
    }
   ],
   "source": [
    "#Define n_estimator\n",
    "n_estimators = 5\n",
    "\n",
    "#augment train sample\n",
    "for i in range(n_estimators):\n",
    "    x, theta, t_xz = sa.extract_samples_train_local(\n",
    "        theta=constant_benchmark_theta('sm'),\n",
    "        n_samples=int(nsamples/2),\n",
    "        folder='./data/samples_ensemble/',\n",
    "        filename='train{}'.format(i)\n",
    "    )\n",
    "\n",
    "#augment test sample\n",
    "x, theta = sa.extract_samples_test(\n",
    "    theta=constant_benchmark_theta('sm'),\n",
    "    n_samples=int(nsamples/2),\n",
    "    folder='./data/samples_ensemble/',\n",
    "    filename='test'\n",
    ")"
   ]
  },
  {
   "cell_type": "markdown",
   "metadata": {},
   "source": [
    "### 6b)  Train a neural network to estimate the score"
   ]
  },
  {
   "cell_type": "markdown",
   "metadata": {},
   "source": [
    "It's now time to build a neural network. Only this time, instead of the likelihood ratio itself, we will estimate the gradient of the log likelihood with respect to the theory parameters -- the score. To be precise, the output of the neural network is an estimate of the score at some reference parameter point, for instance the Standard Model. A neural network that estimates this \"local\" score can be used to calculate the Fisher information at that point. The estimated score can also be used as a machine learning version of Optimal Observables, and likelihoods can be estimated based on density estimation in the estimated score space. This method for likelihood ratio estimation is called SALLY, and there is a closely related version called SALLINO. Both are explained in [\"Constraining Effective Field Theories With Machine Learning\"](https://arxiv.org/abs/1805.00013) and [\"A Guide to Constraining Effective Field Theories With Machine Learning\"](https://arxiv.org/abs/1805.00020).\n",
    "\n",
    "Again, the central object for this is the `madminer.ml.MLForge` class to get a single estimator. Additionally, instead of using a single neural network to estimate the likelihood ratio, score, or Fisher information, we can use an ensemble of such estimators. That provides us with a more reliable mean prediction as well as a measure of the uncertainty. The class `madminer.ml.EnsembleForge` automates this process. Currently, it only supports SALLY estimators:"
   ]
  },
  {
   "cell_type": "code",
   "execution_count": 5,
   "metadata": {},
   "outputs": [],
   "source": [
    "ensemble = EnsembleForge(estimators=n_estimators)"
   ]
  },
  {
   "cell_type": "markdown",
   "metadata": {},
   "source": [
    "In particular, we can train all estimators simultaneously with `train_all()` and save the ensemble to files"
   ]
  },
  {
   "cell_type": "code",
   "execution_count": 6,
   "metadata": {},
   "outputs": [
    {
     "name": "stderr",
     "output_type": "stream",
     "text": [
      "21:53  Training 5 estimators in ensemble\n",
      "21:53  Training estimator 1 / 5 in ensemble\n",
      "21:53  Starting training\n",
      "21:53    Method:                 sally\n",
      "21:53    Training data: x at data/samples_ensemble/x_train0.npy\n",
      "21:53                   t_xz (theta0) at  data/samples_ensemble/t_xz_train0.npy\n",
      "21:53    Features:               all\n",
      "21:53    Method:                 sally\n",
      "21:53    Hidden layers:          (100, 100, 100, 100)\n",
      "21:53    Activation function:    tanh\n",
      "21:53    Batch size:             128\n",
      "21:53    Trainer:                amsgrad\n",
      "21:53    Epochs:                 50\n",
      "21:53    Learning rate:          0.01 initially, decaying to 0.0001\n",
      "21:53    Validation split:       None\n",
      "21:53    Early stopping:         True\n",
      "21:53    Scale inputs:           True\n",
      "21:53    Shuffle labels          False\n",
      "21:53    Regularization:         None\n",
      "21:53  Loading training data\n",
      "21:53  Found 5000 samples with 2 parameters and 18 observables\n",
      "21:53  Rescaling inputs\n",
      "21:53  Creating model for method sally\n",
      "21:53  Training model\n",
      "21:53    Epoch 5: train loss 0.0427 (mse_score: 0.0427)\n",
      "21:53    Epoch 10: train loss 0.0396 (mse_score: 0.0396)\n",
      "21:53    Epoch 15: train loss 0.0263 (mse_score: 0.0263)\n",
      "21:53    Epoch 20: train loss 0.0157 (mse_score: 0.0157)\n",
      "21:53    Epoch 25: train loss 0.0094 (mse_score: 0.0094)\n",
      "21:53    Epoch 30: train loss 0.0069 (mse_score: 0.0069)\n",
      "21:53    Epoch 35: train loss 0.0057 (mse_score: 0.0057)\n",
      "21:53    Epoch 40: train loss 0.0050 (mse_score: 0.0050)\n",
      "21:53    Epoch 45: train loss 0.0046 (mse_score: 0.0046)\n",
      "21:53    Epoch 50: train loss 0.0044 (mse_score: 0.0044)\n",
      "21:53  Finished training\n",
      "21:53  Training estimator 2 / 5 in ensemble\n",
      "21:53  Starting training\n",
      "21:53    Method:                 sally\n",
      "21:53    Training data: x at data/samples_ensemble/x_train1.npy\n",
      "21:53                   t_xz (theta0) at  data/samples_ensemble/t_xz_train1.npy\n",
      "21:53    Features:               all\n",
      "21:53    Method:                 sally\n",
      "21:53    Hidden layers:          (100, 100, 100, 100)\n",
      "21:53    Activation function:    tanh\n",
      "21:53    Batch size:             128\n",
      "21:53    Trainer:                amsgrad\n",
      "21:53    Epochs:                 50\n",
      "21:53    Learning rate:          0.01 initially, decaying to 0.0001\n",
      "21:53    Validation split:       None\n",
      "21:53    Early stopping:         True\n",
      "21:53    Scale inputs:           True\n",
      "21:53    Shuffle labels          False\n",
      "21:53    Regularization:         None\n",
      "21:53  Loading training data\n",
      "21:53  Found 5000 samples with 2 parameters and 18 observables\n",
      "21:53  Rescaling inputs\n",
      "21:53  Creating model for method sally\n",
      "21:53  Training model\n",
      "21:53    Epoch 5: train loss 0.3329 (mse_score: 0.3329)\n",
      "21:53    Epoch 10: train loss 0.3013 (mse_score: 0.3013)\n",
      "21:53    Epoch 15: train loss 0.2418 (mse_score: 0.2418)\n",
      "21:53    Epoch 20: train loss 0.1400 (mse_score: 0.1400)\n",
      "21:53    Epoch 25: train loss 0.1006 (mse_score: 0.1006)\n",
      "21:53    Epoch 30: train loss 0.0818 (mse_score: 0.0818)\n",
      "21:53    Epoch 35: train loss 0.0725 (mse_score: 0.0725)\n",
      "21:53    Epoch 40: train loss 0.0671 (mse_score: 0.0671)\n",
      "21:53    Epoch 45: train loss 0.0639 (mse_score: 0.0639)\n",
      "21:53    Epoch 50: train loss 0.0620 (mse_score: 0.0620)\n",
      "21:53  Finished training\n",
      "21:53  Training estimator 3 / 5 in ensemble\n",
      "21:53  Starting training\n",
      "21:53    Method:                 sally\n",
      "21:53    Training data: x at data/samples_ensemble/x_train2.npy\n",
      "21:53                   t_xz (theta0) at  data/samples_ensemble/t_xz_train2.npy\n",
      "21:53    Features:               all\n",
      "21:53    Method:                 sally\n",
      "21:53    Hidden layers:          (100, 100, 100, 100)\n",
      "21:53    Activation function:    tanh\n",
      "21:53    Batch size:             128\n",
      "21:53    Trainer:                amsgrad\n",
      "21:53    Epochs:                 50\n",
      "21:53    Learning rate:          0.01 initially, decaying to 0.0001\n",
      "21:53    Validation split:       None\n",
      "21:53    Early stopping:         True\n",
      "21:53    Scale inputs:           True\n",
      "21:53    Shuffle labels          False\n",
      "21:53    Regularization:         None\n",
      "21:53  Loading training data\n",
      "21:53  Found 5000 samples with 2 parameters and 18 observables\n",
      "21:53  Rescaling inputs\n",
      "21:53  Creating model for method sally\n",
      "21:53  Training model\n",
      "21:53    Epoch 5: train loss 0.0118 (mse_score: 0.0118)\n",
      "21:53    Epoch 10: train loss 0.0044 (mse_score: 0.0044)\n",
      "21:53    Epoch 15: train loss 0.0015 (mse_score: 0.0015)\n",
      "21:53    Epoch 20: train loss 0.0009 (mse_score: 0.0009)\n",
      "21:53    Epoch 25: train loss 0.0007 (mse_score: 0.0007)\n",
      "21:53    Epoch 30: train loss 0.0004 (mse_score: 0.0004)\n",
      "21:53    Epoch 35: train loss 0.0003 (mse_score: 0.0003)\n",
      "21:53    Epoch 40: train loss 0.0003 (mse_score: 0.0003)\n",
      "21:53    Epoch 45: train loss 0.0003 (mse_score: 0.0003)\n",
      "21:53    Epoch 50: train loss 0.0003 (mse_score: 0.0003)\n",
      "21:53  Finished training\n",
      "21:53  Training estimator 4 / 5 in ensemble\n",
      "21:53  Starting training\n",
      "21:53    Method:                 sally\n",
      "21:53    Training data: x at data/samples_ensemble/x_train3.npy\n",
      "21:53                   t_xz (theta0) at  data/samples_ensemble/t_xz_train3.npy\n",
      "21:53    Features:               all\n",
      "21:53    Method:                 sally\n",
      "21:53    Hidden layers:          (100, 100, 100, 100)\n",
      "21:53    Activation function:    tanh\n",
      "21:53    Batch size:             128\n",
      "21:53    Trainer:                amsgrad\n",
      "21:53    Epochs:                 50\n",
      "21:53    Learning rate:          0.01 initially, decaying to 0.0001\n",
      "21:53    Validation split:       None\n",
      "21:53    Early stopping:         True\n",
      "21:53    Scale inputs:           True\n",
      "21:53    Shuffle labels          False\n",
      "21:53    Regularization:         None\n",
      "21:53  Loading training data\n",
      "21:53  Found 5000 samples with 2 parameters and 18 observables\n",
      "21:53  Rescaling inputs\n",
      "21:53  Creating model for method sally\n",
      "21:53  Training model\n",
      "21:53    Epoch 5: train loss 0.0069 (mse_score: 0.0069)\n",
      "21:53    Epoch 10: train loss 0.0062 (mse_score: 0.0062)\n",
      "21:53    Epoch 15: train loss 0.0051 (mse_score: 0.0051)\n",
      "21:53    Epoch 20: train loss 0.0011 (mse_score: 0.0011)\n",
      "21:53    Epoch 25: train loss 0.0004 (mse_score: 0.0004)\n",
      "21:53    Epoch 30: train loss 0.0003 (mse_score: 0.0003)\n",
      "21:53    Epoch 35: train loss 0.0002 (mse_score: 0.0002)\n",
      "21:53    Epoch 40: train loss 0.0002 (mse_score: 0.0002)\n",
      "21:53    Epoch 45: train loss 0.0001 (mse_score: 0.0001)\n",
      "21:53    Epoch 50: train loss 0.0001 (mse_score: 0.0001)\n",
      "21:53  Finished training\n",
      "21:53  Training estimator 5 / 5 in ensemble\n",
      "21:53  Starting training\n",
      "21:53    Method:                 sally\n",
      "21:53    Training data: x at data/samples_ensemble/x_train4.npy\n",
      "21:53                   t_xz (theta0) at  data/samples_ensemble/t_xz_train4.npy\n",
      "21:53    Features:               all\n",
      "21:53    Method:                 sally\n",
      "21:53    Hidden layers:          (100, 100, 100, 100)\n",
      "21:53    Activation function:    tanh\n",
      "21:53    Batch size:             128\n",
      "21:53    Trainer:                amsgrad\n",
      "21:53    Epochs:                 50\n",
      "21:53    Learning rate:          0.01 initially, decaying to 0.0001\n",
      "21:53    Validation split:       None\n",
      "21:53    Early stopping:         True\n",
      "21:53    Scale inputs:           True\n",
      "21:53    Shuffle labels          False\n",
      "21:53    Regularization:         None\n",
      "21:53  Loading training data\n",
      "21:53  Found 5000 samples with 2 parameters and 18 observables\n",
      "21:53  Rescaling inputs\n",
      "21:53  Creating model for method sally\n",
      "21:53  Training model\n",
      "21:53    Epoch 5: train loss 0.0460 (mse_score: 0.0460)\n",
      "21:53    Epoch 10: train loss 0.0439 (mse_score: 0.0439)\n",
      "21:53    Epoch 15: train loss 0.0304 (mse_score: 0.0304)\n",
      "21:53    Epoch 20: train loss 0.0249 (mse_score: 0.0249)\n",
      "21:53    Epoch 25: train loss 0.0168 (mse_score: 0.0168)\n",
      "21:53    Epoch 30: train loss 0.0124 (mse_score: 0.0124)\n",
      "21:53    Epoch 35: train loss 0.0103 (mse_score: 0.0103)\n",
      "21:53    Epoch 40: train loss 0.0090 (mse_score: 0.0090)\n",
      "21:53    Epoch 45: train loss 0.0084 (mse_score: 0.0084)\n",
      "21:53    Epoch 50: train loss 0.0079 (mse_score: 0.0079)\n",
      "21:53  Finished training\n"
     ]
    }
   ],
   "source": [
    "ensemble.train_all(\n",
    "    method='sally',\n",
    "    x_filename=['data/samples_ensemble/x_train{}.npy'.format(i) for i in range(n_estimators)],\n",
    "    t_xz0_filename=['data/samples_ensemble/t_xz_train{}.npy'.format(i) for i in range(n_estimators)],\n",
    "    \n",
    "    nde_type=\"mafmog\",\n",
    "    n_hidden=(100, 100, 100, 100),\n",
    "    activation=\"tanh\",\n",
    "    maf_n_mades=3,\n",
    "    maf_batch_norm=False,\n",
    "    maf_batch_norm_alpha=0.1,\n",
    "    maf_mog_n_components=10,\n",
    "    alpha=1.0,\n",
    "    trainer=\"amsgrad\",\n",
    "    n_epochs=50,\n",
    "    batch_size=128,\n",
    "    initial_lr=0.01,\n",
    "    final_lr=0.0001,\n",
    "    nesterov_momentum=None,\n",
    "    validation_split=None,\n",
    "    scale_inputs=True,\n",
    "    grad_x_regularization=None\n",
    ")\n",
    "\n",
    "ensemble.save('models/samples_ensemble')"
   ]
  },
  {
   "cell_type": "markdown",
   "metadata": {},
   "source": [
    "### 6c) Evaluate Fisher Information"
   ]
  },
  {
   "cell_type": "markdown",
   "metadata": {},
   "source": [
    "Any evaluation of this ensemble will provide us with mean and variance of the predictions. Let's try that for the Fisher information:"
   ]
  },
  {
   "cell_type": "code",
   "execution_count": 7,
   "metadata": {},
   "outputs": [
    {
     "name": "stderr",
     "output_type": "stream",
     "text": [
      "21:53  Loading data from data/madminer_example_shuffled.h5\n",
      "21:53  Found 2 parameters:\n",
      "21:53     CWL2 (LHA: dim6 2, maximal power in squared ME: (2,), range: (-50.0, 50.0))\n",
      "21:53     CWWWL2 (LHA: dim6 5, maximal power in squared ME: (1,), range: (-50.0, 50.0))\n",
      "21:53  Found 5 benchmarks:\n",
      "21:53     sm: CWL2 = 0.00e+00, CWWWL2 = 0.00e+00\n",
      "21:53     w: CWL2 = 20.00, CWWWL2 = 0.00e+00\n",
      "21:53     morphing_basis_vector_2: CWL2 = -4.39e+01, CWWWL2 = -3.77e+00\n",
      "21:53     morphing_basis_vector_3: CWL2 = -2.16e+01, CWWWL2 = -3.88e+01\n",
      "21:53     morphing_basis_vector_4: CWL2 = 27.87, CWWWL2 = -3.87e+01\n",
      "21:53  Found 18 observables: pt_j1, pt_j2, pt_h, pz_j1, pz_j2, pz_h, en_j1, en_j2, en_h, eta_j1, eta_j2, eta_h, dphi_j1j2, dphi_j1h, dphi_j2h, m_aa, m_jj, m_jjaa\n",
      "21:53  Found 10000 events\n",
      "21:53  Found morphing setup with 5 components\n",
      "21:53  Evaluating rate Fisher information\n",
      "21:53  Found ensemble with 5 estimators and expectations None\n"
     ]
    }
   ],
   "source": [
    "fisher = FisherInformation(inputfile, debug=False)\n",
    "\n",
    "fi_ml_mean, fi_ml_covariance = fisher.calculate_fisher_information_full_detector(\n",
    "    theta=[0.,0.],\n",
    "    model_file='models/samples_ensemble',\n",
    "    unweighted_x_sample_file='data/samples_ensemble/x_test.npy',\n",
    "    luminosity=300*1000.\n",
    ")\n",
    "\n",
    "fi_truth_mean, fi_truth_covariance = fisher.calculate_fisher_information_full_truth(\n",
    "    theta=[0.,0.],\n",
    "    luminosity=300*1000.\n",
    ")"
   ]
  },
  {
   "cell_type": "markdown",
   "metadata": {},
   "source": [
    "The covariance can be propagated to the Fisher distance contour plot easily. Note that this also includes uncertainty bands corresponding to the uncertainty of the Machine Learning. This uncertainty corresponds to the standard devisation of the different ensemble constituents. "
   ]
  },
  {
   "cell_type": "code",
   "execution_count": 8,
   "metadata": {},
   "outputs": [
    {
     "data": {
      "image/png": "[encoded data removed]",
      "text/plain": [
       "<matplotlib.figure.Figure at 0x11274e490>"
      ]
     },
     "metadata": {},
     "output_type": "display_data"
    }
   ],
   "source": [
    "_ = plot_fisher_information_contours_2d(\n",
    "    [fi_ml_mean, fi_truth_mean ],\n",
    "    [fi_ml_covariance, fi_truth_covariance],\n",
    "    colors=[u'C0',\"black\"],\n",
    "    linestyles=[\"solid\",\"dashed\"],\n",
    "    inline_labels=[\"ML\",\"truth\"],\n",
    "    xrange=(-2.5,2.5),\n",
    "    yrange=(-2.5,2.5)\n",
    ")"
   ]
  },
  {
   "cell_type": "markdown",
   "metadata": {},
   "source": [
    "## 7. Cross-Check: Validating score estimation"
   ]
  },
  {
   "cell_type": "markdown",
   "metadata": {},
   "source": [
    "Let us now validate that the Machine Learning works. The central object consideres here is the score, so we will compare the truth level score with the estimated scores.  "
   ]
  },
  {
   "cell_type": "markdown",
   "metadata": {},
   "source": [
    "### 7a) Run the Data Augmentation and Machine Learning part"
   ]
  },
  {
   "cell_type": "markdown",
   "metadata": {},
   "source": [
    "First, we once again augment the dataand machine learning part again."
   ]
  },
  {
   "cell_type": "code",
   "execution_count": 3,
   "metadata": {},
   "outputs": [
    {
     "name": "stderr",
     "output_type": "stream",
     "text": [
      "22:54  \n",
      "22:54  ------------------------------------------------------------\n",
      "22:54  |                                                          |\n",
      "22:54  |  MadMiner v0.1.0                                         |\n",
      "22:54  |                                                          |\n",
      "22:54  |           Johann Brehmer, Kyle Cranmer, and Felix Kling  |\n",
      "22:54  |                                                          |\n",
      "22:54  ------------------------------------------------------------\n",
      "22:54  \n",
      "22:54  Loading data from data/madminer_example_shuffled.h5\n",
      "22:54  Found 2 parameters:\n",
      "22:54     CWL2 (LHA: dim6 2, maximal power in squared ME: (2,), range: (-50.0, 50.0))\n",
      "22:54     CWWWL2 (LHA: dim6 5, maximal power in squared ME: (1,), range: (-50.0, 50.0))\n",
      "22:54  Found 5 benchmarks:\n",
      "22:54     sm: CWL2 = 0.00e+00, CWWWL2 = 0.00e+00\n",
      "22:54     w: CWL2 = 20.00, CWWWL2 = 0.00e+00\n",
      "22:54     morphing_basis_vector_2: CWL2 = -4.39e+01, CWWWL2 = -3.77e+00\n",
      "22:54     morphing_basis_vector_3: CWL2 = -2.16e+01, CWWWL2 = -3.88e+01\n",
      "22:54     morphing_basis_vector_4: CWL2 = 27.87, CWWWL2 = -3.87e+01\n",
      "22:54  Found 18 observables: pt_j1, pt_j2, pt_h, pz_j1, pz_j2, pz_h, en_j1, en_j2, en_h, eta_j1, eta_j2, eta_h, dphi_j1j2, dphi_j1h, dphi_j2h, m_aa, m_jj, m_jjaa\n",
      "22:54  Found 10000 events\n",
      "22:54  Found morphing setup with 5 components\n",
      "22:54  Extracting training sample for local score regression. Sampling and score evaluation according to (u'benchmark', u'sm')\n",
      "22:54  Effective number of samples: 10000.00000000193\n",
      "22:54  Extracting training sample for local score regression. Sampling and score evaluation according to (u'benchmark', u'sm')\n",
      "22:54  Effective number of samples: 10000.00000000193\n"
     ]
    }
   ],
   "source": [
    "sa = SampleAugmenter(inputfile, debug=False)\n",
    "\n",
    "x, theta, t_xz = sa.extract_samples_train_local(\n",
    "    theta=constant_benchmark_theta('sm'),\n",
    "    n_samples=int(nsamples/2),\n",
    "    folder='./data/samples_scores/',\n",
    "    test_split=None,\n",
    "    filename='train'\n",
    ")\n",
    "\n",
    "x, theta, t_xz = sa.extract_samples_train_local(\n",
    "    theta=constant_benchmark_theta('sm'),\n",
    "    n_samples=int(nsamples/2),\n",
    "    folder='./data/samples_scores/',\n",
    "    test_split=None,\n",
    "    filename='test',\n",
    "    switch_train_test_events=True\n",
    ")"
   ]
  },
  {
   "cell_type": "markdown",
   "metadata": {},
   "source": [
    "Next, we use the perform the ML part, but with only one sample. We therefore use `MLForge` instead of `EnsembleForge`"
   ]
  },
  {
   "cell_type": "code",
   "execution_count": 10,
   "metadata": {},
   "outputs": [
    {
     "name": "stderr",
     "output_type": "stream",
     "text": [
      "22:57  Starting training\n",
      "22:57    Method:                 sally\n",
      "22:57    Training data: x at ./data/samples_scores/x_train.npy\n",
      "22:57                   t_xz (theta0) at  ./data/samples_scores/t_xz_train.npy\n",
      "22:57    Features:               all\n",
      "22:57    Method:                 sally\n",
      "22:57    Hidden layers:          (100, 100, 100, 100)\n",
      "22:57    Activation function:    tanh\n",
      "22:57    Batch size:             128\n",
      "22:57    Trainer:                amsgrad\n",
      "22:57    Epochs:                 200\n",
      "22:57    Learning rate:          0.01 initially, decaying to 0.0001\n",
      "22:57    Validation split:       None\n",
      "22:57    Early stopping:         True\n",
      "22:57    Scale inputs:           True\n",
      "22:57    Shuffle labels          False\n",
      "22:57    Regularization:         None\n",
      "22:57  Loading training data\n",
      "22:57  Found 5000 samples with 2 parameters and 18 observables\n",
      "22:57  Rescaling inputs\n",
      "22:57  Creating model for method sally\n",
      "22:57  Training model\n",
      "22:57    Epoch 20: train loss 0.1770 (mse_score: 0.1770)\n",
      "22:57    Epoch 40: train loss 0.0702 (mse_score: 0.0702)\n",
      "22:57    Epoch 60: train loss 0.0257 (mse_score: 0.0257)\n",
      "22:57    Epoch 80: train loss 0.0201 (mse_score: 0.0201)\n",
      "22:57    Epoch 100: train loss 0.0179 (mse_score: 0.0179)\n",
      "22:57    Epoch 120: train loss 0.0150 (mse_score: 0.0150)\n",
      "22:57    Epoch 140: train loss 0.0116 (mse_score: 0.0116)\n",
      "22:57    Epoch 160: train loss 0.0103 (mse_score: 0.0103)\n",
      "22:57    Epoch 180: train loss 0.0097 (mse_score: 0.0097)\n",
      "22:57    Epoch 200: train loss 0.0093 (mse_score: 0.0093)\n",
      "22:57  Finished training\n"
     ]
    }
   ],
   "source": [
    "forge = MLForge()\n",
    "forge.train(\n",
    "    method='sally',\n",
    "    x_filename='./data/samples_scores/x_train.npy',\n",
    "    t_xz0_filename='./data/samples_scores/t_xz_train.npy',\n",
    "    \n",
    "    nde_type=\"mafmog\",\n",
    "    n_hidden=(100, 100, 100, 100),\n",
    "    activation=\"tanh\",\n",
    "    maf_n_mades=3,\n",
    "    maf_batch_norm=False,\n",
    "    maf_batch_norm_alpha=0.1,\n",
    "    maf_mog_n_components=10,\n",
    "    alpha=1.0,\n",
    "    trainer=\"amsgrad\",\n",
    "    n_epochs=200,\n",
    "    batch_size=128,\n",
    "    initial_lr=0.01,\n",
    "    final_lr=0.0001,\n",
    "    nesterov_momentum=None,\n",
    "    validation_split=None,\n",
    "    scale_inputs=True,\n",
    "    grad_x_regularization=None\n",
    ")\n",
    "forge.save('models/samples_scores')"
   ]
  },
  {
   "cell_type": "markdown",
   "metadata": {},
   "source": [
    "### 7b) Obtain scores"
   ]
  },
  {
   "cell_type": "markdown",
   "metadata": {},
   "source": [
    "We can now obtain the scores. The truth scores have been stored during the augmentation step, and can simply be loaded. The ML scores can be evaluated.  "
   ]
  },
  {
   "cell_type": "code",
   "execution_count": 11,
   "metadata": {},
   "outputs": [],
   "source": [
    "#True score\n",
    "t_truth_train=np.load('./data/samples_scores/t_xz_train.npy')\n",
    "t_truth_test=np.load('./data/samples_scores/t_xz_test.npy')\n",
    "\n",
    "#ML score \n",
    "t_ml_train=forge.evaluate('./data/samples_scores/x_train.npy')\n",
    "t_ml_test=forge.evaluate('./data/samples_scores/x_test.npy')"
   ]
  },
  {
   "cell_type": "markdown",
   "metadata": {},
   "source": [
    "Let us now visualize the scores. The figure shows the \n",
    "- top:  score distribution\n",
    "- center: the score correlation as 2D histogram\n",
    "- bottom: the score correlation as scatter plot\n",
    "Here we just present the 1st and 2nd component of the score. "
   ]
  },
  {
   "cell_type": "code",
   "execution_count": 12,
   "metadata": {},
   "outputs": [
    {
     "data": {
      "image/png": "[encoded data removed]",
      "text/plain": [
       "<matplotlib.figure.Figure at 0x11a831e90>"
      ]
     },
     "metadata": {},
     "output_type": "display_data"
    }
   ],
   "source": [
    "#######\n",
    "#Figure\n",
    "myrange=(-.1,.1)\n",
    "myrangex=[-.1,.1]\n",
    "f, ((ax11, ax12),(ax21, ax22),(ax31, ax32)) = plt.subplots(3, 2)\n",
    "f.set_size_inches(8,12)\n",
    "\n",
    "#######\n",
    "#Distributions\n",
    "mynbins=20\n",
    "\n",
    "#t0\n",
    "ax11.set_xlabel('t0')\n",
    "ax11.hist(t_truth_train[:,0], \n",
    "         range=myrange, bins=mynbins, normed=True,\n",
    "         histtype='step', color='Black', linestyle='solid', label='PL-train'\n",
    "        )\n",
    "ax11.hist(t_truth_test[:,0], \n",
    "         range=myrange, bins=mynbins, normed=True,\n",
    "         histtype='step', color='Gray', linestyle='dashed', label='PL-test'\n",
    "        )\n",
    "ax11.hist(t_ml_train[:,0], \n",
    "         range=myrange, bins=mynbins, normed=True,\n",
    "         histtype='step', color='Red', linestyle='dotted',label='ML-train'\n",
    "        )\n",
    "ax11.hist(t_ml_test[:,0], \n",
    "         range=myrange, bins=mynbins, normed=True,\n",
    "         histtype='step', color='Blue', linestyle='dotted',label='ML-test'\n",
    "        )\n",
    "ax11.legend(bbox_to_anchor=(0.02, 0.98), loc=2, borderaxespad=0.)\n",
    "\n",
    "#t1\n",
    "ax12.set_xlabel('t1')\n",
    "ax12.hist(t_truth_train[:,1], \n",
    "         range=myrange, bins=mynbins, normed=True,\n",
    "         histtype='step', color='Black', linestyle='solid'\n",
    "        )\n",
    "ax12.hist(t_truth_test[:,1], \n",
    "         range=myrange, bins=mynbins, normed=True,\n",
    "         histtype='step', color='Gray', linestyle='dashed', \n",
    "        )\n",
    "ax12.hist(t_ml_train[:,1], \n",
    "         range=myrange, bins=mynbins, normed=True,\n",
    "         histtype='step', color='Red', linestyle='dotted'\n",
    "        )\n",
    "ax12.hist(t_ml_test[:,1], \n",
    "         range=myrange, bins=mynbins, normed=True,\n",
    "         histtype='step', color='Blue', linestyle='dotted'\n",
    "        )\n",
    "\n",
    "#######\n",
    "#Density\n",
    "ax21.hist2d(t_truth_test[:,0], t_ml_test[:,0], bins=(40, 40), range=(myrange,myrange) ,cmap='jet')\n",
    "ax21.set_xlabel('t0_pl_test')\n",
    "ax21.set_ylabel('t0_ml_test')\n",
    "\n",
    "ax22.hist2d(t_truth_test[:,1], t_ml_test[:,1], bins=(40, 40), range=(myrange,myrange) ,cmap='jet')\n",
    "ax22.set_xlabel('t1_pl_test')\n",
    "ax22.set_ylabel('t1_ml_test')\n",
    "\n",
    "#######\n",
    "#MSE\n",
    "mse_0 = mean_squared_error(t_truth_test[:,0],t_ml_test[:,0])\n",
    "mse_1 = mean_squared_error(t_truth_test[:,1],t_ml_test[:,1])\n",
    "mse_x = mean_squared_error(t_truth_test,t_ml_test)\n",
    "\n",
    "#######\n",
    "#Scatter\n",
    "ax31.scatter(t_truth_test[:,0], t_ml_test[:,0],s=3,alpha=0.02)\n",
    "ax31.set_xlabel('t1_pl_test')\n",
    "ax31.set_ylabel('t1_ml_test')\n",
    "ax31.set_xlim(myrangex)\n",
    "ax31.set_ylim(myrangex)\n",
    "\n",
    "ax32.scatter(t_truth_test[:,1], t_ml_test[:,1],s=3,alpha=0.02)\n",
    "ax32.set_xlabel('t1_pl_test')\n",
    "ax32.set_ylabel('t1_ml_test')\n",
    "ax32.set_xlim(myrangex)\n",
    "ax32.set_ylim(myrangex)\n",
    "plt.text(myrange[0]+0.025*(myrange[1]-myrange[0]), myrange[0]+0.95*(myrange[1]-myrange[0]), 'MSE(t)='+str(mse_x), fontsize=10)\n",
    "plt.text(myrange[0]+0.025*(myrange[1]-myrange[0]), myrange[0]+0.90*(myrange[1]-myrange[0]), 'MSE(t0)='+str(mse_0), fontsize=10)\n",
    "plt.text(myrange[0]+0.025*(myrange[1]-myrange[0]), myrange[0]+0.85*(myrange[1]-myrange[0]), 'MSE(t1)='+str(mse_1), fontsize=10)\n",
    "\n",
    "#######\n",
    "#Plot\n",
    "plt.tight_layout()\n",
    "plt.show()"
   ]
  },
  {
   "cell_type": "code",
   "execution_count": null,
   "metadata": {},
   "outputs": [],
   "source": []
  }
 ],
 "metadata": {
  "kernelspec": {
   "display_name": "Python 2",
   "language": "python",
   "name": "python2"
  },
  "language_info": {
   "codemirror_mode": {
    "name": "ipython",
    "version": 2
   },
   "file_extension": ".py",
   "mimetype": "text/x-python",
   "name": "python",
   "nbconvert_exporter": "python",
   "pygments_lexer": "ipython2",
   "version": "2.7.15"
  }
 },
 "nbformat": 4,
 "nbformat_minor": 2
}
