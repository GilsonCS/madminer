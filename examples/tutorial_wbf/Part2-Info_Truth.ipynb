{
 "cells": [
  {
   "cell_type": "markdown",
   "metadata": {},
   "source": [
    "# Part 2: Fisher Information at Truth Level "
   ]
  },
  {
   "cell_type": "markdown",
   "metadata": {},
   "source": [
    "## Preparations"
   ]
  },
  {
   "cell_type": "markdown",
   "metadata": {},
   "source": [
    "Let us first load all the python libraries again"
   ]
  },
  {
   "cell_type": "code",
   "execution_count": 1,
   "metadata": {},
   "outputs": [],
   "source": [
    "import sys\n",
    "import os\n",
    "madminer_src_path = \"/Users/felixkling/Documents/GitHub/madminer\"\n",
    "sys.path.append(madminer_src_path)\n",
    "\n",
    "from __future__ import absolute_import, division, print_function, unicode_literals\n",
    "\n",
    "import numpy as np\n",
    "import math\n",
    "import matplotlib\n",
    "from matplotlib import pyplot as plt\n",
    "from scipy.optimize import curve_fit\n",
    "% matplotlib inline\n",
    "\n",
    "from madminer.fisherinformation import FisherInformation\n",
    "from madminer.fisherinformation import project_information,profile_information"
   ]
  },
  {
   "cell_type": "markdown",
   "metadata": {},
   "source": [
    "## 4. Calculate Fisher Information at Truth Level"
   ]
  },
  {
   "cell_type": "markdown",
   "metadata": {},
   "source": [
    "### 4a) Initialize the Fisherinformation module "
   ]
  },
  {
   "cell_type": "markdown",
   "metadata": {},
   "source": [
    "Here we calculate the Parton Level Fisher Information, using the data extracted from the LHE file. This is done by the MadFisher package. To initialize it, we load the data from an HDF5 file."
   ]
  },
  {
   "cell_type": "code",
   "execution_count": 2,
   "metadata": {},
   "outputs": [
    {
     "name": "stderr",
     "output_type": "stream",
     "text": [
      "21:35  \n",
      "21:35  ------------------------------------------------------------\n",
      "21:35  |                                                          |\n",
      "21:35  |  MadMiner v0.1.0                                         |\n",
      "21:35  |                                                          |\n",
      "21:35  |           Johann Brehmer, Kyle Cranmer, and Felix Kling  |\n",
      "21:35  |                                                          |\n",
      "21:35  ------------------------------------------------------------\n",
      "21:35  \n",
      "21:35  Loading data from data/madminer_example_shuffled.h5\n",
      "21:35  Found 2 parameters:\n",
      "21:35     CWL2 (LHA: dim6 2, maximal power in squared ME: (2,), range: (-50.0, 50.0))\n",
      "21:35     CWWWL2 (LHA: dim6 5, maximal power in squared ME: (1,), range: (-50.0, 50.0))\n",
      "21:35  Found 5 benchmarks:\n",
      "21:35     sm: CWL2 = 0.00e+00, CWWWL2 = 0.00e+00\n",
      "21:35     w: CWL2 = 20.00, CWWWL2 = 0.00e+00\n",
      "21:35     morphing_basis_vector_2: CWL2 = -4.39e+01, CWWWL2 = -3.77e+00\n",
      "21:35     morphing_basis_vector_3: CWL2 = -2.16e+01, CWWWL2 = -3.88e+01\n",
      "21:35     morphing_basis_vector_4: CWL2 = 27.87, CWWWL2 = -3.87e+01\n",
      "21:35  Found 17 observables: pt_j1, pt_j2, pt_a1, pt_a2, pt_h, eta_j1, eta_j2, eta_a1, eta_a2, eta_h, dphi_j1j2, dphi_a1a2, dphi_j1h, dphi_j2h, m_aa, m_jj, m_jjaa\n",
      "21:35  Found 10000 events\n",
      "21:35  Found morphing setup with 5 components\n"
     ]
    }
   ],
   "source": [
    "mf = FisherInformation('data/madminer_example_shuffled.h5')"
   ]
  },
  {
   "cell_type": "markdown",
   "metadata": {},
   "source": [
    "### 4b) Calculate Fisher Info"
   ]
  },
  {
   "cell_type": "markdown",
   "metadata": {},
   "source": [
    "We can now calculate the Fisher Information for a given benchmark and a given luminosity (in units of pb$^{-1}$) after considering a set of cuts and efficiencies. Note that `cuts` and `observable` can be any function of observables defined when initializing the LHEProcessor, including `sin`, `cos`, `tan`, `asin`, `acos`, `atan` and `exp`.\n"
   ]
  },
  {
   "cell_type": "code",
   "execution_count": 3,
   "metadata": {},
   "outputs": [],
   "source": [
    "# Define Benchmark\n",
    "thistheta=np.array([0,0])\n",
    "\n",
    "#Define luminosity in inverse pb\n",
    "thislumi=100*1000;\n",
    "\n",
    "#Define Cuts\n",
    "thiscuts = ['m_jj>100','pt_a1>20','pt_a2>20']\n",
    "\n",
    "#Define efficiency functions (these correspond to photon tagging efficiency)\n",
    "thisefficiencies = ['0.863-1.07*exp(-pt_a1/34.8)', '0.863-1.07*exp(-pt_a2/34.8)']"
   ]
  },
  {
   "cell_type": "markdown",
   "metadata": {},
   "source": [
    "We can now calculate different the Fisher Information:\n",
    "\n",
    "- `calculate_fisher_information_full_truth(theta,luminosity,cuts)`, which calculates the full Fisher Info, by summing over the Fisher Infos for each event passing the cuts: $I_{ij}^{full} = \\sum_{events} I_{ij}(w_i)$\n",
    "\n",
    "- `calculate_fisher_information_rate(theta,luminosity,cuts)`, which calculates the Fisher Info corresponding to only the rate, by evaluating the Fisher Info of the sum the weights of all events passing the cuts: $I_{ij}^{rate} =  I_{ij}(\\sum_{events} w_i)$ "
   ]
  },
  {
   "cell_type": "code",
   "execution_count": 4,
   "metadata": {},
   "outputs": [],
   "source": [
    "fi_full, _ = mf.calculate_fisher_information_full_truth(theta=thistheta,\n",
    "                                                     luminosity=thislumi,\n",
    "                                                     cuts=thiscuts,\n",
    "                                                     efficiency_functions=thisefficiencies\n",
    "                                                     )\n",
    "fi_rate, _ = mf.calculate_fisher_information_rate(theta=thistheta,\n",
    "                                                     luminosity=thislumi,\n",
    "                                                     cuts=thiscuts,\n",
    "                                                     efficiency_functions=thisefficiencies\n",
    "                                                     )"
   ]
  },
  {
   "cell_type": "markdown",
   "metadata": {},
   "source": [
    "Additionally, we can also calculate the Fihser Information stored in histograms (Note that we take into account underflow/overflow bins)\n",
    "\n",
    "- `calculate_fisher_information_hist1d(theta,luminosity,cuts,observable,nbins,histrange)`, which calculates the Fisher Info in a 1D histogram, by summing over the Rate Fisher Infos for each bin in the 1D Histogram: $I_{ij}^{hist} =  \\sum_{bins} I_{ij}(w_i)$\n",
    "\n",
    "- `calculate_fisher_information_hist2d(theta,luminosity,cuts,observable1,nbins1,histrange1,observable2,nbins2,histrange2)`, which calculates the Fisher Info in a 2D histogram, by summing over the Rate Fisher Infos for each bin in the 2D Histogram: $I_{ij}^{hist} =  \\sum_{bins} I_{ij}(w_i)$"
   ]
  },
  {
   "cell_type": "code",
   "execution_count": 5,
   "metadata": {},
   "outputs": [
    {
     "name": "stderr",
     "output_type": "stream",
     "text": [
      "/Users/felixkling/Documents/GitHub/madminer/madminer/fisherinformation.py:950: RuntimeWarning: divide by zero encountered in true_divide\n",
      "  inv_sigma = sanitize_array(1.0 / sigma)  # Shape (n_events,)\n"
     ]
    }
   ],
   "source": [
    "#Assign Observables \n",
    "thisxobservable='m_jj'\n",
    "thisxrange=(0,5000)\n",
    "thisxnbins=10\n",
    "\n",
    "thisyobservable='pt_j1'\n",
    "thisyrange=(0,1000)\n",
    "thisynbins=10\n",
    "\n",
    "# Calculate Info\n",
    "fi_hist1d, _ = mf.calculate_fisher_information_hist1d(theta=thistheta,\n",
    "                                                       luminosity=thislumi,\n",
    "                                                       observable=thisxobservable,\n",
    "                                                       nbins=thisxnbins,\n",
    "                                                       histrange=thisxrange,\n",
    "                                                       cuts=thiscuts,\n",
    "                                                       efficiency_functions=thisefficiencies\n",
    "                                                       )\n",
    "fi_hist2d = mf.calculate_fisher_information_hist2d(theta=thistheta,\n",
    "                                                       luminosity=thislumi,\n",
    "                                                       observable1=thisxobservable,\n",
    "                                                       nbins1=thisxnbins,\n",
    "                                                       histrange1=thisxrange,\n",
    "                                                       observable2=thisyobservable,\n",
    "                                                       nbins2=thisynbins,\n",
    "                                                       histrange2=thisyrange,\n",
    "                                                       cuts=thiscuts,\n",
    "                                                       efficiency_functions=thisefficiencies,\n",
    "                                                       )"
   ]
  },
  {
   "cell_type": "markdown",
   "metadata": {},
   "source": [
    "Let us now look at the different Fisher Information matrices"
   ]
  },
  {
   "cell_type": "code",
   "execution_count": 6,
   "metadata": {},
   "outputs": [
    {
     "name": "stdout",
     "output_type": "stream",
     "text": [
      "Full    Fisher Info: \n",
      " [[ 0.09551345  0.22842237]\n",
      " [ 0.22842237 11.21991641]] \n",
      " Determinant:  1.0194760978199235\n",
      "Rate    Fisher Info: \n",
      " [[0.02316815 0.03403773]\n",
      " [0.03403773 0.05000689]] \n",
      " Determinant:  -2.1383448632014482e-19\n",
      "Hist 1D Fisher Info: \n",
      " [[0.02441948 0.03342169]\n",
      " [0.03342169 0.05789908]] \n",
      " Determinant:  0.00029685576444181503\n",
      "Hist 2D Fisher Info: \n",
      " [[0.04985449 0.14541536]\n",
      " [0.14541536 1.4951001 ]] \n",
      " Determinant:  0.0533918239537295\n"
     ]
    }
   ],
   "source": [
    "print ('Full    Fisher Info: \\n' , fi_full, \"\\n Determinant: \", np.linalg.det(fi_full) )  \n",
    "print ('Rate    Fisher Info: \\n' , fi_rate, \"\\n Determinant: \", np.linalg.det(fi_rate) )\n",
    "print ('Hist 1D Fisher Info: \\n' , fi_hist1d, \"\\n Determinant: \", np.linalg.det(fi_hist1d) ) \n",
    "print ('Hist 2D Fisher Info: \\n' , fi_hist2d, \"\\n Determinant: \", np.linalg.det(fi_hist2d) ) "
   ]
  },
  {
   "cell_type": "markdown",
   "metadata": {},
   "source": [
    "### 4c) Project and Profile "
   ]
  },
  {
   "cell_type": "markdown",
   "metadata": {},
   "source": [
    "In many cases, we will calculate large $n \\times n$ Fisher Info matrices. The dimensionality of the Fisher Information tensor can be reduced by either ignoring components (setting them to zero) or by profiling over components. This is done by the following two functions:\n",
    "- `project_information(fisher_info, remaining_components)`\n",
    "- `profile_information(fisher_info, remaining_components)`\n",
    "\n",
    "where `fisher_info` is the original Fisher Information tensor and `remaining_components` is a list of indices of which rows / columns to keep. "
   ]
  },
  {
   "cell_type": "code",
   "execution_count": 7,
   "metadata": {},
   "outputs": [
    {
     "name": "stdout",
     "output_type": "stream",
     "text": [
      "Projected out O_W:  [[0.09551345]]\n",
      "Profiled over O_W:  [[0.09086307]]\n"
     ]
    }
   ],
   "source": [
    "print ('Projected out O_W: ', project_information(fi_full,[0]) )\n",
    "print ('Profiled over O_W: ', profile_information(fi_full,[0]) )"
   ]
  },
  {
   "cell_type": "markdown",
   "metadata": {},
   "source": [
    "## 5. Plotting Options for Fisher Information"
   ]
  },
  {
   "cell_type": "markdown",
   "metadata": {},
   "source": [
    "### 5a) The Bar Plot"
   ]
  },
  {
   "cell_type": "markdown",
   "metadata": {},
   "source": [
    "Now it's time to do some physics: Let's compare the Fisher Information tensors for different analysis strategies. This can simply be done using the plotting function `plot_fisherinfo_barplot()`. Its inputs are\n",
    "\n",
    "- `matrices` list of Fisher Information tensors for upper panel\n",
    "- `matrices_for_determinants` llist of Fisher Information tensors for lower panel\n",
    "- `labels` list of names for analysis strategy\n",
    "- `categories` assignment of category for each label - there will be extra space between categories\n",
    "- `operatorlabels` list of operator names \n",
    "- `filename` save files under filename (starting from current working directory)\n",
    "- `additional_label` label in lower panel\n",
    "- `top_label` label above top panel\n",
    "- `normalise_determinants` are determinants normalized to unity ?\n",
    "- `use_bar_colors` are bars in lower panel colored or gray ? \n",
    "- `eigenvalue_operator_legend` plot legend for operators ?"
   ]
  },
  {
   "cell_type": "code",
   "execution_count": 8,
   "metadata": {
    "scrolled": false
   },
   "outputs": [
    {
     "name": "stderr",
     "output_type": "stream",
     "text": [
      "/Users/felixkling/Documents/GitHub/madminer/madminer/plotting.py:461: RuntimeWarning: invalid value encountered in double_scalars\n",
      "  determinants = [np.linalg.det(m) ** exponent_lower for m in matrices_for_determinants]\n"
     ]
    },
    {
     "data": {
      "image/png": "[encoded data removed]",
      "text/plain": [
       "<matplotlib.figure.Figure at 0x10b27ff50>"
      ]
     },
     "metadata": {},
     "output_type": "display_data"
    }
   ],
   "source": [
    "from madminer.plotting import plot_fisherinfo_barplot\n",
    "\n",
    "list_of_fi=[fi_full,fi_rate,fi_hist1d,fi_hist2d]\n",
    "list_of_labels=[\"full\",\"rate\",\"1D: m_jj\",\"2D: m_jj,pt_j1\"]\n",
    "list_of_projected_fi=[ project_information(list_of_fi[i],[0]) for i in range(0,len(list_of_fi))] \n",
    "\n",
    "barplot = plot_fisherinfo_barplot(\n",
    "    fisher_information_matrices=list_of_fi,\n",
    "    labels=list_of_labels\n",
    ")"
   ]
  },
  {
   "cell_type": "markdown",
   "metadata": {},
   "source": [
    "### 5b) The Contour Plot"
   ]
  },
  {
   "cell_type": "markdown",
   "metadata": {},
   "source": [
    "Using the Fisher Information, we can calculate the sensitivity for the coupling measurement. A particularly easy way is the *linearized distance* which is defined as $d(\\theta_1, \\theta_2) = I_{i,j} (\\theta_1 - \\theta_2)^i (\\theta_1 - \\theta_2)^j$.  \n",
    "\n",
    "The funtion `plot_linearized_contours_2d()` visualize the sensitivity to two operators in a contour plot: it shows the $d(\\theta,0)$ contours around the SM-value. Its inputs are\n",
    "\n",
    "- `fisher_information_matrices` list of 2-dimensional Fisher Information matrices\n",
    "- `contour_distance` distances contour drawn $d(\\theta,0)$ \n",
    "- `xlabel` label of x-axis \n",
    "- `ylabel` label of y-axis \n",
    "- `xrange` range of x-axis\n",
    "- `yrange` range of y-axis\n",
    "- `matrix_labels` list of labels corresponding to the Fisher Information matrices \n",
    "- `resolution` number of grid points for evaluation of figure, 100 seems reasonable"
   ]
  },
  {
   "cell_type": "code",
   "execution_count": 9,
   "metadata": {},
   "outputs": [
    {
     "data": {
      "image/png": "[encoded data removed]",
      "text/plain": [
       "<matplotlib.figure.Figure at 0x10b6a70d0>"
      ]
     },
     "metadata": {},
     "output_type": "display_data"
    }
   ],
   "source": [
    "from madminer.plotting import plot_fisher_information_contours_2d\n",
    "\n",
    "contourplot = plot_fisher_information_contours_2d(\n",
    "    fisher_information_matrices=list_of_fi, \n",
    "    contour_distance=1,\n",
    "    xlabel=r'$\\mathcal{O}_{W}$',\n",
    "    ylabel=r'$\\mathcal{O}_{WWW}$',\n",
    "    xrange=(-10.,10.),\n",
    "    yrange=(-10.,10.),\n",
    "    inline_labels=list_of_labels,\n",
    "    resolution=100\n",
    ")"
   ]
  },
  {
   "cell_type": "markdown",
   "metadata": {},
   "source": [
    "### 5c) The Fisher Information Histogram"
   ]
  },
  {
   "cell_type": "markdown",
   "metadata": {},
   "source": [
    "We can also look at the kinematic distribution of information. To do so, we first use the function `histogram_of_fisher_information()` to get a histogram of the weight for a given theta (`w_in_histo`), the rate-only fisher information in each bin (`fi_histo_rate`) and total fisher information in each bin (`fi_histo_full`). Here we again can include cuts and efficiencies. \n",
    "\n",
    "In the next step we can plot the histogram using the plotting fuction `kinematic_distribution_of_information`. The black line corresponds to the cross section, the red-shaded area to the determinant of the full fisher information distribution and the red dashed line to the determinant of the rate-only fisher information distribution. \n",
    "\n",
    "In the example below we only show the Fisher Information on $\\mathcal{O}_{W}$. Once considering higher dimensional Fisher Informations, the rate determinant of the rate-only fisher information will naturally vanish. "
   ]
  },
  {
   "cell_type": "code",
   "execution_count": 10,
   "metadata": {},
   "outputs": [
    {
     "data": {
      "image/png": "[encoded data removed]",
      "text/plain": [
       "<matplotlib.figure.Figure at 0x1132c6290>"
      ]
     },
     "metadata": {},
     "output_type": "display_data"
    }
   ],
   "source": [
    "from madminer.plotting import plot_distribution_of_information\n",
    "\n",
    "bins_histo, w_in_histo, fi_histo_rate, fi_histo_full = mf.histogram_of_fisher_information(\n",
    "    theta=thistheta,\n",
    "    luminosity=thislumi,\n",
    "    observable=thisxobservable,\n",
    "    nbins=thisxnbins,\n",
    "    histrange=thisxrange,\n",
    "    cuts=thiscuts,\n",
    "    efficiency_functions=thisefficiencies\n",
    ")\n",
    "\n",
    "proj_fi_histo_rate=[ project_information(fi_histo_rate[i],[0]) for i in range(0,len(fi_histo_rate))] \n",
    "proj_fi_histo_full=[ project_information(fi_histo_full[i],[0]) for i in range(0,len(fi_histo_full))] \n",
    "\n",
    "histoplot = plot_distribution_of_information(\n",
    "    xbins=bins_histo, \n",
    "    xsecs=w_in_histo,\n",
    "    fisher_information_matrices=proj_fi_histo_full, \n",
    "    fisher_information_matrices_aux=proj_fi_histo_rate,\n",
    "    xlabel=\"m_jj [GeV]\",\n",
    "    xmin=0,\n",
    "    xmax=5000,\n",
    "    log_xsec=False,\n",
    "    norm_xsec=True\n",
    ")"
   ]
  },
  {
   "cell_type": "code",
   "execution_count": null,
   "metadata": {},
   "outputs": [],
   "source": []
  }
 ],
 "metadata": {
  "kernelspec": {
   "display_name": "Python 2",
   "language": "python",
   "name": "python2"
  },
  "language_info": {
   "codemirror_mode": {
    "name": "ipython",
    "version": 2
   },
   "file_extension": ".py",
   "mimetype": "text/x-python",
   "name": "python",
   "nbconvert_exporter": "python",
   "pygments_lexer": "ipython2",
   "version": "2.7.15"
  }
 },
 "nbformat": 4,
 "nbformat_minor": 2
}
