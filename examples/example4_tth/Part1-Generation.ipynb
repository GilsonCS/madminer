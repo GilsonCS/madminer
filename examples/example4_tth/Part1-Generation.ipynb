{
 "cells": [
  {
   "cell_type": "markdown",
   "metadata": {},
   "source": [
    "# Example 3: -  Including systematics"
   ]
  },
  {
   "cell_type": "markdown",
   "metadata": {},
   "source": [
    "Johann Brehmer, Felix Kling, Kyle Cranmer 2018\n",
    "\n",
    "In this tutorial we will demonstrate how to include systematics in a MadMiner analysis. As physics example, we will consider $ttH$ production at parton level, with smearing functions. "
   ]
  },
  {
   "cell_type": "markdown",
   "metadata": {},
   "source": [
    "## Preparations"
   ]
  },
  {
   "cell_type": "markdown",
   "metadata": {},
   "source": [
    "Let us first load all the python libraries again"
   ]
  },
  {
   "cell_type": "code",
   "execution_count": 1,
   "metadata": {},
   "outputs": [],
   "source": [
    "import sys\n",
    "import os\n",
    "madminer_src_path = \"/Users/felixkling/Documents/GitHub/madminer\"\n",
    "sys.path.append(madminer_src_path)\n",
    "\n",
    "from __future__ import absolute_import, division, print_function, unicode_literals\n",
    "\n",
    "import logging\n",
    "import numpy as np\n",
    "import matplotlib\n",
    "from matplotlib import pyplot as plt\n",
    "from scipy.optimize import curve_fit\n",
    "% matplotlib inline\n",
    "\n",
    "from madminer.core import MadMiner\n",
    "from madminer.plotting import plot_2d_morphing_basis\n",
    "from madminer.sampling import combine_and_shuffle\n",
    "from madminer.lhe import LHEProcessor\n",
    "from madminer.sampling import SampleAugmenter\n",
    "from madminer.plotting import plot_distributions"
   ]
  },
  {
   "cell_type": "markdown",
   "metadata": {},
   "source": [
    "Please enter here the path to your MG5 root directory. This notebook assumes that you installed Delphes and Pythia through MG5. **This needs to be updated by the user**"
   ]
  },
  {
   "cell_type": "code",
   "execution_count": 2,
   "metadata": {},
   "outputs": [],
   "source": [
    "mg_dir = '/Users/felixkling/work/MG5_aMC_v2_6_2'"
   ]
  },
  {
   "cell_type": "markdown",
   "metadata": {},
   "source": [
    "MadMiner uses the Python `logging` module to provide additional information and debugging output. You can choose how much of this output you want to see by switching the level in the following lines to `logging.DEBUG` or `logging.WARNING`."
   ]
  },
  {
   "cell_type": "code",
   "execution_count": 3,
   "metadata": {},
   "outputs": [],
   "source": [
    "logging.basicConfig(\n",
    "    format='%(asctime)-5.5s %(name)-20.20s %(levelname)-7.7s %(message)s',\n",
    "    datefmt='%H:%M',\n",
    "    level=logging.INFO\n",
    ")\n",
    "\n",
    "for key in logging.Logger.manager.loggerDict:\n",
    "    if \"madminer\" not in key:\n",
    "        logging.getLogger(key).setLevel(logging.WARNING)"
   ]
  },
  {
   "cell_type": "markdown",
   "metadata": {},
   "source": [
    "## 1. Setup"
   ]
  },
  {
   "cell_type": "markdown",
   "metadata": {},
   "source": [
    "### 1a) Parameter Space"
   ]
  },
  {
   "cell_type": "markdown",
   "metadata": {},
   "source": [
    "Let us first define the theory parameters. We are again using the `HEL` model. In partocular we have the following opertors which could effect $ttH$ production:\n",
    "- `cu`: $\\mathcal{L}=\\frac{c_u}{v^2} (H^\\dagger H) (H^\\dagger \\cdot \\bar{Q}_L) u_R$. This operator effects the htt/hhtt and probably also ggg coupling  --> Rescales Yukawa Coupling\n",
    "- `cG`: $\\mathcal{L}=\\frac{g_s^2 c_G}{m_W^2} (H^\\dagger H) G_{\\mu\\nu}^a G_a^{\\mu\\nu}$. This operator effects the hgg/hhgg/hggg and probably also ggg coupling --> Rescales Gluon Coupling\n",
    "- `cuG`: $\\mathcal{L}=\\frac{4g_s c_{uG}}{m_W^2} y_u  (H^\\dagger \\cdot \\bar{Q}_L)  \\gamma^{\\mu\\nu} T_a u_R G^a_{\\mu\\nu}$. This operator effects the hgtt/hggtt and probably also gtt/ggtt coupling\n",
    "- `cH`: $\\mathcal{L}=\\frac{c_{H}}{2v^2} \\partial^\\mu (H^\\dagger H) \\partial_\\mu (H^\\dagger H) $ . This operator effects the htt/hhh coupling --> Rescales Yukawa + Self Coupling\n",
    "- `c6`: $\\mathcal{L}=\\frac{c_{6} \\lambda}{v^2} (H^\\dagger H)^3$. This operator effects the hhh coupling --> Rescales Self Coupling\n",
    "- `c3G`: $\\mathcal{L}=\\frac{g_s^3 c_{3G}}{m_W^2}f_{abc} G^a_{\\mu\\nu} G^{\\nu b}_\\rho G^{\\rho \\mu c}$. This operator effects the ggg coupling\n",
    "- `c2G`: $\\mathcal{L}=\\frac{c_{2G}}{m_W^2}D_\\mu  G^a_{\\mu\\nu} D_\\rho G^{\\rho \\nu}_a$. This operator effects the ggg coupling"
   ]
  },
  {
   "cell_type": "code",
   "execution_count": 4,
   "metadata": {},
   "outputs": [],
   "source": [
    "def setup_benchmark(miner,operators):\n",
    "    if \"cu\" in operators:\n",
    "        miner.add_parameter(\n",
    "            lha_block='newcoup',\n",
    "            lha_id=4,\n",
    "            parameter_name='cu',\n",
    "            morphing_max_power=2,\n",
    "            parameter_range=(-10.,10.)\n",
    "        )\n",
    "    if \"cG\" in operators:\n",
    "        miner.add_parameter(\n",
    "            lha_block='newcoup',\n",
    "            lha_id=12,\n",
    "            parameter_name='cG',\n",
    "            morphing_max_power=2,\n",
    "            parameter_range=(-10.,10.)\n",
    "        )\n",
    "    if \"cuG\" in operators:\n",
    "        miner.add_parameter(\n",
    "            lha_block='newcoup',\n",
    "            lha_id=23,\n",
    "            parameter_name='cuG',\n",
    "            morphing_max_power=2,\n",
    "            parameter_range=(-10.,10.)\n",
    "        )\n",
    "    if \"cH\" in operators:\n",
    "        miner.add_parameter(\n",
    "            lha_block='newcoup',\n",
    "            lha_id=1,\n",
    "            parameter_name='cH',\n",
    "            morphing_max_power=2,\n",
    "            parameter_range=(-10.,10.)\n",
    "        )\n",
    "    if \"c6\" in operators:\n",
    "        miner.add_parameter(\n",
    "            lha_block='newcoup',\n",
    "            lha_id=3,\n",
    "            parameter_name='c6',\n",
    "            morphing_max_power=2,\n",
    "            parameter_range=(-10.,10.)\n",
    "        )\n",
    "    if \"c3G\" in operators:\n",
    "        miner.add_parameter(\n",
    "            lha_block='newcoup',\n",
    "            lha_id=30,\n",
    "            parameter_name='c3G',\n",
    "            morphing_max_power=2,\n",
    "            parameter_range=(-10.,10.)\n",
    "        )\n",
    "    if \"c2G\" in operators:\n",
    "        miner.add_parameter(\n",
    "            lha_block='newcoup',\n",
    "            lha_id=33,\n",
    "            parameter_name='c2G',\n",
    "            morphing_max_power=2,\n",
    "            parameter_range=(-10.,10.)\n",
    "        )"
   ]
  },
  {
   "cell_type": "code",
   "execution_count": 5,
   "metadata": {},
   "outputs": [
    {
     "name": "stderr",
     "output_type": "stream",
     "text": [
      "14:58 madminer.core        INFO    Added parameter cu (LHA: newcoup 4, maximal power in squared ME: (2,), range: (-10.0, 10.0))\n",
      "14:58 madminer.core        INFO    Added parameter cG (LHA: newcoup 12, maximal power in squared ME: (2,), range: (-10.0, 10.0))\n",
      "14:58 madminer.core        INFO    Added parameter cuG (LHA: newcoup 23, maximal power in squared ME: (2,), range: (-10.0, 10.0))\n",
      "14:58 madminer.core        INFO    Added parameter cH (LHA: newcoup 1, maximal power in squared ME: (2,), range: (-10.0, 10.0))\n",
      "14:58 madminer.core        INFO    Added parameter c6 (LHA: newcoup 3, maximal power in squared ME: (2,), range: (-10.0, 10.0))\n",
      "14:58 madminer.core        INFO    Added parameter c3G (LHA: newcoup 30, maximal power in squared ME: (2,), range: (-10.0, 10.0))\n",
      "14:58 madminer.core        INFO    Added parameter c2G (LHA: newcoup 33, maximal power in squared ME: (2,), range: (-10.0, 10.0))\n"
     ]
    }
   ],
   "source": [
    "miner = MadMiner()\n",
    "useoperator=['cu','cG','cuG','cH','c6','c3G','c2G']\n",
    "setup_benchmark(miner,useoperator)\n"
   ]
  },
  {
   "cell_type": "markdown",
   "metadata": {},
   "source": [
    "### 1b) Benchmarks"
   ]
  },
  {
   "cell_type": "markdown",
   "metadata": {},
   "source": [
    "Define SM benchmarks by hand, and scan to find remaining benchmarks."
   ]
  },
  {
   "cell_type": "code",
   "execution_count": 6,
   "metadata": {},
   "outputs": [
    {
     "name": "stderr",
     "output_type": "stream",
     "text": [
      "14:58 madminer.core        INFO    Added benchmark sm: cH = 0.00e+00, c3G = 0.00e+00, cG = 0.00e+00, cuG = 0.00e+00, c2G = 0.00e+00, c6 = 0.00e+00, cu = 0.00e+00)\n"
     ]
    }
   ],
   "source": [
    "miner.add_benchmark( {useoperator[0]:0., useoperator[1]:0., \n",
    "                      useoperator[2]:0., useoperator[3]:0., \n",
    "                      useoperator[4]:0., useoperator[5]:0., \n",
    "                      useoperator[6]:0. }, 'sm')"
   ]
  },
  {
   "cell_type": "code",
   "execution_count": 7,
   "metadata": {
    "scrolled": false
   },
   "outputs": [
    {
     "name": "stderr",
     "output_type": "stream",
     "text": [
      "14:58 madminer.core        INFO    Optimizing basis for morphing\n",
      "14:59 madminer.core        INFO    Added benchmark sm: cu = 0.00e+00, cG = 0.00e+00, cuG = 0.00e+00, cH = 0.00e+00, c6 = 0.00e+00, c3G = 0.00e+00, c2G = 0.00e+00)\n",
      "14:59 madminer.core        INFO    Added benchmark morphing_basis_vector_1: cu = 0.88, cG = 8.02, cuG = 6.95, cH = 7.55, c6 = 2.33, c3G = -9.73e-01, c2G = 2.49)\n",
      "14:59 madminer.core        INFO    Added benchmark morphing_basis_vector_2: cu = -9.94e+00, cG = 5.09, cuG = -2.14e+00, cH = 5.06, c6 = -4.99e+00, c3G = 2.23, c2G = 1.24)\n",
      "14:59 madminer.core        INFO    Added benchmark morphing_basis_vector_3: cu = -8.50e+00, cG = 2.72, cuG = 3.83, cH = -7.97e+00, c6 = 9.92, c3G = 7.89, c2G = 5.79)\n",
      "14:59 madminer.core        INFO    Added benchmark morphing_basis_vector_4: cu = 7.50, cG = 7.90, cuG = -5.43e+00, cH = 4.22, c6 = -1.48e+00, c3G = 9.34, c2G = -8.74e-01)\n",
      "14:59 madminer.core        INFO    Added benchmark morphing_basis_vector_5: cu = -1.90e-02, cG = 7.53, cuG = -5.10e+00, cH = 6.74, c6 = 0.06, c3G = 7.92, c2G = -4.51e-01)\n",
      "14:59 madminer.core        INFO    Added benchmark morphing_basis_vector_6: cu = 7.65, cG = -7.96e+00, cuG = 9.64, cH = 4.07, c6 = -3.90e+00, c3G = 2.09, c2G = 0.96)\n",
      "14:59 madminer.core        INFO    Added benchmark morphing_basis_vector_7: cu = -1.86e+00, cG = -5.86e+00, cuG = 7.26, cH = 9.59, c6 = -9.80e+00, c3G = -1.70e+00, c2G = 7.55)\n",
      "14:59 madminer.core        INFO    Added benchmark morphing_basis_vector_8: cu = 5.45, cG = -2.65e+00, cuG = -7.43e+00, cH = -8.67e+00, c6 = -1.63e+00, c3G = -3.43e+00, c2G = -7.21e-01)\n",
      "14:59 madminer.core        INFO    Added benchmark morphing_basis_vector_9: cu = -9.37e+00, cG = -9.36e+00, cuG = -8.94e+00, cH = -9.53e+00, c6 = 4.42, c3G = -2.15e-01, c2G = 2.02)\n",
      "14:59 madminer.core        INFO    Added benchmark morphing_basis_vector_10: cu = 4.48, cG = 9.74, cuG = -9.09e+00, cH = -5.85e+00, c6 = 6.91, c3G = 5.19, c2G = 8.50)\n",
      "14:59 madminer.core        INFO    Added benchmark morphing_basis_vector_11: cu = 7.67, cG = 0.82, cuG = 2.44, cH = 6.26, c6 = 4.79, c3G = 6.17, c2G = -6.26e+00)\n",
      "14:59 madminer.core        INFO    Added benchmark morphing_basis_vector_12: cu = 9.06, cG = 0.64, cuG = 3.29, cH = 1.28, c6 = -3.70e+00, c3G = -4.71e+00, c2G = -8.32e-01)\n",
      "14:59 madminer.core        INFO    Added benchmark morphing_basis_vector_13: cu = -7.95e+00, cG = 4.29, cuG = 4.95, cH = 3.28, c6 = -4.29e+00, c3G = 2.89, c2G = 0.41)\n",
      "14:59 madminer.core        INFO    Added benchmark morphing_basis_vector_14: cu = -5.04e+00, cG = -4.18e+00, cuG = -1.98e+00, cH = -7.62e-01, c6 = -1.37e+00, c3G = -7.16e-05, c2G = -7.04e+00)\n",
      "14:59 madminer.core        INFO    Added benchmark morphing_basis_vector_15: cu = 5.06, cG = -9.20e+00, cuG = 7.91, cH = -1.72e-02, c6 = -8.63e+00, c3G = -8.47e+00, c2G = 7.76)\n",
      "14:59 madminer.core        INFO    Added benchmark morphing_basis_vector_16: cu = 5.03, cG = 3.75, cuG = -5.92e+00, cH = -2.32e+00, c6 = -1.48e+00, c3G = -4.13e+00, c2G = 8.93)\n",
      "14:59 madminer.core        INFO    Added benchmark morphing_basis_vector_17: cu = -7.03e-01, cG = 7.26, cuG = 9.28, cH = -3.45e+00, c6 = -7.64e+00, c3G = 0.81, c2G = -1.61e+00)\n",
      "14:59 madminer.core        INFO    Added benchmark morphing_basis_vector_18: cu = -8.51e-01, cG = -2.58e+00, cuG = 9.02, cH = -5.35e+00, c6 = -4.82e+00, c3G = 7.19, c2G = -8.94e+00)\n",
      "14:59 madminer.core        INFO    Added benchmark morphing_basis_vector_19: cu = -2.65e+00, cG = -9.96e+00, cuG = -4.17e+00, cH = -3.34e+00, c6 = -4.79e+00, c3G = 6.43, c2G = 1.60)\n",
      "14:59 madminer.core        INFO    Added benchmark morphing_basis_vector_20: cu = 1.81, cG = -7.43e+00, cuG = -1.33e+00, cH = -6.90e+00, c6 = 5.01, c3G = -6.52e+00, c2G = -1.27e+00)\n",
      "14:59 madminer.core        INFO    Added benchmark morphing_basis_vector_21: cu = -4.71e+00, cG = -7.94e-01, cuG = 1.69, cH = 0.86, c6 = 3.29, c3G = -5.87e+00, c2G = -9.29e+00)\n",
      "14:59 madminer.core        INFO    Added benchmark morphing_basis_vector_22: cu = 7.66, cG = 4.76, cuG = 2.30, cH = -6.51e+00, c6 = -5.07e+00, c3G = 0.78, c2G = 8.93)\n",
      "14:59 madminer.core        INFO    Added benchmark morphing_basis_vector_23: cu = 4.58, cG = -6.98e+00, cuG = -7.21e+00, cH = 8.05, c6 = 6.81, c3G = 1.88, c2G = 3.33)\n",
      "14:59 madminer.core        INFO    Added benchmark morphing_basis_vector_24: cu = 0.69, cG = 6.02, cuG = -1.40e+00, cH = -9.26e+00, c6 = -8.57e+00, c3G = -8.95e+00, c2G = -4.90e+00)\n",
      "14:59 madminer.core        INFO    Added benchmark morphing_basis_vector_25: cu = -1.88e+00, cG = 7.13, cuG = 7.12, cH = -9.27e+00, c6 = 2.15, c3G = 8.61, c2G = -9.23e+00)\n",
      "14:59 madminer.core        INFO    Added benchmark morphing_basis_vector_26: cu = 2.04, cG = -7.63e-01, cuG = 9.74, cH = -4.49e+00, c6 = 3.37, c3G = 8.43, c2G = -3.37e-01)\n",
      "14:59 madminer.core        INFO    Added benchmark morphing_basis_vector_27: cu = 3.78, cG = 8.91, cuG = 0.26, cH = 0.05, c6 = 6.63, c3G = -1.30e+00, c2G = 1.91)\n",
      "14:59 madminer.core        INFO    Added benchmark morphing_basis_vector_28: cu = 8.59, cG = 9.36, cuG = -8.67e+00, cH = 2.73, c6 = 7.56, c3G = 8.73, c2G = 9.58)\n",
      "14:59 madminer.core        INFO    Added benchmark morphing_basis_vector_29: cu = -2.81e+00, cG = -4.07e+00, cuG = 3.66, cH = 3.31, c6 = -9.76e+00, c3G = 2.45, c2G = -1.71e+00)\n",
      "14:59 madminer.core        INFO    Added benchmark morphing_basis_vector_30: cu = 2.87, cG = -6.51e+00, cuG = 9.25, cH = 0.33, c6 = -7.40e+00, c3G = -3.89e+00, c2G = 8.26)\n",
      "14:59 madminer.core        INFO    Added benchmark morphing_basis_vector_31: cu = 6.11, cG = -4.65e+00, cuG = -6.09e+00, cH = 7.65, c6 = -4.67e+00, c3G = -1.39e+00, c2G = -8.96e+00)\n",
      "14:59 madminer.core        INFO    Added benchmark morphing_basis_vector_32: cu = -5.78e+00, cG = -5.63e+00, cuG = 7.54, cH = -9.17e+00, c6 = 1.32, c3G = 4.90, c2G = -4.21e+00)\n",
      "14:59 madminer.core        INFO    Added benchmark morphing_basis_vector_33: cu = 6.89, cG = 3.41, cuG = 8.96, cH = -1.47e+00, c6 = -7.35e+00, c3G = -8.50e-01, c2G = -3.24e+00)\n",
      "14:59 madminer.core        INFO    Added benchmark morphing_basis_vector_34: cu = 9.38, cG = -5.17e+00, cuG = 3.94, cH = -7.52e-01, c6 = -4.55e+00, c3G = -2.55e+00, c2G = 9.97)\n",
      "14:59 madminer.core        INFO    Added benchmark morphing_basis_vector_35: cu = -3.71e+00, cG = 1.28, cuG = -1.30e+00, cH = -9.90e+00, c6 = 8.03, c3G = -6.21e+00, c2G = -4.27e+00)\n"
     ]
    }
   ],
   "source": [
    "miner.set_morphing(\n",
    "    include_existing_benchmarks=True,\n",
    "    n_trials=1000,\n",
    "    max_overall_power=2\n",
    ")"
   ]
  },
  {
   "cell_type": "code",
   "execution_count": 8,
   "metadata": {},
   "outputs": [],
   "source": [
    "#fig = plot_2d_morphing_basis(\n",
    "#    miner.morpher,\n",
    "#    xlabel=useoperator[0],\n",
    "#    ylabel=useoperator[1],\n",
    "#    xrange=(-10,10),\n",
    "#    yrange=(-10,10)\n",
    "#)"
   ]
  },
  {
   "cell_type": "markdown",
   "metadata": {},
   "source": [
    "### 1c) Systematics"
   ]
  },
  {
   "cell_type": "markdown",
   "metadata": {},
   "source": [
    "Systematics can be added using the `madminer.set_systematics()` command. In particular, we consider two sorts of systematics: scale variations and pdf variations. The setting is described by the following three inputs\n",
    "- `scales`: Whether only the regularization scale (`\"mur\"`), only the factorization scale (`\"muf\"`), both simultanously with $\\mu=\\mu_F=\\mu_R$ (`\"together\"`) or both independently (`\"independent\"`) are varied.\n",
    "- `scale_variation`: If not `None`, the regularization and / or factorization scales are varied. A tuple like ($\\mu_{max},\\mu_{min}$) specifies the factors with which they are varied. Here $\\mu_{max}$ refers to the name of the benchmark with $\\nu = 1$, while $\\mu_{min}$ is either `None` or refers to the name of the benchmark with $\\nu = -1$. Note that if more than two scales are given, currently only first and last scale are used.\n",
    "- `pdf_variation`: If not `None`, the PDFs are varied. The option is passed along to the `--pdf` option of MadGraph's systematics module. See https://cp3.irmp.ucl.ac.be/projects/madgraph/wiki/Systematics for a list. For example, the option `\"90900\"` would run over all the eigenvectors of the PDF4LHC15_nlo_30 set. "
   ]
  },
  {
   "cell_type": "code",
   "execution_count": 9,
   "metadata": {},
   "outputs": [],
   "source": [
    "#miner.set_systematics(\n",
    "#    scale_variation=(0.5,1,2), \n",
    "#    scales=\"independent\", \n",
    "#    pdf_variation=\"90900\"\n",
    "#)"
   ]
  },
  {
   "cell_type": "markdown",
   "metadata": {},
   "source": [
    "### 1d) Save setup"
   ]
  },
  {
   "cell_type": "code",
   "execution_count": 10,
   "metadata": {},
   "outputs": [
    {
     "name": "stderr",
     "output_type": "stream",
     "text": [
      "14:59 madminer.core        INFO    Saving setup (including morphing) to data/madminer_example.h5\n"
     ]
    }
   ],
   "source": [
    "miner.save('data/madminer_example.h5')"
   ]
  },
  {
   "cell_type": "markdown",
   "metadata": {},
   "source": [
    "## 2. Event Generation"
   ]
  },
  {
   "cell_type": "markdown",
   "metadata": {},
   "source": [
    "Load MadMiner again"
   ]
  },
  {
   "cell_type": "code",
   "execution_count": 11,
   "metadata": {},
   "outputs": [
    {
     "name": "stderr",
     "output_type": "stream",
     "text": [
      "14:59 madminer.core        INFO    Found 7 parameters:\n",
      "14:59 madminer.core        INFO       cu (LHA: newcoup 4, maximal power in squared ME: (2,), range: (-10.0, 10.0))\n",
      "14:59 madminer.core        INFO       cG (LHA: newcoup 12, maximal power in squared ME: (2,), range: (-10.0, 10.0))\n",
      "14:59 madminer.core        INFO       cuG (LHA: newcoup 23, maximal power in squared ME: (2,), range: (-10.0, 10.0))\n",
      "14:59 madminer.core        INFO       cH (LHA: newcoup 1, maximal power in squared ME: (2,), range: (-10.0, 10.0))\n",
      "14:59 madminer.core        INFO       c6 (LHA: newcoup 3, maximal power in squared ME: (2,), range: (-10.0, 10.0))\n",
      "14:59 madminer.core        INFO       c3G (LHA: newcoup 30, maximal power in squared ME: (2,), range: (-10.0, 10.0))\n",
      "14:59 madminer.core        INFO       c2G (LHA: newcoup 33, maximal power in squared ME: (2,), range: (-10.0, 10.0))\n",
      "14:59 madminer.core        INFO    Found 36 benchmarks:\n",
      "14:59 madminer.core        INFO       sm: cu = 0.00e+00, cG = 0.00e+00, cuG = 0.00e+00, cH = 0.00e+00, c6 = 0.00e+00, c3G = 0.00e+00, c2G = 0.00e+00\n",
      "14:59 madminer.core        INFO       morphing_basis_vector_1: cu = 0.88, cG = 8.02, cuG = 6.95, cH = 7.55, c6 = 2.33, c3G = -9.73e-01, c2G = 2.49\n",
      "14:59 madminer.core        INFO       morphing_basis_vector_2: cu = -9.94e+00, cG = 5.09, cuG = -2.14e+00, cH = 5.06, c6 = -4.99e+00, c3G = 2.23, c2G = 1.24\n",
      "14:59 madminer.core        INFO       morphing_basis_vector_3: cu = -8.50e+00, cG = 2.72, cuG = 3.83, cH = -7.97e+00, c6 = 9.92, c3G = 7.89, c2G = 5.79\n",
      "14:59 madminer.core        INFO       morphing_basis_vector_4: cu = 7.50, cG = 7.90, cuG = -5.43e+00, cH = 4.22, c6 = -1.48e+00, c3G = 9.34, c2G = -8.74e-01\n",
      "14:59 madminer.core        INFO       morphing_basis_vector_5: cu = -1.90e-02, cG = 7.53, cuG = -5.10e+00, cH = 6.74, c6 = 0.06, c3G = 7.92, c2G = -4.51e-01\n",
      "14:59 madminer.core        INFO       morphing_basis_vector_6: cu = 7.65, cG = -7.96e+00, cuG = 9.64, cH = 4.07, c6 = -3.90e+00, c3G = 2.09, c2G = 0.96\n",
      "14:59 madminer.core        INFO       morphing_basis_vector_7: cu = -1.86e+00, cG = -5.86e+00, cuG = 7.26, cH = 9.59, c6 = -9.80e+00, c3G = -1.70e+00, c2G = 7.55\n",
      "14:59 madminer.core        INFO       morphing_basis_vector_8: cu = 5.45, cG = -2.65e+00, cuG = -7.43e+00, cH = -8.67e+00, c6 = -1.63e+00, c3G = -3.43e+00, c2G = -7.21e-01\n",
      "14:59 madminer.core        INFO       morphing_basis_vector_9: cu = -9.37e+00, cG = -9.36e+00, cuG = -8.94e+00, cH = -9.53e+00, c6 = 4.42, c3G = -2.15e-01, c2G = 2.02\n",
      "14:59 madminer.core        INFO       morphing_basis_vector_10: cu = 4.48, cG = 9.74, cuG = -9.09e+00, cH = -5.85e+00, c6 = 6.91, c3G = 5.19, c2G = 8.50\n",
      "14:59 madminer.core        INFO       morphing_basis_vector_11: cu = 7.67, cG = 0.82, cuG = 2.44, cH = 6.26, c6 = 4.79, c3G = 6.17, c2G = -6.26e+00\n",
      "14:59 madminer.core        INFO       morphing_basis_vector_12: cu = 9.06, cG = 0.64, cuG = 3.29, cH = 1.28, c6 = -3.70e+00, c3G = -4.71e+00, c2G = -8.32e-01\n",
      "14:59 madminer.core        INFO       morphing_basis_vector_13: cu = -7.95e+00, cG = 4.29, cuG = 4.95, cH = 3.28, c6 = -4.29e+00, c3G = 2.89, c2G = 0.41\n",
      "14:59 madminer.core        INFO       morphing_basis_vector_14: cu = -5.04e+00, cG = -4.18e+00, cuG = -1.98e+00, cH = -7.62e-01, c6 = -1.37e+00, c3G = -7.16e-05, c2G = -7.04e+00\n",
      "14:59 madminer.core        INFO       morphing_basis_vector_15: cu = 5.06, cG = -9.20e+00, cuG = 7.91, cH = -1.72e-02, c6 = -8.63e+00, c3G = -8.47e+00, c2G = 7.76\n",
      "14:59 madminer.core        INFO       morphing_basis_vector_16: cu = 5.03, cG = 3.75, cuG = -5.92e+00, cH = -2.32e+00, c6 = -1.48e+00, c3G = -4.13e+00, c2G = 8.93\n",
      "14:59 madminer.core        INFO       morphing_basis_vector_17: cu = -7.03e-01, cG = 7.26, cuG = 9.28, cH = -3.45e+00, c6 = -7.64e+00, c3G = 0.81, c2G = -1.61e+00\n",
      "14:59 madminer.core        INFO       morphing_basis_vector_18: cu = -8.51e-01, cG = -2.58e+00, cuG = 9.02, cH = -5.35e+00, c6 = -4.82e+00, c3G = 7.19, c2G = -8.94e+00\n",
      "14:59 madminer.core        INFO       morphing_basis_vector_19: cu = -2.65e+00, cG = -9.96e+00, cuG = -4.17e+00, cH = -3.34e+00, c6 = -4.79e+00, c3G = 6.43, c2G = 1.60\n",
      "14:59 madminer.core        INFO       morphing_basis_vector_20: cu = 1.81, cG = -7.43e+00, cuG = -1.33e+00, cH = -6.90e+00, c6 = 5.01, c3G = -6.52e+00, c2G = -1.27e+00\n",
      "14:59 madminer.core        INFO       morphing_basis_vector_21: cu = -4.71e+00, cG = -7.94e-01, cuG = 1.69, cH = 0.86, c6 = 3.29, c3G = -5.87e+00, c2G = -9.29e+00\n",
      "14:59 madminer.core        INFO       morphing_basis_vector_22: cu = 7.66, cG = 4.76, cuG = 2.30, cH = -6.51e+00, c6 = -5.07e+00, c3G = 0.78, c2G = 8.93\n",
      "14:59 madminer.core        INFO       morphing_basis_vector_23: cu = 4.58, cG = -6.98e+00, cuG = -7.21e+00, cH = 8.05, c6 = 6.81, c3G = 1.88, c2G = 3.33\n",
      "14:59 madminer.core        INFO       morphing_basis_vector_24: cu = 0.69, cG = 6.02, cuG = -1.40e+00, cH = -9.26e+00, c6 = -8.57e+00, c3G = -8.95e+00, c2G = -4.90e+00\n",
      "14:59 madminer.core        INFO       morphing_basis_vector_25: cu = -1.88e+00, cG = 7.13, cuG = 7.12, cH = -9.27e+00, c6 = 2.15, c3G = 8.61, c2G = -9.23e+00\n",
      "14:59 madminer.core        INFO       morphing_basis_vector_26: cu = 2.04, cG = -7.63e-01, cuG = 9.74, cH = -4.49e+00, c6 = 3.37, c3G = 8.43, c2G = -3.37e-01\n",
      "14:59 madminer.core        INFO       morphing_basis_vector_27: cu = 3.78, cG = 8.91, cuG = 0.26, cH = 0.05, c6 = 6.63, c3G = -1.30e+00, c2G = 1.91\n",
      "14:59 madminer.core        INFO       morphing_basis_vector_28: cu = 8.59, cG = 9.36, cuG = -8.67e+00, cH = 2.73, c6 = 7.56, c3G = 8.73, c2G = 9.58\n",
      "14:59 madminer.core        INFO       morphing_basis_vector_29: cu = -2.81e+00, cG = -4.07e+00, cuG = 3.66, cH = 3.31, c6 = -9.76e+00, c3G = 2.45, c2G = -1.71e+00\n",
      "14:59 madminer.core        INFO       morphing_basis_vector_30: cu = 2.87, cG = -6.51e+00, cuG = 9.25, cH = 0.33, c6 = -7.40e+00, c3G = -3.89e+00, c2G = 8.26\n",
      "14:59 madminer.core        INFO       morphing_basis_vector_31: cu = 6.11, cG = -4.65e+00, cuG = -6.09e+00, cH = 7.65, c6 = -4.67e+00, c3G = -1.39e+00, c2G = -8.96e+00\n",
      "14:59 madminer.core        INFO       morphing_basis_vector_32: cu = -5.78e+00, cG = -5.63e+00, cuG = 7.54, cH = -9.17e+00, c6 = 1.32, c3G = 4.90, c2G = -4.21e+00\n",
      "14:59 madminer.core        INFO       morphing_basis_vector_33: cu = 6.89, cG = 3.41, cuG = 8.96, cH = -1.47e+00, c6 = -7.35e+00, c3G = -8.50e-01, c2G = -3.24e+00\n",
      "14:59 madminer.core        INFO       morphing_basis_vector_34: cu = 9.38, cG = -5.17e+00, cuG = 3.94, cH = -7.52e-01, c6 = -4.55e+00, c3G = -2.55e+00, c2G = 9.97\n",
      "14:59 madminer.core        INFO       morphing_basis_vector_35: cu = -3.71e+00, cG = 1.28, cuG = -1.30e+00, cH = -9.90e+00, c6 = 8.03, c3G = -6.21e+00, c2G = -4.27e+00\n",
      "14:59 madminer.core        INFO    Found morphing setup with 36 components\n",
      "14:59 madminer.core        INFO    Did not find systematics setup.\n"
     ]
    }
   ],
   "source": [
    "miner.load('data/madminer_example.h5')"
   ]
  },
  {
   "cell_type": "markdown",
   "metadata": {},
   "source": [
    "We now run MadMiner for the signal: "
   ]
  },
  {
   "cell_type": "code",
   "execution_count": 12,
   "metadata": {},
   "outputs": [
    {
     "name": "stderr",
     "output_type": "stream",
     "text": [
      "14:59 madminer.utils.inter INFO    Generating MadGraph process folder from cards/proc_card_signal.dat at ./mg_processes/signal\n",
      "14:59 madminer.core        INFO    Run 0\n",
      "14:59 madminer.core        INFO      Sampling from benchmark: sm\n",
      "14:59 madminer.core        INFO      Original run card:       cards/run_card.dat\n",
      "14:59 madminer.core        INFO      Original Pythia8 card:   None\n",
      "14:59 madminer.core        INFO      Copied run card:         /madminer/cards/run_card_0.dat\n",
      "14:59 madminer.core        INFO      Copied Pythia8 card:     None\n",
      "14:59 madminer.core        INFO      Param card:              /madminer/cards/param_card_0.dat\n",
      "14:59 madminer.core        INFO      Reweight card:           /madminer/cards/reweight_card_0.dat\n",
      "14:59 madminer.core        INFO      Log file:                run_0.log\n",
      "14:59 madminer.core        INFO    Creating param and reweight cards in ./mg_processes/signal//madminer/cards/param_card_0.dat, ./mg_processes/signal//madminer/cards/reweight_card_0.dat\n",
      "14:59 madminer.utils.inter INFO    Starting MadGraph and Pythia in ./mg_processes/signal\n",
      "15:01 madminer.core        INFO    Finished running MadGraph! Please check that events were succesfully generated in the following folders:\n",
      "\n",
      "./mg_processes/signal/Events/run_01\n",
      "\n",
      "\n"
     ]
    }
   ],
   "source": [
    "miner.run(\n",
    "    mg_directory=mg_dir,\n",
    "    mg_process_directory='./mg_processes/signal',\n",
    "    log_directory='logs/signal',\n",
    "    sample_benchmark='sm',\n",
    "    proc_card_file='cards/proc_card_signal.dat',\n",
    "    param_card_template_file='cards/param_card_signal.dat',\n",
    "    run_card_file='cards/run_card.dat',\n",
    "    pythia8_card_file=None,\n",
    "    initial_command='source ~/.bashrc'\n",
    ")"
   ]
  },
  {
   "cell_type": "markdown",
   "metadata": {},
   "source": [
    "## 3. Extract Parton Level Observables / Weights "
   ]
  },
  {
   "cell_type": "markdown",
   "metadata": {},
   "source": [
    "### 3a) Setting up LHEProcessor "
   ]
  },
  {
   "cell_type": "markdown",
   "metadata": {},
   "source": [
    "We first initialize the the LHEProcessor and add the LHE file"
   ]
  },
  {
   "cell_type": "code",
   "execution_count": 13,
   "metadata": {},
   "outputs": [],
   "source": [
    "lhep = LHEProcessor('data/madminer_example.h5')\n",
    "\n",
    "lhep.add_sample(\n",
    "    'mg_processes/signal/Events/run_01/unweighted_events.lhe.gz',\n",
    "    sampled_from_benchmark=\"sm\",\n",
    "    k_factor=1.0\n",
    ")"
   ]
  },
  {
   "cell_type": "markdown",
   "metadata": {},
   "source": [
    "### 3b) Smearing Functions"
   ]
  },
  {
   "cell_type": "markdown",
   "metadata": {},
   "source": [
    "Instead of performing a proper proper shower and detector simulation, we can simulate smearing effects at parton level smearing through smearing functions. Here we will assume a simple 10% uncertainty on the tau energy measurements and a $\\pm 0.05$ smearing for tau $\\eta$ and $\\phi$. The transverse momenta of the taus are then derived from the smeared energy and the on-shell condition for the quarks (this is what `pt_resolution_abs=None` does). The leptons from the Z-boson decay are assumed to be measured perfectly (otherwise we'd have to call `set_smearing` another time with `pdgis=[-13 13]`)."
   ]
  },
  {
   "cell_type": "code",
   "execution_count": 14,
   "metadata": {},
   "outputs": [],
   "source": [
    "#lhep.set_smearing(\n",
    "#    pdgids=[-15, 15],   \n",
    "#    energy_resolution_abs=0.05,\n",
    "#    energy_resolution_rel=0,\n",
    "#    pt_resolution_abs=None,\n",
    "#    pt_resolution_rel=None,\n",
    "#    eta_resolution_abs=0.02,\n",
    "#    eta_resolution_rel=0,\n",
    "#    phi_resolution_abs=0.02,\n",
    "#    phi_resolution_rel=0,\n",
    "#)"
   ]
  },
  {
   "cell_type": "markdown",
   "metadata": {},
   "source": [
    "### 3c) Add Observables and Cuts"
   ]
  },
  {
   "cell_type": "markdown",
   "metadata": {},
   "source": [
    "We will now add some observables.  In the expression string, you can use the terms `j[i]`, `e[i]`, `mu[i]`, `tau[i]`,  `a[i]`, `met`, where the indices `i` refer to a ordering by the transverse momentum. In addition, you can use `p[i]`, which denotes the `i`-th particle in the order given in the LHE sample (which is the order in which the final-state particles where defined in MadGraph).\n",
    "\n",
    "Here we on a small set of higher-level observables: "
   ]
  },
  {
   "cell_type": "code",
   "execution_count": 15,
   "metadata": {},
   "outputs": [],
   "source": [
    "lhep.add_observable('pt_t1', 'p[0].pt',required=True)\n",
    "lhep.add_observable('pt_H', 'p[2].pt',required=True)\n",
    "lhep.add_observable('eta_H', 'p[0].eta',required=True)\n",
    "lhep.add_observable('eta_t1', 'p[2].eta',required=True)\n",
    "lhep.add_observable('m_tt', '(p[0]+p[1]).m',required=True)\n",
    "lhep.add_observable('m_ttH', '(p[0]+p[1]+p[2]).m',required=True)"
   ]
  },
  {
   "cell_type": "markdown",
   "metadata": {},
   "source": [
    "We can also add cuts, again in parse-able strings. In addition to the objects discussed above, they can contain the observables. As example, we consider cuts on the invariant di-lepton / di-tau mass:"
   ]
  },
  {
   "cell_type": "code",
   "execution_count": 16,
   "metadata": {},
   "outputs": [],
   "source": [
    "#lhep.add_cut('m_Z > 86')\n",
    "#lhep.add_cut('m_Z < 96')\n",
    "#lhep.add_cut('(tau[0]+tau[1]).m > 120')\n",
    "#lhep.add_cut('(tau[0]+tau[1]).m < 130')"
   ]
  },
  {
   "cell_type": "markdown",
   "metadata": {},
   "source": [
    "### 3d) Run and Save "
   ]
  },
  {
   "cell_type": "markdown",
   "metadata": {},
   "source": [
    "We can now run `analyse_samples` to calculate all observables from the LHE file(s) generated before, apply the smearing, and check which events pass the cuts:"
   ]
  },
  {
   "cell_type": "code",
   "execution_count": 17,
   "metadata": {},
   "outputs": [
    {
     "name": "stderr",
     "output_type": "stream",
     "text": [
      "15:01 madminer.lhe         INFO    Analysing LHE sample mg_processes/signal/Events/run_01/unweighted_events.lhe.gz\n",
      "15:01 madminer.utils.inter INFO      1000 events pass everything\n",
      "15:01 madminer.utils.inter INFO      Out of these, 0 events contain negative weights\n"
     ]
    }
   ],
   "source": [
    "lhep.analyse_samples() "
   ]
  },
  {
   "cell_type": "markdown",
   "metadata": {},
   "source": [
    "Finally, let's save everything"
   ]
  },
  {
   "cell_type": "code",
   "execution_count": 18,
   "metadata": {},
   "outputs": [],
   "source": [
    "lhep.save('data/madminer_lhedata_signal.h5')"
   ]
  },
  {
   "cell_type": "markdown",
   "metadata": {},
   "source": [
    "### 3e) Plot Distributions"
   ]
  },
  {
   "cell_type": "markdown",
   "metadata": {},
   "source": [
    "Let us now plot some distributions. This can also be done using the `plot_distributions` function. As before the function requires\n",
    "- `filename`: the name of the file with the processed LHE data\n",
    "- `parameter_points`: a list of benchmarks, which can either be specified by there name (such as `sm`) or manually (for example `np.array([0,1])`). \n",
    "- `line_labels`: names for the benchmarks\n",
    "- `observables`: list of observables to be plotted (when `None`, all observables are plotted)\n",
    "We can also plot the uncertainties using the option `uncertainties='nuisance'`. By default, the full uncertainy band using all considered nuicanse parameter is shown. To obtain the uncertainty, MadMiner created a set of `n_toys` (default 100) Monte Carlo sample distributions to estimate the 68% CL band. Additionally, MadMiner can also show a set of `N` of these Monte Carlo toy samples using the option `draw_nuisance_toys=N`. \n",
    "\n",
    "More options, in particular regarding plotting, can be found via the command `help(plot_distributions)`. "
   ]
  },
  {
   "cell_type": "code",
   "execution_count": 56,
   "metadata": {},
   "outputs": [
    {
     "name": "stderr",
     "output_type": "stream",
     "text": [
      "15:08 madminer.sampling    INFO    Loading data from data/madminer_lhedata_signal.h5\n",
      "15:08 madminer.sampling    INFO    Found 7 parameters\n",
      "15:08 madminer.sampling    INFO    Did not find nuisance parameters\n",
      "15:08 madminer.sampling    INFO    Found 36 benchmarks, of which 36 physical\n",
      "15:08 madminer.sampling    INFO    Found 6 observables\n",
      "15:08 madminer.sampling    INFO    Found 1000 events\n",
      "15:08 madminer.sampling    INFO    Found morphing setup with 36 components\n"
     ]
    },
    {
     "data": {
      "image/png": "[encoded data removed]",
      "text/plain": [
       "<matplotlib.figure.Figure at 0x102b7f450>"
      ]
     },
     "metadata": {},
     "output_type": "display_data"
    }
   ],
   "source": [
    "_ = plot_distributions(\n",
    "    filename='data/madminer_lhedata_signal.h5',\n",
    "    parameter_points=['sm', \n",
    "#                      np.array([.1,0,0,0,0,0,0]), \n",
    "#                      np.array([0,.01,0,0,0,0,0]),\n",
    "#                      np.array([0,0,.01,0,0,0,0]),\n",
    "#                      np.array([0,0,0,.1,0,0,0]),\n",
    "#                      np.array([0,0,0,0,10,0,0]),\n",
    "#                      np.array([0,0,0,0,0,0.001,0]),\n",
    "                      np.array([0,0,0,0,0,0,.01]),\n",
    "                     ],\n",
    "    line_labels=['SM', \n",
    "#                 useoperator[0]+'=0.01',\n",
    "#                 useoperator[1]+'=0.01',\n",
    "#                 useoperator[2]+'=0.01',\n",
    "#                 useoperator[3]+'=0.01',\n",
    "#                 useoperator[4]+'=0.01',\n",
    "#                 useoperator[5]+'=0.01',\n",
    "                 useoperator[6]+'=0.01',\n",
    "                ],\n",
    "#    colors=['C0','C1','black'],\n",
    "    uncertainties='none',\n",
    "    n_bins=20,\n",
    "    n_cols=3,\n",
    "    normalize=True,\n",
    ")"
   ]
  },
  {
   "cell_type": "markdown",
   "metadata": {},
   "source": [
    "- `cu`: $\\mathcal{L}=\\frac{c_u}{v^2} (H^\\dagger H) (H^\\dagger \\cdot \\bar{Q}_L) u_R$\n",
    "   - Visible effects for cu=0.1, rate only\n",
    "- `cG`: $\\mathcal{L}=\\frac{g_s^2 c_G}{m_W^2} (H^\\dagger H) G_{\\mu\\nu}^a G_a^{\\mu\\nu}$. \n",
    "   - Visible effects for cG=0.001,changes kinematics\n",
    "- `cuG`: $\\mathcal{L}=\\frac{4g_s c_{uG}}{m_W^2} y_u  (H^\\dagger \\cdot \\bar{Q}_L)  \\gamma^{\\mu\\nu} T_a u_R G^a_{\\mu\\nu}$. \n",
    "   - Visible effects for cuG=0.001, changes kinematics\n",
    "- `cH`: $\\mathcal{L}=\\frac{c_{H}}{2v^2} \\partial^\\mu (H^\\dagger H) \\partial_\\mu (H^\\dagger H) $ . \n",
    "   - Visible effects for cH=0.1, rate only\n",
    "- `c6`: $\\mathcal{L}=\\frac{c_{6} \\lambda}{v^2} (H^\\dagger H)^3$. \n",
    "   - Visible effects for c6=1, changes kinematics \n",
    "- `c3G`: $\\mathcal{L}=\\frac{g_s^3 c_{3G}}{m_W^2}f_{abc} G^a_{\\mu\\nu} G^{\\nu b}_\\rho G^{\\rho \\mu c}$. \n",
    "   - Visible effects for c3G=0.001, changes kinematics\n",
    "- `c2G`: $\\mathcal{L}=\\frac{c_{2G}}{m_W^2}D_\\mu  G^a_{\\mu\\nu} D_\\rho G^{\\rho \\nu}_a$. \n",
    "   - Visible effects for c3G=0.01, changes kinematics"
   ]
  },
  {
   "cell_type": "markdown",
   "metadata": {},
   "source": [
    "We can also only consider a subset of nuisance parameter. In the following example, we separatly show the uncertainties from scale and PDF variations.  "
   ]
  },
  {
   "cell_type": "code",
   "execution_count": 20,
   "metadata": {},
   "outputs": [
    {
     "data": {
      "text/plain": [
       "u\"\\nnuisance_scale=np.array([i for i in range(0,2)])\\nnuisance_pdf=np.array([i for i in range(2,33)])\\n\\nfig_scale = plot_distributions(\\n     filename='data/madminer_lhedata_signal.h5',\\n    parameter_points=['sm',np.array([10,0]),np.array([0,10])],\\n    line_labels=['SM',r'$\\theta_0=10$',r'$\\theta_1=10$'],\\n    observables=['m_Z','m_ZH','dphi_mumu'],\\n    uncertainties='nuisance',\\n    n_bins=20,               \\n    normalize=False,  \\n    nuisance_parameters=nuisance_scale,\\n)\\n\\nfig_pdf = plot_distributions(\\n     filename='data/madminer_lhedata_signal.h5',\\n    parameter_points=['sm',np.array([10,0]),np.array([0,10])],\\n    line_labels=['SM',r'$\\theta_0=10$',r'$\\theta_1=10$'],\\n    observables=['m_Z','m_ZH','dphi_mumu'],\\n    uncertainties='nuisance',\\n    n_bins=20,               \\n    normalize=False,  \\n    nuisance_parameters=nuisance_pdf,\\n)\\n\""
      ]
     },
     "execution_count": 20,
     "metadata": {},
     "output_type": "execute_result"
    }
   ],
   "source": [
    "\"\"\"\n",
    "nuisance_scale=np.array([i for i in range(0,2)])\n",
    "nuisance_pdf=np.array([i for i in range(2,33)])\n",
    "\n",
    "fig_scale = plot_distributions(\n",
    "     filename='data/madminer_lhedata_signal.h5',\n",
    "    parameter_points=['sm',np.array([10,0]),np.array([0,10])],\n",
    "    line_labels=['SM',r'$\\theta_0=10$',r'$\\theta_1=10$'],\n",
    "    observables=['m_Z','m_ZH','dphi_mumu'],\n",
    "    uncertainties='nuisance',\n",
    "    n_bins=20,               \n",
    "    normalize=False,  \n",
    "    nuisance_parameters=nuisance_scale,\n",
    ")\n",
    "\n",
    "fig_pdf = plot_distributions(\n",
    "     filename='data/madminer_lhedata_signal.h5',\n",
    "    parameter_points=['sm',np.array([10,0]),np.array([0,10])],\n",
    "    line_labels=['SM',r'$\\theta_0=10$',r'$\\theta_1=10$'],\n",
    "    observables=['m_Z','m_ZH','dphi_mumu'],\n",
    "    uncertainties='nuisance',\n",
    "    n_bins=20,               \n",
    "    normalize=False,  \n",
    "    nuisance_parameters=nuisance_pdf,\n",
    ")\n",
    "\"\"\""
   ]
  },
  {
   "cell_type": "markdown",
   "metadata": {},
   "source": [
    "Note that the uncertainty mainly effects the signal normalization, not the signal distribution. This can be seen looking at the normalized distributions via `normalize=True`"
   ]
  },
  {
   "cell_type": "code",
   "execution_count": 21,
   "metadata": {},
   "outputs": [
    {
     "data": {
      "text/plain": [
       "u\"\\nfig_pdf = plot_distributions(\\n     filename='data/madminer_lhedata_signal.h5',\\n    parameter_points=['sm',np.array([10,0]),np.array([0,10])],\\n    line_labels=['SM',r'$\\theta_0=10$',r'$\\theta_1=10$'],\\n    observables=['m_Z','m_ZH','dphi_mumu'],\\n    uncertainties='nuisance',\\n    n_bins=20,               \\n    normalize=True,  \\n)\\n\""
      ]
     },
     "execution_count": 21,
     "metadata": {},
     "output_type": "execute_result"
    }
   ],
   "source": [
    "\"\"\"\n",
    "fig_pdf = plot_distributions(\n",
    "     filename='data/madminer_lhedata_signal.h5',\n",
    "    parameter_points=['sm',np.array([10,0]),np.array([0,10])],\n",
    "    line_labels=['SM',r'$\\theta_0=10$',r'$\\theta_1=10$'],\n",
    "    observables=['m_Z','m_ZH','dphi_mumu'],\n",
    "    uncertainties='nuisance',\n",
    "    n_bins=20,               \n",
    "    normalize=True,  \n",
    ")\n",
    "\"\"\""
   ]
  },
  {
   "cell_type": "code",
   "execution_count": null,
   "metadata": {},
   "outputs": [],
   "source": []
  }
 ],
 "metadata": {
  "kernelspec": {
   "display_name": "Python 2",
   "language": "python",
   "name": "python2"
  },
  "language_info": {
   "codemirror_mode": {
    "name": "ipython",
    "version": 2
   },
   "file_extension": ".py",
   "mimetype": "text/x-python",
   "name": "python",
   "nbconvert_exporter": "python",
   "pygments_lexer": "ipython2",
   "version": "2.7.15"
  }
 },
 "nbformat": 4,
 "nbformat_minor": 2
}
