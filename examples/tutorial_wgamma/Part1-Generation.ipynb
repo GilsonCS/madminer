{
 "cells": [
  {
   "cell_type": "markdown",
   "metadata": {},
   "source": [
    "# A MadMiner Example Analysis -  Analyzing dim6 operators in $W\\gamma$ "
   ]
  },
  {
   "cell_type": "markdown",
   "metadata": {},
   "source": [
    "Johann Brehmer, Felix Kling, Kyle Cranmer 2018\n",
    "\n",
    "In this tutorial we'll demonstrate how to use MadMiner to generate train and test samples for the Information Geometry methods introduced in the following papers:\n",
    "- J. Brehmer, K. Cranmer, F. Kling, T. Plehn: [\"Better Higgs Measurements Through Information Geometry\"](https://arxiv.org/abs/1612.05261)\n",
    "- J. Brehmer, F. Kling, T. Plehn, T.M.P. Tait: [\"Better Higgs-CP Tests Through Information Geometry\"](https://arxiv.org/abs/1712.02350)\n",
    "\n",
    "\n",
    "This tutorial does not try to explain the inference methods. To understand what MadMiner is doing, please have a look at some papers first: \n",
    "- J. Brehmer, K. Cranmer, G. Louppe, J. Pavez: [\"Constraining Effective Field Theories With Machine Learning\"](https://arxiv.org/abs/1805.00013) explains the basic idea of most of the methods presented here\n",
    "- J. Brehmer, K. Cranmer, G. Louppe, J. Pavez: [\"A Guide to Constraining Effective Field Theories With Machine Learning\"](https://arxiv.org/abs/1805.00020) is an extensive 65-page handbook going through the details"
   ]
  },
  {
   "cell_type": "markdown",
   "metadata": {},
   "source": [
    "# Part 1: Setup and Event Generation"
   ]
  },
  {
   "cell_type": "markdown",
   "metadata": {},
   "source": [
    "## Preparations"
   ]
  },
  {
   "cell_type": "markdown",
   "metadata": {},
   "source": [
    "Before you execute this notebook, make sure you have running installations of MadGraph, Pythia, and Delphes. Note that at least for now, the MG-Pythia interface and Delphes require custom patches (available upon request). In addition, MadMiner has to be in your PYTHONPATH."
   ]
  },
  {
   "cell_type": "code",
   "execution_count": 1,
   "metadata": {},
   "outputs": [],
   "source": [
    "import sys\n",
    "import os\n",
    "madminer_src_path = \"/Users/felixkling/Documents/GitHub/madminer\"\n",
    "sys.path.append(madminer_src_path)"
   ]
  },
  {
   "cell_type": "code",
   "execution_count": 2,
   "metadata": {},
   "outputs": [],
   "source": [
    "from __future__ import absolute_import, division, print_function, unicode_literals\n",
    "\n",
    "import numpy as np\n",
    "import matplotlib\n",
    "from matplotlib import pyplot as plt\n",
    "from scipy.optimize import curve_fit\n",
    "% matplotlib inline\n",
    "\n",
    "from madminer.core import MadMiner\n",
    "from madminer.plotting import plot_2d_morphing_basis\n",
    "from madminer.sampling import combine_and_shuffle\n",
    "from madminer.lhe import LHEProcessor"
   ]
  },
  {
   "cell_type": "markdown",
   "metadata": {},
   "source": [
    "Please enter here the path to your MG5 root directory. This notebook assumes that you installed Delphes and Pythia through MG5. \n",
    "\n",
    "**This needs to be updated by the user**"
   ]
  },
  {
   "cell_type": "code",
   "execution_count": 3,
   "metadata": {},
   "outputs": [],
   "source": [
    "mg_dir = '/Users/felixkling/work/MG5_aMC_v2_6_2'"
   ]
  },
  {
   "cell_type": "markdown",
   "metadata": {},
   "source": [
    "## 1. Setup"
   ]
  },
  {
   "cell_type": "markdown",
   "metadata": {},
   "source": [
    "### 1a) Define parameter space"
   ]
  },
  {
   "cell_type": "markdown",
   "metadata": {},
   "source": [
    "After creating a `MadMiner` instance, the first important step is the definition of the parameter space. Each model parameter is characterized by a name as well as the LHA block and ID.\n",
    "\n",
    "If morphing is used, one also has to specify the maximal power with which the parameter contributes to the squared matrix element. For instance, a parameter that contributes only to one vertex, will typically have `morphing_max_power=2`, while a parameter that contributes to two vertices usually has `morphing_max_power=4`. Exceptions arise for instance when the interference effects between the SM and dimension-six operators are modelled, but the square of the dimension-six amplitude (subleading in $1/\\Lambda$) is not taken into account, in which case `morphing_max_power=1`. The `parameter_range` argument defines the range of parameter values that are used for the automatic optimization of the morphing basis.\n",
    "\n",
    "Finally, the parameter values theta used internally by MadMiner and the parameter values written to the param_card (or reweight_card) given to MadGraph do not have to be exactly the same. With the option `parm_card_transform`, the user can supply a one-parameter function that maps a parameter value theta to the value given to MadGraph. This string is a python expression, in which `theta` is parsed as the parameter value. For instance, if the internal parameters are in the range (0, 1), but should be linearly scaled to (0, 100) in the param_card, one would have to use `param_card_transform=\"100*theta\"`."
   ]
  },
  {
   "cell_type": "code",
   "execution_count": 4,
   "metadata": {},
   "outputs": [
    {
     "name": "stderr",
     "output_type": "stream",
     "text": [
      "22:18  \n",
      "22:18  ------------------------------------------------------------\n",
      "22:18  |                                                          |\n",
      "22:18  |  MadMiner v0.1.0                                         |\n",
      "22:18  |                                                          |\n",
      "22:18  |           Johann Brehmer, Kyle Cranmer, and Felix Kling  |\n",
      "22:18  |                                                          |\n",
      "22:18  ------------------------------------------------------------\n",
      "22:18  \n",
      "22:18  Added parameter CWL2 (LHA: dim6 2, maximal power in squared ME: (2,), range: (-50.0, 50.0))\n",
      "22:18  Added parameter CPWL2 (LHA: dim6 5, maximal power in squared ME: (2,), range: (-50.0, 50.0))\n"
     ]
    }
   ],
   "source": [
    "miner = MadMiner()\n",
    "\n",
    "miner.add_parameter(\n",
    "    lha_block='dim6',\n",
    "    lha_id=2,\n",
    "    parameter_name='CWL2',\n",
    "    morphing_max_power=2,\n",
    "    parameter_range=(-50.,50.)\n",
    ")\n",
    "miner.add_parameter(\n",
    "    lha_block='dim6',\n",
    "    lha_id=5,\n",
    "    parameter_name='CPWL2',\n",
    "    morphing_max_power=2,\n",
    "    parameter_range=(-50.,50.)\n",
    ")"
   ]
  },
  {
   "cell_type": "markdown",
   "metadata": {},
   "source": [
    "### 1b) Define benchmark points (evaluation points for |M|^2)"
   ]
  },
  {
   "cell_type": "markdown",
   "metadata": {},
   "source": [
    "The next step is the definition of all the points at which the weights (squared matrix elements) should be evaluated by MadGraph. We call these points \"benchmarks\".\n",
    "\n",
    "One can define benchmarks by hand:"
   ]
  },
  {
   "cell_type": "code",
   "execution_count": 5,
   "metadata": {},
   "outputs": [
    {
     "name": "stderr",
     "output_type": "stream",
     "text": [
      "22:18  Added benchmark sm: CWL2 = 0.00e+00, CPWL2 = 0.00e+00)\n",
      "22:18  Added benchmark w: CWL2 = 20.00, CPWL2 = 0.00e+00)\n"
     ]
    }
   ],
   "source": [
    "miner.add_benchmark(\n",
    "    {'CWL2':0., 'CPWL2':0.},\n",
    "    'sm'\n",
    ")\n",
    "miner.add_benchmark(\n",
    "    {'CWL2':20., 'CPWL2':0.},\n",
    "    'w'\n",
    ")"
   ]
  },
  {
   "cell_type": "markdown",
   "metadata": {},
   "source": [
    "If morphing is used, the function `set_benchmarks_from_morphing` has to be called. With the option `keep_existing_benchmarks=True`, MadMiner will keep all the benchmark points defined beforehand and run a simple optimization algorithm to fix the remaining ones for the basis (which may be none). Otherwise, MadMiner will optimize the full basis and forget about all previously defined benchmark points. The argument `n_trials` determines the number of random candidate bases that the optimization algorithm goes through."
   ]
  },
  {
   "cell_type": "code",
   "execution_count": 6,
   "metadata": {
    "scrolled": false
   },
   "outputs": [
    {
     "name": "stderr",
     "output_type": "stream",
     "text": [
      "22:18  Optimizing basis for morphing\n",
      "22:18  Added benchmark sm: CWL2 = 0.00e+00, CPWL2 = 0.00e+00)\n",
      "22:18  Added benchmark w: CWL2 = 20.00, CPWL2 = 0.00e+00)\n",
      "22:18  Added benchmark morphing_basis_vector_2: CWL2 = -5.87e+00, CPWL2 = 49.22)\n",
      "22:18  Added benchmark morphing_basis_vector_3: CWL2 = 41.02, CPWL2 = -4.58e+01)\n",
      "22:18  Added benchmark morphing_basis_vector_4: CWL2 = -4.94e+01, CPWL2 = -1.93e+01)\n",
      "22:18  Added benchmark morphing_basis_vector_5: CWL2 = -3.29e+01, CPWL2 = -4.56e+01)\n"
     ]
    }
   ],
   "source": [
    "miner.set_benchmarks_from_morphing(\n",
    "    keep_existing_benchmarks=True,\n",
    "    n_trials=1000,\n",
    "    max_overall_power=2\n",
    ")"
   ]
  },
  {
   "cell_type": "markdown",
   "metadata": {},
   "source": [
    "Let's have a look at the resulting morphing basis and the \"morphing error\", i.e. the sum of squared morphing weights as a function of the parameter space:"
   ]
  },
  {
   "cell_type": "code",
   "execution_count": 7,
   "metadata": {},
   "outputs": [
    {
     "data": {
      "image/png": "[encoded data removed]",
      "text/plain": [
       "<matplotlib.figure.Figure at 0x10f6f02d0>"
      ]
     },
     "metadata": {},
     "output_type": "display_data"
    }
   ],
   "source": [
    "fig = plot_2d_morphing_basis(\n",
    "    miner.morpher,\n",
    "    xlabel=r'$c_{W} / \\Lambda^2$ [TeV$^{-2}$]',\n",
    "    ylabel=r'$c_{\\tilde{W}} / \\Lambda^2$ [TeV$^{-2}$]',\n",
    "    xrange=(-60.,60),\n",
    "    yrange=(-60.,60.)\n",
    ")"
   ]
  },
  {
   "cell_type": "markdown",
   "metadata": {},
   "source": [
    "### 1c) Save setup"
   ]
  },
  {
   "cell_type": "markdown",
   "metadata": {},
   "source": [
    "The parameter space, benchmark points, and morphing setup are saved in a HDF5 file:"
   ]
  },
  {
   "cell_type": "code",
   "execution_count": 8,
   "metadata": {},
   "outputs": [
    {
     "name": "stderr",
     "output_type": "stream",
     "text": [
      "22:19  Saving setup (including morphing) to data/madminer_example.h5\n"
     ]
    }
   ],
   "source": [
    "miner.save('data/madminer_example.h5')"
   ]
  },
  {
   "cell_type": "markdown",
   "metadata": {},
   "source": [
    "They can now be loaded again with `miner.load(filename)`."
   ]
  },
  {
   "cell_type": "markdown",
   "metadata": {},
   "source": [
    "## 2. Event Generation"
   ]
  },
  {
   "cell_type": "markdown",
   "metadata": {},
   "source": [
    "In a next step, MadMiner starts MadGraph and Pythia to generate events and calculate the weights. You have to provide paths to the process card, run card and param card (the entries corresponding to the parameters of interest will be automatically adapted). Log files in the `log_directory` folder collect the MadGraph output and are important for debugging.\n",
    "\n",
    "The `sample_benchmark` option can be used to specify which benchmark should be used for sampling. If it is not used, MadMiner will automatically use the benchmark that was added first.\n",
    "\n",
    "Finally, if MadGraph is supposed to run in a different Python environment or requires other setup steps, you can use the `initial_command` argument. If your default Python environment is Python 2.7, you do not have to use this. If it is Python 3.x, you should use this to activate a Python 2 environment (see [the conda documentation](https://conda.io/docs/user-guide/tasks/manage-environments.html)). Here we assume you have create a conda environment `python2` for this purpose. \n",
    "\n",
    "**The `initial_command` line typicially has to be updated by the user**"
   ]
  },
  {
   "cell_type": "code",
   "execution_count": 9,
   "metadata": {},
   "outputs": [
    {
     "name": "stderr",
     "output_type": "stream",
     "text": [
      "22:19  Generating MadGraph process folder from cards/proc_card_wgamma.dat at ./mg_processes/wgamma\n",
      "22:19  Run 0\n",
      "22:19    Sampling from benchmark: sm\n",
      "22:19    Original run card:       cards/run_card_wgamma.dat\n",
      "22:19    Original Pythia8 card:   None\n",
      "22:19    Copied run card:         /madminer/cards/run_card_0.dat\n",
      "22:19    Copied Pythia8 card:     None\n",
      "22:19    Param card:              /madminer/cards/param_card_0.dat\n",
      "22:19    Reweight card:           /madminer/cards/reweight_card_0.dat\n",
      "22:19    Log file:                run_0.log\n",
      "22:19  Creating param and reweight cards in ./mg_processes/wgamma//madminer/cards/param_card_0.dat, ./mg_processes/wgamma//madminer/cards/reweight_card_0.dat\n",
      "22:19  Starting MadGraph and Pythia in ./mg_processes/wgamma\n"
     ]
    }
   ],
   "source": [
    "miner.run(\n",
    "    sample_benchmark='sm',\n",
    "    mg_directory=mg_dir,\n",
    "    mg_process_directory='./mg_processes/wgamma',\n",
    "    proc_card_file='cards/proc_card_wgamma.dat',\n",
    "    param_card_template_file='cards/param_card_template.dat',\n",
    "    run_card_file='cards/run_card_wgamma.dat',\n",
    "    log_directory='logs/wgamma',\n",
    "    initial_command='source ~/.bashrc'\n",
    ")"
   ]
  },
  {
   "cell_type": "markdown",
   "metadata": {},
   "source": [
    "## 3. Extract Parton Level Observables / Weights "
   ]
  },
  {
   "cell_type": "markdown",
   "metadata": {},
   "source": [
    "### 3a) Setting up the LHEProcessor"
   ]
  },
  {
   "cell_type": "markdown",
   "metadata": {},
   "source": [
    "Here we extract the parton level information (observables and weights) from the .lhe file. This is done with the LHEProcessor package. "
   ]
  },
  {
   "cell_type": "code",
   "execution_count": 10,
   "metadata": {},
   "outputs": [],
   "source": [
    "lhep = LHEProcessor()"
   ]
  },
  {
   "cell_type": "markdown",
   "metadata": {},
   "source": [
    "After creating the object, one can add a number of LHE event samples."
   ]
  },
  {
   "cell_type": "code",
   "execution_count": 11,
   "metadata": {
    "scrolled": false
   },
   "outputs": [
    {
     "name": "stderr",
     "output_type": "stream",
     "text": [
      "22:31  Adding LHE sample at mg_processes/wgamma/Events/run_01/unweighted_events.lhe.gz\n"
     ]
    }
   ],
   "source": [
    "lhep.add_lhe_sample('mg_processes/wgamma/Events/run_01/unweighted_events.lhe.gz',sampling_benchmark=\"sm\")"
   ]
  },
  {
   "cell_type": "markdown",
   "metadata": {},
   "source": [
    "We also want to specify the Benchmark names, because sometimes the order is mixed up in the LHE files. But fortunately, we already stored them in the HDF5 file. "
   ]
  },
  {
   "cell_type": "code",
   "execution_count": 12,
   "metadata": {},
   "outputs": [],
   "source": [
    "lhep.read_benchmark_names('data/madminer_example.h5')"
   ]
  },
  {
   "cell_type": "markdown",
   "metadata": {},
   "source": [
    "### 3b) Defining observables"
   ]
  },
  {
   "cell_type": "markdown",
   "metadata": {},
   "source": [
    "We can now process the data and evaluate observables for each event. This is needed for example for plotting or to evaluate the Fisher Information in histograms of observables. \n",
    "\n",
    "Observables are also used for the MadMiner Machine Learning approach. Note that this requires a complete set of obseravbles that can encode the full kinematics of the event. Additionally, we have found that the Machine Learning performs better higher level observables (such as masses or angular differences between particles) than with the four momenta itself (pz, py, pz, E).\n",
    "\n",
    "Observables can be any function of the fpr momenta. The `p[i]` correspond to the i'th parton momentum as specified when generating the process.  All of these objects are scikit-hep [LorentzVectors](http://scikit-hep.org/api/math.html#vector-classes), see the link for a documentation of their properties."
   ]
  },
  {
   "cell_type": "code",
   "execution_count": 13,
   "metadata": {},
   "outputs": [
    {
     "name": "stderr",
     "output_type": "stream",
     "text": [
      "22:31  Adding (not required) observable px_l = p[0].px\n",
      "22:31  Adding (not required) observable px_v = p[1].px\n",
      "22:31  Adding (not required) observable px_a = p[2].px\n",
      "22:31  Adding (not required) observable py_l = p[0].py\n",
      "22:31  Adding (not required) observable py_v = p[1].py\n",
      "22:31  Adding (not required) observable py_a = p[2].py\n",
      "22:31  Adding (not required) observable pz_l = p[0].pz\n",
      "22:31  Adding (not required) observable pz_v = p[1].pz\n",
      "22:31  Adding (not required) observable pz_a = p[2].pz\n",
      "22:31  Adding (not required) observable e_l = p[0].e\n",
      "22:31  Adding (not required) observable e_v = p[1].e\n",
      "22:31  Adding (not required) observable e_a = p[2].e\n",
      "22:31  Adding (not required) observable pt_l = p[0].pt\n",
      "22:31  Adding (not required) observable pt_v = p[1].pt\n",
      "22:31  Adding (not required) observable pt_a = p[2].pt\n",
      "22:31  Adding (not required) observable eta_l = p[0].eta\n",
      "22:31  Adding (not required) observable eta_v = p[1].eta\n",
      "22:31  Adding (not required) observable eta_a = p[2].eta\n",
      "22:31  Adding (not required) observable dphi_lv = p[0].deltaphi(p[1])\n",
      "22:31  Adding (not required) observable dphi_la = p[0].deltaphi(p[2])\n",
      "22:31  Adding (not required) observable dphi_va = p[1].deltaphi(p[2])\n",
      "22:31  Adding (not required) observable m_lv = (p[0] + p[1]).m\n",
      "22:31  Adding (not required) observable m_lva = (p[0] + p[1] + p[2]).m\n"
     ]
    }
   ],
   "source": [
    "lhep.add_observable('px_l', 'p[0].px')\n",
    "lhep.add_observable('px_v', 'p[1].px')\n",
    "lhep.add_observable('px_a', 'p[2].px')\n",
    "\n",
    "lhep.add_observable('py_l', 'p[0].py')\n",
    "lhep.add_observable('py_v', 'p[1].py')\n",
    "lhep.add_observable('py_a', 'p[2].py')\n",
    "\n",
    "lhep.add_observable('pz_l', 'p[0].pz')\n",
    "lhep.add_observable('pz_v', 'p[1].pz')\n",
    "lhep.add_observable('pz_a', 'p[2].pz')\n",
    "\n",
    "lhep.add_observable('e_l', 'p[0].e')\n",
    "lhep.add_observable('e_v', 'p[1].e')\n",
    "lhep.add_observable('e_a', 'p[2].e')\n",
    "\n",
    "lhep.add_observable('pt_l', 'p[0].pt')\n",
    "lhep.add_observable('pt_v', 'p[1].pt')\n",
    "lhep.add_observable('pt_a', 'p[2].pt')\n",
    "\n",
    "lhep.add_observable('eta_l', 'p[0].eta')\n",
    "lhep.add_observable('eta_v', 'p[1].eta')\n",
    "lhep.add_observable('eta_a', 'p[2].eta')\n",
    "\n",
    "lhep.add_observable('dphi_lv', 'p[0].deltaphi(p[1])')\n",
    "lhep.add_observable('dphi_la', 'p[0].deltaphi(p[2])')\n",
    "lhep.add_observable('dphi_va', 'p[1].deltaphi(p[2])')\n",
    "\n",
    "lhep.add_observable('m_lv' , '(p[0] + p[1]).m')\n",
    "lhep.add_observable('m_lva', '(p[0] + p[1] + p[2]).m')"
   ]
  },
  {
   "cell_type": "markdown",
   "metadata": {},
   "source": [
    "### 3c) Run LHEProcessor"
   ]
  },
  {
   "cell_type": "markdown",
   "metadata": {},
   "source": [
    "The function `analyse_lhe_samples` extracts all these observables and weights from the LHE file(s) "
   ]
  },
  {
   "cell_type": "code",
   "execution_count": 14,
   "metadata": {},
   "outputs": [
    {
     "name": "stderr",
     "output_type": "stream",
     "text": [
      "22:31  Analysing LHE sample mg_processes/wgamma/Events/run_01/unweighted_events.lhe.gz\n"
     ]
    }
   ],
   "source": [
    "lhep.analyse_lhe_samples()"
   ]
  },
  {
   "cell_type": "markdown",
   "metadata": {},
   "source": [
    "The values of the observables and the weights are then saved in the HDF5 file. It is possible to overwrite the same file, or to leave the original file intact and save all the data into a new file as follows:"
   ]
  },
  {
   "cell_type": "code",
   "execution_count": 15,
   "metadata": {},
   "outputs": [
    {
     "name": "stderr",
     "output_type": "stream",
     "text": [
      "22:32  Loading HDF5 data from data/madminer_example.h5 and saving file to data/madminer_example_with_lhedata.h5\n"
     ]
    }
   ],
   "source": [
    "lhep.save('data/madminer_example_with_lhedata.h5', 'data/madminer_example.h5')"
   ]
  },
  {
   "cell_type": "markdown",
   "metadata": {},
   "source": [
    "Let's make a quick cross check by plotting a distributions (Warning: plot's don't look very pretty)"
   ]
  },
  {
   "cell_type": "code",
   "execution_count": 16,
   "metadata": {},
   "outputs": [
    {
     "data": {
      "image/png": "[encoded data removed]",
      "text/plain": [
       "<matplotlib.figure.Figure at 0x1129e7250>"
      ]
     },
     "metadata": {},
     "output_type": "display_data"
    },
    {
     "data": {
      "image/png": "[encoded data removed]",
      "text/plain": [
       "<matplotlib.figure.Figure at 0x1134d5c90>"
      ]
     },
     "metadata": {},
     "output_type": "display_data"
    },
    {
     "data": {
      "image/png": "[encoded data removed]",
      "text/plain": [
       "<matplotlib.figure.Figure at 0x113b85310>"
      ]
     },
     "metadata": {},
     "output_type": "display_data"
    },
    {
     "data": {
      "image/png": "[encoded data removed]",
      "text/plain": [
       "<matplotlib.figure.Figure at 0x113f7e250>"
      ]
     },
     "metadata": {},
     "output_type": "display_data"
    }
   ],
   "source": [
    "mycolors=[\"black\",\"red\",\"orange\",\"yellow\",\"green\",\"blue\",\"purple\"]\n",
    "\n",
    "fig = plt.figure(figsize=(5,5))\n",
    "for i, weights in enumerate(lhep.weights):\n",
    "    plt.hist(lhep.observations['pt_v'], range=(0.,500.), bins=20, histtype='step', weights=weights,color=mycolors[i])\n",
    "plt.hist(lhep.observations['pt_v'], range=(0.,500.), bins=20, histtype='step', weights=lhep.weights[0],color=mycolors[0])\n",
    "plt.show()\n",
    "\n",
    "fig = plt.figure(figsize=(5,5))\n",
    "for i, weights in enumerate(lhep.weights):\n",
    "    plt.hist(lhep.observations['pt_a'], range=(0.,1000.), bins=20, histtype='step', weights=weights,color=mycolors[i])\n",
    "plt.hist(lhep.observations['pt_a'], range=(0.,1000.), bins=20, histtype='step', weights=lhep.weights[0],color=mycolors[0])\n",
    "plt.show()\n",
    "\n",
    "fig = plt.figure(figsize=(5,5))\n",
    "for i, weights in enumerate(lhep.weights):\n",
    "    plt.hist(lhep.observations['dphi_lv'], range=(-3.2,3.2), bins=20, histtype='step', weights=weights,color=mycolors[i])\n",
    "plt.hist(lhep.observations['dphi_lv'], range=(-3.2,3.2), bins=20, histtype='step', weights=lhep.weights[0],color=mycolors[0])\n",
    "plt.show()\n",
    "\n",
    "fig = plt.figure(figsize=(5,5))\n",
    "for i, weights in enumerate(lhep.weights):\n",
    "    plt.hist(lhep.observations['dphi_la'], range=(-3.2,3.2), bins=20, histtype='step', weights=weights,color=mycolors[i])\n",
    "plt.hist(lhep.observations['dphi_la'], range=(-3.2,3.2), bins=20, histtype='step', weights=lhep.weights[0],color=mycolors[0])\n",
    "plt.show()"
   ]
  },
  {
   "cell_type": "markdown",
   "metadata": {},
   "source": [
    "### 3e) Combining Samples (if necessary) "
   ]
  },
  {
   "cell_type": "markdown",
   "metadata": {},
   "source": [
    "To reduce disk usage, you can generate several small event samples with the steps given above, and combine them now. Note that (for now) it is essential that all of them are generated with the same setup, including the same benchmark points / morphing basis!\n",
    "\n",
    "In our case we only have one sample, so this is not strictly necessary, but we still include it for completeness."
   ]
  },
  {
   "cell_type": "code",
   "execution_count": 17,
   "metadata": {},
   "outputs": [
    {
     "name": "stderr",
     "output_type": "stream",
     "text": [
      "22:32  Copying setup from data/madminer_example_with_lhedata.h5 to data/madminer_example_shuffled.h5\n",
      "22:32  Loading samples from file 1 / 1 at data/madminer_example_with_lhedata.h5\n"
     ]
    }
   ],
   "source": [
    "combine_and_shuffle(\n",
    "    ['data/madminer_example_with_lhedata.h5'],\n",
    "    'data/madminer_example_shuffled.h5'\n",
    ")"
   ]
  }
 ],
 "metadata": {
  "kernelspec": {
   "display_name": "Python 2",
   "language": "python",
   "name": "python2"
  },
  "language_info": {
   "codemirror_mode": {
    "name": "ipython",
    "version": 2
   },
   "file_extension": ".py",
   "mimetype": "text/x-python",
   "name": "python",
   "nbconvert_exporter": "python",
   "pygments_lexer": "ipython2",
   "version": "2.7.15"
  }
 },
 "nbformat": 4,
 "nbformat_minor": 2
}
