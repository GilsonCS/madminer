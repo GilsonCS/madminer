{
 "cells": [
  {
   "cell_type": "markdown",
   "metadata": {},
   "source": [
    "# MadMiner particle physics tutorial\n",
    "\n",
    "# Part 2a: Analyzing events at parton level\n",
    "\n",
    "Johann Brehmer, Felix Kling, Irina Espejo, and Kyle Cranmer 2018-2019"
   ]
  },
  {
   "cell_type": "markdown",
   "metadata": {},
   "source": [
    "In this second part of the tutorial, we'll generate events and extract the observables and weights from them. You have two options: In this notebook we'll do this at parton level, in the alternative part 2b we use Delphes."
   ]
  },
  {
   "cell_type": "markdown",
   "metadata": {},
   "source": [
    "## 0. Preparations"
   ]
  },
  {
   "cell_type": "markdown",
   "metadata": {},
   "source": [
    "Before you execute this notebook, make sure you have a running installation of MadGraph."
   ]
  },
  {
   "cell_type": "code",
   "execution_count": 1,
   "metadata": {},
   "outputs": [],
   "source": [
    "from __future__ import absolute_import, division, print_function, unicode_literals\n",
    "\n",
    "import logging\n",
    "import numpy as np\n",
    "import matplotlib\n",
    "from matplotlib import pyplot as plt\n",
    "%matplotlib inline\n",
    "\n",
    "from madminer.core import MadMiner\n",
    "from madminer.lhe import LHEReader\n",
    "from madminer.sampling import combine_and_shuffle\n",
    "from madminer.plotting import plot_distributions\n"
   ]
  },
  {
   "cell_type": "code",
   "execution_count": 2,
   "metadata": {},
   "outputs": [],
   "source": [
    "# MadMiner output\n",
    "logging.basicConfig(\n",
    "    format='%(asctime)-5.5s %(name)-20.20s %(levelname)-7.7s %(message)s',\n",
    "    datefmt='%H:%M',\n",
    "    level=logging.INFO\n",
    ")\n",
    "\n",
    "# Output of all other modules (e.g. matplotlib)\n",
    "for key in logging.Logger.manager.loggerDict:\n",
    "    if \"madminer\" not in key:\n",
    "        logging.getLogger(key).setLevel(logging.WARNING)"
   ]
  },
  {
   "cell_type": "markdown",
   "metadata": {},
   "source": [
    "Please enter here the path to your MG5 root directory:"
   ]
  },
  {
   "cell_type": "code",
   "execution_count": 3,
   "metadata": {},
   "outputs": [],
   "source": [
    "mg_dir = '/Users/johannbrehmer/work/projects/madminer/MG5_aMC_v2_6_2'"
   ]
  },
  {
   "cell_type": "markdown",
   "metadata": {},
   "source": [
    "## 1. Generate events"
   ]
  },
  {
   "cell_type": "markdown",
   "metadata": {},
   "source": [
    "Let's load our setup:"
   ]
  },
  {
   "cell_type": "code",
   "execution_count": 4,
   "metadata": {},
   "outputs": [
    {
     "name": "stderr",
     "output_type": "stream",
     "text": [
      "18:44 madminer.core        INFO    Found 2 parameters:\n",
      "18:44 madminer.core        INFO       CWL2 (LHA: dim6 2, maximal power in squared ME: (2,), range: (-20.0, 20.0))\n",
      "18:44 madminer.core        INFO       CPWL2 (LHA: dim6 5, maximal power in squared ME: (2,), range: (-20.0, 20.0))\n",
      "18:44 madminer.core        INFO    Found 6 benchmarks:\n",
      "18:44 madminer.core        INFO       sm: CWL2 = 0.00e+00, CPWL2 = 0.00e+00\n",
      "18:44 madminer.core        INFO       w: CWL2 = 15.00, CPWL2 = 0.00e+00\n",
      "18:44 madminer.core        INFO       neg_w: CWL2 = -1.50e+01, CPWL2 = 0.00e+00\n",
      "18:44 madminer.core        INFO       ww: CWL2 = 0.00e+00, CPWL2 = 15.00\n",
      "18:44 madminer.core        INFO       neg_ww: CWL2 = 0.00e+00, CPWL2 = -1.50e+01\n",
      "18:44 madminer.core        INFO       morphing_basis_vector_5: CWL2 = -1.37e+01, CPWL2 = 19.49\n",
      "18:44 madminer.core        INFO    Found morphing setup with 6 components\n",
      "18:44 madminer.core        INFO    Did not find systematics setup.\n"
     ]
    }
   ],
   "source": [
    "miner = MadMiner()\n",
    "miner.load(\"data/setup.h5\")"
   ]
  },
  {
   "cell_type": "markdown",
   "metadata": {},
   "source": [
    "In a next step, MadMiner starts MadGraph to generate events and calculate the weights. You can use `run()` or `run_multiple()`; the latter allows to generate different runs with different run cards and optimizing the phase space for different benchmark points. \n",
    "\n",
    "In either case, you have to provide paths to the process card, run card, param card (the entries corresponding to the parameters of interest will be automatically adapted), and an empty reweight card. Log files in the `log_directory` folder collect the MadGraph output and are important for debugging.\n",
    "\n",
    "The `sample_benchmark` (or in the case of `run_all`, `sample_benchmarks`) option can be used to specify which benchmark should be used for sampling, i.e. for which benchmark point the phase space is optimized. If you just use one benchmark, reweighting to far-away points in parameter space can lead to large event weights and thus large statistical fluctuations. It is therefore often a good idea to combine a lot of events at the \"reference hypothesis\" (for us the SM) and smaller samples from other benchmarks that span the parameter space.\n",
    "\n",
    "One slight annoyance is that MadGraph only supports Python 2. The `run()` and `run_multiple()` commands have a keyword `initial_command` that let you load a virtual environment in which `python` maps to Python 2 (which is what we do below). Alternatively / additionally you can set `python2_override=True`, which calls `python2.7` instead of `python` to start MadGraph."
   ]
  },
  {
   "cell_type": "code",
   "execution_count": 22,
   "metadata": {},
   "outputs": [
    {
     "name": "stderr",
     "output_type": "stream",
     "text": [
      "14:01 madminer.utils.inter INFO    Generating MadGraph process folder from cards/proc_card_signal.dat at ./mg_processes/signal1\n",
      "14:01 madminer.core        INFO    Run 0\n",
      "14:01 madminer.core        INFO      Sampling from benchmark: sm\n",
      "14:01 madminer.core        INFO      Original run card:       cards/run_card_signal_large.dat\n",
      "14:01 madminer.core        INFO      Original Pythia8 card:   None\n",
      "14:01 madminer.core        INFO      Copied run card:         /madminer/cards/run_card_0.dat\n",
      "14:01 madminer.core        INFO      Copied Pythia8 card:     None\n",
      "14:01 madminer.core        INFO      Param card:              /madminer/cards/param_card_0.dat\n",
      "14:01 madminer.core        INFO      Reweight card:           /madminer/cards/reweight_card_0.dat\n",
      "14:01 madminer.core        INFO      Log file:                run_0.log\n",
      "14:01 madminer.core        INFO    Creating param and reweight cards in ./mg_processes/signal1//madminer/cards/param_card_0.dat, ./mg_processes/signal1//madminer/cards/reweight_card_0.dat\n",
      "14:01 madminer.utils.inter INFO    Starting MadGraph and Pythia in ./mg_processes/signal1\n",
      "14:06 madminer.core        INFO    Finished running MadGraph! Please check that events were succesfully generated in the following folders:\n",
      "\n",
      "./mg_processes/signal1/Events/run_01\n",
      "\n",
      "\n"
     ]
    }
   ],
   "source": [
    "miner.run(\n",
    "    sample_benchmark='sm',\n",
    "    mg_directory=mg_dir,\n",
    "    mg_process_directory='./mg_processes/signal1',\n",
    "    proc_card_file='cards/proc_card_signal.dat',\n",
    "    param_card_template_file='cards/param_card_template.dat',\n",
    "    run_card_file='cards/run_card_signal_large.dat',\n",
    "    log_directory='logs/signal',\n",
    "    initial_command=\"source activate python2\"\n",
    ")"
   ]
  },
  {
   "cell_type": "code",
   "execution_count": 5,
   "metadata": {},
   "outputs": [],
   "source": [
    "additional_benchmarks = ['w', 'ww', 'neg_w', 'neg_ww']"
   ]
  },
  {
   "cell_type": "code",
   "execution_count": 6,
   "metadata": {},
   "outputs": [
    {
     "name": "stderr",
     "output_type": "stream",
     "text": [
      "13:51 madminer.utils.inter INFO    Generating MadGraph process folder from cards/proc_card_signal.dat at ./mg_processes/signal2\n",
      "13:51 madminer.core        INFO    Run 0\n",
      "13:51 madminer.core        INFO      Sampling from benchmark: w\n",
      "13:51 madminer.core        INFO      Original run card:       cards/run_card_signal_small.dat\n",
      "13:51 madminer.core        INFO      Original Pythia8 card:   None\n",
      "13:51 madminer.core        INFO      Copied run card:         /madminer/cards/run_card_0.dat\n",
      "13:51 madminer.core        INFO      Copied Pythia8 card:     None\n",
      "13:51 madminer.core        INFO      Param card:              /madminer/cards/param_card_0.dat\n",
      "13:51 madminer.core        INFO      Reweight card:           /madminer/cards/reweight_card_0.dat\n",
      "13:51 madminer.core        INFO      Log file:                run_0.log\n",
      "13:51 madminer.core        INFO    Creating param and reweight cards in ./mg_processes/signal2//madminer/cards/param_card_0.dat, ./mg_processes/signal2//madminer/cards/reweight_card_0.dat\n",
      "13:51 madminer.utils.inter INFO    Starting MadGraph and Pythia in ./mg_processes/signal2\n",
      "13:52 madminer.core        INFO    Run 1\n",
      "13:52 madminer.core        INFO      Sampling from benchmark: ww\n",
      "13:52 madminer.core        INFO      Original run card:       cards/run_card_signal_small.dat\n",
      "13:52 madminer.core        INFO      Original Pythia8 card:   None\n",
      "13:52 madminer.core        INFO      Copied run card:         /madminer/cards/run_card_1.dat\n",
      "13:52 madminer.core        INFO      Copied Pythia8 card:     None\n",
      "13:52 madminer.core        INFO      Param card:              /madminer/cards/param_card_1.dat\n",
      "13:52 madminer.core        INFO      Reweight card:           /madminer/cards/reweight_card_1.dat\n",
      "13:52 madminer.core        INFO      Log file:                run_1.log\n",
      "13:52 madminer.core        INFO    Creating param and reweight cards in ./mg_processes/signal2//madminer/cards/param_card_1.dat, ./mg_processes/signal2//madminer/cards/reweight_card_1.dat\n",
      "13:52 madminer.utils.inter INFO    Starting MadGraph and Pythia in ./mg_processes/signal2\n",
      "13:53 madminer.core        INFO    Run 2\n",
      "13:53 madminer.core        INFO      Sampling from benchmark: neg_w\n",
      "13:53 madminer.core        INFO      Original run card:       cards/run_card_signal_small.dat\n",
      "13:53 madminer.core        INFO      Original Pythia8 card:   None\n",
      "13:53 madminer.core        INFO      Copied run card:         /madminer/cards/run_card_2.dat\n",
      "13:53 madminer.core        INFO      Copied Pythia8 card:     None\n",
      "13:53 madminer.core        INFO      Param card:              /madminer/cards/param_card_2.dat\n",
      "13:53 madminer.core        INFO      Reweight card:           /madminer/cards/reweight_card_2.dat\n",
      "13:53 madminer.core        INFO      Log file:                run_2.log\n",
      "13:53 madminer.core        INFO    Creating param and reweight cards in ./mg_processes/signal2//madminer/cards/param_card_2.dat, ./mg_processes/signal2//madminer/cards/reweight_card_2.dat\n",
      "13:53 madminer.utils.inter INFO    Starting MadGraph and Pythia in ./mg_processes/signal2\n",
      "13:55 madminer.core        INFO    Run 3\n",
      "13:55 madminer.core        INFO      Sampling from benchmark: neg_ww\n",
      "13:55 madminer.core        INFO      Original run card:       cards/run_card_signal_small.dat\n",
      "13:55 madminer.core        INFO      Original Pythia8 card:   None\n",
      "13:55 madminer.core        INFO      Copied run card:         /madminer/cards/run_card_3.dat\n",
      "13:55 madminer.core        INFO      Copied Pythia8 card:     None\n",
      "13:55 madminer.core        INFO      Param card:              /madminer/cards/param_card_3.dat\n",
      "13:55 madminer.core        INFO      Reweight card:           /madminer/cards/reweight_card_3.dat\n",
      "13:55 madminer.core        INFO      Log file:                run_3.log\n",
      "13:55 madminer.core        INFO    Creating param and reweight cards in ./mg_processes/signal2//madminer/cards/param_card_3.dat, ./mg_processes/signal2//madminer/cards/reweight_card_3.dat\n",
      "13:55 madminer.utils.inter INFO    Starting MadGraph and Pythia in ./mg_processes/signal2\n",
      "13:56 madminer.core        INFO    Finished running MadGraph! Please check that events were succesfully generated in the following folders:\n",
      "\n",
      "./mg_processes/signal2/Events/run_01\n",
      "./mg_processes/signal2/Events/run_02\n",
      "./mg_processes/signal2/Events/run_03\n",
      "./mg_processes/signal2/Events/run_04\n",
      "\n",
      "\n"
     ]
    }
   ],
   "source": [
    "miner.run_multiple(\n",
    "    sample_benchmarks=additional_benchmarks,\n",
    "    mg_directory=mg_dir,\n",
    "    mg_process_directory='./mg_processes/signal2',\n",
    "    proc_card_file='cards/proc_card_signal.dat',\n",
    "    param_card_template_file='cards/param_card_template.dat',\n",
    "    run_card_files=['cards/run_card_signal_small.dat'],\n",
    "    log_directory='logs/signal',\n",
    "    initial_command=\"source activate python2\"\n",
    ")"
   ]
  },
  {
   "cell_type": "markdown",
   "metadata": {},
   "source": [
    "This will take a moment -- time for a coffee break!\n",
    "\n",
    "After running any event generation through MadMiner, you should check whether the run succeeded: are the usual output files there, do the log files show any error messages? MadMiner does not (yet) perform any explicit checks, and if something went wrong in the event generation, it will only notice later when trying to load the event files."
   ]
  },
  {
   "cell_type": "markdown",
   "metadata": {},
   "source": [
    "### Backgrounds"
   ]
  },
  {
   "cell_type": "markdown",
   "metadata": {},
   "source": [
    "We can also easily add other processes like backgrounds. An important option is the `is_background` keyword, which should be used for processes that do *not* depend on the parameters theta. `is_background=True` will disable the reweighting and re-use the same weights for all cross sections.\n",
    "\n",
    "To reduce the runtime of the notebook, the background part is commented out here. Feel free to activate it and let it run during a lunch break."
   ]
  },
  {
   "cell_type": "code",
   "execution_count": 6,
   "metadata": {},
   "outputs": [
    {
     "data": {
      "text/plain": [
       "u\"\\nminer.run(\\n    is_background=True,\\n    sample_benchmark='sm',\\n    mg_directory=mg_dir,\\n    mg_process_directory='./mg_processes/background',\\n    proc_card_file='cards/proc_card_background.dat',\\n    param_card_template_file='cards/param_card_template.dat',\\n    run_card_file='cards/run_card_background.dat',\\n    log_directory='logs/background',\\n)\\n\""
      ]
     },
     "execution_count": 6,
     "metadata": {},
     "output_type": "execute_result"
    }
   ],
   "source": [
    "\"\"\"\n",
    "miner.run(\n",
    "    is_background=True,\n",
    "    sample_benchmark='sm',\n",
    "    mg_directory=mg_dir,\n",
    "    mg_process_directory='./mg_processes/background',\n",
    "    proc_card_file='cards/proc_card_background.dat',\n",
    "    param_card_template_file='cards/param_card_template.dat',\n",
    "    run_card_file='cards/run_card_background.dat',\n",
    "    log_directory='logs/background',\n",
    ")\n",
    "\"\"\""
   ]
  },
  {
   "cell_type": "markdown",
   "metadata": {},
   "source": [
    "Finally, note that both `MadMiner.run()` and `MadMiner.run_multiple()` have a `only_create_script` keyword. If that is set to True, MadMiner will not start the event generation directly, but prepare folders with all the right settings and ready-to-run bash scripts. This might make it much easier to generate Events on a high-performance computing system. "
   ]
  },
  {
   "cell_type": "markdown",
   "metadata": {},
   "source": [
    "## 2. Prepare analysis of the LHE samples"
   ]
  },
  {
   "cell_type": "markdown",
   "metadata": {},
   "source": [
    "The `madminer.lhe` submodule allows us to extract observables directly from the parton-level LHE samples, including an approximate description of the detector response with smearing functions. The central object is an instance of the `LHEProcessor` class, which has to be initialized with a MadMiner file:"
   ]
  },
  {
   "cell_type": "code",
   "execution_count": 13,
   "metadata": {},
   "outputs": [],
   "source": [
    "lhe = LHEReader('data/setup.h5')"
   ]
  },
  {
   "cell_type": "markdown",
   "metadata": {},
   "source": [
    "After creating the `LHEReader` object, one can add a number of event samples (the output of running MadGraph in step 1) with the `add_sample()` function.\n",
    "\n",
    "In addition, you have to provide the information which sample was generated from which benchmark with the `sampled_from_benchmark` keyword, and set `is_background=True` for all background samples."
   ]
  },
  {
   "cell_type": "code",
   "execution_count": 14,
   "metadata": {
    "scrolled": false
   },
   "outputs": [
    {
     "data": {
      "text/plain": [
       "\"\\nlhe.add_sample(\\n    lhe_filename='mg_processes/background/Events/run_01/unweighted_events.lhe.gz',\\n    sampled_from_benchmark='sm',\\n    is_background=True,\\n    k_factor=1.0,\\n\""
      ]
     },
     "execution_count": 14,
     "metadata": {},
     "output_type": "execute_result"
    }
   ],
   "source": [
    "lhe.add_sample(\n",
    "    lhe_filename='mg_processes/signal1/Events/run_01/unweighted_events.lhe.gz',\n",
    "    sampled_from_benchmark='sm',\n",
    "    is_background=False,\n",
    "    k_factor=1.,\n",
    ")\n",
    "for i, benchmark in enumerate(additional_benchmarks):\n",
    "    lhe.add_sample(\n",
    "        lhe_filename='mg_processes/signal2/Events/run_0{}/unweighted_events.lhe.gz'.format(i+1),\n",
    "        sampled_from_benchmark=benchmark,\n",
    "        is_background=False,\n",
    "        k_factor=1.,\n",
    "    )\n",
    "\n",
    "\"\"\"\n",
    "lhe.add_sample(\n",
    "    lhe_filename='mg_processes/background/Events/run_01/unweighted_events.lhe.gz',\n",
    "    sampled_from_benchmark='sm',\n",
    "    is_background=True,\n",
    "    k_factor=1.0,\n",
    "\"\"\"\n"
   ]
  },
  {
   "cell_type": "markdown",
   "metadata": {},
   "source": [
    "## 3. Smearing functions to model the detector response"
   ]
  },
  {
   "cell_type": "markdown",
   "metadata": {},
   "source": [
    "Now we have to define the smearing functions that are used (in lieu of a proper shower and detector simulation). Here we will assume a simple 10% uncertainty on the jet energy measurements and a $\\pm 0.1$ smearing for jet $\\eta$ and $\\phi$. The transverse momenta of the jets are then derived from the smeared energy and the on-shell condition for the quarks (this is what `pt_resolution_abs=None` does). The photons from the Higgs are assumed to be measured perfectly (otherwise we'd have to call `set_smearing` another time with `pdgis=[22]`)."
   ]
  },
  {
   "cell_type": "code",
   "execution_count": 15,
   "metadata": {},
   "outputs": [],
   "source": [
    "lhe.set_smearing(\n",
    "    pdgids=[1,2,3,4,5,6,9,22,-1,-2,-3,-4,-5,-6],   # Partons giving rise to jets\n",
    "    energy_resolution_abs=0.,\n",
    "    energy_resolution_rel=0.1,\n",
    "    pt_resolution_abs=None,\n",
    "    pt_resolution_rel=None,\n",
    "    eta_resolution_abs=0.1,\n",
    "    eta_resolution_rel=0.,\n",
    "    phi_resolution_abs=0.1,\n",
    "    phi_resolution_rel=0.,\n",
    ")"
   ]
  },
  {
   "cell_type": "markdown",
   "metadata": {},
   "source": [
    "In addition, we can define noise that only affects MET. This adds Gaussian noise with mean 0 and std `abs + rel * HT` to MET_x and MET_y separately."
   ]
  },
  {
   "cell_type": "code",
   "execution_count": 16,
   "metadata": {},
   "outputs": [],
   "source": [
    "lhe.set_met_noise(abs=10., rel=0.05)"
   ]
  },
  {
   "cell_type": "markdown",
   "metadata": {},
   "source": [
    "## 4. Observables and cuts"
   ]
  },
  {
   "cell_type": "markdown",
   "metadata": {},
   "source": [
    "The next step is the definition of observables, either through a Python function or an expression that can be evaluated. Here we demonstrate the latter, which is implemented in `add_observable()`. In the expression string, you can use the terms `j[i]`, `e[i]`, `mu[i]`, `a[i]`, `met`, where the indices `i` refer to a ordering by the transverse momentum. In addition, you can use `p[i]`, which denotes the `i`-th particle in the order given in the LHE sample (which is the order in which the final-state particles where defined in MadGraph).\n",
    "\n",
    "All of these represent objects inheriting from scikit-hep [LorentzVectors](http://scikit-hep.org/api/math.html#vector-classes), see the link for a documentation of their properties. In addition, they have `charge` and `pdg_id` properties.\n",
    "\n",
    "`add_observable()` has an optional keyword `required`. If `required=True`, we will only keep events where the observable can be parsed, i.e. all involved particles have been detected. If `required=False`, un-parseable observables will be filled with the value of another keyword `default`.\n",
    "\n",
    "In a realistic project, you would want to add a large number of observables that capture all information in your events. Here we will just define two observables, the transverse momentum of the leading (= higher-pT) jet, and the azimuthal angle between the two leading jets."
   ]
  },
  {
   "cell_type": "code",
   "execution_count": 17,
   "metadata": {},
   "outputs": [],
   "source": [
    "lhe.add_observable(\n",
    "    'pt_j1',\n",
    "    'j[0].pt',\n",
    "    required=False,\n",
    "    default=0.,\n",
    ")\n",
    "lhe.add_observable(\n",
    "    'delta_phi_jj',\n",
    "    'j[0].deltaphi(j[1]) * (-1. + 2.*float(j[0].eta > j[1].eta))',\n",
    "    required=True,\n",
    ")\n",
    "lhe.add_observable(\n",
    "    'met',\n",
    "    'met.pt',\n",
    "    required=True,\n",
    ")"
   ]
  },
  {
   "cell_type": "markdown",
   "metadata": {},
   "source": [
    "We can also add cuts, again in parse-able strings. In addition to the objects discussed above, they can contain the observables:"
   ]
  },
  {
   "cell_type": "code",
   "execution_count": 18,
   "metadata": {},
   "outputs": [],
   "source": [
    "lhe.add_cut('(a[0] + a[1]).m > 122.')\n",
    "lhe.add_cut('(a[0] + a[1]).m < 128.')\n",
    "lhe.add_cut('pt_j1 > 20.')"
   ]
  },
  {
   "cell_type": "markdown",
   "metadata": {},
   "source": [
    "## 5. Run analysis and store processes events"
   ]
  },
  {
   "cell_type": "markdown",
   "metadata": {},
   "source": [
    "The function `analyse_samples` then calculates all observables from the LHE file(s) generated before, applies the smearing, and checks which events pass the cuts:"
   ]
  },
  {
   "cell_type": "code",
   "execution_count": 19,
   "metadata": {
    "scrolled": true
   },
   "outputs": [
    {
     "name": "stderr",
     "output_type": "stream",
     "text": [
      "18:46 madminer.lhe         INFO    Analysing LHE sample mg_processes/signal1/Events/run_01/unweighted_events.lhe.gz\n",
      "18:46 madminer.utils.inter INFO      9820 events pass all cuts/efficiencies\n",
      "18:46 madminer.lhe         INFO    Analysing LHE sample mg_processes/signal2/Events/run_01/unweighted_events.lhe.gz\n",
      "18:47 madminer.utils.inter INFO      1064 events pass all cuts/efficiencies\n",
      "18:47 madminer.lhe         INFO    Analysing LHE sample mg_processes/signal2/Events/run_02/unweighted_events.lhe.gz\n",
      "18:47 madminer.utils.inter INFO      1423 events pass all cuts/efficiencies\n",
      "18:47 madminer.lhe         INFO    Analysing LHE sample mg_processes/signal2/Events/run_03/unweighted_events.lhe.gz\n",
      "18:47 madminer.utils.inter INFO      1197 events pass all cuts/efficiencies\n",
      "18:47 madminer.lhe         INFO    Analysing LHE sample mg_processes/signal2/Events/run_04/unweighted_events.lhe.gz\n",
      "18:47 madminer.utils.inter INFO      1359 events pass all cuts/efficiencies\n",
      "18:47 madminer.lhe         INFO    Analysed number of events per sampling benchmark:\n",
      "18:47 madminer.lhe         INFO      9820 from sm\n",
      "18:47 madminer.lhe         INFO      1064 from w\n",
      "18:47 madminer.lhe         INFO      1197 from neg_w\n",
      "18:47 madminer.lhe         INFO      1423 from ww\n",
      "18:47 madminer.lhe         INFO      1359 from neg_ww\n"
     ]
    }
   ],
   "source": [
    "lhe.analyse_samples()"
   ]
  },
  {
   "cell_type": "markdown",
   "metadata": {},
   "source": [
    "The values of the observables and the weights are then saved in the HDF5 file. It is possible to overwrite the same file, or to leave the original file intact and save all the data into a new file as follows:"
   ]
  },
  {
   "cell_type": "code",
   "execution_count": 20,
   "metadata": {},
   "outputs": [],
   "source": [
    "lhe.save('data/lhe_data.h5')"
   ]
  },
  {
   "cell_type": "markdown",
   "metadata": {},
   "source": [
    "## 6. Plot distributions"
   ]
  },
  {
   "cell_type": "markdown",
   "metadata": {},
   "source": [
    "Let's see what our MC run produced:"
   ]
  },
  {
   "cell_type": "code",
   "execution_count": 21,
   "metadata": {},
   "outputs": [
    {
     "name": "stderr",
     "output_type": "stream",
     "text": [
      "18:47 madminer.analysis    INFO    Loading data from data/lhe_data.h5\n",
      "18:47 madminer.analysis    INFO    Found 2 parameters\n",
      "18:47 madminer.analysis    INFO    Did not find nuisance parameters\n",
      "18:47 madminer.analysis    INFO    Found 6 benchmarks, of which 6 physical\n",
      "18:47 madminer.analysis    INFO    Found 3 observables\n",
      "18:47 madminer.analysis    INFO    Found 14863 events\n",
      "18:47 madminer.analysis    INFO      9820 generated from sm\n",
      "18:47 madminer.analysis    INFO      1064 generated from w\n",
      "18:47 madminer.analysis    INFO      1197 generated from neg_w\n",
      "18:47 madminer.analysis    INFO      1423 generated from ww\n",
      "18:47 madminer.analysis    INFO      1359 generated from neg_ww\n",
      "18:47 madminer.analysis    INFO    Found morphing setup with 6 components\n",
      "18:47 madminer.analysis    INFO    Did not find nuisance morphing setup\n"
     ]
    },
    {
     "data": {
      "image/png": "[encoded data removed]",
      "text/plain": [
       "<Figure size 864x288 with 3 Axes>"
      ]
     },
     "metadata": {
      "needs_background": "light"
     },
     "output_type": "display_data"
    }
   ],
   "source": [
    "_ = plot_distributions(\n",
    "    filename='data/lhe_data.h5',\n",
    "    parameter_points=['sm', np.array([10.,0.])],\n",
    "    line_labels=['SM', 'BSM'],\n",
    "    uncertainties='none',\n",
    "    n_bins=20,\n",
    "    n_cols=3,\n",
    "    normalize=True,\n",
    "    sample_only_from_closest_benchmark=True\n",
    ")"
   ]
  },
  {
   "cell_type": "markdown",
   "metadata": {},
   "source": [
    "## 7. Combine and shuffle different samples"
   ]
  },
  {
   "cell_type": "markdown",
   "metadata": {},
   "source": [
    "To reduce disk usage, you can generate several small event samples with the steps given above, and combine them now. Note that (for now) it is essential that all of them are generated with the same setup, including the same benchmark points / morphing basis!\n",
    "\n",
    "This is generally good practice even if you use just one sample, since the events might have some inherent ordering (e.g. from sampling from different hypotheses). Later when we split the events into a training and test fraction, such an ordering could cause problems."
   ]
  },
  {
   "cell_type": "code",
   "execution_count": 33,
   "metadata": {},
   "outputs": [
    {
     "name": "stderr",
     "output_type": "stream",
     "text": [
      "14:08 madminer.sampling    INFO    Copying setup from data/lhe_data.h5 to data/lhe_data_shuffled.h5\n",
      "14:08 madminer.sampling    INFO    Loading samples from file 1 / 1 at data/lhe_data.h5, multiplying weights with k factor 1.0\n"
     ]
    }
   ],
   "source": [
    "combine_and_shuffle(\n",
    "    ['data/lhe_data.h5'],\n",
    "    'data/lhe_data_shuffled.h5'\n",
    ")"
   ]
  },
  {
   "cell_type": "code",
   "execution_count": null,
   "metadata": {},
   "outputs": [],
   "source": []
  }
 ],
 "metadata": {
  "kernelspec": {
   "display_name": "Python (higgs_inference)",
   "language": "python",
   "name": "higgs_inference"
  },
  "language_info": {
   "codemirror_mode": {
    "name": "ipython",
    "version": 3
   },
   "file_extension": ".py",
   "mimetype": "text/x-python",
   "name": "python",
   "nbconvert_exporter": "python",
   "pygments_lexer": "ipython3",
   "version": "3.6.7"
  }
 },
 "nbformat": 4,
 "nbformat_minor": 2
}
