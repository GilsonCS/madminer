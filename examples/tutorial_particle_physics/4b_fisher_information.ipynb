{
 "cells": [
  {
   "cell_type": "markdown",
   "metadata": {},
   "source": [
    "# MadMiner particle physics tutorial\n",
    "\n",
    "# Part 4b: The Fisher information\n",
    "\n",
    "Johann Brehmer, Felix Kling, Irina Espejo, and Kyle Cranmer 2018-2019"
   ]
  },
  {
   "cell_type": "markdown",
   "metadata": {},
   "source": [
    "## 0. Preparations"
   ]
  },
  {
   "cell_type": "code",
   "execution_count": 1,
   "metadata": {},
   "outputs": [],
   "source": [
    "from __future__ import absolute_import, division, print_function, unicode_literals\n",
    "\n",
    "import six\n",
    "import logging\n",
    "import numpy as np\n",
    "import matplotlib\n",
    "from matplotlib import pyplot as plt\n",
    "%matplotlib inline\n",
    "\n",
    "from madminer.fisherinformation import FisherInformation\n",
    "from madminer.plotting import plot_fisher_information_contours_2d\n"
   ]
  },
  {
   "cell_type": "code",
   "execution_count": 2,
   "metadata": {},
   "outputs": [],
   "source": [
    "# MadMiner output\n",
    "logging.basicConfig(\n",
    "    format='%(asctime)-5.5s %(name)-20.20s %(levelname)-7.7s %(message)s',\n",
    "    datefmt='%H:%M',\n",
    "    level=logging.INFO\n",
    ")\n",
    "\n",
    "# Output of all other modules (e.g. matplotlib)\n",
    "for key in logging.Logger.manager.loggerDict:\n",
    "    if \"madminer\" not in key:\n",
    "        logging.getLogger(key).setLevel(logging.WARNING)"
   ]
  },
  {
   "cell_type": "markdown",
   "metadata": {},
   "source": [
    "## 1. Calculating the Fisher information"
   ]
  },
  {
   "cell_type": "markdown",
   "metadata": {},
   "source": [
    "We can use SALLY estimators (see part 3b of this tutorial) not just to define optimal observables, but also to calculate the (expected) Fisher information in a process. In `madminer.fisherinformation` we provide the `FisherInformation` class that makes this more convenient."
   ]
  },
  {
   "cell_type": "code",
   "execution_count": 3,
   "metadata": {},
   "outputs": [
    {
     "name": "stderr",
     "output_type": "stream",
     "text": [
      "11:10 madminer.analysis    INFO    Loading data from data/lhe_data_shuffled.h5\n",
      "11:10 madminer.analysis    INFO    Found 2 parameters\n",
      "11:10 madminer.analysis    INFO    Did not find nuisance parameters\n",
      "11:10 madminer.analysis    INFO    Found 6 benchmarks, of which 6 physical\n",
      "11:10 madminer.analysis    INFO    Found 3 observables\n",
      "11:10 madminer.analysis    INFO    Found 15030 events\n",
      "11:10 madminer.analysis    INFO    Found morphing setup with 6 components\n",
      "11:10 madminer.analysis    INFO    Did not find nuisance morphing setup\n"
     ]
    }
   ],
   "source": [
    "fisher = FisherInformation('data/lhe_data_shuffled.h5')\n",
    "# fisher = FisherInformation('data/delphes_data_shuffled.h5')"
   ]
  },
  {
   "cell_type": "markdown",
   "metadata": {},
   "source": [
    "This class provides different functions:\n",
    "- `calculate_fisher_information_rate()` calculates the Fisher information in total rates,\n",
    "- `calculate_fisher_information_hist1d()` calculates the Fisher information in 1D histograms,\n",
    "- `calculate_fisher_information_hist2d()` calculates the Fisher information in 2D histograms,\n",
    "- `calculate_fisher_information_full_detector()` calculates the full detector-level Fisher information using a SALLY estimator, and\n",
    "- `calculate_fisher_information_full_truth()` calculates the truth-level Fisher information.\n",
    "\n",
    "Here we use the SALLY approach:"
   ]
  },
  {
   "cell_type": "code",
   "execution_count": 4,
   "metadata": {},
   "outputs": [
    {
     "name": "stderr",
     "output_type": "stream",
     "text": [
      "11:10 madminer.fisherinfor INFO    Found 2 parameters in SALLY model, matching 2 physical parameters in MadMiner file\n",
      "11:10 madminer.fisherinfor INFO    Evaluating rate Fisher information\n",
      "11:10 madminer.fisherinfor INFO    Evaluating kinematic Fisher information on batch 1 / 1\n"
     ]
    },
    {
     "name": "stdout",
     "output_type": "stream",
     "text": [
      "Fisher information after 30 ifb:\n",
      "[[9.64206944 0.68312743]\n",
      " [0.68312743 8.25388798]]\n"
     ]
    }
   ],
   "source": [
    "fisher_information, _ = fisher.calculate_fisher_information_full_detector(\n",
    "    theta=[0.,0.],\n",
    "    model_file='models/sally',\n",
    "    luminosity=30000.,\n",
    ")\n",
    "\n",
    "print('Fisher information after 30 ifb:\\n{}'.format(fisher_information))"
   ]
  },
  {
   "cell_type": "markdown",
   "metadata": {},
   "source": [
    "For comparison, we can calculate the Fisher information in the histogram of observables:"
   ]
  },
  {
   "cell_type": "code",
   "execution_count": 5,
   "metadata": {},
   "outputs": [
    {
     "name": "stderr",
     "output_type": "stream",
     "text": [
      "11:10 madminer.fisherinfor INFO    Bins with largest statistical uncertainties on rates:\n",
      "11:10 madminer.fisherinfor INFO      Bin 1: (0.0085 +/- 0.0031) fb (36.4223 %)\n",
      "11:10 madminer.fisherinfor INFO      Bin 3: (0.3612 +/- 0.0471) fb (13.0365 %)\n",
      "11:10 madminer.fisherinfor INFO      Bin 5: (0.0030 +/- 0.0003) fb (10.7680 %)\n",
      "11:10 madminer.fisherinfor INFO      Bin 2: (0.6017 +/- 0.0508) fb (8.4371 %)\n",
      "11:10 madminer.fisherinfor INFO      Bin 4: (0.0520 +/- 0.0028) fb (5.3161 %)\n"
     ]
    },
    {
     "name": "stdout",
     "output_type": "stream",
     "text": [
      "Histogram Fisher information after 30 ifb:\n",
      "[[6.45101184e+00 3.22227641e-02]\n",
      " [3.22227641e-02 5.14855738e-03]]\n"
     ]
    }
   ],
   "source": [
    "info_histo_1d, cov_histo_1d = fisher.calculate_fisher_information_hist1d(\n",
    "    theta=[0.,0.],\n",
    "    luminosity=30000.,\n",
    "    observable=\"pt_j1\",\n",
    "    bins=[30.,100.,200.,400.],\n",
    "    histrange=[30.,400.],\n",
    ")\n",
    "\n",
    "print('Histogram Fisher information after 30 ifb:\\n{}'.format(info_histo_1d))"
   ]
  },
  {
   "cell_type": "markdown",
   "metadata": {},
   "source": [
    "We can do the same thing in 2D:"
   ]
  },
  {
   "cell_type": "code",
   "execution_count": 6,
   "metadata": {},
   "outputs": [
    {
     "name": "stderr",
     "output_type": "stream",
     "text": [
      "11:10 madminer.fisherinfor INFO    Bins with largest statistical uncertainties on rates:\n",
      "11:10 madminer.fisherinfor INFO      Bin (1, 2): (0.0033 +/- 0.0026) fb (78.0906 %)\n",
      "11:10 madminer.fisherinfor INFO      Bin (6, 5): (0.0005 +/- 0.0002) fb (50.9767 %)\n",
      "11:10 madminer.fisherinfor INFO      Bin (4, 3): (0.0831 +/- 0.0380) fb (45.7958 %)\n",
      "11:10 madminer.fisherinfor INFO      Bin (1, 1): (0.0041 +/- 0.0017) fb (40.8387 %)\n",
      "11:10 madminer.fisherinfor INFO      Bin (1, 4): (0.0003 +/- 0.0001) fb (26.7261 %)\n"
     ]
    },
    {
     "name": "stdout",
     "output_type": "stream",
     "text": [
      "Histogram Fisher information after 30 ifb:\n",
      "[[7.20570573 0.33434335]\n",
      " [0.33434335 6.21207077]]\n"
     ]
    },
    {
     "name": "stderr",
     "output_type": "stream",
     "text": [
      "/Users/johannbrehmer/work/projects/madminer/madminer/madminer/fisherinformation.py:1063: RuntimeWarning: divide by zero encountered in true_divide\n",
      "  inv_sigma = sanitize_array(1.0 / sigma)  # Shape (n_events,)\n"
     ]
    }
   ],
   "source": [
    "info_histo_2d, cov_histo_2d = fisher.calculate_fisher_information_hist2d(\n",
    "    theta=[0.,0.],\n",
    "    luminosity=30000.,\n",
    "    observable1=\"pt_j1\",\n",
    "    bins1=[30.,100.,200.,400.],\n",
    "    histrange1=[30.,400.],\n",
    "    observable2=\"delta_phi_jj\",\n",
    "    bins2=5,\n",
    "    histrange2=[0.,6.2],\n",
    ")\n",
    "\n",
    "print('Histogram Fisher information after 30 ifb:\\n{}'.format(info_histo_2d))"
   ]
  },
  {
   "cell_type": "markdown",
   "metadata": {},
   "source": [
    "## 2. Plot Fisher distances"
   ]
  },
  {
   "cell_type": "markdown",
   "metadata": {},
   "source": [
    "We also provide a convenience function to plot contours of constant Fisher distance `d^2(theta, theta_ref) = I_ij(theta_ref) * (theta-theta_ref)_i * (theta-theta_ref)_j`:"
   ]
  },
  {
   "cell_type": "code",
   "execution_count": 15,
   "metadata": {},
   "outputs": [],
   "source": [
    "plot_fisher_information_contours_2d?"
   ]
  },
  {
   "cell_type": "code",
   "execution_count": 17,
   "metadata": {},
   "outputs": [
    {
     "data": {
      "image/png": "[encoded data removed]",
      "text/plain": [
       "<Figure size 360x360 with 1 Axes>"
      ]
     },
     "metadata": {
      "needs_background": "light"
     },
     "output_type": "display_data"
    }
   ],
   "source": [
    "_ = plot_fisher_information_contours_2d(\n",
    "    [fisher_information, info_histo_1d, info_histo_2d],\n",
    "    [None, cov_histo_1d, cov_histo_2d],\n",
    "    inline_labels=[\"SALLY\", \"1d\", \"2d\"],\n",
    "    xrange=(-0.6,0.6),\n",
    "    yrange=(-0.6,0.6)\n",
    ")"
   ]
  },
  {
   "cell_type": "code",
   "execution_count": null,
   "metadata": {},
   "outputs": [],
   "source": []
  }
 ],
 "metadata": {
  "kernelspec": {
   "display_name": "Python 2",
   "language": "python",
   "name": "python2"
  },
  "language_info": {
   "codemirror_mode": {
    "name": "ipython",
    "version": 2
   },
   "file_extension": ".py",
   "mimetype": "text/x-python",
   "name": "python",
   "nbconvert_exporter": "python",
   "pygments_lexer": "ipython2",
   "version": "2.7.15"
  }
 },
 "nbformat": 4,
 "nbformat_minor": 2
}
