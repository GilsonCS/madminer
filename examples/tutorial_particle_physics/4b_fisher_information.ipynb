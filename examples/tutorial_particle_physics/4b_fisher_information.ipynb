{
 "cells": [
  {
   "cell_type": "markdown",
   "metadata": {},
   "source": [
    "# MadMiner particle physics tutorial\n",
    "\n",
    "# Part 4b: The Fisher information\n",
    "\n",
    "Johann Brehmer, Felix Kling, Irina Espejo, and Kyle Cranmer 2018-2019"
   ]
  },
  {
   "cell_type": "markdown",
   "metadata": {},
   "source": [
    "## 0. Preparations"
   ]
  },
  {
   "cell_type": "code",
   "execution_count": 1,
   "metadata": {},
   "outputs": [],
   "source": [
    "from __future__ import absolute_import, division, print_function, unicode_literals\n",
    "\n",
    "import six\n",
    "import logging\n",
    "import numpy as np\n",
    "import matplotlib\n",
    "from matplotlib import pyplot as plt\n",
    "%matplotlib inline\n",
    "\n",
    "from madminer.fisherinformation import FisherInformation\n",
    "from madminer.plotting import plot_fisher_information_contours_2d\n"
   ]
  },
  {
   "cell_type": "code",
   "execution_count": 2,
   "metadata": {},
   "outputs": [],
   "source": [
    "# MadMiner output\n",
    "logging.basicConfig(\n",
    "    format='%(asctime)-5.5s %(name)-20.20s %(levelname)-7.7s %(message)s',\n",
    "    datefmt='%H:%M',\n",
    "    level=logging.INFO\n",
    ")\n",
    "\n",
    "# Output of all other modules (e.g. matplotlib)\n",
    "for key in logging.Logger.manager.loggerDict:\n",
    "    if \"madminer\" not in key:\n",
    "        logging.getLogger(key).setLevel(logging.WARNING)"
   ]
  },
  {
   "cell_type": "markdown",
   "metadata": {},
   "source": [
    "## 1. Calculating the Fisher information"
   ]
  },
  {
   "cell_type": "markdown",
   "metadata": {},
   "source": [
    "We can use SALLY estimators (see part 3b of this tutorial) not just to define optimal observables, but also to calculate the (expected) Fisher information in a process. In `madminer.fisherinformation` we provide the `FisherInformation` class that makes this more convenient."
   ]
  },
  {
   "cell_type": "code",
   "execution_count": 3,
   "metadata": {},
   "outputs": [
    {
     "name": "stderr",
     "output_type": "stream",
     "text": [
      "15:06 madminer.analysis    INFO    Loading data from data/lhe_data_shuffled.h5\n",
      "15:06 madminer.analysis    INFO    Found 2 parameters\n",
      "15:06 madminer.analysis    INFO    Did not find nuisance parameters\n",
      "15:06 madminer.analysis    INFO    Found 6 benchmarks, of which 6 physical\n",
      "15:06 madminer.analysis    INFO    Found 3 observables\n",
      "15:06 madminer.analysis    INFO    Found 15117 events\n",
      "15:06 madminer.analysis    INFO      10004 signal events sampled from benchmark sm\n",
      "15:06 madminer.analysis    INFO      1080 signal events sampled from benchmark w\n",
      "15:06 madminer.analysis    INFO      1207 signal events sampled from benchmark neg_w\n",
      "15:06 madminer.analysis    INFO      1399 signal events sampled from benchmark ww\n",
      "15:06 madminer.analysis    INFO      1427 signal events sampled from benchmark neg_ww\n",
      "15:06 madminer.analysis    INFO    Found morphing setup with 6 components\n",
      "15:06 madminer.analysis    INFO    Did not find nuisance morphing setup\n"
     ]
    }
   ],
   "source": [
    "fisher = FisherInformation('data/lhe_data_shuffled.h5')\n",
    "# fisher = FisherInformation('data/delphes_data_shuffled.h5')"
   ]
  },
  {
   "cell_type": "markdown",
   "metadata": {},
   "source": [
    "This class provides different functions:\n",
    "- `rate_information()` calculates the Fisher information in total rates,\n",
    "- `histo_information()` calculates the Fisher information in 1D histograms,\n",
    "- `histo_information_2d()` calculates the Fisher information in 2D histograms,\n",
    "- `full_information()` calculates the full detector-level Fisher information using a SALLY estimator, and\n",
    "- `truth_information()` calculates the truth-level Fisher information.\n",
    "\n",
    "Here we use the SALLY approach:"
   ]
  },
  {
   "cell_type": "code",
   "execution_count": 8,
   "metadata": {},
   "outputs": [
    {
     "name": "stderr",
     "output_type": "stream",
     "text": [
      "15:06 madminer.fisherinfor INFO    Found 2 parameters in SALLY model, matching 2 physical parameters in MadMiner file\n",
      "15:06 madminer.fisherinfor INFO    Evaluating rate Fisher information\n",
      "15:07 madminer.fisherinfor INFO    Evaluating kinematic Fisher information on batch 1 / 1\n"
     ]
    },
    {
     "name": "stdout",
     "output_type": "stream",
     "text": [
      "Fisher information after 30 ifb:\n",
      "[[1.68106271 0.31712457]\n",
      " [0.31712457 1.55818051]]\n"
     ]
    }
   ],
   "source": [
    "fisher_information, _ = fisher.full_information(\n",
    "    theta=[0.,0.],\n",
    "    model_file='models/sally',\n",
    "    luminosity=30000.,\n",
    ")\n",
    "\n",
    "print('Fisher information after 30 ifb:\\n{}'.format(fisher_information))"
   ]
  },
  {
   "cell_type": "markdown",
   "metadata": {},
   "source": [
    "For comparison, we can calculate the Fisher information in the histogram of observables:"
   ]
  },
  {
   "cell_type": "code",
   "execution_count": 9,
   "metadata": {},
   "outputs": [
    {
     "name": "stderr",
     "output_type": "stream",
     "text": [
      "15:07 madminer.fisherinfor INFO    Bins with largest statistical uncertainties on rates:\n",
      "15:07 madminer.fisherinfor INFO      Bin 1: (0.00351 +/- 0.00063) fb (18 %)\n",
      "15:07 madminer.fisherinfor INFO      Bin 5: (0.00063 +/- 0.00008) fb (13 %)\n",
      "15:07 madminer.fisherinfor INFO      Bin 4: (0.01047 +/- 0.00040) fb (4 %)\n",
      "15:07 madminer.fisherinfor INFO      Bin 3: (0.06518 +/- 0.00208) fb (3 %)\n",
      "15:07 madminer.fisherinfor INFO      Bin 2: (0.12215 +/- 0.00338) fb (3 %)\n"
     ]
    },
    {
     "name": "stdout",
     "output_type": "stream",
     "text": [
      "Histogram Fisher information after 30 ifb:\n",
      "[[1.30731745 0.03891929]\n",
      " [0.03891929 0.00223523]]\n"
     ]
    }
   ],
   "source": [
    "info_histo_1d, cov_histo_1d = fisher.histo_information(\n",
    "    theta=[0.,0.],\n",
    "    luminosity=30000.,\n",
    "    observable=\"pt_j1\",\n",
    "    bins=[30.,100.,200.,400.],\n",
    "    histrange=[30.,400.],\n",
    ")\n",
    "\n",
    "print('Histogram Fisher information after 30 ifb:\\n{}'.format(info_histo_1d))"
   ]
  },
  {
   "cell_type": "markdown",
   "metadata": {},
   "source": [
    "We can do the same thing in 2D:"
   ]
  },
  {
   "cell_type": "code",
   "execution_count": 10,
   "metadata": {},
   "outputs": [
    {
     "name": "stderr",
     "output_type": "stream",
     "text": [
      "15:07 madminer.fisherinfor INFO    Bins with largest statistical uncertainties on rates:\n",
      "15:07 madminer.fisherinfor INFO      Bin (1, 2): (0.00086 +/- 0.00040) fb (47 %)\n",
      "15:07 madminer.fisherinfor INFO      Bin (6, 5): (0.00009 +/- 0.00004) fb (38 %)\n",
      "15:07 madminer.fisherinfor INFO      Bin (7, 1): (0.00011 +/- 0.00003) fb (29 %)\n",
      "15:07 madminer.fisherinfor INFO      Bin (7, 2): (0.00017 +/- 0.00004) fb (26 %)\n",
      "15:07 madminer.fisherinfor INFO      Bin (1, 1): (0.00187 +/- 0.00047) fb (25 %)\n"
     ]
    },
    {
     "name": "stdout",
     "output_type": "stream",
     "text": [
      "Histogram Fisher information after 30 ifb:\n",
      "[[1.48659626 0.04828435]\n",
      " [0.04828435 1.33096885]]\n"
     ]
    }
   ],
   "source": [
    "info_histo_2d, cov_histo_2d = fisher.histo_information_2d(\n",
    "    theta=[0.,0.],\n",
    "    luminosity=30000.,\n",
    "    observable1=\"pt_j1\",\n",
    "    bins1=[30.,100.,200.,400.],\n",
    "    histrange1=[30.,400.],\n",
    "    observable2=\"delta_phi_jj\",\n",
    "    bins2=5,\n",
    "    histrange2=[0.,6.2],\n",
    ")\n",
    "\n",
    "print('Histogram Fisher information after 30 ifb:\\n{}'.format(info_histo_2d))"
   ]
  },
  {
   "cell_type": "markdown",
   "metadata": {},
   "source": [
    "## 2. Plot Fisher distances"
   ]
  },
  {
   "cell_type": "markdown",
   "metadata": {},
   "source": [
    "We also provide a convenience function to plot contours of constant Fisher distance `d^2(theta, theta_ref) = I_ij(theta_ref) * (theta-theta_ref)_i * (theta-theta_ref)_j`:"
   ]
  },
  {
   "cell_type": "code",
   "execution_count": 13,
   "metadata": {},
   "outputs": [
    {
     "data": {
      "image/png": "[encoded data removed]",
      "text/plain": [
       "<Figure size 360x360 with 1 Axes>"
      ]
     },
     "metadata": {
      "needs_background": "light"
     },
     "output_type": "display_data"
    }
   ],
   "source": [
    "_ = plot_fisher_information_contours_2d(\n",
    "    [fisher_information, info_histo_1d, info_histo_2d],\n",
    "    [None, cov_histo_1d, cov_histo_2d],\n",
    "    inline_labels=[\"SALLY\", \"1d\", \"2d\"],\n",
    "    xrange=(-2,2),\n",
    "    yrange=(-2,2)\n",
    ")"
   ]
  },
  {
   "cell_type": "code",
   "execution_count": null,
   "metadata": {},
   "outputs": [],
   "source": []
  }
 ],
 "metadata": {
  "kernelspec": {
   "display_name": "Python 2",
   "language": "python",
   "name": "python2"
  },
  "language_info": {
   "codemirror_mode": {
    "name": "ipython",
    "version": 2
   },
   "file_extension": ".py",
   "mimetype": "text/x-python",
   "name": "python",
   "nbconvert_exporter": "python",
   "pygments_lexer": "ipython2",
   "version": "2.7.15"
  }
 },
 "nbformat": 4,
 "nbformat_minor": 2
}
