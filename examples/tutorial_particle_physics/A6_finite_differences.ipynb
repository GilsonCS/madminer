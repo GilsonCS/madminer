{
 "cells": [
  {
   "cell_type": "markdown",
   "metadata": {},
   "source": [
    "# MadMiner particle physics tutorial\n",
    "\n",
    "# Appendix 6: Finite differences instead of morphing\n",
    "\n",
    "Johann Brehmer, Felix Kling, Irina Espejo, Sinclert Pérez, and Kyle Cranmer 2018-2020"
   ]
  },
  {
   "cell_type": "markdown",
   "metadata": {},
   "source": [
    "## Preparation"
   ]
  },
  {
   "cell_type": "code",
   "execution_count": 1,
   "metadata": {},
   "outputs": [],
   "source": [
    "from __future__ import absolute_import, division, print_function, unicode_literals\n",
    "\n",
    "import logging\n",
    "import numpy as np\n",
    "import matplotlib\n",
    "from matplotlib import pyplot as plt\n",
    "%matplotlib inline\n"
   ]
  },
  {
   "cell_type": "code",
   "execution_count": 2,
   "metadata": {},
   "outputs": [],
   "source": [
    "# MadMiner output\n",
    "logging.basicConfig(\n",
    "    format='%(asctime)-5.5s %(name)-20.20s %(levelname)-7.7s %(message)s',\n",
    "    datefmt='%H:%M',\n",
    "    level=logging.INFO\n",
    ")\n",
    "\n",
    "# Output of all other modules (e.g. matplotlib)\n",
    "for key in logging.Logger.manager.loggerDict:\n",
    "    if \"madminer\" not in key:\n",
    "        logging.getLogger(key).setLevel(logging.WARNING)"
   ]
  },
  {
   "cell_type": "code",
   "execution_count": 20,
   "metadata": {},
   "outputs": [],
   "source": [
    "from madminer import MadMiner, LHEReader, combine_and_shuffle, plot_distributions, SampleAugmenter, sampling, ScoreEstimator"
   ]
  },
  {
   "cell_type": "markdown",
   "metadata": {},
   "source": [
    "Please enter here the path to your MG5 root directory and to a Python2.7 executable that can be used to run MadGraph:"
   ]
  },
  {
   "cell_type": "code",
   "execution_count": 4,
   "metadata": {},
   "outputs": [],
   "source": [
    "mg_dir = '/Users/johannbrehmer/work/projects/madminer/MG5_aMC_v2_7_0'\n",
    "python2 = '/Users/johannbrehmer/anaconda3/envs/python2/bin/python'"
   ]
  },
  {
   "cell_type": "markdown",
   "metadata": {},
   "source": [
    "## 1. Input data"
   ]
  },
  {
   "cell_type": "markdown",
   "metadata": {},
   "source": [
    "We consider Drell-Yan Z production with a decay into two muons (in this tutorial, the photon contribution to that process is turned off).\n",
    "\n",
    "Have a look at the `cards` folder. You'll find text files (\"cards\") that specify the process simulation in typical MadGraph convention."
   ]
  },
  {
   "cell_type": "markdown",
   "metadata": {},
   "source": [
    "## 2. Define parameter space"
   ]
  },
  {
   "cell_type": "markdown",
   "metadata": {},
   "source": [
    "After creating a `MadMiner` instance, the first important step is the definition of the parameter space. Each model parameter is characterized by a name as well as the LHA block and ID.\n",
    "\n",
    "In our case, we're just interested in a single parameter, the Z boson mass:"
   ]
  },
  {
   "cell_type": "code",
   "execution_count": 5,
   "metadata": {},
   "outputs": [
    {
     "name": "stderr",
     "output_type": "stream",
     "text": [
      "15:24 madminer.core.madmin INFO    Added parameter mz (LHA: mass 23, maximal power in squared ME: (2,), range: (0.0, 1.0))\n"
     ]
    }
   ],
   "source": [
    "miner = MadMiner()\n",
    "miner.add_parameter(lha_block='mass', lha_id=23, parameter_name='mz')\n"
   ]
  },
  {
   "cell_type": "markdown",
   "metadata": {},
   "source": [
    "## 3. Define benchmarks (evaluation points for |M|^2)"
   ]
  },
  {
   "cell_type": "markdown",
   "metadata": {},
   "source": [
    "The next step is the definition of all the points at which the weights (squared matrix elements) should be evaluated by MadGraph. We call these points \"benchmarks\" and define them with the `add_benchmark` function. Here we really just need one standard value, for which we use 91.2 GeV:"
   ]
  },
  {
   "cell_type": "code",
   "execution_count": 6,
   "metadata": {},
   "outputs": [
    {
     "name": "stderr",
     "output_type": "stream",
     "text": [
      "15:24 madminer.core.madmin INFO    Added benchmark mz_91_2: mz = 91.20)\n"
     ]
    }
   ],
   "source": [
    "miner.add_benchmark({'mz':91.2}, 'mz_91_2')"
   ]
  },
  {
   "cell_type": "markdown",
   "metadata": {},
   "source": [
    "## 4. Finite difference setup"
   ]
  },
  {
   "cell_type": "markdown",
   "metadata": {},
   "source": [
    "To construct the optimal observables, we will later need to compute the joint score. To compute the joint score, we need to compute the derivative of the event weights with respect to the parameter of interest (the Z mass). To compute this derivative, we use the method of finite differences, numerically computing the event weights both for `mz = 91.2 GeV` and for `mz = 91.2 GeV + ε` and using\n",
    "\n",
    "```\n",
    "d σ(mz) / d mz  ≈  [σ(91.2 GeV + ε) - σ(91.2 GeV)] / ε.\n",
    "```\n",
    "\n",
    "MadMiner supports this through the `finite_differences()` function, which adds an additional benchmark at `mz = 91.2 GeV + ε`."
   ]
  },
  {
   "cell_type": "code",
   "execution_count": 7,
   "metadata": {
    "scrolled": true
   },
   "outputs": [
    {
     "name": "stderr",
     "output_type": "stream",
     "text": [
      "15:24 madminer.core.madmin INFO    Adding finite-differences benchmarks with epsilon = 0.1\n",
      "15:24 madminer.core.madmin INFO    Added benchmark mz_91_2_plus_mz: mz = 91.30)\n"
     ]
    }
   ],
   "source": [
    "miner.finite_differences(epsilon=0.1)"
   ]
  },
  {
   "cell_type": "markdown",
   "metadata": {},
   "source": [
    "## 5. Save setup"
   ]
  },
  {
   "cell_type": "markdown",
   "metadata": {},
   "source": [
    "The parameter space, benchmark points, and finite-difference setup are saved in a HDF5 file:"
   ]
  },
  {
   "cell_type": "code",
   "execution_count": 8,
   "metadata": {},
   "outputs": [
    {
     "name": "stderr",
     "output_type": "stream",
     "text": [
      "15:24 madminer.core.madmin INFO    Saving setup (without morphing) to data/setup_fd.h5\n"
     ]
    }
   ],
   "source": [
    "miner.save('data/setup_fd.h5')"
   ]
  },
  {
   "cell_type": "markdown",
   "metadata": {},
   "source": [
    "They can now be loaded again with `miner.load(filename)`."
   ]
  },
  {
   "cell_type": "markdown",
   "metadata": {},
   "source": [
    "## 6. Generate events with MadGraph"
   ]
  },
  {
   "cell_type": "markdown",
   "metadata": {},
   "source": [
    "To load this saved data (say if you want to repeat the following steps in a later session), you can just use this:"
   ]
  },
  {
   "cell_type": "code",
   "execution_count": 9,
   "metadata": {},
   "outputs": [
    {
     "name": "stderr",
     "output_type": "stream",
     "text": [
      "15:24 madminer.core.madmin INFO    Found 1 parameters:\n",
      "15:24 madminer.core.madmin INFO       mz (LHA: mass 23, maximal power in squared ME: (2,), range: (0.0, 1.0))\n",
      "15:24 madminer.core.madmin INFO    Found 2 benchmarks:\n",
      "15:24 madminer.core.madmin INFO       mz_91_2: mz = 91.20\n",
      "15:24 madminer.core.madmin INFO       mz_91_2_plus_mz: mz = 91.30\n",
      "15:24 madminer.core.madmin INFO    Did not find morphing setup.\n",
      "15:24 madminer.core.madmin INFO    Did not find systematics setup.\n"
     ]
    }
   ],
   "source": [
    "miner = MadMiner()\n",
    "miner.load(\"data/setup_fd.h5\")"
   ]
  },
  {
   "cell_type": "markdown",
   "metadata": {},
   "source": [
    "In a next step, MadMiner calls MadGraph and creates the process folder. You have to provide paths to the process card, run card, param card (the entries corresponding to the parameters of interest will be automatically adapted), and an empty reweight card. Log files in the `log_directory` folder collect the MadGraph output and may be important for debugging.\n",
    "\n",
    "The `sample_benchmark` keyword determines for which parameter setup we generate events.\n",
    "\n",
    "One slight annoyance is that MadGraph only supports Python 2. The `run()` and `run_multiple()` commands have a keyword `initial_command` that let you load a virtual environment in which `python` maps to Python 2 (which is what we do below). Alternatively / additionally you can set `python2_override=True`, which calls `python2.7` instead of `python` to start MadGraph."
   ]
  },
  {
   "cell_type": "code",
   "execution_count": 11,
   "metadata": {},
   "outputs": [
    {
     "name": "stderr",
     "output_type": "stream",
     "text": [
      "15:25 madminer.utils.inter INFO    Generating MadGraph process folder from cards/proc_card_dy.dat at mg_processes/drell-yen\n",
      "15:25 madminer.utils.inter INFO    Calling MadGraph: /Users/johannbrehmer/anaconda3/envs/python2/bin/python /Users/johannbrehmer/work/projects/madminer/MG5_aMC_v2_7_0/bin/mg5_aMC /var/folders/wh/yq51b6390hj19dp2r7kwr53c0000gn/T/generate.mg5\n",
      "15:25 madminer.core.madmin INFO    Run 0\n",
      "15:25 madminer.core.madmin INFO      Sampling from benchmark: mz_91_2\n",
      "15:25 madminer.core.madmin INFO      Original run card:       cards/run_card_dy.dat\n",
      "15:25 madminer.core.madmin INFO      Original Pythia8 card:   None\n",
      "15:25 madminer.core.madmin INFO      Original config card:    None\n",
      "15:25 madminer.core.madmin INFO      Copied run card:         madminer/cards/run_card_0.dat\n",
      "15:25 madminer.core.madmin INFO      Copied Pythia8 card:     None\n",
      "15:25 madminer.core.madmin INFO      Copied config card:      None\n",
      "15:25 madminer.core.madmin INFO      Param card:              madminer/cards/param_card_0.dat\n",
      "15:25 madminer.core.madmin INFO      Reweight card:           madminer/cards/reweight_card_0.dat\n",
      "15:25 madminer.core.madmin INFO      Log file:                run_0.log\n",
      "15:25 madminer.core.madmin INFO    Creating param and reweight cards in mg_processes/drell-yen/madminer/cards/param_card_0.dat, mg_processes/drell-yen/madminer/cards/reweight_card_0.dat\n",
      "15:25 madminer.utils.inter INFO    Preparing script to run MadGraph and Pythia in mg_processes/drell-yen\n",
      "15:25 madminer.core.madmin INFO    To generate events, please run:\n",
      "\n",
      " mg_processes/drell-yen/madminer/run.sh [MG_directory] [MG_process_directory] [log_dir]\n",
      "\n",
      "\n"
     ]
    }
   ],
   "source": [
    "miner.run(\n",
    "    sample_benchmark='mz_91_2',\n",
    "    mg_directory=mg_dir,\n",
    "    mg_process_directory='mg_processes/drell-yen',\n",
    "    proc_card_file='cards/proc_card_dy.dat',\n",
    "    param_card_template_file='cards/param_card_dy.dat',\n",
    "    run_card_file='cards/run_card_dy.dat',\n",
    "    log_directory='logs/drell-yan',\n",
    "    python_executable=python2,\n",
    "    only_prepare_script=True\n",
    ")"
   ]
  },
  {
   "cell_type": "markdown",
   "metadata": {},
   "source": [
    "## 7. Generate events"
   ]
  },
  {
   "cell_type": "markdown",
   "metadata": {},
   "source": [
    "Now follow the last printed line in the output of the last cell and run the run.sh script that actually generates the events. This will take a moment.\n",
    "\n",
    "After running any event generation through MadMiner, you should check whether the run succeeded: are the usual output files there, do the log files show any error messages? MadMiner does not (yet) perform any explicit checks, and if something went wrong in the event generation, it will only notice later when trying to load the event files."
   ]
  },
  {
   "cell_type": "markdown",
   "metadata": {},
   "source": [
    "## 8. Prepare analysis of the LHE samples"
   ]
  },
  {
   "cell_type": "markdown",
   "metadata": {},
   "source": [
    "The `madminer.lhe` submodule allows us to extract observables directly from the parton-level LHE samples, including an approximate description of the detector response with smearing functions. The central object is an instance of the `LHEReader` class, which has to be initialized with a MadMiner file:"
   ]
  },
  {
   "cell_type": "code",
   "execution_count": 12,
   "metadata": {},
   "outputs": [],
   "source": [
    "lhe = LHEReader('data/setup_fd.h5')"
   ]
  },
  {
   "cell_type": "markdown",
   "metadata": {},
   "source": [
    "After creating the `LHEReader` object, one can add a number of event samples (the output of running MadGraph in step 1) with the `add_sample()` function.\n",
    "\n",
    "In addition, you have to provide the information which sample was generated from which benchmark with the `sampled_from_benchmark` keyword, and set `is_background=True` for all background samples."
   ]
  },
  {
   "cell_type": "code",
   "execution_count": 13,
   "metadata": {},
   "outputs": [],
   "source": [
    "lhe.add_sample(\n",
    "    lhe_filename='mg_processes/drell-yen/Events/run_01/unweighted_events.lhe.gz',\n",
    "    sampled_from_benchmark='mz_91_2',\n",
    ")\n"
   ]
  },
  {
   "cell_type": "markdown",
   "metadata": {},
   "source": [
    "## 9. Observables and cuts"
   ]
  },
  {
   "cell_type": "markdown",
   "metadata": {},
   "source": [
    "The next step is the definition of observables, either through a Python function or an expression that can be evaluated. Here we demonstrate the latter, which is implemented in `add_observable()`. In the expression string, you can use the terms `j[i]`, `e[i]`, `mu[i]`, `a[i]`, `met`, where the indices `i` refer to a ordering by the transverse momentum. In addition, you can use `p[i]`, which denotes the `i`-th particle in the order given in the LHE sample (which is the order in which the final-state particles where defined in MadGraph).\n",
    "\n",
    "All of these represent objects inheriting from scikit-hep [LorentzVectors](http://scikit-hep.org/api/math.html#vector-classes), see the link for a documentation of their properties. In addition, they have `charge` and `pdg_id` properties.\n",
    "\n",
    "`add_observable()` has an optional keyword `required`. If `required=True`, we will only keep events where the observable can be parsed, i.e. all involved particles have been detected. If `required=False`, un-parseable observables will be filled with the value of another keyword `default`.\n",
    "\n",
    "In a realistic project, you would want to add a large number of observables that capture all information in your events. Here we will just define one observable, the invariant mass of the muon pair."
   ]
  },
  {
   "cell_type": "code",
   "execution_count": 14,
   "metadata": {},
   "outputs": [],
   "source": [
    "lhe.add_observable('mll', '(mu[0] + mu[1]).m', required=True,)\n"
   ]
  },
  {
   "cell_type": "markdown",
   "metadata": {},
   "source": [
    "We can also add cuts, again in parse-able strings. In addition to the objects discussed above, they can contain the observables:"
   ]
  },
  {
   "cell_type": "code",
   "execution_count": 15,
   "metadata": {},
   "outputs": [],
   "source": [
    "lhe.add_cut('mll > 10.')\n"
   ]
  },
  {
   "cell_type": "markdown",
   "metadata": {},
   "source": [
    "## 10. Parse events"
   ]
  },
  {
   "cell_type": "markdown",
   "metadata": {},
   "source": [
    "The function `analyse_samples` then calculates all observables from the LHE file(s) generated before, applies the smearing, and checks which events pass the cuts:"
   ]
  },
  {
   "cell_type": "code",
   "execution_count": 16,
   "metadata": {
    "scrolled": true
   },
   "outputs": [
    {
     "name": "stderr",
     "output_type": "stream",
     "text": [
      "15:27 madminer.lhe.lhe_rea INFO    Analysing LHE sample mg_processes/drell-yen/Events/run_01/unweighted_events.lhe.gz: Calculating 1 observables, requiring 1 selection cuts, using 0 efficiency factors, associated with no systematics\n",
      "15:27 madminer.utils.inter INFO      10000 / 10000 events pass cut mll > 10.\n",
      "15:27 madminer.utils.inter INFO      10000 events pass all cuts/efficiencies\n",
      "15:27 madminer.lhe.lhe_rea INFO    Analysed number of events per sampling benchmark:\n",
      "15:27 madminer.lhe.lhe_rea INFO      10000 from mz_91_2\n"
     ]
    }
   ],
   "source": [
    "lhe.analyse_samples()"
   ]
  },
  {
   "cell_type": "markdown",
   "metadata": {},
   "source": [
    "The values of the observables and the weights are then saved in the HDF5 file. It is possible to overwrite the same file, or to leave the original file intact and save all the data into a new file as follows:"
   ]
  },
  {
   "cell_type": "code",
   "execution_count": 17,
   "metadata": {},
   "outputs": [],
   "source": [
    "lhe.save('data/lhe_data_fd.h5')"
   ]
  },
  {
   "cell_type": "markdown",
   "metadata": {},
   "source": [
    "## 11. Plot distributions"
   ]
  },
  {
   "cell_type": "markdown",
   "metadata": {},
   "source": [
    "Let's see what our simulation produced:"
   ]
  },
  {
   "cell_type": "code",
   "execution_count": 19,
   "metadata": {},
   "outputs": [
    {
     "name": "stderr",
     "output_type": "stream",
     "text": [
      "15:28 madminer.analysis.da INFO    Loading data from data/lhe_data_fd.h5\n",
      "15:28 madminer.analysis.da INFO    Found 1 parameters\n",
      "15:28 madminer.analysis.da INFO      0: mz (mass / 23 / (2,) / (0.0, 1.0) / None)\n",
      "15:28 madminer.analysis.da INFO    Did not find nuisance parameters\n",
      "15:28 madminer.analysis.da INFO    Found 2 benchmarks, of which 2 physical\n",
      "15:28 madminer.analysis.da INFO    Found 1 observables\n",
      "15:28 madminer.analysis.da INFO    Found 10000 events\n",
      "15:28 madminer.analysis.da INFO      10000 signal events sampled from benchmark mz_91_2\n",
      "15:28 madminer.analysis.da INFO    Did not find morphing setup.\n",
      "15:28 madminer.analysis.da INFO    Did not find nuisance morphing setup\n"
     ]
    },
    {
     "data": {
      "image/png": "[encoded data removed]",
      "text/plain": [
       "<Figure size 864x288 with 1 Axes>"
      ]
     },
     "metadata": {
      "needs_background": "light"
     },
     "output_type": "display_data"
    }
   ],
   "source": [
    "_ = plot_distributions(\n",
    "    filename='data/lhe_data_fd.h5',\n",
    "    parameter_points=['mz_91_2'],\n",
    "    uncertainties='none',\n",
    "    n_bins=50,\n",
    "    n_cols=3,\n",
    "    normalize=True,\n",
    ")"
   ]
  },
  {
   "cell_type": "markdown",
   "metadata": {},
   "source": [
    "That should look roughly like a Breit-Wigner :)"
   ]
  },
  {
   "cell_type": "markdown",
   "metadata": {},
   "source": [
    "## 12. Extract training and test data"
   ]
  },
  {
   "cell_type": "markdown",
   "metadata": {},
   "source": [
    "At this point, we have all the information we need from the simulations. But the data is not quite ready to be used for machine learning. The `madminer.sampling` class `SampleAugmenter` will take care of the remaining book-keeping steps before we can fit a model.\n",
    "\n",
    "First, it unweights the samples, i.e. for a given parameter vector `theta` (or a distribution `p(theta)`) it picks events `x` such that their distribution follows `p(x|theta)`. The selected samples will all come from the event file we have so far, but their frequency is changed -- some events will appear multiple times, some will disappear.\n",
    "\n",
    "Second, `SampleAugmenter` calculates the joint score that we will later use as targets in a regression problem."
   ]
  },
  {
   "cell_type": "code",
   "execution_count": 21,
   "metadata": {},
   "outputs": [
    {
     "name": "stderr",
     "output_type": "stream",
     "text": [
      "15:31 madminer.analysis.da INFO    Loading data from data/lhe_data_fd.h5\n",
      "15:31 madminer.analysis.da INFO    Found 1 parameters\n",
      "15:31 madminer.analysis.da INFO      0: mz (mass / 23 / (2,) / (0.0, 1.0) / None)\n",
      "15:31 madminer.analysis.da INFO    Did not find nuisance parameters\n",
      "15:31 madminer.analysis.da INFO    Found 2 benchmarks, of which 2 physical\n",
      "15:31 madminer.analysis.da INFO    Found 1 observables\n",
      "15:31 madminer.analysis.da INFO    Found 10000 events\n",
      "15:31 madminer.analysis.da INFO      10000 signal events sampled from benchmark mz_91_2\n",
      "15:31 madminer.analysis.da INFO    Did not find morphing setup.\n",
      "15:31 madminer.analysis.da INFO    Did not find nuisance morphing setup\n"
     ]
    }
   ],
   "source": [
    "sampler = SampleAugmenter('data/lhe_data_fd.h5')"
   ]
  },
  {
   "cell_type": "code",
   "execution_count": 22,
   "metadata": {},
   "outputs": [
    {
     "name": "stderr",
     "output_type": "stream",
     "text": [
      "15:32 madminer.sampling.sa INFO    Extracting training sample for local score regression. Sampling and score evaluation according to mz_91_1\n"
     ]
    },
    {
     "ename": "RuntimeError",
     "evalue": "No morphing setup loaded. Cannot calculate score.",
     "output_type": "error",
     "traceback": [
      "\u001b[0;31m---------------------------------------------------------------------------\u001b[0m",
      "\u001b[0;31mRuntimeError\u001b[0m                              Traceback (most recent call last)",
      "\u001b[0;32m<ipython-input-22-14f6f4da1cf5>\u001b[0m in \u001b[0;36m<module>\u001b[0;34m\u001b[0m\n\u001b[1;32m      5\u001b[0m     \u001b[0mfilename\u001b[0m\u001b[0;34m=\u001b[0m\u001b[0;34m'train_score'\u001b[0m\u001b[0;34m,\u001b[0m\u001b[0;34m\u001b[0m\u001b[0;34m\u001b[0m\u001b[0m\n\u001b[1;32m      6\u001b[0m     \u001b[0mvalidation_split\u001b[0m\u001b[0;34m=\u001b[0m\u001b[0;36m0.0\u001b[0m\u001b[0;34m,\u001b[0m\u001b[0;34m\u001b[0m\u001b[0;34m\u001b[0m\u001b[0m\n\u001b[0;32m----> 7\u001b[0;31m     \u001b[0mtest_split\u001b[0m\u001b[0;34m=\u001b[0m\u001b[0;36m0.2\u001b[0m\u001b[0;34m,\u001b[0m\u001b[0;34m\u001b[0m\u001b[0;34m\u001b[0m\u001b[0m\n\u001b[0m\u001b[1;32m      8\u001b[0m )\n",
      "\u001b[0;32m~/work/projects/madminer/madminer/madminer/sampling/sampleaugmenter.py\u001b[0m in \u001b[0;36msample_train_local\u001b[0;34m(self, theta, n_samples, nu, sample_only_from_closest_benchmark, folder, filename, nuisance_score, test_split, validation_split, partition, n_processes, log_message, n_eff_forced, double_precision)\u001b[0m\n\u001b[1;32m    298\u001b[0m             \u001b[0mnuisance_score\u001b[0m \u001b[0;34m=\u001b[0m \u001b[0mself\u001b[0m\u001b[0;34m.\u001b[0m\u001b[0mnuisance_morpher\u001b[0m \u001b[0;32mis\u001b[0m \u001b[0;32mnot\u001b[0m \u001b[0;32mNone\u001b[0m\u001b[0;34m\u001b[0m\u001b[0;34m\u001b[0m\u001b[0m\n\u001b[1;32m    299\u001b[0m         \u001b[0;32mif\u001b[0m \u001b[0mself\u001b[0m\u001b[0;34m.\u001b[0m\u001b[0mmorpher\u001b[0m \u001b[0;32mis\u001b[0m \u001b[0;32mNone\u001b[0m\u001b[0;34m:\u001b[0m\u001b[0;34m\u001b[0m\u001b[0;34m\u001b[0m\u001b[0m\n\u001b[0;32m--> 300\u001b[0;31m             \u001b[0;32mraise\u001b[0m \u001b[0mRuntimeError\u001b[0m\u001b[0;34m(\u001b[0m\u001b[0;34m\"No morphing setup loaded. Cannot calculate score.\"\u001b[0m\u001b[0;34m)\u001b[0m\u001b[0;34m\u001b[0m\u001b[0;34m\u001b[0m\u001b[0m\n\u001b[0m\u001b[1;32m    301\u001b[0m         \u001b[0;32mif\u001b[0m \u001b[0mself\u001b[0m\u001b[0;34m.\u001b[0m\u001b[0mnuisance_morpher\u001b[0m \u001b[0;32mis\u001b[0m \u001b[0;32mNone\u001b[0m \u001b[0;32mand\u001b[0m \u001b[0mnuisance_score\u001b[0m\u001b[0;34m:\u001b[0m\u001b[0;34m\u001b[0m\u001b[0;34m\u001b[0m\u001b[0m\n\u001b[1;32m    302\u001b[0m             \u001b[0;32mraise\u001b[0m \u001b[0mRuntimeError\u001b[0m\u001b[0;34m(\u001b[0m\u001b[0;34m\"No nuisance parameters defined. Cannot calculate nuisance score.\"\u001b[0m\u001b[0;34m)\u001b[0m\u001b[0;34m\u001b[0m\u001b[0;34m\u001b[0m\u001b[0m\n",
      "\u001b[0;31mRuntimeError\u001b[0m: No morphing setup loaded. Cannot calculate score."
     ]
    }
   ],
   "source": [
    "_ = sampler.sample_train_local(\n",
    "    theta=sampling.benchmark('mz_91_1'),\n",
    "    n_samples=100000,\n",
    "    folder='./data/samples',\n",
    "    filename='train_score',\n",
    "    validation_split=0.0,\n",
    "    test_split=0.2,\n",
    ")"
   ]
  },
  {
   "cell_type": "markdown",
   "metadata": {},
   "source": [
    "We can use the same data as in part 3a, so you only have to execute this if you haven't gone through tutorial 3a:"
   ]
  },
  {
   "cell_type": "code",
   "execution_count": 24,
   "metadata": {},
   "outputs": [
    {
     "name": "stderr",
     "output_type": "stream",
     "text": [
      "15:32 madminer.sampling.sa INFO    Extracting evaluation sample. Sampling according to mz_91_2\n",
      "15:32 madminer.sampling.sa INFO    Starting sampling serially\n",
      "15:32 madminer.sampling.sa INFO    Sampling from parameter point 1 / 1\n",
      "15:32 madminer.sampling.sa INFO    Effective number of samples: mean 1999.0000000000002, with individual thetas ranging from 1999.0000000000002 to 1999.0000000000002\n"
     ]
    }
   ],
   "source": [
    "_ = sampler.sample_test(\n",
    "    theta=sampling.benchmark('mz_91_2'),\n",
    "    n_samples=1000,\n",
    "    folder='./data/samples',\n",
    "    filename='test',\n",
    "    validation_split=0.0,\n",
    "    test_split=0.2,\n",
    ")"
   ]
  },
  {
   "cell_type": "code",
   "execution_count": null,
   "metadata": {},
   "outputs": [],
   "source": []
  }
 ],
 "metadata": {
  "kernelspec": {
   "display_name": "Python (madminer)",
   "language": "python",
   "name": "madminer"
  },
  "language_info": {
   "codemirror_mode": {
    "name": "ipython",
    "version": 3
   },
   "file_extension": ".py",
   "mimetype": "text/x-python",
   "name": "python",
   "nbconvert_exporter": "python",
   "pygments_lexer": "ipython3",
   "version": "3.6.8"
  }
 },
 "nbformat": 4,
 "nbformat_minor": 4
}
