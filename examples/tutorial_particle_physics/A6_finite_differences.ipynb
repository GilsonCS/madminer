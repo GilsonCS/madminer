{
 "cells": [
  {
   "cell_type": "markdown",
   "metadata": {},
   "source": [
    "# MadMiner particle physics tutorial\n",
    "\n",
    "# Appendix 6: Finite differences instead of morphing\n",
    "\n",
    "Johann Brehmer, Felix Kling, Irina Espejo, Sinclert Pérez, and Kyle Cranmer 2018-2020"
   ]
  },
  {
   "cell_type": "markdown",
   "metadata": {},
   "source": [
    "## Preparation"
   ]
  },
  {
   "cell_type": "markdown",
   "metadata": {},
   "source": [
    "*Important*: You will need the MadMiner version on the `finite-differences` branch (https://github.com/diana-hep/madminer/tree/finite-differences). Get it with `git clone  -branch finite-differences https://github.com/diana-hep/madminer.git` followed by `pip install -e ./madminer`."
   ]
  },
  {
   "cell_type": "code",
   "execution_count": 11,
   "metadata": {},
   "outputs": [],
   "source": [
    "from __future__ import absolute_import, division, print_function, unicode_literals\n",
    "\n",
    "import logging\n",
    "import numpy as np\n",
    "import matplotlib\n",
    "from matplotlib import pyplot as plt\n",
    "%matplotlib inline\n"
   ]
  },
  {
   "cell_type": "code",
   "execution_count": 2,
   "metadata": {},
   "outputs": [],
   "source": [
    "# MadMiner output\n",
    "logging.basicConfig(\n",
    "    format='%(asctime)-5.5s %(name)-20.20s %(levelname)-7.7s %(message)s',\n",
    "    datefmt='%H:%M',\n",
    "    level=logging.INFO\n",
    ")\n",
    "\n",
    "# Output of all other modules (e.g. matplotlib)\n",
    "for key in logging.Logger.manager.loggerDict:\n",
    "    if \"madminer\" not in key:\n",
    "        logging.getLogger(key).setLevel(logging.WARNING)"
   ]
  },
  {
   "cell_type": "code",
   "execution_count": 3,
   "metadata": {},
   "outputs": [
    {
     "name": "stderr",
     "output_type": "stream",
     "text": [
      "17:39 madminer             INFO    \n",
      "17:39 madminer             INFO    |--------------------------------------------------------------------------|\n",
      "17:39 madminer             INFO    |                                                                          |\n",
      "17:39 madminer             INFO    | MadMiner v0.7.5                                                          |\n",
      "17:39 madminer             INFO    |                                                                          |\n",
      "17:39 madminer             INFO    | Johann Brehmer, Felix Kling, Irina Espejo, Sinclert Perez, Kyle Cranmer  |\n",
      "17:39 madminer             INFO    |                                                                          |\n",
      "17:39 madminer             INFO    |--------------------------------------------------------------------------|\n",
      "17:39 madminer             INFO    \n"
     ]
    }
   ],
   "source": [
    "from madminer import MadMiner, LHEReader, combine_and_shuffle, plot_distributions, SampleAugmenter, sampling, ScoreEstimator"
   ]
  },
  {
   "cell_type": "markdown",
   "metadata": {},
   "source": [
    "Please enter here the path to your MG5 root directory and to a Python2.7 executable that can be used to run MadGraph:"
   ]
  },
  {
   "cell_type": "code",
   "execution_count": 4,
   "metadata": {},
   "outputs": [],
   "source": [
    "mg_dir = '/Users/johannbrehmer/work/projects/madminer/MG5_aMC_v2_7_0'\n",
    "python2 = '/Users/johannbrehmer/anaconda3/envs/python2/bin/python'"
   ]
  },
  {
   "cell_type": "markdown",
   "metadata": {},
   "source": [
    "## 1. Input data"
   ]
  },
  {
   "cell_type": "markdown",
   "metadata": {},
   "source": [
    "We consider Drell-Yan Z production with a decay into two muons (in this tutorial, the photon contribution to that process is turned off).\n",
    "\n",
    "Have a look at the `cards` folder. You'll find text files (\"cards\") that specify the process simulation in typical MadGraph convention."
   ]
  },
  {
   "cell_type": "markdown",
   "metadata": {},
   "source": [
    "## 2. Define parameter space"
   ]
  },
  {
   "cell_type": "markdown",
   "metadata": {},
   "source": [
    "After creating a `MadMiner` instance, the first important step is the definition of the parameter space. Each model parameter is characterized by a name as well as the LHA block and ID.\n",
    "\n",
    "In our case, we're just interested in a single parameter, the Z boson mass:"
   ]
  },
  {
   "cell_type": "code",
   "execution_count": 5,
   "metadata": {},
   "outputs": [
    {
     "name": "stderr",
     "output_type": "stream",
     "text": [
      "17:39 madminer.core.madmin INFO    Added parameter mz (LHA: mass 23, maximal power in squared ME: (2,), range: (0.0, 1.0))\n"
     ]
    }
   ],
   "source": [
    "miner = MadMiner()\n",
    "miner.add_parameter(lha_block='mass', lha_id=23, parameter_name='mz')\n"
   ]
  },
  {
   "cell_type": "markdown",
   "metadata": {},
   "source": [
    "## 3. Define benchmarks (evaluation points for |M|^2)"
   ]
  },
  {
   "cell_type": "markdown",
   "metadata": {},
   "source": [
    "The next step is the definition of all the points at which the weights (squared matrix elements) should be evaluated by MadGraph. We call these points \"benchmarks\" and define them with the `add_benchmark` function. Here we really just need one standard value, for which we use 91.2 GeV:"
   ]
  },
  {
   "cell_type": "code",
   "execution_count": 6,
   "metadata": {},
   "outputs": [
    {
     "name": "stderr",
     "output_type": "stream",
     "text": [
      "17:39 madminer.core.madmin INFO    Added benchmark mz_91_2: mz = 91.20)\n"
     ]
    }
   ],
   "source": [
    "miner.add_benchmark({'mz':91.2}, 'mz_91_2')"
   ]
  },
  {
   "cell_type": "markdown",
   "metadata": {},
   "source": [
    "## 4. Finite difference setup"
   ]
  },
  {
   "cell_type": "markdown",
   "metadata": {},
   "source": [
    "To construct the optimal observables, we will later need to compute the joint score. To compute the joint score, we need to compute the derivative of the event weights with respect to the parameter of interest (the Z mass). To compute this derivative, we use the method of finite differences, numerically computing the event weights both for `mz = 91.2 GeV` and for `mz = 91.2 GeV + ε` and using\n",
    "\n",
    "```\n",
    "d σ(mz) / d mz  ≈  [σ(91.2 GeV + ε) - σ(91.2 GeV)] / ε.\n",
    "```\n",
    "\n",
    "MadMiner supports this through the `finite_differences()` function, which adds an additional benchmark at `mz = 91.2 GeV + ε`."
   ]
  },
  {
   "cell_type": "code",
   "execution_count": 7,
   "metadata": {
    "scrolled": true
   },
   "outputs": [
    {
     "name": "stderr",
     "output_type": "stream",
     "text": [
      "17:39 madminer.core.madmin INFO    Adding finite-differences benchmarks with epsilon = 0.1\n",
      "17:39 madminer.core.madmin INFO    Added benchmark mz_91_2_plus_mz: mz = 91.30)\n"
     ]
    }
   ],
   "source": [
    "miner.finite_differences(epsilon=0.1)"
   ]
  },
  {
   "cell_type": "markdown",
   "metadata": {},
   "source": [
    "## 5. Save setup"
   ]
  },
  {
   "cell_type": "markdown",
   "metadata": {},
   "source": [
    "The parameter space, benchmark points, and finite-difference setup are saved in a HDF5 file:"
   ]
  },
  {
   "cell_type": "code",
   "execution_count": 8,
   "metadata": {},
   "outputs": [
    {
     "name": "stderr",
     "output_type": "stream",
     "text": [
      "17:39 madminer.core.madmin INFO    Saving setup (without morphing) to data/setup_fd.h5\n"
     ]
    }
   ],
   "source": [
    "miner.save('data/setup_fd.h5')"
   ]
  },
  {
   "cell_type": "markdown",
   "metadata": {},
   "source": [
    "They can now be loaded again with `miner.load(filename)`."
   ]
  },
  {
   "cell_type": "markdown",
   "metadata": {},
   "source": [
    "## 6. Generate events with MadGraph"
   ]
  },
  {
   "cell_type": "markdown",
   "metadata": {},
   "source": [
    "To load this saved data (say if you want to repeat the following steps in a later session), you can just use this:"
   ]
  },
  {
   "cell_type": "code",
   "execution_count": 9,
   "metadata": {},
   "outputs": [
    {
     "name": "stderr",
     "output_type": "stream",
     "text": [
      "17:39 madminer.core.madmin INFO    Found 1 parameters:\n",
      "17:39 madminer.core.madmin INFO       mz (LHA: mass 23, maximal power in squared ME: (2,), range: (0.0, 1.0))\n",
      "17:39 madminer.core.madmin INFO    Found 2 benchmarks:\n",
      "17:39 madminer.core.madmin INFO       mz_91_2: mz = 91.20\n",
      "17:39 madminer.core.madmin INFO       mz_91_2_plus_mz: mz = 91.30\n",
      "17:39 madminer.core.madmin INFO    Did not find morphing setup.\n",
      "17:39 madminer.core.madmin INFO    Did not find systematics setup.\n"
     ]
    }
   ],
   "source": [
    "miner = MadMiner()\n",
    "miner.load(\"data/setup_fd.h5\")"
   ]
  },
  {
   "cell_type": "markdown",
   "metadata": {},
   "source": [
    "In a next step, MadMiner calls MadGraph and creates the process folder. You have to provide paths to the process card, run card, param card (the entries corresponding to the parameters of interest will be automatically adapted), and an empty reweight card. Log files in the `log_directory` folder collect the MadGraph output and may be important for debugging.\n",
    "\n",
    "The `sample_benchmark` keyword determines for which parameter setup we generate events.\n",
    "\n",
    "One slight annoyance is that MadGraph only supports Python 2. The `run()` and `run_multiple()` commands have a keyword `initial_command` that let you load a virtual environment in which `python` maps to Python 2 (which is what we do below). Alternatively / additionally you can set `python2_override=True`, which calls `python2.7` instead of `python` to start MadGraph."
   ]
  },
  {
   "cell_type": "code",
   "execution_count": 10,
   "metadata": {},
   "outputs": [
    {
     "name": "stderr",
     "output_type": "stream",
     "text": [
      "17:39 madminer.utils.inter INFO    Generating MadGraph process folder from cards/proc_card_dy.dat at mg_processes/drell-yen\n",
      "17:39 madminer.utils.inter INFO    Calling MadGraph: /Users/johannbrehmer/anaconda3/envs/python2/bin/python /Users/johannbrehmer/work/projects/madminer/MG5_aMC_v2_7_0/bin/mg5_aMC /var/folders/wh/yq51b6390hj19dp2r7kwr53c0000gn/T/generate.mg5\n",
      "17:39 madminer.core.madmin INFO    Run 0\n",
      "17:39 madminer.core.madmin INFO      Sampling from benchmark: mz_91_2\n",
      "17:39 madminer.core.madmin INFO      Original run card:       cards/run_card_dy.dat\n",
      "17:39 madminer.core.madmin INFO      Original Pythia8 card:   None\n",
      "17:39 madminer.core.madmin INFO      Original config card:    None\n",
      "17:39 madminer.core.madmin INFO      Copied run card:         madminer/cards/run_card_0.dat\n",
      "17:39 madminer.core.madmin INFO      Copied Pythia8 card:     None\n",
      "17:39 madminer.core.madmin INFO      Copied config card:      None\n",
      "17:39 madminer.core.madmin INFO      Param card:              madminer/cards/param_card_0.dat\n",
      "17:39 madminer.core.madmin INFO      Reweight card:           madminer/cards/reweight_card_0.dat\n",
      "17:39 madminer.core.madmin INFO      Log file:                run_0.log\n",
      "17:39 madminer.core.madmin INFO    Creating param and reweight cards in mg_processes/drell-yen/madminer/cards/param_card_0.dat, mg_processes/drell-yen/madminer/cards/reweight_card_0.dat\n",
      "17:39 madminer.utils.inter INFO    Preparing script to run MadGraph and Pythia in mg_processes/drell-yen\n",
      "17:39 madminer.core.madmin INFO    To generate events, please run:\n",
      "\n",
      " mg_processes/drell-yen/madminer/run.sh [MG_directory] [MG_process_directory] [log_dir]\n",
      "\n",
      "\n"
     ]
    }
   ],
   "source": [
    "miner.run(\n",
    "    sample_benchmark='mz_91_2',\n",
    "    mg_directory=mg_dir,\n",
    "    mg_process_directory='mg_processes/drell-yen',\n",
    "    proc_card_file='cards/proc_card_dy.dat',\n",
    "    param_card_template_file='cards/param_card_dy.dat',\n",
    "    run_card_file='cards/run_card_dy.dat',\n",
    "    log_directory='logs/drell-yan',\n",
    "    python_executable=python2,\n",
    "    only_prepare_script=True\n",
    ")"
   ]
  },
  {
   "cell_type": "markdown",
   "metadata": {},
   "source": [
    "## 7. Generate events"
   ]
  },
  {
   "cell_type": "markdown",
   "metadata": {},
   "source": [
    "Now follow the last printed line in the output of the last cell and run the run.sh script that actually generates the events. This will take a moment.\n",
    "\n",
    "After running any event generation through MadMiner, you should check whether the run succeeded: are the usual output files there, do the log files show any error messages? MadMiner does not (yet) perform any explicit checks, and if something went wrong in the event generation, it will only notice later when trying to load the event files."
   ]
  },
  {
   "cell_type": "markdown",
   "metadata": {},
   "source": [
    "## 8. Prepare analysis of the LHE samples"
   ]
  },
  {
   "cell_type": "markdown",
   "metadata": {},
   "source": [
    "The `madminer.lhe` submodule allows us to extract observables directly from the parton-level LHE samples, including an approximate description of the detector response with smearing functions. The central object is an instance of the `LHEReader` class, which has to be initialized with a MadMiner file:"
   ]
  },
  {
   "cell_type": "code",
   "execution_count": 5,
   "metadata": {},
   "outputs": [],
   "source": [
    "lhe = LHEReader('data/setup_fd.h5')"
   ]
  },
  {
   "cell_type": "markdown",
   "metadata": {},
   "source": [
    "After creating the `LHEReader` object, one can add a number of event samples (the output of running MadGraph in step 1) with the `add_sample()` function.\n",
    "\n",
    "In addition, you have to provide the information which sample was generated from which benchmark with the `sampled_from_benchmark` keyword, and set `is_background=True` for all background samples."
   ]
  },
  {
   "cell_type": "code",
   "execution_count": 6,
   "metadata": {},
   "outputs": [],
   "source": [
    "lhe.add_sample(\n",
    "    lhe_filename='mg_processes/drell-yen/Events/run_01/unweighted_events.lhe.gz',\n",
    "    sampled_from_benchmark='mz_91_2',\n",
    ")\n"
   ]
  },
  {
   "cell_type": "markdown",
   "metadata": {},
   "source": [
    "## 9. Observables and cuts"
   ]
  },
  {
   "cell_type": "markdown",
   "metadata": {},
   "source": [
    "The next step is the definition of observables, either through a Python function or an expression that can be evaluated. Here we demonstrate the latter, which is implemented in `add_observable()`. In the expression string, you can use the terms `j[i]`, `e[i]`, `mu[i]`, `a[i]`, `met`, where the indices `i` refer to a ordering by the transverse momentum. In addition, you can use `p[i]`, which denotes the `i`-th particle in the order given in the LHE sample (which is the order in which the final-state particles where defined in MadGraph).\n",
    "\n",
    "All of these represent objects inheriting from scikit-hep [LorentzVectors](http://scikit-hep.org/api/math.html#vector-classes), see the link for a documentation of their properties. In addition, they have `charge` and `pdg_id` properties.\n",
    "\n",
    "`add_observable()` has an optional keyword `required`. If `required=True`, we will only keep events where the observable can be parsed, i.e. all involved particles have been detected. If `required=False`, un-parseable observables will be filled with the value of another keyword `default`.\n",
    "\n",
    "In a realistic project, you would want to add a large number of observables that capture all information in your events. Here we will just define one observable, the invariant mass of the muon pair."
   ]
  },
  {
   "cell_type": "code",
   "execution_count": 7,
   "metadata": {},
   "outputs": [],
   "source": [
    "lhe.add_observable('mll', '(mu[0] + mu[1]).m', required=True,)\n"
   ]
  },
  {
   "cell_type": "markdown",
   "metadata": {},
   "source": [
    "We can also add cuts, again in parse-able strings. In addition to the objects discussed above, they can contain the observables:"
   ]
  },
  {
   "cell_type": "code",
   "execution_count": 14,
   "metadata": {},
   "outputs": [],
   "source": [
    "lhe.add_cut('mll > 10.')\n"
   ]
  },
  {
   "cell_type": "markdown",
   "metadata": {},
   "source": [
    "## 10. Parse events"
   ]
  },
  {
   "cell_type": "markdown",
   "metadata": {},
   "source": [
    "The function `analyse_samples` then calculates all observables from the LHE file(s) generated before, applies the smearing, and checks which events pass the cuts:"
   ]
  },
  {
   "cell_type": "code",
   "execution_count": 8,
   "metadata": {
    "scrolled": true
   },
   "outputs": [
    {
     "name": "stderr",
     "output_type": "stream",
     "text": [
      "17:39 madminer.lhe.lhe_rea INFO    Analysing LHE sample mg_processes/drell-yen/Events/run_01/unweighted_events.lhe.gz: Calculating 1 observables, requiring 0 selection cuts, using 0 efficiency factors, associated with no systematics\n"
     ]
    },
    {
     "ename": "RuntimeError",
     "evalue": "Calling command gunzip -c mg_processes/drell-yen/Events/run_01/unweighted_events.lhe.gz > mg_processes/drell-yen/Events/run_01/unweighted_events.lhe returned exit code 1.\n\nStd output:\n\nb''Error output:\n\nb'/bin/sh: mg_processes/drell-yen/Events/run_01/unweighted_events.lhe: No such file or directory\\n'",
     "output_type": "error",
     "traceback": [
      "\u001b[0;31m---------------------------------------------------------------------------\u001b[0m",
      "\u001b[0;31mRuntimeError\u001b[0m                              Traceback (most recent call last)",
      "\u001b[0;32m<ipython-input-8-224c871efd41>\u001b[0m in \u001b[0;36m<module>\u001b[0;34m\u001b[0m\n\u001b[0;32m----> 1\u001b[0;31m \u001b[0mlhe\u001b[0m\u001b[0;34m.\u001b[0m\u001b[0manalyse_samples\u001b[0m\u001b[0;34m(\u001b[0m\u001b[0;34m)\u001b[0m\u001b[0;34m\u001b[0m\u001b[0;34m\u001b[0m\u001b[0m\n\u001b[0m",
      "\u001b[0;32m~/work/projects/madminer/madminer/madminer/lhe/lhe_reader.py\u001b[0m in \u001b[0;36manalyse_samples\u001b[0;34m(self, reference_benchmark, parse_events_as_xml)\u001b[0m\n\u001b[1;32m    580\u001b[0m                 \u001b[0mreference_benchmark\u001b[0m\u001b[0;34m,\u001b[0m\u001b[0;34m\u001b[0m\u001b[0;34m\u001b[0m\u001b[0m\n\u001b[1;32m    581\u001b[0m                 \u001b[0msampling_benchmark\u001b[0m\u001b[0;34m,\u001b[0m\u001b[0;34m\u001b[0m\u001b[0;34m\u001b[0m\u001b[0m\n\u001b[0;32m--> 582\u001b[0;31m                 \u001b[0msample_syst_names\u001b[0m\u001b[0;34m,\u001b[0m\u001b[0;34m\u001b[0m\u001b[0;34m\u001b[0m\u001b[0m\n\u001b[0m\u001b[1;32m    583\u001b[0m             )\n\u001b[1;32m    584\u001b[0m \u001b[0;34m\u001b[0m\u001b[0m\n",
      "\u001b[0;32m~/work/projects/madminer/madminer/madminer/lhe/lhe_reader.py\u001b[0m in \u001b[0;36m_parse_sample\u001b[0;34m(self, is_background, k_factor, lhe_file, parse_events_as_xml, reference_benchmark, sampling_benchmark, sample_syst_names)\u001b[0m\n\u001b[1;32m    665\u001b[0m         \u001b[0;31m# Read systematics setup from LHE file\u001b[0m\u001b[0;34m\u001b[0m\u001b[0;34m\u001b[0m\u001b[0;34m\u001b[0m\u001b[0m\n\u001b[1;32m    666\u001b[0m         \u001b[0mlogger\u001b[0m\u001b[0;34m.\u001b[0m\u001b[0mdebug\u001b[0m\u001b[0;34m(\u001b[0m\u001b[0;34m\"Extracting nuisance parameter definitions from LHE file\"\u001b[0m\u001b[0;34m)\u001b[0m\u001b[0;34m\u001b[0m\u001b[0;34m\u001b[0m\u001b[0m\n\u001b[0;32m--> 667\u001b[0;31m         \u001b[0msystematics_dict\u001b[0m \u001b[0;34m=\u001b[0m \u001b[0mextract_nuisance_parameters_from_lhe_file\u001b[0m\u001b[0;34m(\u001b[0m\u001b[0mlhe_file\u001b[0m\u001b[0;34m,\u001b[0m \u001b[0msystematics_used\u001b[0m\u001b[0;34m)\u001b[0m\u001b[0;34m\u001b[0m\u001b[0;34m\u001b[0m\u001b[0m\n\u001b[0m\u001b[1;32m    668\u001b[0m         \u001b[0mlogger\u001b[0m\u001b[0;34m.\u001b[0m\u001b[0mdebug\u001b[0m\u001b[0;34m(\u001b[0m\u001b[0;34m\"systematics_dict: %s\"\u001b[0m\u001b[0;34m,\u001b[0m \u001b[0msystematics_dict\u001b[0m\u001b[0;34m)\u001b[0m\u001b[0;34m\u001b[0m\u001b[0;34m\u001b[0m\u001b[0m\n\u001b[1;32m    669\u001b[0m         \u001b[0;31m# systematics_dict has structure\u001b[0m\u001b[0;34m\u001b[0m\u001b[0;34m\u001b[0m\u001b[0;34m\u001b[0m\u001b[0m\n",
      "\u001b[0;32m~/work/projects/madminer/madminer/madminer/utils/interfaces/lhe.py\u001b[0m in \u001b[0;36mextract_nuisance_parameters_from_lhe_file\u001b[0;34m(filename, systematics)\u001b[0m\n\u001b[1;32m    511\u001b[0m     \u001b[0mweight_groups\u001b[0m \u001b[0;34m=\u001b[0m \u001b[0;34m[\u001b[0m\u001b[0;34m]\u001b[0m\u001b[0;34m\u001b[0m\u001b[0;34m\u001b[0m\u001b[0m\n\u001b[1;32m    512\u001b[0m     \u001b[0;32mtry\u001b[0m\u001b[0;34m:\u001b[0m\u001b[0;34m\u001b[0m\u001b[0;34m\u001b[0m\u001b[0m\n\u001b[0;32m--> 513\u001b[0;31m         \u001b[0;32mfor\u001b[0m \u001b[0minitrwgt\u001b[0m \u001b[0;32min\u001b[0m \u001b[0minitrwgts\u001b[0m\u001b[0;34m:\u001b[0m\u001b[0;34m\u001b[0m\u001b[0;34m\u001b[0m\u001b[0m\n\u001b[0m\u001b[1;32m    514\u001b[0m             \u001b[0mweight_groups\u001b[0m \u001b[0;34m+=\u001b[0m \u001b[0minitrwgt\u001b[0m\u001b[0;34m.\u001b[0m\u001b[0mfindall\u001b[0m\u001b[0;34m(\u001b[0m\u001b[0;34m\"weightgroup\"\u001b[0m\u001b[0;34m)\u001b[0m\u001b[0;34m\u001b[0m\u001b[0;34m\u001b[0m\u001b[0m\n\u001b[1;32m    515\u001b[0m     \u001b[0;32mexcept\u001b[0m \u001b[0mKeyError\u001b[0m \u001b[0;32mas\u001b[0m \u001b[0me\u001b[0m\u001b[0;34m:\u001b[0m\u001b[0;34m\u001b[0m\u001b[0;34m\u001b[0m\u001b[0m\n",
      "\u001b[0;32m~/work/projects/madminer/madminer/madminer/utils/interfaces/lhe.py\u001b[0m in \u001b[0;36m_untar_and_parse_lhe_file\u001b[0;34m(filename, tags)\u001b[0m\n\u001b[1;32m    859\u001b[0m     \u001b[0;32mif\u001b[0m \u001b[0mextension\u001b[0m \u001b[0;34m==\u001b[0m \u001b[0;34m\".gz\"\u001b[0m\u001b[0;34m:\u001b[0m\u001b[0;34m\u001b[0m\u001b[0;34m\u001b[0m\u001b[0m\n\u001b[1;32m    860\u001b[0m         \u001b[0;32mif\u001b[0m \u001b[0;32mnot\u001b[0m \u001b[0mos\u001b[0m\u001b[0;34m.\u001b[0m\u001b[0mpath\u001b[0m\u001b[0;34m.\u001b[0m\u001b[0mexists\u001b[0m\u001b[0;34m(\u001b[0m\u001b[0mnew_filename\u001b[0m\u001b[0;34m)\u001b[0m\u001b[0;34m:\u001b[0m\u001b[0;34m\u001b[0m\u001b[0;34m\u001b[0m\u001b[0m\n\u001b[0;32m--> 861\u001b[0;31m             \u001b[0mcall_command\u001b[0m\u001b[0;34m(\u001b[0m\u001b[0;34m\"gunzip -c {} > {}\"\u001b[0m\u001b[0;34m.\u001b[0m\u001b[0mformat\u001b[0m\u001b[0;34m(\u001b[0m\u001b[0mfilename\u001b[0m\u001b[0;34m,\u001b[0m \u001b[0mnew_filename\u001b[0m\u001b[0;34m)\u001b[0m\u001b[0;34m)\u001b[0m\u001b[0;34m\u001b[0m\u001b[0;34m\u001b[0m\u001b[0m\n\u001b[0m\u001b[1;32m    862\u001b[0m         \u001b[0mfilename\u001b[0m \u001b[0;34m=\u001b[0m \u001b[0mnew_filename\u001b[0m\u001b[0;34m\u001b[0m\u001b[0;34m\u001b[0m\u001b[0m\n\u001b[1;32m    863\u001b[0m \u001b[0;34m\u001b[0m\u001b[0m\n",
      "\u001b[0;32m~/work/projects/madminer/madminer/madminer/utils/various.py\u001b[0m in \u001b[0;36mcall_command\u001b[0;34m(cmd, log_file, return_std)\u001b[0m\n\u001b[1;32m     35\u001b[0m             raise RuntimeError(\n\u001b[1;32m     36\u001b[0m                 \"Calling command {} returned exit code {}.\\n\\nStd output:\\n\\n{}Error output:\\n\\n{}\".format(\n\u001b[0;32m---> 37\u001b[0;31m                     \u001b[0mcmd\u001b[0m\u001b[0;34m,\u001b[0m \u001b[0mexitcode\u001b[0m\u001b[0;34m,\u001b[0m \u001b[0mout\u001b[0m\u001b[0;34m,\u001b[0m \u001b[0merr\u001b[0m\u001b[0;34m\u001b[0m\u001b[0;34m\u001b[0m\u001b[0m\n\u001b[0m\u001b[1;32m     38\u001b[0m                 )\n\u001b[1;32m     39\u001b[0m             )\n",
      "\u001b[0;31mRuntimeError\u001b[0m: Calling command gunzip -c mg_processes/drell-yen/Events/run_01/unweighted_events.lhe.gz > mg_processes/drell-yen/Events/run_01/unweighted_events.lhe returned exit code 1.\n\nStd output:\n\nb''Error output:\n\nb'/bin/sh: mg_processes/drell-yen/Events/run_01/unweighted_events.lhe: No such file or directory\\n'"
     ]
    }
   ],
   "source": [
    "lhe.analyse_samples()"
   ]
  },
  {
   "cell_type": "markdown",
   "metadata": {},
   "source": [
    "The values of the observables and the weights are then saved in the HDF5 file. It is possible to overwrite the same file, or to leave the original file intact and save all the data into a new file as follows:"
   ]
  },
  {
   "cell_type": "code",
   "execution_count": null,
   "metadata": {},
   "outputs": [],
   "source": [
    "lhe.save('data/lhe_data_fd.h5')"
   ]
  },
  {
   "cell_type": "markdown",
   "metadata": {},
   "source": [
    "## 11. Plot distributions"
   ]
  },
  {
   "cell_type": "markdown",
   "metadata": {},
   "source": [
    "Let's see what our simulation produced:"
   ]
  },
  {
   "cell_type": "code",
   "execution_count": null,
   "metadata": {},
   "outputs": [],
   "source": [
    "_ = plot_distributions(\n",
    "    filename='data/lhe_data_fd.h5',\n",
    "    parameter_points=['mz_91_2'],\n",
    "    uncertainties='none',\n",
    "    n_bins=50,\n",
    "    n_cols=3,\n",
    "    normalize=True,\n",
    ")"
   ]
  },
  {
   "cell_type": "markdown",
   "metadata": {},
   "source": [
    "That should look roughly like a Breit-Wigner :)"
   ]
  },
  {
   "cell_type": "markdown",
   "metadata": {},
   "source": [
    "## 12. Extract training and test data"
   ]
  },
  {
   "cell_type": "markdown",
   "metadata": {},
   "source": [
    "At this point, we have all the information we need from the simulations. But the data is not quite ready to be used for machine learning. The `madminer.sampling` class `SampleAugmenter` will take care of the remaining book-keeping steps before we can fit a model.\n",
    "\n",
    "First, it unweights the samples, i.e. for a given parameter vector `theta` (or a distribution `p(theta)`) it picks events `x` such that their distribution follows `p(x|theta)`. The selected samples will all come from the event file we have so far, but their frequency is changed -- some events will appear multiple times, some will disappear.\n",
    "\n",
    "Second, `SampleAugmenter` calculates the joint score that we will later use as targets in a regression problem."
   ]
  },
  {
   "cell_type": "code",
   "execution_count": 9,
   "metadata": {},
   "outputs": [
    {
     "name": "stderr",
     "output_type": "stream",
     "text": [
      "17:39 madminer.analysis.da INFO    Loading data from data/lhe_data_fd.h5\n",
      "17:39 madminer.analysis.da INFO    Found 1 parameters\n",
      "17:39 madminer.analysis.da INFO      0: mz (mass / 23 / (2,) / (0.0, 1.0) / None)\n",
      "17:39 madminer.analysis.da INFO    Did not find nuisance parameters\n",
      "17:39 madminer.analysis.da INFO    Found 2 benchmarks, of which 2 physical\n",
      "17:39 madminer.analysis.da INFO    Found 1 observables\n",
      "17:39 madminer.analysis.da INFO    Found 10000 events\n",
      "17:39 madminer.analysis.da INFO      10000 signal events sampled from benchmark mz_91_2\n",
      "17:39 madminer.analysis.da INFO    Did not find morphing setup.\n",
      "17:39 madminer.analysis.da INFO    Did not find nuisance morphing setup\n"
     ]
    }
   ],
   "source": [
    "sampler = SampleAugmenter('data/lhe_data_fd.h5')"
   ]
  },
  {
   "cell_type": "code",
   "execution_count": 16,
   "metadata": {},
   "outputs": [
    {
     "name": "stderr",
     "output_type": "stream",
     "text": [
      "17:43 madminer.sampling.sa INFO    Extracting training sample for local score regression. Sampling and score evaluation according to mz_91_2\n",
      "17:43 madminer.sampling.sa INFO    Starting sampling serially\n",
      "17:43 madminer.sampling.sa INFO    Sampling from parameter point 1 / 1\n",
      "17:43 madminer.sampling.sa INFO    Effective number of samples: mean 8000.0, with individual thetas ranging from 8000.0 to 8000.0\n"
     ]
    }
   ],
   "source": [
    "x, _, t_xz, _ = sampler.sample_train_local(\n",
    "    theta=sampling.benchmark('mz_91_2'),\n",
    "    n_samples=100000,\n",
    "    folder='./data/samples',\n",
    "    filename='train_score',\n",
    "    validation_split=0.0,\n",
    "    test_split=0.2,\n",
    ")"
   ]
  },
  {
   "cell_type": "markdown",
   "metadata": {},
   "source": [
    "We can use the same data as in part 3a, so you only have to execute this if you haven't gone through tutorial 3a:"
   ]
  },
  {
   "cell_type": "code",
   "execution_count": null,
   "metadata": {},
   "outputs": [],
   "source": [
    "_ = sampler.sample_test(\n",
    "    theta=sampling.benchmark('mz_91_2'),\n",
    "    n_samples=1000,\n",
    "    folder='./data/samples',\n",
    "    filename='test',\n",
    "    validation_split=0.0,\n",
    "    test_split=0.2,\n",
    ")"
   ]
  },
  {
   "cell_type": "markdown",
   "metadata": {},
   "source": [
    "## 13. Plot the training data"
   ]
  },
  {
   "cell_type": "markdown",
   "metadata": {},
   "source": [
    "Let's have a look at what we just generated:"
   ]
  },
  {
   "cell_type": "code",
   "execution_count": 20,
   "metadata": {},
   "outputs": [
    {
     "data": {
      "image/png": "[encoded data removed]",
      "text/plain": [
       "<Figure size 288x288 with 1 Axes>"
      ]
     },
     "metadata": {
      "needs_background": "light"
     },
     "output_type": "display_data"
    }
   ],
   "source": [
    "fig = plt.figure(figsize=(4,4))\n",
    "\n",
    "plt.hist(x.flatten(), bins=50, range=(75,100), histtype=\"step\", lw=1.5, density=True)\n",
    "\n",
    "plt.xlabel(r\"$m_{\\ell\\ell}$\")\n",
    "plt.ylabel(r\"Histogram\")\n",
    "\n",
    "plt.show()"
   ]
  },
  {
   "cell_type": "code",
   "execution_count": 28,
   "metadata": {},
   "outputs": [
    {
     "data": {
      "image/png": "[encoded data removed]",
      "text/plain": [
       "<Figure size 288x288 with 1 Axes>"
      ]
     },
     "metadata": {
      "needs_background": "light"
     },
     "output_type": "display_data"
    }
   ],
   "source": [
    "fig = plt.figure(figsize=(4,4))\n",
    "\n",
    "plt.scatter(x.flatten()[::100], t_xz.flatten()[::100], alpha=0.3, s=3.)\n",
    "\n",
    "plt.xlabel(r\"$x$\")\n",
    "plt.ylabel(r\"$t(x,z)$\")\n",
    "\n",
    "plt.xlim(80., 100.)\n",
    "\n",
    "plt.show()"
   ]
  },
  {
   "cell_type": "markdown",
   "metadata": {},
   "source": [
    "What's this? This is training data for the optimal observable we want to fit!"
   ]
  },
  {
   "cell_type": "code",
   "execution_count": null,
   "metadata": {},
   "outputs": [],
   "source": []
  }
 ],
 "metadata": {
  "kernelspec": {
   "display_name": "Python (madminer)",
   "language": "python",
   "name": "madminer"
  },
  "language_info": {
   "codemirror_mode": {
    "name": "ipython",
    "version": 3
   },
   "file_extension": ".py",
   "mimetype": "text/x-python",
   "name": "python",
   "nbconvert_exporter": "python",
   "pygments_lexer": "ipython3",
   "version": "3.6.8"
  }
 },
 "nbformat": 4,
 "nbformat_minor": 4
}
