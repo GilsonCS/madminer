{
 "cells": [
  {
   "cell_type": "markdown",
   "metadata": {},
   "source": [
    "# MadMiner particle physics tutorial\n",
    "\n",
    "# Part 4: Limit setting\n",
    "\n",
    "Johann Brehmer, Felix Kling, Irina Espejo, and Kyle Cranmer 2018-2019"
   ]
  },
  {
   "cell_type": "markdown",
   "metadata": {},
   "source": [
    "In part 4 of this tutorial we will use the networks trained in step 3a and 3b to calculate the expected limits on our theory parameters."
   ]
  },
  {
   "cell_type": "markdown",
   "metadata": {},
   "source": [
    "## Preparations"
   ]
  },
  {
   "cell_type": "code",
   "execution_count": 1,
   "metadata": {},
   "outputs": [],
   "source": [
    "from __future__ import absolute_import, division, print_function, unicode_literals\n",
    "\n",
    "import logging\n",
    "import numpy as np\n",
    "import matplotlib\n",
    "from matplotlib import pyplot as plt\n",
    "%matplotlib inline\n",
    "\n",
    "from madminer.limits import AsymptoticLimits\n"
   ]
  },
  {
   "cell_type": "code",
   "execution_count": 2,
   "metadata": {},
   "outputs": [],
   "source": [
    "# MadMiner output\n",
    "logging.basicConfig(\n",
    "    format='%(asctime)-5.5s %(name)-20.20s %(levelname)-7.7s %(message)s',\n",
    "    datefmt='%H:%M',\n",
    "    level=logging.INFO\n",
    ")\n",
    "\n",
    "# Output of all other modules (e.g. matplotlib)\n",
    "for key in logging.Logger.manager.loggerDict:\n",
    "    if \"madminer\" not in key:\n",
    "        logging.getLogger(key).setLevel(logging.WARNING)"
   ]
  },
  {
   "cell_type": "markdown",
   "metadata": {},
   "source": [
    "## 1. Preparations"
   ]
  },
  {
   "cell_type": "markdown",
   "metadata": {},
   "source": [
    "In the end, what we care about are not plots of the log likelihood ratio, but limits on parameters. But at least under some asymptotic assumptions, these are directly related. MadMiner makes it easy to calculate p-values in the asymptotic limit with the `AsymptoticLimits` class in the `madminer.limits`: "
   ]
  },
  {
   "cell_type": "code",
   "execution_count": 15,
   "metadata": {},
   "outputs": [
    {
     "name": "stderr",
     "output_type": "stream",
     "text": [
      "15:39 madminer.analysis    INFO    Loading data from data/madminer_example_shuffled.h5\n",
      "15:39 madminer.analysis    INFO    Found 2 parameters\n",
      "15:39 madminer.analysis    INFO    Did not find nuisance parameters\n",
      "15:39 madminer.analysis    INFO    Found 6 benchmarks, of which 6 physical\n",
      "15:39 madminer.analysis    INFO    Found 2 observables\n",
      "15:39 madminer.analysis    INFO    Found 6537 events\n",
      "15:39 madminer.analysis    INFO    Found morphing setup with 6 components\n"
     ]
    }
   ],
   "source": [
    "limits = AsymptoticLimits('data/lhe_data_shuffled.h5')\n",
    "# limits = AsymptoticLimits('data/delphes_data_shuffled.h5')"
   ]
  },
  {
   "cell_type": "markdown",
   "metadata": {},
   "source": [
    "This class provids two high-level functions:\n",
    "- `AsymptoticLimits.observed_limits()` lets us calculate p-values on a parameter grid for some observed events, and\n",
    "- `AsymptoticLimits.expected_limits()` lets us calculate expected p-values on a parameter grid based on all data in the MadMiner file.\n",
    "\n",
    "Note that these limits include both rate and kinematic information (the neural network is used for the kinematic part).\n",
    "\n",
    "Let's try both:"
   ]
  },
  {
   "cell_type": "code",
   "execution_count": 16,
   "metadata": {},
   "outputs": [],
   "source": [
    "theta_min, theta_max = -20., 20.\n",
    "resolution = 25"
   ]
  },
  {
   "cell_type": "markdown",
   "metadata": {},
   "source": [
    "## 2. Expected limits based on rate or simple histograms"
   ]
  },
  {
   "cell_type": "markdown",
   "metadata": {},
   "source": [
    "First, with `mode=\"rate\"`, we can calculate expected limits based only on rate information:"
   ]
  },
  {
   "cell_type": "code",
   "execution_count": 17,
   "metadata": {},
   "outputs": [
    {
     "ename": "TypeError",
     "evalue": "expected_limits() got an unexpected keyword argument 'resolution'",
     "output_type": "error",
     "traceback": [
      "\u001b[0;31m---------------------------------------------------------------------------\u001b[0m",
      "\u001b[0;31mTypeError\u001b[0m                                 Traceback (most recent call last)",
      "\u001b[0;32m<ipython-input-17-8157f887e720>\u001b[0m in \u001b[0;36m<module>\u001b[0;34m\u001b[0m\n\u001b[1;32m      4\u001b[0m     \u001b[0mmode\u001b[0m\u001b[0;34m=\u001b[0m\u001b[0;34m\"rate\"\u001b[0m\u001b[0;34m,\u001b[0m\u001b[0;34m\u001b[0m\u001b[0;34m\u001b[0m\u001b[0m\n\u001b[1;32m      5\u001b[0m     \u001b[0mresolution\u001b[0m\u001b[0;34m=\u001b[0m\u001b[0mresolution\u001b[0m\u001b[0;34m,\u001b[0m\u001b[0;34m\u001b[0m\u001b[0;34m\u001b[0m\u001b[0m\n\u001b[0;32m----> 6\u001b[0;31m     \u001b[0mluminosity\u001b[0m\u001b[0;34m=\u001b[0m\u001b[0;36m300000.0\u001b[0m\u001b[0;34m\u001b[0m\u001b[0;34m\u001b[0m\u001b[0m\n\u001b[0m\u001b[1;32m      7\u001b[0m )\n",
      "\u001b[0;31mTypeError\u001b[0m: expected_limits() got an unexpected keyword argument 'resolution'"
     ]
    }
   ],
   "source": [
    "_, p_values_expected_xsec, best_fit_expected_xsec = limits.expected_limits(\n",
    "    theta_true=[0.,0.],\n",
    "    theta_ranges=[(theta_min, theta_max), (theta_min, theta_max)],\n",
    "    mode=\"rate\",\n",
    "    resolution=resolution,\n",
    "    luminosity=300000.0\n",
    ")"
   ]
  },
  {
   "cell_type": "markdown",
   "metadata": {},
   "source": [
    "`mode=\"histo\"` calculates limits based on histograms. For now, there is not a lot of freedom in this step, the histogram binning is determined automatically."
   ]
  },
  {
   "cell_type": "code",
   "execution_count": null,
   "metadata": {},
   "outputs": [],
   "source": [
    "_, p_values_expected_histo, best_fit_expected_histo = limits.expected_limits(\n",
    "    theta_true=[0.,0.],\n",
    "    theta_ranges=[(theta_min, theta_max), (theta_min, theta_max)],\n",
    "    mode=\"histo\",\n",
    "    hist_vars=[\"pt_j1\"],\n",
    "    include_xsec=False,\n",
    "    resolution=resolution,\n",
    "    luminosity=300000.0\n",
    ")"
   ]
  },
  {
   "cell_type": "markdown",
   "metadata": {},
   "source": [
    "## 3. Expected limits based on ratio estimators"
   ]
  },
  {
   "cell_type": "markdown",
   "metadata": {},
   "source": [
    "Finally and perhaps most importantly, `mode=\"ml\"` allows us to calculate limits based on any `ParamterizedRatioEstimator` instance like the ALICES estimator trained above:"
   ]
  },
  {
   "cell_type": "code",
   "execution_count": null,
   "metadata": {},
   "outputs": [],
   "source": [
    "theta_grid, p_values_expected_ml, best_fit_expected_ml = limits.expected_limits(\n",
    "    theta_true=[0.,0.],\n",
    "    theta_ranges=[(theta_min, theta_max), (theta_min, theta_max)],\n",
    "    mode=\"ml\",\n",
    "    model_file='models/alices',\n",
    "    include_xsec=False,\n",
    "    resolution=resolution,\n",
    "    luminosity=300000.0\n",
    ")"
   ]
  },
  {
   "cell_type": "markdown",
   "metadata": {},
   "source": [
    "## 4. Expected limits based on score estimators"
   ]
  },
  {
   "cell_type": "markdown",
   "metadata": {},
   "source": [
    "## 5. Toy signal"
   ]
  },
  {
   "cell_type": "markdown",
   "metadata": {},
   "source": [
    "Observed limits take as input actual data, which we here generate on the fly:"
   ]
  },
  {
   "cell_type": "code",
   "execution_count": null,
   "metadata": {},
   "outputs": [],
   "source": [
    "sampler = SampleAugmenter('data/madminer_example_shuffled.h5')\n",
    "x_observed, _ = sampler.extract_samples_test(\n",
    "    theta=sampling.morphing_point([0.,0.]),\n",
    "    n_samples=5,\n",
    "    folder=None,\n",
    "    filename=None\n",
    ")"
   ]
  },
  {
   "cell_type": "code",
   "execution_count": null,
   "metadata": {},
   "outputs": [],
   "source": [
    "_, p_values_observed, best_fit_observed = limits.observed_limits(\n",
    "    x_observed=x_observed,\n",
    "    theta_ranges=[(theta_min, theta_max), (theta_min, theta_max)],\n",
    "    mode=\"ml\",\n",
    "    model_file='models/alices',\n",
    "    include_xsec=True,\n",
    "    resolution=resolution,\n",
    "    luminosity=300000.0,\n",
    ")"
   ]
  },
  {
   "cell_type": "markdown",
   "metadata": {},
   "source": [
    "## 6. Plot"
   ]
  },
  {
   "cell_type": "markdown",
   "metadata": {},
   "source": [
    "Let's plot the results:"
   ]
  },
  {
   "cell_type": "code",
   "execution_count": null,
   "metadata": {},
   "outputs": [],
   "source": [
    "bin_size = (theta_max - theta_min)/(resolution - 1)\n",
    "edges = np.linspace(theta_min - bin_size/2, theta_max + bin_size/2, resolution + 1)\n",
    "centers = np.linspace(theta_min, theta_max, resolution)\n",
    "\n",
    "fig = plt.figure(figsize=(6,5))\n",
    "ax = plt.gca()\n",
    "\n",
    "cmin, cmax = 1.e-3, 1.\n",
    "    \n",
    "pcm = ax.pcolormesh(\n",
    "    edges, edges, p_values_expected_ml.reshape((resolution, resolution)),\n",
    "    norm=matplotlib.colors.LogNorm(vmin=cmin, vmax=cmax),\n",
    "    cmap='Greys_r'\n",
    ")\n",
    "cbar = fig.colorbar(pcm, ax=ax, extend='both')\n",
    "\n",
    "plt.contour(\n",
    "    centers, centers, p_values_expected_xsec.reshape((resolution, resolution)),\n",
    "    levels=[0.05],\n",
    "    linestyles='-', colors='darkgreen'\n",
    ")\n",
    "plt.contour(\n",
    "    centers, centers, p_values_expected_ml.reshape((resolution, resolution)),\n",
    "    levels=[0.05],\n",
    "    linestyles='-', colors='#CC002E'\n",
    ")\n",
    "plt.contour(\n",
    "    centers, centers, p_values_expected_histo.reshape((resolution, resolution)),\n",
    "    levels=[0.05],\n",
    "    linestyles='-', colors='C1'\n",
    ")\n",
    "plt.contour(\n",
    "    centers, centers, p_values_observed.reshape((resolution, resolution)),\n",
    "    levels=[0.05],\n",
    "    linestyles='--', colors='black'\n",
    ")\n",
    "\n",
    "plt.scatter(\n",
    "    theta_grid[best_fit_expected_xsec][0], theta_grid[best_fit_expected_xsec][1],\n",
    "    s=80., color='darkgreen', marker='*',\n",
    "    label=\"xsec\"\n",
    ")\n",
    "plt.scatter(\n",
    "    theta_grid[best_fit_expected_ml][0], theta_grid[best_fit_expected_ml][1],\n",
    "    s=80., color='#CC002E', marker='*',\n",
    "    label=\"ALICES\"\n",
    ")\n",
    "plt.scatter(\n",
    "    theta_grid[best_fit_expected_histo][0], theta_grid[best_fit_expected_histo][1],\n",
    "    s=80., color='C1', marker='*',\n",
    "    label=\"Histo\"\n",
    ")\n",
    "plt.scatter(\n",
    "    theta_grid[best_fit_observed][0], theta_grid[best_fit_observed][1],\n",
    "    s=80., color='black', marker='*',\n",
    "    label=\"Observed\"\n",
    ")\n",
    "\n",
    "plt.legend()\n",
    "\n",
    "plt.xlabel(r'$\\theta_0$')\n",
    "plt.ylabel(r'$\\theta_1$')\n",
    "cbar.set_label('Expected p-value (ALICES)')\n",
    "\n",
    "plt.tight_layout()\n",
    "plt.show()\n"
   ]
  },
  {
   "cell_type": "code",
   "execution_count": null,
   "metadata": {},
   "outputs": [],
   "source": []
  }
 ],
 "metadata": {
  "kernelspec": {
   "display_name": "Python (higgs_inference)",
   "language": "python",
   "name": "higgs_inference"
  },
  "language_info": {
   "codemirror_mode": {
    "name": "ipython",
    "version": 3
   },
   "file_extension": ".py",
   "mimetype": "text/x-python",
   "name": "python",
   "nbconvert_exporter": "python",
   "pygments_lexer": "ipython3",
   "version": "3.6.7"
  }
 },
 "nbformat": 4,
 "nbformat_minor": 2
}
