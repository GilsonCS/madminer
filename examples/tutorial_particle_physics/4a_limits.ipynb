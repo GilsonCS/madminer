{
 "cells": [
  {
   "cell_type": "markdown",
   "metadata": {},
   "source": [
    "# MadMiner particle physics tutorial\n",
    "\n",
    "# Part 4a: Limit setting\n",
    "\n",
    "Johann Brehmer, Felix Kling, Irina Espejo, and Kyle Cranmer 2018-2019"
   ]
  },
  {
   "cell_type": "markdown",
   "metadata": {},
   "source": [
    "In part 4a of this tutorial we will use the networks trained in step 3a and 3b to calculate the expected limits on our theory parameters."
   ]
  },
  {
   "cell_type": "markdown",
   "metadata": {},
   "source": [
    "## 0. Preparations"
   ]
  },
  {
   "cell_type": "code",
   "execution_count": 1,
   "metadata": {},
   "outputs": [],
   "source": [
    "from __future__ import absolute_import, division, print_function, unicode_literals\n",
    "\n",
    "import six\n",
    "import logging\n",
    "import numpy as np\n",
    "import matplotlib\n",
    "from matplotlib import pyplot as plt\n",
    "%matplotlib inline\n",
    "\n",
    "from madminer.limits import AsymptoticLimits\n",
    "from madminer.sampling import SampleAugmenter\n",
    "from madminer import sampling\n",
    "from madminer.plotting import plot_histograms\n"
   ]
  },
  {
   "cell_type": "code",
   "execution_count": 2,
   "metadata": {},
   "outputs": [],
   "source": [
    "# MadMiner output\n",
    "logging.basicConfig(\n",
    "    format='%(asctime)-5.5s %(name)-20.20s %(levelname)-7.7s %(message)s',\n",
    "    datefmt='%H:%M',\n",
    "    level=logging.INFO\n",
    ")\n",
    "\n",
    "# Output of all other modules (e.g. matplotlib)\n",
    "for key in logging.Logger.manager.loggerDict:\n",
    "    if \"madminer\" not in key:\n",
    "        # print(\"Deactivating logging output for\", key)\n",
    "        logging.getLogger(key).setLevel(logging.WARNING)"
   ]
  },
  {
   "cell_type": "markdown",
   "metadata": {},
   "source": [
    "## 1. Preparations"
   ]
  },
  {
   "cell_type": "markdown",
   "metadata": {},
   "source": [
    "In the end, what we care about are not plots of the log likelihood ratio, but limits on parameters. But at least under some asymptotic assumptions, these are directly related. MadMiner makes it easy to calculate p-values in the asymptotic limit with the `AsymptoticLimits` class in the `madminer.limits`: "
   ]
  },
  {
   "cell_type": "code",
   "execution_count": 3,
   "metadata": {},
   "outputs": [
    {
     "name": "stderr",
     "output_type": "stream",
     "text": [
      "11:35 madminer.analysis    INFO    Loading data from data/lhe_data_shuffled.h5\n",
      "11:35 madminer.analysis    INFO    Found 2 parameters\n",
      "11:35 madminer.analysis    INFO    Did not find nuisance parameters\n",
      "11:35 madminer.analysis    INFO    Found 6 benchmarks, of which 6 physical\n",
      "11:35 madminer.analysis    INFO    Found 3 observables\n",
      "11:35 madminer.analysis    INFO    Found 15117 events\n",
      "11:35 madminer.analysis    INFO      10004 signal events sampled from benchmark sm\n",
      "11:35 madminer.analysis    INFO      1080 signal events sampled from benchmark w\n",
      "11:35 madminer.analysis    INFO      1207 signal events sampled from benchmark neg_w\n",
      "11:35 madminer.analysis    INFO      1399 signal events sampled from benchmark ww\n",
      "11:35 madminer.analysis    INFO      1427 signal events sampled from benchmark neg_ww\n",
      "11:35 madminer.analysis    INFO    Found morphing setup with 6 components\n",
      "11:35 madminer.analysis    INFO    Did not find nuisance morphing setup\n"
     ]
    }
   ],
   "source": [
    "limits = AsymptoticLimits('data/lhe_data_shuffled.h5')\n",
    "# limits = AsymptoticLimits('data/delphes_data_shuffled.h5')"
   ]
  },
  {
   "cell_type": "markdown",
   "metadata": {},
   "source": [
    "This class provids two high-level functions:\n",
    "- `AsymptoticLimits.observed_limits()` lets us calculate p-values on a parameter grid for some observed events, and\n",
    "- `AsymptoticLimits.expected_limits()` lets us calculate expected p-values on a parameter grid based on all data in the MadMiner file.\n",
    "\n",
    "First we have to define the parameter grid on which we evaluate the p-values."
   ]
  },
  {
   "cell_type": "code",
   "execution_count": 4,
   "metadata": {},
   "outputs": [],
   "source": [
    "grid_ranges = [(-20., 20.), (-20., 20.)]\n",
    "grid_resolutions = [25, 25]"
   ]
  },
  {
   "cell_type": "markdown",
   "metadata": {},
   "source": [
    "What luminosity (in inverse pb) are we talking about?"
   ]
  },
  {
   "cell_type": "code",
   "execution_count": 5,
   "metadata": {},
   "outputs": [],
   "source": [
    "lumi = 10000."
   ]
  },
  {
   "cell_type": "code",
   "execution_count": 6,
   "metadata": {},
   "outputs": [],
   "source": [
    "p_values = {}\n",
    "mle = {}"
   ]
  },
  {
   "cell_type": "markdown",
   "metadata": {},
   "source": [
    "## 2. Expected limits based on histogram"
   ]
  },
  {
   "cell_type": "markdown",
   "metadata": {},
   "source": [
    "First, as a baseline, let us calculate the expected limits based on a simple jet pT histogram. Right now, there are not a lot of option for this function; MadMiner even calculates the binning automatically. (We will add more functionality!)\n",
    "\n",
    "The keyword `include_xsec` determines whether we include information from the total rate or just use the shapes. Since we don't model backgrounds and systematics in this tutorial, the rate information is unrealistically large, so we leave it out here."
   ]
  },
  {
   "cell_type": "code",
   "execution_count": 7,
   "metadata": {},
   "outputs": [
    {
     "name": "stderr",
     "output_type": "stream",
     "text": [
      "11:35 madminer.limits      INFO    Generating Asimov data\n",
      "11:35 madminer.limits      INFO    Expected events: 2.072791638419519\n",
      "11:35 madminer.limits      INFO    Setting up standard summary statistics\n",
      "11:35 madminer.limits      INFO    Creating histograms of 1 summary statistics. Using 25 bins each, or 25 in total.\n",
      "11:35 madminer.limits      INFO    Determining fixed adaptive histogram binning for all points on grid\n",
      "11:35 madminer.analysis    WARNING Requested 100000 events, but only 12094 available\n",
      "11:35 madminer.analysis    WARNING Requested 100000 events, but only 12094 available\n",
      "11:36 madminer.limits      INFO    Calculating kinematic log likelihood with histograms\n",
      "11:36 madminer.limits      INFO    Calculating p-values\n"
     ]
    }
   ],
   "source": [
    "theta_grid, p_values_expected_histo, best_fit_expected_histo, _, _, (histos, observed, observed_weights) = limits.expected_limits(\n",
    "    mode=\"histo\",\n",
    "    hist_vars=[\"pt_j1\"],\n",
    "    theta_true=[0.,0.],\n",
    "    grid_ranges=grid_ranges,\n",
    "    grid_resolutions=grid_resolutions,\n",
    "    luminosity=lumi,\n",
    "    include_xsec=False,\n",
    "    return_asimov=True\n",
    ")\n",
    "\n",
    "p_values[\"Histogram\"] = p_values_expected_histo\n",
    "mle[\"Histogram\"] = best_fit_expected_histo"
   ]
  },
  {
   "cell_type": "markdown",
   "metadata": {},
   "source": [
    "With `mode=\"rate\"`, we could calculate limits based on only the rate -- but again, since the rate is extremely powerful when backgrounds and systematics are not taken into account, we don't do that in this tutorial."
   ]
  },
  {
   "cell_type": "markdown",
   "metadata": {},
   "source": [
    "Let's visualize the likelihood estimated with these histograms:"
   ]
  },
  {
   "cell_type": "code",
   "execution_count": 8,
   "metadata": {},
   "outputs": [
    {
     "data": {
      "image/png": "[encoded data removed]",
      "text/plain": [
       "<Figure size 360x360 with 1 Axes>"
      ]
     },
     "metadata": {
      "needs_background": "light"
     },
     "output_type": "display_data"
    }
   ],
   "source": [
    "indices = [12 + i * 25 for i in [6,9,12,15,18]]\n",
    "\n",
    "fig = plot_histograms(\n",
    "    histos=[histos[i] for i in indices],\n",
    "    observed=observed,\n",
    "    observed_weights=observed_weights,\n",
    "    histo_labels=[r\"$\\theta_0 = {:.2f}$\".format(theta_grid[i,0]) for i in indices],\n",
    "    xlabel=\"Jet $p_T$\",\n",
    "    xrange=(0.,500.),\n",
    ")\n",
    "\n",
    "plt.show()\n"
   ]
  },
  {
   "cell_type": "markdown",
   "metadata": {},
   "source": [
    "## 3. Expected limits based on ratio estimators"
   ]
  },
  {
   "cell_type": "markdown",
   "metadata": {},
   "source": [
    "Next, `mode=\"ml\"` allows us to calculate limits based on any `ParamterizedRatioEstimator` instance like the ALICES estimator trained above:"
   ]
  },
  {
   "cell_type": "code",
   "execution_count": 9,
   "metadata": {},
   "outputs": [
    {
     "name": "stderr",
     "output_type": "stream",
     "text": [
      "11:32 madminer.limits      INFO    Generating Asimov data\n",
      "11:32 madminer.limits      INFO    Expected events: 2.072791638419519\n",
      "11:32 madminer.limits      INFO    Loading kinematic likelihood ratio estimator\n",
      "11:32 madminer.ml          INFO    Loading model from models/alices\n",
      "11:32 madminer.limits      INFO    Calculating kinematic log likelihood ratio with estimator\n",
      "11:32 madminer.ml          INFO    Loading evaluation data\n",
      "11:32 madminer.ml          INFO    Starting ratio evaluation for 1251875 x-theta combinations\n",
      "11:33 madminer.ml          INFO    Evaluation done\n",
      "11:33 madminer.limits      INFO    Calculating p-values\n"
     ]
    }
   ],
   "source": [
    "theta_grid, p_values_expected_alices, best_fit_expected_alices, _, _, _ = limits.expected_limits(\n",
    "    mode=\"ml\",\n",
    "    model_file='models/alices',\n",
    "    theta_true=[0.,0.],\n",
    "    grid_ranges=grid_ranges,\n",
    "    grid_resolutions=grid_resolutions,\n",
    "    luminosity=lumi,\n",
    "    include_xsec=False,\n",
    ")\n",
    "\n",
    "p_values[\"ALICES\"] = p_values_expected_alices\n",
    "mle[\"ALICES\"] = best_fit_expected_alices"
   ]
  },
  {
   "cell_type": "markdown",
   "metadata": {},
   "source": [
    "## 4. Expected limits based on score estimators"
   ]
  },
  {
   "cell_type": "markdown",
   "metadata": {},
   "source": [
    "To get p-values from a SALLY estimator, we have to use histograms of the estimated score:"
   ]
  },
  {
   "cell_type": "code",
   "execution_count": 9,
   "metadata": {},
   "outputs": [
    {
     "name": "stderr",
     "output_type": "stream",
     "text": [
      "11:36 madminer.limits      INFO    Generating Asimov data\n",
      "11:36 madminer.limits      INFO    Expected events: 2.072791638419519\n",
      "11:36 madminer.limits      INFO    Loading score estimator and setting all components up as summary statistics\n",
      "11:36 madminer.ml          INFO    Loading model from models/sally\n",
      "11:36 madminer.ml          INFO    Starting score evaluation\n",
      "11:36 madminer.limits      INFO    Creating histograms of 2 summary statistics. Using 8 bins each, or 64 in total.\n",
      "11:36 madminer.limits      INFO    Determining fixed adaptive histogram binning for all points on grid\n",
      "11:36 madminer.analysis    WARNING Requested 100000 events, but only 12094 available\n",
      "11:36 madminer.ml          INFO    Starting score evaluation\n",
      "11:36 madminer.analysis    WARNING Requested 100000 events, but only 12094 available\n",
      "11:36 madminer.ml          INFO    Starting score evaluation\n",
      "11:36 madminer.limits      INFO    Calculating kinematic log likelihood with histograms\n",
      "11:36 madminer.limits      INFO    Calculating p-values\n"
     ]
    }
   ],
   "source": [
    "theta_grid, p_values_expected_sally, best_fit_expected_sally, _, _, (histos, observed, observed_weights) = limits.expected_limits(\n",
    "    mode=\"sally\",\n",
    "    model_file='models/sally',\n",
    "    theta_true=[0.,0.],\n",
    "    grid_ranges=grid_ranges,\n",
    "    grid_resolutions=grid_resolutions,\n",
    "    luminosity=lumi,\n",
    "    include_xsec=False,\n",
    "    return_asimov=True,\n",
    ")\n",
    "\n",
    "p_values[\"SALLY\"] = p_values_expected_sally\n",
    "mle[\"SALLY\"] = best_fit_expected_sally"
   ]
  },
  {
   "cell_type": "markdown",
   "metadata": {},
   "source": [
    "Let's have a look at the underlying 2D histograms:"
   ]
  },
  {
   "cell_type": "code",
   "execution_count": 10,
   "metadata": {},
   "outputs": [
    {
     "data": {
      "image/png": "[encoded data removed]",
      "text/plain": [
       "<Figure size 720x864 with 10 Axes>"
      ]
     },
     "metadata": {
      "needs_background": "light"
     },
     "output_type": "display_data"
    }
   ],
   "source": [
    "indices = [12 + i * 25 for i in [0,6,12,18,24]]\n",
    "\n",
    "fig = plot_histograms(\n",
    "    histos=[histos[i] for i in indices],\n",
    "    observed=observed[:200],\n",
    "    observed_weights=observed_weights[:200],\n",
    "    histo_labels=[r\"$\\theta_0 = {:.2f}$\".format(theta_grid[i,0]) for i in indices],\n",
    "    xlabel=r'$\\hat{t}_0(x)$',\n",
    "    ylabel=r'$\\hat{t}_1(x)$',\n",
    "    xrange=(-3.,.5),\n",
    "    yrange=(-3.,3.),\n",
    "    log=True,\n",
    "    zrange=(1.e-3,1.),\n",
    ")\n",
    "    "
   ]
  },
  {
   "cell_type": "markdown",
   "metadata": {},
   "source": [
    "We can also use the \"SALLINO\" strategy, which constructs 1D histogram of `theta * score` at every parameter point on the grid:"
   ]
  },
  {
   "cell_type": "code",
   "execution_count": 13,
   "metadata": {},
   "outputs": [
    {
     "name": "stderr",
     "output_type": "stream",
     "text": [
      "11:12 madminer.limits      INFO    Generating Asimov data\n",
      "11:12 madminer.limits      INFO    Expected events: 2.072791638419519\n",
      "11:12 madminer.limits      WARNING The SALLINO and adaptive SALLY methods require the reference point, but the argument thetaref was not provided. Assuming thetaref = [0. 0.].\n",
      "11:12 madminer.limits      INFO    Loading score estimator and setting all components up as summary statistics\n",
      "11:12 madminer.ml          INFO    Loading model from models/sally\n",
      "11:12 madminer.ml          INFO    Starting score evaluation\n",
      "11:12 root                 INFO    Keeping nuisance parameter score\n",
      "11:12 madminer.limits      INFO    Creating histograms of 1 summary statistics. Using 25 bins each, or 25 in total.\n",
      "11:12 madminer.analysis    WARNING Requested 100000 events, but only 12094 available\n",
      "11:12 madminer.ml          INFO    Starting score evaluation\n",
      "11:12 root                 INFO    Keeping nuisance parameter score\n",
      "11:12 madminer.utils.histo WARNING Large statistical uncertainties in histogram! Relative uncertainties range from 8% to 78% with median 15%.\n",
      "11:12 madminer.utils.histo WARNING Large statistical uncertainties in histogram! Relative uncertainties range from 7% to 81% with median 14%.\n",
      "11:12 madminer.utils.histo WARNING Large statistical uncertainties in histogram! Relative uncertainties range from 6% to 83% with median 17%.\n",
      "11:12 madminer.utils.histo WARNING Large statistical uncertainties in histogram! Relative uncertainties range from 6% to 81% with median 15%.\n",
      "11:12 madminer.utils.histo WARNING Large statistical uncertainties in histogram! Relative uncertainties range from 6% to 86% with median 17%.\n",
      "11:12 madminer.utils.histo WARNING Large statistical uncertainties in histogram! Relative uncertainties range from 7% to 85% with median 16%.\n",
      "11:12 madminer.utils.histo WARNING Large statistical uncertainties in histogram! Relative uncertainties range from 7% to 85% with median 15%.\n",
      "11:12 madminer.utils.histo WARNING Large statistical uncertainties in histogram! Relative uncertainties range from 6% to 81% with median 17%.\n",
      "11:12 madminer.utils.histo WARNING Large statistical uncertainties in histogram! Relative uncertainties range from 6% to 79% with median 15%.\n",
      "11:12 madminer.utils.histo WARNING Large statistical uncertainties in histogram! Relative uncertainties range from 6% to 77% with median 15%.\n",
      "11:12 madminer.utils.histo WARNING Large statistical uncertainties in histogram! Relative uncertainties range from 5% to 81% with median 15%.\n",
      "11:12 madminer.utils.histo WARNING Large statistical uncertainties in histogram! Relative uncertainties range from 5% to 85% with median 16%.\n",
      "11:12 madminer.utils.histo WARNING Large statistical uncertainties in histogram! Relative uncertainties range from 4% to 73% with median 16%.\n",
      "11:12 madminer.utils.histo WARNING Large statistical uncertainties in histogram! Relative uncertainties range from 5% to 100% with median 15%.\n",
      "11:12 madminer.utils.histo WARNING Large statistical uncertainties in histogram! Relative uncertainties range from 5% to 91% with median 15%.\n",
      "11:12 madminer.utils.histo WARNING Large statistical uncertainties in histogram! Relative uncertainties range from 5% to 81% with median 15%.\n",
      "11:12 madminer.utils.histo WARNING Large statistical uncertainties in histogram! Relative uncertainties range from 6% to 74% with median 15%.\n",
      "11:12 madminer.utils.histo WARNING Large statistical uncertainties in histogram! Relative uncertainties range from 6% to 77% with median 15%.\n",
      "11:12 madminer.utils.histo WARNING Large statistical uncertainties in histogram! Relative uncertainties range from 7% to 72% with median 15%.\n",
      "11:12 madminer.utils.histo WARNING Large statistical uncertainties in histogram! Relative uncertainties range from 7% to 70% with median 15%.\n",
      "11:12 madminer.utils.histo WARNING Large statistical uncertainties in histogram! Relative uncertainties range from 7% to 88% with median 15%.\n",
      "11:12 madminer.utils.histo WARNING Large statistical uncertainties in histogram! Relative uncertainties range from 7% to 98% with median 16%.\n",
      "11:12 madminer.utils.histo WARNING Large statistical uncertainties in histogram! Relative uncertainties range from 7% to 89% with median 14%.\n",
      "11:12 madminer.utils.histo WARNING Large statistical uncertainties in histogram! Relative uncertainties range from 7% to 85% with median 15%.\n",
      "11:12 madminer.utils.histo WARNING Large statistical uncertainties in histogram! Relative uncertainties range from 7% to 85% with median 14%.\n",
      "11:12 madminer.utils.histo WARNING Large statistical uncertainties in histogram! Relative uncertainties range from 7% to 91% with median 15%.\n",
      "11:12 madminer.utils.histo WARNING Large statistical uncertainties in histogram! Relative uncertainties range from 7% to 78% with median 14%.\n",
      "11:12 madminer.utils.histo WARNING Large statistical uncertainties in histogram! Relative uncertainties range from 7% to 81% with median 15%.\n",
      "11:12 madminer.utils.histo WARNING Large statistical uncertainties in histogram! Relative uncertainties range from 6% to 83% with median 17%.\n",
      "11:12 madminer.utils.histo WARNING Large statistical uncertainties in histogram! Relative uncertainties range from 6% to 81% with median 16%.\n",
      "11:12 madminer.utils.histo WARNING Large statistical uncertainties in histogram! Relative uncertainties range from 6% to 86% with median 16%.\n",
      "11:12 madminer.utils.histo WARNING Large statistical uncertainties in histogram! Relative uncertainties range from 7% to 85% with median 15%.\n",
      "11:12 madminer.utils.histo WARNING Large statistical uncertainties in histogram! Relative uncertainties range from 6% to 82% with median 15%.\n",
      "11:12 madminer.utils.histo WARNING Large statistical uncertainties in histogram! Relative uncertainties range from 6% to 81% with median 15%.\n",
      "11:12 madminer.utils.histo WARNING Large statistical uncertainties in histogram! Relative uncertainties range from 6% to 82% with median 16%.\n",
      "11:12 madminer.utils.histo WARNING Large statistical uncertainties in histogram! Relative uncertainties range from 5% to 81% with median 15%.\n",
      "11:12 madminer.utils.histo WARNING Large statistical uncertainties in histogram! Relative uncertainties range from 5% to 75% with median 14%.\n",
      "11:12 madminer.utils.histo WARNING Large statistical uncertainties in histogram! Relative uncertainties range from 4% to 73% with median 15%.\n",
      "11:12 madminer.utils.histo WARNING Large statistical uncertainties in histogram! Relative uncertainties range from 4% to 99% with median 16%.\n",
      "11:12 madminer.utils.histo WARNING Large statistical uncertainties in histogram! Relative uncertainties range from 5% to 71% with median 14%.\n",
      "11:12 madminer.utils.histo WARNING Large statistical uncertainties in histogram! Relative uncertainties range from 5% to 76% with median 17%.\n",
      "11:12 madminer.utils.histo WARNING Large statistical uncertainties in histogram! Relative uncertainties range from 6% to 77% with median 15%.\n",
      "11:12 madminer.utils.histo WARNING Large statistical uncertainties in histogram! Relative uncertainties range from 6% to 77% with median 15%.\n",
      "11:12 madminer.utils.histo WARNING Large statistical uncertainties in histogram! Relative uncertainties range from 7% to 71% with median 15%.\n",
      "11:12 madminer.utils.histo WARNING Large statistical uncertainties in histogram! Relative uncertainties range from 7% to 88% with median 14%.\n",
      "11:12 madminer.utils.histo WARNING Large statistical uncertainties in histogram! Relative uncertainties range from 7% to 91% with median 16%.\n",
      "11:12 madminer.utils.histo WARNING Large statistical uncertainties in histogram! Relative uncertainties range from 7% to 90% with median 14%.\n",
      "11:12 madminer.utils.histo WARNING Large statistical uncertainties in histogram! Relative uncertainties range from 7% to 86% with median 15%.\n",
      "11:12 madminer.utils.histo WARNING Large statistical uncertainties in histogram! Relative uncertainties range from 7% to 85% with median 14%.\n",
      "11:12 madminer.utils.histo WARNING Large statistical uncertainties in histogram! Relative uncertainties range from 8% to 75% with median 14%.\n",
      "11:12 madminer.utils.histo WARNING Large statistical uncertainties in histogram! Relative uncertainties range from 7% to 80% with median 16%.\n",
      "11:12 madminer.utils.histo WARNING Large statistical uncertainties in histogram! Relative uncertainties range from 6% to 92% with median 15%.\n"
     ]
    },
    {
     "name": "stderr",
     "output_type": "stream",
     "text": [
      "11:12 madminer.utils.histo WARNING Large statistical uncertainties in histogram! Relative uncertainties range from 7% to 77% with median 15%.\n",
      "11:12 madminer.utils.histo WARNING Large statistical uncertainties in histogram! Relative uncertainties range from 7% to 79% with median 15%.\n",
      "11:12 madminer.utils.histo WARNING Large statistical uncertainties in histogram! Relative uncertainties range from 6% to 82% with median 17%.\n",
      "11:12 madminer.utils.histo WARNING Large statistical uncertainties in histogram! Relative uncertainties range from 6% to 77% with median 17%.\n",
      "11:12 madminer.utils.histo WARNING Large statistical uncertainties in histogram! Relative uncertainties range from 6% to 87% with median 16%.\n",
      "11:12 madminer.utils.histo WARNING Large statistical uncertainties in histogram! Relative uncertainties range from 7% to 86% with median 15%.\n",
      "11:12 madminer.utils.histo WARNING Large statistical uncertainties in histogram! Relative uncertainties range from 6% to 82% with median 16%.\n",
      "11:12 madminer.utils.histo WARNING Large statistical uncertainties in histogram! Relative uncertainties range from 6% to 82% with median 14%.\n",
      "11:12 madminer.utils.histo WARNING Large statistical uncertainties in histogram! Relative uncertainties range from 5% to 81% with median 15%.\n",
      "11:12 madminer.utils.histo WARNING Large statistical uncertainties in histogram! Relative uncertainties range from 5% to 75% with median 15%.\n",
      "11:12 madminer.utils.histo WARNING Large statistical uncertainties in histogram! Relative uncertainties range from 4% to 74% with median 15%.\n",
      "11:12 madminer.utils.histo WARNING Large statistical uncertainties in histogram! Relative uncertainties range from 4% to 98% with median 16%.\n",
      "11:12 madminer.utils.histo WARNING Large statistical uncertainties in histogram! Relative uncertainties range from 5% to 86% with median 16%.\n",
      "11:12 madminer.utils.histo WARNING Large statistical uncertainties in histogram! Relative uncertainties range from 5% to 74% with median 17%.\n",
      "11:12 madminer.utils.histo WARNING Large statistical uncertainties in histogram! Relative uncertainties range from 6% to 77% with median 15%.\n",
      "11:12 madminer.utils.histo WARNING Large statistical uncertainties in histogram! Relative uncertainties range from 7% to 72% with median 15%.\n",
      "11:12 madminer.utils.histo WARNING Large statistical uncertainties in histogram! Relative uncertainties range from 7% to 88% with median 15%.\n",
      "11:12 madminer.utils.histo WARNING Large statistical uncertainties in histogram! Relative uncertainties range from 6% to 91% with median 16%.\n",
      "11:12 madminer.utils.histo WARNING Large statistical uncertainties in histogram! Relative uncertainties range from 7% to 90% with median 13%.\n",
      "11:12 madminer.utils.histo WARNING Large statistical uncertainties in histogram! Relative uncertainties range from 7% to 86% with median 15%.\n",
      "11:12 madminer.utils.histo WARNING Large statistical uncertainties in histogram! Relative uncertainties range from 7% to 80% with median 14%.\n",
      "11:12 madminer.utils.histo WARNING Large statistical uncertainties in histogram! Relative uncertainties range from 8% to 75% with median 14%.\n",
      "11:12 madminer.utils.histo WARNING Large statistical uncertainties in histogram! Relative uncertainties range from 7% to 72% with median 14%.\n",
      "11:12 madminer.utils.histo WARNING Large statistical uncertainties in histogram! Relative uncertainties range from 7% to 80% with median 14%.\n",
      "11:12 madminer.utils.histo WARNING Large statistical uncertainties in histogram! Relative uncertainties range from 7% to 80% with median 15%.\n",
      "11:12 madminer.utils.histo WARNING Large statistical uncertainties in histogram! Relative uncertainties range from 6% to 80% with median 16%.\n",
      "11:12 madminer.utils.histo WARNING Large statistical uncertainties in histogram! Relative uncertainties range from 7% to 75% with median 15%.\n",
      "11:12 madminer.utils.histo WARNING Large statistical uncertainties in histogram! Relative uncertainties range from 7% to 78% with median 14%.\n",
      "11:12 madminer.utils.histo WARNING Large statistical uncertainties in histogram! Relative uncertainties range from 6% to 80% with median 16%.\n",
      "11:12 madminer.utils.histo WARNING Large statistical uncertainties in histogram! Relative uncertainties range from 6% to 87% with median 16%.\n",
      "11:12 madminer.utils.histo WARNING Large statistical uncertainties in histogram! Relative uncertainties range from 6% to 87% with median 15%.\n",
      "11:12 madminer.utils.histo WARNING Large statistical uncertainties in histogram! Relative uncertainties range from 6% to 83% with median 16%.\n",
      "11:12 madminer.utils.histo WARNING Large statistical uncertainties in histogram! Relative uncertainties range from 6% to 82% with median 14%.\n",
      "11:12 madminer.utils.histo WARNING Large statistical uncertainties in histogram! Relative uncertainties range from 5% to 83% with median 16%.\n",
      "11:12 madminer.utils.histo WARNING Large statistical uncertainties in histogram! Relative uncertainties range from 5% to 76% with median 14%.\n",
      "11:12 madminer.utils.histo WARNING Large statistical uncertainties in histogram! Relative uncertainties range from 5% to 75% with median 15%.\n",
      "11:12 madminer.utils.histo WARNING Large statistical uncertainties in histogram! Relative uncertainties range from 4% to 97% with median 15%.\n",
      "11:12 madminer.utils.histo WARNING Large statistical uncertainties in histogram! Relative uncertainties range from 5% to 82% with median 16%.\n",
      "11:12 madminer.utils.histo WARNING Large statistical uncertainties in histogram! Relative uncertainties range from 6% to 77% with median 15%.\n",
      "11:12 madminer.utils.histo WARNING Large statistical uncertainties in histogram! Relative uncertainties range from 6% to 77% with median 14%.\n",
      "11:12 madminer.utils.histo WARNING Large statistical uncertainties in histogram! Relative uncertainties range from 7% to 71% with median 14%.\n",
      "11:12 madminer.utils.histo WARNING Large statistical uncertainties in histogram! Relative uncertainties range from 6% to 89% with median 15%.\n",
      "11:12 madminer.utils.histo WARNING Large statistical uncertainties in histogram! Relative uncertainties range from 7% to 90% with median 15%.\n",
      "11:12 madminer.utils.histo WARNING Large statistical uncertainties in histogram! Relative uncertainties range from 7% to 85% with median 15%.\n",
      "11:12 madminer.utils.histo WARNING Large statistical uncertainties in histogram! Relative uncertainties range from 7% to 80% with median 14%.\n",
      "11:12 madminer.utils.histo WARNING Large statistical uncertainties in histogram! Relative uncertainties range from 8% to 74% with median 14%.\n",
      "11:12 madminer.utils.histo WARNING Large statistical uncertainties in histogram! Relative uncertainties range from 7% to 68% with median 13%.\n",
      "11:12 madminer.utils.histo WARNING Large statistical uncertainties in histogram! Relative uncertainties range from 8% to 65% with median 14%.\n",
      "11:12 madminer.utils.histo WARNING Large statistical uncertainties in histogram! Relative uncertainties range from 8% to 74% with median 15%.\n",
      "11:12 madminer.utils.histo WARNING Large statistical uncertainties in histogram! Relative uncertainties range from 7% to 77% with median 15%.\n",
      "11:12 madminer.utils.histo WARNING Large statistical uncertainties in histogram! Relative uncertainties range from 7% to 81% with median 15%.\n",
      "11:12 madminer.utils.histo WARNING Large statistical uncertainties in histogram! Relative uncertainties range from 7% to 80% with median 16%.\n",
      "11:12 madminer.utils.histo WARNING Large statistical uncertainties in histogram! Relative uncertainties range from 8% to 76% with median 15%.\n",
      "11:12 madminer.utils.histo WARNING Large statistical uncertainties in histogram! Relative uncertainties range from 7% to 77% with median 14%.\n",
      "11:12 madminer.utils.histo WARNING Large statistical uncertainties in histogram! Relative uncertainties range from 6% to 79% with median 16%.\n",
      "11:12 madminer.utils.histo WARNING Large statistical uncertainties in histogram! Relative uncertainties range from 6% to 88% with median 16%.\n",
      "11:12 madminer.utils.histo WARNING Large statistical uncertainties in histogram! Relative uncertainties range from 6% to 88% with median 15%.\n",
      "11:12 madminer.utils.histo WARNING Large statistical uncertainties in histogram! Relative uncertainties range from 5% to 84% with median 14%.\n"
     ]
    },
    {
     "name": "stderr",
     "output_type": "stream",
     "text": [
      "11:12 madminer.utils.histo WARNING Large statistical uncertainties in histogram! Relative uncertainties range from 5% to 82% with median 14%.\n",
      "11:12 madminer.utils.histo WARNING Large statistical uncertainties in histogram! Relative uncertainties range from 5% to 77% with median 15%.\n",
      "11:12 madminer.utils.histo WARNING Large statistical uncertainties in histogram! Relative uncertainties range from 4% to 82% with median 14%.\n",
      "11:12 madminer.utils.histo WARNING Large statistical uncertainties in histogram! Relative uncertainties range from 4% to 96% with median 15%.\n",
      "11:12 madminer.utils.histo WARNING Large statistical uncertainties in histogram! Relative uncertainties range from 5% to 72% with median 15%.\n",
      "11:12 madminer.utils.histo WARNING Large statistical uncertainties in histogram! Relative uncertainties range from 6% to 78% with median 14%.\n",
      "11:12 madminer.utils.histo WARNING Large statistical uncertainties in histogram! Relative uncertainties range from 6% to 72% with median 14%.\n",
      "11:12 madminer.utils.histo WARNING Large statistical uncertainties in histogram! Relative uncertainties range from 7% to 85% with median 14%.\n",
      "11:12 madminer.utils.histo WARNING Large statistical uncertainties in histogram! Relative uncertainties range from 6% to 90% with median 15%.\n",
      "11:12 madminer.utils.histo WARNING Large statistical uncertainties in histogram! Relative uncertainties range from 6% to 85% with median 14%.\n",
      "11:12 madminer.utils.histo WARNING Large statistical uncertainties in histogram! Relative uncertainties range from 7% to 79% with median 14%.\n",
      "11:12 madminer.utils.histo WARNING Large statistical uncertainties in histogram! Relative uncertainties range from 8% to 70% with median 14%.\n",
      "11:12 madminer.utils.histo WARNING Large statistical uncertainties in histogram! Relative uncertainties range from 8% to 67% with median 15%.\n",
      "11:12 madminer.utils.histo WARNING Large statistical uncertainties in histogram! Relative uncertainties range from 7% to 62% with median 14%.\n",
      "11:12 madminer.utils.histo WARNING Large statistical uncertainties in histogram! Relative uncertainties range from 8% to 63% with median 15%.\n",
      "11:12 madminer.utils.histo WARNING Large statistical uncertainties in histogram! Relative uncertainties range from 8% to 77% with median 14%.\n",
      "11:12 madminer.utils.histo WARNING Large statistical uncertainties in histogram! Relative uncertainties range from 8% to 81% with median 16%.\n",
      "11:12 madminer.utils.histo WARNING Large statistical uncertainties in histogram! Relative uncertainties range from 8% to 74% with median 15%.\n",
      "11:12 madminer.utils.histo WARNING Large statistical uncertainties in histogram! Relative uncertainties range from 7% to 78% with median 14%.\n",
      "11:12 madminer.utils.histo WARNING Large statistical uncertainties in histogram! Relative uncertainties range from 7% to 80% with median 15%.\n",
      "11:12 madminer.utils.histo WARNING Large statistical uncertainties in histogram! Relative uncertainties range from 8% to 77% with median 15%.\n",
      "11:12 madminer.utils.histo WARNING Large statistical uncertainties in histogram! Relative uncertainties range from 7% to 77% with median 14%.\n",
      "11:12 madminer.utils.histo WARNING Large statistical uncertainties in histogram! Relative uncertainties range from 6% to 79% with median 15%.\n",
      "11:12 madminer.utils.histo WARNING Large statistical uncertainties in histogram! Relative uncertainties range from 6% to 90% with median 15%.\n",
      "11:12 madminer.utils.histo WARNING Large statistical uncertainties in histogram! Relative uncertainties range from 7% to 86% with median 15%.\n",
      "11:12 madminer.utils.histo WARNING Large statistical uncertainties in histogram! Relative uncertainties range from 5% to 85% with median 14%.\n",
      "11:12 madminer.utils.histo WARNING Large statistical uncertainties in histogram! Relative uncertainties range from 5% to 82% with median 15%.\n",
      "11:12 madminer.utils.histo WARNING Large statistical uncertainties in histogram! Relative uncertainties range from 5% to 82% with median 15%.\n",
      "11:12 madminer.utils.histo WARNING Large statistical uncertainties in histogram! Relative uncertainties range from 4% to 92% with median 15%.\n",
      "11:12 madminer.utils.histo WARNING Large statistical uncertainties in histogram! Relative uncertainties range from 5% to 78% with median 13%.\n",
      "11:12 madminer.utils.histo WARNING Large statistical uncertainties in histogram! Relative uncertainties range from 6% to 77% with median 12%.\n",
      "11:12 madminer.utils.histo WARNING Large statistical uncertainties in histogram! Relative uncertainties range from 7% to 88% with median 14%.\n",
      "11:12 madminer.utils.histo WARNING Large statistical uncertainties in histogram! Relative uncertainties range from 6% to 96% with median 14%.\n",
      "11:12 madminer.utils.histo WARNING Large statistical uncertainties in histogram! Relative uncertainties range from 6% to 80% with median 13%.\n",
      "11:12 madminer.utils.histo WARNING Large statistical uncertainties in histogram! Relative uncertainties range from 7% to 75% with median 13%.\n",
      "11:12 madminer.utils.histo WARNING Large statistical uncertainties in histogram! Relative uncertainties range from 7% to 69% with median 13%.\n",
      "11:12 madminer.utils.histo WARNING Large statistical uncertainties in histogram! Relative uncertainties range from 7% to 66% with median 14%.\n",
      "11:12 madminer.utils.histo WARNING Large statistical uncertainties in histogram! Relative uncertainties range from 8% to 61% with median 13%.\n",
      "11:12 madminer.utils.histo WARNING Large statistical uncertainties in histogram! Relative uncertainties range from 7% to 58% with median 15%.\n",
      "11:12 madminer.utils.histo WARNING Large statistical uncertainties in histogram! Relative uncertainties range from 7% to 60% with median 15%.\n",
      "11:12 madminer.utils.histo WARNING Large statistical uncertainties in histogram! Relative uncertainties range from 6% to 75% with median 13%.\n",
      "11:12 madminer.utils.histo WARNING Large statistical uncertainties in histogram! Relative uncertainties range from 6% to 73% with median 14%.\n",
      "11:12 madminer.utils.histo WARNING Large statistical uncertainties in histogram! Relative uncertainties range from 8% to 76% with median 14%.\n",
      "11:12 madminer.utils.histo WARNING Large statistical uncertainties in histogram! Relative uncertainties range from 8% to 70% with median 16%.\n",
      "11:12 madminer.utils.histo WARNING Large statistical uncertainties in histogram! Relative uncertainties range from 7% to 74% with median 15%.\n",
      "11:12 madminer.utils.histo WARNING Large statistical uncertainties in histogram! Relative uncertainties range from 7% to 77% with median 14%.\n",
      "11:12 madminer.utils.histo WARNING Large statistical uncertainties in histogram! Relative uncertainties range from 7% to 78% with median 15%.\n",
      "11:12 madminer.utils.histo WARNING Large statistical uncertainties in histogram! Relative uncertainties range from 7% to 78% with median 14%.\n",
      "11:12 madminer.utils.histo WARNING Large statistical uncertainties in histogram! Relative uncertainties range from 5% to 92% with median 15%.\n",
      "11:12 madminer.utils.histo WARNING Large statistical uncertainties in histogram! Relative uncertainties range from 7% to 92% with median 14%.\n",
      "11:12 madminer.utils.histo WARNING Large statistical uncertainties in histogram! Relative uncertainties range from 5% to 86% with median 13%.\n",
      "11:12 madminer.utils.histo WARNING Large statistical uncertainties in histogram! Relative uncertainties range from 4% to 91% with median 14%.\n",
      "11:12 madminer.utils.histo WARNING Large statistical uncertainties in histogram! Relative uncertainties range from 5% to 82% with median 13%.\n",
      "11:12 madminer.utils.histo WARNING Large statistical uncertainties in histogram! Relative uncertainties range from 4% to 90% with median 13%.\n",
      "11:12 madminer.utils.histo WARNING Large statistical uncertainties in histogram! Relative uncertainties range from 5% to 79% with median 12%.\n",
      "11:12 madminer.utils.histo WARNING Large statistical uncertainties in histogram! Relative uncertainties range from 7% to 89% with median 14%.\n",
      "11:12 madminer.utils.histo WARNING Large statistical uncertainties in histogram! Relative uncertainties range from 7% to 90% with median 13%.\n",
      "11:12 madminer.utils.histo WARNING Large statistical uncertainties in histogram! Relative uncertainties range from 6% to 79% with median 13%.\n"
     ]
    },
    {
     "name": "stderr",
     "output_type": "stream",
     "text": [
      "11:12 madminer.utils.histo WARNING Large statistical uncertainties in histogram! Relative uncertainties range from 7% to 74% with median 13%.\n",
      "11:12 madminer.utils.histo WARNING Large statistical uncertainties in histogram! Relative uncertainties range from 7% to 66% with median 13%.\n",
      "11:12 madminer.utils.histo WARNING Large statistical uncertainties in histogram! Relative uncertainties range from 8% to 59% with median 14%.\n",
      "11:12 madminer.utils.histo WARNING Large statistical uncertainties in histogram! Relative uncertainties range from 8% to 63% with median 14%.\n",
      "11:12 madminer.utils.histo WARNING Large statistical uncertainties in histogram! Relative uncertainties range from 8% to 60% with median 15%.\n",
      "11:12 madminer.utils.histo WARNING Large statistical uncertainties in histogram! Relative uncertainties range from 8% to 62% with median 16%.\n",
      "11:12 madminer.utils.histo WARNING Large statistical uncertainties in histogram! Relative uncertainties range from 8% to 63% with median 14%.\n",
      "11:12 madminer.utils.histo WARNING Large statistical uncertainties in histogram! Relative uncertainties range from 9% to 62% with median 14%.\n",
      "11:12 madminer.utils.histo WARNING Large statistical uncertainties in histogram! Relative uncertainties range from 8% to 64% with median 13%.\n",
      "11:12 madminer.utils.histo WARNING Large statistical uncertainties in histogram! Relative uncertainties range from 6% to 64% with median 14%.\n",
      "11:12 madminer.utils.histo WARNING Large statistical uncertainties in histogram! Relative uncertainties range from 6% to 72% with median 14%.\n",
      "11:12 madminer.utils.histo WARNING Large statistical uncertainties in histogram! Relative uncertainties range from 8% to 74% with median 13%.\n",
      "11:12 madminer.utils.histo WARNING Large statistical uncertainties in histogram! Relative uncertainties range from 8% to 69% with median 15%.\n",
      "11:12 madminer.utils.histo WARNING Large statistical uncertainties in histogram! Relative uncertainties range from 7% to 72% with median 14%.\n",
      "11:12 madminer.utils.histo WARNING Large statistical uncertainties in histogram! Relative uncertainties range from 6% to 79% with median 14%.\n",
      "11:12 madminer.utils.histo WARNING Large statistical uncertainties in histogram! Relative uncertainties range from 7% to 81% with median 14%.\n",
      "11:12 madminer.utils.histo WARNING Large statistical uncertainties in histogram! Relative uncertainties range from 5% to 96% with median 14%.\n",
      "11:12 madminer.utils.histo WARNING Large statistical uncertainties in histogram! Relative uncertainties range from 5% to 91% with median 14%.\n",
      "11:12 madminer.utils.histo WARNING Large statistical uncertainties in histogram! Relative uncertainties range from 4% to 92% with median 13%.\n",
      "11:12 madminer.utils.histo WARNING Large statistical uncertainties in histogram! Relative uncertainties range from 5% to 87% with median 11%.\n",
      "11:12 madminer.utils.histo WARNING Large statistical uncertainties in histogram! Relative uncertainties range from 5% to 83% with median 13%.\n",
      "11:12 madminer.utils.histo WARNING Large statistical uncertainties in histogram! Relative uncertainties range from 5% to 78% with median 13%.\n",
      "11:12 madminer.utils.histo WARNING Large statistical uncertainties in histogram! Relative uncertainties range from 7% to 88% with median 12%.\n",
      "11:12 madminer.utils.histo WARNING Large statistical uncertainties in histogram! Relative uncertainties range from 6% to 74% with median 13%.\n",
      "11:12 madminer.utils.histo WARNING Large statistical uncertainties in histogram! Relative uncertainties range from 6% to 69% with median 13%.\n",
      "11:12 madminer.utils.histo WARNING Large statistical uncertainties in histogram! Relative uncertainties range from 7% to 63% with median 13%.\n",
      "11:12 madminer.utils.histo WARNING Large statistical uncertainties in histogram! Relative uncertainties range from 7% to 59% with median 14%.\n",
      "11:12 madminer.utils.histo WARNING Large statistical uncertainties in histogram! Relative uncertainties range from 8% to 59% with median 13%.\n",
      "11:12 madminer.utils.histo WARNING Large statistical uncertainties in histogram! Relative uncertainties range from 7% to 61% with median 15%.\n",
      "11:12 madminer.utils.histo WARNING Large statistical uncertainties in histogram! Relative uncertainties range from 8% to 63% with median 14%.\n",
      "11:12 madminer.utils.histo WARNING Large statistical uncertainties in histogram! Relative uncertainties range from 8% to 64% with median 14%.\n",
      "11:12 madminer.utils.histo WARNING Large statistical uncertainties in histogram! Relative uncertainties range from 9% to 63% with median 14%.\n",
      "11:12 madminer.utils.histo WARNING Large statistical uncertainties in histogram! Relative uncertainties range from 6% to 54% with median 14%.\n",
      "11:12 madminer.utils.histo WARNING Large statistical uncertainties in histogram! Relative uncertainties range from 7% to 57% with median 14%.\n",
      "11:12 madminer.utils.histo WARNING Large statistical uncertainties in histogram! Relative uncertainties range from 6% to 59% with median 14%.\n",
      "11:12 madminer.utils.histo WARNING Large statistical uncertainties in histogram! Relative uncertainties range from 6% to 61% with median 13%.\n",
      "11:12 madminer.utils.histo WARNING Large statistical uncertainties in histogram! Relative uncertainties range from 6% to 64% with median 14%.\n",
      "11:12 madminer.utils.histo WARNING Large statistical uncertainties in histogram! Relative uncertainties range from 6% to 73% with median 14%.\n",
      "11:12 madminer.utils.histo WARNING Large statistical uncertainties in histogram! Relative uncertainties range from 7% to 71% with median 13%.\n",
      "11:12 madminer.utils.histo WARNING Large statistical uncertainties in histogram! Relative uncertainties range from 7% to 67% with median 15%.\n",
      "11:12 madminer.utils.histo WARNING Large statistical uncertainties in histogram! Relative uncertainties range from 6% to 79% with median 14%.\n",
      "11:12 madminer.utils.histo WARNING Large statistical uncertainties in histogram! Relative uncertainties range from 6% to 84% with median 15%.\n",
      "11:12 madminer.utils.histo WARNING Large statistical uncertainties in histogram! Relative uncertainties range from 6% to 100% with median 13%.\n",
      "11:12 madminer.utils.histo WARNING Large statistical uncertainties in histogram! Relative uncertainties range from 5% to 96% with median 12%.\n",
      "11:12 madminer.utils.histo WARNING Large statistical uncertainties in histogram! Relative uncertainties range from 5% to 81% with median 11%.\n",
      "11:12 madminer.utils.histo WARNING Large statistical uncertainties in histogram! Relative uncertainties range from 5% to 89% with median 11%.\n",
      "11:12 madminer.utils.histo WARNING Large statistical uncertainties in histogram! Relative uncertainties range from 6% to 80% with median 12%.\n",
      "11:12 madminer.utils.histo WARNING Large statistical uncertainties in histogram! Relative uncertainties range from 6% to 71% with median 13%.\n",
      "11:12 madminer.utils.histo WARNING Large statistical uncertainties in histogram! Relative uncertainties range from 6% to 67% with median 13%.\n",
      "11:12 madminer.utils.histo WARNING Large statistical uncertainties in histogram! Relative uncertainties range from 7% to 59% with median 14%.\n",
      "11:12 madminer.utils.histo WARNING Large statistical uncertainties in histogram! Relative uncertainties range from 7% to 57% with median 13%.\n",
      "11:12 madminer.utils.histo WARNING Large statistical uncertainties in histogram! Relative uncertainties range from 8% to 60% with median 14%.\n",
      "11:12 madminer.utils.histo WARNING Large statistical uncertainties in histogram! Relative uncertainties range from 8% to 63% with median 14%.\n",
      "11:12 madminer.utils.histo WARNING Large statistical uncertainties in histogram! Relative uncertainties range from 8% to 64% with median 14%.\n",
      "11:12 madminer.utils.histo WARNING Large statistical uncertainties in histogram! Relative uncertainties range from 8% to 55% with median 14%.\n",
      "11:12 madminer.utils.histo WARNING Large statistical uncertainties in histogram! Relative uncertainties range from 8% to 55% with median 13%.\n",
      "11:12 madminer.utils.histo WARNING Large statistical uncertainties in histogram! Relative uncertainties range from 8% to 60% with median 14%.\n",
      "11:12 madminer.utils.histo WARNING Large statistical uncertainties in histogram! Relative uncertainties range from 6% to 51% with median 15%.\n"
     ]
    },
    {
     "name": "stderr",
     "output_type": "stream",
     "text": [
      "11:12 madminer.utils.histo WARNING Large statistical uncertainties in histogram! Relative uncertainties range from 7% to 53% with median 15%.\n",
      "11:12 madminer.utils.histo WARNING Large statistical uncertainties in histogram! Relative uncertainties range from 6% to 53% with median 15%.\n",
      "11:12 madminer.utils.histo WARNING Large statistical uncertainties in histogram! Relative uncertainties range from 6% to 53% with median 14%.\n",
      "11:12 madminer.utils.histo WARNING Large statistical uncertainties in histogram! Relative uncertainties range from 6% to 55% with median 15%.\n",
      "11:12 madminer.utils.histo WARNING Large statistical uncertainties in histogram! Relative uncertainties range from 7% to 57% with median 14%.\n",
      "11:12 madminer.utils.histo WARNING Large statistical uncertainties in histogram! Relative uncertainties range from 6% to 60% with median 13%.\n",
      "11:12 madminer.utils.histo WARNING Large statistical uncertainties in histogram! Relative uncertainties range from 7% to 59% with median 14%.\n",
      "11:12 madminer.utils.histo WARNING Large statistical uncertainties in histogram! Relative uncertainties range from 7% to 72% with median 13%.\n",
      "11:12 madminer.utils.histo WARNING Large statistical uncertainties in histogram! Relative uncertainties range from 6% to 93% with median 13%.\n",
      "11:12 madminer.utils.histo WARNING Large statistical uncertainties in histogram! Relative uncertainties range from 6% to 85% with median 13%.\n",
      "11:12 madminer.utils.histo WARNING Large statistical uncertainties in histogram! Relative uncertainties range from 5% to 78% with median 11%.\n",
      "11:12 madminer.utils.histo WARNING Large statistical uncertainties in histogram! Relative uncertainties range from 6% to 83% with median 9%.\n",
      "11:12 madminer.utils.histo WARNING Large statistical uncertainties in histogram! Relative uncertainties range from 6% to 71% with median 10%.\n",
      "11:12 madminer.utils.histo WARNING Large statistical uncertainties in histogram! Relative uncertainties range from 6% to 61% with median 11%.\n",
      "11:12 madminer.utils.histo WARNING Large statistical uncertainties in histogram! Relative uncertainties range from 6% to 58% with median 12%.\n",
      "11:12 madminer.utils.histo WARNING Large statistical uncertainties in histogram! Relative uncertainties range from 7% to 58% with median 12%.\n",
      "11:12 madminer.utils.histo WARNING Large statistical uncertainties in histogram! Relative uncertainties range from 7% to 60% with median 13%.\n",
      "11:12 madminer.utils.histo WARNING Large statistical uncertainties in histogram! Relative uncertainties range from 8% to 56% with median 14%.\n",
      "11:12 madminer.utils.histo WARNING Large statistical uncertainties in histogram! Relative uncertainties range from 8% to 55% with median 14%.\n",
      "11:12 madminer.utils.histo WARNING Large statistical uncertainties in histogram! Relative uncertainties range from 9% to 55% with median 13%.\n",
      "11:12 madminer.utils.histo WARNING Large statistical uncertainties in histogram! Relative uncertainties range from 8% to 52% with median 14%.\n",
      "11:12 madminer.utils.histo WARNING Large statistical uncertainties in histogram! Relative uncertainties range from 8% to 52% with median 14%.\n",
      "11:12 madminer.utils.histo WARNING Large statistical uncertainties in histogram! Relative uncertainties range from 9% to 52% with median 14%.\n",
      "11:12 madminer.utils.histo WARNING Large statistical uncertainties in histogram! Relative uncertainties range from 8% to 52% with median 14%.\n",
      "11:12 madminer.utils.histo WARNING Large statistical uncertainties in histogram! Relative uncertainties range from 6% to 51% with median 14%.\n",
      "11:12 madminer.utils.histo WARNING Large statistical uncertainties in histogram! Relative uncertainties range from 7% to 53% with median 14%.\n",
      "11:12 madminer.utils.histo WARNING Large statistical uncertainties in histogram! Relative uncertainties range from 6% to 55% with median 13%.\n",
      "11:12 madminer.utils.histo WARNING Large statistical uncertainties in histogram! Relative uncertainties range from 6% to 58% with median 14%.\n",
      "11:12 madminer.utils.histo WARNING Large statistical uncertainties in histogram! Relative uncertainties range from 6% to 61% with median 12%.\n",
      "11:12 madminer.utils.histo WARNING Large statistical uncertainties in histogram! Relative uncertainties range from 6% to 75% with median 12%.\n",
      "11:12 madminer.utils.histo WARNING Large statistical uncertainties in histogram! Relative uncertainties range from 5% to 76% with median 12%.\n",
      "11:12 madminer.utils.histo WARNING Large statistical uncertainties in histogram! Relative uncertainties range from 5% to 54% with median 10%.\n",
      "11:12 madminer.utils.histo WARNING Large statistical uncertainties in histogram! Relative uncertainties range from 5% to 58% with median 9%.\n",
      "11:12 madminer.utils.histo WARNING Large statistical uncertainties in histogram! Relative uncertainties range from 6% to 54% with median 11%.\n",
      "11:12 madminer.utils.histo WARNING Large statistical uncertainties in histogram! Relative uncertainties range from 7% to 54% with median 11%.\n",
      "11:12 madminer.utils.histo WARNING Large statistical uncertainties in histogram! Relative uncertainties range from 7% to 56% with median 12%.\n",
      "11:12 madminer.utils.histo WARNING Large statistical uncertainties in histogram! Relative uncertainties range from 7% to 55% with median 13%.\n",
      "11:12 madminer.utils.histo WARNING Large statistical uncertainties in histogram! Relative uncertainties range from 8% to 52% with median 13%.\n",
      "11:12 madminer.utils.histo WARNING Large statistical uncertainties in histogram! Relative uncertainties range from 8% to 52% with median 14%.\n",
      "11:12 madminer.utils.histo WARNING Large statistical uncertainties in histogram! Relative uncertainties range from 8% to 52% with median 13%.\n",
      "11:12 madminer.utils.histo WARNING Large statistical uncertainties in histogram! Relative uncertainties range from 8% to 51% with median 14%.\n",
      "11:12 madminer.utils.histo WARNING Large statistical uncertainties in histogram! Relative uncertainties range from 8% to 51% with median 14%.\n",
      "11:12 madminer.utils.histo WARNING Large statistical uncertainties in histogram! Relative uncertainties range from 6% to 52% with median 12%.\n",
      "11:12 madminer.utils.histo WARNING Large statistical uncertainties in histogram! Relative uncertainties range from 6% to 54% with median 13%.\n",
      "11:12 madminer.utils.histo WARNING Large statistical uncertainties in histogram! Relative uncertainties range from 6% to 56% with median 13%.\n",
      "11:12 madminer.utils.histo WARNING Large statistical uncertainties in histogram! Relative uncertainties range from 6% to 54% with median 11%.\n",
      "11:12 madminer.utils.histo WARNING Large statistical uncertainties in histogram! Relative uncertainties range from 7% to 50% with median 12%.\n",
      "11:12 madminer.utils.histo WARNING Large statistical uncertainties in histogram! Relative uncertainties range from 7% to 51% with median 13%.\n",
      "11:12 madminer.utils.histo WARNING Large statistical uncertainties in histogram! Relative uncertainties range from 6% to 50% with median 15%.\n",
      "11:12 madminer.utils.histo WARNING Large statistical uncertainties in histogram! Relative uncertainties range from 7% to 51% with median 14%.\n",
      "11:12 madminer.utils.histo WARNING Large statistical uncertainties in histogram! Relative uncertainties range from 7% to 53% with median 13%.\n",
      "11:12 madminer.utils.histo WARNING Large statistical uncertainties in histogram! Relative uncertainties range from 8% to 55% with median 11%.\n",
      "11:12 madminer.utils.histo WARNING Large statistical uncertainties in histogram! Relative uncertainties range from 6% to 53% with median 11%.\n",
      "11:12 madminer.utils.histo WARNING Large statistical uncertainties in histogram! Relative uncertainties range from 7% to 57% with median 11%.\n",
      "11:12 madminer.utils.histo WARNING Large statistical uncertainties in histogram! Relative uncertainties range from 8% to 69% with median 10%.\n",
      "11:12 madminer.utils.histo WARNING Large statistical uncertainties in histogram! Relative uncertainties range from 7% to 63% with median 12%.\n",
      "11:12 madminer.utils.histo WARNING Large statistical uncertainties in histogram! Relative uncertainties range from 8% to 57% with median 14%.\n",
      "11:12 madminer.utils.histo WARNING Large statistical uncertainties in histogram! Relative uncertainties range from 7% to 54% with median 14%.\n"
     ]
    },
    {
     "name": "stderr",
     "output_type": "stream",
     "text": [
      "11:12 madminer.utils.histo WARNING Large statistical uncertainties in histogram! Relative uncertainties range from 7% to 50% with median 14%.\n",
      "11:12 madminer.utils.histo WARNING Large statistical uncertainties in histogram! Relative uncertainties range from 6% to 51% with median 15%.\n",
      "11:12 madminer.utils.histo WARNING Large statistical uncertainties in histogram! Relative uncertainties range from 6% to 52% with median 14%.\n",
      "11:12 madminer.utils.histo WARNING Large statistical uncertainties in histogram! Relative uncertainties range from 7% to 52% with median 14%.\n",
      "11:12 madminer.utils.histo WARNING Large statistical uncertainties in histogram! Relative uncertainties range from 8% to 53% with median 13%.\n",
      "11:12 madminer.utils.histo WARNING Large statistical uncertainties in histogram! Relative uncertainties range from 6% to 55% with median 14%.\n",
      "11:12 madminer.utils.histo WARNING Large statistical uncertainties in histogram! Relative uncertainties range from 8% to 63% with median 13%.\n",
      "11:12 madminer.utils.histo WARNING Large statistical uncertainties in histogram! Relative uncertainties range from 7% to 64% with median 15%.\n",
      "11:12 madminer.utils.histo WARNING Large statistical uncertainties in histogram! Relative uncertainties range from 7% to 85% with median 15%.\n",
      "11:12 madminer.utils.histo WARNING Large statistical uncertainties in histogram! Relative uncertainties range from 6% to 73% with median 15%.\n",
      "11:12 madminer.utils.histo WARNING Large statistical uncertainties in histogram! Relative uncertainties range from 6% to 91% with median 15%.\n",
      "11:12 madminer.utils.histo WARNING Large statistical uncertainties in histogram! Relative uncertainties range from 6% to 84% with median 14%.\n",
      "11:12 madminer.utils.histo WARNING Large statistical uncertainties in histogram! Relative uncertainties range from 8% to 79% with median 12%.\n",
      "11:12 madminer.utils.histo WARNING Large statistical uncertainties in histogram! Relative uncertainties range from 7% to 74% with median 15%.\n",
      "11:12 madminer.utils.histo WARNING Large statistical uncertainties in histogram! Relative uncertainties range from 8% to 65% with median 13%.\n",
      "11:12 madminer.utils.histo WARNING Large statistical uncertainties in histogram! Relative uncertainties range from 8% to 60% with median 14%.\n",
      "11:12 madminer.utils.histo WARNING Large statistical uncertainties in histogram! Relative uncertainties range from 9% to 55% with median 13%.\n",
      "11:12 madminer.utils.histo WARNING Large statistical uncertainties in histogram! Relative uncertainties range from 7% to 53% with median 15%.\n",
      "11:12 madminer.utils.histo WARNING Large statistical uncertainties in histogram! Relative uncertainties range from 7% to 52% with median 14%.\n",
      "11:12 madminer.utils.histo WARNING Large statistical uncertainties in histogram! Relative uncertainties range from 7% to 50% with median 14%.\n",
      "11:12 madminer.utils.histo WARNING Large statistical uncertainties in histogram! Relative uncertainties range from 6% to 52% with median 14%.\n",
      "11:12 madminer.utils.histo WARNING Large statistical uncertainties in histogram! Relative uncertainties range from 8% to 52% with median 14%.\n",
      "11:12 madminer.utils.histo WARNING Large statistical uncertainties in histogram! Relative uncertainties range from 6% to 52% with median 14%.\n",
      "11:12 madminer.utils.histo WARNING Large statistical uncertainties in histogram! Relative uncertainties range from 7% to 61% with median 14%.\n",
      "11:12 madminer.utils.histo WARNING Large statistical uncertainties in histogram! Relative uncertainties range from 9% to 64% with median 14%.\n",
      "11:12 madminer.utils.histo WARNING Large statistical uncertainties in histogram! Relative uncertainties range from 9% to 63% with median 15%.\n",
      "11:12 madminer.utils.histo WARNING Large statistical uncertainties in histogram! Relative uncertainties range from 8% to 63% with median 14%.\n",
      "11:12 madminer.utils.histo WARNING Large statistical uncertainties in histogram! Relative uncertainties range from 8% to 60% with median 15%.\n",
      "11:12 madminer.utils.histo WARNING Large statistical uncertainties in histogram! Relative uncertainties range from 6% to 73% with median 15%.\n",
      "11:12 madminer.utils.histo WARNING Large statistical uncertainties in histogram! Relative uncertainties range from 7% to 92% with median 16%.\n",
      "11:12 madminer.utils.histo WARNING Large statistical uncertainties in histogram! Relative uncertainties range from 7% to 88% with median 18%.\n",
      "11:12 madminer.utils.histo WARNING Large statistical uncertainties in histogram! Relative uncertainties range from 7% to 100% with median 18%.\n",
      "11:12 madminer.utils.histo WARNING Large statistical uncertainties in histogram! Relative uncertainties range from 5% to 100% with median 20%.\n",
      "11:12 madminer.utils.histo WARNING Large statistical uncertainties in histogram! Relative uncertainties range from 6% to 100% with median 19%.\n",
      "11:12 madminer.utils.histo WARNING Large statistical uncertainties in histogram! Relative uncertainties range from 7% to 100% with median 17%.\n",
      "11:12 madminer.utils.histo WARNING Large statistical uncertainties in histogram! Relative uncertainties range from 7% to 98% with median 15%.\n",
      "11:12 madminer.utils.histo WARNING Large statistical uncertainties in histogram! Relative uncertainties range from 7% to 96% with median 16%.\n",
      "11:12 madminer.utils.histo WARNING Large statistical uncertainties in histogram! Relative uncertainties range from 8% to 91% with median 13%.\n",
      "11:12 madminer.utils.histo WARNING Large statistical uncertainties in histogram! Relative uncertainties range from 8% to 76% with median 14%.\n",
      "11:12 madminer.utils.histo WARNING Large statistical uncertainties in histogram! Relative uncertainties range from 9% to 66% with median 14%.\n",
      "11:12 madminer.utils.histo WARNING Large statistical uncertainties in histogram! Relative uncertainties range from 8% to 61% with median 14%.\n",
      "11:12 madminer.utils.histo WARNING Large statistical uncertainties in histogram! Relative uncertainties range from 8% to 57% with median 13%.\n",
      "11:12 madminer.utils.histo WARNING Large statistical uncertainties in histogram! Relative uncertainties range from 6% to 53% with median 14%.\n",
      "11:12 madminer.utils.histo WARNING Large statistical uncertainties in histogram! Relative uncertainties range from 8% to 52% with median 14%.\n",
      "11:12 madminer.utils.histo WARNING Large statistical uncertainties in histogram! Relative uncertainties range from 7% to 52% with median 14%.\n",
      "11:12 madminer.utils.histo WARNING Large statistical uncertainties in histogram! Relative uncertainties range from 7% to 61% with median 14%.\n",
      "11:12 madminer.utils.histo WARNING Large statistical uncertainties in histogram! Relative uncertainties range from 8% to 64% with median 14%.\n",
      "11:12 madminer.utils.histo WARNING Large statistical uncertainties in histogram! Relative uncertainties range from 10% to 64% with median 14%.\n",
      "11:12 madminer.utils.histo WARNING Large statistical uncertainties in histogram! Relative uncertainties range from 6% to 63% with median 14%.\n",
      "11:12 madminer.utils.histo WARNING Large statistical uncertainties in histogram! Relative uncertainties range from 8% to 62% with median 15%.\n",
      "11:12 madminer.utils.histo WARNING Large statistical uncertainties in histogram! Relative uncertainties range from 9% to 60% with median 15%.\n",
      "11:12 madminer.utils.histo WARNING Large statistical uncertainties in histogram! Relative uncertainties range from 6% to 69% with median 16%.\n",
      "11:12 madminer.utils.histo WARNING Large statistical uncertainties in histogram! Relative uncertainties range from 9% to 82% with median 15%.\n",
      "11:12 madminer.utils.histo WARNING Large statistical uncertainties in histogram! Relative uncertainties range from 7% to 90% with median 18%.\n",
      "11:12 madminer.utils.histo WARNING Large statistical uncertainties in histogram! Relative uncertainties range from 8% to 94% with median 17%.\n",
      "11:12 madminer.utils.histo WARNING Large statistical uncertainties in histogram! Relative uncertainties range from 7% to 100% with median 19%.\n",
      "11:12 madminer.utils.histo WARNING Large statistical uncertainties in histogram! Relative uncertainties range from 6% to 100% with median 20%.\n",
      "11:12 madminer.utils.histo WARNING Large statistical uncertainties in histogram! Relative uncertainties range from 6% to 100% with median 21%.\n"
     ]
    },
    {
     "name": "stderr",
     "output_type": "stream",
     "text": [
      "11:12 madminer.utils.histo WARNING Large statistical uncertainties in histogram! Relative uncertainties range from 5% to 100% with median 18%.\n",
      "11:12 madminer.utils.histo WARNING Large statistical uncertainties in histogram! Relative uncertainties range from 6% to 100% with median 18%.\n",
      "11:12 madminer.utils.histo WARNING Large statistical uncertainties in histogram! Relative uncertainties range from 7% to 100% with median 18%.\n",
      "11:12 madminer.utils.histo WARNING Large statistical uncertainties in histogram! Relative uncertainties range from 8% to 100% with median 17%.\n",
      "11:12 madminer.utils.histo WARNING Large statistical uncertainties in histogram! Relative uncertainties range from 8% to 100% with median 18%.\n",
      "11:12 madminer.utils.histo WARNING Large statistical uncertainties in histogram! Relative uncertainties range from 8% to 84% with median 15%.\n",
      "11:12 madminer.utils.histo WARNING Large statistical uncertainties in histogram! Relative uncertainties range from 7% to 89% with median 13%.\n",
      "11:12 madminer.utils.histo WARNING Large statistical uncertainties in histogram! Relative uncertainties range from 8% to 76% with median 14%.\n",
      "11:12 madminer.utils.histo WARNING Large statistical uncertainties in histogram! Relative uncertainties range from 8% to 77% with median 13%.\n",
      "11:12 madminer.utils.histo WARNING Large statistical uncertainties in histogram! Relative uncertainties range from 9% to 66% with median 14%.\n",
      "11:12 madminer.utils.histo WARNING Large statistical uncertainties in histogram! Relative uncertainties range from 8% to 62% with median 15%.\n",
      "11:12 madminer.utils.histo WARNING Large statistical uncertainties in histogram! Relative uncertainties range from 9% to 58% with median 13%.\n",
      "11:12 madminer.utils.histo WARNING Large statistical uncertainties in histogram! Relative uncertainties range from 7% to 63% with median 14%.\n",
      "11:12 madminer.utils.histo WARNING Large statistical uncertainties in histogram! Relative uncertainties range from 8% to 63% with median 14%.\n",
      "11:12 madminer.utils.histo WARNING Large statistical uncertainties in histogram! Relative uncertainties range from 8% to 63% with median 15%.\n",
      "11:12 madminer.utils.histo WARNING Large statistical uncertainties in histogram! Relative uncertainties range from 9% to 61% with median 15%.\n",
      "11:12 madminer.utils.histo WARNING Large statistical uncertainties in histogram! Relative uncertainties range from 8% to 66% with median 16%.\n",
      "11:12 madminer.utils.histo WARNING Large statistical uncertainties in histogram! Relative uncertainties range from 9% to 76% with median 16%.\n",
      "11:12 madminer.utils.histo WARNING Large statistical uncertainties in histogram! Relative uncertainties range from 8% to 86% with median 14%.\n",
      "11:12 madminer.utils.histo WARNING Large statistical uncertainties in histogram! Relative uncertainties range from 8% to 90% with median 17%.\n",
      "11:12 madminer.utils.histo WARNING Large statistical uncertainties in histogram! Relative uncertainties range from 8% to 94% with median 18%.\n",
      "11:12 madminer.utils.histo WARNING Large statistical uncertainties in histogram! Relative uncertainties range from 8% to 94% with median 18%.\n",
      "11:12 madminer.utils.histo WARNING Large statistical uncertainties in histogram! Relative uncertainties range from 7% to 100% with median 20%.\n",
      "11:12 madminer.utils.histo WARNING Large statistical uncertainties in histogram! Relative uncertainties range from 7% to 100% with median 20%.\n",
      "11:12 madminer.utils.histo WARNING Large statistical uncertainties in histogram! Relative uncertainties range from 6% to 100% with median 22%.\n",
      "11:12 madminer.utils.histo WARNING Large statistical uncertainties in histogram! Relative uncertainties range from 6% to 100% with median 20%.\n",
      "11:12 madminer.utils.histo WARNING Large statistical uncertainties in histogram! Relative uncertainties range from 6% to 100% with median 19%.\n",
      "11:12 madminer.utils.histo WARNING Large statistical uncertainties in histogram! Relative uncertainties range from 7% to 100% with median 19%.\n",
      "11:12 madminer.utils.histo WARNING Large statistical uncertainties in histogram! Relative uncertainties range from 8% to 100% with median 18%.\n",
      "11:12 madminer.utils.histo WARNING Large statistical uncertainties in histogram! Relative uncertainties range from 7% to 100% with median 18%.\n",
      "11:12 madminer.utils.histo WARNING Large statistical uncertainties in histogram! Relative uncertainties range from 8% to 100% with median 16%.\n",
      "11:12 madminer.utils.histo WARNING Large statistical uncertainties in histogram! Relative uncertainties range from 8% to 97% with median 17%.\n",
      "11:12 madminer.utils.histo WARNING Large statistical uncertainties in histogram! Relative uncertainties range from 8% to 99% with median 15%.\n",
      "11:12 madminer.utils.histo WARNING Large statistical uncertainties in histogram! Relative uncertainties range from 8% to 86% with median 16%.\n",
      "11:12 madminer.utils.histo WARNING Large statistical uncertainties in histogram! Relative uncertainties range from 8% to 79% with median 14%.\n",
      "11:12 madminer.utils.histo WARNING Large statistical uncertainties in histogram! Relative uncertainties range from 6% to 77% with median 14%.\n",
      "11:12 madminer.utils.histo WARNING Large statistical uncertainties in histogram! Relative uncertainties range from 9% to 66% with median 14%.\n",
      "11:12 madminer.utils.histo WARNING Large statistical uncertainties in histogram! Relative uncertainties range from 8% to 63% with median 14%.\n",
      "11:12 madminer.utils.histo WARNING Large statistical uncertainties in histogram! Relative uncertainties range from 10% to 61% with median 15%.\n",
      "11:12 madminer.utils.histo WARNING Large statistical uncertainties in histogram! Relative uncertainties range from 8% to 60% with median 16%.\n",
      "11:12 madminer.utils.histo WARNING Large statistical uncertainties in histogram! Relative uncertainties range from 9% to 70% with median 15%.\n",
      "11:12 madminer.utils.histo WARNING Large statistical uncertainties in histogram! Relative uncertainties range from 7% to 76% with median 16%.\n",
      "11:12 madminer.utils.histo WARNING Large statistical uncertainties in histogram! Relative uncertainties range from 9% to 87% with median 16%.\n",
      "11:12 madminer.utils.histo WARNING Large statistical uncertainties in histogram! Relative uncertainties range from 9% to 90% with median 17%.\n",
      "11:12 madminer.utils.histo WARNING Large statistical uncertainties in histogram! Relative uncertainties range from 8% to 94% with median 18%.\n",
      "11:12 madminer.utils.histo WARNING Large statistical uncertainties in histogram! Relative uncertainties range from 6% to 88% with median 18%.\n",
      "11:12 madminer.utils.histo WARNING Large statistical uncertainties in histogram! Relative uncertainties range from 8% to 100% with median 20%.\n",
      "11:12 madminer.utils.histo WARNING Large statistical uncertainties in histogram! Relative uncertainties range from 7% to 100% with median 20%.\n",
      "11:12 madminer.utils.histo WARNING Large statistical uncertainties in histogram! Relative uncertainties range from 6% to 100% with median 19%.\n",
      "11:12 madminer.utils.histo WARNING Large statistical uncertainties in histogram! Relative uncertainties range from 5% to 100% with median 22%.\n",
      "11:12 madminer.utils.histo WARNING Large statistical uncertainties in histogram! Relative uncertainties range from 5% to 100% with median 18%.\n",
      "11:12 madminer.utils.histo WARNING Large statistical uncertainties in histogram! Relative uncertainties range from 6% to 100% with median 19%.\n",
      "11:12 madminer.utils.histo WARNING Large statistical uncertainties in histogram! Relative uncertainties range from 7% to 100% with median 18%.\n",
      "11:12 madminer.utils.histo WARNING Large statistical uncertainties in histogram! Relative uncertainties range from 7% to 100% with median 18%.\n",
      "11:12 madminer.utils.histo WARNING Large statistical uncertainties in histogram! Relative uncertainties range from 8% to 100% with median 18%.\n",
      "11:12 madminer.utils.histo WARNING Large statistical uncertainties in histogram! Relative uncertainties range from 8% to 99% with median 18%.\n",
      "11:12 madminer.utils.histo WARNING Large statistical uncertainties in histogram! Relative uncertainties range from 7% to 100% with median 16%.\n",
      "11:12 madminer.utils.histo WARNING Large statistical uncertainties in histogram! Relative uncertainties range from 8% to 98% with median 17%.\n"
     ]
    },
    {
     "name": "stderr",
     "output_type": "stream",
     "text": [
      "11:12 madminer.utils.histo WARNING Large statistical uncertainties in histogram! Relative uncertainties range from 8% to 84% with median 14%.\n",
      "11:12 madminer.utils.histo WARNING Large statistical uncertainties in histogram! Relative uncertainties range from 8% to 95% with median 15%.\n",
      "11:12 madminer.utils.histo WARNING Large statistical uncertainties in histogram! Relative uncertainties range from 8% to 85% with median 16%.\n",
      "11:12 madminer.utils.histo WARNING Large statistical uncertainties in histogram! Relative uncertainties range from 8% to 78% with median 15%.\n",
      "11:12 madminer.utils.histo WARNING Large statistical uncertainties in histogram! Relative uncertainties range from 8% to 60% with median 16%.\n",
      "11:12 madminer.utils.histo WARNING Large statistical uncertainties in histogram! Relative uncertainties range from 9% to 66% with median 15%.\n",
      "11:12 madminer.utils.histo WARNING Large statistical uncertainties in histogram! Relative uncertainties range from 9% to 74% with median 16%.\n",
      "11:12 madminer.utils.histo WARNING Large statistical uncertainties in histogram! Relative uncertainties range from 9% to 81% with median 16%.\n",
      "11:12 madminer.utils.histo WARNING Large statistical uncertainties in histogram! Relative uncertainties range from 9% to 88% with median 15%.\n",
      "11:12 madminer.utils.histo WARNING Large statistical uncertainties in histogram! Relative uncertainties range from 8% to 90% with median 16%.\n",
      "11:12 madminer.utils.histo WARNING Large statistical uncertainties in histogram! Relative uncertainties range from 8% to 94% with median 17%.\n",
      "11:12 madminer.utils.histo WARNING Large statistical uncertainties in histogram! Relative uncertainties range from 8% to 87% with median 18%.\n",
      "11:12 madminer.utils.histo WARNING Large statistical uncertainties in histogram! Relative uncertainties range from 7% to 94% with median 19%.\n",
      "11:12 madminer.utils.histo WARNING Large statistical uncertainties in histogram! Relative uncertainties range from 8% to 100% with median 20%.\n",
      "11:12 madminer.utils.histo WARNING Large statistical uncertainties in histogram! Relative uncertainties range from 7% to 100% with median 20%.\n",
      "11:12 madminer.utils.histo WARNING Large statistical uncertainties in histogram! Relative uncertainties range from 6% to 100% with median 22%.\n",
      "11:12 madminer.utils.histo WARNING Large statistical uncertainties in histogram! Relative uncertainties range from 6% to 100% with median 22%.\n",
      "11:12 madminer.utils.histo WARNING Large statistical uncertainties in histogram! Relative uncertainties range from 7% to 100% with median 18%.\n",
      "11:12 madminer.utils.histo WARNING Large statistical uncertainties in histogram! Relative uncertainties range from 6% to 100% with median 21%.\n",
      "11:12 madminer.utils.histo WARNING Large statistical uncertainties in histogram! Relative uncertainties range from 7% to 100% with median 19%.\n",
      "11:12 madminer.utils.histo WARNING Large statistical uncertainties in histogram! Relative uncertainties range from 6% to 100% with median 19%.\n",
      "11:12 madminer.utils.histo WARNING Large statistical uncertainties in histogram! Relative uncertainties range from 6% to 100% with median 19%.\n",
      "11:12 madminer.utils.histo WARNING Large statistical uncertainties in histogram! Relative uncertainties range from 7% to 100% with median 18%.\n",
      "11:12 madminer.utils.histo WARNING Large statistical uncertainties in histogram! Relative uncertainties range from 8% to 98% with median 18%.\n",
      "11:12 madminer.utils.histo WARNING Large statistical uncertainties in histogram! Relative uncertainties range from 7% to 100% with median 16%.\n",
      "11:12 madminer.utils.histo WARNING Large statistical uncertainties in histogram! Relative uncertainties range from 7% to 100% with median 18%.\n",
      "11:12 madminer.utils.histo WARNING Large statistical uncertainties in histogram! Relative uncertainties range from 8% to 98% with median 16%.\n",
      "11:12 madminer.utils.histo WARNING Large statistical uncertainties in histogram! Relative uncertainties range from 8% to 100% with median 14%.\n",
      "11:12 madminer.utils.histo WARNING Large statistical uncertainties in histogram! Relative uncertainties range from 8% to 92% with median 15%.\n",
      "11:12 madminer.utils.histo WARNING Large statistical uncertainties in histogram! Relative uncertainties range from 9% to 69% with median 15%.\n",
      "11:12 madminer.utils.histo WARNING Large statistical uncertainties in histogram! Relative uncertainties range from 9% to 73% with median 16%.\n",
      "11:12 madminer.utils.histo WARNING Large statistical uncertainties in histogram! Relative uncertainties range from 9% to 82% with median 17%.\n",
      "11:12 madminer.utils.histo WARNING Large statistical uncertainties in histogram! Relative uncertainties range from 9% to 88% with median 16%.\n",
      "11:12 madminer.utils.histo WARNING Large statistical uncertainties in histogram! Relative uncertainties range from 9% to 92% with median 16%.\n",
      "11:12 madminer.utils.histo WARNING Large statistical uncertainties in histogram! Relative uncertainties range from 8% to 92% with median 16%.\n",
      "11:12 madminer.utils.histo WARNING Large statistical uncertainties in histogram! Relative uncertainties range from 8% to 94% with median 18%.\n",
      "11:12 madminer.utils.histo WARNING Large statistical uncertainties in histogram! Relative uncertainties range from 7% to 81% with median 18%.\n",
      "11:12 madminer.utils.histo WARNING Large statistical uncertainties in histogram! Relative uncertainties range from 9% to 99% with median 20%.\n",
      "11:12 madminer.utils.histo WARNING Large statistical uncertainties in histogram! Relative uncertainties range from 8% to 100% with median 21%.\n",
      "11:12 madminer.utils.histo WARNING Large statistical uncertainties in histogram! Relative uncertainties range from 7% to 100% with median 20%.\n",
      "11:12 madminer.utils.histo WARNING Large statistical uncertainties in histogram! Relative uncertainties range from 6% to 100% with median 18%.\n",
      "11:12 madminer.utils.histo WARNING Large statistical uncertainties in histogram! Relative uncertainties range from 6% to 100% with median 22%.\n",
      "11:12 madminer.utils.histo WARNING Large statistical uncertainties in histogram! Relative uncertainties range from 7% to 100% with median 18%.\n",
      "11:12 madminer.utils.histo WARNING Large statistical uncertainties in histogram! Relative uncertainties range from 8% to 100% with median 20%.\n",
      "11:12 madminer.utils.histo WARNING Large statistical uncertainties in histogram! Relative uncertainties range from 7% to 100% with median 18%.\n",
      "11:12 madminer.utils.histo WARNING Large statistical uncertainties in histogram! Relative uncertainties range from 8% to 100% with median 18%.\n",
      "11:12 madminer.utils.histo WARNING Large statistical uncertainties in histogram! Relative uncertainties range from 6% to 100% with median 18%.\n",
      "11:12 madminer.utils.histo WARNING Large statistical uncertainties in histogram! Relative uncertainties range from 7% to 100% with median 18%.\n",
      "11:12 madminer.utils.histo WARNING Large statistical uncertainties in histogram! Relative uncertainties range from 7% to 100% with median 18%.\n",
      "11:12 madminer.utils.histo WARNING Large statistical uncertainties in histogram! Relative uncertainties range from 8% to 98% with median 18%.\n",
      "11:12 madminer.utils.histo WARNING Large statistical uncertainties in histogram! Relative uncertainties range from 7% to 100% with median 16%.\n",
      "11:12 madminer.utils.histo WARNING Large statistical uncertainties in histogram! Relative uncertainties range from 8% to 100% with median 18%.\n",
      "11:12 madminer.utils.histo WARNING Large statistical uncertainties in histogram! Relative uncertainties range from 7% to 97% with median 17%.\n",
      "11:12 madminer.utils.histo WARNING Large statistical uncertainties in histogram! Relative uncertainties range from 8% to 84% with median 15%.\n",
      "11:12 madminer.utils.histo WARNING Large statistical uncertainties in histogram! Relative uncertainties range from 8% to 74% with median 15%.\n",
      "11:12 madminer.utils.histo WARNING Large statistical uncertainties in histogram! Relative uncertainties range from 9% to 83% with median 16%.\n",
      "11:12 madminer.utils.histo WARNING Large statistical uncertainties in histogram! Relative uncertainties range from 9% to 88% with median 16%.\n",
      "11:12 madminer.utils.histo WARNING Large statistical uncertainties in histogram! Relative uncertainties range from 8% to 92% with median 16%.\n"
     ]
    },
    {
     "name": "stderr",
     "output_type": "stream",
     "text": [
      "11:12 madminer.utils.histo WARNING Large statistical uncertainties in histogram! Relative uncertainties range from 8% to 92% with median 16%.\n",
      "11:12 madminer.utils.histo WARNING Large statistical uncertainties in histogram! Relative uncertainties range from 8% to 95% with median 18%.\n",
      "11:12 madminer.utils.histo WARNING Large statistical uncertainties in histogram! Relative uncertainties range from 7% to 88% with median 18%.\n",
      "11:12 madminer.utils.histo WARNING Large statistical uncertainties in histogram! Relative uncertainties range from 9% to 92% with median 18%.\n",
      "11:12 madminer.utils.histo WARNING Large statistical uncertainties in histogram! Relative uncertainties range from 8% to 100% with median 20%.\n",
      "11:12 madminer.utils.histo WARNING Large statistical uncertainties in histogram! Relative uncertainties range from 7% to 100% with median 21%.\n",
      "11:12 madminer.utils.histo WARNING Large statistical uncertainties in histogram! Relative uncertainties range from 7% to 100% with median 20%.\n",
      "11:12 madminer.utils.histo WARNING Large statistical uncertainties in histogram! Relative uncertainties range from 7% to 100% with median 18%.\n",
      "11:12 madminer.utils.histo WARNING Large statistical uncertainties in histogram! Relative uncertainties range from 6% to 100% with median 21%.\n",
      "11:12 madminer.utils.histo WARNING Large statistical uncertainties in histogram! Relative uncertainties range from 7% to 100% with median 19%.\n",
      "11:12 madminer.utils.histo WARNING Large statistical uncertainties in histogram! Relative uncertainties range from 7% to 100% with median 19%.\n",
      "11:12 madminer.utils.histo WARNING Large statistical uncertainties in histogram! Relative uncertainties range from 7% to 100% with median 19%.\n",
      "11:12 madminer.utils.histo WARNING Large statistical uncertainties in histogram! Relative uncertainties range from 7% to 100% with median 18%.\n",
      "11:12 madminer.utils.histo WARNING Large statistical uncertainties in histogram! Relative uncertainties range from 8% to 100% with median 18%.\n",
      "11:12 madminer.utils.histo WARNING Large statistical uncertainties in histogram! Relative uncertainties range from 7% to 100% with median 17%.\n",
      "11:12 madminer.utils.histo WARNING Large statistical uncertainties in histogram! Relative uncertainties range from 7% to 100% with median 18%.\n",
      "11:12 madminer.utils.histo WARNING Large statistical uncertainties in histogram! Relative uncertainties range from 7% to 100% with median 15%.\n",
      "11:12 madminer.utils.histo WARNING Large statistical uncertainties in histogram! Relative uncertainties range from 8% to 98% with median 18%.\n",
      "11:12 madminer.utils.histo WARNING Large statistical uncertainties in histogram! Relative uncertainties range from 7% to 100% with median 15%.\n",
      "11:12 madminer.utils.histo WARNING Large statistical uncertainties in histogram! Relative uncertainties range from 8% to 100% with median 16%.\n",
      "11:12 madminer.utils.histo WARNING Large statistical uncertainties in histogram! Relative uncertainties range from 7% to 96% with median 17%.\n",
      "11:12 madminer.utils.histo WARNING Large statistical uncertainties in histogram! Relative uncertainties range from 9% to 84% with median 16%.\n",
      "11:12 madminer.utils.histo WARNING Large statistical uncertainties in histogram! Relative uncertainties range from 8% to 90% with median 16%.\n",
      "11:12 madminer.utils.histo WARNING Large statistical uncertainties in histogram! Relative uncertainties range from 8% to 92% with median 16%.\n",
      "11:12 madminer.utils.histo WARNING Large statistical uncertainties in histogram! Relative uncertainties range from 8% to 92% with median 16%.\n",
      "11:12 madminer.utils.histo WARNING Large statistical uncertainties in histogram! Relative uncertainties range from 7% to 94% with median 18%.\n",
      "11:12 madminer.utils.histo WARNING Large statistical uncertainties in histogram! Relative uncertainties range from 7% to 88% with median 18%.\n",
      "11:12 madminer.utils.histo WARNING Large statistical uncertainties in histogram! Relative uncertainties range from 8% to 87% with median 19%.\n",
      "11:12 madminer.utils.histo WARNING Large statistical uncertainties in histogram! Relative uncertainties range from 9% to 95% with median 19%.\n",
      "11:12 madminer.utils.histo WARNING Large statistical uncertainties in histogram! Relative uncertainties range from 7% to 100% with median 20%.\n",
      "11:12 madminer.utils.histo WARNING Large statistical uncertainties in histogram! Relative uncertainties range from 7% to 100% with median 22%.\n",
      "11:12 madminer.utils.histo WARNING Large statistical uncertainties in histogram! Relative uncertainties range from 7% to 100% with median 19%.\n",
      "11:12 madminer.utils.histo WARNING Large statistical uncertainties in histogram! Relative uncertainties range from 7% to 100% with median 19%.\n",
      "11:12 madminer.utils.histo WARNING Large statistical uncertainties in histogram! Relative uncertainties range from 6% to 100% with median 19%.\n",
      "11:12 madminer.utils.histo WARNING Large statistical uncertainties in histogram! Relative uncertainties range from 7% to 100% with median 19%.\n",
      "11:12 madminer.utils.histo WARNING Large statistical uncertainties in histogram! Relative uncertainties range from 7% to 100% with median 18%.\n",
      "11:12 madminer.utils.histo WARNING Large statistical uncertainties in histogram! Relative uncertainties range from 6% to 100% with median 21%.\n",
      "11:12 madminer.utils.histo WARNING Large statistical uncertainties in histogram! Relative uncertainties range from 8% to 100% with median 18%.\n",
      "11:12 madminer.utils.histo WARNING Large statistical uncertainties in histogram! Relative uncertainties range from 7% to 100% with median 18%.\n",
      "11:12 madminer.utils.histo WARNING Large statistical uncertainties in histogram! Relative uncertainties range from 7% to 100% with median 18%.\n",
      "11:12 madminer.utils.histo WARNING Large statistical uncertainties in histogram! Relative uncertainties range from 6% to 100% with median 18%.\n",
      "11:12 madminer.utils.histo WARNING Large statistical uncertainties in histogram! Relative uncertainties range from 7% to 100% with median 20%.\n",
      "11:12 madminer.utils.histo WARNING Large statistical uncertainties in histogram! Relative uncertainties range from 7% to 100% with median 15%.\n",
      "11:12 madminer.utils.histo WARNING Large statistical uncertainties in histogram! Relative uncertainties range from 8% to 98% with median 18%.\n",
      "11:12 madminer.utils.histo WARNING Large statistical uncertainties in histogram! Relative uncertainties range from 7% to 100% with median 16%.\n",
      "11:12 madminer.utils.histo WARNING Large statistical uncertainties in histogram! Relative uncertainties range from 7% to 100% with median 16%.\n",
      "11:12 madminer.utils.histo WARNING Large statistical uncertainties in histogram! Relative uncertainties range from 9% to 90% with median 16%.\n",
      "11:12 madminer.utils.histo WARNING Large statistical uncertainties in histogram! Relative uncertainties range from 8% to 92% with median 16%.\n",
      "11:12 madminer.utils.histo WARNING Large statistical uncertainties in histogram! Relative uncertainties range from 8% to 92% with median 14%.\n",
      "11:12 madminer.utils.histo WARNING Large statistical uncertainties in histogram! Relative uncertainties range from 8% to 94% with median 18%.\n",
      "11:12 madminer.utils.histo WARNING Large statistical uncertainties in histogram! Relative uncertainties range from 8% to 87% with median 18%.\n",
      "11:12 madminer.utils.histo WARNING Large statistical uncertainties in histogram! Relative uncertainties range from 7% to 88% with median 18%.\n",
      "11:12 madminer.utils.histo WARNING Large statistical uncertainties in histogram! Relative uncertainties range from 9% to 90% with median 18%.\n",
      "11:12 madminer.utils.histo WARNING Large statistical uncertainties in histogram! Relative uncertainties range from 8% to 99% with median 19%.\n",
      "11:12 madminer.utils.histo WARNING Large statistical uncertainties in histogram! Relative uncertainties range from 7% to 100% with median 20%.\n",
      "11:12 madminer.utils.histo WARNING Large statistical uncertainties in histogram! Relative uncertainties range from 7% to 100% with median 20%.\n",
      "11:12 madminer.utils.histo WARNING Large statistical uncertainties in histogram! Relative uncertainties range from 7% to 100% with median 20%.\n",
      "11:12 madminer.utils.histo WARNING Large statistical uncertainties in histogram! Relative uncertainties range from 7% to 100% with median 19%.\n"
     ]
    },
    {
     "name": "stderr",
     "output_type": "stream",
     "text": [
      "11:12 madminer.utils.histo WARNING Large statistical uncertainties in histogram! Relative uncertainties range from 6% to 100% with median 19%.\n",
      "11:12 madminer.utils.histo WARNING Large statistical uncertainties in histogram! Relative uncertainties range from 7% to 100% with median 18%.\n",
      "11:12 madminer.utils.histo WARNING Large statistical uncertainties in histogram! Relative uncertainties range from 7% to 100% with median 19%.\n",
      "11:12 madminer.utils.histo WARNING Large statistical uncertainties in histogram! Relative uncertainties range from 8% to 100% with median 19%.\n",
      "11:12 madminer.utils.histo WARNING Large statistical uncertainties in histogram! Relative uncertainties range from 7% to 100% with median 19%.\n",
      "11:12 madminer.utils.histo WARNING Large statistical uncertainties in histogram! Relative uncertainties range from 7% to 100% with median 18%.\n",
      "11:12 madminer.utils.histo WARNING Large statistical uncertainties in histogram! Relative uncertainties range from 8% to 100% with median 17%.\n",
      "11:12 madminer.utils.histo WARNING Large statistical uncertainties in histogram! Relative uncertainties range from 7% to 100% with median 18%.\n",
      "11:12 madminer.utils.histo WARNING Large statistical uncertainties in histogram! Relative uncertainties range from 6% to 100% with median 18%.\n",
      "11:12 madminer.utils.histo WARNING Large statistical uncertainties in histogram! Relative uncertainties range from 7% to 100% with median 19%.\n",
      "11:12 madminer.utils.histo WARNING Large statistical uncertainties in histogram! Relative uncertainties range from 7% to 100% with median 15%.\n",
      "11:12 madminer.utils.histo WARNING Large statistical uncertainties in histogram! Relative uncertainties range from 8% to 98% with median 18%.\n",
      "11:12 madminer.utils.histo WARNING Large statistical uncertainties in histogram! Relative uncertainties range from 7% to 100% with median 16%.\n",
      "11:12 madminer.utils.histo WARNING Large statistical uncertainties in histogram! Relative uncertainties range from 8% to 92% with median 16%.\n",
      "11:12 madminer.utils.histo WARNING Large statistical uncertainties in histogram! Relative uncertainties range from 8% to 92% with median 16%.\n",
      "11:12 madminer.utils.histo WARNING Large statistical uncertainties in histogram! Relative uncertainties range from 8% to 94% with median 18%.\n",
      "11:12 madminer.utils.histo WARNING Large statistical uncertainties in histogram! Relative uncertainties range from 8% to 94% with median 18%.\n",
      "11:12 madminer.utils.histo WARNING Large statistical uncertainties in histogram! Relative uncertainties range from 7% to 88% with median 18%.\n",
      "11:12 madminer.utils.histo WARNING Large statistical uncertainties in histogram! Relative uncertainties range from 7% to 85% with median 19%.\n",
      "11:12 madminer.utils.histo WARNING Large statistical uncertainties in histogram! Relative uncertainties range from 8% to 93% with median 18%.\n",
      "11:12 madminer.utils.histo WARNING Large statistical uncertainties in histogram! Relative uncertainties range from 8% to 100% with median 20%.\n",
      "11:12 madminer.utils.histo WARNING Large statistical uncertainties in histogram! Relative uncertainties range from 7% to 100% with median 20%.\n",
      "11:12 madminer.utils.histo WARNING Large statistical uncertainties in histogram! Relative uncertainties range from 7% to 100% with median 19%.\n",
      "11:12 madminer.utils.histo WARNING Large statistical uncertainties in histogram! Relative uncertainties range from 8% to 100% with median 20%.\n",
      "11:12 madminer.utils.histo WARNING Large statistical uncertainties in histogram! Relative uncertainties range from 8% to 100% with median 19%.\n",
      "11:12 madminer.utils.histo WARNING Large statistical uncertainties in histogram! Relative uncertainties range from 6% to 100% with median 19%.\n",
      "11:12 madminer.utils.histo WARNING Large statistical uncertainties in histogram! Relative uncertainties range from 7% to 100% with median 18%.\n",
      "11:12 madminer.utils.histo WARNING Large statistical uncertainties in histogram! Relative uncertainties range from 7% to 100% with median 20%.\n",
      "11:12 madminer.utils.histo WARNING Large statistical uncertainties in histogram! Relative uncertainties range from 7% to 100% with median 18%.\n",
      "11:12 madminer.utils.histo WARNING Large statistical uncertainties in histogram! Relative uncertainties range from 7% to 100% with median 20%.\n",
      "11:12 madminer.utils.histo WARNING Large statistical uncertainties in histogram! Relative uncertainties range from 6% to 100% with median 18%.\n",
      "11:12 madminer.utils.histo WARNING Large statistical uncertainties in histogram! Relative uncertainties range from 7% to 100% with median 17%.\n",
      "11:12 madminer.utils.histo WARNING Large statistical uncertainties in histogram! Relative uncertainties range from 7% to 100% with median 17%.\n",
      "11:12 madminer.utils.histo WARNING Large statistical uncertainties in histogram! Relative uncertainties range from 7% to 100% with median 17%.\n",
      "11:12 madminer.utils.histo WARNING Large statistical uncertainties in histogram! Relative uncertainties range from 6% to 100% with median 18%.\n",
      "11:12 madminer.utils.histo WARNING Large statistical uncertainties in histogram! Relative uncertainties range from 7% to 100% with median 18%.\n",
      "11:12 madminer.utils.histo WARNING Large statistical uncertainties in histogram! Relative uncertainties range from 7% to 100% with median 15%.\n",
      "11:12 madminer.utils.histo WARNING Large statistical uncertainties in histogram! Relative uncertainties range from 8% to 98% with median 17%.\n",
      "11:12 madminer.limits      INFO    Calculating kinematic log likelihood with histograms\n",
      "11:12 madminer.limits      INFO    Calculating p-values\n"
     ]
    }
   ],
   "source": [
    "theta_grid, p_values_expected_sallino, best_fit_expected_sallino, _, _, histos = limits.expected_limits(\n",
    "    mode=\"sallino\",\n",
    "    model_file='models/sally',\n",
    "    theta_true=[0.,0.],\n",
    "    grid_ranges=grid_ranges,\n",
    "    grid_resolutions=grid_resolutions,\n",
    "    luminosity=lumi,\n",
    "    include_xsec=False,\n",
    ")\n",
    "\n",
    "p_values[\"SALLINO\"] = p_values_expected_sallino\n",
    "mle[\"SALLINO\"] = best_fit_expected_sallino"
   ]
  },
  {
   "cell_type": "markdown",
   "metadata": {},
   "source": [
    "## 5. Expected limits based on likelihood estimators"
   ]
  },
  {
   "cell_type": "code",
   "execution_count": 13,
   "metadata": {},
   "outputs": [
    {
     "name": "stderr",
     "output_type": "stream",
     "text": [
      "10:37 madminer.limits      INFO    Generating Asimov data\n",
      "10:37 madminer.limits      INFO    Expected events: 2.072791638419519\n",
      "10:37 madminer.limits      INFO    Loading kinematic likelihood ratio estimator\n",
      "10:37 madminer.limits      INFO    Calculating kinematic log likelihood ratio with estimator\n",
      "10:38 madminer.limits      INFO    Calculating p-values\n"
     ]
    }
   ],
   "source": [
    "theta_grid, p_values_expected_scandal, best_fit_expected_scandal, _, _, _ = limits.expected_limits(\n",
    "    mode=\"ml\",\n",
    "    model_file='models/scandal',\n",
    "    theta_true=[0.,0.],\n",
    "    grid_ranges=grid_ranges,\n",
    "    grid_resolutions=grid_resolutions,\n",
    "    luminosity=lumi,\n",
    "    include_xsec=False,\n",
    ")\n",
    "\n",
    "p_values[\"SCANDAL\"] = p_values_expected_scandal\n",
    "mle[\"SCANDAL\"] = best_fit_expected_scandal"
   ]
  },
  {
   "cell_type": "markdown",
   "metadata": {},
   "source": [
    "## 6. Toy signal"
   ]
  },
  {
   "cell_type": "markdown",
   "metadata": {},
   "source": [
    "In addition to these expected limits (based on the SM), let us inject a mock signal. We first generate the data:"
   ]
  },
  {
   "cell_type": "code",
   "execution_count": 14,
   "metadata": {},
   "outputs": [
    {
     "name": "stderr",
     "output_type": "stream",
     "text": [
      "10:38 madminer.analysis    INFO    Loading data from data/lhe_data_shuffled.h5\n",
      "10:38 madminer.analysis    INFO    Found 2 parameters\n",
      "10:38 madminer.analysis    INFO    Did not find nuisance parameters\n",
      "10:38 madminer.analysis    INFO    Found 6 benchmarks, of which 6 physical\n",
      "10:38 madminer.analysis    INFO    Found 3 observables\n",
      "10:38 madminer.analysis    INFO    Found 15117 events\n",
      "10:38 madminer.analysis    INFO      10004 signal events sampled from benchmark sm\n",
      "10:38 madminer.analysis    INFO      1080 signal events sampled from benchmark w\n",
      "10:38 madminer.analysis    INFO      1207 signal events sampled from benchmark neg_w\n",
      "10:38 madminer.analysis    INFO      1399 signal events sampled from benchmark ww\n",
      "10:38 madminer.analysis    INFO      1427 signal events sampled from benchmark neg_ww\n",
      "10:38 madminer.analysis    INFO    Found morphing setup with 6 components\n",
      "10:38 madminer.analysis    INFO    Did not find nuisance morphing setup\n",
      "10:38 madminer.sampling    INFO    Extracting evaluation sample. Sampling according to [10. 10.]\n",
      "10:38 madminer.sampling    INFO    Starting sampling serially\n",
      "10:38 madminer.sampling    INFO    Sampling from parameter point 1 / 1\n",
      "10:38 madminer.sampling    WARNING Large statistical uncertainty on the total cross section when sampling from theta = [10. 10.]: (0.004663 +/- 0.001147) pb (24.597873528929377 %). Skipping these warnings in the future...\n",
      "10:38 madminer.sampling    INFO    Effective number of samples: mean 13.413775713261185, with individual thetas ranging from 13.413775713261183 to 13.413775713261183\n"
     ]
    }
   ],
   "source": [
    "sampler = SampleAugmenter('data/lhe_data_shuffled.h5')\n",
    "x_observed, _, _ = sampler.sample_test(\n",
    "    theta=sampling.morphing_point([10.,10.]),\n",
    "    n_samples=100,\n",
    "    folder=None,\n",
    "    filename=None,\n",
    ")"
   ]
  },
  {
   "cell_type": "code",
   "execution_count": 15,
   "metadata": {},
   "outputs": [
    {
     "name": "stderr",
     "output_type": "stream",
     "text": [
      "10:38 madminer.limits      INFO    Loading kinematic likelihood ratio estimator\n",
      "10:38 madminer.limits      INFO    Calculating kinematic log likelihood ratio with estimator\n",
      "10:38 madminer.limits      INFO    Calculating p-values\n"
     ]
    }
   ],
   "source": [
    "_, p_values_observed, best_fit_observed, _, _, _ = limits.observed_limits(\n",
    "    x_observed=x_observed,\n",
    "    mode=\"ml\",\n",
    "    model_file='models/alices',\n",
    "    grid_ranges=grid_ranges,\n",
    "    grid_resolutions=grid_resolutions,\n",
    "    luminosity=lumi,\n",
    "    include_xsec=False,\n",
    ")\n",
    "\n",
    "p_values[\"ALICES signal\"] = p_values_observed\n",
    "mle[\"ALICES signal\"] = best_fit_observed"
   ]
  },
  {
   "cell_type": "markdown",
   "metadata": {},
   "source": [
    "## 7. Plot"
   ]
  },
  {
   "cell_type": "markdown",
   "metadata": {},
   "source": [
    "Let's plot the results:"
   ]
  },
  {
   "cell_type": "code",
   "execution_count": 15,
   "metadata": {},
   "outputs": [
    {
     "data": {
      "image/png": "[encoded data removed]",
      "text/plain": [
       "<Figure size 432x360 with 2 Axes>"
      ]
     },
     "metadata": {
      "needs_background": "light"
     },
     "output_type": "display_data"
    }
   ],
   "source": [
    "show = \"SALLY\"\n",
    "\n",
    "bin_size = (grid_ranges[0][1] - grid_ranges[0][0])/(grid_resolutions[0] - 1)\n",
    "edges = np.linspace(grid_ranges[0][0] - bin_size/2, grid_ranges[0][1] + bin_size/2, grid_resolutions[0] + 1)\n",
    "centers = np.linspace(grid_ranges[0][0], grid_ranges[0][1], grid_resolutions[0])\n",
    "\n",
    "fig = plt.figure(figsize=(6,5))\n",
    "ax = plt.gca()\n",
    "\n",
    "cmin, cmax = 1.e-2, 1.\n",
    "\n",
    "pcm = ax.pcolormesh(\n",
    "    edges, edges, p_values[show].reshape((grid_resolutions[0], grid_resolutions[1])),\n",
    "    norm=matplotlib.colors.LogNorm(vmin=cmin, vmax=cmax),\n",
    "    cmap='Greys_r'\n",
    ")\n",
    "cbar = fig.colorbar(pcm, ax=ax, extend='both')\n",
    "\n",
    "for i, (label, p_value) in enumerate(six.iteritems(p_values)):\n",
    "    plt.contour(\n",
    "        centers, centers, p_value.reshape((grid_resolutions[0], grid_resolutions[1])),\n",
    "        levels=[0.32],\n",
    "        linestyles='-', colors='C{}'.format(i)\n",
    "    )\n",
    "    plt.scatter(\n",
    "        theta_grid[mle[label]][0], theta_grid[mle[label]][1],\n",
    "        s=80., color='C{}'.format(i), marker='*',\n",
    "        label=label\n",
    "    )\n",
    "\n",
    "plt.legend()\n",
    "\n",
    "plt.xlabel(r'$\\theta_0$')\n",
    "plt.ylabel(r'$\\theta_1$')\n",
    "cbar.set_label('Expected p-value ({})'.format(show))\n",
    "\n",
    "plt.tight_layout()\n",
    "plt.show()\n"
   ]
  },
  {
   "cell_type": "code",
   "execution_count": null,
   "metadata": {},
   "outputs": [],
   "source": []
  }
 ],
 "metadata": {
  "kernelspec": {
   "display_name": "Python (higgs_inference)",
   "language": "python",
   "name": "higgs_inference"
  },
  "language_info": {
   "codemirror_mode": {
    "name": "ipython",
    "version": 3
   },
   "file_extension": ".py",
   "mimetype": "text/x-python",
   "name": "python",
   "nbconvert_exporter": "python",
   "pygments_lexer": "ipython3",
   "version": "3.6.7"
  }
 },
 "nbformat": 4,
 "nbformat_minor": 2
}
