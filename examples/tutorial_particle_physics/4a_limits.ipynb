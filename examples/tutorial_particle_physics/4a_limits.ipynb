{
 "cells": [
  {
   "cell_type": "markdown",
   "metadata": {},
   "source": [
    "# MadMiner particle physics tutorial\n",
    "\n",
    "# Part 4a: Limit setting\n",
    "\n",
    "Johann Brehmer, Felix Kling, Irina Espejo, and Kyle Cranmer 2018-2019"
   ]
  },
  {
   "cell_type": "markdown",
   "metadata": {},
   "source": [
    "In part 4a of this tutorial we will use the networks trained in step 3a and 3b to calculate the expected limits on our theory parameters."
   ]
  },
  {
   "cell_type": "markdown",
   "metadata": {},
   "source": [
    "## 0. Preparations"
   ]
  },
  {
   "cell_type": "code",
   "execution_count": 1,
   "metadata": {},
   "outputs": [],
   "source": [
    "from __future__ import absolute_import, division, print_function, unicode_literals\n",
    "\n",
    "import six\n",
    "import logging\n",
    "import numpy as np\n",
    "import matplotlib\n",
    "from matplotlib import pyplot as plt\n",
    "%matplotlib inline\n",
    "\n",
    "from madminer.limits import AsymptoticLimits\n",
    "from madminer.sampling import SampleAugmenter\n",
    "from madminer import sampling\n"
   ]
  },
  {
   "cell_type": "code",
   "execution_count": 2,
   "metadata": {},
   "outputs": [
    {
     "name": "stdout",
     "output_type": "stream",
     "text": [
      "Deactivating logging output for concurrent.futures\n",
      "Deactivating logging output for concurrent\n",
      "Deactivating logging output for asyncio\n",
      "Deactivating logging output for prompt_toolkit\n",
      "Deactivating logging output for parso.python.diff\n",
      "Deactivating logging output for parso.python\n",
      "Deactivating logging output for parso\n",
      "Deactivating logging output for parso.cache\n",
      "Deactivating logging output for tornado.access\n",
      "Deactivating logging output for tornado\n",
      "Deactivating logging output for tornado.application\n",
      "Deactivating logging output for tornado.general\n",
      "Deactivating logging output for IPKernelApp\n",
      "Deactivating logging output for matplotlib\n",
      "Deactivating logging output for matplotlib.ticker\n",
      "Deactivating logging output for matplotlib.font_manager\n",
      "Deactivating logging output for matplotlib.dviread\n",
      "Deactivating logging output for matplotlib.text\n",
      "Deactivating logging output for matplotlib.texmanager\n",
      "Deactivating logging output for matplotlib.blocking_input\n",
      "Deactivating logging output for matplotlib._layoutbox\n",
      "Deactivating logging output for matplotlib.gridspec\n",
      "Deactivating logging output for PIL.Image\n",
      "Deactivating logging output for PIL\n",
      "Deactivating logging output for matplotlib.image\n",
      "Deactivating logging output for matplotlib._constrained_layout\n",
      "Deactivating logging output for matplotlib.colorbar\n",
      "Deactivating logging output for matplotlib.backends\n",
      "Deactivating logging output for matplotlib.dates\n",
      "Deactivating logging output for matplotlib.axis\n",
      "Deactivating logging output for matplotlib.axes._base\n",
      "Deactivating logging output for matplotlib.axes\n",
      "Deactivating logging output for matplotlib.axes._axes\n",
      "Deactivating logging output for matplotlib.figure\n",
      "Deactivating logging output for matplotlib.pyplot\n"
     ]
    }
   ],
   "source": [
    "# MadMiner output\n",
    "logging.basicConfig(\n",
    "    format='%(asctime)-5.5s %(name)-20.20s %(levelname)-7.7s %(message)s',\n",
    "    datefmt='%H:%M',\n",
    "    level=logging.INFO\n",
    ")\n",
    "\n",
    "# Output of all other modules (e.g. matplotlib)\n",
    "for key in logging.Logger.manager.loggerDict:\n",
    "    if \"madminer\" not in key:\n",
    "        print(\"Deactivating logging output for\", key)\n",
    "        logging.getLogger(key).setLevel(logging.WARNING)"
   ]
  },
  {
   "cell_type": "markdown",
   "metadata": {},
   "source": [
    "## 1. Preparations"
   ]
  },
  {
   "cell_type": "markdown",
   "metadata": {},
   "source": [
    "In the end, what we care about are not plots of the log likelihood ratio, but limits on parameters. But at least under some asymptotic assumptions, these are directly related. MadMiner makes it easy to calculate p-values in the asymptotic limit with the `AsymptoticLimits` class in the `madminer.limits`: "
   ]
  },
  {
   "cell_type": "code",
   "execution_count": 3,
   "metadata": {},
   "outputs": [
    {
     "name": "stderr",
     "output_type": "stream",
     "text": [
      "12:14 madminer.analysis    INFO    Loading data from data/lhe_data_shuffled.h5\n",
      "12:14 madminer.analysis    INFO    Found 2 parameters\n",
      "12:14 madminer.analysis    INFO    Did not find nuisance parameters\n",
      "12:14 madminer.analysis    INFO    Found 6 benchmarks, of which 6 physical\n",
      "12:14 madminer.analysis    INFO    Found 3 observables\n",
      "12:14 madminer.analysis    INFO    Found 15117 events\n",
      "12:14 madminer.analysis    INFO      10004 signal events sampled from benchmark sm\n",
      "12:14 madminer.analysis    INFO      1080 signal events sampled from benchmark w\n",
      "12:14 madminer.analysis    INFO      1207 signal events sampled from benchmark neg_w\n",
      "12:14 madminer.analysis    INFO      1399 signal events sampled from benchmark ww\n",
      "12:14 madminer.analysis    INFO      1427 signal events sampled from benchmark neg_ww\n",
      "12:14 madminer.analysis    INFO    Found morphing setup with 6 components\n",
      "12:14 madminer.analysis    INFO    Did not find nuisance morphing setup\n"
     ]
    }
   ],
   "source": [
    "limits = AsymptoticLimits('data/lhe_data_shuffled.h5')\n",
    "# limits = AsymptoticLimits('data/delphes_data_shuffled.h5')"
   ]
  },
  {
   "cell_type": "markdown",
   "metadata": {},
   "source": [
    "This class provids two high-level functions:\n",
    "- `AsymptoticLimits.observed_limits()` lets us calculate p-values on a parameter grid for some observed events, and\n",
    "- `AsymptoticLimits.expected_limits()` lets us calculate expected p-values on a parameter grid based on all data in the MadMiner file.\n",
    "\n",
    "First we have to define the parameter grid on which we evaluate the p-values."
   ]
  },
  {
   "cell_type": "code",
   "execution_count": 4,
   "metadata": {},
   "outputs": [],
   "source": [
    "theta_ranges = [(-20., 20.), (-20., 20.)]\n",
    "resolutions = [25, 25]"
   ]
  },
  {
   "cell_type": "markdown",
   "metadata": {},
   "source": [
    "What luminosity (in inverse pb) are we talking about?"
   ]
  },
  {
   "cell_type": "code",
   "execution_count": 5,
   "metadata": {},
   "outputs": [],
   "source": [
    "lumi = 10000."
   ]
  },
  {
   "cell_type": "code",
   "execution_count": 6,
   "metadata": {},
   "outputs": [],
   "source": [
    "p_values = {}\n",
    "mle = {}"
   ]
  },
  {
   "cell_type": "markdown",
   "metadata": {},
   "source": [
    "## 2. Expected limits based on histogram"
   ]
  },
  {
   "cell_type": "markdown",
   "metadata": {},
   "source": [
    "First, as a baseline, let us calculate the expected limits based on a simple jet pT histogram. Right now, there are not a lot of option for this function; MadMiner even calculates the binning automatically. (We will add more functionality!)\n",
    "\n",
    "The keyword `include_xsec` determines whether we include information from the total rate or just use the shapes. Since we don't model backgrounds and systematics in this tutorial, the rate information is unrealistically large, so we leave it out here."
   ]
  },
  {
   "cell_type": "code",
   "execution_count": 7,
   "metadata": {},
   "outputs": [
    {
     "name": "stderr",
     "output_type": "stream",
     "text": [
      "12:14 madminer.limits      INFO    Generating Asimov data\n",
      "12:14 madminer.limits      INFO    Expected events: 2.072791638419519\n",
      "12:14 madminer.limits      INFO    Setting up standard summary statistics\n",
      "12:14 madminer.limits      INFO    Creating histograms of 1 summary statistics. Using 50 bins each, or 50 in total.\n",
      "12:14 madminer.limits      INFO    Calculating kinematic log likelihood with histograms\n",
      "12:14 madminer.limits      INFO    Calculating p-values\n"
     ]
    }
   ],
   "source": [
    "theta_grid, p_values_expected_histo, best_fit_expected_histo = limits.expected_limits(\n",
    "    mode=\"histo\",\n",
    "    hist_vars=[\"pt_j1\"],\n",
    "    theta_true=[0.,0.],\n",
    "    theta_ranges=theta_ranges,\n",
    "    resolutions=resolutions,\n",
    "    luminosity=lumi,\n",
    "    include_xsec=False,\n",
    ")\n",
    "\n",
    "p_values[\"Histogram\"] = p_values_expected_histo\n",
    "mle[\"Histogram\"] = best_fit_expected_histo"
   ]
  },
  {
   "cell_type": "markdown",
   "metadata": {},
   "source": [
    "With `mode=\"rate\"`, we could calculate limits based on only the rate -- but again, since the rate is extremely powerful when backgrounds and systematics are not taken into account, we don't do that in this tutorial."
   ]
  },
  {
   "cell_type": "markdown",
   "metadata": {},
   "source": [
    "## 3. Expected limits based on ratio estimators"
   ]
  },
  {
   "cell_type": "markdown",
   "metadata": {},
   "source": [
    "Next, `mode=\"ml\"` allows us to calculate limits based on any `ParamterizedRatioEstimator` instance like the ALICES estimator trained above:"
   ]
  },
  {
   "cell_type": "code",
   "execution_count": 8,
   "metadata": {},
   "outputs": [
    {
     "name": "stderr",
     "output_type": "stream",
     "text": [
      "12:14 madminer.limits      INFO    Generating Asimov data\n",
      "12:14 madminer.limits      INFO    Expected events: 2.072791638419519\n",
      "12:14 madminer.limits      INFO    Loading kinematic likelihood ratio estimator\n",
      "12:14 madminer.limits      INFO    Calculating kinematic log likelihood ratio with estimator\n",
      "12:14 madminer.limits      INFO    Calculating p-values\n"
     ]
    }
   ],
   "source": [
    "theta_grid, p_values_expected_alices, best_fit_expected_alices = limits.expected_limits(\n",
    "    mode=\"ml\",\n",
    "    model_file='models/alices',\n",
    "    theta_true=[0.,0.],\n",
    "    theta_ranges=theta_ranges,\n",
    "    resolutions=resolutions,\n",
    "    luminosity=lumi,\n",
    "    include_xsec=False,\n",
    ")\n",
    "\n",
    "p_values[\"ALICES\"] = p_values_expected_alices\n",
    "mle[\"ALICES\"] = best_fit_expected_alices"
   ]
  },
  {
   "cell_type": "markdown",
   "metadata": {},
   "source": [
    "## 4. Expected limits based on score estimators"
   ]
  },
  {
   "cell_type": "markdown",
   "metadata": {},
   "source": [
    "To get p-values from a SALLY estimator, we have to use histograms of the estimated score:"
   ]
  },
  {
   "cell_type": "code",
   "execution_count": 15,
   "metadata": {},
   "outputs": [
    {
     "name": "stderr",
     "output_type": "stream",
     "text": [
      "12:16 madminer.limits      INFO    Generating Asimov data\n",
      "12:16 madminer.limits      INFO    Expected events: 2.072791638419519\n",
      "12:16 madminer.limits      INFO    Loading score estimator and setting all components up as summary statistics\n",
      "12:16 madminer.limits      INFO    Creating histograms of 2 summary statistics. Using 10 bins each, or 100 in total.\n",
      "12:16 madminer.limits      INFO    Calculating kinematic log likelihood with histograms\n",
      "12:16 madminer.limits      INFO    Calculating p-values\n"
     ]
    }
   ],
   "source": [
    "theta_grid, p_values_expected_sally, best_fit_expected_sally = limits.expected_limits(\n",
    "    mode=\"sally\",\n",
    "    model_file='models/sally',\n",
    "    theta_true=[0.,0.],\n",
    "    theta_ranges=theta_ranges,\n",
    "    resolutions=resolutions,\n",
    "    luminosity=lumi,\n",
    "    include_xsec=False,\n",
    ")\n",
    "\n",
    "p_values[\"SALLY\"] = p_values_expected_sally\n",
    "mle[\"SALLY\"] = best_fit_expected_sally"
   ]
  },
  {
   "cell_type": "markdown",
   "metadata": {},
   "source": [
    "We can also use the \"SALLINO\" strategy, which constructs 1D histogram of `theta * score` at every parameter point on the grid:"
   ]
  },
  {
   "cell_type": "code",
   "execution_count": 18,
   "metadata": {},
   "outputs": [
    {
     "name": "stderr",
     "output_type": "stream",
     "text": [
      "12:17 madminer.limits      INFO    Generating Asimov data\n",
      "12:17 madminer.limits      INFO    Expected events: 2.072791638419519\n",
      "12:17 root                 WARNING The SALLINO and adaptive SALLY methods require the reference point, but the argument thetaref was not provided. Assuming thetaref = [0. 0.].\n",
      "12:17 madminer.limits      INFO    Loading score estimator and setting all components up as summary statistics\n",
      "12:17 madminer.limits      INFO    Creating histograms of 1 summary statistics. Using [array([-2.        , -1.55555556, -1.11111111, -0.66666667, -0.22222222,\n",
      "        0.22222222,  0.66666667,  1.11111111,  1.55555556,  2.        ])] bins each, or -0.2622638783567279 in total.\n"
     ]
    },
    {
     "ename": "IndexError",
     "evalue": "list index out of range",
     "output_type": "error",
     "traceback": [
      "\u001b[0;31m---------------------------------------------------------------------------\u001b[0m",
      "\u001b[0;31mIndexError\u001b[0m                                Traceback (most recent call last)",
      "\u001b[0;32m<ipython-input-18-80a7ade36b4c>\u001b[0m in \u001b[0;36m<module>\u001b[0;34m\u001b[0m\n\u001b[1;32m      7\u001b[0m     \u001b[0mluminosity\u001b[0m\u001b[0;34m=\u001b[0m\u001b[0mlumi\u001b[0m\u001b[0;34m,\u001b[0m\u001b[0;34m\u001b[0m\u001b[0;34m\u001b[0m\u001b[0m\n\u001b[1;32m      8\u001b[0m     \u001b[0minclude_xsec\u001b[0m\u001b[0;34m=\u001b[0m\u001b[0;32mFalse\u001b[0m\u001b[0;34m,\u001b[0m\u001b[0;34m\u001b[0m\u001b[0;34m\u001b[0m\u001b[0m\n\u001b[0;32m----> 9\u001b[0;31m     \u001b[0mhist_bins\u001b[0m\u001b[0;34m=\u001b[0m\u001b[0;34m[\u001b[0m\u001b[0mnp\u001b[0m\u001b[0;34m.\u001b[0m\u001b[0mlinspace\u001b[0m\u001b[0;34m(\u001b[0m\u001b[0;34m-\u001b[0m\u001b[0;36m2.\u001b[0m\u001b[0;34m,\u001b[0m\u001b[0;36m2.\u001b[0m\u001b[0;34m,\u001b[0m\u001b[0;36m10\u001b[0m\u001b[0;34m)\u001b[0m\u001b[0;34m]\u001b[0m\u001b[0;34m\u001b[0m\u001b[0;34m\u001b[0m\u001b[0m\n\u001b[0m\u001b[1;32m     10\u001b[0m )\n\u001b[1;32m     11\u001b[0m \u001b[0;34m\u001b[0m\u001b[0m\n",
      "\u001b[0;32m~/work/projects/madminer/madminer/madminer/limits.py\u001b[0m in \u001b[0;36mexpected_limits\u001b[0;34m(self, theta_true, theta_ranges, mode, model_file, hist_vars, hist_bins, include_xsec, thetaref, resolutions, luminosity, n_histo_toys, returns, dof, histo_theta_batchsize, weighted_histo, score_components, sample_only_from_closest_benchmark, test_split)\u001b[0m\n\u001b[1;32m    125\u001b[0m             \u001b[0mscore_components\u001b[0m\u001b[0;34m=\u001b[0m\u001b[0mscore_components\u001b[0m\u001b[0;34m,\u001b[0m\u001b[0;34m\u001b[0m\u001b[0;34m\u001b[0m\u001b[0m\n\u001b[1;32m    126\u001b[0m             \u001b[0mtest_split\u001b[0m\u001b[0;34m=\u001b[0m\u001b[0mtest_split\u001b[0m\u001b[0;34m,\u001b[0m\u001b[0;34m\u001b[0m\u001b[0;34m\u001b[0m\u001b[0m\n\u001b[0;32m--> 127\u001b[0;31m             \u001b[0mthetaref\u001b[0m\u001b[0;34m=\u001b[0m\u001b[0mthetaref\u001b[0m\u001b[0;34m,\u001b[0m\u001b[0;34m\u001b[0m\u001b[0;34m\u001b[0m\u001b[0m\n\u001b[0m\u001b[1;32m    128\u001b[0m         )\n\u001b[1;32m    129\u001b[0m         \u001b[0;32mreturn\u001b[0m \u001b[0mtheta_grid\u001b[0m\u001b[0;34m,\u001b[0m \u001b[0mreturn_values\u001b[0m\u001b[0;34m,\u001b[0m \u001b[0mi_ml\u001b[0m\u001b[0;34m\u001b[0m\u001b[0;34m\u001b[0m\u001b[0m\n",
      "\u001b[0;32m~/work/projects/madminer/madminer/madminer/limits.py\u001b[0m in \u001b[0;36m_analyse\u001b[0;34m(***failed resolving arguments***)\u001b[0m\n\u001b[1;32m    273\u001b[0m                 \u001b[0mweighted_histo\u001b[0m\u001b[0;34m=\u001b[0m\u001b[0mweighted_histo\u001b[0m\u001b[0;34m,\u001b[0m\u001b[0;34m\u001b[0m\u001b[0;34m\u001b[0m\u001b[0m\n\u001b[1;32m    274\u001b[0m                 \u001b[0mtest_split\u001b[0m\u001b[0;34m=\u001b[0m\u001b[0mtest_split\u001b[0m\u001b[0;34m,\u001b[0m\u001b[0;34m\u001b[0m\u001b[0;34m\u001b[0m\u001b[0m\n\u001b[0;32m--> 275\u001b[0;31m                 \u001b[0mprocessor\u001b[0m\u001b[0;34m=\u001b[0m\u001b[0mprocessor\u001b[0m\u001b[0;34m,\u001b[0m\u001b[0;34m\u001b[0m\u001b[0;34m\u001b[0m\u001b[0m\n\u001b[0m\u001b[1;32m    276\u001b[0m             )\n\u001b[1;32m    277\u001b[0m \u001b[0;34m\u001b[0m\u001b[0m\n",
      "\u001b[0;32m~/work/projects/madminer/madminer/madminer/limits.py\u001b[0m in \u001b[0;36m_make_histos\u001b[0;34m(self, summary_function, x_bins, theta_grid, n_histo_toys, histo_theta_batchsize, weighted_histo, test_split, processor)\u001b[0m\n\u001b[1;32m    445\u001b[0m                 \u001b[0;32melse\u001b[0m\u001b[0;34m:\u001b[0m\u001b[0;34m\u001b[0m\u001b[0;34m\u001b[0m\u001b[0m\n\u001b[1;32m    446\u001b[0m                     \u001b[0mdata\u001b[0m \u001b[0;34m=\u001b[0m \u001b[0mprocessor\u001b[0m\u001b[0;34m(\u001b[0m\u001b[0msummary_stats\u001b[0m\u001b[0;34m,\u001b[0m \u001b[0mtheta\u001b[0m\u001b[0;34m)\u001b[0m\u001b[0;34m\u001b[0m\u001b[0;34m\u001b[0m\u001b[0m\n\u001b[0;32m--> 447\u001b[0;31m                 \u001b[0mhistos\u001b[0m\u001b[0;34m.\u001b[0m\u001b[0mappend\u001b[0m\u001b[0;34m(\u001b[0m\u001b[0mHisto\u001b[0m\u001b[0;34m(\u001b[0m\u001b[0mdata\u001b[0m\u001b[0;34m,\u001b[0m \u001b[0mweights\u001b[0m\u001b[0;34m,\u001b[0m \u001b[0mx_bins\u001b[0m\u001b[0;34m,\u001b[0m \u001b[0mfill_empty\u001b[0m\u001b[0;34m=\u001b[0m\u001b[0;36m1.0e-9\u001b[0m\u001b[0;34m)\u001b[0m\u001b[0;34m)\u001b[0m\u001b[0;34m\u001b[0m\u001b[0;34m\u001b[0m\u001b[0m\n\u001b[0m\u001b[1;32m    448\u001b[0m \u001b[0;34m\u001b[0m\u001b[0m\n\u001b[1;32m    449\u001b[0m         \u001b[0;32melse\u001b[0m\u001b[0;34m:\u001b[0m\u001b[0;34m\u001b[0m\u001b[0;34m\u001b[0m\u001b[0m\n",
      "\u001b[0;32m~/work/projects/madminer/madminer/madminer/utils/histo.py\u001b[0m in \u001b[0;36m__init__\u001b[0;34m(self, x, weights, bins, fill_empty)\u001b[0m\n\u001b[1;32m     46\u001b[0m \u001b[0;34m\u001b[0m\u001b[0m\n\u001b[1;32m     47\u001b[0m         \u001b[0;31m# Calculate binning\u001b[0m\u001b[0;34m\u001b[0m\u001b[0;34m\u001b[0m\u001b[0;34m\u001b[0m\u001b[0m\n\u001b[0;32m---> 48\u001b[0;31m         \u001b[0mself\u001b[0m\u001b[0;34m.\u001b[0m\u001b[0mn_bins\u001b[0m\u001b[0;34m,\u001b[0m \u001b[0mself\u001b[0m\u001b[0;34m.\u001b[0m\u001b[0medges\u001b[0m \u001b[0;34m=\u001b[0m \u001b[0mself\u001b[0m\u001b[0;34m.\u001b[0m\u001b[0m_calculate_binning\u001b[0m\u001b[0;34m(\u001b[0m\u001b[0mx\u001b[0m\u001b[0;34m,\u001b[0m \u001b[0mbins\u001b[0m\u001b[0;34m)\u001b[0m\u001b[0;34m\u001b[0m\u001b[0;34m\u001b[0m\u001b[0m\n\u001b[0m\u001b[1;32m     49\u001b[0m \u001b[0;34m\u001b[0m\u001b[0m\n\u001b[1;32m     50\u001b[0m         \u001b[0mlogger\u001b[0m\u001b[0;34m.\u001b[0m\u001b[0mdebug\u001b[0m\u001b[0;34m(\u001b[0m\u001b[0;34m\"Binning:\"\u001b[0m\u001b[0;34m)\u001b[0m\u001b[0;34m\u001b[0m\u001b[0;34m\u001b[0m\u001b[0m\n",
      "\u001b[0;32m~/work/projects/madminer/madminer/madminer/utils/histo.py\u001b[0m in \u001b[0;36m_calculate_binning\u001b[0;34m(self, x, bins_in)\u001b[0m\n\u001b[1;32m     68\u001b[0m             \u001b[0;32melse\u001b[0m\u001b[0;34m:\u001b[0m\u001b[0;34m\u001b[0m\u001b[0;34m\u001b[0m\u001b[0m\n\u001b[1;32m     69\u001b[0m                 \u001b[0mn_bins\u001b[0m\u001b[0;34m.\u001b[0m\u001b[0mappend\u001b[0m\u001b[0;34m(\u001b[0m\u001b[0mlen\u001b[0m\u001b[0;34m(\u001b[0m\u001b[0mthis_bins\u001b[0m\u001b[0;34m)\u001b[0m \u001b[0;34m-\u001b[0m \u001b[0;36m1\u001b[0m\u001b[0;34m)\u001b[0m\u001b[0;34m\u001b[0m\u001b[0;34m\u001b[0m\u001b[0m\n\u001b[0;32m---> 70\u001b[0;31m             \u001b[0mn_bins\u001b[0m\u001b[0;34m.\u001b[0m\u001b[0mappend\u001b[0m\u001b[0;34m(\u001b[0m\u001b[0mlen\u001b[0m\u001b[0;34m(\u001b[0m\u001b[0mbin_edges\u001b[0m\u001b[0;34m[\u001b[0m\u001b[0;34m-\u001b[0m\u001b[0;36m1\u001b[0m\u001b[0;34m]\u001b[0m\u001b[0;34m)\u001b[0m \u001b[0;34m-\u001b[0m \u001b[0;36m1\u001b[0m\u001b[0;34m)\u001b[0m\u001b[0;34m\u001b[0m\u001b[0;34m\u001b[0m\u001b[0m\n\u001b[0m\u001b[1;32m     71\u001b[0m \u001b[0;34m\u001b[0m\u001b[0m\n\u001b[1;32m     72\u001b[0m         \u001b[0;32mreturn\u001b[0m \u001b[0mn_bins\u001b[0m\u001b[0;34m,\u001b[0m \u001b[0mbin_edges\u001b[0m\u001b[0;34m\u001b[0m\u001b[0;34m\u001b[0m\u001b[0m\n",
      "\u001b[0;31mIndexError\u001b[0m: list index out of range"
     ]
    }
   ],
   "source": [
    "theta_grid, p_values_expected_sallino, best_fit_expected_sallino = limits.expected_limits(\n",
    "    mode=\"sallino\",\n",
    "    model_file='models/sally',\n",
    "    theta_true=[0.,0.],\n",
    "    theta_ranges=theta_ranges,\n",
    "    resolutions=resolutions,\n",
    "    luminosity=lumi,\n",
    "    include_xsec=False,\n",
    "    hist_bins=[np.linspace(-2.,2.,10)]\n",
    ")\n",
    "\n",
    "p_values[\"SALLINO\"] = p_values_expected_sallino\n",
    "mle[\"SALLINO\"] = best_fit_expected_sallino"
   ]
  },
  {
   "cell_type": "markdown",
   "metadata": {},
   "source": [
    "## 5. Expected limits based on likelihood estimators"
   ]
  },
  {
   "cell_type": "code",
   "execution_count": 11,
   "metadata": {},
   "outputs": [
    {
     "name": "stderr",
     "output_type": "stream",
     "text": [
      "11:54 madminer.limits      INFO    Generating Asimov data\n",
      "11:54 madminer.limits      INFO    Expected events: 2.072791638419519\n",
      "11:54 madminer.limits      INFO    Loading kinematic likelihood ratio estimator\n",
      "11:54 madminer.limits      INFO    Calculating kinematic log likelihood ratio with estimator\n",
      "11:54 madminer.limits      INFO    Calculating p-values\n"
     ]
    }
   ],
   "source": [
    "theta_grid, p_values_expected_scandal, best_fit_expected_scandal = limits.expected_limits(\n",
    "    mode=\"ml\",\n",
    "    model_file='models/scandal',\n",
    "    theta_true=[0.,0.],\n",
    "    theta_ranges=theta_ranges,\n",
    "    resolutions=resolutions,\n",
    "    luminosity=lumi,\n",
    "    include_xsec=False,\n",
    ")\n",
    "\n",
    "p_values[\"SCANDAL\"] = p_values_expected_scandal\n",
    "mle[\"SCANDAL\"] = best_fit_expected_scandal"
   ]
  },
  {
   "cell_type": "markdown",
   "metadata": {},
   "source": [
    "## 6. Toy signal"
   ]
  },
  {
   "cell_type": "markdown",
   "metadata": {},
   "source": [
    "In addition to these expected limits (based on the SM), let us inject a mock signal. We first generate the data:"
   ]
  },
  {
   "cell_type": "code",
   "execution_count": null,
   "metadata": {},
   "outputs": [],
   "source": [
    "sampler = SampleAugmenter('data/lhe_data_shuffled.h5')\n",
    "x_observed, _, _ = sampler.sample_test(\n",
    "    theta=sampling.morphing_point([10.,10.]),\n",
    "    n_samples=100,\n",
    "    folder=None,\n",
    "    filename=None,\n",
    ")"
   ]
  },
  {
   "cell_type": "code",
   "execution_count": null,
   "metadata": {},
   "outputs": [],
   "source": [
    "_, p_values_observed, best_fit_observed = limits.observed_limits(\n",
    "    x_observed=x_observed,\n",
    "    mode=\"ml\",\n",
    "    model_file='models/alices',\n",
    "    theta_ranges=theta_ranges,\n",
    "    resolutions=resolutions,\n",
    "    luminosity=lumi,\n",
    "    include_xsec=False,\n",
    ")\n",
    "\n",
    "p_values[\"ALICES signal\"] = p_values_observed\n",
    "mle[\"ALICES signal\"] = best_fit_observed"
   ]
  },
  {
   "cell_type": "markdown",
   "metadata": {},
   "source": [
    "## 7. Plot"
   ]
  },
  {
   "cell_type": "markdown",
   "metadata": {},
   "source": [
    "Let's plot the results:"
   ]
  },
  {
   "cell_type": "code",
   "execution_count": 16,
   "metadata": {},
   "outputs": [
    {
     "data": {
      "image/png": "[encoded data removed]",
      "text/plain": [
       "<Figure size 432x360 with 2 Axes>"
      ]
     },
     "metadata": {
      "needs_background": "light"
     },
     "output_type": "display_data"
    }
   ],
   "source": [
    "show = \"SALLY\"\n",
    "\n",
    "bin_size = (theta_ranges[0][1] - theta_ranges[0][0])/(resolutions[0] - 1)\n",
    "edges = np.linspace(theta_ranges[0][0] - bin_size/2, theta_ranges[0][1] + bin_size/2, resolutions[0] + 1)\n",
    "centers = np.linspace(theta_ranges[0][0], theta_ranges[0][1], resolutions[0])\n",
    "\n",
    "fig = plt.figure(figsize=(6,5))\n",
    "ax = plt.gca()\n",
    "\n",
    "cmin, cmax = 1.e-2, 1.\n",
    "\n",
    "pcm = ax.pcolormesh(\n",
    "    edges, edges, p_values[show].reshape((resolutions[0], resolutions[1])),\n",
    "    norm=matplotlib.colors.LogNorm(vmin=cmin, vmax=cmax),\n",
    "    cmap='Greys_r'\n",
    ")\n",
    "cbar = fig.colorbar(pcm, ax=ax, extend='both')\n",
    "\n",
    "for i, (label, p_value) in enumerate(six.iteritems(p_values)):\n",
    "    plt.contour(\n",
    "        centers, centers, p_value.reshape((resolutions[0], resolutions[1])),\n",
    "        levels=[0.32],\n",
    "        linestyles='-', colors='C{}'.format(i)\n",
    "    )\n",
    "    plt.scatter(\n",
    "        theta_grid[mle[label]][0], theta_grid[mle[label]][1],\n",
    "        s=80., color='C{}'.format(i), marker='*',\n",
    "        label=label\n",
    "    )\n",
    "\n",
    "plt.legend()\n",
    "\n",
    "plt.xlabel(r'$\\theta_0$')\n",
    "plt.ylabel(r'$\\theta_1$')\n",
    "cbar.set_label('Expected p-value ({})'.format(show))\n",
    "\n",
    "plt.tight_layout()\n",
    "plt.show()\n"
   ]
  },
  {
   "cell_type": "code",
   "execution_count": null,
   "metadata": {},
   "outputs": [],
   "source": []
  }
 ],
 "metadata": {
  "kernelspec": {
   "display_name": "Python (higgs_inference)",
   "language": "python",
   "name": "higgs_inference"
  },
  "language_info": {
   "codemirror_mode": {
    "name": "ipython",
    "version": 3
   },
   "file_extension": ".py",
   "mimetype": "text/x-python",
   "name": "python",
   "nbconvert_exporter": "python",
   "pygments_lexer": "ipython3",
   "version": "3.6.7"
  }
 },
 "nbformat": 4,
 "nbformat_minor": 2
}
