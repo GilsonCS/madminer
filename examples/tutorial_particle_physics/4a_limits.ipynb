{
 "cells": [
  {
   "cell_type": "markdown",
   "metadata": {},
   "source": [
    "# MadMiner particle physics tutorial\n",
    "\n",
    "# Part 4a: Limit setting\n",
    "\n",
    "Johann Brehmer, Felix Kling, Irina Espejo, and Kyle Cranmer 2018-2019"
   ]
  },
  {
   "cell_type": "markdown",
   "metadata": {},
   "source": [
    "In part 4a of this tutorial we will use the networks trained in step 3a and 3b to calculate the expected limits on our theory parameters."
   ]
  },
  {
   "cell_type": "markdown",
   "metadata": {},
   "source": [
    "## Preparations"
   ]
  },
  {
   "cell_type": "code",
   "execution_count": 1,
   "metadata": {},
   "outputs": [],
   "source": [
    "from __future__ import absolute_import, division, print_function, unicode_literals\n",
    "\n",
    "import six\n",
    "import logging\n",
    "import numpy as np\n",
    "import matplotlib\n",
    "from matplotlib import pyplot as plt\n",
    "%matplotlib inline\n",
    "\n",
    "from madminer.limits import AsymptoticLimits\n",
    "from madminer.sampling import SampleAugmenter\n",
    "from madminer import sampling\n"
   ]
  },
  {
   "cell_type": "code",
   "execution_count": 2,
   "metadata": {},
   "outputs": [],
   "source": [
    "# MadMiner output\n",
    "logging.basicConfig(\n",
    "    format='%(asctime)-5.5s %(name)-20.20s %(levelname)-7.7s %(message)s',\n",
    "    datefmt='%H:%M',\n",
    "    level=logging.INFO\n",
    ")\n",
    "\n",
    "# Output of all other modules (e.g. matplotlib)\n",
    "for key in logging.Logger.manager.loggerDict:\n",
    "    if \"madminer\" not in key:\n",
    "        logging.getLogger(key).setLevel(logging.WARNING)"
   ]
  },
  {
   "cell_type": "markdown",
   "metadata": {},
   "source": [
    "## 1. Preparations"
   ]
  },
  {
   "cell_type": "markdown",
   "metadata": {},
   "source": [
    "In the end, what we care about are not plots of the log likelihood ratio, but limits on parameters. But at least under some asymptotic assumptions, these are directly related. MadMiner makes it easy to calculate p-values in the asymptotic limit with the `AsymptoticLimits` class in the `madminer.limits`: "
   ]
  },
  {
   "cell_type": "code",
   "execution_count": 3,
   "metadata": {},
   "outputs": [
    {
     "name": "stderr",
     "output_type": "stream",
     "text": [
      "13:26 madminer.analysis    INFO    Loading data from data/lhe_data_shuffled.h5\n",
      "13:26 madminer.analysis    INFO    Found 2 parameters\n",
      "13:26 madminer.analysis    INFO    Did not find nuisance parameters\n",
      "13:26 madminer.analysis    INFO    Found 6 benchmarks, of which 6 physical\n",
      "13:26 madminer.analysis    INFO    Found 3 observables\n",
      "13:26 madminer.analysis    INFO    Found 14839 events\n",
      "13:26 madminer.analysis    INFO    Found morphing setup with 6 components\n"
     ]
    }
   ],
   "source": [
    "limits = AsymptoticLimits('data/lhe_data_shuffled.h5')\n",
    "# limits = AsymptoticLimits('data/delphes_data_shuffled.h5')"
   ]
  },
  {
   "cell_type": "markdown",
   "metadata": {},
   "source": [
    "This class provids two high-level functions:\n",
    "- `AsymptoticLimits.observed_limits()` lets us calculate p-values on a parameter grid for some observed events, and\n",
    "- `AsymptoticLimits.expected_limits()` lets us calculate expected p-values on a parameter grid based on all data in the MadMiner file.\n",
    "\n",
    "First we have to define the parameter grid on which we evaluate the p-values."
   ]
  },
  {
   "cell_type": "code",
   "execution_count": 4,
   "metadata": {},
   "outputs": [],
   "source": [
    "theta_ranges = [(-20., 20.), (-20., 20.)]\n",
    "resolutions = [25, 25]"
   ]
  },
  {
   "cell_type": "markdown",
   "metadata": {},
   "source": [
    "What luminosity (in inverse pb) are we talking about?"
   ]
  },
  {
   "cell_type": "code",
   "execution_count": 5,
   "metadata": {},
   "outputs": [],
   "source": [
    "lumi = 10000."
   ]
  },
  {
   "cell_type": "code",
   "execution_count": 6,
   "metadata": {},
   "outputs": [],
   "source": [
    "p_values = {}\n",
    "mle = {}"
   ]
  },
  {
   "cell_type": "markdown",
   "metadata": {},
   "source": [
    "## 2. Expected limits based histogram"
   ]
  },
  {
   "cell_type": "markdown",
   "metadata": {},
   "source": [
    "First, as a baseline, let us calculate the expected limits based on a simple jet pT histogram. Right now, there are not a lot of option for this function; MadMiner even calculates the binning automatically. (We will add more functionality!)\n",
    "\n",
    "The keyword `include_xsec` determines whether we include information from the total rate or just use the shapes. Since we don't model backgrounds and systematics in this tutorial, the rate information is unrealistically large, so we leave it out here."
   ]
  },
  {
   "cell_type": "code",
   "execution_count": 16,
   "metadata": {},
   "outputs": [
    {
     "name": "stderr",
     "output_type": "stream",
     "text": [
      "13:27 madminer.limits      INFO    Setting up standard summary statistics\n",
      "13:27 madminer.limits      INFO    Creating histogram with 20 bins for the summary statistics\n",
      "13:27 madminer.limits      INFO    Building histogram with %s bins per parameter and %s bins per observable\n",
      "13:27 madminer.analysis    INFO    Loading data from data/lhe_data_shuffled.h5\n",
      "13:27 madminer.analysis    INFO    Found 2 parameters\n",
      "13:27 madminer.analysis    INFO    Did not find nuisance parameters\n",
      "13:27 madminer.analysis    INFO    Found 6 benchmarks, of which 6 physical\n",
      "13:27 madminer.analysis    INFO    Found 3 observables\n",
      "13:27 madminer.analysis    INFO    Found 14839 events\n",
      "13:27 madminer.analysis    INFO    Found morphing setup with 6 components\n",
      "13:27 madminer.sampling    INFO    Extracting plain training sample. Sampling according to 625 morphing points, starting with [array([-20., -20.]), array([-18.33333333, -20.        ]), array([-16.66666667, -20.        ])]\n",
      "13:27 madminer.sampling    INFO    Starting sampling serially\n",
      "13:27 madminer.sampling    INFO    Sampling from parameter point 31 / 625\n",
      "13:27 madminer.sampling    INFO    Sampling from parameter point 62 / 625\n",
      "13:27 madminer.sampling    INFO    Sampling from parameter point 93 / 625\n",
      "13:27 madminer.sampling    INFO    Sampling from parameter point 124 / 625\n",
      "13:27 madminer.sampling    INFO    Sampling from parameter point 155 / 625\n",
      "13:27 madminer.sampling    INFO    Sampling from parameter point 186 / 625\n",
      "13:27 madminer.sampling    WARNING Large statistical uncertainty on the total cross section when sampling from theta = [-1.66666667 -8.33333333]: (0.006053 +/- 0.000622) pb (10.280421996462405 %). Skipping these warnings in the future...\n",
      "13:27 madminer.sampling    INFO    Sampling from parameter point 217 / 625\n",
      "13:27 madminer.sampling    INFO    Sampling from parameter point 248 / 625\n",
      "13:27 madminer.sampling    WARNING For this value of theta, 1 / 11871 events have negative weight and will be ignored\n",
      "13:27 madminer.sampling    INFO    Sampling from parameter point 279 / 625\n",
      "13:28 madminer.sampling    INFO    Sampling from parameter point 310 / 625\n",
      "13:28 madminer.sampling    INFO    Sampling from parameter point 341 / 625\n",
      "13:28 madminer.sampling    INFO    Sampling from parameter point 372 / 625\n",
      "13:28 madminer.sampling    INFO    Sampling from parameter point 403 / 625\n",
      "13:28 madminer.sampling    INFO    Sampling from parameter point 434 / 625\n",
      "13:28 madminer.sampling    INFO    Sampling from parameter point 465 / 625\n",
      "13:28 madminer.sampling    INFO    Sampling from parameter point 496 / 625\n",
      "13:28 madminer.sampling    INFO    Sampling from parameter point 527 / 625\n",
      "13:28 madminer.sampling    INFO    Sampling from parameter point 558 / 625\n",
      "13:28 madminer.sampling    INFO    Sampling from parameter point 589 / 625\n",
      "13:28 madminer.sampling    WARNING For this value of theta, 1 / 11871 events have negative weight and will be ignored\n",
      "13:28 madminer.sampling    INFO    Sampling from parameter point 620 / 625\n",
      "13:28 madminer.sampling    INFO    Effective number of samples: mean 23.736644584531476, with individual thetas ranging from 10.972346216524036 to 90.02596673284461\n",
      "13:28 madminer.limits      INFO    Calculating kinematic log likelihood with histograms\n",
      "13:28 madminer.limits      INFO    Calculating p-values\n"
     ]
    }
   ],
   "source": [
    "_, p_values_expected_histo, best_fit_expected_histo = limits.expected_limits(\n",
    "    mode=\"histo\",\n",
    "    hist_vars=[\"pt_j1\"],\n",
    "    theta_true=[0.,0.],\n",
    "    theta_ranges=theta_ranges,\n",
    "    resolutions=resolutions,\n",
    "    luminosity=lumi,\n",
    "    include_xsec=False,\n",
    ")\n",
    "\n",
    "p_values[\"Histogram\"] = p_values_expected_histo\n",
    "mle[\"Histogram\"] = best_fit_expected_histo"
   ]
  },
  {
   "cell_type": "markdown",
   "metadata": {},
   "source": [
    "With `mode=\"rate\"`, we could calculate limits based on only the rate -- but again, since the rate is extremely powerful when backgrounds and systematics are not taken into account, we don't do that in this tutorial."
   ]
  },
  {
   "cell_type": "markdown",
   "metadata": {},
   "source": [
    "## 3. Expected limits based on ratio estimators"
   ]
  },
  {
   "cell_type": "markdown",
   "metadata": {},
   "source": [
    "Next, `mode=\"ml\"` allows us to calculate limits based on any `ParamterizedRatioEstimator` instance like the ALICES estimator trained above:"
   ]
  },
  {
   "cell_type": "code",
   "execution_count": 8,
   "metadata": {},
   "outputs": [
    {
     "name": "stderr",
     "output_type": "stream",
     "text": [
      "13:26 madminer.limits      INFO    Loading kinematic likelihood ratio estimator\n",
      "13:26 madminer.limits      INFO    Calculating kinematic log likelihood ratio with estimator\n",
      "13:26 madminer.limits      INFO    Calculating p-values\n"
     ]
    }
   ],
   "source": [
    "theta_grid, p_values_expected_alices, best_fit_expected_alices = limits.expected_limits(\n",
    "    mode=\"ml\",\n",
    "    model_file='models/alices',\n",
    "    theta_true=[0.,0.],\n",
    "    theta_ranges=theta_ranges,\n",
    "    resolutions=resolutions,\n",
    "    luminosity=lumi,\n",
    "    include_xsec=False,\n",
    ")\n",
    "\n",
    "p_values[\"ALICES\"] = p_values_expected_alices\n",
    "mle[\"ALICES\"] = best_fit_expected_alices"
   ]
  },
  {
   "cell_type": "markdown",
   "metadata": {},
   "source": [
    "## 4. Expected limits based on score estimators"
   ]
  },
  {
   "cell_type": "markdown",
   "metadata": {},
   "source": [
    "To get p-values from a SALLY estimator, we have to use histograms of the estimated score:"
   ]
  },
  {
   "cell_type": "code",
   "execution_count": 9,
   "metadata": {},
   "outputs": [
    {
     "name": "stderr",
     "output_type": "stream",
     "text": [
      "13:26 madminer.limits      INFO    Loading score estimator and setting it up as summary statistics\n",
      "13:26 madminer.limits      INFO    Creating histogram with 20 bins for the summary statistics\n",
      "13:26 madminer.limits      INFO    Building histogram with %s bins per parameter and %s bins per observable\n",
      "13:26 madminer.analysis    INFO    Loading data from data/lhe_data_shuffled.h5\n",
      "13:26 madminer.analysis    INFO    Found 2 parameters\n",
      "13:26 madminer.analysis    INFO    Did not find nuisance parameters\n",
      "13:26 madminer.analysis    INFO    Found 6 benchmarks, of which 6 physical\n",
      "13:26 madminer.analysis    INFO    Found 3 observables\n",
      "13:26 madminer.analysis    INFO    Found 14839 events\n",
      "13:26 madminer.analysis    INFO    Found morphing setup with 6 components\n",
      "13:26 madminer.sampling    INFO    Extracting plain training sample. Sampling according to 625 morphing points, starting with [array([-20., -20.]), array([-18.33333333, -20.        ]), array([-16.66666667, -20.        ])]\n",
      "13:26 madminer.sampling    INFO    Starting sampling serially\n",
      "13:26 madminer.sampling    INFO    Sampling from parameter point 31 / 625\n",
      "13:26 madminer.sampling    INFO    Sampling from parameter point 62 / 625\n",
      "13:26 madminer.sampling    INFO    Sampling from parameter point 93 / 625\n",
      "13:26 madminer.sampling    INFO    Sampling from parameter point 124 / 625\n",
      "13:26 madminer.sampling    INFO    Sampling from parameter point 155 / 625\n",
      "13:26 madminer.sampling    INFO    Sampling from parameter point 186 / 625\n",
      "13:26 madminer.sampling    WARNING Large statistical uncertainty on the total cross section when sampling from theta = [-1.66666667 -8.33333333]: (0.006053 +/- 0.000622) pb (10.280421996462405 %). Skipping these warnings in the future...\n",
      "13:26 madminer.sampling    INFO    Sampling from parameter point 217 / 625\n",
      "13:26 madminer.sampling    INFO    Sampling from parameter point 248 / 625\n",
      "13:26 madminer.sampling    WARNING For this value of theta, 1 / 11871 events have negative weight and will be ignored\n",
      "13:26 madminer.sampling    INFO    Sampling from parameter point 279 / 625\n",
      "13:26 madminer.sampling    INFO    Sampling from parameter point 310 / 625\n",
      "13:26 madminer.sampling    INFO    Sampling from parameter point 341 / 625\n",
      "13:26 madminer.sampling    INFO    Sampling from parameter point 372 / 625\n",
      "13:26 madminer.sampling    INFO    Sampling from parameter point 403 / 625\n",
      "13:26 madminer.sampling    INFO    Sampling from parameter point 434 / 625\n",
      "13:26 madminer.sampling    INFO    Sampling from parameter point 465 / 625\n",
      "13:26 madminer.sampling    INFO    Sampling from parameter point 496 / 625\n",
      "13:26 madminer.sampling    INFO    Sampling from parameter point 527 / 625\n",
      "13:26 madminer.sampling    INFO    Sampling from parameter point 558 / 625\n",
      "13:26 madminer.sampling    INFO    Sampling from parameter point 589 / 625\n",
      "13:26 madminer.sampling    WARNING For this value of theta, 1 / 11871 events have negative weight and will be ignored\n",
      "13:26 madminer.sampling    INFO    Sampling from parameter point 620 / 625\n",
      "13:26 madminer.sampling    INFO    Effective number of samples: mean 23.736644584531476, with individual thetas ranging from 10.972346216524036 to 90.02596673284461\n",
      "13:27 madminer.limits      INFO    Calculating kinematic log likelihood with histograms\n",
      "13:27 madminer.limits      INFO    Calculating p-values\n"
     ]
    }
   ],
   "source": [
    "theta_grid, p_values_expected_sally, best_fit_expected_sally = limits.expected_limits(\n",
    "    mode=\"histo\",\n",
    "    model_file='models/sally',\n",
    "    theta_true=[0.,0.],\n",
    "    theta_ranges=theta_ranges,\n",
    "    resolutions=resolutions,\n",
    "    luminosity=lumi,\n",
    "    include_xsec=False,\n",
    ")\n",
    "\n",
    "p_values[\"SALLY\"] = p_values_expected_sally\n",
    "mle[\"SALLY\"] = best_fit_expected_sally"
   ]
  },
  {
   "cell_type": "markdown",
   "metadata": {},
   "source": [
    "## 5. Toy signal"
   ]
  },
  {
   "cell_type": "markdown",
   "metadata": {},
   "source": [
    "In addition to these expected limits (based on the SM), let us inject a mock signal. We first generate the data:"
   ]
  },
  {
   "cell_type": "code",
   "execution_count": 10,
   "metadata": {},
   "outputs": [
    {
     "name": "stderr",
     "output_type": "stream",
     "text": [
      "13:27 madminer.analysis    INFO    Loading data from data/lhe_data_shuffled.h5\n",
      "13:27 madminer.analysis    INFO    Found 2 parameters\n",
      "13:27 madminer.analysis    INFO    Did not find nuisance parameters\n",
      "13:27 madminer.analysis    INFO    Found 6 benchmarks, of which 6 physical\n",
      "13:27 madminer.analysis    INFO    Found 3 observables\n",
      "13:27 madminer.analysis    INFO    Found 14839 events\n",
      "13:27 madminer.analysis    INFO    Found morphing setup with 6 components\n",
      "13:27 madminer.sampling    INFO    Extracting evaluation sample. Sampling according to [10. 10.]\n",
      "13:27 madminer.sampling    INFO    Starting sampling serially\n",
      "13:27 madminer.sampling    INFO    Sampling from parameter point 1 / 1\n",
      "13:27 madminer.sampling    INFO    Effective number of samples: 9.192183055055391\n"
     ]
    }
   ],
   "source": [
    "sampler = SampleAugmenter('data/lhe_data_shuffled.h5')\n",
    "x_observed, _, _ = sampler.sample_test(\n",
    "    theta=sampling.morphing_point([10.,10.]),\n",
    "    n_samples=100,\n",
    "    folder=None,\n",
    "    filename=None,\n",
    ")"
   ]
  },
  {
   "cell_type": "code",
   "execution_count": 11,
   "metadata": {},
   "outputs": [
    {
     "name": "stderr",
     "output_type": "stream",
     "text": [
      "13:27 madminer.limits      INFO    Loading kinematic likelihood ratio estimator\n",
      "13:27 madminer.limits      INFO    Calculating kinematic log likelihood ratio with estimator\n",
      "13:27 madminer.limits      INFO    Calculating p-values\n"
     ]
    }
   ],
   "source": [
    "_, p_values_observed, best_fit_observed = limits.observed_limits(\n",
    "    x_observed=x_observed,\n",
    "    mode=\"ml\",\n",
    "    model_file='models/alices',\n",
    "    theta_ranges=theta_ranges,\n",
    "    resolutions=resolutions,\n",
    "    luminosity=lumi,\n",
    "    include_xsec=False,\n",
    ")\n",
    "\n",
    "p_values[\"ALICES signal\"] = p_values_observed\n",
    "mle[\"ALICES signal\"] = best_fit_observed"
   ]
  },
  {
   "cell_type": "markdown",
   "metadata": {},
   "source": [
    "## 6. Plot"
   ]
  },
  {
   "cell_type": "markdown",
   "metadata": {},
   "source": [
    "Let's plot the results:"
   ]
  },
  {
   "cell_type": "code",
   "execution_count": 17,
   "metadata": {},
   "outputs": [
    {
     "data": {
      "image/png": "[encoded data removed]",
      "text/plain": [
       "<Figure size 432x360 with 2 Axes>"
      ]
     },
     "metadata": {
      "needs_background": "light"
     },
     "output_type": "display_data"
    }
   ],
   "source": [
    "show = \"ALICES\"\n",
    "\n",
    "bin_size = (theta_ranges[0][1] - theta_ranges[0][0])/(resolutions[0] - 1)\n",
    "edges = np.linspace(theta_ranges[0][0] - bin_size/2, theta_ranges[0][1] + bin_size/2, resolutions[0] + 1)\n",
    "centers = np.linspace(theta_ranges[0][0], theta_ranges[0][1], resolutions[0])\n",
    "\n",
    "fig = plt.figure(figsize=(6,5))\n",
    "ax = plt.gca()\n",
    "\n",
    "cmin, cmax = 1.e-6, 1.\n",
    "\n",
    "pcm = ax.pcolormesh(\n",
    "    edges, edges, p_values[show].reshape((resolutions[0], resolutions[1])),\n",
    "    norm=matplotlib.colors.LogNorm(vmin=cmin, vmax=cmax),\n",
    "    cmap='Greys_r'\n",
    ")\n",
    "cbar = fig.colorbar(pcm, ax=ax, extend='both')\n",
    "\n",
    "for i, (label, p_value) in enumerate(six.iteritems(p_values)):\n",
    "    plt.contour(\n",
    "        centers, centers, p_value.reshape((resolutions[0], resolutions[1])),\n",
    "        levels=[0.05],\n",
    "        linestyles='-', colors='C{}'.format(i)\n",
    "    )\n",
    "    plt.scatter(\n",
    "        theta_grid[mle[label]][0], theta_grid[mle[label]][1],\n",
    "        s=80., color='C{}'.format(i), marker='*',\n",
    "        label=label\n",
    "    )\n",
    "\n",
    "plt.legend()\n",
    "\n",
    "plt.xlabel(r'$\\theta_0$')\n",
    "plt.ylabel(r'$\\theta_1$')\n",
    "cbar.set_label('Expected p-value ({})'.format(show))\n",
    "\n",
    "plt.tight_layout()\n",
    "plt.show()\n"
   ]
  },
  {
   "cell_type": "code",
   "execution_count": null,
   "metadata": {},
   "outputs": [],
   "source": []
  }
 ],
 "metadata": {
  "kernelspec": {
   "display_name": "Python (higgs_inference)",
   "language": "python",
   "name": "higgs_inference"
  },
  "language_info": {
   "codemirror_mode": {
    "name": "ipython",
    "version": 3
   },
   "file_extension": ".py",
   "mimetype": "text/x-python",
   "name": "python",
   "nbconvert_exporter": "python",
   "pygments_lexer": "ipython3",
   "version": "3.6.7"
  }
 },
 "nbformat": 4,
 "nbformat_minor": 2
}
