{
 "cells": [
  {
   "cell_type": "markdown",
   "metadata": {},
   "source": [
    "# MadMiner particle physics tutorial\n",
    "\n",
    "# Part 4: Limit setting\n",
    "\n",
    "Johann Brehmer, Felix Kling, Irina Espejo, and Kyle Cranmer 2018-2019"
   ]
  },
  {
   "cell_type": "markdown",
   "metadata": {},
   "source": [
    "In part 4 of this tutorial we will use the networks trained in step 3a and 3b to calculate the expected limits on our theory parameters."
   ]
  },
  {
   "cell_type": "markdown",
   "metadata": {},
   "source": [
    "## Preparations"
   ]
  },
  {
   "cell_type": "code",
   "execution_count": 1,
   "metadata": {},
   "outputs": [],
   "source": [
    "from __future__ import absolute_import, division, print_function, unicode_literals\n",
    "\n",
    "import logging\n",
    "import numpy as np\n",
    "import matplotlib\n",
    "from matplotlib import pyplot as plt\n",
    "%matplotlib inline\n",
    "\n",
    "from madminer.limits import AsymptoticLimits\n"
   ]
  },
  {
   "cell_type": "code",
   "execution_count": 2,
   "metadata": {},
   "outputs": [],
   "source": [
    "# MadMiner output\n",
    "logging.basicConfig(\n",
    "    format='%(asctime)-5.5s %(name)-20.20s %(levelname)-7.7s %(message)s',\n",
    "    datefmt='%H:%M',\n",
    "    level=logging.INFO\n",
    ")\n",
    "\n",
    "# Output of all other modules (e.g. matplotlib)\n",
    "for key in logging.Logger.manager.loggerDict:\n",
    "    if \"madminer\" not in key:\n",
    "        logging.getLogger(key).setLevel(logging.WARNING)"
   ]
  },
  {
   "cell_type": "markdown",
   "metadata": {},
   "source": [
    "## 1. Preparations"
   ]
  },
  {
   "cell_type": "markdown",
   "metadata": {},
   "source": [
    "In the end, what we care about are not plots of the log likelihood ratio, but limits on parameters. But at least under some asymptotic assumptions, these are directly related. MadMiner makes it easy to calculate p-values in the asymptotic limit with the `AsymptoticLimits` class in the `madminer.limits`: "
   ]
  },
  {
   "cell_type": "code",
   "execution_count": 3,
   "metadata": {},
   "outputs": [
    {
     "name": "stderr",
     "output_type": "stream",
     "text": [
      "13:45 madminer.analysis    INFO    Loading data from data/lhe_data_shuffled.h5\n",
      "13:45 madminer.analysis    INFO    Found 2 parameters\n",
      "13:45 madminer.analysis    INFO    Did not find nuisance parameters\n",
      "13:45 madminer.analysis    INFO    Found 6 benchmarks, of which 6 physical\n",
      "13:45 madminer.analysis    INFO    Found 3 observables\n",
      "13:45 madminer.analysis    INFO    Found 14839 events\n",
      "13:45 madminer.analysis    INFO    Found morphing setup with 6 components\n"
     ]
    }
   ],
   "source": [
    "limits = AsymptoticLimits('data/lhe_data_shuffled.h5')\n",
    "# limits = AsymptoticLimits('data/delphes_data_shuffled.h5')"
   ]
  },
  {
   "cell_type": "markdown",
   "metadata": {},
   "source": [
    "This class provids two high-level functions:\n",
    "- `AsymptoticLimits.observed_limits()` lets us calculate p-values on a parameter grid for some observed events, and\n",
    "- `AsymptoticLimits.expected_limits()` lets us calculate expected p-values on a parameter grid based on all data in the MadMiner file.\n",
    "\n",
    "First we have to define the parameter grid on which we evaluate the p-values."
   ]
  },
  {
   "cell_type": "code",
   "execution_count": 12,
   "metadata": {},
   "outputs": [],
   "source": [
    "theta_ranges = ((-20., 20.), (-20., 20.))\n",
    "resolutions = (25, 25)"
   ]
  },
  {
   "cell_type": "code",
   "execution_count": 13,
   "metadata": {},
   "outputs": [],
   "source": [
    "p_values = {}"
   ]
  },
  {
   "cell_type": "markdown",
   "metadata": {},
   "source": [
    "## 2. Expected limits based on rate or simple histograms"
   ]
  },
  {
   "cell_type": "markdown",
   "metadata": {},
   "source": [
    "First, with `mode=\"rate\"`, we can calculate expected limits based only on rate information:"
   ]
  },
  {
   "cell_type": "code",
   "execution_count": 14,
   "metadata": {},
   "outputs": [
    {
     "name": "stderr",
     "output_type": "stream",
     "text": [
      "13:47 madminer.limits      INFO    Calculating rate log likelihood\n",
      "13:47 madminer.limits      INFO    Calculating p-values\n"
     ]
    }
   ],
   "source": [
    "_, p_values_expected_xsec, best_fit_expected_xsec = limits.expected_limits(\n",
    "    mode=\"rate\",\n",
    "    theta_true=[0.,0.],\n",
    "    theta_ranges=theta_ranges,\n",
    "    resolutions=resolutions,\n",
    "    luminosity=300000.0\n",
    ")"
   ]
  },
  {
   "cell_type": "markdown",
   "metadata": {},
   "source": [
    "`mode=\"histo\"` calculates limits based on histograms. For now, there is not a lot of freedom in this step, the histogram binning is determined automatically."
   ]
  },
  {
   "cell_type": "code",
   "execution_count": 15,
   "metadata": {},
   "outputs": [
    {
     "name": "stderr",
     "output_type": "stream",
     "text": [
      "13:47 madminer.limits      INFO    Setting up standard summary statistics\n",
      "13:47 madminer.limits      INFO    Creating histogram with 20 bins for the summary statistics\n",
      "13:47 madminer.limits      INFO    Building histogram with %s bins per parameter and %s bins per observable\n",
      "13:47 madminer.analysis    INFO    Loading data from data/lhe_data_shuffled.h5\n",
      "13:47 madminer.analysis    INFO    Found 2 parameters\n",
      "13:47 madminer.analysis    INFO    Did not find nuisance parameters\n",
      "13:47 madminer.analysis    INFO    Found 6 benchmarks, of which 6 physical\n",
      "13:47 madminer.analysis    INFO    Found 3 observables\n",
      "13:47 madminer.analysis    INFO    Found 14839 events\n",
      "13:47 madminer.analysis    INFO    Found morphing setup with 6 components\n",
      "13:47 madminer.sampling    INFO    Extracting plain training sample. Sampling according to ('morphing_points', [array([-20., -20.]), array([-18.33333333, -20.        ]), array([-16.66666667, -20.        ]), array([-15., -20.]), array([-13.33333333, -20.        ]), array([-11.66666667, -20.        ]), array([-10., -20.]), array([ -8.33333333, -20.        ]), array([ -6.66666667, -20.        ]), array([ -5., -20.]), array([ -3.33333333, -20.        ]), array([ -1.66666667, -20.        ]), array([  0., -20.]), array([  1.66666667, -20.        ]), array([  3.33333333, -20.        ]), array([  5., -20.]), array([  6.66666667, -20.        ]), array([  8.33333333, -20.        ]), array([ 10., -20.]), array([ 11.66666667, -20.        ]), array([ 13.33333333, -20.        ]), array([ 15., -20.]), array([ 16.66666667, -20.        ]), array([ 18.33333333, -20.        ]), array([ 20., -20.]), array([-20.        , -18.33333333]), array([-18.33333333, -18.33333333]), array([-16.66666667, -18.33333333]), array([-15.        , -18.33333333]), array([-13.33333333, -18.33333333]), array([-11.66666667, -18.33333333]), array([-10.        , -18.33333333]), array([ -8.33333333, -18.33333333]), array([ -6.66666667, -18.33333333]), array([ -5.        , -18.33333333]), array([ -3.33333333, -18.33333333]), array([ -1.66666667, -18.33333333]), array([  0.        , -18.33333333]), array([  1.66666667, -18.33333333]), array([  3.33333333, -18.33333333]), array([  5.        , -18.33333333]), array([  6.66666667, -18.33333333]), array([  8.33333333, -18.33333333]), array([ 10.        , -18.33333333]), array([ 11.66666667, -18.33333333]), array([ 13.33333333, -18.33333333]), array([ 15.        , -18.33333333]), array([ 16.66666667, -18.33333333]), array([ 18.33333333, -18.33333333]), array([ 20.        , -18.33333333]), array([-20.        , -16.66666667]), array([-18.33333333, -16.66666667]), array([-16.66666667, -16.66666667]), array([-15.        , -16.66666667]), array([-13.33333333, -16.66666667]), array([-11.66666667, -16.66666667]), array([-10.        , -16.66666667]), array([ -8.33333333, -16.66666667]), array([ -6.66666667, -16.66666667]), array([ -5.        , -16.66666667]), array([ -3.33333333, -16.66666667]), array([ -1.66666667, -16.66666667]), array([  0.        , -16.66666667]), array([  1.66666667, -16.66666667]), array([  3.33333333, -16.66666667]), array([  5.        , -16.66666667]), array([  6.66666667, -16.66666667]), array([  8.33333333, -16.66666667]), array([ 10.        , -16.66666667]), array([ 11.66666667, -16.66666667]), array([ 13.33333333, -16.66666667]), array([ 15.        , -16.66666667]), array([ 16.66666667, -16.66666667]), array([ 18.33333333, -16.66666667]), array([ 20.        , -16.66666667]), array([-20., -15.]), array([-18.33333333, -15.        ]), array([-16.66666667, -15.        ]), array([-15., -15.]), array([-13.33333333, -15.        ]), array([-11.66666667, -15.        ]), array([-10., -15.]), array([ -8.33333333, -15.        ]), array([ -6.66666667, -15.        ]), array([ -5., -15.]), array([ -3.33333333, -15.        ]), array([ -1.66666667, -15.        ]), array([  0., -15.]), array([  1.66666667, -15.        ]), array([  3.33333333, -15.        ]), array([  5., -15.]), array([  6.66666667, -15.        ]), array([  8.33333333, -15.        ]), array([ 10., -15.]), array([ 11.66666667, -15.        ]), array([ 13.33333333, -15.        ]), array([ 15., -15.]), array([ 16.66666667, -15.        ]), array([ 18.33333333, -15.        ]), array([ 20., -15.]), array([-20.        , -13.33333333]), array([-18.33333333, -13.33333333]), array([-16.66666667, -13.33333333]), array([-15.        , -13.33333333]), array([-13.33333333, -13.33333333]), array([-11.66666667, -13.33333333]), array([-10.        , -13.33333333]), array([ -8.33333333, -13.33333333]), array([ -6.66666667, -13.33333333]), array([ -5.        , -13.33333333]), array([ -3.33333333, -13.33333333]), array([ -1.66666667, -13.33333333]), array([  0.        , -13.33333333]), array([  1.66666667, -13.33333333]), array([  3.33333333, -13.33333333]), array([  5.        , -13.33333333]), array([  6.66666667, -13.33333333]), array([  8.33333333, -13.33333333]), array([ 10.        , -13.33333333]), array([ 11.66666667, -13.33333333]), array([ 13.33333333, -13.33333333]), array([ 15.        , -13.33333333]), array([ 16.66666667, -13.33333333]), array([ 18.33333333, -13.33333333]), array([ 20.        , -13.33333333]), array([-20.        , -11.66666667]), array([-18.33333333, -11.66666667]), array([-16.66666667, -11.66666667]), array([-15.        , -11.66666667]), array([-13.33333333, -11.66666667]), array([-11.66666667, -11.66666667]), array([-10.        , -11.66666667]), array([ -8.33333333, -11.66666667]), array([ -6.66666667, -11.66666667]), array([ -5.        , -11.66666667]), array([ -3.33333333, -11.66666667]), array([ -1.66666667, -11.66666667]), array([  0.        , -11.66666667]), array([  1.66666667, -11.66666667]), array([  3.33333333, -11.66666667]), array([  5.        , -11.66666667]), array([  6.66666667, -11.66666667]), array([  8.33333333, -11.66666667]), array([ 10.        , -11.66666667]), array([ 11.66666667, -11.66666667]), array([ 13.33333333, -11.66666667]), array([ 15.        , -11.66666667]), array([ 16.66666667, -11.66666667]), array([ 18.33333333, -11.66666667]), array([ 20.        , -11.66666667]), array([-20., -10.]), array([-18.33333333, -10.        ]), array([-16.66666667, -10.        ]), array([-15., -10.]), array([-13.33333333, -10.        ]), array([-11.66666667, -10.        ]), array([-10., -10.]), array([ -8.33333333, -10.        ]), array([ -6.66666667, -10.        ]), array([ -5., -10.]), array([ -3.33333333, -10.        ]), array([ -1.66666667, -10.        ]), array([  0., -10.]), array([  1.66666667, -10.        ]), array([  3.33333333, -10.        ]), array([  5., -10.]), array([  6.66666667, -10.        ]), array([  8.33333333, -10.        ]), array([ 10., -10.]), array([ 11.66666667, -10.        ]), array([ 13.33333333, -10.        ]), array([ 15., -10.]), array([ 16.66666667, -10.        ]), array([ 18.33333333, -10.        ]), array([ 20., -10.]), array([-20.        ,  -8.33333333]), array([-18.33333333,  -8.33333333]), array([-16.66666667,  -8.33333333]), array([-15.        ,  -8.33333333]), array([-13.33333333,  -8.33333333]), array([-11.66666667,  -8.33333333]), array([-10.        ,  -8.33333333]), array([-8.33333333, -8.33333333]), array([-6.66666667, -8.33333333]), array([-5.        , -8.33333333]), array([-3.33333333, -8.33333333]), array([-1.66666667, -8.33333333]), array([ 0.        , -8.33333333]), array([ 1.66666667, -8.33333333]), array([ 3.33333333, -8.33333333]), array([ 5.        , -8.33333333]), array([ 6.66666667, -8.33333333]), array([ 8.33333333, -8.33333333]), array([10.        , -8.33333333]), array([11.66666667, -8.33333333]), array([13.33333333, -8.33333333]), array([15.        , -8.33333333]), array([16.66666667, -8.33333333]), array([18.33333333, -8.33333333]), array([20.        , -8.33333333]), array([-20.        ,  -6.66666667]), array([-18.33333333,  -6.66666667]), array([-16.66666667,  -6.66666667]), array([-15.        ,  -6.66666667]), array([-13.33333333,  -6.66666667]), array([-11.66666667,  -6.66666667]), array([-10.        ,  -6.66666667]), array([-8.33333333, -6.66666667]), array([-6.66666667, -6.66666667]), array([-5.        , -6.66666667]), array([-3.33333333, -6.66666667]), array([-1.66666667, -6.66666667]), array([ 0.        , -6.66666667]), array([ 1.66666667, -6.66666667]), array([ 3.33333333, -6.66666667]), array([ 5.        , -6.66666667]), array([ 6.66666667, -6.66666667]), array([ 8.33333333, -6.66666667]), array([10.        , -6.66666667]), array([11.66666667, -6.66666667]), array([13.33333333, -6.66666667]), array([15.        , -6.66666667]), array([16.66666667, -6.66666667]), array([18.33333333, -6.66666667]), array([20.        , -6.66666667]), array([-20.,  -5.]), array([-18.33333333,  -5.        ]), array([-16.66666667,  -5.        ]), array([-15.,  -5.]), array([-13.33333333,  -5.        ]), array([-11.66666667,  -5.        ]), array([-10.,  -5.]), array([-8.33333333, -5.        ]), array([-6.66666667, -5.        ]), array([-5., -5.]), array([-3.33333333, -5.        ]), array([-1.66666667, -5.        ]), array([ 0., -5.]), array([ 1.66666667, -5.        ]), array([ 3.33333333, -5.        ]), array([ 5., -5.]), array([ 6.66666667, -5.        ]), array([ 8.33333333, -5.        ]), array([10., -5.]), array([11.66666667, -5.        ]), array([13.33333333, -5.        ]), array([15., -5.]), array([16.66666667, -5.        ]), array([18.33333333, -5.        ]), array([20., -5.]), array([-20.        ,  -3.33333333]), array([-18.33333333,  -3.33333333]), array([-16.66666667,  -3.33333333]), array([-15.        ,  -3.33333333]), array([-13.33333333,  -3.33333333]), array([-11.66666667,  -3.33333333]), array([-10.        ,  -3.33333333]), array([-8.33333333, -3.33333333]), array([-6.66666667, -3.33333333]), array([-5.        , -3.33333333]), array([-3.33333333, -3.33333333]), array([-1.66666667, -3.33333333]), array([ 0.        , -3.33333333]), array([ 1.66666667, -3.33333333]), array([ 3.33333333, -3.33333333]), array([ 5.        , -3.33333333]), array([ 6.66666667, -3.33333333]), array([ 8.33333333, -3.33333333]), array([10.        , -3.33333333]), array([11.66666667, -3.33333333]), array([13.33333333, -3.33333333]), array([15.        , -3.33333333]), array([16.66666667, -3.33333333]), array([18.33333333, -3.33333333]), array([20.        , -3.33333333]), array([-20.        ,  -1.66666667]), array([-18.33333333,  -1.66666667]), array([-16.66666667,  -1.66666667]), array([-15.        ,  -1.66666667]), array([-13.33333333,  -1.66666667]), array([-11.66666667,  -1.66666667]), array([-10.        ,  -1.66666667]), array([-8.33333333, -1.66666667]), array([-6.66666667, -1.66666667]), array([-5.        , -1.66666667]), array([-3.33333333, -1.66666667]), array([-1.66666667, -1.66666667]), array([ 0.        , -1.66666667]), array([ 1.66666667, -1.66666667]), array([ 3.33333333, -1.66666667]), array([ 5.        , -1.66666667]), array([ 6.66666667, -1.66666667]), array([ 8.33333333, -1.66666667]), array([10.        , -1.66666667]), array([11.66666667, -1.66666667]), array([13.33333333, -1.66666667]), array([15.        , -1.66666667]), array([16.66666667, -1.66666667]), array([18.33333333, -1.66666667]), array([20.        , -1.66666667]), array([-20.,   0.]), array([-18.33333333,   0.        ]), array([-16.66666667,   0.        ]), array([-15.,   0.]), array([-13.33333333,   0.        ]), array([-11.66666667,   0.        ]), array([-10.,   0.]), array([-8.33333333,  0.        ]), array([-6.66666667,  0.        ]), array([-5.,  0.]), array([-3.33333333,  0.        ]), array([-1.66666667,  0.        ]), array([0., 0.]), array([1.66666667, 0.        ]), array([3.33333333, 0.        ]), array([5., 0.]), array([6.66666667, 0.        ]), array([8.33333333, 0.        ]), array([10.,  0.]), array([11.66666667,  0.        ]), array([13.33333333,  0.        ]), array([15.,  0.]), array([16.66666667,  0.        ]), array([18.33333333,  0.        ]), array([20.,  0.]), array([-20.        ,   1.66666667]), array([-18.33333333,   1.66666667]), array([-16.66666667,   1.66666667]), array([-15.        ,   1.66666667]), array([-13.33333333,   1.66666667]), array([-11.66666667,   1.66666667]), array([-10.        ,   1.66666667]), array([-8.33333333,  1.66666667]), array([-6.66666667,  1.66666667]), array([-5.        ,  1.66666667]), array([-3.33333333,  1.66666667]), array([-1.66666667,  1.66666667]), array([0.        , 1.66666667]), array([1.66666667, 1.66666667]), array([3.33333333, 1.66666667]), array([5.        , 1.66666667]), array([6.66666667, 1.66666667]), array([8.33333333, 1.66666667]), array([10.        ,  1.66666667]), array([11.66666667,  1.66666667]), array([13.33333333,  1.66666667]), array([15.        ,  1.66666667]), array([16.66666667,  1.66666667]), array([18.33333333,  1.66666667]), array([20.        ,  1.66666667]), array([-20.        ,   3.33333333]), array([-18.33333333,   3.33333333]), array([-16.66666667,   3.33333333]), array([-15.        ,   3.33333333]), array([-13.33333333,   3.33333333]), array([-11.66666667,   3.33333333]), array([-10.        ,   3.33333333]), array([-8.33333333,  3.33333333]), array([-6.66666667,  3.33333333]), array([-5.        ,  3.33333333]), array([-3.33333333,  3.33333333]), array([-1.66666667,  3.33333333]), array([0.        , 3.33333333]), array([1.66666667, 3.33333333]), array([3.33333333, 3.33333333]), array([5.        , 3.33333333]), array([6.66666667, 3.33333333]), array([8.33333333, 3.33333333]), array([10.        ,  3.33333333]), array([11.66666667,  3.33333333]), array([13.33333333,  3.33333333]), array([15.        ,  3.33333333]), array([16.66666667,  3.33333333]), array([18.33333333,  3.33333333]), array([20.        ,  3.33333333]), array([-20.,   5.]), array([-18.33333333,   5.        ]), array([-16.66666667,   5.        ]), array([-15.,   5.]), array([-13.33333333,   5.        ]), array([-11.66666667,   5.        ]), array([-10.,   5.]), array([-8.33333333,  5.        ]), array([-6.66666667,  5.        ]), array([-5.,  5.]), array([-3.33333333,  5.        ]), array([-1.66666667,  5.        ]), array([0., 5.]), array([1.66666667, 5.        ]), array([3.33333333, 5.        ]), array([5., 5.]), array([6.66666667, 5.        ]), array([8.33333333, 5.        ]), array([10.,  5.]), array([11.66666667,  5.        ]), array([13.33333333,  5.        ]), array([15.,  5.]), array([16.66666667,  5.        ]), array([18.33333333,  5.        ]), array([20.,  5.]), array([-20.        ,   6.66666667]), array([-18.33333333,   6.66666667]), array([-16.66666667,   6.66666667]), array([-15.        ,   6.66666667]), array([-13.33333333,   6.66666667]), array([-11.66666667,   6.66666667]), array([-10.        ,   6.66666667]), array([-8.33333333,  6.66666667]), array([-6.66666667,  6.66666667]), array([-5.        ,  6.66666667]), array([-3.33333333,  6.66666667]), array([-1.66666667,  6.66666667]), array([0.        , 6.66666667]), array([1.66666667, 6.66666667]), array([3.33333333, 6.66666667]), array([5.        , 6.66666667]), array([6.66666667, 6.66666667]), array([8.33333333, 6.66666667]), array([10.        ,  6.66666667]), array([11.66666667,  6.66666667]), array([13.33333333,  6.66666667]), array([15.        ,  6.66666667]), array([16.66666667,  6.66666667]), array([18.33333333,  6.66666667]), array([20.        ,  6.66666667]), array([-20.        ,   8.33333333]), array([-18.33333333,   8.33333333]), array([-16.66666667,   8.33333333]), array([-15.        ,   8.33333333]), array([-13.33333333,   8.33333333]), array([-11.66666667,   8.33333333]), array([-10.        ,   8.33333333]), array([-8.33333333,  8.33333333]), array([-6.66666667,  8.33333333]), array([-5.        ,  8.33333333]), array([-3.33333333,  8.33333333]), array([-1.66666667,  8.33333333]), array([0.        , 8.33333333]), array([1.66666667, 8.33333333]), array([3.33333333, 8.33333333]), array([5.        , 8.33333333]), array([6.66666667, 8.33333333]), array([8.33333333, 8.33333333]), array([10.        ,  8.33333333]), array([11.66666667,  8.33333333]), array([13.33333333,  8.33333333]), array([15.        ,  8.33333333]), array([16.66666667,  8.33333333]), array([18.33333333,  8.33333333]), array([20.        ,  8.33333333]), array([-20.,  10.]), array([-18.33333333,  10.        ]), array([-16.66666667,  10.        ]), array([-15.,  10.]), array([-13.33333333,  10.        ]), array([-11.66666667,  10.        ]), array([-10.,  10.]), array([-8.33333333, 10.        ]), array([-6.66666667, 10.        ]), array([-5., 10.]), array([-3.33333333, 10.        ]), array([-1.66666667, 10.        ]), array([ 0., 10.]), array([ 1.66666667, 10.        ]), array([ 3.33333333, 10.        ]), array([ 5., 10.]), array([ 6.66666667, 10.        ]), array([ 8.33333333, 10.        ]), array([10., 10.]), array([11.66666667, 10.        ]), array([13.33333333, 10.        ]), array([15., 10.]), array([16.66666667, 10.        ]), array([18.33333333, 10.        ]), array([20., 10.]), array([-20.        ,  11.66666667]), array([-18.33333333,  11.66666667]), array([-16.66666667,  11.66666667]), array([-15.        ,  11.66666667]), array([-13.33333333,  11.66666667]), array([-11.66666667,  11.66666667]), array([-10.        ,  11.66666667]), array([-8.33333333, 11.66666667]), array([-6.66666667, 11.66666667]), array([-5.        , 11.66666667]), array([-3.33333333, 11.66666667]), array([-1.66666667, 11.66666667]), array([ 0.        , 11.66666667]), array([ 1.66666667, 11.66666667]), array([ 3.33333333, 11.66666667]), array([ 5.        , 11.66666667]), array([ 6.66666667, 11.66666667]), array([ 8.33333333, 11.66666667]), array([10.        , 11.66666667]), array([11.66666667, 11.66666667]), array([13.33333333, 11.66666667]), array([15.        , 11.66666667]), array([16.66666667, 11.66666667]), array([18.33333333, 11.66666667]), array([20.        , 11.66666667]), array([-20.        ,  13.33333333]), array([-18.33333333,  13.33333333]), array([-16.66666667,  13.33333333]), array([-15.        ,  13.33333333]), array([-13.33333333,  13.33333333]), array([-11.66666667,  13.33333333]), array([-10.        ,  13.33333333]), array([-8.33333333, 13.33333333]), array([-6.66666667, 13.33333333]), array([-5.        , 13.33333333]), array([-3.33333333, 13.33333333]), array([-1.66666667, 13.33333333]), array([ 0.        , 13.33333333]), array([ 1.66666667, 13.33333333]), array([ 3.33333333, 13.33333333]), array([ 5.        , 13.33333333]), array([ 6.66666667, 13.33333333]), array([ 8.33333333, 13.33333333]), array([10.        , 13.33333333]), array([11.66666667, 13.33333333]), array([13.33333333, 13.33333333]), array([15.        , 13.33333333]), array([16.66666667, 13.33333333]), array([18.33333333, 13.33333333]), array([20.        , 13.33333333]), array([-20.,  15.]), array([-18.33333333,  15.        ]), array([-16.66666667,  15.        ]), array([-15.,  15.]), array([-13.33333333,  15.        ]), array([-11.66666667,  15.        ]), array([-10.,  15.]), array([-8.33333333, 15.        ]), array([-6.66666667, 15.        ]), array([-5., 15.]), array([-3.33333333, 15.        ]), array([-1.66666667, 15.        ]), array([ 0., 15.]), array([ 1.66666667, 15.        ]), array([ 3.33333333, 15.        ]), array([ 5., 15.]), array([ 6.66666667, 15.        ]), array([ 8.33333333, 15.        ]), array([10., 15.]), array([11.66666667, 15.        ]), array([13.33333333, 15.        ]), array([15., 15.]), array([16.66666667, 15.        ]), array([18.33333333, 15.        ]), array([20., 15.]), array([-20.        ,  16.66666667]), array([-18.33333333,  16.66666667]), array([-16.66666667,  16.66666667]), array([-15.        ,  16.66666667]), array([-13.33333333,  16.66666667]), array([-11.66666667,  16.66666667]), array([-10.        ,  16.66666667]), array([-8.33333333, 16.66666667]), array([-6.66666667, 16.66666667]), array([-5.        , 16.66666667]), array([-3.33333333, 16.66666667]), array([-1.66666667, 16.66666667]), array([ 0.        , 16.66666667]), array([ 1.66666667, 16.66666667]), array([ 3.33333333, 16.66666667]), array([ 5.        , 16.66666667]), array([ 6.66666667, 16.66666667]), array([ 8.33333333, 16.66666667]), array([10.        , 16.66666667]), array([11.66666667, 16.66666667]), array([13.33333333, 16.66666667]), array([15.        , 16.66666667]), array([16.66666667, 16.66666667]), array([18.33333333, 16.66666667]), array([20.        , 16.66666667]), array([-20.        ,  18.33333333]), array([-18.33333333,  18.33333333]), array([-16.66666667,  18.33333333]), array([-15.        ,  18.33333333]), array([-13.33333333,  18.33333333]), array([-11.66666667,  18.33333333]), array([-10.        ,  18.33333333]), array([-8.33333333, 18.33333333]), array([-6.66666667, 18.33333333]), array([-5.        , 18.33333333]), array([-3.33333333, 18.33333333]), array([-1.66666667, 18.33333333]), array([ 0.        , 18.33333333]), array([ 1.66666667, 18.33333333]), array([ 3.33333333, 18.33333333]), array([ 5.        , 18.33333333]), array([ 6.66666667, 18.33333333]), array([ 8.33333333, 18.33333333]), array([10.        , 18.33333333]), array([11.66666667, 18.33333333]), array([13.33333333, 18.33333333]), array([15.        , 18.33333333]), array([16.66666667, 18.33333333]), array([18.33333333, 18.33333333]), array([20.        , 18.33333333]), array([-20.,  20.]), array([-18.33333333,  20.        ]), array([-16.66666667,  20.        ]), array([-15.,  20.]), array([-13.33333333,  20.        ]), array([-11.66666667,  20.        ]), array([-10.,  20.]), array([-8.33333333, 20.        ]), array([-6.66666667, 20.        ]), array([-5., 20.]), array([-3.33333333, 20.        ]), array([-1.66666667, 20.        ]), array([ 0., 20.]), array([ 1.66666667, 20.        ]), array([ 3.33333333, 20.        ]), array([ 5., 20.]), array([ 6.66666667, 20.        ]), array([ 8.33333333, 20.        ]), array([10., 20.]), array([11.66666667, 20.        ]), array([13.33333333, 20.        ]), array([15., 20.]), array([16.66666667, 20.        ]), array([18.33333333, 20.        ]), array([20., 20.])])\n"
     ]
    },
    {
     "name": "stderr",
     "output_type": "stream",
     "text": [
      "13:47 madminer.sampling    INFO    Starting sampling serially\n",
      "13:47 madminer.sampling    INFO    Sampling from parameter point 31 / 625\n",
      "13:47 madminer.sampling    INFO    Sampling from parameter point 62 / 625\n",
      "13:47 madminer.sampling    INFO    Sampling from parameter point 93 / 625\n",
      "13:47 madminer.sampling    INFO    Sampling from parameter point 124 / 625\n",
      "13:47 madminer.sampling    INFO    Sampling from parameter point 155 / 625\n",
      "13:47 madminer.sampling    INFO    Sampling from parameter point 186 / 625\n",
      "13:47 madminer.sampling    WARNING Large statistical uncertainty on the total cross section when sampling from theta = [-1.66666667 -8.33333333]: (0.006053 +/- 0.000622) pb (10.280421996462405 %). Skipping these warnings in the future...\n",
      "13:47 madminer.sampling    INFO    Sampling from parameter point 217 / 625\n",
      "13:47 madminer.sampling    INFO    Sampling from parameter point 248 / 625\n",
      "13:47 madminer.sampling    WARNING For this value of theta, 1 / 11871 events have negative weight and will be ignored\n",
      "13:47 madminer.sampling    INFO    Sampling from parameter point 279 / 625\n",
      "13:47 madminer.sampling    INFO    Sampling from parameter point 310 / 625\n",
      "13:47 madminer.sampling    INFO    Sampling from parameter point 341 / 625\n",
      "13:47 madminer.sampling    INFO    Sampling from parameter point 372 / 625\n",
      "13:47 madminer.sampling    INFO    Sampling from parameter point 403 / 625\n",
      "13:47 madminer.sampling    INFO    Sampling from parameter point 434 / 625\n",
      "13:47 madminer.sampling    INFO    Sampling from parameter point 465 / 625\n",
      "13:47 madminer.sampling    INFO    Sampling from parameter point 496 / 625\n",
      "13:47 madminer.sampling    INFO    Sampling from parameter point 527 / 625\n",
      "13:47 madminer.sampling    INFO    Sampling from parameter point 558 / 625\n",
      "13:47 madminer.sampling    INFO    Sampling from parameter point 589 / 625\n",
      "13:47 madminer.sampling    WARNING For this value of theta, 1 / 11871 events have negative weight and will be ignored\n",
      "13:47 madminer.sampling    INFO    Sampling from parameter point 620 / 625\n",
      "13:47 madminer.sampling    INFO    Effective number of samples: mean 23.736644584531476, with individual thetas ranging from 10.972346216524036 to 90.02596673284461\n"
     ]
    },
    {
     "ename": "TypeError",
     "evalue": "can only concatenate tuple (not \"list\") to tuple",
     "output_type": "error",
     "traceback": [
      "\u001b[0;31m---------------------------------------------------------------------------\u001b[0m",
      "\u001b[0;31mTypeError\u001b[0m                                 Traceback (most recent call last)",
      "\u001b[0;32m<ipython-input-15-aa95c114ba9b>\u001b[0m in \u001b[0;36m<module>\u001b[0;34m\u001b[0m\n\u001b[1;32m      6\u001b[0m     \u001b[0mtheta_ranges\u001b[0m\u001b[0;34m=\u001b[0m\u001b[0mtheta_ranges\u001b[0m\u001b[0;34m,\u001b[0m\u001b[0;34m\u001b[0m\u001b[0;34m\u001b[0m\u001b[0m\n\u001b[1;32m      7\u001b[0m     \u001b[0mresolutions\u001b[0m\u001b[0;34m=\u001b[0m\u001b[0mresolutions\u001b[0m\u001b[0;34m,\u001b[0m\u001b[0;34m\u001b[0m\u001b[0;34m\u001b[0m\u001b[0m\n\u001b[0;32m----> 8\u001b[0;31m     \u001b[0mluminosity\u001b[0m\u001b[0;34m=\u001b[0m\u001b[0;36m300000.0\u001b[0m\u001b[0;34m\u001b[0m\u001b[0;34m\u001b[0m\u001b[0m\n\u001b[0m\u001b[1;32m      9\u001b[0m )\n",
      "\u001b[0;32m~/work/projects/madminer/madminer/madminer/limits.py\u001b[0m in \u001b[0;36mexpected_limits\u001b[0;34m(self, theta_true, theta_ranges, mode, model_file, hist_vars, hist_bins, include_xsec, resolutions, luminosity, n_toys_per_theta)\u001b[0m\n\u001b[1;32m     90\u001b[0m             \u001b[0mx_weights\u001b[0m\u001b[0;34m,\u001b[0m\u001b[0;34m\u001b[0m\u001b[0;34m\u001b[0m\u001b[0m\n\u001b[1;32m     91\u001b[0m             \u001b[0mluminosity\u001b[0m\u001b[0;34m,\u001b[0m\u001b[0;34m\u001b[0m\u001b[0;34m\u001b[0m\u001b[0m\n\u001b[0;32m---> 92\u001b[0;31m             \u001b[0mn_toys_per_theta\u001b[0m\u001b[0;34m,\u001b[0m\u001b[0;34m\u001b[0m\u001b[0;34m\u001b[0m\u001b[0m\n\u001b[0m\u001b[1;32m     93\u001b[0m         )\n\u001b[1;32m     94\u001b[0m         \u001b[0;32mreturn\u001b[0m \u001b[0mtheta_grid\u001b[0m\u001b[0;34m,\u001b[0m \u001b[0mp_values\u001b[0m\u001b[0;34m,\u001b[0m \u001b[0mi_ml\u001b[0m\u001b[0;34m\u001b[0m\u001b[0;34m\u001b[0m\u001b[0m\n",
      "\u001b[0;32m~/work/projects/madminer/madminer/madminer/limits.py\u001b[0m in \u001b[0;36m_analyse\u001b[0;34m(self, n_events, x, theta_ranges, theta_resolutions, mode, model_file, hist_vars, hist_bins, include_xsec, obs_weights, luminosity, n_toys_per_theta)\u001b[0m\n\u001b[1;32m    154\u001b[0m \u001b[0;34m\u001b[0m\u001b[0m\n\u001b[1;32m    155\u001b[0m             \u001b[0mlogger\u001b[0m\u001b[0;34m.\u001b[0m\u001b[0minfo\u001b[0m\u001b[0;34m(\u001b[0m\u001b[0;34m\"Creating histogram with %s bins for the summary statistics\"\u001b[0m\u001b[0;34m,\u001b[0m \u001b[0mhist_bins\u001b[0m\u001b[0;34m)\u001b[0m\u001b[0;34m\u001b[0m\u001b[0;34m\u001b[0m\u001b[0m\n\u001b[0;32m--> 156\u001b[0;31m             \u001b[0mhisto\u001b[0m \u001b[0;34m=\u001b[0m \u001b[0mself\u001b[0m\u001b[0;34m.\u001b[0m\u001b[0m_make_histo\u001b[0m\u001b[0;34m(\u001b[0m\u001b[0msummary_function\u001b[0m\u001b[0;34m,\u001b[0m \u001b[0mhist_bins\u001b[0m\u001b[0;34m,\u001b[0m \u001b[0mtheta_grid\u001b[0m\u001b[0;34m,\u001b[0m \u001b[0mtheta_resolutions\u001b[0m\u001b[0;34m,\u001b[0m \u001b[0mn_toys_per_theta\u001b[0m\u001b[0;34m)\u001b[0m\u001b[0;34m\u001b[0m\u001b[0;34m\u001b[0m\u001b[0m\n\u001b[0m\u001b[1;32m    157\u001b[0m \u001b[0;34m\u001b[0m\u001b[0m\n\u001b[1;32m    158\u001b[0m             \u001b[0mlogger\u001b[0m\u001b[0;34m.\u001b[0m\u001b[0minfo\u001b[0m\u001b[0;34m(\u001b[0m\u001b[0;34m\"Calculating kinematic log likelihood with histograms\"\u001b[0m\u001b[0;34m)\u001b[0m\u001b[0;34m\u001b[0m\u001b[0;34m\u001b[0m\u001b[0m\n",
      "\u001b[0;32m~/work/projects/madminer/madminer/madminer/limits.py\u001b[0m in \u001b[0;36m_make_histo\u001b[0;34m(self, summary_function, x_bins, theta_grid, theta_bins, n_toys_per_theta)\u001b[0m\n\u001b[1;32m    266\u001b[0m         \u001b[0mtheta\u001b[0m\u001b[0;34m,\u001b[0m \u001b[0mx\u001b[0m \u001b[0;34m=\u001b[0m \u001b[0mself\u001b[0m\u001b[0;34m.\u001b[0m\u001b[0m_make_histo_data\u001b[0m\u001b[0;34m(\u001b[0m\u001b[0mtheta_grid\u001b[0m\u001b[0;34m,\u001b[0m \u001b[0mn_toys_per_theta\u001b[0m \u001b[0;34m*\u001b[0m \u001b[0mlen\u001b[0m\u001b[0;34m(\u001b[0m\u001b[0mtheta_grid\u001b[0m\u001b[0;34m)\u001b[0m\u001b[0;34m)\u001b[0m\u001b[0;34m\u001b[0m\u001b[0;34m\u001b[0m\u001b[0m\n\u001b[1;32m    267\u001b[0m         \u001b[0msummary_stats\u001b[0m \u001b[0;34m=\u001b[0m \u001b[0msummary_function\u001b[0m\u001b[0;34m(\u001b[0m\u001b[0mx\u001b[0m\u001b[0;34m)\u001b[0m\u001b[0;34m\u001b[0m\u001b[0;34m\u001b[0m\u001b[0m\n\u001b[0;32m--> 268\u001b[0;31m         \u001b[0mhisto\u001b[0m\u001b[0;34m.\u001b[0m\u001b[0mfit\u001b[0m\u001b[0;34m(\u001b[0m\u001b[0mtheta\u001b[0m\u001b[0;34m,\u001b[0m \u001b[0msummary_stats\u001b[0m\u001b[0;34m,\u001b[0m \u001b[0mfill_empty_bins\u001b[0m\u001b[0;34m=\u001b[0m\u001b[0;32mTrue\u001b[0m\u001b[0;34m)\u001b[0m\u001b[0;34m\u001b[0m\u001b[0;34m\u001b[0m\u001b[0m\n\u001b[0m\u001b[1;32m    269\u001b[0m         \u001b[0;32mreturn\u001b[0m \u001b[0mhisto\u001b[0m\u001b[0;34m\u001b[0m\u001b[0;34m\u001b[0m\u001b[0m\n\u001b[1;32m    270\u001b[0m \u001b[0;34m\u001b[0m\u001b[0m\n",
      "\u001b[0;32m~/work/projects/madminer/madminer/madminer/utils/histo.py\u001b[0m in \u001b[0;36mfit\u001b[0;34m(self, theta, x, fill_empty_bins)\u001b[0m\n\u001b[1;32m    102\u001b[0m \u001b[0;34m\u001b[0m\u001b[0m\n\u001b[1;32m    103\u001b[0m         \u001b[0;32melse\u001b[0m\u001b[0;34m:\u001b[0m\u001b[0;34m\u001b[0m\u001b[0;34m\u001b[0m\u001b[0m\n\u001b[0;32m--> 104\u001b[0;31m             \u001b[0mhisto_n_bins\u001b[0m\u001b[0;34m,\u001b[0m \u001b[0mhisto_edges\u001b[0m\u001b[0;34m,\u001b[0m \u001b[0mhisto_ranges\u001b[0m \u001b[0;34m=\u001b[0m \u001b[0mself\u001b[0m\u001b[0;34m.\u001b[0m\u001b[0m_calculate_binning\u001b[0m\u001b[0;34m(\u001b[0m\u001b[0mtheta\u001b[0m\u001b[0;34m,\u001b[0m \u001b[0mx\u001b[0m\u001b[0;34m)\u001b[0m\u001b[0;34m\u001b[0m\u001b[0;34m\u001b[0m\u001b[0m\n\u001b[0m\u001b[1;32m    105\u001b[0m \u001b[0;34m\u001b[0m\u001b[0m\n\u001b[1;32m    106\u001b[0m             \u001b[0mself\u001b[0m\u001b[0;34m.\u001b[0m\u001b[0mn_bins\u001b[0m\u001b[0;34m.\u001b[0m\u001b[0mappend\u001b[0m\u001b[0;34m(\u001b[0m\u001b[0mhisto_n_bins\u001b[0m\u001b[0;34m)\u001b[0m\u001b[0;34m\u001b[0m\u001b[0;34m\u001b[0m\u001b[0m\n",
      "\u001b[0;32m~/work/projects/madminer/madminer/madminer/utils/histo.py\u001b[0m in \u001b[0;36m_calculate_binning\u001b[0;34m(self, theta, x, observables, lower_cutoff_percentile, upper_cutoff_percentile)\u001b[0m\n\u001b[1;32m     52\u001b[0m             )\n\u001b[1;32m     53\u001b[0m \u001b[0;34m\u001b[0m\u001b[0m\n\u001b[0;32m---> 54\u001b[0;31m         \u001b[0mall_n_bins\u001b[0m \u001b[0;34m=\u001b[0m \u001b[0mall_n_bins_theta\u001b[0m \u001b[0;34m+\u001b[0m \u001b[0mall_n_bins_x\u001b[0m\u001b[0;34m\u001b[0m\u001b[0;34m\u001b[0m\u001b[0m\n\u001b[0m\u001b[1;32m     55\u001b[0m \u001b[0;34m\u001b[0m\u001b[0m\n\u001b[1;32m     56\u001b[0m         \u001b[0;31m# Find edges based on percentiles\u001b[0m\u001b[0;34m\u001b[0m\u001b[0;34m\u001b[0m\u001b[0;34m\u001b[0m\u001b[0m\n",
      "\u001b[0;31mTypeError\u001b[0m: can only concatenate tuple (not \"list\") to tuple"
     ]
    }
   ],
   "source": [
    "_, p_values_expected_histo, best_fit_expected_histo = limits.expected_limits(\n",
    "    mode=\"histo\",\n",
    "    hist_vars=[\"pt_j1\"],\n",
    "    include_xsec=False,\n",
    "    theta_true=[0.,0.],\n",
    "    theta_ranges=theta_ranges,\n",
    "    resolutions=resolutions,\n",
    "    luminosity=300000.0\n",
    ")"
   ]
  },
  {
   "cell_type": "markdown",
   "metadata": {},
   "source": [
    "## 3. Expected limits based on ratio estimators"
   ]
  },
  {
   "cell_type": "markdown",
   "metadata": {},
   "source": [
    "Finally and perhaps most importantly, `mode=\"ml\"` allows us to calculate limits based on any `ParamterizedRatioEstimator` instance like the ALICES estimator trained above:"
   ]
  },
  {
   "cell_type": "code",
   "execution_count": null,
   "metadata": {},
   "outputs": [],
   "source": [
    "theta_grid, p_values_expected_ml, best_fit_expected_ml = limits.expected_limits(\n",
    "    theta_true=[0.,0.],\n",
    "    theta_ranges=[(theta_min, theta_max), (theta_min, theta_max)],\n",
    "    mode=\"ml\",\n",
    "    model_file='models/alices',\n",
    "    include_xsec=False,\n",
    "    resolution=resolution,\n",
    "    luminosity=300000.0\n",
    ")"
   ]
  },
  {
   "cell_type": "markdown",
   "metadata": {},
   "source": [
    "## 4. Expected limits based on score estimators"
   ]
  },
  {
   "cell_type": "markdown",
   "metadata": {},
   "source": [
    "## 5. Toy signal"
   ]
  },
  {
   "cell_type": "markdown",
   "metadata": {},
   "source": [
    "Observed limits take as input actual data, which we here generate on the fly:"
   ]
  },
  {
   "cell_type": "code",
   "execution_count": null,
   "metadata": {},
   "outputs": [],
   "source": [
    "sampler = SampleAugmenter('data/madminer_example_shuffled.h5')\n",
    "x_observed, _ = sampler.extract_samples_test(\n",
    "    theta=sampling.morphing_point([0.,0.]),\n",
    "    n_samples=5,\n",
    "    folder=None,\n",
    "    filename=None\n",
    ")"
   ]
  },
  {
   "cell_type": "code",
   "execution_count": null,
   "metadata": {},
   "outputs": [],
   "source": [
    "_, p_values_observed, best_fit_observed = limits.observed_limits(\n",
    "    x_observed=x_observed,\n",
    "    theta_ranges=[(theta_min, theta_max), (theta_min, theta_max)],\n",
    "    mode=\"ml\",\n",
    "    model_file='models/alices',\n",
    "    include_xsec=True,\n",
    "    resolution=resolution,\n",
    "    luminosity=300000.0,\n",
    ")"
   ]
  },
  {
   "cell_type": "markdown",
   "metadata": {},
   "source": [
    "## 6. Plot"
   ]
  },
  {
   "cell_type": "markdown",
   "metadata": {},
   "source": [
    "Let's plot the results:"
   ]
  },
  {
   "cell_type": "code",
   "execution_count": null,
   "metadata": {},
   "outputs": [],
   "source": [
    "bin_size = (theta_max - theta_min)/(resolution - 1)\n",
    "edges = np.linspace(theta_min - bin_size/2, theta_max + bin_size/2, resolution + 1)\n",
    "centers = np.linspace(theta_min, theta_max, resolution)\n",
    "\n",
    "fig = plt.figure(figsize=(6,5))\n",
    "ax = plt.gca()\n",
    "\n",
    "cmin, cmax = 1.e-3, 1.\n",
    "    \n",
    "pcm = ax.pcolormesh(\n",
    "    edges, edges, p_values_expected_ml.reshape((resolution, resolution)),\n",
    "    norm=matplotlib.colors.LogNorm(vmin=cmin, vmax=cmax),\n",
    "    cmap='Greys_r'\n",
    ")\n",
    "cbar = fig.colorbar(pcm, ax=ax, extend='both')\n",
    "\n",
    "plt.contour(\n",
    "    centers, centers, p_values_expected_xsec.reshape((resolution, resolution)),\n",
    "    levels=[0.05],\n",
    "    linestyles='-', colors='darkgreen'\n",
    ")\n",
    "plt.contour(\n",
    "    centers, centers, p_values_expected_ml.reshape((resolution, resolution)),\n",
    "    levels=[0.05],\n",
    "    linestyles='-', colors='#CC002E'\n",
    ")\n",
    "plt.contour(\n",
    "    centers, centers, p_values_expected_histo.reshape((resolution, resolution)),\n",
    "    levels=[0.05],\n",
    "    linestyles='-', colors='C1'\n",
    ")\n",
    "plt.contour(\n",
    "    centers, centers, p_values_observed.reshape((resolution, resolution)),\n",
    "    levels=[0.05],\n",
    "    linestyles='--', colors='black'\n",
    ")\n",
    "\n",
    "plt.scatter(\n",
    "    theta_grid[best_fit_expected_xsec][0], theta_grid[best_fit_expected_xsec][1],\n",
    "    s=80., color='darkgreen', marker='*',\n",
    "    label=\"xsec\"\n",
    ")\n",
    "plt.scatter(\n",
    "    theta_grid[best_fit_expected_ml][0], theta_grid[best_fit_expected_ml][1],\n",
    "    s=80., color='#CC002E', marker='*',\n",
    "    label=\"ALICES\"\n",
    ")\n",
    "plt.scatter(\n",
    "    theta_grid[best_fit_expected_histo][0], theta_grid[best_fit_expected_histo][1],\n",
    "    s=80., color='C1', marker='*',\n",
    "    label=\"Histo\"\n",
    ")\n",
    "plt.scatter(\n",
    "    theta_grid[best_fit_observed][0], theta_grid[best_fit_observed][1],\n",
    "    s=80., color='black', marker='*',\n",
    "    label=\"Observed\"\n",
    ")\n",
    "\n",
    "plt.legend()\n",
    "\n",
    "plt.xlabel(r'$\\theta_0$')\n",
    "plt.ylabel(r'$\\theta_1$')\n",
    "cbar.set_label('Expected p-value (ALICES)')\n",
    "\n",
    "plt.tight_layout()\n",
    "plt.show()\n"
   ]
  },
  {
   "cell_type": "code",
   "execution_count": null,
   "metadata": {},
   "outputs": [],
   "source": []
  }
 ],
 "metadata": {
  "kernelspec": {
   "display_name": "Python (higgs_inference)",
   "language": "python",
   "name": "higgs_inference"
  },
  "language_info": {
   "codemirror_mode": {
    "name": "ipython",
    "version": 3
   },
   "file_extension": ".py",
   "mimetype": "text/x-python",
   "name": "python",
   "nbconvert_exporter": "python",
   "pygments_lexer": "ipython3",
   "version": "3.6.7"
  }
 },
 "nbformat": 4,
 "nbformat_minor": 2
}
