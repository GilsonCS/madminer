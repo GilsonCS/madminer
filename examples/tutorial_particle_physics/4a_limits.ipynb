{
 "cells": [
  {
   "cell_type": "markdown",
   "metadata": {},
   "source": [
    "# MadMiner particle physics tutorial\n",
    "\n",
    "# Part 3: Training a likelihood ratio estimator\n",
    "\n",
    "Johann Brehmer, Felix Kling, Irina Espejo, and Kyle Cranmer 2018-2019"
   ]
  },
  {
   "cell_type": "markdown",
   "metadata": {},
   "source": [
    "In part 3 of this tutorial we will finally train a neural network to estimate likelihood ratios. We assume that you have run part 1 and 2a of this tutorial. If, instead of 2a, you have run part 2b, you just have to load a different filename later."
   ]
  },
  {
   "cell_type": "markdown",
   "metadata": {},
   "source": [
    "## Preparations"
   ]
  },
  {
   "cell_type": "code",
   "execution_count": 1,
   "metadata": {},
   "outputs": [],
   "source": [
    "from __future__ import absolute_import, division, print_function, unicode_literals\n",
    "\n",
    "import logging\n",
    "import numpy as np\n",
    "import matplotlib\n",
    "from matplotlib import pyplot as plt\n",
    "%matplotlib inline\n",
    "\n",
    "from madminer.sampling import SampleAugmenter\n",
    "from madminer import sampling\n",
    "from madminer.ml import ParameterizedRatioEstimator\n",
    "from madminer.plotting import plot_2d_morphing_basis, plot_distributions\n",
    "from madminer.limits import AsymptoticLimits\n"
   ]
  },
  {
   "cell_type": "code",
   "execution_count": 2,
   "metadata": {},
   "outputs": [],
   "source": [
    "# MadMiner output\n",
    "logging.basicConfig(\n",
    "    format='%(asctime)-5.5s %(name)-20.20s %(levelname)-7.7s %(message)s',\n",
    "    datefmt='%H:%M',\n",
    "    level=logging.INFO\n",
    ")\n",
    "\n",
    "# Output of all other modules (e.g. matplotlib)\n",
    "for key in logging.Logger.manager.loggerDict:\n",
    "    if \"madminer\" not in key:\n",
    "        logging.getLogger(key).setLevel(logging.WARNING)"
   ]
  },
  {
   "cell_type": "markdown",
   "metadata": {},
   "source": [
    "## 1. Make (unweighted) training and test samples with augmented data"
   ]
  },
  {
   "cell_type": "markdown",
   "metadata": {},
   "source": [
    "At this point, we have all the information we need from the simulations. But the data is not quite ready to be used for machine learning. The `madminer.sampling` class `SampleAugmenter` will take care of the remaining book-keeping steps before we can train our estimators:\n",
    "\n",
    "First, it unweights the samples, i.e. for a given parameter vector `theta` (or a distribution `p(theta)`) it picks events `x` such that their distribution follows `p(x|theta)`. The selected samples will all come from the event file we have so far, but their frequency is changed -- some events will appear multiple times, some will disappear.\n",
    "\n",
    "Second, `SampleAugmenter` calculates all the augmented data (\"gold\") that is the key to our new inference methods. Depending on the specific technique, these are the joint likelihood ratio and / or the joint score. It saves all these pieces of information for the selected events in a set of numpy files that can easily be used in any machine learning framework."
   ]
  },
  {
   "cell_type": "code",
   "execution_count": 4,
   "metadata": {},
   "outputs": [
    {
     "name": "stderr",
     "output_type": "stream",
     "text": [
      "15:32 madminer.analysis    INFO    Loading data from data/madminer_example_shuffled.h5\n",
      "15:32 madminer.analysis    INFO    Found 2 parameters\n",
      "15:32 madminer.analysis    INFO    Did not find nuisance parameters\n",
      "15:32 madminer.analysis    INFO    Found 6 benchmarks, of which 6 physical\n",
      "15:32 madminer.analysis    INFO    Found 2 observables\n",
      "15:32 madminer.analysis    INFO    Found 6537 events\n",
      "15:32 madminer.analysis    INFO    Found morphing setup with 6 components\n"
     ]
    }
   ],
   "source": [
    "sampler = SampleAugmenter('data/lhe_data_shuffled.h5')\n",
    "# sampler = SampleAugmenter('data/delphes_data_shuffled.h5')"
   ]
  },
  {
   "cell_type": "markdown",
   "metadata": {},
   "source": [
    "The `SampleAugmenter` class defines five different high-level functions to generate train or test samples:\n",
    "- `sample_train_plain()`, which only saves observations x, for instance for histograms or ABC;\n",
    "- `sample_train_local()` for methods like SALLY and SALLINO, which will be demonstrated in the second part of the tutorial;\n",
    "- `sample_train_density()` for neural density estimation techniques like MAF or SCANDAL;\n",
    "- `sample_train_ratio()` for techniques like CARL, ROLR, CASCAL, and RASCAL, when only theta0 is parameterized;\n",
    "- `sample_train_more_ratios()` for the same techniques, but with both theta0 and theta1 parameterized;\n",
    "- `sample_test()` for the evaluation of any method.\n",
    "\n",
    "For the arguments `theta`, `theta0`, or `theta1`, you can (and should!) use the helper functions `benchmark()`, `benchmarks()`, `morphing_point()`, `morphing_points()`, and `random_morphing_points()`, all defined in the `madminer.sampling` module.\n",
    "\n",
    "Here we'll train a likelihood ratio estimator with the ALICES method, so we focus on the `extract_samples_train_ratio()` function."
   ]
  },
  {
   "cell_type": "code",
   "execution_count": 5,
   "metadata": {},
   "outputs": [
    {
     "name": "stderr",
     "output_type": "stream",
     "text": [
      "15:32 madminer.sampling    INFO    Extracting training sample for ratio-based methods. Numerator hypothesis: ('random_morphing_points', (100, [('gaussian', 0.0, 15.0), ('gaussian', 0.0, 15.0)])), denominator hypothesis: ('benchmark', 'sm')\n",
      "/Users/johannbrehmer/work/projects/madminer/madminer/madminer/analysis.py:284: RuntimeWarning: invalid value encountered in sqrt\n",
      "  xsec_uncertainties = xsec_uncertainties ** 0.5\n",
      "15:32 madminer.sampling    WARNING Large statistical uncertainty on the total cross section when sampling from theta = [4.59589697 7.76994673]: (0.000720 +/- 0.000073) pb (10.124460729467307 %). Skipping these warnings in the future...\n",
      "15:32 madminer.sampling    INFO    Effective number of samples: mean 16.457179431399243, with individual thetas ranging from 7.197251196742754 to 68.10093524160831\n",
      "15:32 madminer.sampling    INFO    Effective number of samples: mean 5230.0, with individual thetas ranging from 5230.0 to 5230.0\n"
     ]
    }
   ],
   "source": [
    "x, theta0, theta1, y, r_xz, t_xz, _ = sampler.sample_train_ratio(\n",
    "    theta0=sampling.random_morphing_points(100, [('gaussian', 0., 15.), ('gaussian', 0., 15.)]),\n",
    "    theta1=sampling.benchmark('sm'),\n",
    "    n_samples=100000,\n",
    "    folder='./data/samples',\n",
    "    filename='train'\n",
    ")"
   ]
  },
  {
   "cell_type": "markdown",
   "metadata": {},
   "source": [
    "For the evaluation we'll need a test sample:"
   ]
  },
  {
   "cell_type": "code",
   "execution_count": 6,
   "metadata": {
    "scrolled": true
   },
   "outputs": [
    {
     "name": "stderr",
     "output_type": "stream",
     "text": [
      "15:32 madminer.sampling    INFO    Extracting evaluation sample. Sampling according to ('benchmark', 'sm')\n",
      "15:32 madminer.sampling    INFO    Effective number of samples: 1306.0000000000002\n"
     ]
    }
   ],
   "source": [
    "_ = sampler.sample_test(\n",
    "    theta=sampling.benchmark('sm'),\n",
    "    n_samples=1000,\n",
    "    folder='./data/samples',\n",
    "    filename='test'\n",
    ")"
   ]
  },
  {
   "cell_type": "markdown",
   "metadata": {},
   "source": [
    "## 2. Plot cross section over parameter space"
   ]
  },
  {
   "cell_type": "markdown",
   "metadata": {},
   "source": [
    "This is not strictly necessary, but we can also plot the cross section as a function of parameter space:"
   ]
  },
  {
   "cell_type": "code",
   "execution_count": 8,
   "metadata": {},
   "outputs": [
    {
     "name": "stderr",
     "output_type": "stream",
     "text": [
      "15:32 madminer.sampling    INFO    Starting cross-section calculation\n",
      "15:32 madminer.sampling    INFO    Starting cross-section calculation\n"
     ]
    }
   ],
   "source": [
    "thetas_benchmarks, xsecs_benchmarks, xsec_errors_benchmarks = sampler.cross_sections(\n",
    "    theta=sampling.benchmarks(['sm', 'w', 'morphing_basis_vector_2', 'morphing_basis_vector_3', 'morphing_basis_vector_4', 'morphing_basis_vector_5'])\n",
    ")\n",
    "\n",
    "thetas_morphing, xsecs_morphing, xsec_errors_morphing = sampler.cross_sections(\n",
    "    theta=sampling.random_morphing_points(1000, [('gaussian', 0., 4.), ('gaussian', 0., 4.)])\n",
    ")"
   ]
  },
  {
   "cell_type": "code",
   "execution_count": 9,
   "metadata": {},
   "outputs": [
    {
     "data": {
      "image/png": "[encoded data removed]",
      "text/plain": [
       "<Figure size 360x288 with 2 Axes>"
      ]
     },
     "metadata": {
      "needs_background": "light"
     },
     "output_type": "display_data"
    }
   ],
   "source": [
    "cmin, cmax = 0., 2.5 * np.mean(xsecs_morphing)\n",
    "\n",
    "fig = plt.figure(figsize=(5,4))\n",
    "\n",
    "sc = plt.scatter(thetas_morphing[:,0], thetas_morphing[:,1], c=xsecs_morphing,\n",
    "            s=40., cmap='viridis', vmin=cmin, vmax=cmax,\n",
    "            marker='o')\n",
    "\n",
    "plt.scatter(thetas_benchmarks[:,0], thetas_benchmarks[:,1], c=xsecs_benchmarks,\n",
    "            s=200., cmap='viridis', vmin=cmin, vmax=cmax, lw=2., edgecolor='black',\n",
    "            marker='s')\n",
    "\n",
    "cb = plt.colorbar(sc)\n",
    "cb.set_label('xsec [pb]')\n",
    "\n",
    "plt.xlim(-10.,10.)\n",
    "plt.ylim(-10.,10.)\n",
    "plt.tight_layout()\n",
    "plt.show()"
   ]
  },
  {
   "cell_type": "markdown",
   "metadata": {},
   "source": [
    "What  you see here is a morphing algorithm in action. We only asked MadGraph to calculate event weights (differential cross sections, or basically squared matrix elements) at six fixed parameter points (shown here as squares with black edges). But with our knowledge about the structure of the process we can interpolate any observable to any parameter point without loss (except that statistical uncertainties might increase)!"
   ]
  },
  {
   "cell_type": "markdown",
   "metadata": {},
   "source": [
    "## 3. Train likelihood ratio estimator"
   ]
  },
  {
   "cell_type": "markdown",
   "metadata": {},
   "source": [
    "It's now time to build the neural network that estimates the likelihood ratio. The central object for this is the `madminer.ml.ParameterizedRatioEstimator` class. It defines functions that train, save, load, and evaluate the estimators.\n",
    "\n",
    "In the initialization, the keywords `n_hidden` and `activation` define the architecture of the (fully connected) neural network:"
   ]
  },
  {
   "cell_type": "code",
   "execution_count": 10,
   "metadata": {},
   "outputs": [],
   "source": [
    "estimator = ParameterizedRatioEstimator(\n",
    "    n_hidden=(100,),\n",
    "    activation=\"tanh\"\n",
    ")"
   ]
  },
  {
   "cell_type": "markdown",
   "metadata": {},
   "source": [
    "To train this model we will minimize the ALICES loss function described in [\"Likelihood-free inference with an improved cross-entropy estimator\"](https://arxiv.org/abs/1808.00973). Many alternatives, including RASCAL, are described in [\"Constraining Effective Field Theories With Machine Learning\"](https://arxiv.org/abs/1805.00013) and [\"A Guide to Constraining Effective Field Theories With Machine Learning\"](https://arxiv.org/abs/1805.00020). There is also SCANDAL introduced in [\"Mining gold from implicit models to improve likelihood-free inference\"](https://arxiv.org/abs/1805.12244)."
   ]
  },
  {
   "cell_type": "code",
   "execution_count": 11,
   "metadata": {},
   "outputs": [
    {
     "name": "stderr",
     "output_type": "stream",
     "text": [
      "15:32 madminer.ml          INFO    Starting training\n",
      "15:32 madminer.ml          INFO      Method:                 alices\n",
      "15:32 madminer.ml          INFO      alpha:                  1.0\n",
      "15:32 madminer.ml          INFO      Batch size:             200\n",
      "15:32 madminer.ml          INFO      Optimizer:              amsgrad\n",
      "15:32 madminer.ml          INFO      Epochs:                 20\n",
      "15:32 madminer.ml          INFO      Learning rate:          0.001 initially, decaying to 0.0001\n",
      "15:32 madminer.ml          INFO      Validation split:       0.25\n",
      "15:32 madminer.ml          INFO      Early stopping:         True\n",
      "15:32 madminer.ml          INFO      Scale inputs:           True\n",
      "15:32 madminer.ml          INFO      Shuffle labels          False\n",
      "15:32 madminer.ml          INFO      Samples:                all\n",
      "15:32 madminer.ml          INFO    Loading training data\n",
      "15:32 madminer.ml          INFO    Found 100000 samples with 2 parameters and 2 observables\n",
      "15:32 madminer.ml          INFO    Rescaling inputs\n",
      "15:32 madminer.ml          INFO    Creating model\n",
      "15:32 madminer.ml          INFO    Training model\n",
      "15:32 madminer.utils.ml.tr INFO    Epoch   1: train loss  0.54737 (improved_xe:  0.541, mse_score:  0.007)\n",
      "15:32 madminer.utils.ml.tr INFO               val. loss   0.47317 (improved_xe:  0.466, mse_score:  0.007)\n",
      "15:33 madminer.utils.ml.tr INFO    Epoch   2: train loss  0.46643 (improved_xe:  0.460, mse_score:  0.006)\n",
      "15:33 madminer.utils.ml.tr INFO               val. loss   0.46405 (improved_xe:  0.458, mse_score:  0.006)\n",
      "15:33 madminer.utils.ml.tr INFO    Epoch   3: train loss  0.45810 (improved_xe:  0.452, mse_score:  0.006)\n",
      "15:33 madminer.utils.ml.tr INFO               val. loss   0.45854 (improved_xe:  0.453, mse_score:  0.006)\n",
      "15:33 madminer.utils.ml.tr INFO    Epoch   4: train loss  0.45234 (improved_xe:  0.447, mse_score:  0.005)\n",
      "15:33 madminer.utils.ml.tr INFO               val. loss   0.45217 (improved_xe:  0.447, mse_score:  0.005)\n",
      "15:34 madminer.utils.ml.tr INFO    Epoch   5: train loss  0.44889 (improved_xe:  0.444, mse_score:  0.005)\n",
      "15:34 madminer.utils.ml.tr INFO               val. loss   0.44919 (improved_xe:  0.444, mse_score:  0.005)\n",
      "15:34 madminer.utils.ml.tr INFO    Epoch   6: train loss  0.44669 (improved_xe:  0.442, mse_score:  0.005)\n",
      "15:34 madminer.utils.ml.tr INFO               val. loss   0.44713 (improved_xe:  0.442, mse_score:  0.005)\n",
      "15:34 madminer.utils.ml.tr INFO    Epoch   7: train loss  0.44523 (improved_xe:  0.440, mse_score:  0.005)\n",
      "15:34 madminer.utils.ml.tr INFO               val. loss   0.44619 (improved_xe:  0.441, mse_score:  0.005)\n",
      "15:35 madminer.utils.ml.tr INFO    Epoch   8: train loss  0.44404 (improved_xe:  0.439, mse_score:  0.005)\n",
      "15:35 madminer.utils.ml.tr INFO               val. loss   0.44569 (improved_xe:  0.440, mse_score:  0.005)\n",
      "15:35 madminer.utils.ml.tr INFO    Epoch   9: train loss  0.44324 (improved_xe:  0.438, mse_score:  0.005)\n",
      "15:35 madminer.utils.ml.tr INFO               val. loss   0.44442 (improved_xe:  0.439, mse_score:  0.005)\n",
      "15:35 madminer.utils.ml.tr INFO    Epoch  10: train loss  0.44241 (improved_xe:  0.437, mse_score:  0.005)\n",
      "15:35 madminer.utils.ml.tr INFO               val. loss   0.44384 (improved_xe:  0.439, mse_score:  0.005)\n",
      "15:36 madminer.utils.ml.tr INFO    Epoch  11: train loss  0.44188 (improved_xe:  0.437, mse_score:  0.005)\n",
      "15:36 madminer.utils.ml.tr INFO               val. loss   0.44329 (improved_xe:  0.438, mse_score:  0.005)\n",
      "15:36 madminer.utils.ml.tr INFO    Epoch  12: train loss  0.44136 (improved_xe:  0.436, mse_score:  0.005)\n",
      "15:36 madminer.utils.ml.tr INFO               val. loss   0.44285 (improved_xe:  0.438, mse_score:  0.005)\n",
      "15:36 madminer.utils.ml.tr INFO    Epoch  13: train loss  0.44094 (improved_xe:  0.436, mse_score:  0.005)\n",
      "15:36 madminer.utils.ml.tr INFO               val. loss   0.44295 (improved_xe:  0.438, mse_score:  0.005)\n",
      "15:37 madminer.utils.ml.tr INFO    Epoch  14: train loss  0.44062 (improved_xe:  0.436, mse_score:  0.005)\n",
      "15:37 madminer.utils.ml.tr INFO               val. loss   0.44229 (improved_xe:  0.437, mse_score:  0.005)\n",
      "15:37 madminer.utils.ml.tr INFO    Epoch  15: train loss  0.44041 (improved_xe:  0.435, mse_score:  0.005)\n",
      "15:37 madminer.utils.ml.tr INFO               val. loss   0.44202 (improved_xe:  0.437, mse_score:  0.005)\n",
      "15:38 madminer.utils.ml.tr INFO    Epoch  16: train loss  0.44015 (improved_xe:  0.435, mse_score:  0.005)\n",
      "15:38 madminer.utils.ml.tr INFO               val. loss   0.44186 (improved_xe:  0.437, mse_score:  0.005)\n",
      "15:38 madminer.utils.ml.tr INFO    Epoch  17: train loss  0.43990 (improved_xe:  0.435, mse_score:  0.005)\n",
      "15:38 madminer.utils.ml.tr INFO               val. loss   0.44159 (improved_xe:  0.436, mse_score:  0.005)\n",
      "15:38 madminer.utils.ml.tr INFO    Epoch  18: train loss  0.43973 (improved_xe:  0.435, mse_score:  0.005)\n",
      "15:38 madminer.utils.ml.tr INFO               val. loss   0.44156 (improved_xe:  0.436, mse_score:  0.005)\n",
      "15:39 madminer.utils.ml.tr INFO    Epoch  19: train loss  0.43957 (improved_xe:  0.435, mse_score:  0.005)\n",
      "15:39 madminer.utils.ml.tr INFO               val. loss   0.44132 (improved_xe:  0.436, mse_score:  0.005)\n",
      "15:39 madminer.utils.ml.tr INFO    Epoch  20: train loss  0.43942 (improved_xe:  0.434, mse_score:  0.005)\n",
      "15:39 madminer.utils.ml.tr INFO               val. loss   0.44123 (improved_xe:  0.436, mse_score:  0.005)\n",
      "15:39 madminer.utils.ml.tr INFO    Early stopping did not improve performance\n"
     ]
    }
   ],
   "source": [
    "estimator.train(\n",
    "    method='alices',\n",
    "    theta='data/samples/theta0_train.npy',\n",
    "    x='data/samples/x_train.npy',\n",
    "    y='data/samples/y_train.npy',\n",
    "    r_xz='data/samples/r_xz_train.npy',\n",
    "    t_xz='data/samples/t_xz_train.npy',\n",
    "    alpha=1.,\n",
    "    n_epochs=20,\n",
    ")\n",
    "\n",
    "estimator.save('models/alices')"
   ]
  },
  {
   "cell_type": "markdown",
   "metadata": {},
   "source": [
    "## 4. Evaluate likelihood ratio estimator"
   ]
  },
  {
   "cell_type": "markdown",
   "metadata": {},
   "source": [
    "`estimator.evaluate_log_likelihood_ratio(theta,x)` estimated the log likelihood ratio and the score for all combination between the given phase-space points `x` and parameters `theta`. That is, if given 100 events `x` and a grid of 25 `theta` points, it will return 25\\*100 estimates for the log likelihood ratio and 25\\*100 estimates for the score, both indexed by `[i_theta,i_x]`."
   ]
  },
  {
   "cell_type": "code",
   "execution_count": 12,
   "metadata": {},
   "outputs": [],
   "source": [
    "theta_each = np.linspace(-20.,20.,21)\n",
    "theta0, theta1 = np.meshgrid(theta_each, theta_each)\n",
    "theta_grid = np.vstack((theta0.flatten(), theta1.flatten())).T\n",
    "np.save('data/samples/theta_grid.npy', theta_grid)\n",
    "\n",
    "theta_denom = np.array([[0.,0.]])\n",
    "np.save('data/samples/theta_ref.npy', theta_denom)\n"
   ]
  },
  {
   "cell_type": "code",
   "execution_count": 13,
   "metadata": {},
   "outputs": [],
   "source": [
    "estimator.load('models/alices')\n",
    "\n",
    "log_r_hat, _ = estimator.evaluate_log_likelihood_ratio(\n",
    "    theta='data/samples/theta_grid.npy',\n",
    "    x='data/samples/x_test.npy',\n",
    "    evaluate_score=False\n",
    ")"
   ]
  },
  {
   "cell_type": "markdown",
   "metadata": {},
   "source": [
    "Let's look at the result:"
   ]
  },
  {
   "cell_type": "code",
   "execution_count": 14,
   "metadata": {},
   "outputs": [
    {
     "data": {
      "image/png": "[encoded data removed]",
      "text/plain": [
       "<Figure size 432x360 with 2 Axes>"
      ]
     },
     "metadata": {
      "needs_background": "light"
     },
     "output_type": "display_data"
    }
   ],
   "source": [
    "bin_size = theta_each[1] - theta_each[0]\n",
    "edges = np.linspace(theta_each[0] - bin_size/2, theta_each[-1] + bin_size/2, len(theta_each)+1)\n",
    "\n",
    "fig = plt.figure(figsize=(6,5))\n",
    "ax = plt.gca()\n",
    "\n",
    "expected_llr = np.mean(log_r_hat,axis=1)\n",
    "best_fit = theta_grid[np.argmin(-2.*expected_llr)]\n",
    "\n",
    "cmin, cmax = np.min(-2*expected_llr), np.max(-2*expected_llr)\n",
    "    \n",
    "pcm = ax.pcolormesh(edges, edges, -2. * expected_llr.reshape((21,21)),\n",
    "                    norm=matplotlib.colors.Normalize(vmin=cmin, vmax=cmax),\n",
    "                    cmap='viridis_r')\n",
    "cbar = fig.colorbar(pcm, ax=ax, extend='both')\n",
    "\n",
    "plt.scatter(best_fit[0], best_fit[1], s=80., color='black', marker='*')\n",
    "\n",
    "plt.xlabel(r'$\\theta_0$')\n",
    "plt.ylabel(r'$\\theta_1$')\n",
    "cbar.set_label(r'$\\mathbb{E}_x [ -2\\, \\log \\,\\hat{r}(x | \\theta, \\theta_{SM}) ]$')\n",
    "\n",
    "plt.tight_layout()\n",
    "plt.show()\n"
   ]
  },
  {
   "cell_type": "markdown",
   "metadata": {},
   "source": [
    "Note that in this tutorial our sample size was very small, and the network might not really have a chance to converge to the correct likelihood ratio function. So don't worry if you find a minimum that is not at the right point (the SM, i.e. the origin in this plot). Feel free to dial up the event numbers in the run card as well as the training samples and see what happens then!"
   ]
  },
  {
   "cell_type": "markdown",
   "metadata": {},
   "source": [
    "## 4. Statistical analysis"
   ]
  },
  {
   "cell_type": "markdown",
   "metadata": {},
   "source": [
    "In the end, what we care about are not plots of the log likelihood ratio, but limits on parameters. But at least under some asymptotic assumptions, these are directly related. MadMiner makes it easy to calculate p-values in the asymptotic limit with the `AsymptoticLimits` class in the `madminer.limits`: "
   ]
  },
  {
   "cell_type": "code",
   "execution_count": 15,
   "metadata": {},
   "outputs": [
    {
     "name": "stderr",
     "output_type": "stream",
     "text": [
      "15:39 madminer.analysis    INFO    Loading data from data/madminer_example_shuffled.h5\n",
      "15:39 madminer.analysis    INFO    Found 2 parameters\n",
      "15:39 madminer.analysis    INFO    Did not find nuisance parameters\n",
      "15:39 madminer.analysis    INFO    Found 6 benchmarks, of which 6 physical\n",
      "15:39 madminer.analysis    INFO    Found 2 observables\n",
      "15:39 madminer.analysis    INFO    Found 6537 events\n",
      "15:39 madminer.analysis    INFO    Found morphing setup with 6 components\n"
     ]
    }
   ],
   "source": [
    "limits = AsymptoticLimits('data/madminer_example_shuffled.h5')"
   ]
  },
  {
   "cell_type": "markdown",
   "metadata": {},
   "source": [
    "This class provids two high-level functions:\n",
    "- `AsymptoticLimits.observed_limits()` lets us calculate p-values on a parameter grid for some observed events, and\n",
    "- `AsymptoticLimits.expected_limits()` lets us calculate expected p-values on a parameter grid based on all data in the MadMiner file.\n",
    "\n",
    "Note that these limits include both rate and kinematic information (the neural network is used for the kinematic part).\n",
    "\n",
    "Let's try both:"
   ]
  },
  {
   "cell_type": "code",
   "execution_count": 16,
   "metadata": {},
   "outputs": [],
   "source": [
    "theta_min, theta_max = -20., 20.\n",
    "resolution = 25"
   ]
  },
  {
   "cell_type": "markdown",
   "metadata": {},
   "source": [
    "### Expected limits"
   ]
  },
  {
   "cell_type": "markdown",
   "metadata": {},
   "source": [
    "First, with `mode=\"rate\"`, we can calculate expected limits based only on rate information:"
   ]
  },
  {
   "cell_type": "code",
   "execution_count": 17,
   "metadata": {},
   "outputs": [
    {
     "ename": "TypeError",
     "evalue": "expected_limits() got an unexpected keyword argument 'resolution'",
     "output_type": "error",
     "traceback": [
      "\u001b[0;31m---------------------------------------------------------------------------\u001b[0m",
      "\u001b[0;31mTypeError\u001b[0m                                 Traceback (most recent call last)",
      "\u001b[0;32m<ipython-input-17-8157f887e720>\u001b[0m in \u001b[0;36m<module>\u001b[0;34m\u001b[0m\n\u001b[1;32m      4\u001b[0m     \u001b[0mmode\u001b[0m\u001b[0;34m=\u001b[0m\u001b[0;34m\"rate\"\u001b[0m\u001b[0;34m,\u001b[0m\u001b[0;34m\u001b[0m\u001b[0;34m\u001b[0m\u001b[0m\n\u001b[1;32m      5\u001b[0m     \u001b[0mresolution\u001b[0m\u001b[0;34m=\u001b[0m\u001b[0mresolution\u001b[0m\u001b[0;34m,\u001b[0m\u001b[0;34m\u001b[0m\u001b[0;34m\u001b[0m\u001b[0m\n\u001b[0;32m----> 6\u001b[0;31m     \u001b[0mluminosity\u001b[0m\u001b[0;34m=\u001b[0m\u001b[0;36m300000.0\u001b[0m\u001b[0;34m\u001b[0m\u001b[0;34m\u001b[0m\u001b[0m\n\u001b[0m\u001b[1;32m      7\u001b[0m )\n",
      "\u001b[0;31mTypeError\u001b[0m: expected_limits() got an unexpected keyword argument 'resolution'"
     ]
    }
   ],
   "source": [
    "_, p_values_expected_xsec, best_fit_expected_xsec = limits.expected_limits(\n",
    "    theta_true=[0.,0.],\n",
    "    theta_ranges=[(theta_min, theta_max), (theta_min, theta_max)],\n",
    "    mode=\"rate\",\n",
    "    resolution=resolution,\n",
    "    luminosity=300000.0\n",
    ")"
   ]
  },
  {
   "cell_type": "markdown",
   "metadata": {},
   "source": [
    "`mode=\"histo\"` calculates limits based on histograms. For now, there is not a lot of freedom in this step, the histogram binning is determined automatically."
   ]
  },
  {
   "cell_type": "code",
   "execution_count": null,
   "metadata": {},
   "outputs": [],
   "source": [
    "_, p_values_expected_histo, best_fit_expected_histo = limits.expected_limits(\n",
    "    theta_true=[0.,0.],\n",
    "    theta_ranges=[(theta_min, theta_max), (theta_min, theta_max)],\n",
    "    mode=\"histo\",\n",
    "    hist_vars=[\"pt_j1\"],\n",
    "    include_xsec=False,\n",
    "    resolution=resolution,\n",
    "    luminosity=300000.0\n",
    ")"
   ]
  },
  {
   "cell_type": "markdown",
   "metadata": {},
   "source": [
    "Finally and perhaps most importantly, `mode=\"ml\"` allows us to calculate limits based on any `ParamterizedRatioEstimator` instance like the ALICES estimator trained above:"
   ]
  },
  {
   "cell_type": "code",
   "execution_count": null,
   "metadata": {},
   "outputs": [],
   "source": [
    "theta_grid, p_values_expected_ml, best_fit_expected_ml = limits.expected_limits(\n",
    "    theta_true=[0.,0.],\n",
    "    theta_ranges=[(theta_min, theta_max), (theta_min, theta_max)],\n",
    "    mode=\"ml\",\n",
    "    model_file='models/alices',\n",
    "    include_xsec=False,\n",
    "    resolution=resolution,\n",
    "    luminosity=300000.0\n",
    ")"
   ]
  },
  {
   "cell_type": "markdown",
   "metadata": {},
   "source": [
    "### Observed limits"
   ]
  },
  {
   "cell_type": "markdown",
   "metadata": {},
   "source": [
    "Observed limits take as input actual data, which we here generate on the fly:"
   ]
  },
  {
   "cell_type": "code",
   "execution_count": null,
   "metadata": {},
   "outputs": [],
   "source": [
    "sampler = SampleAugmenter('data/madminer_example_shuffled.h5')\n",
    "x_observed, _ = sampler.extract_samples_test(\n",
    "    theta=sampling.morphing_point([0.,0.]),\n",
    "    n_samples=5,\n",
    "    folder=None,\n",
    "    filename=None\n",
    ")"
   ]
  },
  {
   "cell_type": "code",
   "execution_count": null,
   "metadata": {},
   "outputs": [],
   "source": [
    "_, p_values_observed, best_fit_observed = limits.observed_limits(\n",
    "    x_observed=x_observed,\n",
    "    theta_ranges=[(theta_min, theta_max), (theta_min, theta_max)],\n",
    "    mode=\"ml\",\n",
    "    model_file='models/alices',\n",
    "    include_xsec=True,\n",
    "    resolution=resolution,\n",
    "    luminosity=300000.0,\n",
    ")"
   ]
  },
  {
   "cell_type": "markdown",
   "metadata": {},
   "source": [
    "### Plot"
   ]
  },
  {
   "cell_type": "markdown",
   "metadata": {},
   "source": [
    "Let's plot the results:"
   ]
  },
  {
   "cell_type": "code",
   "execution_count": null,
   "metadata": {},
   "outputs": [],
   "source": [
    "bin_size = (theta_max - theta_min)/(resolution - 1)\n",
    "edges = np.linspace(theta_min - bin_size/2, theta_max + bin_size/2, resolution + 1)\n",
    "centers = np.linspace(theta_min, theta_max, resolution)\n",
    "\n",
    "fig = plt.figure(figsize=(6,5))\n",
    "ax = plt.gca()\n",
    "\n",
    "cmin, cmax = 1.e-3, 1.\n",
    "    \n",
    "pcm = ax.pcolormesh(\n",
    "    edges, edges, p_values_expected_ml.reshape((resolution, resolution)),\n",
    "    norm=matplotlib.colors.LogNorm(vmin=cmin, vmax=cmax),\n",
    "    cmap='Greys_r'\n",
    ")\n",
    "cbar = fig.colorbar(pcm, ax=ax, extend='both')\n",
    "\n",
    "plt.contour(\n",
    "    centers, centers, p_values_expected_xsec.reshape((resolution, resolution)),\n",
    "    levels=[0.05],\n",
    "    linestyles='-', colors='darkgreen'\n",
    ")\n",
    "plt.contour(\n",
    "    centers, centers, p_values_expected_ml.reshape((resolution, resolution)),\n",
    "    levels=[0.05],\n",
    "    linestyles='-', colors='#CC002E'\n",
    ")\n",
    "plt.contour(\n",
    "    centers, centers, p_values_expected_histo.reshape((resolution, resolution)),\n",
    "    levels=[0.05],\n",
    "    linestyles='-', colors='C1'\n",
    ")\n",
    "plt.contour(\n",
    "    centers, centers, p_values_observed.reshape((resolution, resolution)),\n",
    "    levels=[0.05],\n",
    "    linestyles='--', colors='black'\n",
    ")\n",
    "\n",
    "plt.scatter(\n",
    "    theta_grid[best_fit_expected_xsec][0], theta_grid[best_fit_expected_xsec][1],\n",
    "    s=80., color='darkgreen', marker='*',\n",
    "    label=\"xsec\"\n",
    ")\n",
    "plt.scatter(\n",
    "    theta_grid[best_fit_expected_ml][0], theta_grid[best_fit_expected_ml][1],\n",
    "    s=80., color='#CC002E', marker='*',\n",
    "    label=\"ALICES\"\n",
    ")\n",
    "plt.scatter(\n",
    "    theta_grid[best_fit_expected_histo][0], theta_grid[best_fit_expected_histo][1],\n",
    "    s=80., color='C1', marker='*',\n",
    "    label=\"Histo\"\n",
    ")\n",
    "plt.scatter(\n",
    "    theta_grid[best_fit_observed][0], theta_grid[best_fit_observed][1],\n",
    "    s=80., color='black', marker='*',\n",
    "    label=\"Observed\"\n",
    ")\n",
    "\n",
    "plt.legend()\n",
    "\n",
    "plt.xlabel(r'$\\theta_0$')\n",
    "plt.ylabel(r'$\\theta_1$')\n",
    "cbar.set_label('Expected p-value (ALICES)')\n",
    "\n",
    "plt.tight_layout()\n",
    "plt.show()\n"
   ]
  },
  {
   "cell_type": "markdown",
   "metadata": {},
   "source": [
    "That's it for now. Please have a look at the documentation for a detailed description of all classes and functions. And if you're curious about SALLY, Fisher information matrices, and ensemble methods, please look at the second part of the tutorial!"
   ]
  },
  {
   "cell_type": "code",
   "execution_count": null,
   "metadata": {},
   "outputs": [],
   "source": []
  }
 ],
 "metadata": {
  "kernelspec": {
   "display_name": "Python (higgs_inference)",
   "language": "python",
   "name": "higgs_inference"
  },
  "language_info": {
   "codemirror_mode": {
    "name": "ipython",
    "version": 3
   },
   "file_extension": ".py",
   "mimetype": "text/x-python",
   "name": "python",
   "nbconvert_exporter": "python",
   "pygments_lexer": "ipython3",
   "version": "3.6.7"
  }
 },
 "nbformat": 4,
 "nbformat_minor": 2
}
