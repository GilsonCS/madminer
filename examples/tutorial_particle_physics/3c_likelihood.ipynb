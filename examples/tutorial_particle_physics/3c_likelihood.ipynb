{
 "cells": [
  {
   "cell_type": "markdown",
   "metadata": {},
   "source": [
    "# MadMiner particle physics tutorial\n",
    "\n",
    "# Part 3c: Training a likelihood estimator\n",
    "\n",
    "Johann Brehmer, Felix Kling, Irina Espejo, and Kyle Cranmer 2018-2019"
   ]
  },
  {
   "cell_type": "markdown",
   "metadata": {},
   "source": [
    "In part 3c of this tutorial we will train a third neural estimator: this time of the likelihood function itself (rather than its ratio). We assume that you have run part 1 and 2a of this tutorial. If, instead of 2a, you have run part 2b, you just have to load a different filename later."
   ]
  },
  {
   "cell_type": "markdown",
   "metadata": {},
   "source": [
    "## Preparations"
   ]
  },
  {
   "cell_type": "code",
   "execution_count": 1,
   "metadata": {},
   "outputs": [],
   "source": [
    "from __future__ import absolute_import, division, print_function, unicode_literals\n",
    "\n",
    "import logging\n",
    "import numpy as np\n",
    "import matplotlib\n",
    "from matplotlib import pyplot as plt\n",
    "%matplotlib inline\n",
    "\n",
    "from madminer.sampling import SampleAugmenter\n",
    "from madminer import sampling\n",
    "from madminer.ml import LikelihoodEstimator\n"
   ]
  },
  {
   "cell_type": "code",
   "execution_count": 2,
   "metadata": {},
   "outputs": [],
   "source": [
    "# MadMiner output\n",
    "logging.basicConfig(\n",
    "    format='%(asctime)-5.5s %(name)-20.20s %(levelname)-7.7s %(message)s',\n",
    "    datefmt='%H:%M',\n",
    "    level=logging.INFO\n",
    ")\n",
    "\n",
    "# Output of all other modules (e.g. matplotlib)\n",
    "for key in logging.Logger.manager.loggerDict:\n",
    "    if \"madminer\" not in key:\n",
    "        logging.getLogger(key).setLevel(logging.WARNING)"
   ]
  },
  {
   "cell_type": "markdown",
   "metadata": {},
   "source": [
    "## 1. Make (unweighted) training and test samples with augmented data"
   ]
  },
  {
   "cell_type": "markdown",
   "metadata": {},
   "source": [
    "At this point, we have all the information we need from the simulations. But the data is not quite ready to be used for machine learning. The `madminer.sampling` class `SampleAugmenter` will take care of the remaining book-keeping steps before we can train our estimators:\n",
    "\n",
    "First, it unweights the samples, i.e. for a given parameter vector `theta` (or a distribution `p(theta)`) it picks events `x` such that their distribution follows `p(x|theta)`. The selected samples will all come from the event file we have so far, but their frequency is changed -- some events will appear multiple times, some will disappear.\n",
    "\n",
    "Second, `SampleAugmenter` calculates all the augmented data (\"gold\") that is the key to our new inference methods. Depending on the specific technique, these are the joint likelihood ratio and / or the joint score. It saves all these pieces of information for the selected events in a set of numpy files that can easily be used in any machine learning framework."
   ]
  },
  {
   "cell_type": "code",
   "execution_count": 3,
   "metadata": {},
   "outputs": [
    {
     "name": "stderr",
     "output_type": "stream",
     "text": [
      "14:25 madminer.analysis    INFO    Loading data from data/lhe_data_shuffled.h5\n",
      "14:25 madminer.analysis    INFO    Found 2 parameters\n",
      "14:25 madminer.analysis    INFO    Did not find nuisance parameters\n",
      "14:25 madminer.analysis    INFO    Found 6 benchmarks, of which 6 physical\n",
      "14:25 madminer.analysis    INFO    Found 3 observables\n",
      "14:25 madminer.analysis    INFO    Found 15030 events\n",
      "14:25 madminer.analysis    INFO      10041 generated from sm\n",
      "14:25 madminer.analysis    INFO      1023 generated from w\n",
      "14:25 madminer.analysis    INFO      1127 generated from neg_w\n",
      "14:25 madminer.analysis    INFO      1450 generated from ww\n",
      "14:25 madminer.analysis    INFO      1389 generated from neg_ww\n",
      "14:25 madminer.analysis    INFO    Found morphing setup with 6 components\n",
      "14:25 madminer.analysis    INFO    Did not find nuisance morphing setup\n"
     ]
    }
   ],
   "source": [
    "sampler = SampleAugmenter('data/lhe_data_shuffled.h5')\n",
    "# sampler = SampleAugmenter('data/delphes_data_shuffled.h5')"
   ]
  },
  {
   "cell_type": "markdown",
   "metadata": {},
   "source": [
    "The `SampleAugmenter` class defines five different high-level functions to generate train or test samples:\n",
    "- `sample_train_plain()`, which only saves observations x, for instance for histograms or ABC;\n",
    "- `sample_train_local()` for methods like SALLY and SALLINO, which will be demonstrated in the second part of the tutorial;\n",
    "- `sample_train_density()` for neural density estimation techniques like MAF or SCANDAL;\n",
    "- `sample_train_ratio()` for techniques like CARL, ROLR, CASCAL, and RASCAL, when only theta0 is parameterized;\n",
    "- `sample_train_more_ratios()` for the same techniques, but with both theta0 and theta1 parameterized;\n",
    "- `sample_test()` for the evaluation of any method.\n",
    "\n",
    "For the arguments `theta`, `theta0`, or `theta1`, you can (and should!) use the helper functions `benchmark()`, `benchmarks()`, `morphing_point()`, `morphing_points()`, and `random_morphing_points()`, all defined in the `madminer.sampling` module.\n",
    "\n",
    "Here we'll train a likelihood estimator with the SCANDAL method, so we focus on the `extract_samples_train_density()` function. We'll sample the numerator hypothesis in the likelihood ratio with 1000 points drawn from a Gaussian prior, and fix the denominator hypothesis to the SM.\n",
    "\n",
    "Note the keyword `sample_only_from_closest_benchmark=True`, which makes sure that for each parameter point we only use the events that were originally (in MG) generated from the closest benchmark. This reduces the statistical fluctuations in the outcome quite a bit."
   ]
  },
  {
   "cell_type": "code",
   "execution_count": 10,
   "metadata": {},
   "outputs": [],
   "source": [
    "sampler.sample_train_density?"
   ]
  },
  {
   "cell_type": "code",
   "execution_count": 11,
   "metadata": {},
   "outputs": [
    {
     "name": "stderr",
     "output_type": "stream",
     "text": [
      "14:28 madminer.sampling    INFO    Extracting training sample for non-local score-based methods. Sampling and score evaluation according to ('random_morphing_points', (1000, [('gaussian', 0.0, 15.0), ('gaussian', 0.0, 15.0)]))\n",
      "14:28 madminer.sampling    INFO    Starting sampling serially\n",
      "14:28 madminer.sampling    WARNING Large statistical uncertainty on the total cross section when sampling from theta = [ 10.46578532 -13.48456144]: (0.007204 +/- 0.000782) pb (10.856935261838029 %). Skipping these warnings in the future...\n",
      "14:28 madminer.sampling    INFO    Sampling from parameter point 50 / 1000\n",
      "14:28 madminer.sampling    INFO    Sampling from parameter point 100 / 1000\n",
      "14:28 madminer.sampling    INFO    Sampling from parameter point 150 / 1000\n",
      "14:28 madminer.sampling    INFO    Sampling from parameter point 200 / 1000\n",
      "14:28 madminer.sampling    INFO    Sampling from parameter point 250 / 1000\n",
      "14:28 madminer.sampling    INFO    Sampling from parameter point 300 / 1000\n",
      "14:28 madminer.sampling    INFO    Sampling from parameter point 350 / 1000\n",
      "14:28 madminer.sampling    INFO    Sampling from parameter point 400 / 1000\n",
      "14:28 madminer.sampling    INFO    Sampling from parameter point 450 / 1000\n",
      "14:28 madminer.sampling    INFO    Sampling from parameter point 500 / 1000\n",
      "14:28 madminer.sampling    INFO    Sampling from parameter point 550 / 1000\n",
      "14:28 madminer.sampling    INFO    Sampling from parameter point 600 / 1000\n",
      "14:28 madminer.sampling    INFO    Sampling from parameter point 650 / 1000\n",
      "14:28 madminer.sampling    INFO    Sampling from parameter point 700 / 1000\n",
      "14:28 madminer.sampling    INFO    Sampling from parameter point 750 / 1000\n",
      "14:28 madminer.sampling    INFO    Sampling from parameter point 800 / 1000\n",
      "14:28 madminer.sampling    INFO    Sampling from parameter point 850 / 1000\n",
      "14:28 madminer.sampling    INFO    Sampling from parameter point 900 / 1000\n",
      "14:28 madminer.sampling    INFO    Sampling from parameter point 950 / 1000\n",
      "14:28 madminer.sampling    INFO    Sampling from parameter point 1000 / 1000\n",
      "14:28 madminer.sampling    INFO    Effective number of samples: mean 152.23627255896426, with individual thetas ranging from 9.92312814723694 to 1969.5665616648787\n"
     ]
    }
   ],
   "source": [
    "x, theta, t_xz, _ = sampler.sample_train_density(\n",
    "    theta=sampling.random_morphing_points(1000, [('gaussian', 0., 15.), ('gaussian', 0., 15.)]),\n",
    "    n_samples=100000,\n",
    "    folder='./data/samples',\n",
    "    filename='train_density',\n",
    "    sample_only_from_closest_benchmark=True,\n",
    ")"
   ]
  },
  {
   "cell_type": "markdown",
   "metadata": {},
   "source": [
    "For the evaluation we'll need a test sample:"
   ]
  },
  {
   "cell_type": "code",
   "execution_count": 12,
   "metadata": {
    "scrolled": true
   },
   "outputs": [
    {
     "name": "stderr",
     "output_type": "stream",
     "text": [
      "14:28 madminer.sampling    INFO    Extracting evaluation sample. Sampling according to sm\n",
      "14:28 madminer.sampling    INFO    Starting sampling serially\n",
      "14:28 madminer.sampling    INFO    Sampling from parameter point 1 / 1\n",
      "14:28 madminer.sampling    INFO    Effective number of samples: mean 19.046228721636165, with individual thetas ranging from 19.046228721636165 to 19.046228721636165\n"
     ]
    }
   ],
   "source": [
    "_ = sampler.sample_test(\n",
    "    theta=sampling.benchmark('sm'),\n",
    "    n_samples=1000,\n",
    "    folder='./data/samples',\n",
    "    filename='test'\n",
    ")"
   ]
  },
  {
   "cell_type": "markdown",
   "metadata": {},
   "source": [
    "## 2. Train likelihood estimator"
   ]
  },
  {
   "cell_type": "markdown",
   "metadata": {},
   "source": [
    "It's now time to build the neural network that estimates the likelihood ratio. The central object for this is the `madminer.ml.ParameterizedRatioEstimator` class. It defines functions that train, save, load, and evaluate the estimators.\n",
    "\n",
    "In the initialization, the keywords `n_hidden` and `activation` define the architecture of the (fully connected) neural network:"
   ]
  },
  {
   "cell_type": "code",
   "execution_count": 13,
   "metadata": {},
   "outputs": [],
   "source": [
    "LikelihoodEstimator?"
   ]
  },
  {
   "cell_type": "code",
   "execution_count": 3,
   "metadata": {},
   "outputs": [],
   "source": [
    "estimator = LikelihoodEstimator(\n",
    "    n_mades=3,\n",
    "    n_hidden=(100,),\n",
    "    activation=\"tanh\"\n",
    ")"
   ]
  },
  {
   "cell_type": "markdown",
   "metadata": {},
   "source": [
    "To train this model we will minimize the SCANDAL loss function described in [\"Mining gold from implicit models to improve likelihood-free inference\"](https://arxiv.org/abs/1805.12244)."
   ]
  },
  {
   "cell_type": "code",
   "execution_count": 4,
   "metadata": {},
   "outputs": [
    {
     "name": "stderr",
     "output_type": "stream",
     "text": [
      "14:29 madminer.ml          INFO    Starting training\n",
      "14:29 madminer.ml          INFO      Method:                 scandal\n",
      "14:29 madminer.ml          INFO      alpha:                  1.0\n",
      "14:29 madminer.ml          INFO      Batch size:             200\n",
      "14:29 madminer.ml          INFO      Optimizer:              amsgrad\n",
      "14:29 madminer.ml          INFO      Epochs:                 20\n",
      "14:29 madminer.ml          INFO      Learning rate:          0.001 initially, decaying to 0.0001\n",
      "14:29 madminer.ml          INFO      Validation split:       0.25\n",
      "14:29 madminer.ml          INFO      Early stopping:         True\n",
      "14:29 madminer.ml          INFO      Scale inputs:           True\n",
      "14:29 madminer.ml          INFO      Shuffle labels          False\n",
      "14:29 madminer.ml          INFO      Samples:                all\n",
      "14:29 madminer.ml          INFO    Loading training data\n",
      "14:29 madminer.ml          INFO    Found 100000 samples with 2 parameters and 3 observables\n",
      "14:29 madminer.ml          INFO    Rescaling inputs\n",
      "14:29 madminer.ml          INFO    Training model\n",
      "14:29 madminer.utils.ml.tr INFO    Training on CPU with single precision\n",
      "14:30 madminer.utils.ml.tr INFO    Epoch   1: train loss  3.84433 (nll:  3.807, mse_score:  0.037)\n",
      "14:30 madminer.utils.ml.tr INFO               val. loss   3.63021 (nll:  3.605, mse_score:  0.025)\n",
      "14:30 madminer.utils.ml.tr INFO    Epoch   2: train loss  3.60081 (nll:  3.578, mse_score:  0.023)\n",
      "14:30 madminer.utils.ml.tr INFO               val. loss   3.59023 (nll:  3.569, mse_score:  0.021)\n",
      "14:30 madminer.utils.ml.tr INFO    Epoch   3: train loss  3.57843 (nll:  3.558, mse_score:  0.020)\n",
      "14:30 madminer.utils.ml.tr INFO               val. loss   3.58978 (nll:  3.570, mse_score:  0.020)\n",
      "14:30 madminer.utils.ml.tr INFO    Epoch   4: train loss  3.56922 (nll:  3.551, mse_score:  0.019)\n",
      "14:30 madminer.utils.ml.tr INFO               val. loss   3.57411 (nll:  3.556, mse_score:  0.018)\n",
      "14:30 madminer.utils.ml.tr INFO    Epoch   5: train loss  3.56148 (nll:  3.544, mse_score:  0.018)\n",
      "14:30 madminer.utils.ml.tr INFO               val. loss   3.56463 (nll:  3.547, mse_score:  0.017)\n",
      "14:30 madminer.utils.ml.tr INFO    Epoch   6: train loss  3.55831 (nll:  3.541, mse_score:  0.017)\n",
      "14:30 madminer.utils.ml.tr INFO               val. loss   3.56257 (nll:  3.545, mse_score:  0.017)\n",
      "14:30 madminer.utils.ml.tr INFO    Epoch   7: train loss  3.55121 (nll:  3.534, mse_score:  0.017)\n",
      "14:30 madminer.utils.ml.tr INFO               val. loss   3.56328 (nll:  3.546, mse_score:  0.017)\n",
      "14:30 madminer.utils.ml.tr INFO    Epoch   8: train loss  3.54830 (nll:  3.532, mse_score:  0.016)\n",
      "14:30 madminer.utils.ml.tr INFO               val. loss   3.55336 (nll:  3.537, mse_score:  0.017)\n",
      "14:30 madminer.utils.ml.tr INFO    Epoch   9: train loss  3.54489 (nll:  3.529, mse_score:  0.016)\n",
      "14:30 madminer.utils.ml.tr INFO               val. loss   3.55026 (nll:  3.534, mse_score:  0.016)\n",
      "14:30 madminer.utils.ml.tr INFO    Epoch  10: train loss  3.54250 (nll:  3.527, mse_score:  0.016)\n",
      "14:30 madminer.utils.ml.tr INFO               val. loss   3.55399 (nll:  3.538, mse_score:  0.016)\n",
      "14:30 madminer.utils.ml.tr INFO    Epoch  11: train loss  3.54088 (nll:  3.525, mse_score:  0.016)\n",
      "14:30 madminer.utils.ml.tr INFO               val. loss   3.54829 (nll:  3.532, mse_score:  0.016)\n",
      "14:30 madminer.utils.ml.tr INFO    Epoch  12: train loss  3.53792 (nll:  3.522, mse_score:  0.016)\n",
      "14:30 madminer.utils.ml.tr INFO               val. loss   3.55055 (nll:  3.534, mse_score:  0.016)\n",
      "14:30 madminer.utils.ml.tr INFO    Epoch  13: train loss  3.53628 (nll:  3.521, mse_score:  0.016)\n",
      "14:30 madminer.utils.ml.tr INFO               val. loss   3.54735 (nll:  3.532, mse_score:  0.016)\n",
      "14:30 madminer.utils.ml.tr INFO    Epoch  14: train loss  3.53570 (nll:  3.520, mse_score:  0.015)\n",
      "14:30 madminer.utils.ml.tr INFO               val. loss   3.54733 (nll:  3.532, mse_score:  0.016)\n",
      "14:31 madminer.utils.ml.tr INFO    Epoch  15: train loss  3.53372 (nll:  3.518, mse_score:  0.015)\n",
      "14:31 madminer.utils.ml.tr INFO               val. loss   3.54453 (nll:  3.529, mse_score:  0.016)\n",
      "14:31 madminer.utils.ml.tr INFO    Epoch  16: train loss  3.53251 (nll:  3.517, mse_score:  0.015)\n",
      "14:31 madminer.utils.ml.tr INFO               val. loss   3.54505 (nll:  3.529, mse_score:  0.016)\n",
      "14:31 madminer.utils.ml.tr INFO    Epoch  17: train loss  3.53159 (nll:  3.516, mse_score:  0.015)\n",
      "14:31 madminer.utils.ml.tr INFO               val. loss   3.54394 (nll:  3.528, mse_score:  0.016)\n",
      "14:31 madminer.utils.ml.tr INFO    Epoch  18: train loss  3.53083 (nll:  3.516, mse_score:  0.015)\n",
      "14:31 madminer.utils.ml.tr INFO               val. loss   3.54209 (nll:  3.526, mse_score:  0.016)\n",
      "14:31 madminer.utils.ml.tr INFO    Epoch  19: train loss  3.53006 (nll:  3.515, mse_score:  0.015)\n",
      "14:31 madminer.utils.ml.tr INFO               val. loss   3.54228 (nll:  3.527, mse_score:  0.016)\n",
      "14:31 madminer.utils.ml.tr INFO    Epoch  20: train loss  3.52926 (nll:  3.514, mse_score:  0.015)\n",
      "14:31 madminer.utils.ml.tr INFO               val. loss   3.54328 (nll:  3.528, mse_score:  0.016)\n",
      "14:31 madminer.utils.ml.tr INFO    Early stopping after epoch 18, with loss  3.54209 compared to final loss  3.54328\n",
      "14:31 root                 INFO    Training time spend on:\n",
      "14:31 root                 INFO                      initialize model:   0.00h\n",
      "14:31 root                 INFO                                   ALL:   0.02h\n",
      "14:31 root                 INFO                            check data:   0.00h\n",
      "14:31 root                 INFO                          make dataset:   0.00h\n",
      "14:31 root                 INFO                       make dataloader:   0.00h\n",
      "14:31 root                 INFO                       setup optimizer:   0.00h\n",
      "14:31 root                 INFO                   initialize training:   0.00h\n",
      "14:31 root                 INFO                                set lr:   0.00h\n",
      "14:31 root                 INFO                   load training batch:   0.00h\n",
      "14:31 root                 INFO                        fwd: move data:   0.00h\n",
      "14:31 root                 INFO                   fwd: check for nans:   0.00h\n",
      "14:31 root                 INFO                    fwd: model.forward:   0.01h\n",
      "14:31 root                 INFO                 fwd: calculate losses:   0.00h\n",
      "14:31 root                 INFO                 training forward pass:   0.01h\n",
      "14:31 root                 INFO                   training sum losses:   0.00h\n",
      "14:31 root                 INFO                        opt: zero grad:   0.00h\n",
      "14:31 root                 INFO                         opt: backward:   0.01h\n",
      "14:31 root                 INFO                   opt: clip grad norm:   0.00h\n",
      "14:31 root                 INFO                             opt: step:   0.00h\n",
      "14:31 root                 INFO                        optimizer step:   0.01h\n",
      "14:31 root                 INFO                 load validation batch:   0.00h\n",
      "14:31 root                 INFO               validation forward pass:   0.00h\n",
      "14:31 root                 INFO                 validation sum losses:   0.00h\n",
      "14:31 root                 INFO                        early stopping:   0.00h\n",
      "14:31 root                 INFO                          report epoch:   0.00h\n"
     ]
    }
   ],
   "source": [
    "estimator.train(\n",
    "    method='scandal',\n",
    "    theta='data/samples/theta_train_density.npy',\n",
    "    x='data/samples/x_train_density.npy',\n",
    "    t_xz='data/samples/t_xz_train_density.npy',\n",
    "    alpha=1.,\n",
    "    n_epochs=20,\n",
    ")\n",
    "\n",
    "estimator.save('models/scandal')"
   ]
  },
  {
   "cell_type": "markdown",
   "metadata": {},
   "source": [
    "## 3. Evaluate likelihood estimator"
   ]
  },
  {
   "cell_type": "markdown",
   "metadata": {},
   "source": [
    "`estimator.evaluate_log_likelihood(theta,x)` estimated the log likelihood for all combination between the given phase-space points `x` and parameters `theta`. That is, if given 100 events `x` and a grid of 25 `theta` points, it will return 25\\*100 estimates for the log likelihood, indexed by `[i_theta,i_x]`."
   ]
  },
  {
   "cell_type": "code",
   "execution_count": 8,
   "metadata": {},
   "outputs": [],
   "source": [
    "theta_each = np.linspace(-20.,20.,21)\n",
    "theta0, theta1 = np.meshgrid(theta_each, theta_each)\n",
    "theta_grid = np.vstack((theta0.flatten(), theta1.flatten())).T\n",
    "np.save('data/samples/theta_grid.npy', theta_grid)\n"
   ]
  },
  {
   "cell_type": "code",
   "execution_count": 9,
   "metadata": {},
   "outputs": [],
   "source": [
    "estimator.load('models/scandal')\n",
    "\n",
    "log_p_hat, _ = estimator.evaluate_log_likelihood(\n",
    "    theta='data/samples/theta_grid.npy',\n",
    "    x='data/samples/x_test.npy',\n",
    "    evaluate_score=False\n",
    ")"
   ]
  },
  {
   "cell_type": "markdown",
   "metadata": {},
   "source": [
    "Let's look at the result:"
   ]
  },
  {
   "cell_type": "code",
   "execution_count": 10,
   "metadata": {},
   "outputs": [
    {
     "data": {
      "image/png": "[encoded data removed]",
      "text/plain": [
       "<Figure size 432x360 with 2 Axes>"
      ]
     },
     "metadata": {
      "needs_background": "light"
     },
     "output_type": "display_data"
    }
   ],
   "source": [
    "bin_size = theta_each[1] - theta_each[0]\n",
    "edges = np.linspace(theta_each[0] - bin_size/2, theta_each[-1] + bin_size/2, len(theta_each)+1)\n",
    "\n",
    "fig = plt.figure(figsize=(6,5))\n",
    "ax = plt.gca()\n",
    "\n",
    "expected_llr = np.mean(log_p_hat,axis=1)\n",
    "best_fit = theta_grid[np.argmin(-2.*expected_llr)]\n",
    "\n",
    "cmin, cmax = np.min(-2*expected_llr), np.max(-2*expected_llr)\n",
    "    \n",
    "pcm = ax.pcolormesh(edges, edges, -2. * expected_llr.reshape((21,21)),\n",
    "                    norm=matplotlib.colors.Normalize(vmin=cmin, vmax=cmax),\n",
    "                    cmap='viridis_r')\n",
    "cbar = fig.colorbar(pcm, ax=ax, extend='both')\n",
    "\n",
    "plt.scatter(best_fit[0], best_fit[1], s=80., color='black', marker='*')\n",
    "\n",
    "plt.xlabel(r'$\\theta_0$')\n",
    "plt.ylabel(r'$\\theta_1$')\n",
    "cbar.set_label(r'$\\mathbb{E}_x [ -2\\, \\log \\,\\hat{r}(x | \\theta, \\theta_{SM}) ]$')\n",
    "\n",
    "plt.tight_layout()\n",
    "plt.show()\n"
   ]
  },
  {
   "cell_type": "markdown",
   "metadata": {},
   "source": [
    "Note that in this tutorial our sample size was very small, and the network might not really have a chance to converge to the correct likelihood function. So don't worry if you find a minimum that is not at the right point (the SM, i.e. the origin in this plot). Feel free to dial up the event numbers in the run card as well as the training samples and see what happens then!"
   ]
  },
  {
   "cell_type": "code",
   "execution_count": null,
   "metadata": {},
   "outputs": [],
   "source": []
  }
 ],
 "metadata": {
  "kernelspec": {
   "display_name": "Python (higgs_inference)",
   "language": "python",
   "name": "higgs_inference"
  },
  "language_info": {
   "codemirror_mode": {
    "name": "ipython",
    "version": 3
   },
   "file_extension": ".py",
   "mimetype": "text/x-python",
   "name": "python",
   "nbconvert_exporter": "python",
   "pygments_lexer": "ipython3",
   "version": "3.6.7"
  }
 },
 "nbformat": 4,
 "nbformat_minor": 2
}
