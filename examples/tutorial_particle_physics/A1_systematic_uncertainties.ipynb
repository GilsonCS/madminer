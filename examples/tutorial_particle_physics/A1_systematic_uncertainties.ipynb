{
 "cells": [
  {
   "cell_type": "markdown",
   "metadata": {},
   "source": [
    "# MadMiner particle physics tutorial\n",
    "\n",
    "# Appendix 1: Adding systematic uncertainties\n",
    "\n",
    "Johann Brehmer, Felix Kling, Irina Espejo, and Kyle Cranmer 2018-2019"
   ]
  },
  {
   "cell_type": "markdown",
   "metadata": {},
   "source": [
    "In this tutorial we'll explain how to add systematic uncertainties to the MadMiner workflow. Note that the treatment of systematic uncertainties changed substantially with `MadMiner v0.6`, including changes to the MadMiner file specification. Please don't use files from older MadMiner versions with systematic uncertainties."
   ]
  },
  {
   "cell_type": "markdown",
   "metadata": {},
   "source": [
    "## Preparations"
   ]
  },
  {
   "cell_type": "markdown",
   "metadata": {},
   "source": [
    "Before you execute this notebook, make sure you have running installations of MadGraph, Pythia, and Delphes."
   ]
  },
  {
   "cell_type": "code",
   "execution_count": 1,
   "metadata": {},
   "outputs": [],
   "source": [
    "from __future__ import absolute_import, division, print_function, unicode_literals\n",
    "\n",
    "import logging\n",
    "import numpy as np\n",
    "import matplotlib\n",
    "from matplotlib import pyplot as plt\n",
    "%matplotlib inline\n",
    "\n",
    "from madminer.core import MadMiner\n",
    "from madminer.lhe import LHEReader\n",
    "from madminer.sampling import SampleAugmenter\n",
    "from madminer import sampling\n",
    "from madminer.plotting import plot_systematics\n"
   ]
  },
  {
   "cell_type": "markdown",
   "metadata": {},
   "source": [
    "Please enter here the path to your MG5 root directory."
   ]
  },
  {
   "cell_type": "code",
   "execution_count": 2,
   "metadata": {},
   "outputs": [],
   "source": [
    "mg_dir = '/Users/johannbrehmer/work/projects/madminer/MG5_aMC_v2_6_4'"
   ]
  },
  {
   "cell_type": "markdown",
   "metadata": {},
   "source": [
    "MadMiner uses the Python `logging` module to provide additional information and debugging output. You can choose how much of this output you want to see by switching the level in the following lines to `logging.DEBUG` or `logging.WARNING`."
   ]
  },
  {
   "cell_type": "code",
   "execution_count": 3,
   "metadata": {},
   "outputs": [],
   "source": [
    "# MadMiner output\n",
    "logging.basicConfig(\n",
    "    format='%(asctime)-5.5s %(name)-20.20s %(levelname)-7.7s %(message)s',\n",
    "    datefmt='%H:%M',\n",
    "    level=logging.DEBUG\n",
    ")\n",
    "\n",
    "# Output of all other modules (e.g. matplotlib)\n",
    "for key in logging.Logger.manager.loggerDict:\n",
    "    if \"madminer\" not in key:\n",
    "        logging.getLogger(key).setLevel(logging.WARNING)"
   ]
  },
  {
   "cell_type": "markdown",
   "metadata": {},
   "source": [
    "## 1. Parameters and benchmarks"
   ]
  },
  {
   "cell_type": "markdown",
   "metadata": {},
   "source": [
    "We'll just load the MadMiner setup from the first part of this tutorial:"
   ]
  },
  {
   "cell_type": "code",
   "execution_count": 4,
   "metadata": {},
   "outputs": [
    {
     "name": "stderr",
     "output_type": "stream",
     "text": [
      "15:34 madminer.core        INFO    Found 2 parameters:\n",
      "15:34 madminer.core        INFO       CWL2 (LHA: dim6 2, maximal power in squared ME: (2,), range: (-20.0, 20.0))\n",
      "15:34 madminer.core        INFO       CPWL2 (LHA: dim6 5, maximal power in squared ME: (2,), range: (-20.0, 20.0))\n",
      "15:34 madminer.core        INFO    Found 6 benchmarks:\n",
      "15:34 madminer.core        INFO       sm: CWL2 = 0.00e+00, CPWL2 = 0.00e+00\n",
      "15:34 madminer.core        INFO       w: CWL2 = 15.20, CPWL2 = 0.10\n",
      "15:34 madminer.core        INFO       neg_w: CWL2 = -1.54e+01, CPWL2 = 0.20\n",
      "15:34 madminer.core        INFO       ww: CWL2 = 0.30, CPWL2 = 15.10\n",
      "15:34 madminer.core        INFO       neg_ww: CWL2 = 0.40, CPWL2 = -1.53e+01\n",
      "15:34 madminer.core        INFO       morphing_basis_vector_5: CWL2 = -1.68e+01, CPWL2 = -1.72e+01\n",
      "15:34 madminer.core        INFO    Found morphing setup with 6 components\n",
      "15:34 madminer.core        INFO    Did not find systematics setup.\n"
     ]
    }
   ],
   "source": [
    "miner = MadMiner()\n",
    "miner.load('data/setup.h5')"
   ]
  },
  {
   "cell_type": "markdown",
   "metadata": {},
   "source": [
    "## 2. Set up systematics, save settings"
   ]
  },
  {
   "cell_type": "markdown",
   "metadata": {},
   "source": [
    "This is where things become interesting: We want to model systematic uncertainties. The main function is `add_systematics()`, the keyword `effect` determines how the effect of the nuisance parameters on the event weights is calculated. For `effect=\"norm\"`, the nuisance parameter rescales thee overall cross section of one or multiple samples. For `effect=\"pdf\"`, its effect is calculated with PDF variations. Finally, with `effect=\"scale\"` scale variations are used.\n",
    "\n",
    "Here we consider three nuisance parameters: one for the signal normalization, one for the background normalization, and one for scale uncertainties (which we here assume to be correlated between signal and background)."
   ]
  },
  {
   "cell_type": "code",
   "execution_count": 6,
   "metadata": {},
   "outputs": [],
   "source": [
    "miner.add_systematics(effect=\"norm\", systematic_name=\"signal_norm\", norm_variation=1.1)\n",
    "miner.add_systematics(effect=\"norm\", systematic_name=\"bkg_norm\", norm_variation=1.2)\n",
    "miner.add_systematics(effect=\"scale\", systematic_name=\"scales\", scale=\"mu\")"
   ]
  },
  {
   "cell_type": "markdown",
   "metadata": {},
   "source": [
    "Again, we save our setup:"
   ]
  },
  {
   "cell_type": "code",
   "execution_count": 7,
   "metadata": {},
   "outputs": [
    {
     "name": "stderr",
     "output_type": "stream",
     "text": [
      "15:34 madminer.core        INFO    Saving setup (including morphing) to data/setup_systematics.h5\n"
     ]
    }
   ],
   "source": [
    "miner.save('data/setup_systematics.h5')"
   ]
  },
  {
   "cell_type": "markdown",
   "metadata": {},
   "source": [
    "## 3. Run MadGraph"
   ]
  },
  {
   "cell_type": "markdown",
   "metadata": {},
   "source": [
    "Now it's time to run MadGraph. MadMiner will instruct MadGraph to use its built-in `systematics` tool to calculate how the event weights change under the scale variation."
   ]
  },
  {
   "cell_type": "code",
   "execution_count": 10,
   "metadata": {},
   "outputs": [
    {
     "name": "stderr",
     "output_type": "stream",
     "text": [
      "15:43 madminer.utils.inter INFO    Generating MadGraph process folder from cards/proc_card_signal.dat at ./mg_processes/signal_systematics\n",
      "15:43 madminer.core        INFO    Run 0\n",
      "15:43 madminer.core        INFO      Sampling from benchmark: sm\n",
      "15:43 madminer.core        INFO      Original run card:       cards/run_card_signal_small.dat\n",
      "15:43 madminer.core        INFO      Original Pythia8 card:   None\n",
      "15:43 madminer.core        INFO      Copied run card:         /madminer/cards/run_card_0.dat\n",
      "15:43 madminer.core        INFO      Copied Pythia8 card:     None\n",
      "15:43 madminer.core        INFO      Param card:              /madminer/cards/param_card_0.dat\n",
      "15:43 madminer.core        INFO      Reweight card:           /madminer/cards/reweight_card_0.dat\n",
      "15:43 madminer.core        INFO      Log file:                run_0.log\n",
      "15:43 madminer.core        INFO    Creating param and reweight cards in ./mg_processes/signal_systematics//madminer/cards/param_card_0.dat, ./mg_processes/signal_systematics//madminer/cards/reweight_card_0.dat\n",
      "15:43 madminer.utils.inter INFO    Starting MadGraph and Pythia in ./mg_processes/signal_systematics\n",
      "15:49 madminer.core        INFO    Finished running MadGraph! Please check that events were succesfully generated in the following folders:\n",
      "\n",
      "./mg_processes/signal_systematics/Events/run_01\n",
      "\n",
      "\n"
     ]
    }
   ],
   "source": [
    "miner.run(\n",
    "    sample_benchmark='sm',\n",
    "    mg_directory=mg_dir,\n",
    "    mg_process_directory='./mg_processes/signal_systematics',\n",
    "    proc_card_file='cards/proc_card_signal.dat',\n",
    "    param_card_template_file='cards/param_card_template.dat',\n",
    "    run_card_file='cards/run_card_signal_small.dat',\n",
    "    log_directory='logs/signal',\n",
    "    python2_override=True,\n",
    "    systematics=[\"signal_norm\", \"scales\"],\n",
    ")"
   ]
  },
  {
   "cell_type": "code",
   "execution_count": 11,
   "metadata": {},
   "outputs": [
    {
     "name": "stderr",
     "output_type": "stream",
     "text": [
      "15:49 madminer.utils.inter INFO    Generating MadGraph process folder from cards/proc_card_background.dat at ./mg_processes/bkg_systematics\n",
      "15:49 madminer.core        INFO    Run 0\n",
      "15:49 madminer.core        INFO      Sampling from benchmark: sm\n",
      "15:49 madminer.core        INFO      Original run card:       cards/run_card_background.dat\n",
      "15:49 madminer.core        INFO      Original Pythia8 card:   None\n",
      "15:49 madminer.core        INFO      Copied run card:         /madminer/cards/run_card_0.dat\n",
      "15:49 madminer.core        INFO      Copied Pythia8 card:     None\n",
      "15:49 madminer.core        INFO      Param card:              /madminer/cards/param_card_0.dat\n",
      "15:49 madminer.core        INFO      Reweight card:           /madminer/cards/reweight_card_0.dat\n",
      "15:49 madminer.core        INFO      Log file:                run_0.log\n",
      "15:49 madminer.core        INFO    Creating param and reweight cards in ./mg_processes/bkg_systematics//madminer/cards/param_card_0.dat, ./mg_processes/bkg_systematics//madminer/cards/reweight_card_0.dat\n",
      "15:49 madminer.utils.inter INFO    Starting MadGraph and Pythia in ./mg_processes/bkg_systematics\n",
      "17:18 madminer.core        INFO    Finished running MadGraph! Please check that events were succesfully generated in the following folders:\n",
      "\n",
      "./mg_processes/bkg_systematics/Events/run_01\n",
      "\n",
      "\n"
     ]
    }
   ],
   "source": [
    "miner.run(\n",
    "    sample_benchmark='sm',\n",
    "    mg_directory=mg_dir,\n",
    "    mg_process_directory='./mg_processes/bkg_systematics',\n",
    "    proc_card_file='cards/proc_card_background.dat',\n",
    "    param_card_template_file='cards/param_card_template.dat',\n",
    "    run_card_file='cards/run_card_background.dat',\n",
    "    log_directory='logs/background',\n",
    "    python2_override=True,\n",
    "    systematics=[\"bkg_norm\", \"scales\"],\n",
    ")"
   ]
  },
  {
   "cell_type": "markdown",
   "metadata": {},
   "source": [
    "## 4. Load events from LHE file"
   ]
  },
  {
   "cell_type": "markdown",
   "metadata": {},
   "source": [
    "When adding LHE or Delphes files, use the `systematics` keyword to list which systematic uncertainties apply to which sample:"
   ]
  },
  {
   "cell_type": "code",
   "execution_count": 4,
   "metadata": {},
   "outputs": [
    {
     "name": "stderr",
     "output_type": "stream",
     "text": [
      "10:24 madminer.utils.inter DEBUG   HDF5 file does not contain is_reference field.\n",
      "10:24 madminer.lhe         DEBUG   Adding event sample mg_processes/signal_systematics/Events/run_01/unweighted_events.lhe.gz\n",
      "10:24 madminer.lhe         DEBUG   Adding event sample mg_processes/bkg_systematics/Events/run_01/unweighted_events.lhe.gz\n"
     ]
    }
   ],
   "source": [
    "lhe = LHEReader('data/setup_systematics.h5')\n",
    "\n",
    "lhe.add_sample(\n",
    "    lhe_filename='mg_processes/signal_systematics/Events/run_01/unweighted_events.lhe.gz',\n",
    "    sampled_from_benchmark='sm',\n",
    "    is_background=False,\n",
    "    k_factor=1.1,\n",
    "    systematics=[\"signal_norm\", \"scales\"]\n",
    ")\n",
    "\n",
    "lhe.add_sample(\n",
    "    lhe_filename='mg_processes/bkg_systematics/Events/run_01/unweighted_events.lhe.gz',\n",
    "    sampled_from_benchmark='sm',\n",
    "    is_background=True,\n",
    "    k_factor=1.1,\n",
    "    systematics=[\"bkg_norm\", \"scales\"]\n",
    ")"
   ]
  },
  {
   "cell_type": "markdown",
   "metadata": {},
   "source": [
    "The next steps are unaffected by systematics."
   ]
  },
  {
   "cell_type": "code",
   "execution_count": 5,
   "metadata": {},
   "outputs": [
    {
     "name": "stderr",
     "output_type": "stream",
     "text": [
      "10:24 madminer.lhe         DEBUG   Adding optional observable pt_j1 = j[0].pt with default 0.0\n",
      "10:24 madminer.lhe         DEBUG   Adding required observable delta_phi_jj = j[0].deltaphi(j[1]) * (-1. + 2.*float(j[0].eta > j[1].eta))\n",
      "10:24 madminer.lhe         DEBUG   Adding required observable met = met.pt\n",
      "10:24 madminer.lhe         DEBUG   Adding cut (a[0] + a[1]).m > 124.\n",
      "10:24 madminer.lhe         DEBUG   Adding cut (a[0] + a[1]).m < 126.\n",
      "10:24 madminer.lhe         DEBUG   Adding cut pt_j1 > 30.\n"
     ]
    }
   ],
   "source": [
    "lhe.set_smearing(\n",
    "    pdgids=[1,2,3,4,5,6,9,22,-1,-2,-3,-4,-5,-6],   # Partons giving rise to jets\n",
    "    energy_resolution_abs=0.,\n",
    "    energy_resolution_rel=0.1,\n",
    "    pt_resolution_abs=None,\n",
    "    pt_resolution_rel=None,\n",
    "    eta_resolution_abs=0.1,\n",
    "    eta_resolution_rel=0.,\n",
    "    phi_resolution_abs=0.1,\n",
    "    phi_resolution_rel=0.,\n",
    ")\n",
    "\n",
    "lhe.add_observable(\n",
    "    'pt_j1',\n",
    "    'j[0].pt',\n",
    "    required=False,\n",
    "    default=0.,\n",
    ")\n",
    "lhe.add_observable(\n",
    "    'delta_phi_jj',\n",
    "    'j[0].deltaphi(j[1]) * (-1. + 2.*float(j[0].eta > j[1].eta))',\n",
    "    required=True,\n",
    ")\n",
    "lhe.add_observable(\n",
    "    'met',\n",
    "    'met.pt',\n",
    "    required=True,\n",
    ")\n",
    "\n",
    "lhe.add_cut('(a[0] + a[1]).m > 124.')\n",
    "lhe.add_cut('(a[0] + a[1]).m < 126.')\n",
    "lhe.add_cut('pt_j1 > 30.')"
   ]
  },
  {
   "cell_type": "code",
   "execution_count": 6,
   "metadata": {
    "scrolled": true
   },
   "outputs": [
    {
     "name": "stderr",
     "output_type": "stream",
     "text": [
      "10:24 madminer.lhe         INFO    Analysing LHE sample mg_processes/signal_systematics/Events/run_01/unweighted_events.lhe.gz: Calculating 3 observables, requiring 3 selection cuts, using 0 efficiency factors, associated with systematics signal_norm, scales\n",
      "10:24 madminer.lhe         DEBUG   Extracting nuisance parameter definitions from LHE file\n",
      "10:24 madminer.utils.inter DEBUG   Parsing nuisance parameter setup from LHE file at mg_processes/signal_systematics/Events/run_01/unweighted_events.lhe.gz\n",
      "10:24 madminer.utils.inter DEBUG   Systematics setup: OrderedDict([(u'signal_norm', (u'norm', 1.1)), (u'scales', (u'scale', 'mu', '0.5,1.0,2.0'))])\n",
      "10:24 madminer.utils.inter DEBUG   3 weight groups\n",
      "10:24 madminer.utils.inter DEBUG   Extracting nuisance parameter information for systematic signal_norm\n",
      "10:24 madminer.utils.inter DEBUG   Extracting nuisance parameter information for systematic scales\n",
      "10:24 madminer.utils.inter DEBUG   Weight group: <Element 'weightgroup' at 0x115c09150>\n",
      "10:24 madminer.utils.inter DEBUG   Found scale variation weight group Central scale variation\n",
      "10:24 root                 DEBUG   Found scale variation weight 1 / muf = 0.5, mur = 0.5\n",
      "10:24 root                 DEBUG   Found scale variation weight 2 / muf = 1.0, mur = 0.5\n",
      "10:24 root                 DEBUG   Found scale variation weight 3 / muf = 2.0, mur = 0.5\n",
      "10:24 root                 DEBUG   Found scale variation weight 4 / muf = 0.5, mur = 1.0\n",
      "10:24 root                 DEBUG   Found scale variation weight 5 / muf = 2.0, mur = 1.0\n",
      "10:24 root                 DEBUG   Found scale variation weight 6 / muf = 0.5, mur = 2.0\n",
      "10:24 root                 DEBUG   Found scale variation weight 7 / muf = 1.0, mur = 2.0\n",
      "10:24 root                 DEBUG   Found scale variation weight 8 / muf = 2.0, mur = 2.0\n",
      "10:24 madminer.utils.inter DEBUG   Weight group: <Element 'weightgroup' at 0x115c095d0>\n",
      "10:24 madminer.utils.inter DEBUG   Weight group: <Element 'weightgroup' at 0x115c0fc60>\n",
      "10:24 madminer.utils.inter DEBUG   Weight group: <Element 'weightgroup' at 0x115c09150>\n",
      "10:24 madminer.utils.inter DEBUG   Found scale variation weight group Central scale variation\n",
      "10:24 root                 DEBUG   Found scale variation weight 1 / muf = 0.5, mur = 0.5\n",
      "10:24 madminer.utils.inter DEBUG   Weight group: <Element 'weightgroup' at 0x115c095d0>\n",
      "10:24 madminer.utils.inter DEBUG   Weight group: <Element 'weightgroup' at 0x115c0fc60>\n",
      "10:24 madminer.lhe         DEBUG   systematics_dict: OrderedDict([(u'signal_norm', {u'signal_norm_nuisance_param_0': ((None, None), (None, None), 1.1)}), (u'scales', {u'scales_nuisance_param_0': ((u'scales_nuisance_param_0_benchmark_0', '8'), (u'scales_nuisance_param_0_benchmark_1', '1'), None)})])\n",
      "10:24 madminer.utils.inter DEBUG   Parsing LHE file mg_processes/signal_systematics/Events/run_01/unweighted_events.lhe.gz\n",
      "10:24 madminer.utils.inter DEBUG   Parsing header and events as XML with cElementTree\n",
      "10:24 madminer.utils.inter DEBUG   Found entry event_norm = sum in LHE header. Interpreting this as weight_norm_is_average = False.\n",
      "10:24 madminer.utils.inter INFO      5119 / 10000 events pass cut (a[0] + a[1]).m > 124.\n",
      "10:24 madminer.utils.inter INFO      5532 / 10000 events pass cut (a[0] + a[1]).m < 126.\n",
      "10:24 madminer.utils.inter INFO      9862 / 10000 events pass cut pt_j1 > 30.\n",
      "10:24 madminer.utils.inter INFO      641 events pass all cuts/efficiencies\n",
      "10:24 madminer.lhe         DEBUG   Found weights [u'sm', u'w', u'neg_w', u'ww', u'neg_ww', u'morphing_basis_vector_5', None, u'scales_nuisance_param_0_benchmark_0', u'scales_nuisance_param_0_benchmark_1'] in LHE file\n",
      "10:24 madminer.lhe         DEBUG   Found 641 events in Obs pt_j1\n",
      "10:24 madminer.lhe         DEBUG   Found 641 events\n",
      "10:24 madminer.lhe         DEBUG   Found 641 events in Obs delta_phi_jj\n",
      "10:24 madminer.lhe         DEBUG   Found 641 events in Obs met\n",
      "10:24 madminer.lhe         INFO    Analysing LHE sample mg_processes/bkg_systematics/Events/run_01/unweighted_events.lhe.gz: Calculating 3 observables, requiring 3 selection cuts, using 0 efficiency factors, associated with systematics bkg_norm, scales\n",
      "10:24 madminer.lhe         DEBUG   Extracting nuisance parameter definitions from LHE file\n",
      "10:24 madminer.utils.inter DEBUG   Parsing nuisance parameter setup from LHE file at mg_processes/bkg_systematics/Events/run_01/unweighted_events.lhe.gz\n",
      "10:24 madminer.utils.inter DEBUG   Systematics setup: OrderedDict([(u'bkg_norm', (u'norm', 1.2)), (u'scales', (u'scale', 'mu', '0.5,1.0,2.0'))])\n",
      "10:24 madminer.utils.inter DEBUG   3 weight groups\n",
      "10:24 madminer.utils.inter DEBUG   Extracting nuisance parameter information for systematic bkg_norm\n",
      "10:24 madminer.utils.inter DEBUG   Extracting nuisance parameter information for systematic scales\n",
      "10:24 madminer.utils.inter DEBUG   Weight group: <Element 'weightgroup' at 0x115a68240>\n",
      "10:24 madminer.utils.inter DEBUG   Found scale variation weight group Central scale variation\n",
      "10:24 root                 DEBUG   Found scale variation weight 1 / muf = 0.5, mur = 0.5\n",
      "10:24 root                 DEBUG   Found scale variation weight 2 / muf = 1.0, mur = 0.5\n",
      "10:24 root                 DEBUG   Found scale variation weight 3 / muf = 2.0, mur = 0.5\n",
      "10:24 root                 DEBUG   Found scale variation weight 4 / muf = 0.5, mur = 1.0\n",
      "10:24 root                 DEBUG   Found scale variation weight 5 / muf = 2.0, mur = 1.0\n",
      "10:24 root                 DEBUG   Found scale variation weight 6 / muf = 0.5, mur = 2.0\n",
      "10:24 root                 DEBUG   Found scale variation weight 7 / muf = 1.0, mur = 2.0\n",
      "10:24 root                 DEBUG   Found scale variation weight 8 / muf = 2.0, mur = 2.0\n",
      "10:24 madminer.utils.inter DEBUG   Weight group: <Element 'weightgroup' at 0x115a68750>\n",
      "10:24 madminer.utils.inter DEBUG   Weight group: <Element 'weightgroup' at 0x11746d930>\n",
      "10:24 madminer.utils.inter DEBUG   Weight group: <Element 'weightgroup' at 0x115a68240>\n",
      "10:24 madminer.utils.inter DEBUG   Found scale variation weight group Central scale variation\n",
      "10:24 root                 DEBUG   Found scale variation weight 1 / muf = 0.5, mur = 0.5\n",
      "10:24 madminer.utils.inter DEBUG   Weight group: <Element 'weightgroup' at 0x115a68750>\n",
      "10:24 madminer.utils.inter DEBUG   Weight group: <Element 'weightgroup' at 0x11746d930>\n",
      "10:24 madminer.lhe         DEBUG   systematics_dict: OrderedDict([(u'bkg_norm', {u'bkg_norm_nuisance_param_0': ((None, None), (None, None), 1.2)}), (u'scales', {u'scales_nuisance_param_0': ((u'scales_nuisance_param_0_benchmark_0', '8'), (u'scales_nuisance_param_0_benchmark_1', '1'), None)})])\n",
      "10:24 madminer.utils.inter DEBUG   Parsing LHE file mg_processes/bkg_systematics/Events/run_01/unweighted_events.lhe.gz\n",
      "10:24 madminer.utils.inter DEBUG   Parsing header and events as XML with cElementTree\n",
      "10:24 madminer.utils.inter DEBUG   Found entry event_norm = sum in LHE header. Interpreting this as weight_norm_is_average = False.\n",
      "10:25 madminer.utils.inter INFO      25877 / 50000 events pass cut (a[0] + a[1]).m > 124.\n",
      "10:25 madminer.utils.inter INFO      28067 / 50000 events pass cut (a[0] + a[1]).m < 126.\n",
      "10:25 madminer.utils.inter INFO      47851 / 50000 events pass cut pt_j1 > 30.\n",
      "10:25 madminer.utils.inter INFO      3759 events pass all cuts/efficiencies\n",
      "10:25 madminer.lhe         DEBUG   Found weights [u'sm', u'w', u'neg_w', u'ww', u'neg_ww', u'morphing_basis_vector_5', None, u'scales_nuisance_param_0_benchmark_0', u'scales_nuisance_param_0_benchmark_1'] in LHE file\n",
      "10:25 madminer.lhe         DEBUG   Found 3759 events in Obs pt_j1\n",
      "10:25 madminer.lhe         DEBUG   Found 3759 events\n",
      "10:25 madminer.lhe         DEBUG   Found 3759 events in Obs delta_phi_jj\n",
      "10:25 madminer.lhe         DEBUG   Found 3759 events in Obs met\n",
      "10:25 madminer.lhe         INFO    Analysed number of events per sampling benchmark:\n",
      "10:25 madminer.lhe         INFO      641 from sm\n",
      "10:25 madminer.lhe         INFO      3759 from backgrounds\n",
      "10:25 madminer.lhe         DEBUG   Loading HDF5 data from data/setup_systematics.h5 and saving file to data/lhe_data_systematics.h5\n",
      "10:25 madminer.lhe         DEBUG   Weight names: [u'sm', u'w', u'neg_w', u'ww', u'neg_ww', u'morphing_basis_vector_5', None, u'scales_nuisance_param_0_benchmark_0', u'scales_nuisance_param_0_benchmark_1']\n"
     ]
    },
    {
     "name": "stderr",
     "output_type": "stream",
     "text": [
      "10:25 madminer.utils.inter DEBUG   HDF5 file does not contain is_reference field.\n",
      "10:25 madminer.utils.inter DEBUG   Adding nuisance benchmark None\n",
      "10:25 madminer.utils.inter DEBUG   Benchmark morphing_basis_vector_5 already in benchmark_names_phys\n",
      "10:25 madminer.utils.inter DEBUG   Benchmark neg_w already in benchmark_names_phys\n",
      "10:25 madminer.utils.inter DEBUG   Benchmark neg_ww already in benchmark_names_phys\n",
      "10:25 madminer.utils.inter DEBUG   Adding nuisance benchmark scales_nuisance_param_0_benchmark_0\n",
      "10:25 madminer.utils.inter DEBUG   Adding nuisance benchmark scales_nuisance_param_0_benchmark_1\n",
      "10:25 madminer.utils.inter DEBUG   Benchmark sm already in benchmark_names_phys\n",
      "10:25 madminer.utils.inter DEBUG   Benchmark w already in benchmark_names_phys\n",
      "10:25 madminer.utils.inter DEBUG   Benchmark ww already in benchmark_names_phys\n"
     ]
    },
    {
     "ename": "AttributeError",
     "evalue": "'NoneType' object has no attribute 'encode'",
     "output_type": "error",
     "traceback": [
      "\u001b[0;31m---------------------------------------------------------------------------\u001b[0m",
      "\u001b[0;31mAttributeError\u001b[0m                            Traceback (most recent call last)",
      "\u001b[0;32m<ipython-input-6-0cf4b63398d2>\u001b[0m in \u001b[0;36m<module>\u001b[0;34m()\u001b[0m\n\u001b[1;32m      1\u001b[0m \u001b[0mlhe\u001b[0m\u001b[0;34m.\u001b[0m\u001b[0manalyse_samples\u001b[0m\u001b[0;34m(\u001b[0m\u001b[0;34m)\u001b[0m\u001b[0;34m\u001b[0m\u001b[0m\n\u001b[0;32m----> 2\u001b[0;31m \u001b[0mlhe\u001b[0m\u001b[0;34m.\u001b[0m\u001b[0msave\u001b[0m\u001b[0;34m(\u001b[0m\u001b[0;34m'data/lhe_data_systematics.h5'\u001b[0m\u001b[0;34m)\u001b[0m\u001b[0;34m\u001b[0m\u001b[0m\n\u001b[0m",
      "\u001b[0;32m/Users/johannbrehmer/work/projects/madminer/madminer/madminer/lhe.py\u001b[0m in \u001b[0;36msave\u001b[0;34m(self, filename_out)\u001b[0m\n\u001b[1;32m    807\u001b[0m             \u001b[0mself\u001b[0m\u001b[0;34m.\u001b[0m\u001b[0mnuisance_parameters\u001b[0m\u001b[0;34m,\u001b[0m\u001b[0;34m\u001b[0m\u001b[0m\n\u001b[1;32m    808\u001b[0m             \u001b[0mreference_benchmark\u001b[0m\u001b[0;34m=\u001b[0m\u001b[0mself\u001b[0m\u001b[0;34m.\u001b[0m\u001b[0mreference_benchmark\u001b[0m\u001b[0;34m,\u001b[0m\u001b[0;34m\u001b[0m\u001b[0m\n\u001b[0;32m--> 809\u001b[0;31m             \u001b[0mcopy_from\u001b[0m\u001b[0;34m=\u001b[0m\u001b[0mself\u001b[0m\u001b[0;34m.\u001b[0m\u001b[0mfilename\u001b[0m\u001b[0;34m,\u001b[0m\u001b[0;34m\u001b[0m\u001b[0m\n\u001b[0m\u001b[1;32m    810\u001b[0m         )\n\u001b[1;32m    811\u001b[0m \u001b[0;34m\u001b[0m\u001b[0m\n",
      "\u001b[0;32m/Users/johannbrehmer/work/projects/madminer/madminer/madminer/utils/interfaces/madminer_hdf5.pyc\u001b[0m in \u001b[0;36msave_nuisance_setup_to_madminer_file\u001b[0;34m(filename, weight_names, nuisance_parameters, reference_benchmark, sort, copy_from, overwrite_existing_nuisance_parameters)\u001b[0m\n\u001b[1;32m     52\u001b[0m         \u001b[0mbenchmark_is_nuisance\u001b[0m\u001b[0;34m,\u001b[0m \u001b[0mbenchmark_names\u001b[0m\u001b[0;34m,\u001b[0m \u001b[0mbenchmark_values\u001b[0m\u001b[0;34m,\u001b[0m \u001b[0msort\u001b[0m\u001b[0;34m,\u001b[0m \u001b[0mweight_names\u001b[0m\u001b[0;34m\u001b[0m\u001b[0m\n\u001b[1;32m     53\u001b[0m     )\n\u001b[0;32m---> 54\u001b[0;31m     \u001b[0m_save_benchmarks2\u001b[0m\u001b[0;34m(\u001b[0m\u001b[0mbenchmark_is_nuisance\u001b[0m\u001b[0;34m,\u001b[0m \u001b[0mbenchmark_names\u001b[0m\u001b[0;34m,\u001b[0m \u001b[0mbenchmark_values\u001b[0m\u001b[0;34m,\u001b[0m \u001b[0mfilename\u001b[0m\u001b[0;34m,\u001b[0m \u001b[0mreference_benchmark\u001b[0m\u001b[0;34m)\u001b[0m\u001b[0;34m\u001b[0m\u001b[0m\n\u001b[0m\u001b[1;32m     55\u001b[0m \u001b[0;34m\u001b[0m\u001b[0m\n\u001b[1;32m     56\u001b[0m \u001b[0;34m\u001b[0m\u001b[0m\n",
      "\u001b[0;32m/Users/johannbrehmer/work/projects/madminer/madminer/madminer/utils/interfaces/madminer_hdf5.pyc\u001b[0m in \u001b[0;36m_save_benchmarks2\u001b[0;34m(benchmark_is_nuisance, benchmark_names, benchmark_values, filename, reference_benchmark)\u001b[0m\n\u001b[1;32m    318\u001b[0m         \u001b[0;31m# Prepare benchmarks for saving\u001b[0m\u001b[0;34m\u001b[0m\u001b[0;34m\u001b[0m\u001b[0m\n\u001b[1;32m    319\u001b[0m         \u001b[0mn_benchmarks\u001b[0m \u001b[0;34m=\u001b[0m \u001b[0mlen\u001b[0m\u001b[0;34m(\u001b[0m\u001b[0mbenchmark_names\u001b[0m\u001b[0;34m)\u001b[0m\u001b[0;34m\u001b[0m\u001b[0m\n\u001b[0;32m--> 320\u001b[0;31m         \u001b[0mbenchmark_names_ascii\u001b[0m \u001b[0;34m=\u001b[0m \u001b[0;34m[\u001b[0m\u001b[0mbname\u001b[0m\u001b[0;34m.\u001b[0m\u001b[0mencode\u001b[0m\u001b[0;34m(\u001b[0m\u001b[0;34m\"ascii\"\u001b[0m\u001b[0;34m,\u001b[0m \u001b[0;34m\"ignore\"\u001b[0m\u001b[0;34m)\u001b[0m \u001b[0;32mfor\u001b[0m \u001b[0mbname\u001b[0m \u001b[0;32min\u001b[0m \u001b[0mbenchmark_names\u001b[0m\u001b[0;34m]\u001b[0m\u001b[0;34m\u001b[0m\u001b[0m\n\u001b[0m\u001b[1;32m    321\u001b[0m         \u001b[0mbenchmark_values\u001b[0m \u001b[0;34m=\u001b[0m \u001b[0mnp\u001b[0m\u001b[0;34m.\u001b[0m\u001b[0marray\u001b[0m\u001b[0;34m(\u001b[0m\u001b[0mbenchmark_values\u001b[0m\u001b[0;34m)\u001b[0m\u001b[0;34m\u001b[0m\u001b[0m\n\u001b[1;32m    322\u001b[0m         benchmark_is_nuisance = np.array(\n",
      "\u001b[0;31mAttributeError\u001b[0m: 'NoneType' object has no attribute 'encode'"
     ]
    }
   ],
   "source": [
    "lhe.analyse_samples()\n",
    "lhe.save('data/lhe_data_systematics.h5')"
   ]
  },
  {
   "cell_type": "code",
   "execution_count": 8,
   "metadata": {},
   "outputs": [
    {
     "data": {
      "text/plain": [
       "OrderedDict([(u'signal_norm_nuisance_param_0', (u'signal_norm', None, None)),\n",
       "             (u'scales_nuisance_param_0',\n",
       "              (u'scales',\n",
       "               u'scales_nuisance_param_0_benchmark_0',\n",
       "               u'scales_nuisance_param_0_benchmark_1')),\n",
       "             (u'bkg_norm_nuisance_param_0', (u'bkg_norm', None, None))])"
      ]
     },
     "execution_count": 8,
     "metadata": {},
     "output_type": "execute_result"
    }
   ],
   "source": [
    "lhe.nuisance_parameters"
   ]
  },
  {
   "cell_type": "markdown",
   "metadata": {},
   "source": [
    "### A look at distributions"
   ]
  },
  {
   "cell_type": "markdown",
   "metadata": {},
   "source": [
    "The function `plot_systematics()` makes it easy to check the effect of the various nuisance parameters on a distribution:"
   ]
  },
  {
   "cell_type": "code",
   "execution_count": null,
   "metadata": {},
   "outputs": [],
   "source": [
    "_ = plot_systematics(\n",
    "    filename='data/lhe_data_systematics.h5',\n",
    "    theta=np.array([0.,0.]),\n",
    "    observable=\"pt_j1\",\n",
    "    obs_label=\"$p_{T,j}$\",\n",
    "    obs_range=(20.,400.),\n",
    ")"
   ]
  },
  {
   "cell_type": "markdown",
   "metadata": {},
   "source": [
    "## 5. Sampling"
   ]
  },
  {
   "cell_type": "markdown",
   "metadata": {},
   "source": [
    "To be continued..."
   ]
  },
  {
   "cell_type": "markdown",
   "metadata": {},
   "source": [
    "## 6. Training"
   ]
  },
  {
   "cell_type": "markdown",
   "metadata": {},
   "source": [
    "## 7. Fisher information"
   ]
  },
  {
   "cell_type": "markdown",
   "metadata": {},
   "source": [
    "### Calculate Fisher information"
   ]
  },
  {
   "cell_type": "markdown",
   "metadata": {},
   "source": [
    "### Plot Fisher contours"
   ]
  },
  {
   "cell_type": "markdown",
   "metadata": {},
   "source": [
    "### \"Profiled score\""
   ]
  },
  {
   "cell_type": "code",
   "execution_count": null,
   "metadata": {},
   "outputs": [],
   "source": []
  }
 ],
 "metadata": {
  "kernelspec": {
   "display_name": "Python 2",
   "language": "python",
   "name": "python2"
  },
  "language_info": {
   "codemirror_mode": {
    "name": "ipython",
    "version": 2
   },
   "file_extension": ".py",
   "mimetype": "text/x-python",
   "name": "python",
   "nbconvert_exporter": "python",
   "pygments_lexer": "ipython2",
   "version": "2.7.15"
  }
 },
 "nbformat": 4,
 "nbformat_minor": 2
}
