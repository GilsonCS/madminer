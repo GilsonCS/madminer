{
 "cells": [
  {
   "cell_type": "markdown",
   "metadata": {},
   "source": [
    "# Interactive basis plaything"
   ]
  },
  {
   "cell_type": "code",
   "execution_count": 1,
   "metadata": {},
   "outputs": [
    {
     "ename": "ImportError",
     "evalue": "No module named 'bqplot'",
     "output_type": "error",
     "traceback": [
      "\u001b[0;31m---------------------------------------------------------------------------\u001b[0m",
      "\u001b[0;31mImportError\u001b[0m                               Traceback (most recent call last)",
      "\u001b[0;32m<ipython-input-1-d535ca7c6281>\u001b[0m in \u001b[0;36m<module>\u001b[0;34m()\u001b[0m\n\u001b[1;32m      1\u001b[0m \u001b[0;32mimport\u001b[0m \u001b[0mnumpy\u001b[0m \u001b[0;32mas\u001b[0m \u001b[0mnp\u001b[0m\u001b[0;34m\u001b[0m\u001b[0m\n\u001b[0;32m----> 2\u001b[0;31m \u001b[0;32mimport\u001b[0m \u001b[0mbqplot\u001b[0m\u001b[0;34m\u001b[0m\u001b[0m\n\u001b[0m\u001b[1;32m      3\u001b[0m \u001b[0;32mfrom\u001b[0m \u001b[0mbqplot\u001b[0m \u001b[0;32mimport\u001b[0m \u001b[0mpyplot\u001b[0m \u001b[0;32mas\u001b[0m \u001b[0mplt\u001b[0m\u001b[0;34m\u001b[0m\u001b[0m\n\u001b[1;32m      4\u001b[0m \u001b[0;32mfrom\u001b[0m \u001b[0mIPython\u001b[0m\u001b[0;34m.\u001b[0m\u001b[0mdisplay\u001b[0m \u001b[0;32mimport\u001b[0m \u001b[0mdisplay\u001b[0m\u001b[0;34m\u001b[0m\u001b[0m\n\u001b[1;32m      5\u001b[0m \u001b[0;32mfrom\u001b[0m \u001b[0mipywidgets\u001b[0m \u001b[0;32mimport\u001b[0m \u001b[0mLayout\u001b[0m\u001b[0;34m\u001b[0m\u001b[0m\n",
      "\u001b[0;31mImportError\u001b[0m: No module named 'bqplot'"
     ]
    }
   ],
   "source": [
    "import numpy as np\n",
    "import bqplot\n",
    "from bqplot import pyplot as plt\n",
    "from IPython.display import display\n",
    "from ipywidgets import Layout\n",
    "import numpy as np\n",
    "import pandas as pd\n",
    "%matplotlib notebook\n",
    "\n",
    "#from madminer.tools.morphing import Morpher"
   ]
  },
  {
   "cell_type": "code",
   "execution_count": 3,
   "metadata": {},
   "outputs": [],
   "source": [
    "import sys\n",
    "sys.path.append('../..') #temp hack for path"
   ]
  },
  {
   "cell_type": "code",
   "execution_count": 4,
   "metadata": {},
   "outputs": [],
   "source": [
    "from madminer.tools.morphing import Morpher"
   ]
  },
  {
   "cell_type": "markdown",
   "metadata": {},
   "source": [
    "## Settings"
   ]
  },
  {
   "cell_type": "code",
   "execution_count": 2,
   "metadata": {},
   "outputs": [],
   "source": [
    "n_bases = 1\n",
    "n_resolution = 50"
   ]
  },
  {
   "cell_type": "markdown",
   "metadata": {},
   "source": [
    "## Preparation"
   ]
  },
  {
   "cell_type": "code",
   "execution_count": 5,
   "metadata": {},
   "outputs": [],
   "source": [
    "morpher = Morpher(parameter_max_power=[4,4],\n",
    "                  parameter_range=[(-1.,1.), (-1.,1.)])\n",
    "_ = morpher.find_components(max_overall_power=4)"
   ]
  },
  {
   "cell_type": "code",
   "execution_count": 6,
   "metadata": {},
   "outputs": [],
   "source": [
    "xi = np.linspace(-1.,1.,n_resolution)\n",
    "yi = np.linspace(-1.,1.,n_resolution)\n",
    "xx, yy = np.meshgrid(xi, yi)\n",
    "xx = xx.reshape((-1,1))\n",
    "yy = yy.reshape((-1,1))\n",
    "theta_evaluation = np.hstack([xx, yy])\n",
    "\n",
    "x_updated = False\n",
    "y_updated = False"
   ]
  },
  {
   "cell_type": "markdown",
   "metadata": {},
   "source": [
    "## Basis evaluation"
   ]
  },
  {
   "cell_type": "code",
   "execution_count": 9,
   "metadata": {},
   "outputs": [],
   "source": [
    "def evaluate_basis(basis=None):\n",
    "    \n",
    "    # Optimization\n",
    "    if basis is None:\n",
    "        basis = morpher.optimize_basis()\n",
    "\n",
    "    # Evaluate basis\n",
    "    squared_weights = []\n",
    "\n",
    "    for theta in theta_evaluation:\n",
    "        wi = morpher.calculate_morphing_weights(theta, basis)\n",
    "        squared_weights.append(np.sum(wi*wi)**0.5)\n",
    "\n",
    "    squared_weights = np.array(squared_weights).reshape((n_resolution,n_resolution))\n",
    "    \n",
    "    return basis, squared_weights"
   ]
  },
  {
   "cell_type": "markdown",
   "metadata": {},
   "source": [
    "## Initial set up"
   ]
  },
  {
   "cell_type": "code",
   "execution_count": 10,
   "metadata": {},
   "outputs": [],
   "source": [
    "basis, squared_weights = evaluate_basis(None)"
   ]
  },
  {
   "cell_type": "markdown",
   "metadata": {},
   "source": [
    "## Interactive tool"
   ]
  },
  {
   "cell_type": "code",
   "execution_count": 11,
   "metadata": {},
   "outputs": [],
   "source": [
    "def update(change):\n",
    "    global basis, squared_weights, x_updated, y_updated\n",
    "    \n",
    "    variable = change['name']\n",
    "    values = change['new']\n",
    "    \n",
    "    if variable == 'x':\n",
    "        basis[:,0] = values\n",
    "        x_updated = True\n",
    "    elif variable == 'y':\n",
    "        basis[:,1] = values\n",
    "        y_updated = True\n",
    "    \n",
    "    if x_updated and y_updated:\n",
    "        basis, squared_weights = evaluate_basis(basis)\n",
    "        heat.color = np.log(squared_weights) / np.log(10)\n",
    "        \n",
    "        x_updated = False\n",
    "        y_updated = False"
   ]
  },
  {
   "cell_type": "code",
   "execution_count": 12,
   "metadata": {},
   "outputs": [
    {
     "data": {
      "application/vnd.jupyter.widget-view+json": {
       "model_id": "3c8688fb28f4474eb2ae562bc0979344",
       "version_major": 2,
       "version_minor": 0
      },
      "text/html": [
       "<p>Failed to display Jupyter Widget of type <code>Figure</code>.</p>\n",
       "<p>\n",
       "  If you're reading this message in the Jupyter Notebook or JupyterLab Notebook, it may mean\n",
       "  that the widgets JavaScript is still loading. If this message persists, it\n",
       "  likely means that the widgets JavaScript library is either not installed or\n",
       "  not enabled. See the <a href=\"https://ipywidgets.readthedocs.io/en/stable/user_install.html\">Jupyter\n",
       "  Widgets Documentation</a> for setup instructions.\n",
       "</p>\n",
       "<p>\n",
       "  If you're reading this message in another frontend (for example, a static\n",
       "  rendering on GitHub or <a href=\"https://nbviewer.jupyter.org/\">NBViewer</a>),\n",
       "  it may mean that your frontend doesn't currently support widgets.\n",
       "</p>\n"
      ],
      "text/plain": [
       "Figure(axes=[Axis(label='fW', scale=LinearScale(max=1.0, min=-1.0)), Axis(label='fWW', orientation='vertical', scale=LinearScale(max=1.0, min=-1.0)), ColorAxis(orientation='vertical', scale=ColorScale(max=1.0, min=0.0, scheme='YlOrRd'), side='right')], fig_margin={'top': 60, 'bottom': 60, 'left': 60, 'right': 60}, layout=Layout(height='600px', width='600px'), marks=[GridHeatMap(anchor_style={'fill': 'white', 'stroke': 'blue'}, color=array([[0.96120909, 0.89275527, 0.82499474, ..., 0.8310699 , 0.95437254,\n",
       "        1.06175556],\n",
       "       [0.88319434, 0.80220526, 0.71981497, ..., 0.8415523 , 0.96077921,\n",
       "        1.06516494],\n",
       "       [0.80513392, 0.70886348, 0.60694336, ..., 0.85101293, 0.96589743,\n",
       "        1.06726776],\n",
       "       ...,\n",
       "       [0.92667513, 0.86011781, 0.78953164, ..., 0.52093794, 0.65651751,\n",
       "        0.76888859],\n",
       "       [0.96874205, 0.90621987, 0.84022772, ..., 0.53754828, 0.68083714,\n",
       "        0.79682899],\n",
       "       [1.01194243, 0.95349885, 0.89215665, ..., 0.58088715, 0.71970658,\n",
       "        0.8334484 ]]), column=array([-1.        , -0.95918367, -0.91836735, -0.87755102, -0.83673469,\n",
       "       -0.79591837, -0.75510204, -0.71428571, -0.67346939, -0.63265306,\n",
       "       -0.59183673, -0.55102041, -0.51020408, -0.46938776, -0.42857143,\n",
       "       -0.3877551 , -0.34693878, -0.30612245, -0.26530612, -0.2244898 ,\n",
       "       -0.18367347, -0.14285714, -0.10204082, -0.06122449, -0.02040816,\n",
       "        0.02040816,  0.06122449,  0.10204082,  0.14285714,  0.18367347,\n",
       "        0.2244898 ,  0.26530612,  0.30612245,  0.34693878,  0.3877551 ,\n",
       "        0.42857143,  0.46938776,  0.51020408,  0.55102041,  0.59183673,\n",
       "        0.63265306,  0.67346939,  0.71428571,  0.75510204,  0.79591837,\n",
       "        0.83673469,  0.87755102,  0.91836735,  0.95918367,  1.        ]), interactions={'hover': 'tooltip'}, row=array([-1.        , -0.95918367, -0.91836735, -0.87755102, -0.83673469,\n",
       "       -0.79591837, -0.75510204, -0.71428571, -0.67346939, -0.63265306,\n",
       "       -0.59183673, -0.55102041, -0.51020408, -0.46938776, -0.42857143,\n",
       "       -0.3877551 , -0.34693878, -0.30612245, -0.26530612, -0.2244898 ,\n",
       "       -0.18367347, -0.14285714, -0.10204082, -0.06122449, -0.02040816,\n",
       "        0.02040816,  0.06122449,  0.10204082,  0.14285714,  0.18367347,\n",
       "        0.2244898 ,  0.26530612,  0.30612245,  0.34693878,  0.3877551 ,\n",
       "        0.42857143,  0.46938776,  0.51020408,  0.55102041,  0.59183673,\n",
       "        0.63265306,  0.67346939,  0.71428571,  0.75510204,  0.79591837,\n",
       "        0.83673469,  0.87755102,  0.91836735,  0.95918367,  1.        ]), scales={'row': LinearScale(max=1.0, min=-1.0), 'column': LinearScale(max=1.0, min=-1.0), 'color': ColorScale(max=1.0, min=0.0, scheme='YlOrRd')}, scales_metadata={'row': {'orientation': 'vertical', 'dimension': 'y'}, 'column': {'orientation': 'horizontal', 'dimension': 'x'}, 'color': {'dimension': 'color'}}, stroke=None, tooltip_style={'opacity': 0.9}), Scatter(colors=['black', 'black', 'black', 'black', 'black', 'black', 'black', 'black', 'black', 'black', 'black', 'black', 'black', 'black', 'black'], interactions={'hover': 'tooltip'}, scales={'x': LinearScale(max=1.0, min=-1.0), 'y': LinearScale(max=1.0, min=-1.0)}, scales_metadata={'x': {'orientation': 'horizontal', 'dimension': 'x'}, 'y': {'orientation': 'vertical', 'dimension': 'y'}, 'color': {'dimension': 'color'}, 'size': {'dimension': 'size'}, 'opacity': {'dimension': 'opacity'}, 'rotation': {'dimension': 'rotation'}, 'skew': {'dimension': 'skew'}}, tooltip_style={'opacity': 0.9}, x=array([ 0.71069718,  0.80982148, -0.1932977 , -0.6619245 , -0.09140018,\n",
       "        0.74135681,  0.52888422, -0.31066615, -0.71212251, -0.49854622,\n",
       "       -0.80929322,  0.96857938, -0.96649219,  0.6031917 , -0.61394061]), y=array([-0.40829165,  0.96815878, -0.94449413,  0.64921616, -0.44670249,\n",
       "       -0.94861982,  0.31913279, -0.46843599,  0.82051282, -0.06788623,\n",
       "       -0.84067687,  0.16583222,  0.17194895, -0.59589123,  0.91573899]))], scale_x=LinearScale(allow_padding=False, max=1.0, min=0.0), scale_y=LinearScale(allow_padding=False, max=1.0, min=0.0))"
      ]
     },
     "metadata": {},
     "output_type": "display_data"
    }
   ],
   "source": [
    "x_sc = bqplot.scales.LinearScale(min=-1., max=1.)\n",
    "y_sc = bqplot.scales.LinearScale(min=-1., max=1.)\n",
    "c_sc = bqplot.scales.ColorScale(min=0, max=1., scheme='YlOrRd')\n",
    "\n",
    "heat = bqplot.GridHeatMap(color=np.log(squared_weights) / np.log(10),\n",
    "                          scales={'row': x_sc, 'column': y_sc, 'color': c_sc},\n",
    "                          row=yi,\n",
    "                          column=xi,\n",
    "                          stroke=None)\n",
    "\n",
    "scatter = bqplot.Scatter(colors=['black']*len(basis[:,0]),\n",
    "                         x=basis[:,0],\n",
    "                         y=basis[:,1],\n",
    "                         scales={'x': x_sc, 'y': y_sc})\n",
    "\n",
    "ax_x = bqplot.Axis(scale=x_sc, label='fW')\n",
    "ax_y = bqplot.Axis(scale=y_sc, orientation='vertical', label='fWW')\n",
    "ax_c = bqplot.ColorAxis(scale=c_sc,\n",
    "                        orientation='vertical', \n",
    "                        side='right')\n",
    "\n",
    "fig = bqplot.Figure(marks=[heat, scatter],\n",
    "                    axes=[ax_x, ax_y, ax_c],\n",
    "                    layout=Layout(width='600px', height='600px'))\n",
    "\n",
    "display(fig)\n",
    "\n",
    "scatter.observe(update, ['y','x'])\n",
    "scatter.enable_move = True\n"
   ]
  },
  {
   "cell_type": "code",
   "execution_count": null,
   "metadata": {},
   "outputs": [],
   "source": []
  }
 ],
 "metadata": {
  "kernelspec": {
   "display_name": "Python 3",
   "language": "python",
   "name": "python3"
  },
  "language_info": {
   "codemirror_mode": {
    "name": "ipython",
    "version": 3
   },
   "file_extension": ".py",
   "mimetype": "text/x-python",
   "name": "python",
   "nbconvert_exporter": "python",
   "pygments_lexer": "ipython3",
   "version": "3.5.4"
  }
 },
 "nbformat": 4,
 "nbformat_minor": 2
}
