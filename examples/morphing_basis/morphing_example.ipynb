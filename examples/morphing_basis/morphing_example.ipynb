{
 "cells": [
  {
   "cell_type": "markdown",
   "metadata": {},
   "source": [
    "Morphing is a functionality implemented by madminer that allows for the fast and exact interpolation of event weights (or any derived quantity) from a set of original benchmark points (the “morphing basis”) to anywhere in theory parameter space. In this jupyter notebook, we will be focus on how to utilizing the morphing function of madminer."
   ]
  },
  {
   "cell_type": "code",
   "execution_count": 1,
   "metadata": {},
   "outputs": [],
   "source": [
    "# Preparation\n",
    "import numpy as np\n",
    "\n",
    "from madminer.utils import morphing as m"
   ]
  },
  {
   "cell_type": "markdown",
   "metadata": {},
   "source": [
    "The current morphing function can take in two different format of inputs. One format is setting basis points default as work for both and production and decay, with the basis points input shape of (n_basis_points, n_parameters); The other allow user to specify couplings groups of production (gp), decay(gd) and same (gs, work as both production and decay) separately, each with a shape of (n_parameters, n_basis_points). Both ways support overdetermine morphing, which allows user to input as many basis_points as possible for better results. Both methods should output the same matrix and weights values. "
   ]
  },
  {
   "cell_type": "markdown",
   "metadata": {},
   "source": [
    "First Input Format"
   ]
  },
  {
   "cell_type": "code",
   "execution_count": 2,
   "metadata": {},
   "outputs": [],
   "source": [
    "# Example of using the first input format that default couplings that work for both decay and production couplings.\n",
    "\n",
    "# First, we should create a new morpher object using the code below\n",
    "morpher_1 = m.PhysicsMorpher(parameter_max_power=[2, 2])\n",
    "\n",
    "# Components is the power of each parameter in the given coupling combination, for example, if the equation is gs_0^2 * gs_1^3, the components for this combination is [2,3]\n",
    "# if there's no known components, we can use the function find_components() to find the correspondig components based of the number of parameter of basis, which equals len(parameter_max_power)\n",
    "components = morpher_1.find_components()\n",
    "# print(\"Generated Components: \\n\", components)\n",
    "\n",
    "# if we have power of components in hand, we can use morpher.set_components() to set the nubmer of components\n",
    "this_components = np.array([[4, 0], [3, 1], [2, 2], [1, 3], [0, 4]])\n",
    "morpher_1.set_components(this_components)\n",
    "# print(\"Input Components:\\n\", morpher.components)\n",
    "\n",
    "# In this way, the morpher's component is set, then we can set basis, the morpher.set_basis() need to be called after the components is set\n",
    "# the morpher.set_basis will also call the calculate_morphing matrix method and the morphing matrix will be calculated.\n",
    "basis_numpy = np.array([[1, -5], [1, -4], [1, -3], [1, -2], [1, -1]])\n",
    "morpher_1.set_basis(basis_numpy=basis_numpy)\n",
    "# print(\"basis:\\n\", morpher.basis)\n",
    "\n",
    "# To this step, the prepartion works are done."
   ]
  },
  {
   "cell_type": "code",
   "execution_count": 3,
   "metadata": {},
   "outputs": [],
   "source": [
    "# calculate W_i and Neff/xsec with W_i = w_i*sigma_i and Neff = sum(W_i)\n",
    "def calculate_predict_xsec(xsec, morphing_weights):\n",
    "    index = len(morphing_weights)\n",
    "    if len(xsec) < index:\n",
    "        raise Exception(\"The number of xsec values is smaller than the number of morphing weights\")\n",
    "\n",
    "    # Get the corresponding xsec values for the morphing weights\n",
    "    this_xsec = xsec[:index]\n",
    "    W_i = np.multiply(this_xsec, morphing_weights, dtype=np.float32)\n",
    "    return sum(W_i)"
   ]
  },
  {
   "cell_type": "code",
   "execution_count": 4,
   "metadata": {},
   "outputs": [
    {
     "name": "stdout",
     "output_type": "stream",
     "text": [
      "n_base_5 predict xsec value: \n",
      " 0.41500043869018555\n",
      "simulated value: \n",
      " 0.328\n",
      "\n",
      "\n"
     ]
    }
   ],
   "source": [
    "# Then we can calculate the morphing matrix and corresponding weights with the information we input above.\n",
    "morphing_1_matrix = morpher_1.calculate_morphing_matrix()\n",
    "# print(\"Morphing matrix: \\n\", morphing_matrix)\n",
    "\n",
    "# in the parameter input we had input basis points such from (1,-5) to (1,-1), if we want to predict the point theta = [1,1], and the known xsec is listed below\n",
    "# The coressponding xsec for the above basis points are xsec_simulated[0:5], and we are predicting the value of xsec_simulatd[6]\n",
    "xsec_simulated = np.array([0.759, 0.53, 0.4, 0.335, 0.316, 0.316, 0.328, 0.34, 0.354, 0.364])\n",
    "morphing_1_weights = morpher_1.calculate_morphing_weights(theta=[1, 1])\n",
    "# print(\"Morphing matrix weights: \\n\", morphing_weights)\n",
    "\n",
    "n_base_5 = calculate_predict_xsec(morphing_weights=morphing_1_weights, xsec=xsec_simulated)\n",
    "print(\"n_base_5 predict xsec value: \\n\", n_base_5)\n",
    "print(\"simulated value: \\n\", xsec_simulated[6])\n",
    "print(\"\\n\")\n",
    "\n",
    "# We can see and compare the predict value with the simulated values."
   ]
  },
  {
   "cell_type": "markdown",
   "metadata": {},
   "source": [
    "Second Input Fromat\n",
    "\n",
    "The second input format allows you to specify basis from different couplings separately, which allows user to specify couplings groups of production (gp), decay(gd) and same (gs, work as both production and decay) separately, each with a shape of (n_parameters, n_basis_points). In addition, the second input format supports overdetermined morphing, which allows you to input more basis points than minimun requirement for better accruacy. "
   ]
  },
  {
   "cell_type": "code",
   "execution_count": 5,
   "metadata": {},
   "outputs": [],
   "source": [
    "# Example of the second input format that allows user to specify different coupling groups.\n",
    "# We will show the overdetermined functionality and compare with the previous result first.\n",
    "\n",
    "# First, we should create a new morpher object using the code below\n",
    "morpher_2 = m.PhysicsMorpher(parameter_max_power=[2, 2])\n",
    "\n",
    "# We set the componet value the same as previous\n",
    "this_components = np.array([[4, 0], [3, 1], [2, 2], [1, 3], [0, 4]])\n",
    "morpher_2.set_components(this_components)\n",
    "\n",
    "# gs means the couplings that work for both production and decay.\n",
    "# Please note that the input format of the each coupling group is the transpose of the previous format\n",
    "# In this case, the gs will have six basis points instead of the previous 5\n",
    "gs = np.array([[1, 1, 1, 1, 1, 1], [-5, -4, -3, -2, -1, 0]])\n",
    "\n",
    "# We set the basis value of the morpher\n",
    "morpher_2.set_basis(basis_d=None, basis_p=None, basis_s=gs)\n",
    "\n",
    "# To this step, the prepartion works are done."
   ]
  },
  {
   "cell_type": "code",
   "execution_count": 6,
   "metadata": {},
   "outputs": [
    {
     "name": "stdout",
     "output_type": "stream",
     "text": [
      "simulated value: 0.328\n",
      "regular predict value 0.41500043869018555\n",
      "overdetermined predict value: 0.3191666603088379\n"
     ]
    }
   ],
   "source": [
    "# The other functions are the is the same as the previous example\n",
    "# We can get the morphing functions, weights, and xsec values\n",
    "morpher_2_matrix = morpher_2.calculate_morphing_matrix()\n",
    "\n",
    "# We input the same theta value as the previous example\n",
    "morpher_2_weight = morpher_2.calculate_morphing_weights(theta=[1, 1])\n",
    "\n",
    "# calculate the predict value of point [1,1] with six basis points\n",
    "n_base_6 = calculate_predict_xsec(morphing_weights=morpher_2_weight, xsec=xsec_simulated)\n",
    "\n",
    "# We compare the results of the regular and overdetermined morphing with simulated value\n",
    "\n",
    "print(\"simulated value:\", xsec_simulated[6])\n",
    "print(\"regular predict value\", n_base_5)\n",
    "print(\"overdetermined predict value:\", n_base_6)\n",
    "\n",
    "# We can see with only one additional basis point, the predict value is much more close to the simulated value"
   ]
  },
  {
   "cell_type": "markdown",
   "metadata": {},
   "source": [
    "Below is a table showing the results with different number of basis points(5/7) of the example above. We can see that the more points and the corresponding points are provided, the better prediction results we will get from the morphing. \n",
    "\n"
   ]
  },
  {
   "cell_type": "code",
   "execution_count": 7,
   "metadata": {},
   "outputs": [
    {
     "name": "stdout",
     "output_type": "stream",
     "text": [
      "\n"
     ]
    }
   ],
   "source": [
    "\"\"\"\n",
    "+----+-----------+---------------------+---------------------+\n",
    "| g2 | simulated |      n_base = 5     |      n_base = 7     |\n",
    "+----+-----------+---------------------+---------------------+\n",
    "| -5 |   0.759   |  0.7590000033377339 |  0.7590043565724045 |\n",
    "| -4 |    0.53   |  0.5299999713898771 |  0.5300930421799421 |\n",
    "| -3 |    0.4    | 0.40000000596042407 | 0.39946969877928495 |\n",
    "| -2 |   0.335   | 0.33500000834464144 |  0.3361039091832936 |\n",
    "| -1 |   0.316   |  0.3160000145435327 | 0.31487447768449783 |\n",
    "| 0  |   0.316   | 0.33900004625320435 |  0.3165692798793316 |\n",
    "| 1  |   0.328   | 0.41500043869018555 | 0.32788529992103577 |\n",
    "| 2  |    0.34   |  0.5700044631958008 | 0.34142857789993286 |\n",
    "| 3  |   0.354   |  0.8450050354003906 | 0.35571449995040894 |\n",
    "| 4  |   0.364   |  1.2960090637207031 |  0.3751673698425293 |\n",
    "| 5  |   0.376   |  1.9940032958984375 |  0.4101197123527527 |\n",
    "| 7  |   0.4205  |   4.49005126953125  |  0.5974075496196747 |\n",
    "| 9  |   0.5347  |  9.201080322265625  |  1.1184179782867432 |\n",
    "| 11 |   0.7822  |  17.23541259765625  |  2.2685461044311523 |\n",
    "| 13 |   1.244   |  29.94012451171875  |  4.4378204345703125 |\n",
    "+----+-----------+---------------------+---------------------+\n",
    "\"\"\"\n",
    "print()"
   ]
  },
  {
   "cell_type": "markdown",
   "metadata": {},
   "source": [
    "Specifying different coupling groups independently. \n",
    "\n",
    "We mentioned that the second format allows user to specify different coupling groups separately, which allow user to do morphing with more specified basis points selectoins.\n",
    "Below is an example using this functinality. "
   ]
  },
  {
   "cell_type": "code",
   "execution_count": 8,
   "metadata": {},
   "outputs": [
    {
     "data": {
      "text/plain": [
       "array([[ 4.00015344e+00,  1.73472348e-18, -8.67361738e-19,\n",
       "         1.73472348e-18,  2.16840434e-19, -4.33680869e-19],\n",
       "       [ 1.11022302e-16,  3.33346120e-01,  2.21710443e-17,\n",
       "         1.93280886e-19, -3.33346120e-01, -8.01533606e-17],\n",
       "       [-1.14491749e-16, -4.48656738e-17,  3.33346120e-01,\n",
       "         1.44208707e-18, -4.12791158e-17, -3.33346120e-01],\n",
       "       [-1.11115373e-01,  5.55576867e-02,  4.15495976e-16,\n",
       "        -3.33916403e-17,  5.55576867e-02, -3.60505754e-16],\n",
       "       [ 1.11115373e-01, -1.11115373e-01, -1.11115373e-01,\n",
       "         1.11115373e-01, -8.24196939e-17, -5.41626748e-17],\n",
       "       [-1.11115373e-01, -3.26528840e-16,  5.55576867e-02,\n",
       "        -3.78513043e-18,  3.79226289e-16,  5.55576867e-02]])"
      ]
     },
     "execution_count": 8,
     "metadata": {},
     "output_type": "execute_result"
    }
   ],
   "source": [
    "# Suppose we want to set basis with 1 decay coupling and 3 production couplings\n",
    "\n",
    "# In the order of gd, gp, gc, the code will determine the number of each coupling parameter based on gd, gp, gc...\n",
    "n_d = 3\n",
    "n_p = 1\n",
    "n_s = 0\n",
    "\n",
    "# specify gd, gp, gc separately\n",
    "gd = np.array(\n",
    "    [\n",
    "        [0.7071, 0.7071, 0.7071, 0.7071, 0.7071, 0.7071],\n",
    "        [0, 4.2426, 0, 4.2426, -4.2426, 0],\n",
    "        [0, 0, 4.2426, 4.2426, 0, -4.2426],\n",
    "    ]\n",
    ")\n",
    "gp = np.array([[0.7071, 0.7071, 0.7071, 0.7071, 0.7071, 0.7071]])\n",
    "gs = None  # np.array([[1,1,1,1,1], [-5, -4, -3, -2, -1]])\n",
    "\n",
    "# The known xsec values, we can use the first six for inputs and the rest for validating results\n",
    "simulate_xsec = np.array(\n",
    "    [0.515, 0.732, 0.527, 0.742, 0.354, 0.527, 0.364, 0.742, 0.364, 0.621, 0.432, 0.621, 0.432]\n",
    ")\n",
    "\n",
    "# We create a new morpher object\n",
    "morpher_3 = m.PhysicsMorpher(parameter_max_power=[4, 4])\n",
    "\n",
    "# Please note that we can also set the BSM_max_power in find_components in this input format, which we will disregard the component powers that exceed the limit.\n",
    "# BSM couplings are couplings that are not gd_0, gp_0, gs_0.\n",
    "# In this case as Nd = 1, Np=3, components[0] is gd_0, and components[1] is gp_1, this will eliminate the groups that the rest values exceed 1\n",
    "components_pmax = morpher_3.find_components(Nd=n_d, Np=n_p, Ns=n_s, BSM_max_power=1)\n",
    "# print(\"Components with BSM max power restriction: \", components_pmax)\n",
    "\n",
    "# For this example we will not set the BSM_max limit, you can check and compare the difference with the print statement below.\n",
    "components = morpher_3.find_components(Nd=n_d, Np=n_p, Ns=n_s)\n",
    "# print(\"Non pmax components\", components)\n",
    "\n",
    "# We set the basis and calculate the matrix\n",
    "# We set the known first six basis points as the inputs(gd and gp)\n",
    "morpher_3.set_basis(basis_d=gd, basis_p=gp, basis_s=gs)\n",
    "morpher_3.calculate_morphing_matrix()\n",
    "\n",
    "# The prepartion steps are done"
   ]
  },
  {
   "cell_type": "code",
   "execution_count": 9,
   "metadata": {},
   "outputs": [
    {
     "name": "stdout",
     "output_type": "stream",
     "text": [
      "Predict xsec value:  0.4310000017285347\n",
      "Simulated xsec value 0.432\n"
     ]
    }
   ],
   "source": [
    "# Then we calculate the morphing weights, we can use to predict the last known xsec value\n",
    "# We input the basis points positions we want to calculate the xsec_value, which for the last known xsec value is input as below\n",
    "# theta_d = [d_0, d_1, d_2], theta_p = [p_0]\n",
    "morpher_3_weights = morpher_3.calculate_morphing_weights(\n",
    "    theta_d=[0.7071, -3 * 0.7071, 3 * 0.7071], theta_p=[0.7071]\n",
    ")\n",
    "\n",
    "morpher_3_predicted_xsec = calculate_predict_xsec(\n",
    "    xsec=simulate_xsec, morphing_weights=morpher_3_weights\n",
    ")\n",
    "\n",
    "# The expected xsec value is the the last one in simulated_xsec, which is the 13th input we have\n",
    "expected_xsec_value = simulate_xsec[-1]\n",
    "\n",
    "print(\"Predict xsec value: \", morpher_3_predicted_xsec)\n",
    "print(\"Simulated xsec value\", expected_xsec_value)"
   ]
  },
  {
   "cell_type": "markdown",
   "metadata": {},
   "source": [
    "We can see that we are able to predict the xsec value that is very close to the actual simulated xsec values. Remember, we only used the first the six xsec values and points to predict the 13th xsec value. As mentioned earlier, we supports overdetermined morphing and can always input more known basis points and corresponding xsec values to get better results. "
   ]
  }
 ],
 "metadata": {
  "kernelspec": {
   "display_name": "Python 3.9.13 64-bit (windows store)",
   "language": "python",
   "name": "python3"
  },
  "language_info": {
   "codemirror_mode": {
    "name": "ipython",
    "version": 3
   },
   "file_extension": ".py",
   "mimetype": "text/x-python",
   "name": "python",
   "nbconvert_exporter": "python",
   "pygments_lexer": "ipython3",
   "version": "3.9.13"
  },
  "orig_nbformat": 4,
  "vscode": {
   "interpreter": {
    "hash": "9a1da12185d51e4d5570d6e74c8b7d9786f97c8d6ef8e0db2e857cb13c3f0575"
   }
  }
 },
 "nbformat": 4,
 "nbformat_minor": 2
}
