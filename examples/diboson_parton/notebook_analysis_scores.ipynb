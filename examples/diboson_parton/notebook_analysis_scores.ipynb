{
 "cells": [
  {
   "cell_type": "markdown",
   "metadata": {},
   "source": [
    "# MadMiner Parton-Level Analysis for $W\\gamma$: Step 2 - Analysis"
   ]
  },
  {
   "cell_type": "markdown",
   "metadata": {},
   "source": [
    "Johann Brehmer, Felix Kling, Kyle Cranmer 2018\n",
    "\n",
    "In this tutorial we'll demonstrate how to use MadMiner to generate train and test samples for the Information Geometry methods introduced in the following papers:\n",
    "- J. Brehmer, K. Cranmer, F. Kling, T. Plehn: [\"Better Higgs Measurements Through Information Geometry\"](https://arxiv.org/abs/1612.05261)\n",
    "- J. Brehmer, F. Kling, T. Plehn, T.M.P. Tait: [\"Better Higgs-CP Tests Through Information Geometry\"](https://arxiv.org/abs/1712.02350)"
   ]
  },
  {
   "cell_type": "markdown",
   "metadata": {},
   "source": [
    "## 0. Preparations"
   ]
  },
  {
   "cell_type": "code",
   "execution_count": 1,
   "metadata": {},
   "outputs": [],
   "source": [
    "import sys\n",
    "import os\n",
    "madminer_src_path = \"/Users/felixkling/Documents/GitHub/madminer\"\n",
    "sys.path.append(madminer_src_path)\n",
    "\n",
    "from __future__ import absolute_import, division, print_function, unicode_literals\n",
    "\n",
    "import numpy as np\n",
    "import math\n",
    "import matplotlib\n",
    "from matplotlib import pyplot as plt\n",
    "from scipy.optimize import curve_fit\n",
    "% matplotlib inline\n",
    "\n",
    "from madminer.fisherinformation import FisherInformation\n",
    "from madminer.fisherinformation import project_information,profile_information\n",
    "\n",
    "from madminer.plotting import plot_fisher_information_contours_2d\n",
    "from madminer.plotting import plot_fisherinfo_barplot\n",
    "from madminer.plotting import kinematic_distribution_of_information\n",
    "\n",
    "from madminer.sampling import SampleAugmenter\n",
    "from madminer.sampling import constant_benchmark_theta, multiple_benchmark_thetas\n",
    "from madminer.sampling import constant_morphing_theta, multiple_morphing_thetas, random_morphing_thetas\n",
    "from madminer.ml import MLForge, EnsembleForge\n"
   ]
  },
  {
   "cell_type": "markdown",
   "metadata": {},
   "source": [
    "## Define Input File sample"
   ]
  },
  {
   "cell_type": "code",
   "execution_count": 2,
   "metadata": {},
   "outputs": [],
   "source": [
    "usenamein='100k'\n",
    "usenameout='scoretest'\n",
    "nsamples=50000\n",
    "\n",
    "useinputdata = 'data/madminer_wgamma_observables_'+usenamein+'.h5'\n",
    "usesamplesdir = 'data/samples_'+usenameout+'/'\n",
    "usemodelsdir = 'models/samples_'+usenameout+'/'"
   ]
  },
  {
   "cell_type": "markdown",
   "metadata": {},
   "source": [
    "## 6. Make (unweighted) training and test samples with augmented data"
   ]
  },
  {
   "cell_type": "code",
   "execution_count": 3,
   "metadata": {},
   "outputs": [
    {
     "name": "stderr",
     "output_type": "stream",
     "text": [
      "16:36  \n",
      "16:36  ------------------------------------------------------------\n",
      "16:36  |                                                          |\n",
      "16:36  |  MadMiner v2018.11.02                                    |\n",
      "16:36  |                                                          |\n",
      "16:36  |           Johann Brehmer, Kyle Cranmer, and Felix Kling  |\n",
      "16:36  |                                                          |\n",
      "16:36  ------------------------------------------------------------\n",
      "16:36  \n",
      "16:36  Loading data from data/madminer_wgamma_observables_100k.h5\n",
      "16:36  Found 2 parameters:\n",
      "16:36     CWL2 (LHA: dim6 2, maximal power in squared ME: (2,), range: (-50.0, 50.0))\n",
      "16:36     CPWL2 (LHA: dim6 5, maximal power in squared ME: (2,), range: (-50.0, 50.0))\n",
      "16:36  Found 6 benchmarks:\n",
      "16:36     sm: CWL2 = 0.00e+00, CPWL2 = 0.00e+00\n",
      "16:36     w: CWL2 = 20.00, CPWL2 = 0.00e+00\n",
      "16:36     morphing_basis_vector_2: CWL2 = -4.72e+01, CPWL2 = 23.25\n",
      "16:36     morphing_basis_vector_3: CWL2 = 18.64, CPWL2 = 32.06\n",
      "16:36     morphing_basis_vector_4: CWL2 = 11.41, CPWL2 = -3.26e+01\n",
      "16:36     morphing_basis_vector_5: CWL2 = -4.05e+01, CPWL2 = -3.67e+01\n",
      "16:36  Found 23 observables: px_l, px_v, px_a, py_l, py_v, py_a, pz_l, pz_v, pz_a, e_l, e_v, e_a, pt_l, pt_v, pt_a, eta_l, eta_v, eta_a, dphi_lv, dphi_la, dphi_va, m_lv, m_lva\n",
      "16:36  Found 100000 events\n",
      "16:36  Found morphing setup with 6 components\n",
      "16:36  Extracting training sample for local score regression. Sampling and score evaluation according to (u'benchmark', u'sm')\n",
      "16:36  Effective number of samples: 99999.99999977187\n",
      "16:36  Extracting evaluation sample. Sampling according to (u'benchmark', u'sm')\n",
      "16:36  Effective number of samples: 99999.99999977187\n"
     ]
    }
   ],
   "source": [
    "#create sample augmenter\n",
    "sa = SampleAugmenter(useinputdata, debug=False)\n",
    "\n",
    "#augment train sample\n",
    "x, theta, t_xz = sa.extract_samples_train_local(\n",
    "    theta=constant_benchmark_theta('sm'),\n",
    "    n_samples=nsamples,\n",
    "    folder='./'+usesamplesdir,\n",
    "    filename='train',\n",
    "    test_split=None\n",
    ")\n",
    "    \n",
    "\n",
    "#augment test sample\n",
    "x, theta = sa.extract_samples_test(\n",
    "    theta=constant_benchmark_theta('sm'),\n",
    "    n_samples=nsamples,\n",
    "    folder='./'+usesamplesdir,\n",
    "    filename='test',\n",
    "    test_split=None\n",
    ")"
   ]
  },
  {
   "cell_type": "markdown",
   "metadata": {},
   "source": [
    "## 7. Train a neural network to estimate the score"
   ]
  },
  {
   "cell_type": "markdown",
   "metadata": {},
   "source": [
    "### 7a) Change Features"
   ]
  },
  {
   "cell_type": "code",
   "execution_count": 4,
   "metadata": {},
   "outputs": [
    {
     "name": "stderr",
     "output_type": "stream",
     "text": [
      "16:36  Starting training\n",
      "16:36    Method:                 sally\n",
      "16:36    Training data: x at data/samples_scoretest/x_train.npy\n",
      "16:36                   t_xz (theta0) at  data/samples_scoretest/t_xz_train.npy\n",
      "16:36    Features:               all\n",
      "16:36    Method:                 sally\n",
      "16:36    Hidden layers:          (100, 100)\n",
      "16:36    Activation function:    tanh\n",
      "16:36    Batch size:             128\n",
      "16:36    Trainer:                sgd\n",
      "16:36    Epochs:                 50\n",
      "16:36    Learning rate:          0.1 initially, decaying to 0.01\n",
      "16:36    Nesterov momentum:      0.9\n",
      "16:36    Validation split:       0.25\n",
      "16:36    Early stopping:         True\n",
      "16:36    Scale inputs:           True\n",
      "16:36  Loading training data\n",
      "16:36  Found 50000 samples with 2 parameters and 23 observables\n",
      "16:36  Rescaling inputs\n",
      "16:36  Creating model for method sally\n",
      "16:36  Training model\n",
      "16:36    Epoch 5: train loss 0.00 ([0.00227063]), validation loss 0.00 ([0.00264255])\n",
      "16:36    Epoch 10: train loss 0.00 ([0.00220049]), validation loss 0.00 ([0.00254882]) (*)\n",
      "16:36    Epoch 15: train loss 0.00 ([0.00215546]), validation loss 0.00 ([0.00252193]) (*)\n",
      "16:36    Epoch 20: train loss 0.00 ([0.00212795]), validation loss 0.00 ([0.0025003])\n",
      "16:36    Epoch 25: train loss 0.00 ([0.00211064]), validation loss 0.00 ([0.0024804])\n",
      "16:36    Epoch 30: train loss 0.00 ([0.00209415]), validation loss 0.00 ([0.00246552]) (*)\n",
      "16:36    Epoch 35: train loss 0.00 ([0.00208378]), validation loss 0.00 ([0.00245204]) (*)\n",
      "16:37    Epoch 40: train loss 0.00 ([0.00207366]), validation loss 0.00 ([0.00244868])\n",
      "16:37    Epoch 45: train loss 0.00 ([0.00206495]), validation loss 0.00 ([0.0024439])\n",
      "16:37    Epoch 50: train loss 0.00 ([0.00205984]), validation loss 0.00 ([0.00244649])\n",
      "16:37  Early stopping after epoch 44, with loss 0.00 compared to final loss 0.00\n",
      "16:37  Finished training\n"
     ]
    }
   ],
   "source": [
    "#NN Settings\n",
    "n_hidden = (100,100)\n",
    "n_epochs = 50\n",
    "batch_size = 128\n",
    "initial_lr=0.001\n",
    "final_lr=0.0001\n",
    "\n",
    "#Run NN\n",
    "forge = MLForge()\n",
    "forge.train(\n",
    "    method='sally',\n",
    "    x_filename=usesamplesdir+'x_train.npy',\n",
    "    t_xz0_filename=usesamplesdir+'t_xz_train.npy' ,\n",
    "    n_epochs=n_epochs,\n",
    "    batch_size=batch_size,\n",
    "    validation_split=None,\n",
    "    n_hidden=n_hidden,\n",
    "    initial_lr=initial_lr,\n",
    "    final_lr=final_lr    \n",
    ")\n",
    "\n",
    "#save ensemble\n",
    "forge.save(usemodelsdir+'sally_test')"
   ]
  },
  {
   "cell_type": "markdown",
   "metadata": {},
   "source": [
    "## 8. FisherInfo for Processed Data"
   ]
  },
  {
   "cell_type": "code",
   "execution_count": 5,
   "metadata": {},
   "outputs": [
    {
     "name": "stderr",
     "output_type": "stream",
     "text": [
      "16:37  Loading data from data/madminer_wgamma_observables_100k.h5\n",
      "16:37  Found 2 parameters:\n",
      "16:37     CWL2 (LHA: dim6 2, maximal power in squared ME: (2,), range: (-50.0, 50.0))\n",
      "16:37     CPWL2 (LHA: dim6 5, maximal power in squared ME: (2,), range: (-50.0, 50.0))\n",
      "16:37  Found 6 benchmarks:\n",
      "16:37     sm: CWL2 = 0.00e+00, CPWL2 = 0.00e+00\n",
      "16:37     w: CWL2 = 20.00, CPWL2 = 0.00e+00\n",
      "16:37     morphing_basis_vector_2: CWL2 = -4.72e+01, CPWL2 = 23.25\n",
      "16:37     morphing_basis_vector_3: CWL2 = 18.64, CPWL2 = 32.06\n",
      "16:37     morphing_basis_vector_4: CWL2 = 11.41, CPWL2 = -3.26e+01\n",
      "16:37     morphing_basis_vector_5: CWL2 = -4.05e+01, CPWL2 = -3.67e+01\n",
      "16:37  Found 23 observables: px_l, px_v, px_a, py_l, py_v, py_a, pz_l, pz_v, pz_a, e_l, e_v, e_a, pt_l, pt_v, pt_a, eta_l, eta_v, eta_a, dphi_lv, dphi_la, dphi_va, m_lv, m_lva\n",
      "16:37  Found 100000 events\n",
      "16:37  Found morphing setup with 6 components\n",
      "16:37  Expected score (should be close to zero): [ 3.5746187e-05 -2.1098780e-03]\n"
     ]
    },
    {
     "data": {
      "image/png": "[encoded data removed]",
      "text/plain": [
       "<matplotlib.figure.Figure at 0x104e0a710>"
      ]
     },
     "metadata": {},
     "output_type": "display_data"
    }
   ],
   "source": [
    "#Setup MadFisher\n",
    "fisher = FisherInformation(useinputdata, debug=False)\n",
    "\n",
    "#Run MadFisher\n",
    "fi_det_mean_all  = fisher.calculate_fisher_information_full_detector(\n",
    "    theta=[0.,0.], luminosity=300*1000.,\n",
    "    model_file=usemodelsdir+'sally_test',\n",
    "    unweighted_x_sample_file=usesamplesdir+'x_test.npy'\n",
    ")\n",
    "\n",
    "#Run MadFisher Truth\n",
    "fi_pl_mean_full , fi_pl_err_full= fisher.calculate_fisher_information_full_truth(theta=[0.,0.],luminosity=300*1000.)\n",
    "\n",
    "#Plot FisherInfo\n",
    "fignn = plot_fisher_information_contours_2d(\n",
    "    [fi_det_mean_all,fi_pl_mean_full],\n",
    "    [None           ,fi_pl_err_full ],\n",
    "    colors=[u'C0',\"black\"],\n",
    "    linestyles=[\"solid\",\"dashed\"],\n",
    "    inline_labels=[\"all\",\"truth\"],\n",
    "    xrange=(-10.,10.),\n",
    "    yrange=(-10.,10.)\n",
    ")"
   ]
  },
  {
   "cell_type": "markdown",
   "metadata": {},
   "source": [
    "## Histogram Scores"
   ]
  },
  {
   "cell_type": "code",
   "execution_count": 6,
   "metadata": {},
   "outputs": [],
   "source": [
    "#True score\n",
    "t0_truth=t_xz.T[0]\n",
    "t1_truth=t_xz.T[1]\n",
    "\n",
    "#ML score - train\n",
    "meanscore = forge.evaluate(usesamplesdir+'x_train.npy')\n",
    "t0_train=meanscore.T[0]\n",
    "t1_train=meanscore.T[1]\n",
    "\n",
    "#ML score - test\n",
    "meanscore = forge.evaluate(usesamplesdir+'x_test.npy')\n",
    "t0_test=meanscore.T[0]\n",
    "t1_test=meanscore.T[1]"
   ]
  },
  {
   "cell_type": "code",
   "execution_count": 7,
   "metadata": {},
   "outputs": [
    {
     "data": {
      "image/png": "[encoded data removed]",
      "text/plain": [
       "<matplotlib.figure.Figure at 0x10599f6d0>"
      ]
     },
     "metadata": {},
     "output_type": "display_data"
    }
   ],
   "source": [
    "#Settings\n",
    "myrange=(-.1,.1)\n",
    "mynbins=20\n",
    "\n",
    "#Figure\n",
    "f, (ax1, ax2) = plt.subplots(1, 2)\n",
    "f.set_size_inches(8,4)\n",
    "\n",
    "#t0\n",
    "ax1.set_xlabel('t0')\n",
    "ax1.hist(t0_truth, \n",
    "         range=myrange, bins=mynbins, normed=True,\n",
    "         histtype='step', color='Black', linestyle='solid', label='truth'\n",
    "        )\n",
    "ax1.hist(t0_train, \n",
    "         range=myrange, bins=mynbins, normed=True,\n",
    "         histtype='step', color='Red', linestyle='dotted',label='ML-train'\n",
    "        )\n",
    "ax1.hist(t0_test, \n",
    "         range=myrange, bins=mynbins, normed=True,\n",
    "         histtype='step', color='Blue', linestyle='dotted',label='ML-test'\n",
    "        )\n",
    "ax1.legend(bbox_to_anchor=(0.02, 0.98), loc=2, borderaxespad=0.)\n",
    "\n",
    "#t1\n",
    "ax2.set_xlabel('t1')\n",
    "ax2.hist(t1_truth, \n",
    "         range=myrange, bins=mynbins, normed=True,\n",
    "         histtype='step', color='Black', linestyle='solid'\n",
    "        )\n",
    "ax2.hist(t1_train, \n",
    "         range=myrange, bins=mynbins, normed=True,\n",
    "         histtype='step', color='Red', linestyle='dotted'\n",
    "        )\n",
    "ax2.hist(t1_test, \n",
    "         range=myrange, bins=mynbins, normed=True,\n",
    "         histtype='step', color='Blue', linestyle='dotted'\n",
    "        )\n",
    "\n",
    "#Plot\n",
    "plt.tight_layout()\n",
    "plt.show()"
   ]
  },
  {
   "cell_type": "markdown",
   "metadata": {},
   "source": [
    "## Scatter Plot Scores"
   ]
  },
  {
   "cell_type": "code",
   "execution_count": 8,
   "metadata": {},
   "outputs": [
    {
     "data": {
      "image/png": "[encoded data removed]",
      "text/plain": [
       "<matplotlib.figure.Figure at 0x105867c90>"
      ]
     },
     "metadata": {},
     "output_type": "display_data"
    }
   ],
   "source": [
    "#Figure\n",
    "f, (ax1, ax2) = plt.subplots(1,2)\n",
    "f.set_size_inches(9,4.5)\n",
    "\n",
    "ax1.hist2d(t0_truth, t0_train, bins=(40, 40), range=((-.1,.1),(-.1,.1)) ,cmap='Greys')\n",
    "ax1.set_xlabel('t0_truth')\n",
    "ax1.set_ylabel('t0_train')\n",
    "\n",
    "ax2.hist2d(t1_truth, t1_train, bins=(40, 40), range=((-.1,.1),(-.1,.1)) ,cmap='Greys')\n",
    "ax2.set_xlabel('t1_truth')\n",
    "ax2.set_ylabel('t1_train')\n",
    "\n",
    "#Plot\n",
    "plt.tight_layout()\n",
    "plt.show()"
   ]
  },
  {
   "cell_type": "code",
   "execution_count": null,
   "metadata": {},
   "outputs": [],
   "source": []
  }
 ],
 "metadata": {
  "kernelspec": {
   "display_name": "Python 2",
   "language": "python",
   "name": "python2"
  },
  "language_info": {
   "codemirror_mode": {
    "name": "ipython",
    "version": 2
   },
   "file_extension": ".py",
   "mimetype": "text/x-python",
   "name": "python",
   "nbconvert_exporter": "python",
   "pygments_lexer": "ipython2",
   "version": "2.7.15"
  }
 },
 "nbformat": 4,
 "nbformat_minor": 2
}
