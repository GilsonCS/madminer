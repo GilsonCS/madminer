{
 "cells": [
  {
   "cell_type": "markdown",
   "metadata": {},
   "source": [
    "# MadMiner Parton-Level Analysis for $W\\gamma$:  Generation"
   ]
  },
  {
   "cell_type": "markdown",
   "metadata": {},
   "source": [
    "Johann Brehmer, Felix Kling, Kyle Cranmer 2018\n",
    "\n",
    "In this tutorial we'll demonstrate how to use MadMiner to generate train and test samples for the Information Geometry methods introduced in the following papers:\n",
    "- J. Brehmer, K. Cranmer, F. Kling, T. Plehn: [\"Better Higgs Measurements Through Information Geometry\"](https://arxiv.org/abs/1612.05261)\n",
    "- J. Brehmer, F. Kling, T. Plehn, T.M.P. Tait: [\"Better Higgs-CP Tests Through Information Geometry\"](https://arxiv.org/abs/1712.02350)"
   ]
  },
  {
   "cell_type": "markdown",
   "metadata": {},
   "source": [
    "## 0. Preparations"
   ]
  },
  {
   "cell_type": "code",
   "execution_count": 1,
   "metadata": {},
   "outputs": [],
   "source": [
    "import sys\n",
    "import os\n",
    "madminer_src_path = \"/Users/felixkling/Documents/GitHub/madminer\"\n",
    "sys.path.append(madminer_src_path)\n",
    "\n",
    "from __future__ import absolute_import, division, print_function, unicode_literals\n",
    "import numpy as np\n",
    "import matplotlib\n",
    "from matplotlib import pyplot as plt\n",
    "from scipy.optimize import curve_fit\n",
    "% matplotlib inline\n",
    "from madminer.core import MadMiner\n",
    "from madminer.plotting import plot_2d_morphing_basis\n",
    "from madminer.sampling import combine_and_shuffle\n",
    "from madminer.lhe import LHEProcessor\n",
    "\n",
    "mg_dir = '/Users/felixkling/work/MG5_aMC_v2_6_2'\n",
    "\n",
    "process_tag= 'wgamma_1M'\n",
    "madminerfile_save='data/madminer_wgamma.h5'\n",
    "madminerfile_data='data/madminer_wgamma_observables_1M.h5'"
   ]
  },
  {
   "cell_type": "markdown",
   "metadata": {},
   "source": [
    "## 1. Define parameter space"
   ]
  },
  {
   "cell_type": "code",
   "execution_count": 2,
   "metadata": {},
   "outputs": [
    {
     "name": "stderr",
     "output_type": "stream",
     "text": [
      "17:19  \n",
      "17:19  ------------------------------------------------------------\n",
      "17:19  |                                                          |\n",
      "17:19  |  MadMiner v2018.11.06                                    |\n",
      "17:19  |                                                          |\n",
      "17:19  |           Johann Brehmer, Kyle Cranmer, and Felix Kling  |\n",
      "17:19  |                                                          |\n",
      "17:19  ------------------------------------------------------------\n",
      "17:19  \n",
      "17:19  Added parameter CWL2 (LHA: dim6 2, maximal power in squared ME: (2,), range: (-50.0, 50.0))\n",
      "17:19  Added parameter CPWL2 (LHA: dim6 5, maximal power in squared ME: (2,), range: (-50.0, 50.0))\n"
     ]
    }
   ],
   "source": [
    "miner = MadMiner()\n",
    "\n",
    "miner.add_parameter(\n",
    "    lha_block='dim6',\n",
    "    lha_id=2,\n",
    "    parameter_name='CWL2',\n",
    "    morphing_max_power=2,\n",
    "    parameter_range=(-50.,50.)\n",
    ")\n",
    "miner.add_parameter(\n",
    "    lha_block='dim6',\n",
    "    lha_id=5,\n",
    "    parameter_name='CPWL2',\n",
    "    morphing_max_power=2,\n",
    "    parameter_range=(-50.,50.)\n",
    ")"
   ]
  },
  {
   "cell_type": "markdown",
   "metadata": {},
   "source": [
    "## 2. Define benchmark points (evaluation points for |M|^2)"
   ]
  },
  {
   "cell_type": "code",
   "execution_count": 3,
   "metadata": {},
   "outputs": [
    {
     "name": "stderr",
     "output_type": "stream",
     "text": [
      "17:19  Added benchmark sm: CWL2 = 0.00e+00, CPWL2 = 0.00e+00)\n",
      "17:19  Added benchmark w: CWL2 = 20.00, CPWL2 = 0.00e+00)\n",
      "17:19  Optimizing basis for morphing\n",
      "17:19  Added benchmark sm: CWL2 = 0.00e+00, CPWL2 = 0.00e+00)\n",
      "17:19  Added benchmark w: CWL2 = 20.00, CPWL2 = 0.00e+00)\n",
      "17:19  Added benchmark morphing_basis_vector_2: CWL2 = -4.69e+01, CPWL2 = 27.54)\n",
      "17:19  Added benchmark morphing_basis_vector_3: CWL2 = 21.00, CPWL2 = 46.69)\n",
      "17:19  Added benchmark morphing_basis_vector_4: CWL2 = 32.29, CPWL2 = -4.64e+01)\n",
      "17:19  Added benchmark morphing_basis_vector_5: CWL2 = -3.43e+01, CPWL2 = -3.61e+01)\n"
     ]
    },
    {
     "data": {
      "image/png": "[encoded data removed]",
      "text/plain": [
       "<matplotlib.figure.Figure at 0x10e7a1d90>"
      ]
     },
     "metadata": {},
     "output_type": "display_data"
    }
   ],
   "source": [
    "# By Hand\n",
    "miner.add_benchmark(\n",
    "    {'CWL2':0., 'CPWL2':0.},\n",
    "    'sm'\n",
    ")\n",
    "miner.add_benchmark(\n",
    "    {'CWL2':20., 'CPWL2':0.},\n",
    "    'w'\n",
    ")\n",
    "\n",
    "# Fill the others automaticially\n",
    "miner.set_benchmarks_from_morphing(\n",
    "    keep_existing_benchmarks=True,\n",
    "    n_trials=1000,\n",
    "    max_overall_power=2\n",
    ")\n",
    "\n",
    "#plot\n",
    "fig = plot_2d_morphing_basis(\n",
    "    miner.morpher,\n",
    "    xlabel=r'$c_{W} / \\Lambda^2$ [TeV$^{-2}$]',\n",
    "    ylabel=r'$c_{\\tilde{W}} / \\Lambda^2$ [TeV$^{-2}$]',\n",
    "    xrange=(-60.,60),\n",
    "    yrange=(-60.,60.)\n",
    ")"
   ]
  },
  {
   "cell_type": "markdown",
   "metadata": {},
   "source": [
    "## 3. Save settings and run MadGraph"
   ]
  },
  {
   "cell_type": "code",
   "execution_count": 4,
   "metadata": {},
   "outputs": [
    {
     "name": "stderr",
     "output_type": "stream",
     "text": [
      "17:19  Saving setup (including morphing) to data/madminer_wgamma_xxx.h5\n",
      "17:19  Generating MadGraph process folder from cards/proc_card_wgamma.dat at ./mg_processes/wgamma_1M_xxx\n",
      "17:19  Run 0\n",
      "17:19    Sampling from benchmark: sm\n",
      "17:19    Original run card:       cards/run_card_wgamma.dat\n",
      "17:19    Original Pythia8 card:   cards/run_card_wgamma.dat\n",
      "17:19    Copied run card:         ./mg_processes/wgamma_1M_xxx/madminer/cards/run_card_0.dat\n",
      "17:19    Copied Pythia8 card:     None\n",
      "17:19    Param card:              ./mg_processes/wgamma_1M_xxx/madminer/cards/param_card_0.dat\n",
      "17:19    Reweight card:           ./mg_processes/wgamma_1M_xxx/madminer/cards/reweight_card_0.dat\n",
      "17:19    Log file:                logs/wgamma_1M_xxx/run_0.log\n",
      "17:19  Creating param and reweight cards in ./mg_processes/wgamma_1M_xxx/madminer/cards/param_card_0.dat, ./mg_processes/wgamma_1M_xxx/madminer/cards/reweight_card_0.dat\n",
      "17:19  Starting MadGraph and Pythia in ./mg_processes/wgamma_1M_xxx\n"
     ]
    }
   ],
   "source": [
    "# Setup HDF5 file\n",
    "miner.save(madminerfile_save)\n",
    "\n",
    "#Run MG\n",
    "miner.run(\n",
    "    sample_benchmark='sm',\n",
    "    mg_directory=mg_dir,\n",
    "    mg_process_directory='./mg_processes/'+process_tag,\n",
    "    proc_card_file='cards/proc_card_wgamma.dat',\n",
    "    param_card_template_file='cards/param_card_template.dat',\n",
    "    reweight_card_template_file='cards/reweight_card_template.dat',\n",
    "    run_card_file='cards/run_card_wgamma.dat',\n",
    "    log_directory='logs/'+process_tag,\n",
    "    initial_command='source ~/.bashrc'\n",
    ")\n"
   ]
  },
  {
   "cell_type": "markdown",
   "metadata": {},
   "source": [
    "## 4. Extract Parton Level Observables / Weights "
   ]
  },
  {
   "cell_type": "markdown",
   "metadata": {},
   "source": [
    "### 4a) Interesting High level Observables"
   ]
  },
  {
   "cell_type": "code",
   "execution_count": 5,
   "metadata": {},
   "outputs": [
    {
     "name": "stderr",
     "output_type": "stream",
     "text": [
      "18:57  Adding LHE sample at mg_processes/wgamma_1M_xxx/Events/run_01/unweighted_events.lhe.gz\n",
      "18:57  Adding (not required) observable px_l = p[0].px\n",
      "18:57  Adding (not required) observable px_v = p[1].px\n",
      "18:57  Adding (not required) observable px_a = p[2].px\n",
      "18:57  Adding (not required) observable py_l = p[0].py\n",
      "18:57  Adding (not required) observable py_v = p[1].py\n",
      "18:57  Adding (not required) observable py_a = p[2].py\n",
      "18:57  Adding (not required) observable pz_l = p[0].pz\n",
      "18:57  Adding (not required) observable pz_v = p[1].pz\n",
      "18:57  Adding (not required) observable pz_a = p[2].pz\n",
      "18:57  Adding (not required) observable e_l = p[0].e\n",
      "18:57  Adding (not required) observable e_v = p[1].e\n",
      "18:57  Adding (not required) observable e_a = p[2].e\n",
      "18:57  Adding (not required) observable pt_l = p[0].pt\n",
      "18:57  Adding (not required) observable pt_v = p[1].pt\n",
      "18:57  Adding (not required) observable pt_a = p[2].pt\n",
      "18:57  Adding (not required) observable eta_l = p[0].eta\n",
      "18:57  Adding (not required) observable eta_v = p[1].eta\n",
      "18:57  Adding (not required) observable eta_a = p[2].eta\n",
      "18:57  Adding (not required) observable dphi_lv = p[0].deltaphi(p[1])\n",
      "18:57  Adding (not required) observable dphi_la = p[0].deltaphi(p[2])\n",
      "18:57  Adding (not required) observable dphi_va = p[1].deltaphi(p[2])\n",
      "18:57  Adding (not required) observable m_lv = (p[0] + p[1]).m\n",
      "18:57  Adding (not required) observable m_lva = (p[0] + p[1] + p[2]).m\n",
      "18:57  Analysing LHE sample mg_processes/wgamma_1M_xxx/Events/run_01/unweighted_events.lhe.gz\n",
      "19:15  Loading HDF5 data from data/madminer_wgamma_xxx.h5 and saving file to data/madminer_wgamma_xxx_observables_1M.h5\n"
     ]
    }
   ],
   "source": [
    "#initiate\n",
    "lhep = LHEProcessor()\n",
    "lhep.add_lhe_sample('mg_processes/'+process_tag+'/Events/run_01/unweighted_events.lhe.gz',sampling_benchmark=\"sm\")\n",
    "lhep.read_benchmark_names(madminerfile_save)\n",
    "\n",
    "#define observables\n",
    "lhep.add_observable('px_l', 'p[0].px')\n",
    "lhep.add_observable('px_v', 'p[1].px')\n",
    "lhep.add_observable('px_a', 'p[2].px')\n",
    "\n",
    "lhep.add_observable('py_l', 'p[0].py')\n",
    "lhep.add_observable('py_v', 'p[1].py')\n",
    "lhep.add_observable('py_a', 'p[2].py')\n",
    "\n",
    "lhep.add_observable('pz_l', 'p[0].pz')\n",
    "lhep.add_observable('pz_v', 'p[1].pz')\n",
    "lhep.add_observable('pz_a', 'p[2].pz')\n",
    "\n",
    "lhep.add_observable('e_l', 'p[0].e')\n",
    "lhep.add_observable('e_v', 'p[1].e')\n",
    "lhep.add_observable('e_a', 'p[2].e')\n",
    "\n",
    "lhep.add_observable('pt_l', 'p[0].pt')\n",
    "lhep.add_observable('pt_v', 'p[1].pt')\n",
    "lhep.add_observable('pt_a', 'p[2].pt')\n",
    "\n",
    "lhep.add_observable('eta_l', 'p[0].eta')\n",
    "lhep.add_observable('eta_v', 'p[1].eta')\n",
    "lhep.add_observable('eta_a', 'p[2].eta')\n",
    "\n",
    "lhep.add_observable('dphi_lv', 'p[0].deltaphi(p[1])')\n",
    "lhep.add_observable('dphi_la', 'p[0].deltaphi(p[2])')\n",
    "lhep.add_observable('dphi_va', 'p[1].deltaphi(p[2])')\n",
    "\n",
    "lhep.add_observable('m_lv' , '(p[0] + p[1]).m')\n",
    "lhep.add_observable('m_lva', '(p[0] + p[1] + p[2]).m')\n",
    "\n",
    "#run\n",
    "lhep.analyse_lhe_samples()\n",
    "lhep.save(madminerfile_data, madminerfile_save)"
   ]
  },
  {
   "cell_type": "code",
   "execution_count": 6,
   "metadata": {},
   "outputs": [
    {
     "data": {
      "image/png": "[encoded data removed]",
      "text/plain": [
       "<matplotlib.figure.Figure at 0x10e9e84d0>"
      ]
     },
     "metadata": {},
     "output_type": "display_data"
    },
    {
     "data": {
      "image/png": "[encoded data removed]",
      "text/plain": [
       "<matplotlib.figure.Figure at 0x10f2ecf90>"
      ]
     },
     "metadata": {},
     "output_type": "display_data"
    },
    {
     "data": {
      "image/png": "[encoded data removed]",
      "text/plain": [
       "<matplotlib.figure.Figure at 0x10fa69750>"
      ]
     },
     "metadata": {},
     "output_type": "display_data"
    },
    {
     "data": {
      "image/png": "[encoded data removed]",
      "text/plain": [
       "<matplotlib.figure.Figure at 0x10eadd2d0>"
      ]
     },
     "metadata": {},
     "output_type": "display_data"
    }
   ],
   "source": [
    "mycolors=[\"black\",\"red\",\"orange\",\"yellow\",\"green\",\"blue\",\"purple\"]\n",
    "\n",
    "fig = plt.figure(figsize=(5,5))\n",
    "for i, weights in enumerate(lhep.weights):\n",
    "    plt.hist(lhep.observations['pt_v'], range=(0.,500.), bins=20, histtype='step', weights=weights,color=mycolors[i])\n",
    "plt.hist(lhep.observations['pt_v'], range=(0.,500.), bins=20, histtype='step', weights=lhep.weights[0],color=mycolors[0])\n",
    "plt.show()\n",
    "\n",
    "fig = plt.figure(figsize=(5,5))\n",
    "for i, weights in enumerate(lhep.weights):\n",
    "    plt.hist(lhep.observations['pt_a'], range=(0.,1000.), bins=20, histtype='step', weights=weights,color=mycolors[i])\n",
    "plt.hist(lhep.observations['pt_a'], range=(0.,1000.), bins=20, histtype='step', weights=lhep.weights[0],color=mycolors[0])\n",
    "plt.show()\n",
    "\n",
    "fig = plt.figure(figsize=(5,5))\n",
    "for i, weights in enumerate(lhep.weights):\n",
    "    plt.hist(lhep.observations['dphi_lv'], range=(-3.2,3.2), bins=20, histtype='step', weights=weights,color=mycolors[i])\n",
    "plt.hist(lhep.observations['dphi_lv'], range=(-3.2,3.2), bins=20, histtype='step', weights=lhep.weights[0],color=mycolors[0])\n",
    "plt.show()\n",
    "\n",
    "fig = plt.figure(figsize=(5,5))\n",
    "for i, weights in enumerate(lhep.weights):\n",
    "    plt.hist(lhep.observations['dphi_la'], range=(-3.2,3.2), bins=20, histtype='step', weights=weights,color=mycolors[i])\n",
    "plt.hist(lhep.observations['dphi_la'], range=(-3.2,3.2), bins=20, histtype='step', weights=lhep.weights[0],color=mycolors[0])\n",
    "plt.show()"
   ]
  },
  {
   "cell_type": "code",
   "execution_count": null,
   "metadata": {},
   "outputs": [],
   "source": []
  }
 ],
 "metadata": {
  "kernelspec": {
   "display_name": "Python 2",
   "language": "python",
   "name": "python2"
  },
  "language_info": {
   "codemirror_mode": {
    "name": "ipython",
    "version": 2
   },
   "file_extension": ".py",
   "mimetype": "text/x-python",
   "name": "python",
   "nbconvert_exporter": "python",
   "pygments_lexer": "ipython2",
   "version": "2.7.15"
  }
 },
 "nbformat": 4,
 "nbformat_minor": 2
}
