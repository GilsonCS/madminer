{
 "cells": [
  {
   "cell_type": "markdown",
   "metadata": {},
   "source": [
    "# MadMiner tutorial for Parton-Level Analysis"
   ]
  },
  {
   "cell_type": "markdown",
   "metadata": {},
   "source": [
    "Johann Brehmer, Felix Kling, Kyle Cranmer 2018\n",
    "\n",
    "In this tutorial we'll demonstrate how to use MadMiner to generate train and test samples for the Information Geometry methods introduced in the following papers:\n",
    "- J. Brehmer, K. Cranmer, F. Kling, T. Plehn: [\"Better Higgs Measurements Through Information Geometry\"](https://arxiv.org/abs/1612.05261)\n",
    "- J. Brehmer, F. Kling, T. Plehn, T.M.P. Tait: [\"Better Higgs-CP Tests Through Information Geometry\"](https://arxiv.org/abs/1712.02350)"
   ]
  },
  {
   "cell_type": "markdown",
   "metadata": {},
   "source": [
    "## 0. Preparations"
   ]
  },
  {
   "cell_type": "markdown",
   "metadata": {},
   "source": [
    "Before you execute this notebook, make sure you have running installations of MadGraph. In addition, MadMiner and LHEMiner have to be in your PYTHONPATH."
   ]
  },
  {
   "cell_type": "code",
   "execution_count": 1,
   "metadata": {},
   "outputs": [],
   "source": [
    "import sys\n",
    "import os\n",
    "madminer_src_path = \"/Users/felixkling/Documents/GitHub/madminer\"\n",
    "sys.path.append(madminer_src_path)"
   ]
  },
  {
   "cell_type": "code",
   "execution_count": 3,
   "metadata": {},
   "outputs": [],
   "source": [
    "from __future__ import absolute_import, division, print_function, unicode_literals\n",
    "\n",
    "import numpy as np\n",
    "import matplotlib\n",
    "from matplotlib import pyplot as plt\n",
    "% matplotlib inline\n",
    "\n",
    "from madminer.goldmine import GoldMine\n",
    "from madminer.tools.plots import plot_2d_morphing_basis\n",
    "from madminer.refinery import combine_and_shuffle\n",
    "\n",
    "from lheprocessor.lheprocessor import LHEProcessor"
   ]
  },
  {
   "cell_type": "markdown",
   "metadata": {},
   "source": [
    "Please enter here the path to your MG5 root directory."
   ]
  },
  {
   "cell_type": "code",
   "execution_count": 3,
   "metadata": {},
   "outputs": [],
   "source": [
    "mg_dir = '/Users/felixkling/work/MG5_aMC_v2_6_2'"
   ]
  },
  {
   "cell_type": "markdown",
   "metadata": {},
   "source": [
    "## 1. Define parameter space"
   ]
  },
  {
   "cell_type": "markdown",
   "metadata": {},
   "source": [
    "After creating a `GoldMine` instance, the first important step is the definition of the parameter space. Each model parameter is characterized by a name as well as the LHA block and ID.\n",
    "\n",
    "If morphing is used, one also has to specify the maximal power with which the parameter contributes to the squared matrix element. For instance, a parameter that contributes only to one vertex, will typically have `morphing_max_power=2`, while a parameter that contributes to two vertices usually has `morphing_max_power=4`. Exceptions arise for instance when the interference effects between the SM and dimension-six operators are modelled, but the square of the dimension-six amplitude (subleading in 1/Lambda) is not taken into account, in which case `morphing_max_power=1`. Finally, the `parameter_range` argument defines the range of parameter values that are used for the automatic optimization of the morphing basis."
   ]
  },
  {
   "cell_type": "code",
   "execution_count": 4,
   "metadata": {},
   "outputs": [
    {
     "name": "stderr",
     "output_type": "stream",
     "text": [
      "12:16  \n",
      "12:16  ------------------------------------------------------------\n",
      "12:16  |                                                          |\n",
      "12:16  |  MadMiner                                                |\n",
      "12:16  |                                                          |\n",
      "12:16  |  Version from August 13, 2018                            |\n",
      "12:16  |                                                          |\n",
      "12:16  |           Johann Brehmer, Kyle Cranmer, and Felix Kling  |\n",
      "12:16  |                                                          |\n",
      "12:16  ------------------------------------------------------------\n",
      "12:16  \n",
      "12:16  Added parameter CWL2 (LHA: dim6 2, maximal power in squared ME: 2, range: (-50.0, 50.0))\n",
      "12:16  Added parameter CPWL2 (LHA: dim6 5, maximal power in squared ME: 2, range: (-50.0, 50.0))\n"
     ]
    }
   ],
   "source": [
    "miner = GoldMine()\n",
    "\n",
    "miner.add_parameter(\n",
    "    lha_block='dim6',\n",
    "    lha_id=2,\n",
    "    parameter_name='CWL2',\n",
    "    morphing_max_power=2,\n",
    "    parameter_range=(-50.,50.)\n",
    ")\n",
    "miner.add_parameter(\n",
    "    lha_block='dim6',\n",
    "    lha_id=5,\n",
    "    parameter_name='CPWL2',\n",
    "    morphing_max_power=2,\n",
    "    parameter_range=(-50.,50.)\n",
    ")"
   ]
  },
  {
   "cell_type": "markdown",
   "metadata": {},
   "source": [
    "## 2. Define benchmark points (evaluation points for |M|^2)"
   ]
  },
  {
   "cell_type": "markdown",
   "metadata": {},
   "source": [
    "The next step is the definition of all the points at which the weights (squared matrix elements) should be evaluated by MadGraph. We call these points \"benchmarks\"."
   ]
  },
  {
   "cell_type": "markdown",
   "metadata": {},
   "source": [
    "### 2a. Set benchmarks by hand"
   ]
  },
  {
   "cell_type": "markdown",
   "metadata": {},
   "source": [
    "One can define benchmarks by hand:"
   ]
  },
  {
   "cell_type": "code",
   "execution_count": 5,
   "metadata": {},
   "outputs": [
    {
     "name": "stderr",
     "output_type": "stream",
     "text": [
      "12:16  Added benchmark sm: CWL2 = 0.00e+00, CPWL2 = 0.00e+00)\n",
      "12:16  Added benchmark w: CWL2 = 20.00, CPWL2 = 0.00e+00)\n",
      "12:16  Added benchmark w2: CWL2 = 50.00, CPWL2 = 0.00e+00)\n"
     ]
    }
   ],
   "source": [
    "miner.add_benchmark(\n",
    "    {'CWL2':0., 'CPWL2':0.},\n",
    "    'sm'\n",
    ")\n",
    "miner.add_benchmark(\n",
    "    {'CWL2':20., 'CPWL2':0.},\n",
    "    'w'\n",
    ")\n",
    "miner.add_benchmark(\n",
    "    {'CWL2':50., 'CPWL2':0.},\n",
    "    'w2'\n",
    ")"
   ]
  },
  {
   "cell_type": "markdown",
   "metadata": {},
   "source": [
    "### 2b. Benchmarks for morphing"
   ]
  },
  {
   "cell_type": "markdown",
   "metadata": {},
   "source": [
    "If morphing is used, the function `set_benchmarks_from_morphing` has to be called. With the option `keep_existing_benchmarks=True`, MadMiner will keep all the benchmark points defined beforehand and run a simple optimization algorithm to fix the remaining ones for the basis (which may be none). Otherwise, MadMiner will optimize the full basis and forget about all previously defined benchmark points. The argument `n_trials` determines the number of random candidate bases that the optimization algorithm goes through."
   ]
  },
  {
   "cell_type": "code",
   "execution_count": 6,
   "metadata": {
    "scrolled": true
   },
   "outputs": [
    {
     "name": "stderr",
     "output_type": "stream",
     "text": [
      "12:16  Optimizing basis for morphing\n",
      "12:16  Added benchmark sm: CWL2 = 0.00e+00, CPWL2 = 0.00e+00)\n",
      "12:16  Added benchmark w: CWL2 = 20.00, CPWL2 = 0.00e+00)\n",
      "12:16  Added benchmark w2: CWL2 = 50.00, CPWL2 = 0.00e+00)\n",
      "12:16  Added benchmark morphing_basis_vector_3: CWL2 = 33.49, CPWL2 = 39.99)\n",
      "12:16  Added benchmark morphing_basis_vector_4: CWL2 = -2.09e+01, CPWL2 = 26.10)\n",
      "12:16  Added benchmark morphing_basis_vector_5: CWL2 = -9.58e+00, CPWL2 = -4.70e+01)\n"
     ]
    }
   ],
   "source": [
    "miner.set_benchmarks_from_morphing(\n",
    "    keep_existing_benchmarks=True,\n",
    "    n_trials=100,\n",
    "    max_overall_power=2\n",
    ")"
   ]
  },
  {
   "cell_type": "markdown",
   "metadata": {},
   "source": [
    "Let's have a look at the resulting morphing basis and the \"morphing error\", i.e. the sum of squared morphing weights as a function of the parameter space:"
   ]
  },
  {
   "cell_type": "code",
   "execution_count": 7,
   "metadata": {},
   "outputs": [
    {
     "data": {
      "image/png": "[encoded data removed]",
      "text/plain": [
       "<matplotlib.figure.Figure at 0x111e4e050>"
      ]
     },
     "metadata": {},
     "output_type": "display_data"
    }
   ],
   "source": [
    "fig = plot_2d_morphing_basis(\n",
    "    miner.morpher,\n",
    "    xlabel=r'$c_{W} / \\Lambda^2$ [TeV$^{-2}$]',\n",
    "    ylabel=r'$c_{\\tilde{W}} / \\Lambda^2$ [TeV$^{-2}$]',\n",
    "    xrange=(-60.,60),\n",
    "    yrange=(-60.,60.)\n",
    ")"
   ]
  },
  {
   "cell_type": "markdown",
   "metadata": {},
   "source": [
    "## 3. Save settings and run MadGraph"
   ]
  },
  {
   "cell_type": "markdown",
   "metadata": {},
   "source": [
    "The parameter space, benchmark points, and morphing setup are saved in a HDF5 file:"
   ]
  },
  {
   "cell_type": "code",
   "execution_count": 8,
   "metadata": {},
   "outputs": [
    {
     "name": "stderr",
     "output_type": "stream",
     "text": [
      "12:16  Saving setup (including morphing) to data/madminer_example.h5\n"
     ]
    }
   ],
   "source": [
    "miner.save('data/madminer_example.h5')"
   ]
  },
  {
   "cell_type": "markdown",
   "metadata": {},
   "source": [
    "In a next step, MadMiner starts MadGraph and Pythia to generate events and calculate the weights. You have to provide paths to the process card, run card, param card (the entries corresponding to the parameters of interest will be automatically adapted), and an empty reweight card.\n",
    "\n",
    "The `sample_benchmark` option can be used to specify which benchmark should be used for sampling. If it is not used, MadMiner will automatically use the benchmark that was added first. Finally, if MadGraph is supposed to run in a different Python environment or requires other setup steps, you can use the `initial_command` argument."
   ]
  },
  {
   "cell_type": "code",
   "execution_count": 9,
   "metadata": {},
   "outputs": [
    {
     "name": "stderr",
     "output_type": "stream",
     "text": [
      "12:16  Generating MadGraph process folder from cards/proc_card.dat at ./MG_process\n",
      "12:17  Creating param and reweight cards in ./MG_process\n",
      "12:17  Starting MadGraph and Pythia in ./MG_process\n"
     ]
    }
   ],
   "source": [
    "miner.run(\n",
    "    mg_directory=mg_dir,\n",
    "    proc_card_file='cards/proc_card.dat',\n",
    "    param_card_template_file='cards/param_card_template.dat',\n",
    "    reweight_card_template_file='cards/reweight_card_template.dat',\n",
    "    run_card_file='cards/run_card.dat',\n",
    "    sample_benchmark='sm',\n",
    "    initial_command='source ~/.bashrc'\n",
    ")"
   ]
  },
  {
   "cell_type": "markdown",
   "metadata": {},
   "source": [
    "## 4. Extras Parton Level Observables / Weights "
   ]
  },
  {
   "cell_type": "markdown",
   "metadata": {},
   "source": [
    "Here we extract the parton level information (observables and weights) from the .lhe file. This is done with the LHEProcessor package. "
   ]
  },
  {
   "cell_type": "code",
   "execution_count": 10,
   "metadata": {},
   "outputs": [
    {
     "name": "stderr",
     "output_type": "stream",
     "text": [
      "12:17  \n",
      "12:17  ------------------------------------------------------------\n",
      "12:17  |                                                          |\n",
      "12:17  |  DelphesProcessor                                        |\n",
      "12:17  |                                                          |\n",
      "12:17  |  Version from August 13, 2018                            |\n",
      "12:17  |                                                          |\n",
      "12:17  |           Johann Brehmer, Kyle Cranmer, and Felix Kling  |\n",
      "12:17  |                                                          |\n",
      "12:17  ------------------------------------------------------------\n",
      "12:17  \n",
      "12:17  Hi! How are you today?\n"
     ]
    }
   ],
   "source": [
    "lhep = LHEProcessor()"
   ]
  },
  {
   "cell_type": "markdown",
   "metadata": {},
   "source": [
    "After creating the object, one can add a number of LHE event samples."
   ]
  },
  {
   "cell_type": "code",
   "execution_count": 11,
   "metadata": {
    "scrolled": false
   },
   "outputs": [
    {
     "name": "stderr",
     "output_type": "stream",
     "text": [
      "12:17  Adding LHE sample at MG_process/Events/run_01/unweighted_events.lhe.gz\n"
     ]
    }
   ],
   "source": [
    "lhep.add_lhe_sample('MG_process/Events/run_01/unweighted_events.lhe.gz',sampling_benchmark=\"sm\")"
   ]
  },
  {
   "cell_type": "markdown",
   "metadata": {},
   "source": [
    "We also want to specify the Benchmark names, because sometimes the order is mixed up in the LHE files. But fortunately, we already stored them in the HDF5 file. "
   ]
  },
  {
   "cell_type": "code",
   "execution_count": 12,
   "metadata": {},
   "outputs": [],
   "source": [
    "lhep.read_benchmark_names('data/madminer_example.h5')"
   ]
  },
  {
   "cell_type": "markdown",
   "metadata": {},
   "source": [
    "Not let's define some observables. The `p[i]` correspond to the i'th parton momentum as specified when generating the process.  All of these objects are scikit-hep [LorentzVectors](http://scikit-hep.org/api/math.html#vector-classes), see the link for a documentation of their properties."
   ]
  },
  {
   "cell_type": "code",
   "execution_count": 13,
   "metadata": {},
   "outputs": [
    {
     "name": "stderr",
     "output_type": "stream",
     "text": [
      "12:17  Adding (not required) observable pt_j1 = p[0].pt\n",
      "12:17  Adding (not required) observable pt_j2 = p[1].pt\n",
      "12:17  Adding (not required) observable m_jj = (p[0] + p[1]).m\n",
      "12:17  Adding (not required) observable m_aa = (p[2] + p[3]).m\n"
     ]
    }
   ],
   "source": [
    "lhep.add_observable('pt_j1', 'p[0].pt')\n",
    "lhep.add_observable('pt_j2', 'p[1].pt')\n",
    "lhep.add_observable('m_jj', '(p[0] + p[1]).m')\n",
    "lhep.add_observable('m_aa', '(p[2] + p[3]).m')"
   ]
  },
  {
   "cell_type": "markdown",
   "metadata": {},
   "source": [
    "The function `analyse_lhe_samples` extracts all these observables and weights from the LHE file(s) "
   ]
  },
  {
   "cell_type": "code",
   "execution_count": 4,
   "metadata": {},
   "outputs": [
    {
     "name": "stderr",
     "output_type": "stream",
     "text": [
      "13:52  \n",
      "13:52  ------------------------------------------------------------\n",
      "13:52  |                                                          |\n",
      "13:52  |  DelphesProcessor                                        |\n",
      "13:52  |                                                          |\n",
      "13:52  |  Version from August 13, 2018                            |\n",
      "13:52  |                                                          |\n",
      "13:52  |           Johann Brehmer, Kyle Cranmer, and Felix Kling  |\n",
      "13:52  |                                                          |\n",
      "13:52  ------------------------------------------------------------\n",
      "13:52  \n",
      "13:52  Hi! How are you today?\n",
      "13:52  Adding LHE sample at MG_process/Events/run_01/unweighted_events.lhe.gz\n",
      "13:52  Adding (not required) observable pt_j1 = p[0].pt\n",
      "13:52  Adding (not required) observable pt_j2 = p[1].pt\n",
      "13:52  Adding (not required) observable m_jj = (p[0] + p[1]).m\n",
      "13:52  Adding (not required) observable m_aa = (p[2] + p[3]).m\n",
      "13:52  Analysing LHE sample MG_process/Events/run_01/unweighted_events.lhe.gz\n"
     ]
    }
   ],
   "source": [
    "lhep = LHEProcessor()\n",
    "lhep.add_lhe_sample('MG_process/Events/run_01/unweighted_events.lhe.gz',sampling_benchmark='sm')\n",
    "lhep.read_benchmark_names('data/madminer_example.h5')\n",
    "lhep.add_observable('pt_j1', 'p[0].pt')\n",
    "lhep.add_observable('pt_j2', 'p[1].pt')\n",
    "lhep.add_observable('m_jj', '(p[0] + p[1]).m')\n",
    "lhep.add_observable('m_aa', '(p[2] + p[3]).m')\n",
    "\n",
    "lhep.analyse_lhe_samples()"
   ]
  },
  {
   "cell_type": "markdown",
   "metadata": {},
   "source": [
    "The values of the observables and the weights are then saved in the HDF5 file. It is possible to overwrite the same file, or to leave the original file intact and save all the data into a new file as follows:"
   ]
  },
  {
   "cell_type": "code",
   "execution_count": 4,
   "metadata": {},
   "outputs": [
    {
     "name": "stderr",
     "output_type": "stream",
     "text": [
      "13:49  Loading HDF5 data from data/madminer_example.h5 and saving file to data/madminer_example_with_lhedata.h5\n"
     ]
    }
   ],
   "source": [
    "lhep.save('data/madminer_example_with_lhedata.h5', 'data/madminer_example.h5')"
   ]
  },
  {
   "cell_type": "markdown",
   "metadata": {},
   "source": [
    "Let's make a quick cross check by plotting a distributions"
   ]
  },
  {
   "cell_type": "code",
   "execution_count": 7,
   "metadata": {},
   "outputs": [
    {
     "data": {
      "image/png": "[encoded data removed]",
      "text/plain": [
       "<matplotlib.figure.Figure at 0x110510690>"
      ]
     },
     "metadata": {},
     "output_type": "display_data"
    }
   ],
   "source": [
    "fig = plt.figure(figsize=(5,5))\n",
    "\n",
    "for weights in lhep.weights:\n",
    "    plt.hist(lhep.observations['m_aa'], range=(0.,1000.), bins=20, histtype='step', weights=weights)\n",
    "\n",
    "plt.show()"
   ]
  },
  {
   "cell_type": "code",
   "execution_count": null,
   "metadata": {},
   "outputs": [],
   "source": []
  }
 ],
 "metadata": {
  "kernelspec": {
   "display_name": "Python 2",
   "language": "python",
   "name": "python2"
  },
  "language_info": {
   "codemirror_mode": {
    "name": "ipython",
    "version": 2
   },
   "file_extension": ".py",
   "mimetype": "text/x-python",
   "name": "python",
   "nbconvert_exporter": "python",
   "pygments_lexer": "ipython2",
   "version": "2.7.15"
  }
 },
 "nbformat": 4,
 "nbformat_minor": 2
}
