{
 "cells": [
  {
   "cell_type": "markdown",
   "metadata": {},
   "source": [
    "# MadMiner tutorial 2: SALLY, Fisher information, and ensemble methods"
   ]
  },
  {
   "cell_type": "markdown",
   "metadata": {},
   "source": [
    "Johann Brehmer, Felix Kling, Kyle Cranmer 2018\n",
    "\n",
    "In the first tutorial you saw how to set up a process with MadMiner, generate events and turn them into training samples, and construct likelihood ratio estimators from them. Here we introduce some alternative steps which will lead us to an estimator for the score at a reference point (SALLY) and the expected Fisher information. Along the way, we'll introduce some powerful ensemble methods."
   ]
  },
  {
   "cell_type": "markdown",
   "metadata": {},
   "source": [
    "## 0. Preparations"
   ]
  },
  {
   "cell_type": "markdown",
   "metadata": {},
   "source": [
    "Make sure you've run the first tutorial before executing this notebook!"
   ]
  },
  {
   "cell_type": "code",
   "execution_count": 1,
   "metadata": {},
   "outputs": [],
   "source": [
    "from __future__ import absolute_import, division, print_function, unicode_literals\n",
    "\n",
    "import numpy as np\n",
    "import matplotlib\n",
    "from matplotlib import pyplot as plt\n",
    "% matplotlib inline\n",
    "\n",
    "from madminer.plotting import plot_2d_morphing_basis\n",
    "from madminer.sampling import SampleAugmenter\n",
    "from madminer.sampling import constant_benchmark_theta, multiple_benchmark_thetas\n",
    "from madminer.sampling import constant_morphing_theta, multiple_morphing_thetas, random_morphing_thetas\n",
    "from madminer.ml import MLForge, EnsembleForge\n",
    "from madminer.plotting import plot_fisher_information_contours_2d\n",
    "from madminer.fisherinformation import FisherInformation\n"
   ]
  },
  {
   "cell_type": "markdown",
   "metadata": {},
   "source": [
    "Please enter here the path to your MG5 root directory. This notebook assumes that you installed Delphes and Pythia through MG5."
   ]
  },
  {
   "cell_type": "code",
   "execution_count": 2,
   "metadata": {},
   "outputs": [],
   "source": [
    "mg_dir = '/Users/johannbrehmer/work/projects/madminer/MG5_aMC_v2_6_2'"
   ]
  },
  {
   "cell_type": "markdown",
   "metadata": {},
   "source": [
    "## 1. to 5.: see tutorial 1."
   ]
  },
  {
   "cell_type": "markdown",
   "metadata": {},
   "source": [
    "We assume that you have run steps 1 through 5 of the first tutorial, and thus have a MadMiner file with observables and event weights ready to go!"
   ]
  },
  {
   "cell_type": "markdown",
   "metadata": {},
   "source": [
    "## 6. Make (unweighted) training and test samples with augmented data"
   ]
  },
  {
   "cell_type": "markdown",
   "metadata": {},
   "source": [
    "Again, the next step is handled by the MadMiner class `SampleAugmenter`."
   ]
  },
  {
   "cell_type": "code",
   "execution_count": 3,
   "metadata": {},
   "outputs": [
    {
     "name": "stderr",
     "output_type": "stream",
     "text": [
      "15:01  \n",
      "15:01  ------------------------------------------------------------\n",
      "15:01  |                                                          |\n",
      "15:01  |  MadMiner v2018.10.24                                    |\n",
      "15:01  |                                                          |\n",
      "15:01  |           Johann Brehmer, Kyle Cranmer, and Felix Kling  |\n",
      "15:01  |                                                          |\n",
      "15:01  ------------------------------------------------------------\n",
      "15:01  \n",
      "15:01  Loading data from data/madminer_example_shuffled.h5\n",
      "15:01  Found 2 parameters:\n",
      "15:01     CWL2 (LHA: dim6 2, maximal power in squared ME: (2,), range: (-1.0, 1.0))\n",
      "15:01     CPWL2 (LHA: dim6 5, maximal power in squared ME: (2,), range: (-1.0, 1.0))\n",
      "15:01  Found 6 benchmarks:\n",
      "15:01     sm: CWL2 = 0.00e+00, CPWL2 = 0.00e+00\n",
      "15:01     w: CWL2 = 0.50, CPWL2 = 0.00e+00\n",
      "15:01     morphing_basis_vector_2: CWL2 = 0.38, CPWL2 = -8.56e-01\n",
      "15:01     morphing_basis_vector_3: CWL2 = 0.67, CPWL2 = 0.78\n",
      "15:01     morphing_basis_vector_4: CWL2 = -7.74e-01, CPWL2 = 0.82\n",
      "15:01     morphing_basis_vector_5: CWL2 = -8.95e-01, CPWL2 = -6.02e-01\n",
      "15:01  Found 2 observables: pt_j1, delta_phi_jj\n",
      "15:01  Found 6510 events\n",
      "15:01  Found morphing setup with 6 components\n"
     ]
    }
   ],
   "source": [
    "sa = SampleAugmenter('data/madminer_example_shuffled.h5', debug=False)"
   ]
  },
  {
   "cell_type": "markdown",
   "metadata": {},
   "source": [
    "The relevant `SampleAugmenter` function for local score estimators is `extract_samples_train_local()`. As before, for the argument `theta` you can use the helper functions `constant_benchmark_theta()`, `multiple_benchmark_thetas()`, `constant_morphing_theta()`, `multiple_morphing_thetas()`, and `random_morphing_thetas()`."
   ]
  },
  {
   "cell_type": "code",
   "execution_count": 4,
   "metadata": {},
   "outputs": [
    {
     "name": "stderr",
     "output_type": "stream",
     "text": [
      "15:06  Extracting training sample for local score regression. Sampling and score evaluation according to ('benchmark', 'sm')\n",
      "15:06  Effective number of samples: 949.7168235347182\n"
     ]
    }
   ],
   "source": [
    "x, theta, t_xz = sa.extract_samples_train_local(\n",
    "    theta=constant_benchmark_theta('sm'),\n",
    "    n_samples=1000,\n",
    "    folder='./data/samples',\n",
    "    filename='train0'\n",
    ")"
   ]
  },
  {
   "cell_type": "markdown",
   "metadata": {},
   "source": [
    "## 7. Forge estimators for likelihood ratio or score"
   ]
  },
  {
   "cell_type": "markdown",
   "metadata": {},
   "source": [
    "It's now time to build a neural network. Only this time, instead of the likelihood ratio itself, we will estimate the gradient of the log likelihood with respect to the theory parameters -- the score. To be precise, the output of the neural network is an estimate of the score at some reference parameter point, for instance the Standard Model. A neural network that estimates this \"local\" score can be used to calculate the Fisher information at that point. The estimated score can also be used as a machine learning version of Optimal Observables, and likelihoods can be estimated based on density estimation in the estimated score space. This method for likelihood ratio estimation is called SALLY, and there is a closely related version called SALLINO. Both are explained in [\"Constraining Effective Field Theories With Machine Learning\"](https://arxiv.org/abs/1805.00013) and [\"A Guide to Constraining Effective Field Theories With Machine Learning\"](https://arxiv.org/abs/1805.00020).\n",
    "\n",
    "Again, the central object for this is the `madminer.ml.MLForge` class:"
   ]
  },
  {
   "cell_type": "code",
   "execution_count": 7,
   "metadata": {},
   "outputs": [],
   "source": [
    "forge = MLForge(debug=False)"
   ]
  },
  {
   "cell_type": "code",
   "execution_count": 8,
   "metadata": {},
   "outputs": [
    {
     "name": "stderr",
     "output_type": "stream",
     "text": [
      "15:09  Starting training\n",
      "15:09    Method:                 sally\n",
      "15:09    Training data: x at data/samples/x_train0.npy\n",
      "15:09                   t_xz (theta0) at  data/samples/t_xz_train0.npy\n",
      "15:09    Features:               all\n",
      "15:09    Method:                 sally\n",
      "15:09    Hidden layers:          (100, 100, 100)\n",
      "15:09    Activation function:    tanh\n",
      "15:09    Batch size:             256\n",
      "15:09    Epochs:                 10\n",
      "15:09    Learning rate:          0.002 initially, decaying to 0.0001\n",
      "15:09    Validation split:       None\n",
      "15:09    Early stopping:         True\n",
      "15:09  Loading training data\n",
      "15:09  Found 1000 samples with 2 parameters and 2 observables\n",
      "15:09  Creating model for method sally\n",
      "15:09  Training model\n",
      "15:09    Epoch 1: train loss 0.15 ([0.15177349])\n",
      "15:09    Epoch 2: train loss 0.12 ([0.11891738])\n",
      "15:09    Epoch 3: train loss 0.10 ([0.09540722])\n",
      "15:09    Epoch 4: train loss 0.09 ([0.09079827])\n",
      "15:09    Epoch 5: train loss 0.08 ([0.08244229])\n",
      "15:09    Epoch 6: train loss 0.08 ([0.08474375])\n",
      "15:09    Epoch 7: train loss 0.08 ([0.08492827])\n",
      "15:09    Epoch 8: train loss 0.08 ([0.08160259])\n",
      "15:09    Epoch 9: train loss 0.08 ([0.08433476])\n",
      "15:09    Epoch 10: train loss 0.08 ([0.08105309])\n",
      "15:09  Finished training\n",
      "15:09  Saving settings to models/sally_settings.json\n",
      "15:09  Saving state dictionary to models/sally_state_dict.pt\n"
     ]
    }
   ],
   "source": [
    "forge.train(\n",
    "    method='sally',\n",
    "    x_filename='data/samples/x_train0.npy',\n",
    "    t_xz0_filename='data/samples/t_xz_train0.npy',\n",
    "    n_epochs=10,\n",
    "    batch_size=256,\n",
    "    validation_split=None\n",
    ")\n",
    "\n",
    "forge.save('models/sally')"
   ]
  },
  {
   "cell_type": "markdown",
   "metadata": {},
   "source": [
    "Let's evaluate the SM score on the test data"
   ]
  },
  {
   "cell_type": "code",
   "execution_count": 9,
   "metadata": {},
   "outputs": [
    {
     "name": "stderr",
     "output_type": "stream",
     "text": [
      "15:09  Loading settings from models/sally_settings.json\n",
      "15:09    Found method sally, 2 observables, 2 parameters, (100, 100, 100) hidden layers, tanh activation function, features None\n",
      "15:09  Loading state dictionary from models/sally_state_dict.pt\n",
      "15:09  Loading evaluation data\n",
      "15:09  Starting score evaluation\n"
     ]
    }
   ],
   "source": [
    "forge.load('models/sally')\n",
    "\n",
    "t_hat = forge.evaluate(\n",
    "    x_filename='data/samples/x_test.npy'\n",
    ")"
   ]
  },
  {
   "cell_type": "markdown",
   "metadata": {},
   "source": [
    "Let's have a look at the estimated score and how it is related to the observables:"
   ]
  },
  {
   "cell_type": "code",
   "execution_count": 13,
   "metadata": {},
   "outputs": [
    {
     "data": {
      "image/png": "[encoded data removed]",
      "text/plain": [
       "<matplotlib.figure.Figure at 0x11542ef98>"
      ]
     },
     "metadata": {},
     "output_type": "display_data"
    }
   ],
   "source": [
    "x = np.load('data/samples/x_test.npy')\n",
    "\n",
    "fig = plt.figure(figsize=(10,4))\n",
    "\n",
    "for i in range(2):\n",
    "    \n",
    "    ax = plt.subplot(1,2,i+1)\n",
    "\n",
    "    sc = plt.scatter(x[:,0], x[:,1], c=t_hat[:,0], s=10., cmap='viridis', vmin=-0.05, vmax=0.02)\n",
    "    cbar = plt.colorbar(sc)\n",
    "\n",
    "    cbar.set_label(r'$\\hat{t}_' + str(i) + r'(x | \\theta_{ref})$')\n",
    "    plt.xlabel(r'$p_{T,j1}$ [GeV]')\n",
    "    plt.ylabel(r'$\\Delta \\phi_{jj}$')\n",
    "    plt.xlim(10.,400.)\n",
    "    plt.ylim(0.,6.2)\n",
    "    \n",
    "plt.tight_layout()\n",
    "plt.show()\n"
   ]
  },
  {
   "cell_type": "markdown",
   "metadata": {},
   "source": [
    "In addition, we can use SALLY estimators to estimate the expected Fisher information. For a discussion about what that means and why you should care, see the original publication [\"Better Higgs Measurements Through Information Geometry\"](https://arxiv.org/abs/1612.05261) or a more detailed, pedagogical introduction in Chapter 4 of [\"New Ideas for Effective Higgs Measurements\"](https://inspirehep.net/record/1624219)."
   ]
  },
  {
   "cell_type": "code",
   "execution_count": 17,
   "metadata": {},
   "outputs": [
    {
     "name": "stderr",
     "output_type": "stream",
     "text": [
      "14:34  Loading data from data/madminer_example_shuffled.h5\n",
      "14:34  Found 2 parameters:\n",
      "14:34     CWL2 (LHA: dim6 2, maximal power in squared ME: (2,), range: (-1.0, 1.0))\n",
      "14:34     CPWL2 (LHA: dim6 5, maximal power in squared ME: (2,), range: (-1.0, 1.0))\n",
      "14:34  Found 6 benchmarks:\n",
      "14:34     sm: CWL2 = 0.00e+00, CPWL2 = 0.00e+00\n",
      "14:34     w: CWL2 = 0.50, CPWL2 = 0.00e+00\n",
      "14:34     morphing_basis_vector_2: CWL2 = 0.38, CPWL2 = -8.56e-01\n",
      "14:34     morphing_basis_vector_3: CWL2 = 0.67, CPWL2 = 0.78\n",
      "14:34     morphing_basis_vector_4: CWL2 = -7.74e-01, CPWL2 = 0.82\n",
      "14:34     morphing_basis_vector_5: CWL2 = -8.95e-01, CPWL2 = -6.02e-01\n",
      "14:34  Found 2 observables: pt_j1, delta_phi_jj\n",
      "14:34  Found 6510 events\n",
      "14:34  Found morphing setup with 6 components\n"
     ]
    }
   ],
   "source": [
    "fisher = FisherInformation('data/madminer_example_shuffled.h5', debug=False)"
   ]
  },
  {
   "cell_type": "code",
   "execution_count": 18,
   "metadata": {},
   "outputs": [
    {
     "name": "stderr",
     "output_type": "stream",
     "text": [
      "14:36  Loading settings from models/sally_settings.json\n",
      "14:36    Found method sally, 2 observables, 2 parameters, (100, 100, 100) hidden layers, tanh activation function, features None\n",
      "14:36  Loading state dictionary from models/sally_state_dict.pt\n",
      "14:36  Loading evaluation data\n",
      "14:36  Starting score evaluation\n",
      "14:36  Expected score (should be close to zero): [-0.01365089 -0.00663666]\n"
     ]
    },
    {
     "name": "stdout",
     "output_type": "stream",
     "text": [
      "Kinematic Fisher information after 300 ifb:\n",
      "[[ 4.09193462 -0.18407979]\n",
      " [-0.18407979  0.28306814]]\n"
     ]
    }
   ],
   "source": [
    "fisher_information = fisher.calculate_fisher_information_full_detector(\n",
    "    theta=[0.,0.],\n",
    "    model_file='models/sally',\n",
    "    unweighted_x_sample_file='data/samples/x_test.npy',\n",
    "    luminosity=300000.\n",
    ")\n",
    "\n",
    "print('Kinematic Fisher information after 300 ifb:\\n{}'.format(fisher_information))"
   ]
  },
  {
   "cell_type": "markdown",
   "metadata": {},
   "source": [
    "We can visualize the Fisher information with contours:"
   ]
  },
  {
   "cell_type": "code",
   "execution_count": 20,
   "metadata": {},
   "outputs": [
    {
     "data": {
      "image/png": "[encoded data removed]",
      "text/plain": [
       "<matplotlib.figure.Figure at 0x115ced470>"
      ]
     },
     "metadata": {},
     "output_type": "display_data"
    }
   ],
   "source": [
    "_ = plot_fisher_information_contours_2d(\n",
    "    [fisher_information],\n",
    "    xrange=(-2.,2.),\n",
    "    yrange=(-2.,2.)\n",
    ")"
   ]
  },
  {
   "cell_type": "markdown",
   "metadata": {},
   "source": [
    "## 8. Ensemble methods"
   ]
  },
  {
   "cell_type": "markdown",
   "metadata": {},
   "source": [
    "Instead of using a single neural network to estimate the likelihood ratio, score, or Fisher information, we can use an ensemble of such estimators. That provides us with a more reliable mean prediction as well as a measure of the uncertainty. The class `madminer.ml.EnsembleForge` automates this process. Currently, it only supports SALLY estimators:"
   ]
  },
  {
   "cell_type": "code",
   "execution_count": 10,
   "metadata": {},
   "outputs": [],
   "source": [
    "ensemble = EnsembleForge(estimators=5)"
   ]
  },
  {
   "cell_type": "markdown",
   "metadata": {},
   "source": [
    "The `EnsembleForge` object has very similar functions as `MLForge`. In particular, we can train all estimators simultaneously with `train_all()` and save the ensemble to files:"
   ]
  },
  {
   "cell_type": "code",
   "execution_count": 11,
   "metadata": {},
   "outputs": [
    {
     "name": "stderr",
     "output_type": "stream",
     "text": [
      "15:10  Training 5 estimators in ensemble\n",
      "15:10  Training estimator 1 / 5 in ensemble\n",
      "15:10  Starting training\n",
      "15:10    Method:                 sally\n",
      "15:10    Training data: x at data/samples/x_train0.npy\n",
      "15:10                   t_xz (theta0) at  data/samples/t_xz_train0.npy\n",
      "15:10    Features:               all\n",
      "15:10    Method:                 sally\n",
      "15:10    Hidden layers:          (100, 100, 100)\n",
      "15:10    Activation function:    tanh\n",
      "15:10    Batch size:             256\n",
      "15:10    Epochs:                 10\n",
      "15:10    Learning rate:          0.002 initially, decaying to 0.0001\n",
      "15:10    Validation split:       None\n",
      "15:10    Early stopping:         True\n",
      "15:10  Loading training data\n",
      "15:10  Found 1000 samples with 2 parameters and 2 observables\n",
      "15:10  Creating model for method sally\n",
      "15:10  Training model\n",
      "15:10    Epoch 1: train loss 0.15 ([0.14977969])\n",
      "15:10    Epoch 2: train loss 0.11 ([0.11106023])\n",
      "15:10    Epoch 3: train loss 0.10 ([0.09729577])\n",
      "15:10    Epoch 4: train loss 0.09 ([0.08574807])\n",
      "15:10    Epoch 5: train loss 0.08 ([0.08260092])\n",
      "15:10    Epoch 6: train loss 0.09 ([0.08690578])\n",
      "15:10    Epoch 7: train loss 0.09 ([0.08602875])\n",
      "15:10    Epoch 8: train loss 0.08 ([0.08480825])\n",
      "15:10    Epoch 9: train loss 0.08 ([0.08103492])\n",
      "15:10    Epoch 10: train loss 0.08 ([0.08433009])\n",
      "15:10  Finished training\n",
      "15:10  Training estimator 2 / 5 in ensemble\n",
      "15:10  Starting training\n",
      "15:10    Method:                 sally\n",
      "15:10    Training data: x at data/samples/x_train0.npy\n",
      "15:10                   t_xz (theta0) at  data/samples/t_xz_train0.npy\n",
      "15:10    Features:               all\n",
      "15:10    Method:                 sally\n",
      "15:10    Hidden layers:          (100, 100, 100)\n",
      "15:10    Activation function:    tanh\n",
      "15:10    Batch size:             256\n",
      "15:10    Epochs:                 10\n",
      "15:10    Learning rate:          0.002 initially, decaying to 0.0001\n",
      "15:10    Validation split:       None\n",
      "15:10    Early stopping:         True\n",
      "15:10  Loading training data\n",
      "15:10  Found 1000 samples with 2 parameters and 2 observables\n",
      "15:10  Creating model for method sally\n",
      "15:10  Training model\n",
      "15:10    Epoch 1: train loss 0.14 ([0.14472184])\n",
      "15:10    Epoch 2: train loss 0.12 ([0.12246287])\n",
      "15:10    Epoch 3: train loss 0.10 ([0.09761094])\n",
      "15:10    Epoch 4: train loss 0.09 ([0.08928291])\n",
      "15:10    Epoch 5: train loss 0.08 ([0.08373886])\n",
      "15:10    Epoch 6: train loss 0.09 ([0.08554234])\n",
      "15:10    Epoch 7: train loss 0.08 ([0.08330935])\n",
      "15:10    Epoch 8: train loss 0.09 ([0.08693003])\n",
      "15:10    Epoch 9: train loss 0.08 ([0.08087207])\n",
      "15:10    Epoch 10: train loss 0.08 ([0.0814074])\n",
      "15:10  Finished training\n",
      "15:10  Training estimator 3 / 5 in ensemble\n",
      "15:10  Starting training\n",
      "15:10    Method:                 sally\n",
      "15:10    Training data: x at data/samples/x_train0.npy\n",
      "15:10                   t_xz (theta0) at  data/samples/t_xz_train0.npy\n",
      "15:10    Features:               all\n",
      "15:10    Method:                 sally\n",
      "15:10    Hidden layers:          (100, 100, 100)\n",
      "15:10    Activation function:    tanh\n",
      "15:10    Batch size:             256\n",
      "15:10    Epochs:                 10\n",
      "15:10    Learning rate:          0.002 initially, decaying to 0.0001\n",
      "15:10    Validation split:       None\n",
      "15:10    Early stopping:         True\n",
      "15:10  Loading training data\n",
      "15:10  Found 1000 samples with 2 parameters and 2 observables\n",
      "15:10  Creating model for method sally\n",
      "15:10  Training model\n",
      "15:10    Epoch 1: train loss 0.15 ([0.15336125])\n",
      "15:10    Epoch 2: train loss 0.12 ([0.11718685])\n",
      "15:10    Epoch 3: train loss 0.09 ([0.08748306])\n",
      "15:10    Epoch 4: train loss 0.09 ([0.09421158])\n",
      "15:10    Epoch 5: train loss 0.08 ([0.08441847])\n",
      "15:10    Epoch 6: train loss 0.08 ([0.08468603])\n",
      "15:10    Epoch 7: train loss 0.09 ([0.08544014])\n",
      "15:10    Epoch 8: train loss 0.08 ([0.08251754])\n",
      "15:10    Epoch 9: train loss 0.08 ([0.08162547])\n",
      "15:10    Epoch 10: train loss 0.08 ([0.08145018])\n",
      "15:10  Finished training\n",
      "15:10  Training estimator 4 / 5 in ensemble\n",
      "15:10  Starting training\n",
      "15:10    Method:                 sally\n",
      "15:10    Training data: x at data/samples/x_train0.npy\n",
      "15:10                   t_xz (theta0) at  data/samples/t_xz_train0.npy\n",
      "15:10    Features:               all\n",
      "15:10    Method:                 sally\n",
      "15:10    Hidden layers:          (100, 100, 100)\n",
      "15:10    Activation function:    tanh\n",
      "15:10    Batch size:             256\n",
      "15:10    Epochs:                 10\n",
      "15:10    Learning rate:          0.002 initially, decaying to 0.0001\n",
      "15:10    Validation split:       None\n",
      "15:10    Early stopping:         True\n",
      "15:10  Loading training data\n",
      "15:10  Found 1000 samples with 2 parameters and 2 observables\n",
      "15:10  Creating model for method sally\n",
      "15:10  Training model\n",
      "15:10    Epoch 1: train loss 0.19 ([0.19112385])\n",
      "15:10    Epoch 2: train loss 0.16 ([0.15513629])\n",
      "15:10    Epoch 3: train loss 0.10 ([0.09863485])\n",
      "15:10    Epoch 4: train loss 0.10 ([0.10150446])\n",
      "15:10    Epoch 5: train loss 0.08 ([0.08398425])\n",
      "15:10    Epoch 6: train loss 0.08 ([0.08298127])\n",
      "15:10    Epoch 7: train loss 0.09 ([0.08814932])\n",
      "15:10    Epoch 8: train loss 0.08 ([0.08382153])\n",
      "15:10    Epoch 9: train loss 0.08 ([0.0839747])\n",
      "15:10    Epoch 10: train loss 0.09 ([0.08642633])\n",
      "15:10  Finished training\n",
      "15:10  Training estimator 5 / 5 in ensemble\n",
      "15:10  Starting training\n",
      "15:10    Method:                 sally\n",
      "15:10    Training data: x at data/samples/x_train0.npy\n",
      "15:10                   t_xz (theta0) at  data/samples/t_xz_train0.npy\n",
      "15:10    Features:               all\n",
      "15:10    Method:                 sally\n",
      "15:10    Hidden layers:          (100, 100, 100)\n",
      "15:10    Activation function:    tanh\n",
      "15:10    Batch size:             256\n",
      "15:10    Epochs:                 10\n",
      "15:10    Learning rate:          0.002 initially, decaying to 0.0001\n",
      "15:10    Validation split:       None\n",
      "15:10    Early stopping:         True\n",
      "15:10  Loading training data\n",
      "15:10  Found 1000 samples with 2 parameters and 2 observables\n",
      "15:10  Creating model for method sally\n",
      "15:10  Training model\n",
      "15:10    Epoch 1: train loss 0.14 ([0.14400329])\n",
      "15:10    Epoch 2: train loss 0.10 ([0.1028873])\n",
      "15:10    Epoch 3: train loss 0.09 ([0.08548462])\n",
      "15:10    Epoch 4: train loss 0.09 ([0.08776747])\n",
      "15:10    Epoch 5: train loss 0.08 ([0.08233933])\n",
      "15:10    Epoch 6: train loss 0.09 ([0.08769609])\n",
      "15:10    Epoch 7: train loss 0.08 ([0.08248016])\n",
      "15:10    Epoch 8: train loss 0.08 ([0.08285601])\n",
      "15:10    Epoch 9: train loss 0.08 ([0.08404375])\n",
      "15:10    Epoch 10: train loss 0.08 ([0.08420761])\n",
      "15:10  Finished training\n",
      "15:10  Saving ensemble setup to models/sally_ensemble/ensemble.json\n",
      "15:10  Saving settings to models/sally_ensemble/estimator_0_settings.json\n",
      "15:10  Saving state dictionary to models/sally_ensemble/estimator_0_state_dict.pt\n",
      "15:10  Saving settings to models/sally_ensemble/estimator_1_settings.json\n",
      "15:10  Saving state dictionary to models/sally_ensemble/estimator_1_state_dict.pt\n",
      "15:10  Saving settings to models/sally_ensemble/estimator_2_settings.json\n",
      "15:10  Saving state dictionary to models/sally_ensemble/estimator_2_state_dict.pt\n",
      "15:10  Saving settings to models/sally_ensemble/estimator_3_settings.json\n",
      "15:10  Saving state dictionary to models/sally_ensemble/estimator_3_state_dict.pt\n",
      "15:10  Saving settings to models/sally_ensemble/estimator_4_settings.json\n",
      "15:10  Saving state dictionary to models/sally_ensemble/estimator_4_state_dict.pt\n"
     ]
    }
   ],
   "source": [
    "ensemble.train_all(\n",
    "    method='sally',\n",
    "    x_filename='data/samples/x_train0.npy',\n",
    "    t_xz0_filename='data/samples/t_xz_train0.npy',\n",
    "    n_epochs=10,\n",
    "    batch_size=256,\n",
    "    validation_split=None\n",
    ")\n",
    "\n",
    "ensemble.save('models/sally_ensemble')"
   ]
  },
  {
   "cell_type": "markdown",
   "metadata": {},
   "source": [
    "Any evaluation of this ensemble will provide us with mean and variance of the predictions. Let's try that for the Fisher information:"
   ]
  },
  {
   "cell_type": "code",
   "execution_count": 13,
   "metadata": {},
   "outputs": [
    {
     "name": "stderr",
     "output_type": "stream",
     "text": [
      "15:10  Loading data from data/madminer_example_shuffled.h5\n",
      "15:10  Found 2 parameters:\n",
      "15:10     CWL2 (LHA: dim6 2, maximal power in squared ME: (2,), range: (-1.0, 1.0))\n",
      "15:10     CPWL2 (LHA: dim6 5, maximal power in squared ME: (2,), range: (-1.0, 1.0))\n",
      "15:10  Found 6 benchmarks:\n",
      "15:10     sm: CWL2 = 0.00e+00, CPWL2 = 0.00e+00\n",
      "15:10     w: CWL2 = 0.50, CPWL2 = 0.00e+00\n",
      "15:10     morphing_basis_vector_2: CWL2 = 0.38, CPWL2 = -8.56e-01\n",
      "15:10     morphing_basis_vector_3: CWL2 = 0.67, CPWL2 = 0.78\n",
      "15:10     morphing_basis_vector_4: CWL2 = -7.74e-01, CPWL2 = 0.82\n",
      "15:10     morphing_basis_vector_5: CWL2 = -8.95e-01, CPWL2 = -6.02e-01\n",
      "15:10  Found 2 observables: pt_j1, delta_phi_jj\n",
      "15:10  Found 6510 events\n",
      "15:10  Found morphing setup with 6 components\n",
      "15:10  Loading ensemble setup from models/sally_ensemble/ensemble.json\n",
      "15:10    Found ensemble with 5 estimators and expectations None\n",
      "15:10  Loading settings from models/sally_ensemble/estimator_0_settings.json\n",
      "15:10    Found method sally, 2 observables, 2 parameters, (100, 100, 100) hidden layers, tanh activation function, features None\n",
      "15:10  Loading state dictionary from models/sally_ensemble/estimator_0_state_dict.pt\n",
      "15:10  Loading settings from models/sally_ensemble/estimator_1_settings.json\n",
      "15:10    Found method sally, 2 observables, 2 parameters, (100, 100, 100) hidden layers, tanh activation function, features None\n",
      "15:10  Loading state dictionary from models/sally_ensemble/estimator_1_state_dict.pt\n",
      "15:10  Loading settings from models/sally_ensemble/estimator_2_settings.json\n",
      "15:10    Found method sally, 2 observables, 2 parameters, (100, 100, 100) hidden layers, tanh activation function, features None\n",
      "15:10  Loading state dictionary from models/sally_ensemble/estimator_2_state_dict.pt\n",
      "15:10  Loading settings from models/sally_ensemble/estimator_3_settings.json\n",
      "15:10    Found method sally, 2 observables, 2 parameters, (100, 100, 100) hidden layers, tanh activation function, features None\n",
      "15:10  Loading state dictionary from models/sally_ensemble/estimator_3_state_dict.pt\n",
      "15:10  Loading settings from models/sally_ensemble/estimator_4_settings.json\n",
      "15:10    Found method sally, 2 observables, 2 parameters, (100, 100, 100) hidden layers, tanh activation function, features None\n",
      "15:10  Loading state dictionary from models/sally_ensemble/estimator_4_state_dict.pt\n",
      "15:10  Evaluating Fisher information for 5 estimators in ensemble\n",
      "15:10  Starting evaluation for estimator 1 / 5 in ensemble\n",
      "15:10  Loading evaluation data\n",
      "15:10  Starting score evaluation\n",
      "15:10  Expected score (should be close to zero): [-0.01015383 -0.01353518]\n",
      "15:10  Starting evaluation for estimator 2 / 5 in ensemble\n",
      "15:10  Loading evaluation data\n",
      "15:10  Starting score evaluation\n",
      "15:10  Expected score (should be close to zero): [ 0.0168851  -0.00875812]\n",
      "15:10  Starting evaluation for estimator 3 / 5 in ensemble\n",
      "15:10  Loading evaluation data\n",
      "15:10  Starting score evaluation\n",
      "15:10  Expected score (should be close to zero): [-0.00523019 -0.02588246]\n",
      "15:10  Starting evaluation for estimator 4 / 5 in ensemble\n",
      "15:10  Loading evaluation data\n",
      "15:10  Starting score evaluation\n",
      "15:10  Expected score (should be close to zero): [0.01185108 0.01333773]\n",
      "15:10  Starting evaluation for estimator 5 / 5 in ensemble\n",
      "15:10  Loading evaluation data\n",
      "15:10  Starting score evaluation\n",
      "15:10  Expected score (should be close to zero): [-0.00488284 -0.00701142]\n"
     ]
    }
   ],
   "source": [
    "fisher = FisherInformation('data/madminer_example_shuffled.h5', debug=False)\n",
    "\n",
    "fisher_information_mean, fisher_information_covariance = fisher.calculate_fisher_information_full_detector(\n",
    "    theta=[0.,0.],\n",
    "    model_file='models/sally_ensemble',\n",
    "    unweighted_x_sample_file='data/samples/x_test.npy',\n",
    "    luminosity=300000.\n",
    ")"
   ]
  },
  {
   "cell_type": "markdown",
   "metadata": {},
   "source": [
    "The covariance can be propagated to the Fisher distance contour plot easily:"
   ]
  },
  {
   "cell_type": "code",
   "execution_count": 14,
   "metadata": {},
   "outputs": [
    {
     "data": {
      "image/png": "[encoded data removed]",
      "text/plain": [
       "<matplotlib.figure.Figure at 0x117080080>"
      ]
     },
     "metadata": {},
     "output_type": "display_data"
    }
   ],
   "source": [
    "_ = plot_fisher_information_contours_2d(\n",
    "    [fisher_information_mean],\n",
    "    [fisher_information_covariance],\n",
    "    xrange=(-2.,2.),\n",
    "    yrange=(-2.,2.)\n",
    ")"
   ]
  },
  {
   "cell_type": "markdown",
   "metadata": {},
   "source": [
    "That's enough for now -- let us know if you have any questions. Also, have a look at the documentation for a detailed description of all classes and functions!"
   ]
  },
  {
   "cell_type": "code",
   "execution_count": null,
   "metadata": {},
   "outputs": [],
   "source": []
  }
 ],
 "metadata": {
  "kernelspec": {
   "display_name": "Python [default]",
   "language": "python",
   "name": "python3"
  },
  "language_info": {
   "codemirror_mode": {
    "name": "ipython",
    "version": 3
   },
   "file_extension": ".py",
   "mimetype": "text/x-python",
   "name": "python",
   "nbconvert_exporter": "python",
   "pygments_lexer": "ipython3",
   "version": "3.6.4"
  }
 },
 "nbformat": 4,
 "nbformat_minor": 2
}
