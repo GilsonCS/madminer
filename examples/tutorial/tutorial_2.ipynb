{
 "cells": [
  {
   "cell_type": "markdown",
   "metadata": {},
   "source": [
    "# MadMiner tutorial 2: SALLY, Fisher information, and ensemble methods\n",
    "\n",
    "Johann Brehmer, Felix Kling, Kyle Cranmer 2018"
   ]
  },
  {
   "cell_type": "markdown",
   "metadata": {},
   "source": [
    "In the first tutorial you saw how to set up a process with MadMiner, generate events and turn them into training samples, and construct likelihood ratio estimators from them. Here we introduce some alternative steps which will lead us to an estimator for the score at a reference point (SALLY) and the expected Fisher information. Along the way, we'll introduce some powerful ensemble methods.\n",
    "\n",
    "If you're not familiar with SALLY, please have a look at [\"Constraining Effective Field Theories With Machine Learning\"](https://arxiv.org/abs/1805.00013)\n",
    "or, for more details, [\"A Guide to Constraining Effective Field Theories With Machine Learning\"](https://arxiv.org/abs/1805.00020). For the information geometry part, see the original publication [\"Better Higgs Measurements Through Information Geometry\"](https://arxiv.org/abs/1612.05261) or a more detailed, pedagogical introduction in Chapter 4 of [\"New Ideas for Effective Higgs Measurements\"](https://inspirehep.net/record/1624219)."
   ]
  },
  {
   "cell_type": "markdown",
   "metadata": {},
   "source": [
    "## 0. Preparations"
   ]
  },
  {
   "cell_type": "markdown",
   "metadata": {},
   "source": [
    "Make sure you've run the first tutorial before executing this notebook!"
   ]
  },
  {
   "cell_type": "code",
   "execution_count": 1,
   "metadata": {
    "collapsed": true
   },
   "outputs": [],
   "source": [
    "from __future__ import absolute_import, division, print_function, unicode_literals\n",
    "\n",
    "import numpy as np\n",
    "import matplotlib\n",
    "from matplotlib import pyplot as plt\n",
    "% matplotlib inline\n",
    "\n",
    "from madminer.plotting import plot_2d_morphing_basis\n",
    "from madminer.sampling import SampleAugmenter\n",
    "from madminer.sampling import constant_benchmark_theta, multiple_benchmark_thetas\n",
    "from madminer.sampling import constant_morphing_theta, multiple_morphing_thetas, random_morphing_thetas\n",
    "from madminer.ml import MLForge, EnsembleForge\n",
    "from madminer.plotting import plot_fisher_information_contours_2d\n",
    "from madminer.fisherinformation import FisherInformation\n"
   ]
  },
  {
   "cell_type": "markdown",
   "metadata": {},
   "source": [
    "Please enter here the path to your MG5 root directory. This notebook assumes that you installed Delphes and Pythia through MG5."
   ]
  },
  {
   "cell_type": "code",
   "execution_count": 2,
   "metadata": {
    "collapsed": true
   },
   "outputs": [],
   "source": [
    "mg_dir = '/Users/johannbrehmer/work/projects/madminer/MG5_aMC_v2_6_2'"
   ]
  },
  {
   "cell_type": "markdown",
   "metadata": {},
   "source": [
    "## 1. to 5.: see tutorial 1."
   ]
  },
  {
   "cell_type": "markdown",
   "metadata": {},
   "source": [
    "We assume that you have run steps 1 through 5 of the first tutorial, and thus have a MadMiner file with observables and event weights ready to go!"
   ]
  },
  {
   "cell_type": "markdown",
   "metadata": {},
   "source": [
    "## 6. Make (unweighted) training and test samples with augmented data"
   ]
  },
  {
   "cell_type": "markdown",
   "metadata": {},
   "source": [
    "Again, the next step is handled by the MadMiner class `SampleAugmenter`."
   ]
  },
  {
   "cell_type": "code",
   "execution_count": 3,
   "metadata": {},
   "outputs": [
    {
     "name": "stderr",
     "output_type": "stream",
     "text": [
      "13:18  \n",
      "13:18  ------------------------------------------------------------\n",
      "13:18  |                                                          |\n",
      "13:18  |  MadMiner v0.1.0                                         |\n",
      "13:18  |                                                          |\n",
      "13:18  |           Johann Brehmer, Kyle Cranmer, and Felix Kling  |\n",
      "13:18  |                                                          |\n",
      "13:18  ------------------------------------------------------------\n",
      "13:18  \n",
      "13:18  Loading data from data/madminer_example_shuffled.h5\n",
      "13:18  Found 2 parameters:\n",
      "13:18     CWL2 (LHA: dim6 2, maximal power in squared ME: (2,), range: (-10.0, 10.0))\n",
      "13:18     CPWL2 (LHA: dim6 5, maximal power in squared ME: (2,), range: (-10.0, 10.0))\n",
      "13:18  Found 6 benchmarks:\n",
      "13:18     sm: CWL2 = 0.00e+00, CPWL2 = 0.00e+00\n",
      "13:18     w: CWL2 = 10.00, CPWL2 = 0.00e+00\n",
      "13:18     morphing_basis_vector_2: CWL2 = 7.63, CPWL2 = -8.69e+00\n",
      "13:18     morphing_basis_vector_3: CWL2 = -8.59e+00, CPWL2 = -8.65e+00\n",
      "13:18     morphing_basis_vector_4: CWL2 = -5.88e+00, CPWL2 = 5.33\n",
      "13:18     morphing_basis_vector_5: CWL2 = 2.84, CPWL2 = 8.99\n",
      "13:18  Found 2 observables: pt_j1, delta_phi_jj\n",
      "13:18  Found 101221 events\n",
      "13:18  Found morphing setup with 6 components\n"
     ]
    }
   ],
   "source": [
    "sa = SampleAugmenter('data/madminer_example_shuffled.h5', debug=False)"
   ]
  },
  {
   "cell_type": "markdown",
   "metadata": {},
   "source": [
    "The relevant `SampleAugmenter` function for local score estimators is `extract_samples_train_local()`. As before, for the argument `theta` you can use the helper functions `constant_benchmark_theta()`, `multiple_benchmark_thetas()`, `constant_morphing_theta()`, `multiple_morphing_thetas()`, and `random_morphing_thetas()`."
   ]
  },
  {
   "cell_type": "code",
   "execution_count": 4,
   "metadata": {},
   "outputs": [
    {
     "name": "stderr",
     "output_type": "stream",
     "text": [
      "13:18  Extracting training sample for local score regression. Sampling and score evaluation according to ('benchmark', 'sm')\n",
      "13:18  Effective number of samples: 4754.04322389\n"
     ]
    }
   ],
   "source": [
    "x, theta, t_xz = sa.extract_samples_train_local(\n",
    "    theta=constant_benchmark_theta('sm'),\n",
    "    n_samples=100000,\n",
    "    folder='./data/samples',\n",
    "    filename='train0'\n",
    ")"
   ]
  },
  {
   "cell_type": "markdown",
   "metadata": {},
   "source": [
    "## 7a. Train a neural network to estimate the score"
   ]
  },
  {
   "cell_type": "markdown",
   "metadata": {},
   "source": [
    "It's now time to build a neural network. Only this time, instead of the likelihood ratio itself, we will estimate the gradient of the log likelihood with respect to the theory parameters -- the score. To be precise, the output of the neural network is an estimate of the score at some reference parameter point, for instance the Standard Model. A neural network that estimates this \"local\" score can be used to calculate the Fisher information at that point. The estimated score can also be used as a machine learning version of Optimal Observables, and likelihoods can be estimated based on density estimation in the estimated score space. This method for likelihood ratio estimation is called SALLY, and there is a closely related version called SALLINO. Both are explained in [\"Constraining Effective Field Theories With Machine Learning\"](https://arxiv.org/abs/1805.00013) and [\"A Guide to Constraining Effective Field Theories With Machine Learning\"](https://arxiv.org/abs/1805.00020).\n",
    "\n",
    "Again, the central object for this is the `madminer.ml.MLForge` class:"
   ]
  },
  {
   "cell_type": "code",
   "execution_count": 5,
   "metadata": {
    "collapsed": true
   },
   "outputs": [],
   "source": [
    "forge = MLForge(debug=False)"
   ]
  },
  {
   "cell_type": "code",
   "execution_count": null,
   "metadata": {},
   "outputs": [
    {
     "name": "stderr",
     "output_type": "stream",
     "text": [
      "13:18  Starting training\n",
      "13:18    Method:                 sally\n",
      "13:18    Training data: x at data/samples/x_train0.npy\n",
      "13:18                   t_xz (theta0) at  data/samples/t_xz_train0.npy\n",
      "13:18    Features:               all\n",
      "13:18    Method:                 sally\n",
      "13:18    Hidden layers:          (100, 100, 100, 100)\n",
      "13:18    Activation function:    tanh\n",
      "13:18    Batch size:             256\n",
      "13:18    Trainer:                amsgrad\n",
      "13:18    Epochs:                 50\n",
      "13:18    Learning rate:          0.01 initially, decaying to 0.0001\n",
      "13:18    Validation split:       None\n",
      "13:18    Early stopping:         True\n",
      "13:18    Scale inputs:           True\n",
      "13:18    Shuffle labels          False\n",
      "13:18    Regularization:         None\n",
      "13:18  Loading training data\n",
      "13:18  Found 100000 samples with 2 parameters and 2 observables\n",
      "13:18  Rescaling inputs\n",
      "13:18  Creating model for method sally\n",
      "13:18  Training model\n",
      "13:18    Epoch 5: train loss 0.0245 (mse_score: 0.0245)\n"
     ]
    }
   ],
   "source": [
    "forge.train(\n",
    "    method='sally',\n",
    "    x_filename='data/samples/x_train0.npy',\n",
    "    t_xz0_filename='data/samples/t_xz_train0.npy',\n",
    "    n_epochs=50,\n",
    "    batch_size=256,\n",
    "    validation_split=None\n",
    ")\n",
    "\n",
    "forge.save('models/sally')"
   ]
  },
  {
   "cell_type": "markdown",
   "metadata": {},
   "source": [
    "Let's evaluate the SM score on the test data"
   ]
  },
  {
   "cell_type": "code",
   "execution_count": null,
   "metadata": {
    "collapsed": true
   },
   "outputs": [],
   "source": [
    "forge.load('models/sally')\n",
    "\n",
    "t_hat = forge.evaluate(\n",
    "    x_filename='data/samples/x_test.npy'\n",
    ")"
   ]
  },
  {
   "cell_type": "markdown",
   "metadata": {},
   "source": [
    "Let's have a look at the estimated score and how it is related to the observables:"
   ]
  },
  {
   "cell_type": "code",
   "execution_count": null,
   "metadata": {},
   "outputs": [],
   "source": [
    "x = np.load('data/samples/x_test.npy')\n",
    "skip=10\n",
    "\n",
    "fig = plt.figure(figsize=(10,4))\n",
    "\n",
    "for i in range(2):\n",
    "    \n",
    "    ax = plt.subplot(1,2,i+1)\n",
    "\n",
    "    sc = plt.scatter(x[::skip,0], x[::skip,1], c=t_hat[::skip,i], s=10., cmap='viridis', vmin=-0.05, vmax=0.02)\n",
    "    cbar = plt.colorbar(sc)\n",
    "\n",
    "    cbar.set_label(r'$\\hat{t}_' + str(i) + r'(x | \\theta_{ref})$')\n",
    "    plt.xlabel(r'$p_{T,j1}$ [GeV]')\n",
    "    plt.ylabel(r'$\\Delta \\phi_{jj}$')\n",
    "    plt.xlim(10.,400.)\n",
    "    plt.ylim(0.,6.2)\n",
    "    \n",
    "plt.tight_layout()\n",
    "plt.show()\n"
   ]
  },
  {
   "cell_type": "markdown",
   "metadata": {},
   "source": [
    "In addition, we can use SALLY estimators to estimate the expected Fisher information."
   ]
  },
  {
   "cell_type": "code",
   "execution_count": null,
   "metadata": {},
   "outputs": [],
   "source": [
    "fisher = FisherInformation('data/madminer_example_shuffled.h5', debug=False)"
   ]
  },
  {
   "cell_type": "code",
   "execution_count": null,
   "metadata": {},
   "outputs": [],
   "source": [
    "fisher_information = fisher.calculate_fisher_information_full_detector(\n",
    "    theta=[0.,0.],\n",
    "    model_file='models/sally',\n",
    "    unweighted_x_sample_file='data/samples/x_test.npy',\n",
    "    luminosity=300000.\n",
    ")\n",
    "\n",
    "print('Kinematic Fisher information after 300 ifb:\\n{}'.format(fisher_information))"
   ]
  },
  {
   "cell_type": "markdown",
   "metadata": {},
   "source": [
    "We can visualize the Fisher information with contours:"
   ]
  },
  {
   "cell_type": "code",
   "execution_count": null,
   "metadata": {},
   "outputs": [],
   "source": [
    "_ = plot_fisher_information_contours_2d(\n",
    "    [fisher_information],\n",
    "    xrange=(-2.,2.),\n",
    "    yrange=(-2.,2.)\n",
    ")"
   ]
  },
  {
   "cell_type": "markdown",
   "metadata": {},
   "source": [
    "## 7b. Ensemble methods"
   ]
  },
  {
   "cell_type": "markdown",
   "metadata": {},
   "source": [
    "Instead of using a single neural network to estimate the likelihood ratio, score, or Fisher information, we can use an ensemble of such estimators. That provides us with a more reliable mean prediction as well as a measure of the uncertainty. The class `madminer.ml.EnsembleForge` automates this process. Currently, it only supports SALLY estimators:"
   ]
  },
  {
   "cell_type": "code",
   "execution_count": 16,
   "metadata": {
    "collapsed": true
   },
   "outputs": [],
   "source": [
    "ensemble = EnsembleForge(estimators=5)"
   ]
  },
  {
   "cell_type": "markdown",
   "metadata": {},
   "source": [
    "The `EnsembleForge` object has very similar functions as `MLForge`. In particular, we can train all estimators simultaneously with `train_all()` and save the ensemble to files:"
   ]
  },
  {
   "cell_type": "code",
   "execution_count": 17,
   "metadata": {
    "scrolled": false
   },
   "outputs": [
    {
     "name": "stderr",
     "output_type": "stream",
     "text": [
      "20:54  Training 5 estimators in ensemble\n",
      "20:54  Training estimator 1 / 5 in ensemble\n",
      "20:54  Starting training\n",
      "20:54    Method:                 sally\n",
      "20:54    Training data: x at data/samples/x_train0.npy\n",
      "20:54                   t_xz (theta0) at  data/samples/t_xz_train0.npy\n",
      "20:54    Features:               all\n",
      "20:54    Method:                 sally\n",
      "20:54    Hidden layers:          (100, 100, 100)\n",
      "20:54    Activation function:    tanh\n",
      "20:54    Batch size:             256\n",
      "20:54    Epochs:                 10\n",
      "20:54    Learning rate:          0.002 initially, decaying to 0.0001\n",
      "20:54    Validation split:       None\n",
      "20:54    Early stopping:         True\n",
      "20:54  Loading training data\n",
      "20:54  Found 100000 samples with 2 parameters and 2 observables\n",
      "20:54  Creating model for method sally\n",
      "20:54  Training model\n",
      "20:54    Epoch 1: train loss 0.02 ([0.02386439])\n",
      "20:55    Epoch 2: train loss 0.02 ([0.0220052])\n",
      "20:55    Epoch 3: train loss 0.02 ([0.02189462])\n",
      "20:55    Epoch 4: train loss 0.02 ([0.02181827])\n",
      "20:56    Epoch 5: train loss 0.02 ([0.0217514])\n",
      "20:56    Epoch 6: train loss 0.02 ([0.02169445])\n",
      "20:56    Epoch 7: train loss 0.02 ([0.02166504])\n",
      "20:56    Epoch 8: train loss 0.02 ([0.02158796])\n",
      "20:57    Epoch 9: train loss 0.02 ([0.02153382])\n",
      "20:57    Epoch 10: train loss 0.02 ([0.02154439])\n",
      "20:57  Finished training\n",
      "20:57  Training estimator 2 / 5 in ensemble\n",
      "20:57  Starting training\n",
      "20:57    Method:                 sally\n",
      "20:57    Training data: x at data/samples/x_train0.npy\n",
      "20:57                   t_xz (theta0) at  data/samples/t_xz_train0.npy\n",
      "20:57    Features:               all\n",
      "20:57    Method:                 sally\n",
      "20:57    Hidden layers:          (100, 100, 100)\n",
      "20:57    Activation function:    tanh\n",
      "20:57    Batch size:             256\n",
      "20:57    Epochs:                 10\n",
      "20:57    Learning rate:          0.002 initially, decaying to 0.0001\n",
      "20:57    Validation split:       None\n",
      "20:57    Early stopping:         True\n",
      "20:57  Loading training data\n",
      "20:57  Found 100000 samples with 2 parameters and 2 observables\n",
      "20:57  Creating model for method sally\n",
      "20:57  Training model\n",
      "20:57    Epoch 1: train loss 0.02 ([0.02314999])\n",
      "20:58    Epoch 2: train loss 0.02 ([0.02195342])\n",
      "20:58    Epoch 3: train loss 0.02 ([0.02191866])\n",
      "20:58    Epoch 4: train loss 0.02 ([0.02185256])\n",
      "20:58    Epoch 5: train loss 0.02 ([0.02189792])\n",
      "20:58    Epoch 6: train loss 0.02 ([0.02193468])\n",
      "20:59    Epoch 7: train loss 0.02 ([0.02159687])\n",
      "20:59    Epoch 8: train loss 0.02 ([0.02156412])\n",
      "20:59    Epoch 9: train loss 0.02 ([0.02160299])\n",
      "20:59    Epoch 10: train loss 0.02 ([0.02148722])\n",
      "20:59  Finished training\n",
      "20:59  Training estimator 3 / 5 in ensemble\n",
      "20:59  Starting training\n",
      "20:59    Method:                 sally\n",
      "20:59    Training data: x at data/samples/x_train0.npy\n",
      "20:59                   t_xz (theta0) at  data/samples/t_xz_train0.npy\n",
      "20:59    Features:               all\n",
      "20:59    Method:                 sally\n",
      "20:59    Hidden layers:          (100, 100, 100)\n",
      "20:59    Activation function:    tanh\n",
      "20:59    Batch size:             256\n",
      "20:59    Epochs:                 10\n",
      "20:59    Learning rate:          0.002 initially, decaying to 0.0001\n",
      "20:59    Validation split:       None\n",
      "20:59    Early stopping:         True\n",
      "20:59  Loading training data\n",
      "20:59  Found 100000 samples with 2 parameters and 2 observables\n",
      "20:59  Creating model for method sally\n",
      "20:59  Training model\n",
      "21:00    Epoch 1: train loss 0.02 ([0.02334471])\n",
      "21:00    Epoch 2: train loss 0.02 ([0.02196402])\n",
      "21:00    Epoch 3: train loss 0.02 ([0.02184481])\n",
      "21:00    Epoch 4: train loss 0.02 ([0.02178919])\n",
      "21:01    Epoch 5: train loss 0.02 ([0.02173277])\n",
      "21:01    Epoch 6: train loss 0.02 ([0.02166702])\n",
      "21:01    Epoch 7: train loss 0.02 ([0.02166351])\n",
      "21:01    Epoch 8: train loss 0.02 ([0.02153881])\n",
      "21:02    Epoch 9: train loss 0.02 ([0.02149981])\n",
      "21:02    Epoch 10: train loss 0.02 ([0.02149176])\n",
      "21:02  Finished training\n",
      "21:02  Training estimator 4 / 5 in ensemble\n",
      "21:02  Starting training\n",
      "21:02    Method:                 sally\n",
      "21:02    Training data: x at data/samples/x_train0.npy\n",
      "21:02                   t_xz (theta0) at  data/samples/t_xz_train0.npy\n",
      "21:02    Features:               all\n",
      "21:02    Method:                 sally\n",
      "21:02    Hidden layers:          (100, 100, 100)\n",
      "21:02    Activation function:    tanh\n",
      "21:02    Batch size:             256\n",
      "21:02    Epochs:                 10\n",
      "21:02    Learning rate:          0.002 initially, decaying to 0.0001\n",
      "21:02    Validation split:       None\n",
      "21:02    Early stopping:         True\n",
      "21:02  Loading training data\n",
      "21:02  Found 100000 samples with 2 parameters and 2 observables\n",
      "21:02  Creating model for method sally\n",
      "21:02  Training model\n",
      "21:02    Epoch 1: train loss 0.02 ([0.02322935])\n",
      "21:02    Epoch 2: train loss 0.02 ([0.02196551])\n",
      "21:03    Epoch 3: train loss 0.02 ([0.02188453])\n",
      "21:03    Epoch 4: train loss 0.02 ([0.02180032])\n",
      "21:03    Epoch 5: train loss 0.02 ([0.0217514])\n",
      "21:03    Epoch 6: train loss 0.02 ([0.02168721])\n",
      "21:03    Epoch 7: train loss 0.02 ([0.02163859])\n",
      "21:04    Epoch 8: train loss 0.02 ([0.02156174])\n",
      "21:04    Epoch 9: train loss 0.02 ([0.02154374])\n",
      "21:04    Epoch 10: train loss 0.02 ([0.02145419])\n",
      "21:04  Finished training\n",
      "21:04  Training estimator 5 / 5 in ensemble\n",
      "21:04  Starting training\n",
      "21:04    Method:                 sally\n",
      "21:04    Training data: x at data/samples/x_train0.npy\n",
      "21:04                   t_xz (theta0) at  data/samples/t_xz_train0.npy\n",
      "21:04    Features:               all\n",
      "21:04    Method:                 sally\n",
      "21:04    Hidden layers:          (100, 100, 100)\n",
      "21:04    Activation function:    tanh\n",
      "21:04    Batch size:             256\n",
      "21:04    Epochs:                 10\n",
      "21:04    Learning rate:          0.002 initially, decaying to 0.0001\n",
      "21:04    Validation split:       None\n",
      "21:04    Early stopping:         True\n",
      "21:04  Loading training data\n",
      "21:04  Found 100000 samples with 2 parameters and 2 observables\n",
      "21:04  Creating model for method sally\n",
      "21:04  Training model\n",
      "21:04    Epoch 1: train loss 0.02 ([0.02398548])\n",
      "21:05    Epoch 2: train loss 0.02 ([0.02214777])\n",
      "21:05    Epoch 3: train loss 0.02 ([0.0219168])\n",
      "21:05    Epoch 4: train loss 0.02 ([0.02188409])\n",
      "21:05    Epoch 5: train loss 0.02 ([0.02187496])\n",
      "21:06    Epoch 6: train loss 0.02 ([0.02173784])\n",
      "21:06    Epoch 7: train loss 0.02 ([0.02164156])\n",
      "21:06    Epoch 8: train loss 0.02 ([0.0215837])\n",
      "21:06    Epoch 9: train loss 0.02 ([0.02153116])\n",
      "21:06    Epoch 10: train loss 0.02 ([0.02149952])\n",
      "21:06  Finished training\n",
      "21:06  Saving ensemble setup to models/sally_ensemble/ensemble.json\n",
      "21:06  Saving settings to models/sally_ensemble/estimator_0_settings.json\n",
      "21:06  Saving state dictionary to models/sally_ensemble/estimator_0_state_dict.pt\n",
      "21:06  Saving settings to models/sally_ensemble/estimator_1_settings.json\n",
      "21:06  Saving state dictionary to models/sally_ensemble/estimator_1_state_dict.pt\n",
      "21:06  Saving settings to models/sally_ensemble/estimator_2_settings.json\n",
      "21:06  Saving state dictionary to models/sally_ensemble/estimator_2_state_dict.pt\n",
      "21:06  Saving settings to models/sally_ensemble/estimator_3_settings.json\n",
      "21:06  Saving state dictionary to models/sally_ensemble/estimator_3_state_dict.pt\n",
      "21:06  Saving settings to models/sally_ensemble/estimator_4_settings.json\n",
      "21:06  Saving state dictionary to models/sally_ensemble/estimator_4_state_dict.pt\n"
     ]
    }
   ],
   "source": [
    "ensemble.train_all(\n",
    "    method='sally',\n",
    "    x_filename='data/samples/x_train0.npy',\n",
    "    t_xz0_filename='data/samples/t_xz_train0.npy',\n",
    "    n_epochs=20,\n",
    "    batch_size=256,\n",
    "    validation_split=None\n",
    ")\n",
    "\n",
    "ensemble.save('models/sally_ensemble')"
   ]
  },
  {
   "cell_type": "markdown",
   "metadata": {},
   "source": [
    "Any evaluation of this ensemble will provide us with mean and variance of the predictions. Let's try that for the Fisher information:"
   ]
  },
  {
   "cell_type": "code",
   "execution_count": 18,
   "metadata": {},
   "outputs": [
    {
     "name": "stderr",
     "output_type": "stream",
     "text": [
      "21:06  Loading data from data/madminer_example_shuffled.h5\n",
      "21:06  Found 2 parameters:\n",
      "21:06     CWL2 (LHA: dim6 2, maximal power in squared ME: (2,), range: (-10.0, 10.0))\n",
      "21:06     CPWL2 (LHA: dim6 5, maximal power in squared ME: (2,), range: (-10.0, 10.0))\n",
      "21:06  Found 6 benchmarks:\n",
      "21:06     sm: CWL2 = 0.00e+00, CPWL2 = 0.00e+00\n",
      "21:06     w: CWL2 = 10.00, CPWL2 = 0.00e+00\n",
      "21:06     morphing_basis_vector_2: CWL2 = 7.63, CPWL2 = -8.69e+00\n",
      "21:06     morphing_basis_vector_3: CWL2 = -8.59e+00, CPWL2 = -8.65e+00\n",
      "21:06     morphing_basis_vector_4: CWL2 = -5.88e+00, CPWL2 = 5.33\n",
      "21:06     morphing_basis_vector_5: CWL2 = 2.84, CPWL2 = 8.99\n",
      "21:06  Found 2 observables: pt_j1, delta_phi_jj\n",
      "21:06  Found 101221 events\n",
      "21:06  Found morphing setup with 6 components\n",
      "21:07  Loading ensemble setup from models/sally_ensemble/ensemble.json\n",
      "21:07    Found ensemble with 5 estimators and expectations None\n",
      "21:07  Loading settings from models/sally_ensemble/estimator_0_settings.json\n",
      "21:07    Found method sally, 2 observables, 2 parameters, (100, 100, 100) hidden layers, tanh activation function, features None\n",
      "21:07  Loading state dictionary from models/sally_ensemble/estimator_0_state_dict.pt\n",
      "21:07  Loading settings from models/sally_ensemble/estimator_1_settings.json\n",
      "21:07    Found method sally, 2 observables, 2 parameters, (100, 100, 100) hidden layers, tanh activation function, features None\n",
      "21:07  Loading state dictionary from models/sally_ensemble/estimator_1_state_dict.pt\n",
      "21:07  Loading settings from models/sally_ensemble/estimator_2_settings.json\n",
      "21:07    Found method sally, 2 observables, 2 parameters, (100, 100, 100) hidden layers, tanh activation function, features None\n",
      "21:07  Loading state dictionary from models/sally_ensemble/estimator_2_state_dict.pt\n",
      "21:07  Loading settings from models/sally_ensemble/estimator_3_settings.json\n",
      "21:07    Found method sally, 2 observables, 2 parameters, (100, 100, 100) hidden layers, tanh activation function, features None\n",
      "21:07  Loading state dictionary from models/sally_ensemble/estimator_3_state_dict.pt\n",
      "21:07  Loading settings from models/sally_ensemble/estimator_4_settings.json\n",
      "21:07    Found method sally, 2 observables, 2 parameters, (100, 100, 100) hidden layers, tanh activation function, features None\n",
      "21:07  Loading state dictionary from models/sally_ensemble/estimator_4_state_dict.pt\n",
      "21:07  Evaluating Fisher information for 5 estimators in ensemble\n",
      "21:07  Starting evaluation for estimator 1 / 5 in ensemble\n",
      "21:07  Loading evaluation data\n",
      "21:07  Starting score evaluation\n",
      "21:07  Expected score (should be close to zero): [-0.0113867 -0.0039519]\n",
      "21:07  Starting evaluation for estimator 2 / 5 in ensemble\n",
      "21:07  Loading evaluation data\n",
      "21:07  Starting score evaluation\n",
      "21:07  Expected score (should be close to zero): [-0.00905408 -0.00368417]\n",
      "21:07  Starting evaluation for estimator 3 / 5 in ensemble\n",
      "21:07  Loading evaluation data\n",
      "21:07  Starting score evaluation\n",
      "21:07  Expected score (should be close to zero): [ 0.00369594 -0.00410651]\n",
      "21:07  Starting evaluation for estimator 4 / 5 in ensemble\n",
      "21:07  Loading evaluation data\n",
      "21:07  Starting score evaluation\n",
      "21:07  Expected score (should be close to zero): [ 0.00187113 -0.0044763 ]\n",
      "21:07  Starting evaluation for estimator 5 / 5 in ensemble\n",
      "21:07  Loading evaluation data\n",
      "21:07  Starting score evaluation\n",
      "21:07  Expected score (should be close to zero): [-0.0026565   0.00384175]\n"
     ]
    }
   ],
   "source": [
    "fisher = FisherInformation('data/madminer_example_shuffled.h5', debug=False)\n",
    "\n",
    "fisher_information_mean, fisher_information_covariance = fisher.calculate_fisher_information_full_detector(\n",
    "    theta=[0.,0.],\n",
    "    model_file='models/sally_ensemble',\n",
    "    unweighted_x_sample_file='data/samples/x_test.npy',\n",
    "    luminosity=300000.\n",
    ")"
   ]
  },
  {
   "cell_type": "markdown",
   "metadata": {},
   "source": [
    "The covariance can be propagated to the Fisher distance contour plot easily:"
   ]
  },
  {
   "cell_type": "code",
   "execution_count": 19,
   "metadata": {},
   "outputs": [
    {
     "data": {
      "image/png": "[encoded data removed]",
      "text/plain": [
       "<matplotlib.figure.Figure at 0x1123ba588>"
      ]
     },
     "metadata": {},
     "output_type": "display_data"
    }
   ],
   "source": [
    "_ = plot_fisher_information_contours_2d(\n",
    "    [fisher_information_mean],\n",
    "    [fisher_information_covariance],\n",
    "    xrange=(-2.,2.),\n",
    "    yrange=(-2.,2.)\n",
    ")"
   ]
  },
  {
   "cell_type": "markdown",
   "metadata": {},
   "source": [
    "Confused? If you have questions, please have a look at the papers, the module documentation, or drop us an email!"
   ]
  },
  {
   "cell_type": "code",
   "execution_count": null,
   "metadata": {
    "collapsed": true
   },
   "outputs": [],
   "source": []
  }
 ],
 "metadata": {
  "kernelspec": {
   "display_name": "Python 3",
   "language": "python",
   "name": "python3"
  },
  "language_info": {
   "codemirror_mode": {
    "name": "ipython",
    "version": 3
   },
   "file_extension": ".py",
   "mimetype": "text/x-python",
   "name": "python",
   "nbconvert_exporter": "python",
   "pygments_lexer": "ipython3",
   "version": "3.6.3"
  }
 },
 "nbformat": 4,
 "nbformat_minor": 2
}
