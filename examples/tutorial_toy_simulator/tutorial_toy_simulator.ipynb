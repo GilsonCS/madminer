{
 "cells": [
  {
   "cell_type": "markdown",
   "metadata": {},
   "source": [
    "# Toy example\n",
    "\n",
    "Original notebook by Alexander Held, edited for the MadMiner repository by Johann Brehmer, Felix Kling, and Kyle Cranmer 2018."
   ]
  },
  {
   "cell_type": "markdown",
   "metadata": {},
   "source": [
    "In this notebook, we use a simple toy example to demonstrate the machine learning and inference algorithms in MadMiner. This allows us to skip many of the more technical steps, and there's no dependency on MadGraph, Pythia, or Delphes.\n",
    "\n",
    "What this tutorial does not do, is explaining the inference methods. To understand what's happening, please have a look at [\"Constraining Effective Field Theories With Machine Learning\"](https://arxiv.org/abs/1805.00013), which will explain the basic idea in just a few pages. If you really want to get down to the dirty details, [\"A Guide to Constraining Effective Field Theories With Machine Learning\"](https://arxiv.org/abs/1805.00020) has you covered."
   ]
  },
  {
   "cell_type": "markdown",
   "metadata": {},
   "source": [
    "## Preparations"
   ]
  },
  {
   "cell_type": "code",
   "execution_count": 1,
   "metadata": {},
   "outputs": [],
   "source": [
    "from __future__ import absolute_import, division, print_function, unicode_literals\n",
    "\n",
    "import os\n",
    "import logging\n",
    "import numpy as np\n",
    "from scipy.stats import norm\n",
    "import matplotlib\n",
    "from matplotlib import pyplot as plt\n",
    "%matplotlib inline\n",
    "\n",
    "from madminer.ml import MLForge"
   ]
  },
  {
   "cell_type": "code",
   "execution_count": 2,
   "metadata": {},
   "outputs": [],
   "source": [
    "if not os.path.exists('data'):\n",
    "    os.makedirs('data')"
   ]
  },
  {
   "cell_type": "markdown",
   "metadata": {},
   "source": [
    "MadMiner uses the Python `logging` module to provide additional information and debugging output. You can choose how much of this output you want to see by switching the level in the following lines to `logging.DEBUG` or `logging.WARNING`."
   ]
  },
  {
   "cell_type": "code",
   "execution_count": 3,
   "metadata": {},
   "outputs": [],
   "source": [
    "# MadMiner output\n",
    "logging.basicConfig(\n",
    "    format='%(asctime)-5.5s %(name)-20.20s %(levelname)-7.7s %(message)s',\n",
    "    datefmt='%H:%M',\n",
    "    level=logging.INFO\n",
    ")\n",
    "\n",
    "# Output of all other modules (e.g. matplotlib)\n",
    "for key in logging.Logger.manager.loggerDict:\n",
    "    if \"madminer\" not in key:\n",
    "        logging.getLogger(key).setLevel(logging.WARNING)"
   ]
  },
  {
   "cell_type": "markdown",
   "metadata": {},
   "source": [
    "## 1. A toy simulator"
   ]
  },
  {
   "cell_type": "markdown",
   "metadata": {},
   "source": [
    "Our simulator depends on just one parameter `theta` and produces one-dimensional observables `x`. It is characterized by one latent variable `z`. \"Running\" the simulator consists of two steps:\n",
    "- \"Hard process\": a value of `z` is drawn from a normal distribution, where the mean depends on `theta`. \n",
    "- \"Detector\": a value for `x` is drawn from a normal distribution with mean equal to `z`. There is no explicit dependence on `theta`.\n",
    "\n",
    "As in the particle physics case, we assume that we can calculate the joint likelihood ratio `r(x, z | theta0, theta1)` as well as the joint score `t(x, z | theta)`, which depend explicitly on `z` (and where the \"detector\" part cancels).\n",
    "\n",
    "Here are some general settings (feel free to play with them):"
   ]
  },
  {
   "cell_type": "code",
   "execution_count": 4,
   "metadata": {},
   "outputs": [],
   "source": [
    "def z_mean(theta):\n",
    "    return theta + 10.\n",
    "\n",
    "z_std = 2.\n",
    "x_std = 1."
   ]
  },
  {
   "cell_type": "markdown",
   "metadata": {},
   "source": [
    "The following function runs the simulator for a value of `theta` and calculates the joint likelihood ratio between `theta0` and `theta1` as well as the joint score at `theta_score`:"
   ]
  },
  {
   "cell_type": "code",
   "execution_count": 5,
   "metadata": {},
   "outputs": [],
   "source": [
    "def simulate(theta, theta0=None, theta1=None, theta_score=None, npoints=None):\n",
    "    # Draw latent variable\n",
    "    z = np.random.normal(loc=z_mean(theta), scale=z_std, size=npoints)\n",
    "    \n",
    "    # Draw observable\n",
    "    x = np.random.normal(loc=z, scale=x_std, size=None)\n",
    "    \n",
    "    # Calculate joint likelihood ratio and joint score\n",
    "    if theta0 is not None and theta1 is not None:\n",
    "        r_xz = norm(loc=z_mean(theta0), scale=z_std).pdf(z) / norm(loc=z_mean(theta1), scale=z_std).pdf(z)\n",
    "    else:\n",
    "        r_xz = None\n",
    "        \n",
    "    if theta_score is not None:\n",
    "        t_xz = (x - z_mean(theta_score)) / z_std**2\n",
    "    else:\n",
    "        t_xz = None\n",
    "    \n",
    "    return x, r_xz, t_xz"
   ]
  },
  {
   "cell_type": "markdown",
   "metadata": {},
   "source": [
    "Let's try that:"
   ]
  },
  {
   "cell_type": "code",
   "execution_count": 14,
   "metadata": {},
   "outputs": [
    {
     "data": {
      "image/png": "[encoded data removed]",
      "text/plain": [
       "<Figure size 360x360 with 1 Axes>"
      ]
     },
     "metadata": {
      "needs_background": "light"
     },
     "output_type": "display_data"
    }
   ],
   "source": [
    "x0, _, _ = simulate(0., npoints=100000)\n",
    "x2, _, _ = simulate(2., npoints=100000)\n",
    "\n",
    "fig = plt.figure(figsize=(5,5))\n",
    "\n",
    "plt.hist(x0, bins=50, range=(0.,20.), histtype='step', label=r'$p(x | \\theta = 0)$')\n",
    "plt.hist(x2, bins=50, range=(0.,20.), histtype='step', label=r'$p(x | \\theta = 2)$')\n",
    "\n",
    "plt.legend()\n",
    "plt.xlabel('$x$')\n",
    "\n",
    "plt.tight_layout()\n",
    "plt.show()"
   ]
  },
  {
   "cell_type": "markdown",
   "metadata": {},
   "source": [
    "Usually the likelihood function `p(x|theta)` is intractable, but in this toy example it is just given by the convolution of two Gaussians, which is again a Gaussian. We will use this to validate the results later:"
   ]
  },
  {
   "cell_type": "code",
   "execution_count": 15,
   "metadata": {},
   "outputs": [],
   "source": [
    "def calculate_likelihood_ratio(x, theta0, theta1=0.):\n",
    "    combined_std = (z_std**2 + x_std**2)**0.5\n",
    "    r_x = norm(loc=z_mean(theta0), scale=combined_std).pdf(x) / norm(loc=z_mean(theta1), scale=combined_std).pdf(x)\n",
    "    return r_x"
   ]
  },
  {
   "cell_type": "markdown",
   "metadata": {},
   "source": [
    "## 2. Run the simulation and generate training data"
   ]
  },
  {
   "cell_type": "markdown",
   "metadata": {},
   "source": [
    "First, we define the parameter points we want to use for training:"
   ]
  },
  {
   "cell_type": "code",
   "execution_count": 16,
   "metadata": {},
   "outputs": [],
   "source": [
    "n_param_points = 50000 # number of parameter points to train\n",
    "\n",
    "theta0 = np.random.uniform(low=-4.0, high=4.0, size=n_param_points) # numerator, uniform prior\n",
    "theta1 = np.zeros(shape=n_param_points)                             # denominator: fixed at 0"
   ]
  },
  {
   "cell_type": "markdown",
   "metadata": {},
   "source": [
    "We then run the simulator (one sample per parameter point):"
   ]
  },
  {
   "cell_type": "code",
   "execution_count": 17,
   "metadata": {},
   "outputs": [],
   "source": [
    "# Sample from theta0\n",
    "x_from_theta0, r_xz_from_theta0, t_xz_from_theta0 = simulate(theta0, theta0, theta1, theta0)\n",
    "\n",
    "# Sample from theta1\n",
    "x_from_theta1, r_xz_from_theta1, t_xz_from_theta1 = simulate(theta1, theta0, theta1, theta0)\n",
    "\n",
    "# Combine results and reshape\n",
    "x_train = np.hstack((x_from_theta0, x_from_theta1)).reshape(-1,1)\n",
    "r_xz_train = np.hstack((r_xz_from_theta0, r_xz_from_theta1)).reshape(-1,1)\n",
    "t_xz_train = np.hstack((t_xz_from_theta0, t_xz_from_theta1)).reshape(-1,1)\n",
    "y_train = np.hstack((np.zeros_like(x_from_theta0), np.ones_like(np.ones_like(x_from_theta1)))).reshape(-1,1)\n",
    "theta0_train = np.hstack((theta0, theta0)).reshape(-1,1)\n"
   ]
  },
  {
   "cell_type": "markdown",
   "metadata": {},
   "source": [
    "Save everything to files."
   ]
  },
  {
   "cell_type": "code",
   "execution_count": 18,
   "metadata": {},
   "outputs": [],
   "source": [
    "np.save('data/theta0_train.npy', theta0_train)\n",
    "np.save('data/x_train.npy', x_train)\n",
    "np.save('data/y_train.npy', y_train)\n",
    "np.save('data/r_xz_train.npy', r_xz_train)\n",
    "np.save('data/t_xz_train.npy', t_xz_train)"
   ]
  },
  {
   "cell_type": "markdown",
   "metadata": {},
   "source": [
    "## 3. Model training"
   ]
  },
  {
   "cell_type": "markdown",
   "metadata": {},
   "source": [
    "Let's train two neural networks to estimate the likelihood ratio. For one we use the CARL method introduced in [\"Approximating Likelihood Ratios with Calibrated Discriminative Classifiers\"](https://arxiv.org/abs/1506.02169), for the other the new ALICES method introduced in [\"Likelihood-free inference with an improved cross-entropy estimator\"](https://arxiv.org/abs/1808.00973)."
   ]
  },
  {
   "cell_type": "code",
   "execution_count": 20,
   "metadata": {},
   "outputs": [
    {
     "name": "stderr",
     "output_type": "stream",
     "text": [
      "10:29 madminer.ml          INFO    Starting training\n",
      "10:29 madminer.ml          INFO      Method:                 carl\n",
      "10:29 madminer.ml          INFO      Training data:          x at data/x_train.npy\n",
      "10:29 madminer.ml          INFO                              theta0 at data/theta0_train.npy\n",
      "10:29 madminer.ml          INFO                              y at data/y_train.npy\n",
      "10:29 madminer.ml          INFO      Features:               all\n",
      "10:29 madminer.ml          INFO      Method:                 carl\n",
      "10:29 madminer.ml          INFO      Hidden layers:          (20, 20)\n",
      "10:29 madminer.ml          INFO      Activation function:    tanh\n",
      "10:29 madminer.ml          INFO      Batch size:             128\n",
      "10:29 madminer.ml          INFO      Trainer:                amsgrad\n",
      "10:29 madminer.ml          INFO      Epochs:                 10\n",
      "10:29 madminer.ml          INFO      Learning rate:          0.001 initially, decaying to 0.0001\n",
      "10:29 madminer.ml          INFO      Validation split:       0.3\n",
      "10:29 madminer.ml          INFO      Early stopping:         True\n",
      "10:29 madminer.ml          INFO      Scale inputs:           True\n",
      "10:29 madminer.ml          INFO      Shuffle labels          False\n",
      "10:29 madminer.ml          INFO      Regularization:         None\n",
      "10:29 madminer.ml          INFO      Samples:                all\n",
      "10:29 madminer.ml          INFO    Loading training data\n",
      "10:29 madminer.ml          INFO    Found 100000 samples with 1 parameters and 1 observables\n",
      "10:29 madminer.ml          INFO    Rescaling inputs\n",
      "10:29 madminer.ml          INFO    Creating model for method carl\n",
      "10:29 madminer.ml          INFO    Training model\n",
      "10:29 madminer.utils.ml.ra INFO      Epoch 01: train loss 0.6199 (xe: 0.6199)\n",
      "10:29 madminer.utils.ml.ra INFO                val. loss  0.5913 (xe: 0.5913) (*)\n",
      "10:29 madminer.utils.ml.ra INFO      Epoch 02: train loss 0.5912 (xe: 0.5912)\n",
      "10:29 madminer.utils.ml.ra INFO                val. loss  0.5918 (xe: 0.5893)\n",
      "10:29 madminer.utils.ml.ra INFO      Epoch 03: train loss 0.5895 (xe: 0.5895)\n",
      "10:29 madminer.utils.ml.ra INFO                val. loss  0.5931 (xe: 0.5905)\n",
      "10:29 madminer.utils.ml.ra INFO      Epoch 04: train loss 0.5883 (xe: 0.5883)\n",
      "10:29 madminer.utils.ml.ra INFO                val. loss  0.5903 (xe: 0.5878) (*)\n",
      "10:29 madminer.utils.ml.ra INFO      Epoch 05: train loss 0.5878 (xe: 0.5878)\n",
      "10:29 madminer.utils.ml.ra INFO                val. loss  0.5904 (xe: 0.5878)\n",
      "10:29 madminer.utils.ml.ra INFO      Epoch 06: train loss 0.5873 (xe: 0.5873)\n",
      "10:29 madminer.utils.ml.ra INFO                val. loss  0.5896 (xe: 0.5871) (*)\n",
      "10:30 madminer.utils.ml.ra INFO      Epoch 07: train loss 0.5870 (xe: 0.5870)\n",
      "10:30 madminer.utils.ml.ra INFO                val. loss  0.5897 (xe: 0.5872)\n",
      "10:30 madminer.utils.ml.ra INFO      Epoch 08: train loss 0.5868 (xe: 0.5868)\n",
      "10:30 madminer.utils.ml.ra INFO                val. loss  0.5896 (xe: 0.5871)\n",
      "10:30 madminer.utils.ml.ra INFO      Epoch 09: train loss 0.5867 (xe: 0.5867)\n",
      "10:30 madminer.utils.ml.ra INFO                val. loss  0.5893 (xe: 0.5868) (*)\n",
      "10:30 madminer.utils.ml.ra INFO      Epoch 10: train loss 0.5866 (xe: 0.5866)\n",
      "10:30 madminer.utils.ml.ra INFO                val. loss  0.5890 (xe: 0.5865) (*)\n",
      "10:30 madminer.utils.ml.ra INFO    Early stopping did not improve performance\n",
      "10:30 madminer.utils.ml.ra INFO    Finished training\n"
     ]
    }
   ],
   "source": [
    "forge = MLForge()\n",
    "\n",
    "forge.train(\n",
    "    method='carl',\n",
    "    x_filename='data/x_train.npy',\n",
    "    y_filename='data/y_train.npy',\n",
    "    theta0_filename='data/theta0_train.npy',\n",
    "    alpha=0.1,\n",
    "    n_epochs=10,\n",
    "    n_hidden=(20,20),\n",
    "    validation_split=0.3,\n",
    "    batch_size=128,\n",
    ")\n",
    "\n",
    "forge.save('models/carl')"
   ]
  },
  {
   "cell_type": "code",
   "execution_count": 19,
   "metadata": {},
   "outputs": [
    {
     "name": "stderr",
     "output_type": "stream",
     "text": [
      "10:27 madminer.ml          INFO    Starting training\n",
      "10:27 madminer.ml          INFO      Method:                 alices\n",
      "10:27 madminer.ml          INFO      Training data:          x at data/x_train.npy\n",
      "10:27 madminer.ml          INFO                              theta0 at data/theta0_train.npy\n",
      "10:27 madminer.ml          INFO                              y at data/y_train.npy\n",
      "10:27 madminer.ml          INFO                              r_xz at data/r_xz_train.npy\n",
      "10:27 madminer.ml          INFO                              t_xz (theta0) at data/t_xz_train.npy\n",
      "10:27 madminer.ml          INFO      Features:               all\n",
      "10:27 madminer.ml          INFO      Method:                 alices\n",
      "10:27 madminer.ml          INFO      Hidden layers:          (20, 20)\n",
      "10:27 madminer.ml          INFO      Activation function:    tanh\n",
      "10:27 madminer.ml          INFO      alpha:                  0.1\n",
      "10:27 madminer.ml          INFO      Batch size:             128\n",
      "10:27 madminer.ml          INFO      Trainer:                amsgrad\n",
      "10:27 madminer.ml          INFO      Epochs:                 10\n",
      "10:27 madminer.ml          INFO      Learning rate:          0.001 initially, decaying to 0.0001\n",
      "10:27 madminer.ml          INFO      Validation split:       0.3\n",
      "10:27 madminer.ml          INFO      Early stopping:         True\n",
      "10:27 madminer.ml          INFO      Scale inputs:           True\n",
      "10:27 madminer.ml          INFO      Shuffle labels          False\n",
      "10:27 madminer.ml          INFO      Regularization:         None\n",
      "10:27 madminer.ml          INFO      Samples:                all\n",
      "10:27 madminer.ml          INFO    Loading training data\n",
      "10:27 madminer.ml          INFO    Found 100000 samples with 1 parameters and 1 observables\n",
      "10:27 madminer.ml          INFO    Rescaling inputs\n",
      "10:27 madminer.ml          INFO    Creating model for method alices\n",
      "10:27 madminer.ml          INFO    Training model\n",
      "10:27 madminer.utils.ml.ra INFO      Epoch 01: train loss 0.6241 (improved_xe: 0.6165, mse_score: 0.0760)\n",
      "10:27 madminer.utils.ml.ra INFO                val. loss  0.5882 (improved_xe: 0.5858, mse_score: 0.0247) (*)\n",
      "10:27 madminer.utils.ml.ra INFO      Epoch 02: train loss 0.5887 (improved_xe: 0.5869, mse_score: 0.0183)\n",
      "10:27 madminer.utils.ml.ra INFO                val. loss  0.5879 (improved_xe: 0.5839, mse_score: 0.0152) (*)\n",
      "10:27 madminer.utils.ml.ra INFO      Epoch 03: train loss 0.5872 (improved_xe: 0.5859, mse_score: 0.0130)\n",
      "10:27 madminer.utils.ml.ra INFO                val. loss  0.5870 (improved_xe: 0.5833, mse_score: 0.0122) (*)\n",
      "10:27 madminer.utils.ml.ra INFO      Epoch 04: train loss 0.5866 (improved_xe: 0.5855, mse_score: 0.0107)\n",
      "10:27 madminer.utils.ml.ra INFO                val. loss  0.5865 (improved_xe: 0.5830, mse_score: 0.0103) (*)\n",
      "10:27 madminer.utils.ml.ra INFO      Epoch 05: train loss 0.5863 (improved_xe: 0.5853, mse_score: 0.0096)\n",
      "10:27 madminer.utils.ml.ra INFO                val. loss  0.5862 (improved_xe: 0.5827, mse_score: 0.0092) (*)\n",
      "10:28 madminer.utils.ml.ra INFO      Epoch 06: train loss 0.5861 (improved_xe: 0.5852, mse_score: 0.0087)\n",
      "10:28 madminer.utils.ml.ra INFO                val. loss  0.5862 (improved_xe: 0.5828, mse_score: 0.0090) (*)\n",
      "10:28 madminer.utils.ml.ra INFO      Epoch 07: train loss 0.5860 (improved_xe: 0.5851, mse_score: 0.0084)\n",
      "10:28 madminer.utils.ml.ra INFO                val. loss  0.5861 (improved_xe: 0.5828, mse_score: 0.0083) (*)\n",
      "10:28 madminer.utils.ml.ra INFO      Epoch 08: train loss 0.5859 (improved_xe: 0.5851, mse_score: 0.0081)\n",
      "10:28 madminer.utils.ml.ra INFO                val. loss  0.5860 (improved_xe: 0.5827, mse_score: 0.0080) (*)\n",
      "10:28 madminer.utils.ml.ra INFO      Epoch 09: train loss 0.5859 (improved_xe: 0.5851, mse_score: 0.0078)\n",
      "10:28 madminer.utils.ml.ra INFO                val. loss  0.5859 (improved_xe: 0.5826, mse_score: 0.0079) (*)\n",
      "10:28 madminer.utils.ml.ra INFO      Epoch 10: train loss 0.5858 (improved_xe: 0.5851, mse_score: 0.0077)\n",
      "10:28 madminer.utils.ml.ra INFO                val. loss  0.5858 (improved_xe: 0.5825, mse_score: 0.0077) (*)\n",
      "10:28 madminer.utils.ml.ra INFO    Early stopping did not improve performance\n",
      "10:28 madminer.utils.ml.ra INFO    Finished training\n"
     ]
    }
   ],
   "source": [
    "forge = MLForge()\n",
    "\n",
    "forge.train(\n",
    "    method='alices',\n",
    "    x_filename='data/x_train.npy',\n",
    "    y_filename='data/y_train.npy',\n",
    "    theta0_filename='data/theta0_train.npy',\n",
    "    r_xz_filename='data/r_xz_train.npy',\n",
    "    t_xz0_filename='data/t_xz_train.npy',\n",
    "    alpha=0.1,\n",
    "    n_epochs=10,\n",
    "    n_hidden=(20,20),\n",
    "    validation_split=0.3,\n",
    "    batch_size=128,\n",
    ")\n",
    "\n",
    "forge.save('models/alices')"
   ]
  },
  {
   "cell_type": "markdown",
   "metadata": {},
   "source": [
    "## 4. Generate evaluation data"
   ]
  },
  {
   "cell_type": "markdown",
   "metadata": {},
   "source": [
    "We generate one test set from theta = 1:"
   ]
  },
  {
   "cell_type": "code",
   "execution_count": 22,
   "metadata": {},
   "outputs": [],
   "source": [
    "n_param_points_test = 1000 # number of parameter points to test\n",
    "\n",
    "theta_test = 1. * np.ones(shape=n_param_points_test).reshape(-1,1)"
   ]
  },
  {
   "cell_type": "markdown",
   "metadata": {},
   "source": [
    "Run the simulator to get observations:"
   ]
  },
  {
   "cell_type": "code",
   "execution_count": 23,
   "metadata": {},
   "outputs": [],
   "source": [
    "x_test, _, _ = simulate(theta_test)\n",
    "\n",
    "np.save('data/x_test.npy', x_test)"
   ]
  },
  {
   "cell_type": "markdown",
   "metadata": {},
   "source": [
    "We want to evaluate the expected likelihood ratio on a range of parameter points:"
   ]
  },
  {
   "cell_type": "code",
   "execution_count": 24,
   "metadata": {},
   "outputs": [],
   "source": [
    "theta_grid = np.linspace(-5.,5.,100).reshape(-1, 1)\n",
    "\n",
    "np.save('data/theta_grid.npy', theta_grid)"
   ]
  },
  {
   "cell_type": "markdown",
   "metadata": {},
   "source": [
    "In this toy example, we can calculate the true likelihood ratio. We will save the expected log likelihood ratio (multiplied with a conventional factor of -2):"
   ]
  },
  {
   "cell_type": "code",
   "execution_count": 25,
   "metadata": {},
   "outputs": [],
   "source": [
    "nllr_test_true = []\n",
    "\n",
    "for theta in theta_grid:\n",
    "    r = calculate_likelihood_ratio(x_test, theta)\n",
    "    nllr_test_true.append(-2. * np.mean(np.log(r)))"
   ]
  },
  {
   "cell_type": "markdown",
   "metadata": {},
   "source": [
    "## 5. Evaluation"
   ]
  },
  {
   "cell_type": "markdown",
   "metadata": {},
   "source": [
    "It's time to evaluate our likelihood ratio estimators!"
   ]
  },
  {
   "cell_type": "code",
   "execution_count": 26,
   "metadata": {},
   "outputs": [],
   "source": [
    "forge = MLForge()\n",
    "forge.load('models/carl')\n",
    "\n",
    "log_r, _, _ = forge.evaluate(\n",
    "    theta0_filename='data/theta_grid.npy',\n",
    "    x='data/x_test.npy',\n",
    "    evaluate_score=False\n",
    ")\n",
    "\n",
    "nllr_test_carl = -2. * np.mean(log_r, axis=1)"
   ]
  },
  {
   "cell_type": "code",
   "execution_count": 27,
   "metadata": {},
   "outputs": [],
   "source": [
    "forge = MLForge()\n",
    "forge.load('models/alices')\n",
    "\n",
    "log_r, _, _ = forge.evaluate(\n",
    "    theta0_filename='data/theta_grid.npy',\n",
    "    x='data/x_test.npy',\n",
    "    evaluate_score=False\n",
    ")\n",
    "\n",
    "nllr_test_alices = -2. * np.mean(log_r, axis=1)"
   ]
  },
  {
   "cell_type": "markdown",
   "metadata": {},
   "source": [
    "This is the expected log likelihood ratio over parameter space:"
   ]
  },
  {
   "cell_type": "code",
   "execution_count": 34,
   "metadata": {},
   "outputs": [
    {
     "data": {
      "image/png": "[encoded data removed]",
      "text/plain": [
       "<Figure size 360x360 with 1 Axes>"
      ]
     },
     "metadata": {
      "needs_background": "light"
     },
     "output_type": "display_data"
    }
   ],
   "source": [
    "best_fit_alices = float(theta_grid[np.argmin(nllr_test_alices)])\n",
    "best_fit_carl = float(theta_grid[np.argmin(nllr_test_carl)])\n",
    "\n",
    "fig = plt.figure(figsize=(5,5))\n",
    "\n",
    "plt.plot(theta_grid, nllr_test_true, label=r'Ground truth ($\\theta = 1.0$)')\n",
    "plt.plot(theta_grid, nllr_test_carl, label=r'CARL ($\\hat{\\theta} = ' + '{:.1f}$)'.format(best_fit_carl))\n",
    "plt.plot(theta_grid, nllr_test_alices, label=r'ALICES ($\\hat{\\theta} = ' + '{:.1f}$)'.format(best_fit_alices))\n",
    "\n",
    "plt.xlabel(r'$\\theta$')\n",
    "plt.ylabel(r'$\\mathbb{E}_x [ -2\\, \\log \\,r(x | \\theta, \\theta_{1}) ]$')\n",
    "\n",
    "plt.legend()\n",
    "plt.tight_layout()\n",
    "plt.show()"
   ]
  },
  {
   "cell_type": "markdown",
   "metadata": {},
   "source": [
    "You should see that the new ALICES approach is a much better approximation of the true likelihood ratio than the CARL estimate. Note that we only trained in the parameter range (-4, 4), so the deviations at the left and right of the plot are to be expected."
   ]
  },
  {
   "cell_type": "code",
   "execution_count": null,
   "metadata": {},
   "outputs": [],
   "source": []
  }
 ],
 "metadata": {
  "kernelspec": {
   "display_name": "Python (higgs_inference)",
   "language": "python",
   "name": "higgs_inference"
  },
  "language_info": {
   "codemirror_mode": {
    "name": "ipython",
    "version": 3
   },
   "file_extension": ".py",
   "mimetype": "text/x-python",
   "name": "python",
   "nbconvert_exporter": "python",
   "pygments_lexer": "ipython3",
   "version": "3.6.7"
  }
 },
 "nbformat": 4,
 "nbformat_minor": 2
}
