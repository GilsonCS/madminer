{
 "cells": [
  {
   "cell_type": "markdown",
   "metadata": {},
   "source": [
    "# Toy example\n",
    "\n",
    "Original notebook by Alexander Held, edited for the MadMiner repository by Johann Brehmer, Felix Kling, and Kyle Cranmer 2018."
   ]
  },
  {
   "cell_type": "markdown",
   "metadata": {},
   "source": [
    "In this notebook, we use a simple toy example to demonstrate the machine learning and inference algorithms in MadMiner. This allows us to skip many of the more technical steps, and there's no dependency on MadGraph, Pythia, or Delphes.\n",
    "\n",
    "What this tutorial does not do, is explaining the inference methods. To understand what's happening, please have a look at [\"Constraining Effective Field Theories With Machine Learning\"](https://arxiv.org/abs/1805.00013), which will explain the basic idea in just a few pages. If you really want to get down to the dirty details, [\"A Guide to Constraining Effective Field Theories With Machine Learning\"](https://arxiv.org/abs/1805.00020) has you covered."
   ]
  },
  {
   "cell_type": "markdown",
   "metadata": {},
   "source": [
    "## Preparations"
   ]
  },
  {
   "cell_type": "code",
   "execution_count": 36,
   "metadata": {},
   "outputs": [],
   "source": [
    "from __future__ import absolute_import, division, print_function, unicode_literals\n",
    "\n",
    "import os\n",
    "import logging\n",
    "import numpy as np\n",
    "from scipy.stats import norm\n",
    "import matplotlib\n",
    "from matplotlib import pyplot as plt\n",
    "%matplotlib inline\n",
    "\n",
    "from madminer.ml import MLForge"
   ]
  },
  {
   "cell_type": "code",
   "execution_count": 37,
   "metadata": {},
   "outputs": [],
   "source": [
    "if not os.path.exists('data'):\n",
    "    os.makedirs('data')"
   ]
  },
  {
   "cell_type": "markdown",
   "metadata": {},
   "source": [
    "MadMiner uses the Python `logging` module to provide additional information and debugging output. You can choose how much of this output you want to see by switching the level in the following lines to `logging.DEBUG` or `logging.WARNING`."
   ]
  },
  {
   "cell_type": "code",
   "execution_count": 38,
   "metadata": {},
   "outputs": [],
   "source": [
    "# MadMiner output\n",
    "logging.basicConfig(\n",
    "    format='%(asctime)-5.5s %(name)-20.20s %(levelname)-7.7s %(message)s',\n",
    "    datefmt='%H:%M',\n",
    "    level=logging.INFO\n",
    ")\n",
    "\n",
    "# Output of all other modules (e.g. matplotlib)\n",
    "for key in logging.Logger.manager.loggerDict:\n",
    "    if \"madminer\" not in key:\n",
    "        logging.getLogger(key).setLevel(logging.WARNING)"
   ]
  },
  {
   "cell_type": "markdown",
   "metadata": {},
   "source": [
    "## 1. A toy simulator"
   ]
  },
  {
   "cell_type": "markdown",
   "metadata": {},
   "source": [
    "Our simulator depends on just one parameter `theta` and produces one-dimensional observables `x`. It is characterized by one latent variable `z`. \"Running\" the simulator consists of two steps:\n",
    "- \"Hard process\": a value of `z` is drawn from a normal distribution, where the mean depends on `theta`. \n",
    "- \"Detector\": a value for `x` is drawn from a normal distribution with mean equal to `z`. There is no explicit dependence on `theta`.\n",
    "\n",
    "As in the particle physics case, we assume that we can calculate the joint likelihood ratio `r(x, z | theta0, theta1)` as well as the joint score `t(x, z | theta)`, which depend explicitly on `z` (and where the \"detector\" part cancels).\n",
    "\n",
    "Here are some general settings (feel free to play with them): "
   ]
  },
  {
   "cell_type": "code",
   "execution_count": 39,
   "metadata": {},
   "outputs": [],
   "source": [
    "z_std = 2.\n",
    "x_std = 1."
   ]
  },
  {
   "cell_type": "markdown",
   "metadata": {},
   "source": [
    "The following function runs the simulator for a value of `theta` and calculates the joint likelihood ratio between `theta0` and `theta1` as well as the joint score at `theta_score`:"
   ]
  },
  {
   "cell_type": "code",
   "execution_count": 40,
   "metadata": {},
   "outputs": [],
   "source": [
    "def simulate(theta, theta0=None, theta1=None, theta_score=None, npoints=None):\n",
    "    # Draw latent variables z \n",
    "    z = np.random.normal(loc=theta, scale=z_std, size=npoints)\n",
    "    \n",
    "    # Draw observables x\n",
    "    x = np.random.normal(loc=z  , scale=x_std, size=None)\n",
    "    \n",
    "    # Calculate joint likelihood ratio and joint score\n",
    "    if theta0 is not None and theta1 is not None:\n",
    "        r_xz = norm(loc=theta0, scale=z_std).pdf(z) / norm(loc=theta1, scale=z_std).pdf(z)\n",
    "    else:\n",
    "        r_xz = None\n",
    "        \n",
    "    if theta_score is not None:\n",
    "        t_xz = (x - theta_score) / z_std**2\n",
    "    else:\n",
    "        t_xz = None\n",
    "    \n",
    "    return x, r_xz, t_xz"
   ]
  },
  {
   "cell_type": "markdown",
   "metadata": {},
   "source": [
    "Usually the likelihood function `p(x|theta)` is intractable, but in this toy example it is just given by the convolution of two Gaussians, which is again a Gaussian. We will use this to validate the results later:"
   ]
  },
  {
   "cell_type": "code",
   "execution_count": 41,
   "metadata": {},
   "outputs": [],
   "source": [
    "def calculate_likelihood_ratio(x, theta0, theta1=0.):\n",
    "    combined_std = (z_std**2 + x_std**2)**0.5\n",
    "    r_x = norm(loc=theta0, scale=combined_std).pdf(x) / norm(loc=theta1, scale=combined_std).pdf(x)\n",
    "    return r_x"
   ]
  },
  {
   "cell_type": "markdown",
   "metadata": {},
   "source": [
    "Let's now visualize that: we run the simulation and plot the probability distributions $p(x | \\theta_i)$. Additionally, we also plot the true log-likelihood ratio $\\log\\,r(x|\\theta_0,\\theta_1)$. "
   ]
  },
  {
   "cell_type": "code",
   "execution_count": 42,
   "metadata": {},
   "outputs": [
    {
     "name": "stderr",
     "output_type": "stream",
     "text": [
      "/Users/johannbrehmer/anaconda3/envs/higgs_inference/lib/python3.6/site-packages/matplotlib/axes/_axes.py:6510: MatplotlibDeprecationWarning: \n",
      "The 'normed' kwarg was deprecated in Matplotlib 2.1 and will be removed in 3.1. Use 'density' instead.\n",
      "  alternative=\"'density'\", removal=\"3.1\")\n"
     ]
    },
    {
     "data": {
      "image/png": "[encoded data removed]",
      "text/plain": [
       "<Figure size 360x360 with 2 Axes>"
      ]
     },
     "metadata": {
      "needs_background": "light"
     },
     "output_type": "display_data"
    }
   ],
   "source": [
    "x0, _, _ = simulate(-2, npoints=10000)\n",
    "x1, _, _ = simulate(2, npoints=10000)\n",
    "\n",
    "xr=np.linspace(-4.,4.,100)\n",
    "rx = np.log(calculate_likelihood_ratio(xr,-2,2))\n",
    "\n",
    "fig, ax1 = plt.subplots()\n",
    "fig.set_size_inches(5,5)\n",
    "ax1.set_xlabel('$x$')\n",
    "ax1.hist(x0, bins=50, range=(-10,10.), histtype='step', label=r'$p(x | \\theta_0)$',normed=True)\n",
    "ax1.hist(x1, bins=50, range=(-10,10.), histtype='step', label=r'$p(x | \\theta_1)$',normed=True)\n",
    "ax1.set_ylabel(r'$p(x|\\theta)$')\n",
    "ax1.legend(loc=2)\n",
    "\n",
    "ax2 = ax1.twinx()\n",
    "ax2.plot(xr, rx,color='black', label=r'$\\log\\,r(x|\\theta_0,\\theta_1)$')\n",
    "ax2.set_ylabel(r'$\\log\\,r(x|\\theta_0,\\theta_1)$')\n",
    "ax2.legend(loc=1)\n",
    "\n",
    "plt.show()"
   ]
  },
  {
   "cell_type": "markdown",
   "metadata": {},
   "source": [
    "## 2. Run the simulation and generate training data"
   ]
  },
  {
   "cell_type": "markdown",
   "metadata": {},
   "source": [
    "First, we define the parameter points we want to use for training: `theta0` is uniformly distributed while the reference model `theta1` is fixed at zero. "
   ]
  },
  {
   "cell_type": "code",
   "execution_count": 43,
   "metadata": {},
   "outputs": [],
   "source": [
    "n_param_points = 50000 # number of parameter points to train\n",
    "\n",
    "theta0 = np.random.uniform(low=-4.0, high=4.0, size=n_param_points) # numerator, uniform prior\n",
    "theta1 = np.zeros(shape=n_param_points)                             # denominator: fixed at 0"
   ]
  },
  {
   "cell_type": "markdown",
   "metadata": {},
   "source": [
    "We then run the simulator (one sample per parameter point). Remember that `simulate(theta, theta0, theta1, theta_score)` generates data `x` following a theory with `theta` and then evaulates the joint likelihood ratio `r(x,z|theta0,theta1)` and the join score `t(x,z|theta_score)` for each data point. "
   ]
  },
  {
   "cell_type": "code",
   "execution_count": 44,
   "metadata": {},
   "outputs": [],
   "source": [
    "# Sample from theta0\n",
    "x_from_theta0, r_xz_from_theta0, t_xz_from_theta0 = simulate(theta0, theta0, theta1, theta0)\n",
    "\n",
    "# Sample from theta1\n",
    "x_from_theta1, r_xz_from_theta1, t_xz_from_theta1 = simulate(theta1, theta0, theta1, theta0)"
   ]
  },
  {
   "cell_type": "markdown",
   "metadata": {},
   "source": [
    "Now we combine reshape the results (nothing interestimg happening here) and save everything to files, so that we can load it later."
   ]
  },
  {
   "cell_type": "code",
   "execution_count": 45,
   "metadata": {},
   "outputs": [],
   "source": [
    "# Combine results and reshape\n",
    "x_train    = np.hstack((x_from_theta0, x_from_theta1)).reshape(-1,1)\n",
    "r_xz_train = np.hstack((r_xz_from_theta0, r_xz_from_theta1)).reshape(-1,1)\n",
    "t_xz_train = np.hstack((t_xz_from_theta0, t_xz_from_theta1)).reshape(-1,1)\n",
    "y_train    = np.hstack((np.zeros_like(x_from_theta0), np.ones_like(np.ones_like(x_from_theta1)))).reshape(-1,1)\n",
    "theta0_train = np.hstack((theta0, theta0)).reshape(-1,1)\n",
    "\n",
    "#Save to file\n",
    "np.save('data/theta0_train.npy', theta0_train)\n",
    "np.save('data/x_train.npy', x_train)\n",
    "np.save('data/y_train.npy', y_train)\n",
    "np.save('data/r_xz_train.npy', r_xz_train)\n",
    "np.save('data/t_xz_train.npy', t_xz_train)"
   ]
  },
  {
   "cell_type": "code",
   "execution_count": 46,
   "metadata": {},
   "outputs": [],
   "source": [
    "# For flow training\n",
    "np.save('data/theta0_train_density.npy', theta0.reshape(-1,1))\n",
    "np.save('data/x_train_density.npy', x_from_theta0.reshape(-1,1))\n",
    "np.save('data/t_xz_train_density.npy', t_xz_from_theta0.reshape(-1,1))"
   ]
  },
  {
   "cell_type": "markdown",
   "metadata": {},
   "source": [
    "## 3. Model training"
   ]
  },
  {
   "cell_type": "markdown",
   "metadata": {},
   "source": [
    "Let's train two neural networks to estimate the likelihood ratio. For one we use the CARL method introduced in [\"Approximating Likelihood Ratios with Calibrated Discriminative Classifiers\"](https://arxiv.org/abs/1506.02169), for the other the new ALICES method introduced in [\"Likelihood-free inference with an improved cross-entropy estimator\"](https://arxiv.org/abs/1808.00973)."
   ]
  },
  {
   "cell_type": "code",
   "execution_count": 11,
   "metadata": {},
   "outputs": [
    {
     "name": "stderr",
     "output_type": "stream",
     "text": [
      "17:37 madminer.ml          INFO    Starting training\n",
      "17:37 madminer.ml          INFO      Method:                 carl\n",
      "17:37 madminer.ml          INFO      Training data:          x at data/x_train.npy\n",
      "17:37 madminer.ml          INFO                              theta0 at data/theta0_train.npy\n",
      "17:37 madminer.ml          INFO                              y at data/y_train.npy\n",
      "17:37 madminer.ml          INFO      Features:               all\n",
      "17:37 madminer.ml          INFO      Method:                 carl\n",
      "17:37 madminer.ml          INFO      Hidden layers:          (20, 20)\n",
      "17:37 madminer.ml          INFO      Activation function:    tanh\n",
      "17:37 madminer.ml          INFO      Batch size:             200\n",
      "17:37 madminer.ml          INFO      Optimizer:              amsgrad\n",
      "17:37 madminer.ml          INFO      Epochs:                 20\n",
      "17:37 madminer.ml          INFO      Learning rate:          0.001 initially, decaying to 0.0001\n",
      "17:37 madminer.ml          INFO      Validation split:       0.25\n",
      "17:37 madminer.ml          INFO      Early stopping:         True\n",
      "17:37 madminer.ml          INFO      Scale inputs:           True\n",
      "17:37 madminer.ml          INFO      Shuffle labels          False\n",
      "17:37 madminer.ml          INFO      Samples:                all\n",
      "17:37 madminer.ml          INFO    Loading training data\n",
      "17:37 madminer.ml          INFO    Found 100000 samples with 1 parameters and 1 observables\n",
      "17:37 madminer.ml          INFO    Rescaling inputs\n",
      "17:37 madminer.ml          INFO    Creating model for method carl\n",
      "17:37 madminer.ml          INFO    Training model\n",
      "17:37 madminer.utils.ml.tr INFO    Epoch   1: train loss  0.63091 (xe:  0.631)\n",
      "17:37 madminer.utils.ml.tr INFO               val. loss   0.59211 (xe:  0.592)\n",
      "17:37 madminer.utils.ml.tr INFO    Epoch   2: train loss  0.59132 (xe:  0.591)\n",
      "17:37 madminer.utils.ml.tr INFO               val. loss   0.58826 (xe:  0.588)\n",
      "17:37 madminer.utils.ml.tr INFO    Epoch   3: train loss  0.58932 (xe:  0.589)\n",
      "17:37 madminer.utils.ml.tr INFO               val. loss   0.58768 (xe:  0.588)\n",
      "17:38 madminer.utils.ml.tr INFO    Epoch   4: train loss  0.58851 (xe:  0.589)\n",
      "17:38 madminer.utils.ml.tr INFO               val. loss   0.58663 (xe:  0.587)\n",
      "17:38 madminer.utils.ml.tr INFO    Epoch   5: train loss  0.58779 (xe:  0.588)\n",
      "17:38 madminer.utils.ml.tr INFO               val. loss   0.58573 (xe:  0.586)\n",
      "17:38 madminer.utils.ml.tr INFO    Epoch   6: train loss  0.58742 (xe:  0.587)\n",
      "17:38 madminer.utils.ml.tr INFO               val. loss   0.58609 (xe:  0.586)\n",
      "17:38 madminer.utils.ml.tr INFO    Epoch   7: train loss  0.58707 (xe:  0.587)\n",
      "17:38 madminer.utils.ml.tr INFO               val. loss   0.58517 (xe:  0.585)\n",
      "17:38 madminer.utils.ml.tr INFO    Epoch   8: train loss  0.58683 (xe:  0.587)\n",
      "17:38 madminer.utils.ml.tr INFO               val. loss   0.58653 (xe:  0.587)\n",
      "17:39 madminer.utils.ml.tr INFO    Epoch   9: train loss  0.58645 (xe:  0.586)\n",
      "17:39 madminer.utils.ml.tr INFO               val. loss   0.58496 (xe:  0.585)\n",
      "17:39 madminer.utils.ml.tr INFO    Epoch  10: train loss  0.58649 (xe:  0.586)\n",
      "17:39 madminer.utils.ml.tr INFO               val. loss   0.58473 (xe:  0.585)\n",
      "17:39 madminer.utils.ml.tr INFO    Epoch  11: train loss  0.58621 (xe:  0.586)\n",
      "17:39 madminer.utils.ml.tr INFO               val. loss   0.58466 (xe:  0.585)\n",
      "17:39 madminer.utils.ml.tr INFO    Epoch  12: train loss  0.58616 (xe:  0.586)\n",
      "17:39 madminer.utils.ml.tr INFO               val. loss   0.58450 (xe:  0.585)\n",
      "17:39 madminer.utils.ml.tr INFO    Epoch  13: train loss  0.58597 (xe:  0.586)\n",
      "17:39 madminer.utils.ml.tr INFO               val. loss   0.58468 (xe:  0.585)\n",
      "17:40 madminer.utils.ml.tr INFO    Epoch  14: train loss  0.58593 (xe:  0.586)\n",
      "17:40 madminer.utils.ml.tr INFO               val. loss   0.58440 (xe:  0.584)\n",
      "17:40 madminer.utils.ml.tr INFO    Epoch  15: train loss  0.58588 (xe:  0.586)\n",
      "17:40 madminer.utils.ml.tr INFO               val. loss   0.58429 (xe:  0.584)\n",
      "17:40 madminer.utils.ml.tr INFO    Epoch  16: train loss  0.58582 (xe:  0.586)\n",
      "17:40 madminer.utils.ml.tr INFO               val. loss   0.58439 (xe:  0.584)\n",
      "17:40 madminer.utils.ml.tr INFO    Epoch  17: train loss  0.58574 (xe:  0.586)\n",
      "17:40 madminer.utils.ml.tr INFO               val. loss   0.58460 (xe:  0.585)\n",
      "17:40 madminer.utils.ml.tr INFO    Epoch  18: train loss  0.58579 (xe:  0.586)\n",
      "17:40 madminer.utils.ml.tr INFO               val. loss   0.58431 (xe:  0.584)\n",
      "17:40 madminer.utils.ml.tr INFO    Epoch  19: train loss  0.58572 (xe:  0.586)\n",
      "17:40 madminer.utils.ml.tr INFO               val. loss   0.58421 (xe:  0.584)\n",
      "17:41 madminer.utils.ml.tr INFO    Epoch  20: train loss  0.58567 (xe:  0.586)\n",
      "17:41 madminer.utils.ml.tr INFO               val. loss   0.58421 (xe:  0.584)\n",
      "17:41 madminer.utils.ml.tr INFO    Early stopping did not improve performance\n"
     ]
    }
   ],
   "source": [
    "forge = MLForge()\n",
    "\n",
    "forge.train(\n",
    "    method='carl',\n",
    "    x_filename='data/x_train.npy',\n",
    "    y_filename='data/y_train.npy',\n",
    "    theta0_filename='data/theta0_train.npy',\n",
    "    n_epochs=20,\n",
    "    n_hidden=(20,20),\n",
    ")\n",
    "\n",
    "forge.save('models/carl')"
   ]
  },
  {
   "cell_type": "code",
   "execution_count": 47,
   "metadata": {},
   "outputs": [
    {
     "name": "stderr",
     "output_type": "stream",
     "text": [
      "11:02 madminer.ml          INFO    Starting training\n",
      "11:02 madminer.ml          INFO      Method:                 alices\n",
      "11:02 madminer.ml          INFO      Training data:          x at data/x_train.npy\n",
      "11:02 madminer.ml          INFO                              theta0 at data/theta0_train.npy\n",
      "11:02 madminer.ml          INFO                              y at data/y_train.npy\n",
      "11:02 madminer.ml          INFO                              r_xz at data/r_xz_train.npy\n",
      "11:02 madminer.ml          INFO                              t_xz (theta0) at data/t_xz_train.npy\n",
      "11:02 madminer.ml          INFO      Features:               all\n",
      "11:02 madminer.ml          INFO      Method:                 alices\n",
      "11:02 madminer.ml          INFO      Hidden layers:          (20, 20)\n",
      "11:02 madminer.ml          INFO      Activation function:    tanh\n",
      "11:02 madminer.ml          INFO      alpha:                  0.1\n",
      "11:02 madminer.ml          INFO      Batch size:             200\n",
      "11:02 madminer.ml          INFO      Optimizer:              amsgrad\n",
      "11:02 madminer.ml          INFO      Epochs:                 20\n",
      "11:02 madminer.ml          INFO      Learning rate:          0.001 initially, decaying to 0.0001\n",
      "11:02 madminer.ml          INFO      Validation split:       0.25\n",
      "11:02 madminer.ml          INFO      Early stopping:         True\n",
      "11:02 madminer.ml          INFO      Scale inputs:           True\n",
      "11:02 madminer.ml          INFO      Shuffle labels          False\n",
      "11:02 madminer.ml          INFO      Samples:                all\n",
      "11:02 madminer.ml          INFO    Loading training data\n",
      "11:02 madminer.ml          INFO    Found 100000 samples with 1 parameters and 1 observables\n",
      "11:02 madminer.ml          INFO    Rescaling inputs\n",
      "11:02 madminer.ml          INFO    Creating model for method alices\n",
      "11:02 madminer.ml          INFO    Training model\n",
      "11:02 madminer.utils.ml.tr INFO    Epoch   1: train loss  0.63722 (improved_xe:  0.628, mse_score:  0.088)\n",
      "11:02 madminer.utils.ml.tr INFO               val. loss   0.59300 (improved_xe:  0.590, mse_score:  0.034)\n",
      "11:02 madminer.utils.ml.tr INFO    Epoch   2: train loss  0.59024 (improved_xe:  0.588, mse_score:  0.025)\n",
      "11:02 madminer.utils.ml.tr INFO               val. loss   0.58816 (improved_xe:  0.586, mse_score:  0.017)\n",
      "11:03 madminer.utils.ml.tr INFO    Epoch   3: train loss  0.58742 (improved_xe:  0.586, mse_score:  0.015)\n",
      "11:03 madminer.utils.ml.tr INFO               val. loss   0.58671 (improved_xe:  0.586, mse_score:  0.012)\n",
      "11:03 madminer.utils.ml.tr INFO    Epoch   4: train loss  0.58656 (improved_xe:  0.585, mse_score:  0.011)\n",
      "11:03 madminer.utils.ml.tr INFO               val. loss   0.58610 (improved_xe:  0.585, mse_score:  0.009)\n",
      "11:03 madminer.utils.ml.tr INFO    Epoch   5: train loss  0.58618 (improved_xe:  0.585, mse_score:  0.010)\n",
      "11:03 madminer.utils.ml.tr INFO               val. loss   0.58585 (improved_xe:  0.585, mse_score:  0.008)\n",
      "11:03 madminer.utils.ml.tr INFO    Epoch   6: train loss  0.58599 (improved_xe:  0.585, mse_score:  0.009)\n",
      "11:03 madminer.utils.ml.tr INFO               val. loss   0.58575 (improved_xe:  0.585, mse_score:  0.008)\n",
      "11:03 madminer.utils.ml.tr INFO    Epoch   7: train loss  0.58586 (improved_xe:  0.585, mse_score:  0.008)\n",
      "11:03 madminer.utils.ml.tr INFO               val. loss   0.58574 (improved_xe:  0.585, mse_score:  0.007)\n",
      "11:03 madminer.utils.ml.tr INFO    Epoch   8: train loss  0.58579 (improved_xe:  0.585, mse_score:  0.007)\n",
      "11:03 madminer.utils.ml.tr INFO               val. loss   0.58554 (improved_xe:  0.585, mse_score:  0.007)\n",
      "11:03 madminer.utils.ml.tr INFO    Epoch   9: train loss  0.58570 (improved_xe:  0.585, mse_score:  0.007)\n",
      "11:03 madminer.utils.ml.tr INFO               val. loss   0.58557 (improved_xe:  0.585, mse_score:  0.007)\n",
      "11:04 madminer.utils.ml.tr INFO    Epoch  10: train loss  0.58565 (improved_xe:  0.585, mse_score:  0.007)\n",
      "11:04 madminer.utils.ml.tr INFO               val. loss   0.58558 (improved_xe:  0.585, mse_score:  0.006)\n",
      "11:04 madminer.utils.ml.tr INFO    Epoch  11: train loss  0.58560 (improved_xe:  0.585, mse_score:  0.007)\n",
      "11:04 madminer.utils.ml.tr INFO               val. loss   0.58543 (improved_xe:  0.585, mse_score:  0.006)\n",
      "11:04 madminer.utils.ml.tr INFO    Epoch  12: train loss  0.58557 (improved_xe:  0.585, mse_score:  0.006)\n",
      "11:04 madminer.utils.ml.tr INFO               val. loss   0.58547 (improved_xe:  0.585, mse_score:  0.006)\n",
      "11:04 madminer.utils.ml.tr INFO    Epoch  13: train loss  0.58555 (improved_xe:  0.585, mse_score:  0.006)\n",
      "11:04 madminer.utils.ml.tr INFO               val. loss   0.58547 (improved_xe:  0.585, mse_score:  0.006)\n",
      "11:04 madminer.utils.ml.tr INFO    Epoch  14: train loss  0.58552 (improved_xe:  0.585, mse_score:  0.006)\n",
      "11:04 madminer.utils.ml.tr INFO               val. loss   0.58541 (improved_xe:  0.585, mse_score:  0.006)\n",
      "11:04 madminer.utils.ml.tr INFO    Epoch  15: train loss  0.58549 (improved_xe:  0.585, mse_score:  0.006)\n",
      "11:04 madminer.utils.ml.tr INFO               val. loss   0.58536 (improved_xe:  0.585, mse_score:  0.006)\n",
      "11:04 madminer.utils.ml.tr INFO    Epoch  16: train loss  0.58549 (improved_xe:  0.585, mse_score:  0.006)\n",
      "11:04 madminer.utils.ml.tr INFO               val. loss   0.58541 (improved_xe:  0.585, mse_score:  0.006)\n",
      "11:05 madminer.utils.ml.tr INFO    Epoch  17: train loss  0.58547 (improved_xe:  0.585, mse_score:  0.006)\n",
      "11:05 madminer.utils.ml.tr INFO               val. loss   0.58535 (improved_xe:  0.585, mse_score:  0.006)\n",
      "11:05 madminer.utils.ml.tr INFO    Epoch  18: train loss  0.58546 (improved_xe:  0.585, mse_score:  0.006)\n",
      "11:05 madminer.utils.ml.tr INFO               val. loss   0.58534 (improved_xe:  0.585, mse_score:  0.005)\n",
      "11:05 madminer.utils.ml.tr INFO    Epoch  19: train loss  0.58546 (improved_xe:  0.585, mse_score:  0.006)\n",
      "11:05 madminer.utils.ml.tr INFO               val. loss   0.58534 (improved_xe:  0.585, mse_score:  0.005)\n",
      "11:05 madminer.utils.ml.tr INFO    Epoch  20: train loss  0.58544 (improved_xe:  0.585, mse_score:  0.006)\n",
      "11:05 madminer.utils.ml.tr INFO               val. loss   0.58532 (improved_xe:  0.585, mse_score:  0.006)\n",
      "11:05 madminer.utils.ml.tr INFO    Early stopping did not improve performance\n"
     ]
    }
   ],
   "source": [
    "forge = MLForge()\n",
    "\n",
    "forge.train(\n",
    "    method='alices',\n",
    "    x_filename='data/x_train.npy',\n",
    "    y_filename='data/y_train.npy',\n",
    "    theta0_filename='data/theta0_train.npy',\n",
    "    r_xz_filename='data/r_xz_train.npy',\n",
    "    t_xz0_filename='data/t_xz_train.npy',\n",
    "    alpha=0.1,\n",
    "    n_epochs=20,\n",
    "    n_hidden=(20,20),\n",
    ")\n",
    "\n",
    "forge.save('models/alices')"
   ]
  },
  {
   "cell_type": "code",
   "execution_count": 48,
   "metadata": {},
   "outputs": [
    {
     "name": "stderr",
     "output_type": "stream",
     "text": [
      "11:05 madminer.ml          INFO    Starting training\n",
      "11:05 madminer.ml          INFO      Method:                 scandal\n",
      "11:05 madminer.ml          INFO      Training data:          x at data/x_train_density.npy\n",
      "11:05 madminer.ml          INFO                              theta0 at data/theta0_train_density.npy\n",
      "11:05 madminer.ml          INFO                              t_xz (theta0) at data/t_xz_train_density.npy\n",
      "11:05 madminer.ml          INFO      Features:               all\n",
      "11:05 madminer.ml          INFO      Method:                 scandal\n",
      "11:05 madminer.ml          INFO      Neural density est.:    maf\n",
      "11:05 madminer.ml          INFO      MAF, number MADEs:      3\n",
      "11:05 madminer.ml          INFO      MAF, batch norm:        False\n",
      "11:05 madminer.ml          INFO      MAF, BN alpha:          0.1\n",
      "11:05 madminer.ml          INFO      MAF MoG, components:    10\n",
      "11:05 madminer.ml          INFO      Activation function:    tanh\n",
      "11:05 madminer.ml          INFO      alpha:                  50.0\n",
      "11:05 madminer.ml          INFO      Batch size:             200\n",
      "11:05 madminer.ml          INFO      Optimizer:              amsgrad\n",
      "11:05 madminer.ml          INFO      Epochs:                 20\n",
      "11:05 madminer.ml          INFO      Learning rate:          0.001 initially, decaying to 0.0001\n",
      "11:05 madminer.ml          INFO      Validation split:       0.25\n",
      "11:05 madminer.ml          INFO      Early stopping:         True\n",
      "11:05 madminer.ml          INFO      Scale inputs:           True\n",
      "11:05 madminer.ml          INFO      Shuffle labels          False\n",
      "11:05 madminer.ml          INFO      Samples:                all\n",
      "11:05 madminer.ml          INFO    Loading training data\n",
      "11:05 madminer.ml          INFO    Found 50000 samples with 1 parameters and 1 observables\n",
      "11:05 madminer.ml          INFO    Rescaling inputs\n",
      "11:05 madminer.ml          INFO    Creating model for method scandal\n",
      "11:05 madminer.ml          INFO    Training model\n",
      "11:05 madminer.utils.ml.tr INFO    Epoch   1: train loss  4.34533 (nll:  1.124, mse_score:  0.064)\n",
      "11:05 madminer.utils.ml.tr INFO               val. loss   1.18938 (nll:  1.064, mse_score:  0.003)\n",
      "11:05 madminer.utils.ml.tr INFO    Epoch   2: train loss  1.14191 (nll:  1.071, mse_score:  0.001)\n",
      "11:05 madminer.utils.ml.tr INFO               val. loss   1.10522 (nll:  1.067, mse_score:  0.001)\n",
      "11:05 madminer.utils.ml.tr INFO    Epoch   3: train loss  1.09866 (nll:  1.072, mse_score:  0.001)\n",
      "11:05 madminer.utils.ml.tr INFO               val. loss   1.08518 (nll:  1.068, mse_score:  0.000)\n",
      "11:05 madminer.utils.ml.tr INFO    Epoch   4: train loss  1.08538 (nll:  1.072, mse_score:  0.000)\n",
      "11:05 madminer.utils.ml.tr INFO               val. loss   1.07815 (nll:  1.066, mse_score:  0.000)\n",
      "11:05 madminer.utils.ml.tr INFO    Epoch   5: train loss  1.08161 (nll:  1.071, mse_score:  0.000)\n",
      "11:05 madminer.utils.ml.tr INFO               val. loss   1.07443 (nll:  1.066, mse_score:  0.000)\n",
      "11:05 madminer.utils.ml.tr INFO    Epoch   6: train loss  1.07892 (nll:  1.071, mse_score:  0.000)\n",
      "11:05 madminer.utils.ml.tr INFO               val. loss   1.07287 (nll:  1.066, mse_score:  0.000)\n",
      "11:05 madminer.utils.ml.tr INFO    Epoch   7: train loss  1.07803 (nll:  1.071, mse_score:  0.000)\n",
      "11:05 madminer.utils.ml.tr INFO               val. loss   1.07254 (nll:  1.066, mse_score:  0.000)\n",
      "11:06 madminer.utils.ml.tr INFO    Epoch   8: train loss  1.07773 (nll:  1.072, mse_score:  0.000)\n",
      "11:06 madminer.utils.ml.tr INFO               val. loss   1.07069 (nll:  1.065, mse_score:  0.000)\n",
      "11:06 madminer.utils.ml.tr INFO    Epoch   9: train loss  1.07675 (nll:  1.072, mse_score:  0.000)\n",
      "11:06 madminer.utils.ml.tr INFO               val. loss   1.07098 (nll:  1.067, mse_score:  0.000)\n",
      "11:06 madminer.utils.ml.tr INFO    Epoch  10: train loss  1.07594 (nll:  1.071, mse_score:  0.000)\n",
      "11:06 madminer.utils.ml.tr INFO               val. loss   1.07090 (nll:  1.067, mse_score:  0.000)\n",
      "11:06 madminer.utils.ml.tr INFO    Epoch  11: train loss  1.07572 (nll:  1.071, mse_score:  0.000)\n",
      "11:06 madminer.utils.ml.tr INFO               val. loss   1.06878 (nll:  1.065, mse_score:  0.000)\n",
      "11:06 madminer.utils.ml.tr INFO    Epoch  12: train loss  1.07565 (nll:  1.072, mse_score:  0.000)\n",
      "11:06 madminer.utils.ml.tr INFO               val. loss   1.06987 (nll:  1.066, mse_score:  0.000)\n",
      "11:06 madminer.utils.ml.tr INFO    Epoch  13: train loss  1.07490 (nll:  1.071, mse_score:  0.000)\n",
      "11:06 madminer.utils.ml.tr INFO               val. loss   1.06968 (nll:  1.066, mse_score:  0.000)\n",
      "11:06 madminer.utils.ml.tr INFO    Epoch  14: train loss  1.07507 (nll:  1.072, mse_score:  0.000)\n",
      "11:06 madminer.utils.ml.tr INFO               val. loss   1.07054 (nll:  1.067, mse_score:  0.000)\n",
      "11:06 madminer.utils.ml.tr INFO    Epoch  15: train loss  1.07418 (nll:  1.071, mse_score:  0.000)\n",
      "11:06 madminer.utils.ml.tr INFO               val. loss   1.06996 (nll:  1.067, mse_score:  0.000)\n",
      "11:06 madminer.utils.ml.tr INFO    Epoch  16: train loss  1.07446 (nll:  1.071, mse_score:  0.000)\n",
      "11:06 madminer.utils.ml.tr INFO               val. loss   1.06844 (nll:  1.065, mse_score:  0.000)\n",
      "11:06 madminer.utils.ml.tr INFO    Epoch  17: train loss  1.07460 (nll:  1.072, mse_score:  0.000)\n",
      "11:06 madminer.utils.ml.tr INFO               val. loss   1.06835 (nll:  1.066, mse_score:  0.000)\n",
      "11:06 madminer.utils.ml.tr INFO    Epoch  18: train loss  1.07443 (nll:  1.071, mse_score:  0.000)\n",
      "11:06 madminer.utils.ml.tr INFO               val. loss   1.06960 (nll:  1.067, mse_score:  0.000)\n",
      "11:06 madminer.utils.ml.tr INFO    Epoch  19: train loss  1.07422 (nll:  1.071, mse_score:  0.000)\n",
      "11:06 madminer.utils.ml.tr INFO               val. loss   1.06920 (nll:  1.067, mse_score:  0.000)\n",
      "11:06 madminer.utils.ml.tr INFO    Epoch  20: train loss  1.07374 (nll:  1.071, mse_score:  0.000)\n",
      "11:06 madminer.utils.ml.tr INFO               val. loss   1.06874 (nll:  1.066, mse_score:  0.000)\n",
      "11:06 madminer.utils.ml.tr INFO    Early stopping did not improve performance\n"
     ]
    }
   ],
   "source": [
    "forge = MLForge()\n",
    "\n",
    "forge.train(\n",
    "    method='scandal',\n",
    "    x_filename='data/x_train_density.npy',\n",
    "    theta0_filename='data/theta0_train_density.npy',\n",
    "    t_xz0_filename='data/t_xz_train_density.npy',\n",
    "    alpha=50.,\n",
    "    n_epochs=20,\n",
    "    n_hidden=(20,20),\n",
    "    nde_type=\"maf\"\n",
    ")\n",
    "\n",
    "forge.save('models/scandal')"
   ]
  },
  {
   "cell_type": "markdown",
   "metadata": {},
   "source": [
    "## 4. Generate evaluation data"
   ]
  },
  {
   "cell_type": "markdown",
   "metadata": {},
   "source": [
    "Let us now generate some test data, which is sampled corresponding to `theta=1`"
   ]
  },
  {
   "cell_type": "code",
   "execution_count": 49,
   "metadata": {},
   "outputs": [],
   "source": [
    "n_param_points_test = 1000 # number of parameter points to test\n",
    "theta_test = 1. * np.ones(shape=n_param_points_test).reshape(-1,1)"
   ]
  },
  {
   "cell_type": "markdown",
   "metadata": {},
   "source": [
    "Run the simulator to get observations:"
   ]
  },
  {
   "cell_type": "code",
   "execution_count": 50,
   "metadata": {},
   "outputs": [],
   "source": [
    "x_test, _, _ = simulate(theta_test)\n",
    "np.save('data/x_test.npy', x_test)"
   ]
  },
  {
   "cell_type": "markdown",
   "metadata": {},
   "source": [
    "We want to evaluate the expected likelihood ratio on a range of parameter points:"
   ]
  },
  {
   "cell_type": "code",
   "execution_count": 51,
   "metadata": {},
   "outputs": [],
   "source": [
    "theta_grid = np.linspace(-5.,5.,100).reshape(-1, 1)\n",
    "np.save('data/theta_grid.npy', theta_grid)\n",
    "np.save('data/theta1.npy', np.zeros((1,1)))"
   ]
  },
  {
   "cell_type": "markdown",
   "metadata": {},
   "source": [
    "In this toy example, we can calculate the true likelihood ratio. We will save the expected log likelihood ratio (multiplied with a conventional factor of -2):"
   ]
  },
  {
   "cell_type": "code",
   "execution_count": 52,
   "metadata": {},
   "outputs": [],
   "source": [
    "nllr_test_true = []\n",
    "\n",
    "for theta in theta_grid:\n",
    "    r = calculate_likelihood_ratio(x_test, theta)\n",
    "    nllr_test_true.append(-2. * np.mean(np.log(r)))"
   ]
  },
  {
   "cell_type": "markdown",
   "metadata": {},
   "source": [
    "## 5. Evaluation"
   ]
  },
  {
   "cell_type": "markdown",
   "metadata": {},
   "source": [
    "It's time to evaluate our likelihood ratio estimators!"
   ]
  },
  {
   "cell_type": "code",
   "execution_count": 53,
   "metadata": {},
   "outputs": [],
   "source": [
    "forge = MLForge()\n",
    "forge.load('models/carl')\n",
    "\n",
    "log_r, _, _ = forge.evaluate(\n",
    "    theta0_filename='data/theta_grid.npy',\n",
    "    x='data/x_test.npy',\n",
    "    evaluate_score=False\n",
    ")\n",
    "\n",
    "nllr_test_carl = -2. * np.mean(log_r, axis=1)"
   ]
  },
  {
   "cell_type": "code",
   "execution_count": 54,
   "metadata": {},
   "outputs": [],
   "source": [
    "forge = MLForge()\n",
    "forge.load('models/alices')\n",
    "\n",
    "log_r, _, _ = forge.evaluate(\n",
    "    theta0_filename='data/theta_grid.npy',\n",
    "    x='data/x_test.npy',\n",
    "    evaluate_score=False\n",
    ")\n",
    "\n",
    "nllr_test_alices = -2. * np.mean(log_r, axis=1)"
   ]
  },
  {
   "cell_type": "code",
   "execution_count": 55,
   "metadata": {},
   "outputs": [],
   "source": [
    "forge = MLForge()\n",
    "forge.load('models/scandal')\n",
    "\n",
    "log_p0, _ = forge.evaluate(\n",
    "    theta0_filename='data/theta_grid.npy',\n",
    "    x='data/x_test.npy',\n",
    "    evaluate_score=False\n",
    ")\n",
    "log_p1, _ = forge.evaluate(\n",
    "    theta0_filename='data/theta1.npy',\n",
    "    x='data/x_test.npy',\n",
    "    evaluate_score=False\n",
    ")\n",
    "log_r = log_p0 - log_p1\n",
    "\n",
    "nllr_test_scandal = -2. * np.mean(log_r, axis=1)"
   ]
  },
  {
   "cell_type": "markdown",
   "metadata": {},
   "source": [
    "This is the expected log likelihood ratio over parameter space:"
   ]
  },
  {
   "cell_type": "code",
   "execution_count": 56,
   "metadata": {},
   "outputs": [
    {
     "data": {
      "image/png": "[encoded data removed]",
      "text/plain": [
       "<Figure size 360x360 with 1 Axes>"
      ]
     },
     "metadata": {
      "needs_background": "light"
     },
     "output_type": "display_data"
    }
   ],
   "source": [
    "best_fit_alices = float(theta_grid[np.argmin(nllr_test_alices)])\n",
    "best_fit_carl = float(theta_grid[np.argmin(nllr_test_carl)])\n",
    "best_fit_scandal = float(theta_grid[np.argmin(nllr_test_scandal)])\n",
    "\n",
    "fig = plt.figure(figsize=(5,5))\n",
    "\n",
    "plt.plot(theta_grid, nllr_test_true, label=r'Ground truth ($\\theta = 1.0$)')\n",
    "plt.plot(theta_grid, nllr_test_carl, label=r'CARL ($\\hat{\\theta} = ' + '{:.2f}$)'.format(best_fit_carl))\n",
    "plt.plot(theta_grid, nllr_test_alices, label=r'ALICES ($\\hat{\\theta} = ' + '{:.2f}$)'.format(best_fit_alices))\n",
    "plt.plot(theta_grid, nllr_test_scandal, label=r'SCANDAL ($\\hat{\\theta} = ' + '{:.2f}$)'.format(best_fit_scandal))\n",
    "\n",
    "plt.xlabel(r'$\\theta$')\n",
    "plt.ylabel(r'$\\mathbb{E}_x [ -2\\, \\log \\,r(x | \\theta, \\theta_{1}) ]$')\n",
    "\n",
    "plt.legend()\n",
    "plt.tight_layout()\n",
    "plt.show()"
   ]
  },
  {
   "cell_type": "markdown",
   "metadata": {},
   "source": [
    "You should see that the new ALICES approach is a much better approximation of the true likelihood ratio than the CARL estimate. Note that we only trained in the parameter range (-4, 4), so the deviations at the left and right of the plot are to be expected."
   ]
  },
  {
   "cell_type": "code",
   "execution_count": null,
   "metadata": {},
   "outputs": [],
   "source": []
  }
 ],
 "metadata": {
  "kernelspec": {
   "display_name": "Python (higgs_inference)",
   "language": "python",
   "name": "higgs_inference"
  },
  "language_info": {
   "codemirror_mode": {
    "name": "ipython",
    "version": 3
   },
   "file_extension": ".py",
   "mimetype": "text/x-python",
   "name": "python",
   "nbconvert_exporter": "python",
   "pygments_lexer": "ipython3",
   "version": "3.6.7"
  }
 },
 "nbformat": 4,
 "nbformat_minor": 2
}
