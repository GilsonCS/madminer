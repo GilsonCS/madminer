{
 "cells": [
  {
   "cell_type": "markdown",
   "metadata": {},
   "source": [
    "# MadMiner tutorial 2: SALLY, Fisher information, and ensemble methods (parton level)\n",
    "\n",
    "Johann Brehmer, Felix Kling, Kyle Cranmer 2018"
   ]
  },
  {
   "cell_type": "markdown",
   "metadata": {},
   "source": [
    "In the first tutorial you saw how to set up a process with MadMiner, generate events and turn them into training samples, and construct likelihood ratio estimators from them. Here we introduce some alternative steps which will lead us to an estimator for the score at a reference point (SALLY) and the expected Fisher information. Along the way, we'll introduce some powerful ensemble methods.\n",
    "\n",
    "If you're not familiar with SALLY, please have a look at [\"Constraining Effective Field Theories With Machine Learning\"](https://arxiv.org/abs/1805.00013)\n",
    "or, for more details, [\"A Guide to Constraining Effective Field Theories With Machine Learning\"](https://arxiv.org/abs/1805.00020). For the Fisher information part, see the original publication [\"Better Higgs Measurements Through Information Geometry\"](https://arxiv.org/abs/1612.05261) or a more detailed, pedagogical introduction in Chapter 4 of [\"New Ideas for Effective Higgs Measurements\"](https://inspirehep.net/record/1624219)."
   ]
  },
  {
   "cell_type": "markdown",
   "metadata": {},
   "source": [
    "## Preparations"
   ]
  },
  {
   "cell_type": "markdown",
   "metadata": {},
   "source": [
    "Make sure you've run the first tutorial before executing this notebook!"
   ]
  },
  {
   "cell_type": "code",
   "execution_count": 1,
   "metadata": {},
   "outputs": [],
   "source": [
    "from __future__ import absolute_import, division, print_function, unicode_literals\n",
    "\n",
    "import logging\n",
    "import numpy as np\n",
    "import matplotlib\n",
    "from matplotlib import pyplot as plt\n",
    "%matplotlib inline\n",
    "\n",
    "from madminer.sampling import SampleAugmenter, constant_benchmark_theta\n",
    "from madminer.ml import MLForge, EnsembleForge\n",
    "from madminer.fisherinformation import FisherInformation\n",
    "from madminer.plotting import plot_fisher_information_contours_2d\n"
   ]
  },
  {
   "cell_type": "markdown",
   "metadata": {},
   "source": [
    "MadMiner uses the Python `logging` module to provide additional information and debugging output. You can choose how much of this output you want to see by switching the level in the following lines to `logging.DEBUG` or `logging.WARNING`."
   ]
  },
  {
   "cell_type": "code",
   "execution_count": 3,
   "metadata": {},
   "outputs": [],
   "source": [
    "# MadMiner output\n",
    "logging.basicConfig(\n",
    "    format='%(asctime)-5.5s %(name)-20.20s %(levelname)-7.7s %(message)s',\n",
    "    datefmt='%H:%M',\n",
    "    level=logging.INFO\n",
    ")\n",
    "\n",
    "# Output of all other modules (e.g. matplotlib)\n",
    "for key in logging.Logger.manager.loggerDict:\n",
    "    if \"madminer\" not in key:\n",
    "        logging.getLogger(key).setLevel(logging.WARNING)"
   ]
  },
  {
   "cell_type": "markdown",
   "metadata": {},
   "source": [
    "## 1. to 5.: see tutorial 1."
   ]
  },
  {
   "cell_type": "markdown",
   "metadata": {},
   "source": [
    "We assume that you have run steps 1 through 5 of the first tutorial, and thus have a MadMiner file with observables and event weights ready to go!"
   ]
  },
  {
   "cell_type": "markdown",
   "metadata": {},
   "source": [
    "## 6. Make (unweighted) training and test samples with augmented data"
   ]
  },
  {
   "cell_type": "markdown",
   "metadata": {},
   "source": [
    "Again, the next step is handled by the MadMiner class `SampleAugmenter`."
   ]
  },
  {
   "cell_type": "code",
   "execution_count": 4,
   "metadata": {},
   "outputs": [
    {
     "name": "stderr",
     "output_type": "stream",
     "text": [
      "16:13 madminer.sampling    INFO    Loading data from data/madminer_example_shuffled.h5\n",
      "16:13 madminer.sampling    INFO    Found 2 parameters\n",
      "16:13 madminer.sampling    INFO    Did not find nuisance parameters\n",
      "16:13 madminer.sampling    INFO    Found 6 benchmarks, of which 6 physical\n",
      "16:13 madminer.sampling    INFO    Found 2 observables\n",
      "16:13 madminer.sampling    INFO    Found 1018 events\n",
      "16:13 madminer.sampling    INFO    Found morphing setup with 6 components\n"
     ]
    }
   ],
   "source": [
    "sa = SampleAugmenter('data/madminer_example_shuffled.h5')"
   ]
  },
  {
   "cell_type": "markdown",
   "metadata": {},
   "source": [
    "The relevant `SampleAugmenter` function for local score estimators is `extract_samples_train_local()`. As before, for the argument `theta` you can use the helper functions `constant_benchmark_theta()`, `multiple_benchmark_thetas()`, `constant_morphing_theta()`, `multiple_morphing_thetas()`, and `random_morphing_thetas()`."
   ]
  },
  {
   "cell_type": "code",
   "execution_count": 14,
   "metadata": {},
   "outputs": [
    {
     "name": "stderr",
     "output_type": "stream",
     "text": [
      "16:17 madminer.sampling    INFO    Extracting training sample for local score regression. Sampling and score evaluation according to ('benchmark', 'sm')\n",
      "16:17 madminer.sampling    WARNING Warning: large statistical uncertainty on the total cross section for theta = [0. 0.]: (0.01027308101999995 +/- 0.001511271117152794) pb\n",
      "16:17 madminer.sampling    INFO    Effective number of samples: 44.0585179822994\n"
     ]
    }
   ],
   "source": [
    "x, theta, t_xz = sa.extract_samples_train_local(\n",
    "    theta=constant_benchmark_theta('sm'),\n",
    "    n_samples=10000,\n",
    "    folder='./data/samples',\n",
    "    filename='train0'\n",
    ")"
   ]
  },
  {
   "cell_type": "markdown",
   "metadata": {},
   "source": [
    "## 7a. Train one network to estimate score and Fisher information"
   ]
  },
  {
   "cell_type": "markdown",
   "metadata": {},
   "source": [
    "It's now time to build a neural network. Only this time, instead of the likelihood ratio itself, we will estimate the gradient of the log likelihood with respect to the theory parameters -- the score. To be precise, the output of the neural network is an estimate of the score at some reference parameter point, for instance the Standard Model. A neural network that estimates this \"local\" score can be used to calculate the Fisher information at that point. The estimated score can also be used as a machine learning version of Optimal Observables, and likelihoods can be estimated based on density estimation in the estimated score space. This method for likelihood ratio estimation is called SALLY, and there is a closely related version called SALLINO. Both are explained in [\"Constraining Effective Field Theories With Machine Learning\"](https://arxiv.org/abs/1805.00013) and [\"A Guide to Constraining Effective Field Theories With Machine Learning\"](https://arxiv.org/abs/1805.00020).\n",
    "\n",
    "Again, the central object for this is the `madminer.ml.MLForge` class:"
   ]
  },
  {
   "cell_type": "code",
   "execution_count": 15,
   "metadata": {},
   "outputs": [],
   "source": [
    "forge = MLForge(debug=False)"
   ]
  },
  {
   "cell_type": "markdown",
   "metadata": {},
   "source": [
    "### Training"
   ]
  },
  {
   "cell_type": "code",
   "execution_count": 17,
   "metadata": {},
   "outputs": [
    {
     "name": "stderr",
     "output_type": "stream",
     "text": [
      "16:18 madminer.ml          INFO    Starting training\n",
      "16:18 madminer.ml          INFO      Method:                 sally\n",
      "16:18 madminer.ml          INFO      Training data: x at data/samples/x_train0.npy\n",
      "16:18 madminer.ml          INFO                     t_xz (theta0) at  data/samples/t_xz_train0.npy\n",
      "16:18 madminer.ml          INFO      Features:               all\n",
      "16:18 madminer.ml          INFO      Method:                 sally\n",
      "16:18 madminer.ml          INFO      Hidden layers:          (100, 100)\n",
      "16:18 madminer.ml          INFO      Activation function:    tanh\n",
      "16:18 madminer.ml          INFO      Batch size:             256\n",
      "16:18 madminer.ml          INFO      Trainer:                amsgrad\n",
      "16:18 madminer.ml          INFO      Epochs:                 50\n",
      "16:18 madminer.ml          INFO      Learning rate:          0.001 initially, decaying to 0.0001\n",
      "16:18 madminer.ml          INFO      Validation split:       0.3\n",
      "16:18 madminer.ml          INFO      Early stopping:         True\n",
      "16:18 madminer.ml          INFO      Scale inputs:           True\n",
      "16:18 madminer.ml          INFO      Shuffle labels          False\n",
      "16:18 madminer.ml          INFO      Regularization:         None\n",
      "16:18 madminer.ml          INFO      Samples:                all\n",
      "16:18 madminer.ml          INFO    Loading training data\n",
      "16:18 madminer.ml          INFO    Found 100000 samples with 2 parameters and 2 observables\n",
      "16:18 madminer.ml          INFO    Rescaling inputs\n",
      "16:18 madminer.ml          INFO    Creating model for method sally\n",
      "16:18 madminer.ml          INFO    Training model\n",
      "16:18 madminer.utils.ml.sc INFO      Epoch 05: train loss 0.0877 (mse_score: 0.0877)\n",
      "16:18 madminer.utils.ml.sc INFO                val. loss  0.0484 (mse_score: 0.0484) (*)\n",
      "16:18 madminer.utils.ml.sc INFO      Epoch 10: train loss 0.0631 (mse_score: 0.0631)\n",
      "16:18 madminer.utils.ml.sc INFO                val. loss  0.0362 (mse_score: 0.0362) (*)\n",
      "16:18 madminer.utils.ml.sc INFO      Epoch 15: train loss 0.0485 (mse_score: 0.0485)\n",
      "16:18 madminer.utils.ml.sc INFO                val. loss  0.0298 (mse_score: 0.0298) (*)\n",
      "16:18 madminer.utils.ml.sc INFO      Epoch 20: train loss 0.0394 (mse_score: 0.0394)\n",
      "16:18 madminer.utils.ml.sc INFO                val. loss  0.0279 (mse_score: 0.0279)\n",
      "16:18 madminer.utils.ml.sc INFO      Epoch 25: train loss 0.0335 (mse_score: 0.0335)\n",
      "16:18 madminer.utils.ml.sc INFO                val. loss  0.0228 (mse_score: 0.0228) (*)\n",
      "16:18 madminer.utils.ml.sc INFO      Epoch 30: train loss 0.0298 (mse_score: 0.0298)\n",
      "16:18 madminer.utils.ml.sc INFO                val. loss  0.0213 (mse_score: 0.0213) (*)\n",
      "16:19 madminer.utils.ml.sc INFO      Epoch 35: train loss 0.0273 (mse_score: 0.0273)\n",
      "16:19 madminer.utils.ml.sc INFO                val. loss  0.0198 (mse_score: 0.0198) (*)\n",
      "16:19 madminer.utils.ml.sc INFO      Epoch 40: train loss 0.0254 (mse_score: 0.0254)\n",
      "16:19 madminer.utils.ml.sc INFO                val. loss  0.0189 (mse_score: 0.0189) (*)\n",
      "16:19 madminer.utils.ml.sc INFO      Epoch 45: train loss 0.0241 (mse_score: 0.0241)\n",
      "16:19 madminer.utils.ml.sc INFO                val. loss  0.0184 (mse_score: 0.0184)\n",
      "16:19 madminer.utils.ml.sc INFO      Epoch 50: train loss 0.0232 (mse_score: 0.0232)\n",
      "16:19 madminer.utils.ml.sc INFO                val. loss  0.0180 (mse_score: 0.0180)\n",
      "16:19 madminer.utils.ml.sc INFO    Early stopping after epoch 48, with loss 0.02 compared to final loss 0.02\n",
      "16:19 madminer.utils.ml.sc INFO    Finished training\n"
     ]
    }
   ],
   "source": [
    "forge.train(\n",
    "    method='sally',\n",
    "    x_filename='data/samples/x_train0.npy',\n",
    "    t_xz0_filename='data/samples/t_xz_train0.npy',\n",
    "    n_epochs=20,\n",
    "    batch_size=256,\n",
    "    validation_split=0.3\n",
    ")\n",
    "\n",
    "forge.save('models/sally')"
   ]
  },
  {
   "cell_type": "markdown",
   "metadata": {},
   "source": [
    "### Evaluation"
   ]
  },
  {
   "cell_type": "markdown",
   "metadata": {},
   "source": [
    "Let's evaluate the SM score on the test data"
   ]
  },
  {
   "cell_type": "code",
   "execution_count": 18,
   "metadata": {},
   "outputs": [],
   "source": [
    "forge.load('models/sally')\n",
    "\n",
    "t_hat = forge.evaluate(\n",
    "    x='data/samples/x_test.npy'\n",
    ")"
   ]
  },
  {
   "cell_type": "markdown",
   "metadata": {},
   "source": [
    "Let's have a look at the estimated score and how it is related to the observables:"
   ]
  },
  {
   "cell_type": "code",
   "execution_count": 19,
   "metadata": {},
   "outputs": [
    {
     "data": {
      "image/png": "[encoded data removed]",
      "text/plain": [
       "<Figure size 720x288 with 4 Axes>"
      ]
     },
     "metadata": {
      "needs_background": "light"
     },
     "output_type": "display_data"
    }
   ],
   "source": [
    "x = np.load('data/samples/x_test.npy')\n",
    "\n",
    "fig = plt.figure(figsize=(10,4))\n",
    "\n",
    "for i in range(2):\n",
    "    \n",
    "    ax = plt.subplot(1,2,i+1)\n",
    "\n",
    "    sc = plt.scatter(x[:,0], x[:,1], c=t_hat[:,i], s=10., cmap='viridis', vmin=-0.05, vmax=0.02)\n",
    "    cbar = plt.colorbar(sc)\n",
    "\n",
    "    cbar.set_label(r'$\\hat{t}_' + str(i) + r'(x | \\theta_{ref})$')\n",
    "    plt.xlabel(r'$p_{T,j1}$ [GeV]')\n",
    "    plt.ylabel(r'$\\Delta \\phi_{jj}$')\n",
    "    plt.xlim(10.,400.)\n",
    "    plt.ylim(0.,6.2)\n",
    "    \n",
    "plt.tight_layout()\n",
    "plt.show()\n"
   ]
  },
  {
   "cell_type": "markdown",
   "metadata": {},
   "source": [
    "### Fisher information"
   ]
  },
  {
   "cell_type": "markdown",
   "metadata": {},
   "source": [
    "In addition, we can use SALLY estimators to estimate the expected Fisher information."
   ]
  },
  {
   "cell_type": "code",
   "execution_count": 20,
   "metadata": {},
   "outputs": [
    {
     "name": "stderr",
     "output_type": "stream",
     "text": [
      "16:19 madminer.fisherinfor INFO    Loading data from data/madminer_example_shuffled.h5\n",
      "16:19 madminer.fisherinfor INFO    Found 2 parameters\n",
      "16:19 madminer.fisherinfor WARNING Did not find nuisance parameters!\n",
      "16:19 madminer.fisherinfor INFO    Found 6 benchmarks, of which 6 physical\n",
      "16:19 madminer.fisherinfor INFO    Found 2 observables: pt_j1, delta_phi_jj\n",
      "16:19 madminer.fisherinfor INFO    Found 1018 events\n",
      "16:19 madminer.fisherinfor INFO    Found morphing setup with 6 components\n"
     ]
    }
   ],
   "source": [
    "fisher = FisherInformation('data/madminer_example_shuffled.h5', debug=False)"
   ]
  },
  {
   "cell_type": "code",
   "execution_count": 21,
   "metadata": {},
   "outputs": [
    {
     "name": "stderr",
     "output_type": "stream",
     "text": [
      "16:19 madminer.fisherinfor INFO    Evaluating rate Fisher information\n",
      "16:19 madminer.utils.inter WARNING include_nuisance_parameters=False without benchmark_is_nuisance information. Returning all weights.\n",
      "16:19 madminer.ml          INFO    Expected per-event score (should be close to zero): [-0.09285703  0.0164776 ]\n"
     ]
    },
    {
     "name": "stdout",
     "output_type": "stream",
     "text": [
      "Kinematic Fisher information after 300 ifb:\n",
      "[[510.28822887 -11.40600616]\n",
      " [-11.40600616  42.5444856 ]]\n"
     ]
    }
   ],
   "source": [
    "fisher_information, _ = fisher.calculate_fisher_information_full_detector(\n",
    "    theta=[0.,0.],\n",
    "    model_file='models/sally',\n",
    "    unweighted_x_sample_file='data/samples/x_test.npy',\n",
    "    luminosity=100000.\n",
    ")\n",
    "\n",
    "print('Kinematic Fisher information after 300 ifb:\\n{}'.format(fisher_information))"
   ]
  },
  {
   "cell_type": "markdown",
   "metadata": {},
   "source": [
    "We can visualize the Fisher information with contours:"
   ]
  },
  {
   "cell_type": "code",
   "execution_count": 31,
   "metadata": {},
   "outputs": [
    {
     "data": {
      "image/png": "[encoded data removed]",
      "text/plain": [
       "<Figure size 360x360 with 1 Axes>"
      ]
     },
     "metadata": {
      "needs_background": "light"
     },
     "output_type": "display_data"
    }
   ],
   "source": [
    "_ = plot_fisher_information_contours_2d(\n",
    "    [fisher_information],\n",
    "    xrange=(-.5,.5),\n",
    "    yrange=(-.5,.5)\n",
    ")"
   ]
  },
  {
   "cell_type": "markdown",
   "metadata": {},
   "source": [
    "## 7b. Ensemble methods"
   ]
  },
  {
   "cell_type": "markdown",
   "metadata": {},
   "source": [
    "Instead of using a single neural network to estimate the likelihood ratio, score, or Fisher information, we can use an ensemble of such estimators. That provides us with a more reliable mean prediction as well as a measure of the uncertainty. The class `madminer.ml.EnsembleForge` automates this process. Currently, it only supports SALLY estimators:"
   ]
  },
  {
   "cell_type": "code",
   "execution_count": 23,
   "metadata": {},
   "outputs": [],
   "source": [
    "ensemble = EnsembleForge(estimators=5)"
   ]
  },
  {
   "cell_type": "markdown",
   "metadata": {},
   "source": [
    "### Training"
   ]
  },
  {
   "cell_type": "markdown",
   "metadata": {},
   "source": [
    "The `EnsembleForge` object has very similar functions as `MLForge`. In particular, we can train all estimators simultaneously with `train_all()` and save the ensemble to files:"
   ]
  },
  {
   "cell_type": "code",
   "execution_count": 25,
   "metadata": {
    "scrolled": false
   },
   "outputs": [
    {
     "name": "stderr",
     "output_type": "stream",
     "text": [
      "16:22 madminer.ml          INFO    Training 5 estimators in ensemble\n",
      "16:22 madminer.ml          INFO    Training estimator 1 / 5 in ensemble\n",
      "16:22 madminer.ml          INFO    Starting training\n",
      "16:22 madminer.ml          INFO      Method:                 sally\n",
      "16:22 madminer.ml          INFO      Training data: x at data/samples/x_train0.npy\n",
      "16:22 madminer.ml          INFO                     t_xz (theta0) at  data/samples/t_xz_train0.npy\n",
      "16:22 madminer.ml          INFO      Features:               all\n",
      "16:22 madminer.ml          INFO      Method:                 sally\n",
      "16:22 madminer.ml          INFO      Hidden layers:          (100, 100)\n",
      "16:22 madminer.ml          INFO      Activation function:    tanh\n",
      "16:22 madminer.ml          INFO      Batch size:             256\n",
      "16:22 madminer.ml          INFO      Trainer:                amsgrad\n",
      "16:22 madminer.ml          INFO      Epochs:                 20\n",
      "16:22 madminer.ml          INFO      Learning rate:          0.001 initially, decaying to 0.0001\n",
      "16:22 madminer.ml          INFO      Validation split:       0.3\n",
      "16:22 madminer.ml          INFO      Early stopping:         True\n",
      "16:22 madminer.ml          INFO      Scale inputs:           True\n",
      "16:22 madminer.ml          INFO      Shuffle labels          False\n",
      "16:22 madminer.ml          INFO      Regularization:         None\n",
      "16:22 madminer.ml          INFO      Samples:                all\n",
      "16:22 madminer.ml          INFO    Loading training data\n",
      "16:22 madminer.ml          INFO    Found 100000 samples with 2 parameters and 2 observables\n",
      "16:22 madminer.ml          INFO    Rescaling inputs\n",
      "16:22 madminer.ml          INFO    Creating model for method sally\n",
      "16:22 madminer.ml          INFO    Training model\n",
      "16:22 madminer.utils.ml.sc INFO      Epoch 02: train loss 0.1116 (mse_score: 0.1116)\n",
      "16:22 madminer.utils.ml.sc INFO                val. loss  0.1115 (mse_score: 0.1115) (*)\n",
      "16:22 madminer.utils.ml.sc INFO      Epoch 04: train loss 0.0869 (mse_score: 0.0869)\n",
      "16:22 madminer.utils.ml.sc INFO                val. loss  0.0921 (mse_score: 0.0921) (*)\n",
      "16:22 madminer.utils.ml.sc INFO      Epoch 06: train loss 0.0755 (mse_score: 0.0755)\n",
      "16:22 madminer.utils.ml.sc INFO                val. loss  0.0817 (mse_score: 0.0817) (*)\n",
      "16:22 madminer.utils.ml.sc INFO      Epoch 08: train loss 0.0693 (mse_score: 0.0693)\n",
      "16:22 madminer.utils.ml.sc INFO                val. loss  0.0750 (mse_score: 0.0750) (*)\n",
      "16:22 madminer.utils.ml.sc INFO      Epoch 10: train loss 0.0653 (mse_score: 0.0653)\n",
      "16:22 madminer.utils.ml.sc INFO                val. loss  0.0719 (mse_score: 0.0719) (*)\n",
      "16:22 madminer.utils.ml.sc INFO      Epoch 12: train loss 0.0619 (mse_score: 0.0619)\n",
      "16:22 madminer.utils.ml.sc INFO                val. loss  0.0675 (mse_score: 0.0675) (*)\n",
      "16:22 madminer.utils.ml.sc INFO      Epoch 14: train loss 0.0593 (mse_score: 0.0593)\n",
      "16:22 madminer.utils.ml.sc INFO                val. loss  0.0652 (mse_score: 0.0652) (*)\n",
      "16:22 madminer.utils.ml.sc INFO      Epoch 16: train loss 0.0575 (mse_score: 0.0575)\n",
      "16:22 madminer.utils.ml.sc INFO                val. loss  0.0653 (mse_score: 0.0653)\n",
      "16:22 madminer.utils.ml.sc INFO      Epoch 18: train loss 0.0560 (mse_score: 0.0560)\n",
      "16:22 madminer.utils.ml.sc INFO                val. loss  0.0616 (mse_score: 0.0616) (*)\n",
      "16:22 madminer.utils.ml.sc INFO      Epoch 20: train loss 0.0549 (mse_score: 0.0549)\n",
      "16:22 madminer.utils.ml.sc INFO                val. loss  0.0605 (mse_score: 0.0605) (*)\n",
      "16:22 madminer.utils.ml.sc INFO    Early stopping did not improve performance\n",
      "16:22 madminer.utils.ml.sc INFO    Finished training\n",
      "16:22 madminer.ml          INFO    Training estimator 2 / 5 in ensemble\n",
      "16:22 madminer.ml          INFO    Starting training\n",
      "16:22 madminer.ml          INFO      Method:                 sally\n",
      "16:22 madminer.ml          INFO      Training data: x at data/samples/x_train0.npy\n",
      "16:22 madminer.ml          INFO                     t_xz (theta0) at  data/samples/t_xz_train0.npy\n",
      "16:22 madminer.ml          INFO      Features:               all\n",
      "16:22 madminer.ml          INFO      Method:                 sally\n",
      "16:22 madminer.ml          INFO      Hidden layers:          (100, 100)\n",
      "16:22 madminer.ml          INFO      Activation function:    tanh\n",
      "16:22 madminer.ml          INFO      Batch size:             256\n",
      "16:22 madminer.ml          INFO      Trainer:                amsgrad\n",
      "16:22 madminer.ml          INFO      Epochs:                 20\n",
      "16:22 madminer.ml          INFO      Learning rate:          0.001 initially, decaying to 0.0001\n",
      "16:22 madminer.ml          INFO      Validation split:       0.3\n",
      "16:22 madminer.ml          INFO      Early stopping:         True\n",
      "16:22 madminer.ml          INFO      Scale inputs:           True\n",
      "16:22 madminer.ml          INFO      Shuffle labels          False\n",
      "16:22 madminer.ml          INFO      Regularization:         None\n",
      "16:22 madminer.ml          INFO      Samples:                all\n",
      "16:22 madminer.ml          INFO    Loading training data\n",
      "16:22 madminer.ml          INFO    Found 100000 samples with 2 parameters and 2 observables\n",
      "16:22 madminer.ml          INFO    Rescaling inputs\n",
      "16:22 madminer.ml          INFO    Creating model for method sally\n",
      "16:22 madminer.ml          INFO    Training model\n",
      "16:22 madminer.utils.ml.sc INFO      Epoch 02: train loss 0.1145 (mse_score: 0.1145)\n",
      "16:22 madminer.utils.ml.sc INFO                val. loss  0.1285 (mse_score: 0.1285) (*)\n",
      "16:22 madminer.utils.ml.sc INFO      Epoch 04: train loss 0.0939 (mse_score: 0.0939)\n",
      "16:22 madminer.utils.ml.sc INFO                val. loss  0.1033 (mse_score: 0.1033) (*)\n",
      "16:23 madminer.utils.ml.sc INFO      Epoch 06: train loss 0.0807 (mse_score: 0.0807)\n",
      "16:23 madminer.utils.ml.sc INFO                val. loss  0.0900 (mse_score: 0.0900) (*)\n",
      "16:23 madminer.utils.ml.sc INFO      Epoch 08: train loss 0.0736 (mse_score: 0.0736)\n",
      "16:23 madminer.utils.ml.sc INFO                val. loss  0.0824 (mse_score: 0.0824) (*)\n",
      "16:23 madminer.utils.ml.sc INFO      Epoch 10: train loss 0.0687 (mse_score: 0.0687)\n",
      "16:23 madminer.utils.ml.sc INFO                val. loss  0.0772 (mse_score: 0.0772) (*)\n",
      "16:23 madminer.utils.ml.sc INFO      Epoch 12: train loss 0.0653 (mse_score: 0.0653)\n",
      "16:23 madminer.utils.ml.sc INFO                val. loss  0.0734 (mse_score: 0.0734) (*)\n",
      "16:23 madminer.utils.ml.sc INFO      Epoch 14: train loss 0.0628 (mse_score: 0.0628)\n",
      "16:23 madminer.utils.ml.sc INFO                val. loss  0.0709 (mse_score: 0.0709) (*)\n",
      "16:23 madminer.utils.ml.sc INFO      Epoch 16: train loss 0.0606 (mse_score: 0.0606)\n",
      "16:23 madminer.utils.ml.sc INFO                val. loss  0.0686 (mse_score: 0.0686) (*)\n",
      "16:23 madminer.utils.ml.sc INFO      Epoch 18: train loss 0.0589 (mse_score: 0.0589)\n",
      "16:23 madminer.utils.ml.sc INFO                val. loss  0.0670 (mse_score: 0.0670) (*)\n",
      "16:23 madminer.utils.ml.sc INFO      Epoch 20: train loss 0.0577 (mse_score: 0.0577)\n",
      "16:23 madminer.utils.ml.sc INFO                val. loss  0.0657 (mse_score: 0.0657) (*)\n",
      "16:23 madminer.utils.ml.sc INFO    Early stopping did not improve performance\n",
      "16:23 madminer.utils.ml.sc INFO    Finished training\n",
      "16:23 madminer.ml          INFO    Training estimator 3 / 5 in ensemble\n",
      "16:23 madminer.ml          INFO    Starting training\n",
      "16:23 madminer.ml          INFO      Method:                 sally\n",
      "16:23 madminer.ml          INFO      Training data: x at data/samples/x_train0.npy\n",
      "16:23 madminer.ml          INFO                     t_xz (theta0) at  data/samples/t_xz_train0.npy\n",
      "16:23 madminer.ml          INFO      Features:               all\n",
      "16:23 madminer.ml          INFO      Method:                 sally\n",
      "16:23 madminer.ml          INFO      Hidden layers:          (100, 100)\n",
      "16:23 madminer.ml          INFO      Activation function:    tanh\n",
      "16:23 madminer.ml          INFO      Batch size:             256\n",
      "16:23 madminer.ml          INFO      Trainer:                amsgrad\n",
      "16:23 madminer.ml          INFO      Epochs:                 20\n",
      "16:23 madminer.ml          INFO      Learning rate:          0.001 initially, decaying to 0.0001\n",
      "16:23 madminer.ml          INFO      Validation split:       0.3\n",
      "16:23 madminer.ml          INFO      Early stopping:         True\n",
      "16:23 madminer.ml          INFO      Scale inputs:           True\n"
     ]
    },
    {
     "name": "stderr",
     "output_type": "stream",
     "text": [
      "16:23 madminer.ml          INFO      Shuffle labels          False\n",
      "16:23 madminer.ml          INFO      Regularization:         None\n",
      "16:23 madminer.ml          INFO      Samples:                all\n",
      "16:23 madminer.ml          INFO    Loading training data\n",
      "16:23 madminer.ml          INFO    Found 100000 samples with 2 parameters and 2 observables\n",
      "16:23 madminer.ml          INFO    Rescaling inputs\n",
      "16:23 madminer.ml          INFO    Creating model for method sally\n",
      "16:23 madminer.ml          INFO    Training model\n",
      "16:23 madminer.utils.ml.sc INFO      Epoch 02: train loss 0.1109 (mse_score: 0.1109)\n",
      "16:23 madminer.utils.ml.sc INFO                val. loss  0.1275 (mse_score: 0.1275) (*)\n",
      "16:23 madminer.utils.ml.sc INFO      Epoch 04: train loss 0.0914 (mse_score: 0.0914)\n",
      "16:23 madminer.utils.ml.sc INFO                val. loss  0.2670 (mse_score: 0.2670)\n",
      "16:23 madminer.utils.ml.sc INFO      Epoch 06: train loss 0.0792 (mse_score: 0.0792)\n",
      "16:23 madminer.utils.ml.sc INFO                val. loss  0.0871 (mse_score: 0.0871) (*)\n",
      "16:23 madminer.utils.ml.sc INFO      Epoch 08: train loss 0.0728 (mse_score: 0.0728)\n",
      "16:23 madminer.utils.ml.sc INFO                val. loss  0.0801 (mse_score: 0.0801) (*)\n",
      "16:23 madminer.utils.ml.sc INFO      Epoch 10: train loss 0.0679 (mse_score: 0.0679)\n",
      "16:23 madminer.utils.ml.sc INFO                val. loss  0.0755 (mse_score: 0.0755) (*)\n",
      "16:23 madminer.utils.ml.sc INFO      Epoch 12: train loss 0.0646 (mse_score: 0.0646)\n",
      "16:23 madminer.utils.ml.sc INFO                val. loss  0.0718 (mse_score: 0.0718) (*)\n",
      "16:23 madminer.utils.ml.sc INFO      Epoch 14: train loss 0.0621 (mse_score: 0.0621)\n",
      "16:23 madminer.utils.ml.sc INFO                val. loss  0.0699 (mse_score: 0.0699) (*)\n",
      "16:23 madminer.utils.ml.sc INFO      Epoch 16: train loss 0.0603 (mse_score: 0.0603)\n",
      "16:23 madminer.utils.ml.sc INFO                val. loss  0.0674 (mse_score: 0.0674) (*)\n",
      "16:23 madminer.utils.ml.sc INFO      Epoch 18: train loss 0.0588 (mse_score: 0.0588)\n",
      "16:23 madminer.utils.ml.sc INFO                val. loss  0.0659 (mse_score: 0.0659) (*)\n",
      "16:23 madminer.utils.ml.sc INFO      Epoch 20: train loss 0.0576 (mse_score: 0.0576)\n",
      "16:23 madminer.utils.ml.sc INFO                val. loss  0.0647 (mse_score: 0.0647) (*)\n",
      "16:23 madminer.utils.ml.sc INFO    Early stopping did not improve performance\n",
      "16:23 madminer.utils.ml.sc INFO    Finished training\n",
      "16:23 madminer.ml          INFO    Training estimator 4 / 5 in ensemble\n",
      "16:23 madminer.ml          INFO    Starting training\n",
      "16:23 madminer.ml          INFO      Method:                 sally\n",
      "16:23 madminer.ml          INFO      Training data: x at data/samples/x_train0.npy\n",
      "16:23 madminer.ml          INFO                     t_xz (theta0) at  data/samples/t_xz_train0.npy\n",
      "16:23 madminer.ml          INFO      Features:               all\n",
      "16:23 madminer.ml          INFO      Method:                 sally\n",
      "16:23 madminer.ml          INFO      Hidden layers:          (100, 100)\n",
      "16:23 madminer.ml          INFO      Activation function:    tanh\n",
      "16:23 madminer.ml          INFO      Batch size:             256\n",
      "16:23 madminer.ml          INFO      Trainer:                amsgrad\n",
      "16:23 madminer.ml          INFO      Epochs:                 20\n",
      "16:23 madminer.ml          INFO      Learning rate:          0.001 initially, decaying to 0.0001\n",
      "16:23 madminer.ml          INFO      Validation split:       0.3\n",
      "16:23 madminer.ml          INFO      Early stopping:         True\n",
      "16:23 madminer.ml          INFO      Scale inputs:           True\n",
      "16:23 madminer.ml          INFO      Shuffle labels          False\n",
      "16:23 madminer.ml          INFO      Regularization:         None\n",
      "16:23 madminer.ml          INFO      Samples:                all\n",
      "16:23 madminer.ml          INFO    Loading training data\n",
      "16:23 madminer.ml          INFO    Found 100000 samples with 2 parameters and 2 observables\n",
      "16:23 madminer.ml          INFO    Rescaling inputs\n",
      "16:23 madminer.ml          INFO    Creating model for method sally\n",
      "16:23 madminer.ml          INFO    Training model\n",
      "16:24 madminer.utils.ml.sc INFO      Epoch 02: train loss 0.1144 (mse_score: 0.1144)\n",
      "16:24 madminer.utils.ml.sc INFO                val. loss  0.1220 (mse_score: 0.1220) (*)\n",
      "16:24 madminer.utils.ml.sc INFO      Epoch 04: train loss 0.0917 (mse_score: 0.0917)\n",
      "16:24 madminer.utils.ml.sc INFO                val. loss  0.0974 (mse_score: 0.0974) (*)\n",
      "16:24 madminer.utils.ml.sc INFO      Epoch 06: train loss 0.0779 (mse_score: 0.0779)\n",
      "16:24 madminer.utils.ml.sc INFO                val. loss  0.0854 (mse_score: 0.0854) (*)\n",
      "16:24 madminer.utils.ml.sc INFO      Epoch 08: train loss 0.0710 (mse_score: 0.0710)\n",
      "16:24 madminer.utils.ml.sc INFO                val. loss  0.0794 (mse_score: 0.0794) (*)\n",
      "16:24 madminer.utils.ml.sc INFO      Epoch 10: train loss 0.0669 (mse_score: 0.0669)\n",
      "16:24 madminer.utils.ml.sc INFO                val. loss  0.0746 (mse_score: 0.0746) (*)\n",
      "16:24 madminer.utils.ml.sc INFO      Epoch 12: train loss 0.0636 (mse_score: 0.0636)\n",
      "16:24 madminer.utils.ml.sc INFO                val. loss  0.0720 (mse_score: 0.0720) (*)\n",
      "16:24 madminer.utils.ml.sc INFO      Epoch 14: train loss 0.0610 (mse_score: 0.0610)\n",
      "16:24 madminer.utils.ml.sc INFO                val. loss  0.0689 (mse_score: 0.0689) (*)\n",
      "16:24 madminer.utils.ml.sc INFO      Epoch 16: train loss 0.0591 (mse_score: 0.0591)\n",
      "16:24 madminer.utils.ml.sc INFO                val. loss  0.0674 (mse_score: 0.0674) (*)\n",
      "16:24 madminer.utils.ml.sc INFO      Epoch 18: train loss 0.0577 (mse_score: 0.0577)\n",
      "16:24 madminer.utils.ml.sc INFO                val. loss  0.0654 (mse_score: 0.0654) (*)\n",
      "16:24 madminer.utils.ml.sc INFO      Epoch 20: train loss 0.0564 (mse_score: 0.0564)\n",
      "16:24 madminer.utils.ml.sc INFO                val. loss  0.0639 (mse_score: 0.0639) (*)\n",
      "16:24 madminer.utils.ml.sc INFO    Early stopping did not improve performance\n",
      "16:24 madminer.utils.ml.sc INFO    Finished training\n",
      "16:24 madminer.ml          INFO    Training estimator 5 / 5 in ensemble\n",
      "16:24 madminer.ml          INFO    Starting training\n",
      "16:24 madminer.ml          INFO      Method:                 sally\n",
      "16:24 madminer.ml          INFO      Training data: x at data/samples/x_train0.npy\n",
      "16:24 madminer.ml          INFO                     t_xz (theta0) at  data/samples/t_xz_train0.npy\n",
      "16:24 madminer.ml          INFO      Features:               all\n",
      "16:24 madminer.ml          INFO      Method:                 sally\n",
      "16:24 madminer.ml          INFO      Hidden layers:          (100, 100)\n",
      "16:24 madminer.ml          INFO      Activation function:    tanh\n",
      "16:24 madminer.ml          INFO      Batch size:             256\n",
      "16:24 madminer.ml          INFO      Trainer:                amsgrad\n",
      "16:24 madminer.ml          INFO      Epochs:                 20\n",
      "16:24 madminer.ml          INFO      Learning rate:          0.001 initially, decaying to 0.0001\n",
      "16:24 madminer.ml          INFO      Validation split:       0.3\n",
      "16:24 madminer.ml          INFO      Early stopping:         True\n",
      "16:24 madminer.ml          INFO      Scale inputs:           True\n",
      "16:24 madminer.ml          INFO      Shuffle labels          False\n",
      "16:24 madminer.ml          INFO      Regularization:         None\n",
      "16:24 madminer.ml          INFO      Samples:                all\n",
      "16:24 madminer.ml          INFO    Loading training data\n",
      "16:24 madminer.ml          INFO    Found 100000 samples with 2 parameters and 2 observables\n",
      "16:24 madminer.ml          INFO    Rescaling inputs\n",
      "16:24 madminer.ml          INFO    Creating model for method sally\n",
      "16:24 madminer.ml          INFO    Training model\n",
      "16:24 madminer.utils.ml.sc INFO      Epoch 02: train loss 0.0717 (mse_score: 0.0717)\n",
      "16:24 madminer.utils.ml.sc INFO                val. loss  0.2238 (mse_score: 0.2238) (*)\n",
      "16:24 madminer.utils.ml.sc INFO      Epoch 04: train loss 0.0602 (mse_score: 0.0602)\n",
      "16:24 madminer.utils.ml.sc INFO                val. loss  0.1879 (mse_score: 0.1879) (*)\n",
      "16:24 madminer.utils.ml.sc INFO      Epoch 06: train loss 0.0532 (mse_score: 0.0532)\n",
      "16:24 madminer.utils.ml.sc INFO                val. loss  0.1673 (mse_score: 0.1673) (*)\n",
      "16:24 madminer.utils.ml.sc INFO      Epoch 08: train loss 0.0494 (mse_score: 0.0494)\n",
      "16:24 madminer.utils.ml.sc INFO                val. loss  0.1559 (mse_score: 0.1559) (*)\n"
     ]
    },
    {
     "name": "stderr",
     "output_type": "stream",
     "text": [
      "16:24 madminer.utils.ml.sc INFO      Epoch 10: train loss 0.0472 (mse_score: 0.0472)\n",
      "16:24 madminer.utils.ml.sc INFO                val. loss  0.1480 (mse_score: 0.1480) (*)\n",
      "16:24 madminer.utils.ml.sc INFO      Epoch 12: train loss 0.0456 (mse_score: 0.0456)\n",
      "16:24 madminer.utils.ml.sc INFO                val. loss  0.1431 (mse_score: 0.1431) (*)\n",
      "16:24 madminer.utils.ml.sc INFO      Epoch 14: train loss 0.0445 (mse_score: 0.0445)\n",
      "16:24 madminer.utils.ml.sc INFO                val. loss  0.1390 (mse_score: 0.1390) (*)\n",
      "16:25 madminer.utils.ml.sc INFO      Epoch 16: train loss 0.0436 (mse_score: 0.0436)\n",
      "16:25 madminer.utils.ml.sc INFO                val. loss  0.1358 (mse_score: 0.1358) (*)\n",
      "16:25 madminer.utils.ml.sc INFO      Epoch 18: train loss 0.0430 (mse_score: 0.0430)\n",
      "16:25 madminer.utils.ml.sc INFO                val. loss  0.1338 (mse_score: 0.1338) (*)\n",
      "16:25 madminer.utils.ml.sc INFO      Epoch 20: train loss 0.0426 (mse_score: 0.0426)\n",
      "16:25 madminer.utils.ml.sc INFO                val. loss  0.1318 (mse_score: 0.1318) (*)\n",
      "16:25 madminer.utils.ml.sc INFO    Early stopping did not improve performance\n",
      "16:25 madminer.utils.ml.sc INFO    Finished training\n"
     ]
    }
   ],
   "source": [
    "ensemble.train_all(\n",
    "    method='sally',\n",
    "    x_filename='data/samples/x_train0.npy',\n",
    "    t_xz0_filename='data/samples/t_xz_train0.npy',\n",
    "    n_epochs=20,\n",
    "    batch_size=256,\n",
    "    validation_split=0.3\n",
    ")\n",
    "\n",
    "ensemble.save('models/sally_ensemble')"
   ]
  },
  {
   "cell_type": "markdown",
   "metadata": {},
   "source": [
    "### Evaluation"
   ]
  },
  {
   "cell_type": "markdown",
   "metadata": {},
   "source": [
    "We can evaluate the ensemble similarly to the individual networks. Let's stick to the estimation of the Fisher information. There are two different ways to take the ensemble average:\n",
    "\n",
    "- `mode='information'`: We can calculate the Fisher information for each estimator in the ensemble, and then take the mean and the covariance over the ensemble. This has the advantage that it provides a direct measure of the uncertainty of the prediction.\n",
    "- `mode='score'`: We can calculate the score for each event and estimator, take the ensemble mean for the score of each event, and then calculate the Fisher information based on the mean scores. This is expected to be more precise (since the score estimates will be more precise, and the nonlinearity in the Fisher info calculation amplifies any error in the score estimation). But calculating the covariance in this approach is computationally not feasible, so there will be no error bands.\n",
    "\n",
    "By default, MadMiner uses the 'score' mode. Here we will use the 'information' mode just to show the nice uncertainty bands we get."
   ]
  },
  {
   "cell_type": "code",
   "execution_count": 28,
   "metadata": {},
   "outputs": [
    {
     "name": "stderr",
     "output_type": "stream",
     "text": [
      "16:25 madminer.fisherinfor INFO    Loading data from data/madminer_example_shuffled.h5\n",
      "16:25 madminer.fisherinfor INFO    Found 2 parameters\n",
      "16:25 madminer.fisherinfor WARNING Did not find nuisance parameters!\n",
      "16:25 madminer.fisherinfor INFO    Found 6 benchmarks, of which 6 physical\n",
      "16:25 madminer.fisherinfor INFO    Found 2 observables: pt_j1, delta_phi_jj\n",
      "16:25 madminer.fisherinfor INFO    Found 1018 events\n",
      "16:25 madminer.fisherinfor INFO    Found morphing setup with 6 components\n",
      "16:25 madminer.ml          INFO    Found ensemble with 5 estimators and expectations None\n",
      "16:25 madminer.fisherinfor INFO    Evaluating rate Fisher information\n",
      "16:25 madminer.utils.inter WARNING include_nuisance_parameters=False without benchmark_is_nuisance information. Returning all weights.\n",
      "16:25 madminer.utils.inter WARNING include_nuisance_parameters=False without benchmark_is_nuisance information. Returning all weights.\n",
      "16:25 madminer.fisherinfor INFO    Evaluating kinematic Fisher information on batch 1 / 1\n",
      "16:25 madminer.ml          INFO    Expected per-event score (should be close to zero): [-0.03409678  0.00560008]\n",
      "16:25 madminer.ml          INFO    Expected per-event score (should be close to zero): [-0.04923413  0.00810514]\n",
      "16:25 madminer.ml          INFO    Expected per-event score (should be close to zero): [-0.06764425 -0.00024275]\n",
      "16:25 madminer.ml          INFO    Expected per-event score (should be close to zero): [-0.04616961 -0.00219718]\n",
      "16:25 madminer.ml          INFO    Expected per-event score (should be close to zero): [-0.03829342 -0.00270782]\n"
     ]
    }
   ],
   "source": [
    "fisher = FisherInformation('data/madminer_example_shuffled.h5', debug=False)\n",
    "\n",
    "fisher_information_mean, fisher_information_covariance = fisher.calculate_fisher_information_full_detector(\n",
    "    theta=[0.,0.],\n",
    "    model_file='models/sally_ensemble',\n",
    "    luminosity=300000.,\n",
    "    mode='information'\n",
    ")"
   ]
  },
  {
   "cell_type": "markdown",
   "metadata": {},
   "source": [
    "The covariance can be propagated to the Fisher distance contour plot easily:"
   ]
  },
  {
   "cell_type": "code",
   "execution_count": 30,
   "metadata": {},
   "outputs": [
    {
     "data": {
      "image/png": "[encoded data removed]",
      "text/plain": [
       "<Figure size 360x360 with 1 Axes>"
      ]
     },
     "metadata": {
      "needs_background": "light"
     },
     "output_type": "display_data"
    }
   ],
   "source": [
    "_ = plot_fisher_information_contours_2d(\n",
    "    [fisher_information_mean],\n",
    "    [fisher_information_covariance],\n",
    "    xrange=(-.5,.5),\n",
    "    yrange=(-.5,.5)\n",
    ")"
   ]
  },
  {
   "cell_type": "markdown",
   "metadata": {},
   "source": [
    "That's the end of our second tutorial. If you have questions, please have a look at the papers, the module documentation, or drop us an email."
   ]
  },
  {
   "cell_type": "code",
   "execution_count": null,
   "metadata": {},
   "outputs": [],
   "source": []
  }
 ],
 "metadata": {
  "kernelspec": {
   "display_name": "Python (higgs_inference)",
   "language": "python",
   "name": "higgs_inference"
  },
  "language_info": {
   "codemirror_mode": {
    "name": "ipython",
    "version": 3
   },
   "file_extension": ".py",
   "mimetype": "text/x-python",
   "name": "python",
   "nbconvert_exporter": "python",
   "pygments_lexer": "ipython3",
   "version": "3.6.7"
  }
 },
 "nbformat": 4,
 "nbformat_minor": 2
}
