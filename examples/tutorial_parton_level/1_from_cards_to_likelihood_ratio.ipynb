{
 "cells": [
  {
   "cell_type": "markdown",
   "metadata": {},
   "source": [
    "# MadMiner tutorial 1: From cards to likelihood ratios (parton level)\n",
    "\n",
    "Johann Brehmer, Felix Kling, Kyle Cranmer 2018"
   ]
  },
  {
   "cell_type": "markdown",
   "metadata": {},
   "source": [
    "In this tutorial we'll introduce the basic MadMiner workflow, using parton-level samples with simple smearing functions. We'll show you how to use MadMiner to generate events, extract training data, and train neural networks to estimate likelihood ratios.\n",
    "\n",
    "This tutorial does not try to explain the inference methods. To understand what MadMiner is doing, please have a look at some papers first. In\n",
    "[\"Constraining Effective Field Theories With Machine Learning\"](https://arxiv.org/abs/1805.00013)\n",
    "we explain the basic idea of most of the methods presented here, while [\"A Guide to Constraining Effective Field Theories With Machine Learning\"](https://arxiv.org/abs/1805.00020) is an extensive 65-page handbook going through the details."
   ]
  },
  {
   "cell_type": "markdown",
   "metadata": {},
   "source": [
    "## Preparations"
   ]
  },
  {
   "cell_type": "markdown",
   "metadata": {},
   "source": [
    "Before you execute this notebook, make sure you have running installations of MadGraph, Pythia, and Delphes."
   ]
  },
  {
   "cell_type": "code",
   "execution_count": 1,
   "metadata": {},
   "outputs": [],
   "source": [
    "from __future__ import absolute_import, division, print_function, unicode_literals\n",
    "\n",
    "import logging\n",
    "import numpy as np\n",
    "import matplotlib\n",
    "from matplotlib import pyplot as plt\n",
    "%matplotlib inline\n",
    "\n",
    "from madminer.core import MadMiner\n",
    "from madminer.lhe import LHEProcessor\n",
    "from madminer.sampling import combine_and_shuffle\n",
    "from madminer.sampling import SampleAugmenter\n",
    "from madminer.sampling import constant_benchmark_theta, multiple_benchmark_thetas, random_morphing_thetas\n",
    "from madminer.ml import MLForge\n",
    "from madminer.plotting import plot_2d_morphing_basis, plot_distributions\n"
   ]
  },
  {
   "cell_type": "markdown",
   "metadata": {},
   "source": [
    "Please enter here the path to your MG5 root directory."
   ]
  },
  {
   "cell_type": "code",
   "execution_count": 2,
   "metadata": {},
   "outputs": [],
   "source": [
    "mg_dir = '/Users/johannbrehmer/work/projects/madminer/MG5_aMC_v2_6_2'"
   ]
  },
  {
   "cell_type": "markdown",
   "metadata": {},
   "source": [
    "MadMiner uses the Python `logging` module to provide additional information and debugging output. You can choose how much of this output you want to see by switching the level in the following lines to `logging.DEBUG` or `logging.WARNING`."
   ]
  },
  {
   "cell_type": "code",
   "execution_count": 3,
   "metadata": {},
   "outputs": [],
   "source": [
    "# MadMiner output\n",
    "logging.basicConfig(\n",
    "    format='%(asctime)-5.5s %(name)-20.20s %(levelname)-7.7s %(message)s',\n",
    "    datefmt='%H:%M',\n",
    "    level=logging.INFO\n",
    ")\n",
    "\n",
    "# Output of all other modules (e.g. matplotlib)\n",
    "for key in logging.Logger.manager.loggerDict:\n",
    "    if \"madminer\" not in key:\n",
    "        logging.getLogger(key).setLevel(logging.WARNING)"
   ]
  },
  {
   "cell_type": "markdown",
   "metadata": {},
   "source": [
    "## Input data"
   ]
  },
  {
   "cell_type": "markdown",
   "metadata": {},
   "source": [
    "As an example process, we'll simulate VBF Higgs production with a decay into two photons. We'll try to measure two EFT coefficients that affect this process.\n",
    "\n",
    "Have a look at the `cards` folder. You'll find text files (\"cards\") that specify the process simulation in typical MadGraph convention."
   ]
  },
  {
   "cell_type": "markdown",
   "metadata": {},
   "source": [
    "## 1. Define parameter space"
   ]
  },
  {
   "cell_type": "markdown",
   "metadata": {},
   "source": [
    "After creating a `MadMiner` instance, the first important step is the definition of the parameter space. Each model parameter is characterized by a name as well as the LHA block and ID.\n",
    "\n",
    "If morphing is used, one also has to specify the maximal power with which the parameter contributes to the squared matrix element. For instance, a parameter that contributes only to one vertex, will typically have `morphing_max_power=2`, while a parameter that contributes to two vertices usually has `morphing_max_power=4`. Exceptions arise for instance when the interference effects between the SM and dimension-six operators are modelled, but the square of the dimension-six amplitude (subleading in 1/Lambda) is not taken into account, in which case `morphing_max_power=1`. The `parameter_range` argument defines the range of parameter values that are used for the automatic optimization of the morphing basis.\n",
    "\n",
    "Finally, the parameter values theta used internally by MadMiner and the parameter values written to the param_card (or reweight_card) given to MadGraph do not have to be exactly the same. With the option `parm_card_transform`, the user can supply a one-parameter function that maps a parameter value theta to the value given to MadGraph. This string is a python expression, in which `theta` is parsed as the parameter value. For instance, if the internal parameters are in the range (0, 1), but should be linearly scaled to (0, 100) in the param_card, one would have to use `param_card_transform=\"100*theta\"`."
   ]
  },
  {
   "cell_type": "code",
   "execution_count": 5,
   "metadata": {},
   "outputs": [
    {
     "name": "stderr",
     "output_type": "stream",
     "text": [
      "09:28 madminer.core        INFO    Added parameter CWL2 (LHA: dim6 2, maximal power in squared ME: (2,), range: (-10.0, 10.0))\n",
      "09:28 madminer.core        INFO    Added parameter CPWL2 (LHA: dim6 5, maximal power in squared ME: (2,), range: (-10.0, 1.0))\n"
     ]
    }
   ],
   "source": [
    "miner = MadMiner()\n",
    "\n",
    "miner.add_parameter(\n",
    "    lha_block='dim6',\n",
    "    lha_id=2,\n",
    "    parameter_name='CWL2',\n",
    "    morphing_max_power=2,\n",
    "    param_card_transform=\"16.52*theta\",\n",
    "    parameter_range=(-10.,10.)\n",
    ")\n",
    "miner.add_parameter(\n",
    "    lha_block='dim6',\n",
    "    lha_id=5,\n",
    "    parameter_name='CPWL2',\n",
    "    morphing_max_power=2,\n",
    "    param_card_transform=\"16.52*theta\",\n",
    "    parameter_range=(-10.,1.0)\n",
    ")"
   ]
  },
  {
   "cell_type": "markdown",
   "metadata": {},
   "source": [
    "## 2. Define benchmark points (evaluation points for |M|^2)"
   ]
  },
  {
   "cell_type": "markdown",
   "metadata": {},
   "source": [
    "The next step is the definition of all the points at which the weights (squared matrix elements) should be evaluated by MadGraph. We call these points \"benchmarks\"."
   ]
  },
  {
   "cell_type": "markdown",
   "metadata": {},
   "source": [
    "### Set benchmarks by hand"
   ]
  },
  {
   "cell_type": "markdown",
   "metadata": {},
   "source": [
    "One can define benchmarks by hand:"
   ]
  },
  {
   "cell_type": "code",
   "execution_count": 6,
   "metadata": {},
   "outputs": [
    {
     "name": "stderr",
     "output_type": "stream",
     "text": [
      "09:28 madminer.core        INFO    Added benchmark sm: CWL2 = 0.00e+00, CPWL2 = 0.00e+00)\n",
      "09:28 madminer.core        INFO    Added benchmark w: CWL2 = 10.00, CPWL2 = 0.00e+00)\n"
     ]
    }
   ],
   "source": [
    "miner.add_benchmark(\n",
    "    {'CWL2':0., 'CPWL2':0.},\n",
    "    'sm'\n",
    ")\n",
    "miner.add_benchmark(\n",
    "    {'CWL2':10., 'CPWL2':0.},\n",
    "    'w'\n",
    ")"
   ]
  },
  {
   "cell_type": "markdown",
   "metadata": {},
   "source": [
    "### Morphing setup"
   ]
  },
  {
   "cell_type": "markdown",
   "metadata": {},
   "source": [
    "If morphing is used, the function `set_morphing` has to be called. With the option `include_existing_benchmarks=True`, MadMiner will keep all the benchmark points defined beforehand and run a simple optimization algorithm to fix the remaining ones for the basis (which may be none). Otherwise, MadMiner will optimize the full basis and forget about all previously defined benchmark points.\n",
    "\n",
    "The other important keyword is `max_overall_power`. This sets the maximal combined power with which all parameters together contribute to the squared matrix element (cross section). This constraint is in addition to the `morphing_max_power` keyword of `add_parameter()` (see above). For instance, if there are two parameters of interest `a` and `b`, and it is known that there are contributions proportional to `1` (constant), `a`, `a^2`, `b`, `b^2`, and `ab`, then `max_overall_power=2`. If there are also contributions proportional to `a^2 b`, `a b^2`, and `a^2 b^2`, then `max_overall_power=4`."
   ]
  },
  {
   "cell_type": "code",
   "execution_count": 7,
   "metadata": {
    "scrolled": true
   },
   "outputs": [
    {
     "name": "stderr",
     "output_type": "stream",
     "text": [
      "09:28 madminer.core        INFO    Optimizing basis for morphing\n",
      "09:28 madminer.core        INFO    Added benchmark sm: CWL2 = 0.00e+00, CPWL2 = 0.00e+00)\n",
      "09:28 madminer.core        INFO    Added benchmark w: CWL2 = 10.00, CPWL2 = 0.00e+00)\n",
      "09:28 madminer.core        INFO    Added benchmark morphing_basis_vector_2: CWL2 = -9.36e+00, CPWL2 = -2.89e+00)\n",
      "09:28 madminer.core        INFO    Added benchmark morphing_basis_vector_3: CWL2 = 3.18, CPWL2 = -4.68e+00)\n",
      "09:28 madminer.core        INFO    Added benchmark morphing_basis_vector_4: CWL2 = 9.35, CPWL2 = -6.04e+00)\n",
      "09:28 madminer.core        INFO    Added benchmark morphing_basis_vector_5: CWL2 = -7.01e+00, CPWL2 = -9.93e+00)\n"
     ]
    }
   ],
   "source": [
    "miner.set_morphing(\n",
    "    include_existing_benchmarks=True,\n",
    "    max_overall_power=2\n",
    ")"
   ]
  },
  {
   "cell_type": "markdown",
   "metadata": {},
   "source": [
    "Let's have a look at the resulting morphing basis and the \"morphing error\", i.e. the sum of squared morphing weights as a function of the parameter space. The black dots mark the benchmarks at which the squared matrix element will be evaluated when MadGraph is run. In between them, the morphing will interpolate. Since the morphing knows about the functional form of the amplitudes, there is only a small numerical uncertainty in this interpolation, we expect that the color in this plot is indicative of this uncertainty."
   ]
  },
  {
   "cell_type": "code",
   "execution_count": 8,
   "metadata": {},
   "outputs": [
    {
     "data": {
      "image/png": "[encoded data removed]",
      "text/plain": [
       "<Figure size 468x360 with 2 Axes>"
      ]
     },
     "metadata": {
      "needs_background": "light"
     },
     "output_type": "display_data"
    }
   ],
   "source": [
    "fig = plot_2d_morphing_basis(\n",
    "    miner.morpher,\n",
    "    xlabel=r'$c_{W} v^2 / \\Lambda^2$',\n",
    "    ylabel=r'$c_{\\tilde{W}} v^2 / \\Lambda^2$',\n",
    "    xrange=(-10.,10.),\n",
    "    yrange=(-10.,10.)\n",
    ")"
   ]
  },
  {
   "cell_type": "markdown",
   "metadata": {},
   "source": [
    "The parameter space, benchmark points, and morphing setup are saved in a HDF5 file:"
   ]
  },
  {
   "cell_type": "code",
   "execution_count": 9,
   "metadata": {},
   "outputs": [
    {
     "name": "stderr",
     "output_type": "stream",
     "text": [
      "09:28 madminer.core        INFO    Saving setup (including morphing) to data/madminer_example.h5\n"
     ]
    }
   ],
   "source": [
    "miner.save('data/madminer_example.h5')"
   ]
  },
  {
   "cell_type": "markdown",
   "metadata": {},
   "source": [
    "They can now be loaded again with `miner.load(filename)`."
   ]
  },
  {
   "cell_type": "markdown",
   "metadata": {},
   "source": [
    "## 3. Save settings and run MadGraph"
   ]
  },
  {
   "cell_type": "markdown",
   "metadata": {},
   "source": [
    "In a next step, MadMiner starts MadGraph to generate events and calculate the weights. You have to provide paths to the process card, run card, param card (the entries corresponding to the parameters of interest will be automatically adapted), and an empty reweight card. Log files in the `log_directory` folder collect the MadGraph output and are important for debugging.\n",
    "\n",
    "The `sample_benchmark` option can be used to specify which benchmark should be used for sampling. If it is not used, MadMiner will automatically use the benchmark that was added first.\n",
    "\n",
    "Finally, if MadGraph is supposed to run in a different Python environment or requires other setup steps, you can use the `initial_command` argument. If your default Python environment is Python 2.7, you do not have to use this. If it is Python 3.x, you should use this to activate a Python 2 environment (see [the conda documentation](https://conda.io/docs/user-guide/tasks/manage-environments.html)). In the commented-out line we assume you have create a conda environment `python2` for this purpose."
   ]
  },
  {
   "cell_type": "code",
   "execution_count": null,
   "metadata": {},
   "outputs": [
    {
     "name": "stderr",
     "output_type": "stream",
     "text": [
      "09:28 madminer.utils.inter INFO    Generating MadGraph process folder from cards/proc_card_signal.dat at ./mg_processes/signal\n",
      "09:28 madminer.core        INFO    Run 0\n",
      "09:28 madminer.core        INFO      Sampling from benchmark: sm\n",
      "09:28 madminer.core        INFO      Original run card:       cards/run_card_signal.dat\n",
      "09:28 madminer.core        INFO      Original Pythia8 card:   None\n",
      "09:28 madminer.core        INFO      Copied run card:         /madminer/cards/run_card_0.dat\n",
      "09:28 madminer.core        INFO      Copied Pythia8 card:     None\n",
      "09:28 madminer.core        INFO      Param card:              /madminer/cards/param_card_0.dat\n",
      "09:28 madminer.core        INFO      Reweight card:           /madminer/cards/reweight_card_0.dat\n",
      "09:28 madminer.core        INFO      Log file:                run_0.log\n",
      "09:28 madminer.core        INFO    Creating param and reweight cards in ./mg_processes/signal//madminer/cards/param_card_0.dat, ./mg_processes/signal//madminer/cards/reweight_card_0.dat\n",
      "09:28 madminer.utils.inter INFO    Starting MadGraph and Pythia in ./mg_processes/signal\n"
     ]
    }
   ],
   "source": [
    "miner.run(\n",
    "    sample_benchmark='sm',\n",
    "    mg_directory=mg_dir,\n",
    "    mg_process_directory='./mg_processes/signal',\n",
    "    proc_card_file='cards/proc_card_signal.dat',\n",
    "    param_card_template_file='cards/param_card_template.dat',\n",
    "    run_card_file='cards/run_card_signal.dat',\n",
    "    log_directory='logs/signal',\n",
    "    # initial_command='source activate python2',\n",
    ")"
   ]
  },
  {
   "cell_type": "markdown",
   "metadata": {},
   "source": [
    "This will take a moment -- time for a coffee break!\n",
    "\n",
    "After running any event generation through MadMiner, you should check whether the run succeeded: are the usual output files there (LHE and HepMC), do the log files show any error messages? MadMiner does not perform any explicit checks, and if something went wrong in the event generation, it will only notice later when trying to load the event files."
   ]
  },
  {
   "cell_type": "markdown",
   "metadata": {},
   "source": [
    "It is possible to start multiple processes based on the same `MadMiner` instance. This can be used to combine samples sampled according to different benchmarks, and to add reducible backgrounds. \n",
    "\n",
    "For the latter, a useful option is the `is_background` switch, which should be used for processes that do *not* depend on the parameters theta. `is_background=True` will disable the reweighting and re-use the same weights for all cross sections.\n",
    "\n",
    "To reduce the runtime of the notebook, the background part is commented out here. Feel free to activate it and let it run during a lunch break."
   ]
  },
  {
   "cell_type": "code",
   "execution_count": null,
   "metadata": {},
   "outputs": [],
   "source": [
    "\"\"\"\n",
    "miner.run(\n",
    "    is_background=True,\n",
    "    sample_benchmark='sm',\n",
    "    mg_directory=mg_dir,\n",
    "    mg_process_directory='./mg_processes/background',\n",
    "    proc_card_file='cards/proc_card_background.dat',\n",
    "    param_card_template_file='cards/param_card_template.dat',\n",
    "    run_card_file='cards/run_card_background.dat',\n",
    "    log_directory='logs/background',\n",
    ")\n",
    "\"\"\""
   ]
  },
  {
   "cell_type": "markdown",
   "metadata": {},
   "source": [
    "Finally, two options might be very useful for larger projects:\n",
    "- `MadMiner.run_multiple()` allows you to start multiple runs with different run cards or different choices of `sample_benchmark`.\n",
    "- Both `MadMiner.run()` and `MadMiner.run_multiple()` have a `only_create_script` keyword. If that is set to True, MadMiner will not start the event generation directly, but prepare folders with all the right settings and ready-to-run bash scripts. This might make it much easier to generate Events on a high-performance computing system. "
   ]
  },
  {
   "cell_type": "markdown",
   "metadata": {},
   "source": [
    "## 4. Run smearing and extract observables"
   ]
  },
  {
   "cell_type": "markdown",
   "metadata": {},
   "source": [
    "The `madminer.lhe` submodule allows us to extract observables directly from the parton-level LHE samples, including an approximate description of the detector response with smearing functions. The central object is an instance of the `LHEProcessor` class, which has to be initialized with a MadMiner file:"
   ]
  },
  {
   "cell_type": "code",
   "execution_count": null,
   "metadata": {},
   "outputs": [],
   "source": [
    "proc = LHEProcessor('data/madminer_example.h5')"
   ]
  },
  {
   "cell_type": "markdown",
   "metadata": {},
   "source": [
    "After creating the LHEProcessor object, one can add a number of event samples (the output of running MadGraph in step 3) with the `add_sample()` function.\n",
    "\n",
    "In addition, you have to provide the information which sample was generated from which benchmark with the `sampled_from_benchmark` keyword, and set `is_background=True` for all background samples."
   ]
  },
  {
   "cell_type": "code",
   "execution_count": null,
   "metadata": {
    "scrolled": false
   },
   "outputs": [],
   "source": [
    "proc.add_sample(\n",
    "    lhe_filename='mg_processes/signal/Events/run_01/unweighted_events.lhe.gz',\n",
    "    sampled_from_benchmark='sm',\n",
    "    is_background=False,\n",
    "    k_factor=1.1,\n",
    ")\n",
    "\n",
    "\"\"\"\n",
    "proc.add_sample(\n",
    "    lhe_filename='mg_processes/background/Events/run_01/unweighted_events.lhe.gz',\n",
    "    sampled_from_benchmark='sm',\n",
    "    is_background=True,\n",
    "    k_factor=1.0,\n",
    "\"\"\"\n"
   ]
  },
  {
   "cell_type": "markdown",
   "metadata": {},
   "source": [
    "Now we have to define the smearing functions that are used (in lieu of a proper shower and detector simulation). Here we will assume a simple 10% uncertainty on the jet energy measurements and a $\\pm 0.1$ smearing for jet $\\eta$ and $\\phi$. The transverse momenta of the jets are then derived from the smeared energy and the on-shell condition for the quarks (this is what `pt_resolution_abs=None` does). The photons from the Higgs are assumed to be measured perfectly (otherwise we'd have to call `set_smearing` another time with `pdgis=[22]`)."
   ]
  },
  {
   "cell_type": "code",
   "execution_count": null,
   "metadata": {},
   "outputs": [],
   "source": [
    "proc.set_smearing(\n",
    "    pdgids=[1,2,3,4,5,6,9,22,-1,-2,-3,-4,-5,-6],   # Partons giving rise to jets\n",
    "    energy_resolution_abs=0.,\n",
    "    energy_resolution_rel=0.1,\n",
    "    pt_resolution_abs=None,\n",
    "    pt_resolution_rel=None,\n",
    "    eta_resolution_abs=0.1,\n",
    "    eta_resolution_rel=0.,\n",
    "    phi_resolution_abs=0.1,\n",
    "    phi_resolution_rel=0.,\n",
    ")"
   ]
  },
  {
   "cell_type": "markdown",
   "metadata": {},
   "source": [
    "The next step is the definition of observables, either through a Python function or an expression that can be evaluated. Here we demonstrate the latter, which is implemented in `add_observable()`. In the expression string, you can use the terms `j[i]`, `e[i]`, `mu[i]`, `a[i]`, `met`, where the indices `i` refer to a ordering by the transverse momentum. In addition, you can use `p[i]`, which denotes the `i`-th particle in the order given in the LHE sample (which is the order in which the final-state particles where defined in MadGraph).\n",
    "\n",
    "All of these represent objects inheriting from scikit-hep [LorentzVectors](http://scikit-hep.org/api/math.html#vector-classes), see the link for a documentation of their properties. In addition, they have `charge` and `pdg_id` properties.\n",
    "\n",
    "`add_observable()` has an optional keyword `required`. If `required=True`, we will only keep events where the observable can be parsed, i.e. all involved particles have been detected. If `required=False`, un-parseable observables will be filled with the value of another keyword `default`.\n",
    "\n",
    "In a realistic project, you would want to add a large number of observables that capture all information in your events. Here we will just define two observables, the transverse momentum of the leading (= higher-pT) jet, and the azimuthal angle between the two leading jets."
   ]
  },
  {
   "cell_type": "code",
   "execution_count": null,
   "metadata": {},
   "outputs": [],
   "source": [
    "proc.add_observable(\n",
    "    'pt_j1',\n",
    "    'j[0].pt',\n",
    "    required=False,\n",
    "    default=0.,\n",
    ")\n",
    "proc.add_observable(\n",
    "    'delta_phi_jj',\n",
    "    'j[0].deltaphi(j[1]) * (-1. + 2.*float(j[0].eta > j[1].eta))',\n",
    "    required=True,\n",
    ")"
   ]
  },
  {
   "cell_type": "markdown",
   "metadata": {},
   "source": [
    "We can also add cuts, again in parse-able strings. In addition to the objects discussed above, they can contain the observables:"
   ]
  },
  {
   "cell_type": "code",
   "execution_count": null,
   "metadata": {},
   "outputs": [],
   "source": [
    "proc.add_cut('(a[0] + a[1]).m > 124.')\n",
    "proc.add_cut('(a[0] + a[1]).m < 126.')\n",
    "proc.add_cut('pt_j1 > 30.')"
   ]
  },
  {
   "cell_type": "markdown",
   "metadata": {},
   "source": [
    "The function `analyse_samples` then calculates all observables from the LHE file(s) generated before, applies the smearing, and checks which events pass the cuts:"
   ]
  },
  {
   "cell_type": "code",
   "execution_count": null,
   "metadata": {
    "scrolled": true
   },
   "outputs": [],
   "source": [
    "proc.analyse_samples()"
   ]
  },
  {
   "cell_type": "markdown",
   "metadata": {},
   "source": [
    "The values of the observables and the weights are then saved in the HDF5 file. It is possible to overwrite the same file, or to leave the original file intact and save all the data into a new file as follows:"
   ]
  },
  {
   "cell_type": "code",
   "execution_count": null,
   "metadata": {},
   "outputs": [],
   "source": [
    "proc.save('data/madminer_example_with_data.h5')"
   ]
  },
  {
   "cell_type": "markdown",
   "metadata": {},
   "source": [
    "### A look at distributions"
   ]
  },
  {
   "cell_type": "markdown",
   "metadata": {},
   "source": [
    "Let's see what our MC run produced:"
   ]
  },
  {
   "cell_type": "code",
   "execution_count": null,
   "metadata": {},
   "outputs": [],
   "source": [
    "_ = plot_distributions(\n",
    "    filename='data/madminer_example_with_data.h5',\n",
    "    parameter_points=['sm', np.array([10.,0.])],\n",
    "    line_labels=['SM', 'BSM'],\n",
    "    uncertainties='none',\n",
    "    n_bins=20,\n",
    "    n_cols=2,\n",
    "    normalize=True,\n",
    ")"
   ]
  },
  {
   "cell_type": "markdown",
   "metadata": {},
   "source": [
    "## 5. Combine and shuffle different event samples"
   ]
  },
  {
   "cell_type": "markdown",
   "metadata": {},
   "source": [
    "To reduce disk usage, you can generate several small event samples with the steps given above, and combine them now. Note that (for now) it is essential that all of them are generated with the same setup, including the same benchmark points / morphing basis!\n",
    "\n",
    "In our case we only have one sample, so this is not strictly necessary, but we still include it for completeness."
   ]
  },
  {
   "cell_type": "code",
   "execution_count": null,
   "metadata": {},
   "outputs": [],
   "source": [
    "combine_and_shuffle(\n",
    "    ['data/madminer_example_with_data.h5'],\n",
    "    'data/madminer_example_shuffled.h5'\n",
    ")"
   ]
  },
  {
   "cell_type": "markdown",
   "metadata": {},
   "source": [
    "## 6. Make (unweighted) training and test samples with augmented data"
   ]
  },
  {
   "cell_type": "markdown",
   "metadata": {},
   "source": [
    "At this point, we have all the information we need from MadGraph, Pythia, and Delphes. But the data is not quite ready to be used for machine learning. The `madminer.sampling` class `SampleAugmenter` will take care of the remaining book-keeping steps before we can train our estimators:\n",
    "\n",
    "First, it unweights the samples, i.e. for a given parameter vector `theta` (or a distribution `p(theta)`) it picks events `x` such that their distribution follows `p(x|theta)`. The selected samples will all come from the event file we have so far, but their frequency is changed -- some events will appear multiple times, some will disappear.\n",
    "\n",
    "Second, `SampleAugmenter` calculates all the augmented data (\"gold\") that is the key to our new inference methods. Depending on the specific technique, these are the joint likelihood ratio and / or the joint score. It saves all these pieces of information for the selected events in a set of numpy files that can easily be used in any machine learning framework."
   ]
  },
  {
   "cell_type": "code",
   "execution_count": null,
   "metadata": {},
   "outputs": [],
   "source": [
    "sa = SampleAugmenter('data/madminer_example_shuffled.h5')"
   ]
  },
  {
   "cell_type": "markdown",
   "metadata": {},
   "source": [
    "The `SampleAugmenter` class defines five different high-level functions to generate train or test samples:\n",
    "- `extract_samples_train_plain()`, which only saves observations x, for instance for histograms or ABC;\n",
    "- `extract_samples_train_local()` for methods like SALLY and SALLINO, which will be demonstrated in the second part of the tutorial;\n",
    "- `extract_samples_train_ratio()` for techniques like CARL, ROLR, CASCAL, and RASCAL, when only theta0 is parameterized;\n",
    "- `extract_samples_train_more_ratios()` for the same techniques, but with both theta0 and theta1 parameterized;\n",
    "- `extract_samples_test()` for the evaluation of any method.\n",
    "\n",
    "For the arguments `theta`, `theta0`, or `theta1`, you can (and should!) use the helper functions `constant_benchmark_theta()`, `multiple_benchmark_thetas()`, `constant_morphing_theta()`, `multiple_morphing_thetas()`, and `random_morphing_thetas()`, all defined in the `madminer.sampling` module.\n",
    "\n",
    "Here we'll train a likelihood ratio estimator with the ALICES method, so we focus on the `extract_samples_train_ratio()` function."
   ]
  },
  {
   "cell_type": "code",
   "execution_count": 22,
   "metadata": {},
   "outputs": [
    {
     "name": "stderr",
     "output_type": "stream",
     "text": [
      "10:51 madminer.sampling    INFO    Extracting training sample for ratio-based methods. Numerator hypothesis: (u'random', (100, [(u'gaussian', 0.0, 10.0), (u'gaussian', 0.0, 10.0)])), denominator hypothesis: (u'benchmark', u'sm')\n",
      "10:51 madminer.sampling    WARNING Warning: large statistical uncertainty on the total cross section for theta = [-3.32842549  2.79193931]: (3.2950712461342426e-08 +/- 1.177317622671677e-08) pb\n",
      "10:51 madminer.sampling    WARNING Warning: large statistical uncertainty on the total cross section for theta = [  4.87155088 -14.78436633]: (2.5302292669593466e-07 +/- 5.743888815074879e-08) pb\n",
      "10:51 madminer.sampling    WARNING Warning: large statistical uncertainty on the total cross section for theta = [  8.61219259 -21.44130516]: (5.545158265845125e-07 +/- 1.4606494926990838e-07) pb\n",
      "10:51 madminer.sampling    WARNING Warning: large statistical uncertainty on the total cross section for theta = [11.41399008 16.54866041]: (4.3906859305519283e-07 +/- 1.636667287394442e-07) pb\n",
      "10:51 madminer.sampling    WARNING Warning: large statistical uncertainty on the total cross section for theta = [-0.59082679 -4.19827035]: (2.660587060303033e-08 +/- 3.398961684323406e-09) pb\n",
      "10:51 madminer.sampling    WARNING Warning: large statistical uncertainty on the total cross section for theta = [ 8.02022708 -3.65921793]: (7.625056714922143e-08 +/- 1.0319619185134605e-08) pb\n",
      "10:51 madminer.sampling    WARNING Warning: large statistical uncertainty on the total cross section for theta = [12.81528076  4.12436495]: (1.914986891752131e-07 +/- 2.390099710316208e-08) pb\n",
      "10:51 madminer.sampling    WARNING Warning: large statistical uncertainty on the total cross section for theta = [ 9.44997968 -3.34865379]: (9.976192230077315e-08 +/- 1.27155360968057e-08) pb\n",
      "10:51 madminer.sampling    WARNING Warning: large statistical uncertainty on the total cross section for theta = [-0.62838541  3.97895242]: (2.4027940243960764e-08 +/- 1.7759854396515526e-08) pb\n",
      "10:51 madminer.sampling    WARNING Warning: large statistical uncertainty on the total cross section for theta = [ 0.66758691 -1.75927439]: (8.17514414970195e-09 +/- 3.4721622949812467e-09) pb\n",
      "10:51 madminer.sampling    WARNING Warning: large statistical uncertainty on the total cross section for theta = [4.29989405 6.52448327]: (6.552341149925073e-08 +/- 3.57477271470116e-08) pb\n",
      "10:51 madminer.sampling    WARNING Warning: large statistical uncertainty on the total cross section for theta = [-3.07619004  4.0035525 ]: (3.909917150383695e-08 +/- 1.8438496162335597e-08) pb\n",
      "10:51 madminer.sampling    WARNING Warning: large statistical uncertainty on the total cross section for theta = [  7.95209949 -10.58290957]: (1.7724973622884458e-07 +/- 2.0802272928574944e-08) pb\n",
      "10:51 madminer.sampling    WARNING Warning: large statistical uncertainty on the total cross section for theta = [-12.87579238  11.03719189]: (3.443263815909394e-07 +/- 8.577128839123513e-08) pb\n",
      "10:51 madminer.sampling    WARNING Warning: large statistical uncertainty on the total cross section for theta = [14.80811787  4.8580944 ]: (2.595988315273589e-07 +/- 3.0203438762641887e-08) pb\n",
      "10:51 madminer.sampling    WARNING Warning: large statistical uncertainty on the total cross section for theta = [-3.55457025  5.59044467]: (5.945183329258165e-08 +/- 2.9457486906985145e-08) pb\n",
      "10:51 madminer.sampling    WARNING Warning: large statistical uncertainty on the total cross section for theta = [12.99425124 -3.03622114]: (1.8200555477083902e-07 +/- 1.9893421691038364e-08) pb\n",
      "10:51 madminer.sampling    WARNING Warning: large statistical uncertainty on the total cross section for theta = [-1.69753413  3.76728332]: (2.709290756579571e-08 +/- 1.6676737790994118e-08) pb\n",
      "10:51 madminer.sampling    WARNING Warning: large statistical uncertainty on the total cross section for theta = [ 9.28224009 16.62578167]: (3.9259268881083823e-07 +/- 1.6556222975158307e-07) pb\n",
      "10:51 madminer.sampling    WARNING Warning: large statistical uncertainty on the total cross section for theta = [-10.02561603   4.54747886]: (1.6159364517676584e-07 +/- 2.518740655599699e-08) pb\n",
      "10:51 madminer.sampling    WARNING Warning: large statistical uncertainty on the total cross section for theta = [5.30733813 2.99353577]: (3.800422695473272e-08 +/- 1.2186038560039712e-08) pb\n",
      "10:51 madminer.sampling    WARNING Warning: large statistical uncertainty on the total cross section for theta = [-0.07372458  5.10205535]: (3.3448747512831485e-08 +/- 2.5205698825678632e-08) pb\n",
      "10:51 madminer.sampling    WARNING Warning: large statistical uncertainty on the total cross section for theta = [-7.90847432  7.25097846]: (1.463972375496974e-07 +/- 4.4240722551522266e-08) pb\n",
      "10:51 madminer.sampling    WARNING Warning: large statistical uncertainty on the total cross section for theta = [1.23502541 4.18982495]: (2.3877958786600538e-08 +/- 1.880783800649809e-08) pb\n",
      "10:51 madminer.sampling    WARNING Warning: large statistical uncertainty on the total cross section for theta = [11.10133999 23.64650901]: (7.419584046782477e-07 +/- 3.097360110212326e-07) pb\n",
      "10:51 madminer.sampling    WARNING Warning: large statistical uncertainty on the total cross section for theta = [-7.69136522 21.61815986]: (5.778336238538779e-07 +/- 2.667427019933574e-07) pb\n",
      "10:51 madminer.sampling    WARNING Warning: large statistical uncertainty on the total cross section for theta = [ 7.03485436 -0.04885384]: (4.8592219355278e-08 +/- 7.95436151349141e-09) pb\n",
      "10:51 madminer.sampling    WARNING Warning: large statistical uncertainty on the total cross section for theta = [-12.46744136   5.11999757]: (2.3492185198507052e-07 +/- 3.098282290827986e-08) pb\n",
      "10:51 madminer.sampling    WARNING Warning: large statistical uncertainty on the total cross section for theta = [ 2.29261169 -2.22316163]: (1.2134242569415218e-08 +/- 4.6044927200120394e-09) pb\n",
      "10:51 madminer.sampling    WARNING Warning: large statistical uncertainty on the total cross section for theta = [ 0.91032708 11.33965349]: (1.4265095636149828e-07 +/- 8.743283013952823e-08) pb\n",
      "10:51 madminer.sampling    WARNING Warning: large statistical uncertainty on the total cross section for theta = [-4.59607377 12.99514872]: (2.156402004407453e-07 +/- 1.105222078811607e-07) pb\n",
      "10:51 madminer.sampling    WARNING Warning: large statistical uncertainty on the total cross section for theta = [ -8.28362988 -13.14189425]: (2.9571094233606135e-07 +/- 4.324794303445116e-08) pb\n",
      "10:51 madminer.sampling    WARNING Warning: large statistical uncertainty on the total cross section for theta = [-14.00549046 -13.75799022]: (4.790852804828731e-07 +/- 5.012779359719315e-08) pb\n",
      "10:51 madminer.sampling    WARNING Warning: large statistical uncertainty on the total cross section for theta = [-7.23086     3.05511785]: (8.950007117737217e-08 +/- 1.5162558117474913e-08) pb\n",
      "10:51 madminer.sampling    WARNING Warning: large statistical uncertainty on the total cross section for theta = [-2.66472573  8.80864011]: (1.0041123032417232e-07 +/- 5.84658429274454e-08) pb\n",
      "10:51 madminer.sampling    WARNING Warning: large statistical uncertainty on the total cross section for theta = [ 3.12511823 11.01022279]: (1.4228681118299523e-07 +/- 8.287053928855998e-08) pb\n",
      "10:51 madminer.sampling    WARNING Warning: large statistical uncertainty on the total cross section for theta = [4.48480666 0.55329412]: (2.0270684494000784e-08 +/- 4.5451619148708056e-09) pb\n",
      "10:51 madminer.sampling    WARNING Warning: large statistical uncertainty on the total cross section for theta = [2.64802169 1.07566597]: (9.76923820884129e-09 +/- 3.83470042650221e-09) pb\n",
      "10:51 madminer.sampling    WARNING Warning: large statistical uncertainty on the total cross section for theta = [  4.60083302 -13.32420531]: (2.073236328563449e-07 +/- 4.308562605309275e-08) pb\n",
      "10:51 madminer.sampling    WARNING Warning: large statistical uncertainty on the total cross section for theta = [ 5.43041759 -9.83047151]: (1.289888895739015e-07 +/- 1.6325127570670455e-08) pb\n",
      "10:51 madminer.sampling    WARNING Warning: large statistical uncertainty on the total cross section for theta = [  7.29498155 -15.1752326 ]: (2.920574431334375e-07 +/- 6.084020674593436e-08) pb\n",
      "10:51 madminer.sampling    WARNING Warning: large statistical uncertainty on the total cross section for theta = [10.95048601  1.47317324]: (1.2559911630335165e-07 +/- 1.478521001160465e-08) pb\n"
     ]
    },
    {
     "name": "stderr",
     "output_type": "stream",
     "text": [
      "10:51 madminer.sampling    WARNING Warning: large statistical uncertainty on the total cross section for theta = [12.32601409 -3.06540769]: (1.6407091790498406e-07 +/- 1.8387733637007174e-08) pb\n",
      "10:51 madminer.sampling    WARNING Warning: large statistical uncertainty on the total cross section for theta = [-5.89788319 14.09975333]: (2.645066849045822e-07 +/- 1.2690696733753204e-07) pb\n",
      "10:51 madminer.sampling    WARNING Warning: large statistical uncertainty on the total cross section for theta = [-3.44373121  0.80870261]: (2.7009950511531878e-08 +/- 4.347562883530846e-09) pb\n",
      "10:51 madminer.sampling    WARNING Warning: large statistical uncertainty on the total cross section for theta = [ 2.15753173 24.26244383]: (6.395976699359688e-07 +/- 3.2711315489160454e-07) pb\n",
      "10:51 madminer.sampling    WARNING Warning: large statistical uncertainty on the total cross section for theta = [11.30003836 17.039703  ]: (4.542005379222595e-07 +/- 1.7232906108891473e-07) pb\n",
      "10:51 madminer.sampling    WARNING Warning: large statistical uncertainty on the total cross section for theta = [  9.28151815 -25.67945828]: (7.773698681346844e-07 +/- 2.2372031365627643e-07) pb\n",
      "10:51 madminer.sampling    WARNING Warning: large statistical uncertainty on the total cross section for theta = [ 1.54261187 -4.68928348]: (2.8582733190297882e-08 +/- 3.3396335861738224e-09) pb\n",
      "10:51 madminer.sampling    WARNING Warning: large statistical uncertainty on the total cross section for theta = [2.17281356 8.05266518]: (7.69713182340906e-08 +/- 5.002032809369076e-08) pb\n",
      "10:51 madminer.sampling    WARNING Warning: large statistical uncertainty on the total cross section for theta = [11.6398088   1.43222935]: (1.4215021000528525e-07 +/- 1.6151910127509252e-08) pb\n",
      "10:51 madminer.sampling    WARNING Warning: large statistical uncertainty on the total cross section for theta = [ 3.94243167 10.057885  ]: (1.262325443319139e-07 +/- 7.123509578676601e-08) pb\n",
      "10:51 madminer.sampling    WARNING Warning: large statistical uncertainty on the total cross section for theta = [-0.71371328 -8.38898616]: (8.401686761963324e-08 +/- 9.650193288580672e-09) pb\n",
      "10:51 madminer.sampling    WARNING Warning: large statistical uncertainty on the total cross section for theta = [-3.82264623 10.35681436]: (1.4206740320866072e-07 +/- 7.595852301104268e-08) pb\n",
      "10:51 madminer.sampling    WARNING Warning: large statistical uncertainty on the total cross section for theta = [-0.05260173 -3.50807929]: (1.9200155109470637e-08 +/- 3.910277324172008e-09) pb\n",
      "10:51 madminer.sampling    WARNING Warning: large statistical uncertainty on the total cross section for theta = [ 5.04218474 11.89699578]: (1.8001295499338145e-07 +/- 9.390607388779593e-08) pb\n",
      "10:51 madminer.sampling    WARNING Warning: large statistical uncertainty on the total cross section for theta = [6.9929539  6.07873834]: (9.027209618007005e-08 +/- 3.201548153494065e-08) pb\n",
      "10:51 madminer.sampling    WARNING Warning: large statistical uncertainty on the total cross section for theta = [12.11936999 -4.57173449]: (1.6979696980824296e-07 +/- 1.7066544130378726e-08) pb\n",
      "10:51 madminer.sampling    WARNING Warning: large statistical uncertainty on the total cross section for theta = [ -7.76022225 -11.70574494]: (2.453237027181574e-07 +/- 3.1259665425660756e-08) pb\n",
      "10:51 madminer.sampling    WARNING Warning: large statistical uncertainty on the total cross section for theta = [-2.96443243 12.69545355]: (1.9130452750192418e-07 +/- 1.0612828006076043e-07) pb\n",
      "10:51 madminer.sampling    WARNING Warning: large statistical uncertainty on the total cross section for theta = [ 6.65716479 -3.49383173]: (5.5011354330713243e-08 +/- 8.570292334087351e-09) pb\n",
      "10:51 madminer.sampling    WARNING Warning: large statistical uncertainty on the total cross section for theta = [-0.5984978   8.01308558]: (7.536495071446492e-08 +/- 5.0075214607151707e-08) pb\n",
      "10:51 madminer.sampling    WARNING Warning: large statistical uncertainty on the total cross section for theta = [2.23785902 3.42616282]: (1.983887538429495e-08 +/- 1.4113147243996968e-08) pb\n",
      "10:51 madminer.sampling    WARNING Warning: large statistical uncertainty on the total cross section for theta = [ 14.82883545 -14.70613117]: (4.472083240774218e-07 +/- 5.4948316525031776e-08) pb\n",
      "10:51 madminer.sampling    WARNING Warning: large statistical uncertainty on the total cross section for theta = [-6.29968138 19.66519675]: (4.691270588465625e-07 +/- 2.2555392617366272e-07) pb\n",
      "10:51 madminer.sampling    WARNING Warning: large statistical uncertainty on the total cross section for theta = [10.01539724  2.03368877]: (1.0716480710331918e-07 +/- 1.3682132367865132e-08) pb\n",
      "10:51 madminer.sampling    WARNING Warning: large statistical uncertainty on the total cross section for theta = [ 8.3178226  10.10757769]: (1.8363652081275246e-07 +/- 7.108299032499309e-08) pb\n",
      "10:51 madminer.sampling    WARNING Warning: large statistical uncertainty on the total cross section for theta = [6.27080721 9.45398525]: (1.3781153502584895e-07 +/- 6.39838760043155e-08) pb\n",
      "10:51 madminer.sampling    WARNING Warning: large statistical uncertainty on the total cross section for theta = [16.27027496 14.58333777]: (5.22956683486429e-07 +/- 1.3085624162330269e-07) pb\n",
      "10:51 madminer.sampling    WARNING Warning: large statistical uncertainty on the total cross section for theta = [-10.50252281   3.38435518]: (1.6481759462884226e-07 +/- 1.981685056714449e-08) pb\n",
      "10:51 madminer.sampling    WARNING Warning: large statistical uncertainty on the total cross section for theta = [-1.21978286 -2.74142558]: (1.8375597503850686e-08 +/- 3.93406079917803e-09) pb\n",
      "10:51 madminer.sampling    WARNING Warning: large statistical uncertainty on the total cross section for theta = [ -6.69772833 -12.09943975]: (2.3469040210098083e-07 +/- 3.423838120694747e-08) pb\n",
      "10:51 madminer.sampling    WARNING Warning: large statistical uncertainty on the total cross section for theta = [-9.99688366  5.48156439]: (1.7020181729289825e-07 +/- 3.11175507920158e-08) pb\n",
      "10:51 madminer.sampling    WARNING Warning: large statistical uncertainty on the total cross section for theta = [-0.65842918  9.7203456 ]: (1.0780023969973748e-07 +/- 6.814297465512729e-08) pb\n",
      "10:51 madminer.sampling    WARNING Warning: large statistical uncertainty on the total cross section for theta = [-3.24070594  2.6660922 ]: (3.141895317454965e-08 +/- 1.1123507387387662e-08) pb\n",
      "10:51 madminer.sampling    WARNING Warning: large statistical uncertainty on the total cross section for theta = [ 2.5644989  11.01829509]: (1.3949794910613733e-07 +/- 8.307681362456326e-08) pb\n",
      "10:51 madminer.sampling    INFO    Effective number of samples: mean 33.81375794747533, with individual thetas ranging from 10.354644699853846 to 113.27612973393032\n",
      "10:51 madminer.sampling    INFO    Effective number of samples: mean 50000.0000000515, with individual thetas ranging from 50000.000000051514 to 50000.000000051514\n"
     ]
    }
   ],
   "source": [
    "x, theta0, theta1, y, r_xz, t_xz = sa.extract_samples_train_ratio(\n",
    "    theta0=random_morphing_thetas(100, [('gaussian', 0., 10.), ('gaussian', 0., 10.)]),\n",
    "    theta1=constant_benchmark_theta('sm'),\n",
    "    n_samples=100000,\n",
    "    folder='./data/samples',\n",
    "    filename='train'\n",
    ")"
   ]
  },
  {
   "cell_type": "markdown",
   "metadata": {},
   "source": [
    "For the evaluation we'll need a test sample:"
   ]
  },
  {
   "cell_type": "code",
   "execution_count": 23,
   "metadata": {
    "scrolled": true
   },
   "outputs": [
    {
     "name": "stderr",
     "output_type": "stream",
     "text": [
      "10:51 madminer.sampling    INFO    Extracting evaluation sample. Sampling according to (u'benchmark', u'sm')\n",
      "10:51 madminer.sampling    INFO    Effective number of samples: 49999.000000051514\n"
     ]
    }
   ],
   "source": [
    "_ = sa.extract_samples_test(\n",
    "    theta=constant_benchmark_theta('sm'),\n",
    "    n_samples=100000,\n",
    "    folder='./data/samples',\n",
    "    filename='test'\n",
    ")"
   ]
  },
  {
   "cell_type": "markdown",
   "metadata": {},
   "source": [
    "### Plot cross section over parameter space"
   ]
  },
  {
   "cell_type": "markdown",
   "metadata": {},
   "source": [
    "We can also calculate total cross sections:"
   ]
  },
  {
   "cell_type": "code",
   "execution_count": 24,
   "metadata": {},
   "outputs": [
    {
     "name": "stderr",
     "output_type": "stream",
     "text": [
      "10:51 madminer.sampling    INFO    Starting cross-section calculation\n",
      "10:51 madminer.sampling    INFO    Starting cross-section calculation\n"
     ]
    }
   ],
   "source": [
    "thetas_benchmarks, xsecs_benchmarks, xsec_errors_benchmarks = sa.extract_cross_sections(\n",
    "    theta=multiple_benchmark_thetas(['sm', 'w', 'morphing_basis_vector_2', 'morphing_basis_vector_3', 'morphing_basis_vector_4', 'morphing_basis_vector_5'])\n",
    ")\n",
    "\n",
    "thetas_morphing, xsecs_morphing, xsec_errors_morphing = sa.extract_cross_sections(\n",
    "    theta=random_morphing_thetas(1000, [('gaussian', 0., 4.), ('gaussian', 0., 4.)])\n",
    ")"
   ]
  },
  {
   "cell_type": "code",
   "execution_count": 34,
   "metadata": {},
   "outputs": [
    {
     "data": {
      "image/png": "[encoded data removed]",
      "text/plain": [
       "<Figure size 360x288 with 2 Axes>"
      ]
     },
     "metadata": {
      "needs_background": "light"
     },
     "output_type": "display_data"
    }
   ],
   "source": [
    "cmin, cmax = 0., np.mean(xsecs_morphing) + 2.e-7\n",
    "\n",
    "fig = plt.figure(figsize=(5,4))\n",
    "\n",
    "sc = plt.scatter(thetas_morphing[:,0], thetas_morphing[:,1], c=xsecs_morphing,\n",
    "            s=40., cmap='viridis', vmin=cmin, vmax=cmax,\n",
    "            marker='o')\n",
    "\n",
    "plt.scatter(thetas_benchmarks[:,0], thetas_benchmarks[:,1], c=xsecs_benchmarks,\n",
    "            s=200., cmap='viridis', vmin=cmin, vmax=cmax, lw=2., edgecolor='black',\n",
    "            marker='s')\n",
    "\n",
    "cb = plt.colorbar(sc)\n",
    "cb.set_label('xsec [pb]')\n",
    "\n",
    "plt.xlim(-10.,10.)\n",
    "plt.ylim(-10.,10.)\n",
    "plt.tight_layout()\n",
    "plt.show()"
   ]
  },
  {
   "cell_type": "markdown",
   "metadata": {},
   "source": [
    "What  you see here is a morphing algorithm in action. We only asked MadGraph to calculate event weights (differential cross sections, or basically squared matrix elements) at six fixed parameter points (shown here as squares with black edges). But with our knowledge about the structure of the process we can interpolate any observable to any parameter point without loss (except that statistical uncertainties might increase)!"
   ]
  },
  {
   "cell_type": "markdown",
   "metadata": {},
   "source": [
    "## 7. Train neural networks to estimate likelihood ratios"
   ]
  },
  {
   "cell_type": "markdown",
   "metadata": {},
   "source": [
    "It's now time to build the neural network that estimates the likelihood ratio. The central object for this is the `madminer.ml.MLForge` class. It defines functions that train, save, load, and evaluate the estimators."
   ]
  },
  {
   "cell_type": "code",
   "execution_count": 26,
   "metadata": {},
   "outputs": [],
   "source": [
    "forge = MLForge()"
   ]
  },
  {
   "cell_type": "markdown",
   "metadata": {},
   "source": [
    "### Training"
   ]
  },
  {
   "cell_type": "markdown",
   "metadata": {},
   "source": [
    "We will use the ALICES technique described in [\"Likelihood-free inference with an improved cross-entropy estimator\"](https://arxiv.org/abs/1808.00973). Most other methods, including RASCAL, are described in [\"Constraining Effective Field Theories With Machine Learning\"](https://arxiv.org/abs/1805.00013) and [\"A Guide to Constraining Effective Field Theories With Machine Learning\"](https://arxiv.org/abs/1805.00020). There is also SCANDAL introduced in [\"Mining gold from implicit models to improve likelihood-free inference\"](https://arxiv.org/abs/1805.12244).\n",
    "\n",
    "Most of these methods exist both in a \"single parameterized\" version, in which only the dependence of the likelihood ratio on the numerator is modelled, and a \"doubly parameterized\" version, in which both the dependence on the numerator and denominator parameters is modelled. For the single parameterized version, use `method='rascal'`, `method='alice'`, and so on. For the double parameterized version, use `method='rascal2'`, `method='alice2'`, etc. Note that for the doubly parameterized estimators you have to provide `theta1_filename`, and in the case of RASCAL and ALICES also `t_xz1_filename`."
   ]
  },
  {
   "cell_type": "code",
   "execution_count": 27,
   "metadata": {},
   "outputs": [
    {
     "name": "stderr",
     "output_type": "stream",
     "text": [
      "10:51 madminer.ml          INFO    Starting training\n",
      "10:51 madminer.ml          INFO      Method:                 alices\n",
      "10:51 madminer.ml          INFO      Training data:          x at data/samples/x_train.npy\n",
      "10:51 madminer.ml          INFO                              theta0 at data/samples/theta0_train.npy\n",
      "10:51 madminer.ml          INFO                              y at data/samples/y_train.npy\n",
      "10:51 madminer.ml          INFO                              r_xz at data/samples/r_xz_train.npy\n",
      "10:51 madminer.ml          INFO                              t_xz (theta0) at data/samples/t_xz_train.npy\n",
      "10:51 madminer.ml          INFO      Features:               all\n",
      "10:51 madminer.ml          INFO      Method:                 alices\n",
      "10:51 madminer.ml          INFO      Hidden layers:          (20, 20)\n",
      "10:51 madminer.ml          INFO      Activation function:    tanh\n",
      "10:51 madminer.ml          INFO      alpha:                  10.0\n",
      "10:51 madminer.ml          INFO      Batch size:             256\n",
      "10:51 madminer.ml          INFO      Trainer:                amsgrad\n",
      "10:51 madminer.ml          INFO      Epochs:                 20\n",
      "10:51 madminer.ml          INFO      Learning rate:          0.001 initially, decaying to 0.0001\n",
      "10:51 madminer.ml          INFO      Validation split:       0.3\n",
      "10:51 madminer.ml          INFO      Early stopping:         True\n",
      "10:51 madminer.ml          INFO      Scale inputs:           True\n",
      "10:51 madminer.ml          INFO      Shuffle labels          False\n",
      "10:51 madminer.ml          INFO      Regularization:         None\n",
      "10:51 madminer.ml          INFO      Samples:                all\n",
      "10:51 madminer.ml          INFO    Loading training data\n",
      "10:51 madminer.ml          INFO    Found 100000 samples with 2 parameters and 2 observables\n",
      "10:51 madminer.ml          INFO    Rescaling inputs\n",
      "10:51 madminer.ml          INFO    Creating model for method alices\n",
      "10:51 madminer.ml          INFO    Training model\n",
      "10:51 madminer.utils.ml.ra INFO      Epoch 02: train loss 0.5678 (improved_xe: 0.4397, mse_score: 0.0128)\n",
      "10:51 madminer.utils.ml.ra INFO                val. loss  0.5588 (improved_xe: 0.4376, mse_score: 0.0116) (*)\n",
      "10:52 madminer.utils.ml.ra INFO      Epoch 04: train loss 0.5583 (improved_xe: 0.4370, mse_score: 0.0121)\n",
      "10:52 madminer.utils.ml.ra INFO                val. loss  0.5522 (improved_xe: 0.4356, mse_score: 0.0112) (*)\n",
      "10:52 madminer.utils.ml.ra INFO      Epoch 06: train loss 0.5549 (improved_xe: 0.4359, mse_score: 0.0119)\n",
      "10:52 madminer.utils.ml.ra INFO                val. loss  0.5500 (improved_xe: 0.4344, mse_score: 0.0111) (*)\n",
      "10:53 madminer.utils.ml.ra INFO      Epoch 08: train loss 0.5527 (improved_xe: 0.4354, mse_score: 0.0117)\n",
      "10:53 madminer.utils.ml.ra INFO                val. loss  0.5489 (improved_xe: 0.4346, mse_score: 0.0110) (*)\n",
      "10:54 madminer.utils.ml.ra INFO      Epoch 10: train loss 0.5512 (improved_xe: 0.4348, mse_score: 0.0116)\n",
      "10:54 madminer.utils.ml.ra INFO                val. loss  0.5467 (improved_xe: 0.4340, mse_score: 0.0108) (*)\n",
      "10:55 madminer.utils.ml.ra INFO      Epoch 12: train loss 0.5500 (improved_xe: 0.4345, mse_score: 0.0116)\n",
      "10:55 madminer.utils.ml.ra INFO                val. loss  0.5462 (improved_xe: 0.4334, mse_score: 0.0108) (*)\n",
      "10:55 madminer.utils.ml.ra INFO      Epoch 14: train loss 0.5495 (improved_xe: 0.4343, mse_score: 0.0115)\n",
      "10:55 madminer.utils.ml.ra INFO                val. loss  0.5483 (improved_xe: 0.4326, mse_score: 0.0111)\n",
      "10:56 madminer.utils.ml.ra INFO      Epoch 16: train loss 0.5488 (improved_xe: 0.4341, mse_score: 0.0115)\n",
      "10:56 madminer.utils.ml.ra INFO                val. loss  0.5452 (improved_xe: 0.4334, mse_score: 0.0107)\n",
      "10:57 madminer.utils.ml.ra INFO      Epoch 18: train loss 0.5487 (improved_xe: 0.4340, mse_score: 0.0115)\n",
      "10:57 madminer.utils.ml.ra INFO                val. loss  0.5444 (improved_xe: 0.4328, mse_score: 0.0107)\n",
      "10:58 madminer.utils.ml.ra INFO      Epoch 20: train loss 0.5481 (improved_xe: 0.4340, mse_score: 0.0114)\n",
      "10:58 madminer.utils.ml.ra INFO                val. loss  0.5447 (improved_xe: 0.4329, mse_score: 0.0107)\n",
      "10:58 madminer.utils.ml.ra INFO    Early stopping after epoch 17, with loss 0.54 compared to final loss 0.54\n",
      "10:58 madminer.utils.ml.ra INFO    Finished training\n"
     ]
    }
   ],
   "source": [
    "forge.train(\n",
    "    method='alices',\n",
    "    theta0_filename='data/samples/theta0_train.npy',\n",
    "    x_filename='data/samples/x_train.npy',\n",
    "    y_filename='data/samples/y_train.npy',\n",
    "    r_xz_filename='data/samples/r_xz_train.npy',\n",
    "    t_xz0_filename='data/samples/t_xz_train.npy',\n",
    "    n_hidden=(20,20),\n",
    "    alpha=10.,\n",
    "    n_epochs=20,\n",
    "    validation_split=0.3,\n",
    "    batch_size=256\n",
    ")\n",
    "\n",
    "forge.save('models/alices')"
   ]
  },
  {
   "cell_type": "markdown",
   "metadata": {},
   "source": [
    "### Evaluation"
   ]
  },
  {
   "cell_type": "markdown",
   "metadata": {},
   "source": [
    "`forge.evaluate(theta,x)` estimated the log likelihood ratio and the score for all combination between the given phase-space points `x` and parameters `theta`. That is, if given 100 events `x` and a grid of 25 `theta` points, it will return 25\\*100 estimates for the log likelihood and 25\\*100 estimates for the  score, both indexed by `[i_theta,i_x]`."
   ]
  },
  {
   "cell_type": "code",
   "execution_count": 28,
   "metadata": {},
   "outputs": [],
   "source": [
    "theta_each = np.linspace(-20.,20.,21)\n",
    "theta0, theta1 = np.meshgrid(theta_each, theta_each)\n",
    "theta_grid = np.vstack((theta0.flatten(), theta1.flatten())).T\n",
    "np.save('data/samples/theta_grid.npy', theta_grid)\n",
    "\n",
    "theta_denom = np.array([[0.,0.]])\n",
    "np.save('data/samples/theta_ref.npy', theta_denom)\n"
   ]
  },
  {
   "cell_type": "code",
   "execution_count": 29,
   "metadata": {},
   "outputs": [],
   "source": [
    "forge.load('models/alices')\n",
    "\n",
    "log_r_hat, _, _ = forge.evaluate(\n",
    "    theta0_filename='data/samples/theta_grid.npy',\n",
    "    x='data/samples/x_test.npy',\n",
    "    evaluate_score=False\n",
    ")"
   ]
  },
  {
   "cell_type": "markdown",
   "metadata": {},
   "source": [
    "Let's look at the result:"
   ]
  },
  {
   "cell_type": "code",
   "execution_count": 31,
   "metadata": {},
   "outputs": [
    {
     "data": {
      "image/png": "[encoded data removed]",
      "text/plain": [
       "<Figure size 432x360 with 2 Axes>"
      ]
     },
     "metadata": {
      "needs_background": "light"
     },
     "output_type": "display_data"
    }
   ],
   "source": [
    "bin_size = theta_each[1] - theta_each[0]\n",
    "edges = np.linspace(theta_each[0] - bin_size/2, theta_each[-1] + bin_size/2, len(theta_each)+1)\n",
    "\n",
    "fig = plt.figure(figsize=(6,5))\n",
    "ax = plt.gca()\n",
    "\n",
    "expected_llr = np.mean(log_r_hat,axis=1)\n",
    "best_fit = theta_grid[np.argmin(-2.*expected_llr)]\n",
    "\n",
    "cmin, cmax = np.min(-2*expected_llr), np.max(-2*expected_llr)\n",
    "    \n",
    "pcm = ax.pcolormesh(edges, edges, -2. * expected_llr.reshape((21,21)),\n",
    "                    norm=matplotlib.colors.Normalize(vmin=cmin, vmax=cmax),\n",
    "                    cmap='viridis_r')\n",
    "cbar = fig.colorbar(pcm, ax=ax, extend='both')\n",
    "\n",
    "plt.scatter(best_fit[0], best_fit[1], s=80., color='black', marker='*')\n",
    "\n",
    "plt.xlabel(r'$\\theta_0$')\n",
    "plt.ylabel(r'$\\theta_1$')\n",
    "cbar.set_label(r'$\\mathbb{E}_x [ -2\\, \\log \\,\\hat{r}(x | \\theta, \\theta_{SM}) ]$')\n",
    "\n",
    "plt.tight_layout()\n",
    "plt.show()\n"
   ]
  },
  {
   "cell_type": "markdown",
   "metadata": {},
   "source": [
    "Note that in this tutorial our sample size was very small, and the network does not really have a chance to converge to the correct likelihood ratio function. So don't worry if you find a minimum that is not at the right point (the SM, i.e. the origin in this plot). Feel free to dial up the event numbers in the run card as well as the training samples and see what happens then!\n",
    "\n",
    "That's it for now. Please have a look at the documentation for a detailed description of all classes and functions. And if you're curious about SALLY, Fisher information matrices, and ensemble methods, please look at the second part of the tutorial!"
   ]
  },
  {
   "cell_type": "code",
   "execution_count": null,
   "metadata": {},
   "outputs": [],
   "source": []
  }
 ],
 "metadata": {
  "kernelspec": {
   "display_name": "Python 2",
   "language": "python",
   "name": "python2"
  },
  "language_info": {
   "codemirror_mode": {
    "name": "ipython",
    "version": 2
   },
   "file_extension": ".py",
   "mimetype": "text/x-python",
   "name": "python",
   "nbconvert_exporter": "python",
   "pygments_lexer": "ipython2",
   "version": "2.7.15"
  }
 },
 "nbformat": 4,
 "nbformat_minor": 2
}
