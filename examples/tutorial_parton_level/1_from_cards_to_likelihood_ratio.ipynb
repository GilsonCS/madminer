{
 "cells": [
  {
   "cell_type": "markdown",
   "metadata": {},
   "source": [
    "# MadMiner tutorial 1: From cards to likelihood ratios (parton level)\n",
    "\n",
    "Johann Brehmer, Felix Kling, Kyle Cranmer 2018"
   ]
  },
  {
   "cell_type": "markdown",
   "metadata": {},
   "source": [
    "In this tutorial we'll introduce the basic MadMiner workflow, using parton-level samples with simple smearing functions. We'll show you how to use MadMiner to generate events, extract training data, and train neural networks to estimate likelihood ratios.\n",
    "\n",
    "This tutorial does not try to explain the inference methods. To understand what MadMiner is doing, please have a look at some papers first. In\n",
    "[\"Constraining Effective Field Theories With Machine Learning\"](https://arxiv.org/abs/1805.00013)\n",
    "we explain the basic idea of most of the methods presented here, while [\"A Guide to Constraining Effective Field Theories With Machine Learning\"](https://arxiv.org/abs/1805.00020) is an extensive 65-page handbook going through the details."
   ]
  },
  {
   "cell_type": "markdown",
   "metadata": {},
   "source": [
    "## Preparations"
   ]
  },
  {
   "cell_type": "markdown",
   "metadata": {},
   "source": [
    "Before you execute this notebook, make sure you have running installations of MadGraph, Pythia, and Delphes."
   ]
  },
  {
   "cell_type": "code",
   "execution_count": 1,
   "metadata": {},
   "outputs": [],
   "source": [
    "from __future__ import absolute_import, division, print_function, unicode_literals\n",
    "\n",
    "import logging\n",
    "import numpy as np\n",
    "import matplotlib\n",
    "from matplotlib import pyplot as plt\n",
    "%matplotlib inline\n",
    "\n",
    "from madminer.core import MadMiner\n",
    "from madminer.lhe import LHEProcessor\n",
    "from madminer.sampling import combine_and_shuffle\n",
    "from madminer.sampling import SampleAugmenter\n",
    "from madminer.sampling import constant_benchmark_theta, multiple_benchmark_thetas, random_morphing_thetas\n",
    "from madminer.ml import MLForge\n",
    "from madminer.plotting import plot_2d_morphing_basis, plot_distributions\n"
   ]
  },
  {
   "cell_type": "markdown",
   "metadata": {},
   "source": [
    "Please enter here the path to your MG5 root directory."
   ]
  },
  {
   "cell_type": "code",
   "execution_count": 2,
   "metadata": {},
   "outputs": [],
   "source": [
    "mg_dir = '/Users/johannbrehmer/work/projects/madminer/MG5_aMC_v2_6_2'"
   ]
  },
  {
   "cell_type": "markdown",
   "metadata": {},
   "source": [
    "MadMiner uses the Python `logging` module to provide additional information and debugging output. You can choose how much of this output you want to see by switching the level in the following lines to `logging.DEBUG` or `logging.WARNING`."
   ]
  },
  {
   "cell_type": "code",
   "execution_count": 3,
   "metadata": {},
   "outputs": [],
   "source": [
    "# MadMiner output\n",
    "logging.basicConfig(\n",
    "    format='%(asctime)-5.5s %(name)-20.20s %(levelname)-7.7s %(message)s',\n",
    "    datefmt='%H:%M',\n",
    "    level=logging.DEBUG\n",
    ")\n",
    "\n",
    "# Output of all other modules (e.g. matplotlib)\n",
    "for key in logging.Logger.manager.loggerDict:\n",
    "    if \"madminer\" not in key:\n",
    "        logging.getLogger(key).setLevel(logging.WARNING)"
   ]
  },
  {
   "cell_type": "markdown",
   "metadata": {},
   "source": [
    "## Input data"
   ]
  },
  {
   "cell_type": "markdown",
   "metadata": {},
   "source": [
    "As an example process, we'll simulate VBF Higgs production with a decay into two photons. We'll try to measure two EFT coefficients that affect this process.\n",
    "\n",
    "Have a look at the `cards` folder. You'll find text files (\"cards\") that specify the process simulation in typical MadGraph convention."
   ]
  },
  {
   "cell_type": "markdown",
   "metadata": {},
   "source": [
    "## 1. Define parameter space"
   ]
  },
  {
   "cell_type": "markdown",
   "metadata": {},
   "source": [
    "After creating a `MadMiner` instance, the first important step is the definition of the parameter space. Each model parameter is characterized by a name as well as the LHA block and ID.\n",
    "\n",
    "If morphing is used, one also has to specify the maximal power with which the parameter contributes to the squared matrix element. For instance, a parameter that contributes only to one vertex, will typically have `morphing_max_power=2`, while a parameter that contributes to two vertices usually has `morphing_max_power=4`. Exceptions arise for instance when the interference effects between the SM and dimension-six operators are modelled, but the square of the dimension-six amplitude (subleading in 1/Lambda) is not taken into account, in which case `morphing_max_power=1`. The `parameter_range` argument defines the range of parameter values that are used for the automatic optimization of the morphing basis.\n",
    "\n",
    "Finally, the parameter values theta used internally by MadMiner and the parameter values written to the param_card (or reweight_card) given to MadGraph do not have to be exactly the same. With the option `parm_card_transform`, the user can supply a one-parameter function that maps a parameter value theta to the value given to MadGraph. This string is a python expression, in which `theta` is parsed as the parameter value. For instance, if the internal parameters are in the range (0, 1), but should be linearly scaled to (0, 100) in the param_card, one would have to use `param_card_transform=\"100*theta\"`."
   ]
  },
  {
   "cell_type": "code",
   "execution_count": 4,
   "metadata": {},
   "outputs": [
    {
     "name": "stderr",
     "output_type": "stream",
     "text": [
      "17:04 madminer.core        INFO    Added parameter CWL2 (LHA: dim6 2, maximal power in squared ME: (2,), range: (-10.0, 10.0))\n",
      "17:04 madminer.core        INFO    Added parameter CPWL2 (LHA: dim6 5, maximal power in squared ME: (2,), range: (-10.0, 10.0))\n"
     ]
    }
   ],
   "source": [
    "miner = MadMiner(debug=False)\n",
    "\n",
    "miner.add_parameter(\n",
    "    lha_block='dim6',\n",
    "    lha_id=2,\n",
    "    parameter_name='CWL2',\n",
    "    morphing_max_power=2,\n",
    "    param_card_transform=\"16.52*theta\",\n",
    "    parameter_range=(-10.,10.)\n",
    ")\n",
    "miner.add_parameter(\n",
    "    lha_block='dim6',\n",
    "    lha_id=5,\n",
    "    parameter_name='CPWL2',\n",
    "    morphing_max_power=2,\n",
    "    param_card_transform=\"16.52*theta\",\n",
    "    parameter_range=(-10.,10.)\n",
    ")"
   ]
  },
  {
   "cell_type": "markdown",
   "metadata": {},
   "source": [
    "## 2. Define benchmark points (evaluation points for |M|^2)"
   ]
  },
  {
   "cell_type": "markdown",
   "metadata": {},
   "source": [
    "The next step is the definition of all the points at which the weights (squared matrix elements) should be evaluated by MadGraph. We call these points \"benchmarks\"."
   ]
  },
  {
   "cell_type": "markdown",
   "metadata": {},
   "source": [
    "### Set benchmarks by hand"
   ]
  },
  {
   "cell_type": "markdown",
   "metadata": {},
   "source": [
    "One can define benchmarks by hand:"
   ]
  },
  {
   "cell_type": "code",
   "execution_count": 8,
   "metadata": {},
   "outputs": [
    {
     "name": "stderr",
     "output_type": "stream",
     "text": [
      "16:42 madminer.core        INFO    Added benchmark sm: CWL2 = 0.00e+00, CPWL2 = 0.00e+00)\n",
      "16:42 madminer.core        INFO    Added benchmark w: CWL2 = 10.00, CPWL2 = 0.00e+00)\n"
     ]
    }
   ],
   "source": [
    "miner.add_benchmark(\n",
    "    {'CWL2':0., 'CPWL2':0.},\n",
    "    'sm'\n",
    ")\n",
    "miner.add_benchmark(\n",
    "    {'CWL2':10., 'CPWL2':0.},\n",
    "    'w'\n",
    ")"
   ]
  },
  {
   "cell_type": "markdown",
   "metadata": {},
   "source": [
    "### Morphing setup"
   ]
  },
  {
   "cell_type": "markdown",
   "metadata": {},
   "source": [
    "If morphing is used, the function `set_morphing` has to be called. With the option `include_existing_benchmarks=True`, MadMiner will keep all the benchmark points defined beforehand and run a simple optimization algorithm to fix the remaining ones for the basis (which may be none). Otherwise, MadMiner will optimize the full basis and forget about all previously defined benchmark points.\n",
    "\n",
    "The other important keyword is `max_overall_power`. This sets the maximal combined power with which all parameters together contribute to the squared matrix element (cross section). This constraint is in addition to the `morphing_max_power` keyword of `add_parameter()` (see above). For instance, if there are two parameters of interest `a` and `b`, and it is known that there are contributions proportional to `1` (constant), `a`, `a^2`, `b`, `b^2`, and `ab`, then `max_overall_power=2`. If there are also contributions proportional to `a^2 b`, `a b^2`, and `a^2 b^2`, then `max_overall_power=4`."
   ]
  },
  {
   "cell_type": "code",
   "execution_count": 9,
   "metadata": {
    "scrolled": true
   },
   "outputs": [
    {
     "name": "stderr",
     "output_type": "stream",
     "text": [
      "16:42 madminer.core        INFO    Optimizing basis for morphing\n",
      "16:42 madminer.core        INFO    Added benchmark sm: CWL2 = 0.00e+00, CPWL2 = 0.00e+00)\n",
      "16:42 madminer.core        INFO    Added benchmark w: CWL2 = 10.00, CPWL2 = 0.00e+00)\n",
      "16:42 madminer.core        INFO    Added benchmark morphing_basis_vector_2: CWL2 = 9.60, CPWL2 = -8.78e+00)\n",
      "16:42 madminer.core        INFO    Added benchmark morphing_basis_vector_3: CWL2 = -6.94e-01, CPWL2 = 7.05)\n",
      "16:42 madminer.core        INFO    Added benchmark morphing_basis_vector_4: CWL2 = -4.58e+00, CPWL2 = -7.85e+00)\n",
      "16:42 madminer.core        INFO    Added benchmark morphing_basis_vector_5: CWL2 = -5.61e+00, CPWL2 = 8.46)\n"
     ]
    }
   ],
   "source": [
    "miner.set_morphing(\n",
    "    include_existing_benchmarks=True,\n",
    "    max_overall_power=2\n",
    ")"
   ]
  },
  {
   "cell_type": "markdown",
   "metadata": {},
   "source": [
    "Let's have a look at the resulting morphing basis and the \"morphing error\", i.e. the sum of squared morphing weights as a function of the parameter space. The black dots mark the benchmarks at which the squared matrix element will be evaluated when MadGraph is run. In between them, the morphing will interpolate. Since the morphing knows about the functional form of the amplitudes, there is only a small numerical uncertainty in this interpolation, we expect that the color in this plot is indicative of this uncertainty."
   ]
  },
  {
   "cell_type": "code",
   "execution_count": 10,
   "metadata": {},
   "outputs": [
    {
     "data": {
      "image/png": "[encoded data removed]",
      "text/plain": [
       "<Figure size 468x360 with 2 Axes>"
      ]
     },
     "metadata": {
      "needs_background": "light"
     },
     "output_type": "display_data"
    }
   ],
   "source": [
    "fig = plot_2d_morphing_basis(\n",
    "    miner.morpher,\n",
    "    xlabel=r'$c_{W} v^2 / \\Lambda^2$',\n",
    "    ylabel=r'$c_{\\tilde{W}} v^2 / \\Lambda^2$',\n",
    "    xrange=(-10.,10.),\n",
    "    yrange=(-10.,10.)\n",
    ")"
   ]
  },
  {
   "cell_type": "markdown",
   "metadata": {},
   "source": [
    "The parameter space, benchmark points, and morphing setup are saved in a HDF5 file:"
   ]
  },
  {
   "cell_type": "code",
   "execution_count": 11,
   "metadata": {},
   "outputs": [
    {
     "name": "stderr",
     "output_type": "stream",
     "text": [
      "16:42 madminer.core        INFO    Saving setup (including morphing) to data/madminer_example.h5\n"
     ]
    }
   ],
   "source": [
    "miner.save('data/madminer_example.h5')"
   ]
  },
  {
   "cell_type": "markdown",
   "metadata": {},
   "source": [
    "They can now be loaded again with `miner.load(filename)`."
   ]
  },
  {
   "cell_type": "markdown",
   "metadata": {},
   "source": [
    "## 3. Save settings and run MadGraph"
   ]
  },
  {
   "cell_type": "markdown",
   "metadata": {},
   "source": [
    "In a next step, MadMiner starts MadGraph to generate events and calculate the weights. You have to provide paths to the process card, run card, param card (the entries corresponding to the parameters of interest will be automatically adapted), and an empty reweight card. Log files in the `log_directory` folder collect the MadGraph output and are important for debugging.\n",
    "\n",
    "The `sample_benchmark` option can be used to specify which benchmark should be used for sampling. If it is not used, MadMiner will automatically use the benchmark that was added first.\n",
    "\n",
    "Finally, if MadGraph is supposed to run in a different Python environment or requires other setup steps, you can use the `initial_command` argument. If your default Python environment is Python 2.7, you do not have to use this. If it is Python 3.x, you should use this to activate a Python 2 environment (see [the conda documentation](https://conda.io/docs/user-guide/tasks/manage-environments.html)). In the commented-out line we assume you have create a conda environment `python2` for this purpose."
   ]
  },
  {
   "cell_type": "code",
   "execution_count": 12,
   "metadata": {},
   "outputs": [
    {
     "name": "stderr",
     "output_type": "stream",
     "text": [
      "16:43 madminer.utils.inter INFO    Generating MadGraph process folder from cards/proc_card_signal.dat at ./mg_processes/signal\n",
      "16:43 madminer.core        INFO    Run 0\n",
      "16:43 madminer.core        INFO      Sampling from benchmark: sm\n",
      "16:43 madminer.core        INFO      Original run card:       cards/run_card_signal.dat\n",
      "16:43 madminer.core        INFO      Original Pythia8 card:   None\n",
      "16:43 madminer.core        INFO      Copied run card:         /madminer/cards/run_card_0.dat\n",
      "16:43 madminer.core        INFO      Copied Pythia8 card:     None\n",
      "16:43 madminer.core        INFO      Param card:              /madminer/cards/param_card_0.dat\n",
      "16:43 madminer.core        INFO      Reweight card:           /madminer/cards/reweight_card_0.dat\n",
      "16:43 madminer.core        INFO      Log file:                run_0.log\n",
      "16:43 madminer.core        INFO    Creating param and reweight cards in ./mg_processes/signal//madminer/cards/param_card_0.dat, ./mg_processes/signal//madminer/cards/reweight_card_0.dat\n",
      "16:43 madminer.utils.inter INFO    Starting MadGraph and Pythia in ./mg_processes/signal\n"
     ]
    }
   ],
   "source": [
    "miner.run(\n",
    "    sample_benchmark='sm',\n",
    "    mg_directory=mg_dir,\n",
    "    mg_process_directory='./mg_processes/signal',\n",
    "    proc_card_file='cards/proc_card_signal.dat',\n",
    "    param_card_template_file='cards/param_card_template.dat',\n",
    "    run_card_file='cards/run_card_signal.dat',\n",
    "    log_directory='logs/signal',\n",
    "    # initial_command='source activate python2',\n",
    ")"
   ]
  },
  {
   "cell_type": "markdown",
   "metadata": {},
   "source": [
    "This will take a moment -- time for a coffee break!\n",
    "\n",
    "After running any event generation through MadMiner, you should check whether the run succeeded: are the usual output files there (LHE and HepMC), do the log files show any error messages? MadMiner does not perform any explicit checks, and if something went wrong in the event generation, it will only notice later when trying to load the event files."
   ]
  },
  {
   "cell_type": "markdown",
   "metadata": {},
   "source": [
    "It is possible to start multiple processes based on the same `MadMiner` instance. This can be used to combine samples sampled according to different benchmarks, and to add reducible backgrounds. \n",
    "\n",
    "For the latter, a useful option is the `is_background` switch, which should be used for processes that do *not* depend on the parameters theta. `is_background=True` will disable the reweighting and re-use the same weights for all cross sections."
   ]
  },
  {
   "cell_type": "code",
   "execution_count": 13,
   "metadata": {},
   "outputs": [
    {
     "name": "stderr",
     "output_type": "stream",
     "text": [
      "16:44 madminer.utils.inter INFO    Generating MadGraph process folder from cards/proc_card_background.dat at ./mg_processes/background\n",
      "16:44 madminer.core        INFO    Run 0\n",
      "16:44 madminer.core        INFO      Sampling from benchmark: sm\n",
      "16:44 madminer.core        INFO      Original run card:       cards/run_card_background.dat\n",
      "16:44 madminer.core        INFO      Original Pythia8 card:   None\n",
      "16:44 madminer.core        INFO      Copied run card:         /madminer/cards/run_card_0.dat\n",
      "16:44 madminer.core        INFO      Copied Pythia8 card:     None\n",
      "16:44 madminer.core        INFO      Param card:              /madminer/cards/param_card_0.dat\n",
      "16:44 madminer.core        INFO      Reweight card:           /madminer/cards/reweight_card_0.dat\n",
      "16:44 madminer.core        INFO      Log file:                run_0.log\n",
      "16:44 madminer.core        INFO    Creating param and reweight cards in ./mg_processes/background//madminer/cards/param_card_0.dat, ./mg_processes/background//madminer/cards/reweight_card_0.dat\n",
      "16:44 madminer.utils.inter INFO    Starting MadGraph and Pythia in ./mg_processes/background\n"
     ]
    }
   ],
   "source": [
    "miner.run(\n",
    "    is_background=True,\n",
    "    sample_benchmark='sm',\n",
    "    mg_directory=mg_dir,\n",
    "    mg_process_directory='./mg_processes/background',\n",
    "    proc_card_file='cards/proc_card_background.dat',\n",
    "    param_card_template_file='cards/param_card_template.dat',\n",
    "    run_card_file='cards/run_card_background.dat',\n",
    "    log_directory='logs/background',\n",
    "    # initial_command='source activate python2',\n",
    ")"
   ]
  },
  {
   "cell_type": "markdown",
   "metadata": {},
   "source": [
    "Finally, two options might be very useful for larger projects:\n",
    "- `MadMiner.run_multiple()` allows you to start multiple runs with different run cards or different choices of `sample_benchmark`.\n",
    "- Both `MadMiner.run()` and `MadMiner.run_multiple()` have a `only_create_script` keyword. If that is set to True, MadMiner will not start the event generation directly, but prepare folders with all the right settings and ready-to-run bash scripts. This might make it much easier to generate Events on a high-performance computing system. "
   ]
  },
  {
   "cell_type": "markdown",
   "metadata": {},
   "source": [
    "## 4. Run smearing and extract observables"
   ]
  },
  {
   "cell_type": "markdown",
   "metadata": {},
   "source": [
    "The `madminer.lhe` submodule allows us to extract observables directly from the parton-level LHE samples, including an approximate description of the detector response with smearing functions. The central object is an instance of the `LHEProcessor` class, which has to be initialized with a MadMiner file:"
   ]
  },
  {
   "cell_type": "code",
   "execution_count": 4,
   "metadata": {},
   "outputs": [
    {
     "name": "stderr",
     "output_type": "stream",
     "text": [
      "17:05 madminer.utils.inter INFO    HDF5 file does not contain is_reference field.\n"
     ]
    }
   ],
   "source": [
    "proc = LHEProcessor('data/madminer_example.h5')"
   ]
  },
  {
   "cell_type": "markdown",
   "metadata": {},
   "source": [
    "After creating the LHEProcessor object, one can add a number of event samples (the output of running MadGraph in step 3) with the `add_sample()` function.\n",
    "\n",
    "In addition, you have to provide the information which sample was generated from which benchmark with the `sampled_from_benchmark` keyword, and set `is_background=True` for all background samples."
   ]
  },
  {
   "cell_type": "code",
   "execution_count": 5,
   "metadata": {
    "scrolled": false
   },
   "outputs": [
    {
     "name": "stderr",
     "output_type": "stream",
     "text": [
      "17:05 madminer.lhe         DEBUG   Adding event sample mg_processes/signal/Events/run_01/unweighted_events.lhe.gz\n",
      "17:05 madminer.lhe         DEBUG   Adding event sample mg_processes/background/Events/run_01/unweighted_events.lhe.gz\n"
     ]
    }
   ],
   "source": [
    "proc.add_sample(\n",
    "    lhe_filename='mg_processes/signal/Events/run_01/unweighted_events.lhe.gz',\n",
    "    sampled_from_benchmark='sm',\n",
    "    is_background=False,\n",
    ")\n",
    "proc.add_sample(\n",
    "    lhe_filename='mg_processes/background/Events/run_01/unweighted_events.lhe.gz',\n",
    "    sampled_from_benchmark='sm',\n",
    "    is_background=True,\n",
    ")\n"
   ]
  },
  {
   "cell_type": "markdown",
   "metadata": {},
   "source": [
    "Now we have to define the smearing functions that are used (in lieu of a proper shower and detector simulation). Here we will assume a simple 10% uncertainty on the jet energy and pT measurements and a absolute uncertainty of 0.1 on the jet eta and phi measurements. The photons from the Higgs are assumed to be measured perfectly (otherwise we'd have to call `set_smearing` another time with `pdgis=[22]`)."
   ]
  },
  {
   "cell_type": "code",
   "execution_count": 6,
   "metadata": {},
   "outputs": [],
   "source": [
    "proc.set_smearing(\n",
    "    pdgids=[1,2,3,4,5,6,9,22,-1,-2,-3,-4,-5,-6],   # Partons giving rise to jets\n",
    "    energy_resolution_abs=0.,\n",
    "    energy_resolution_rel=0.1,\n",
    "    pt_resolution_abs=0.,\n",
    "    pt_resolution_rel=0.1,\n",
    "    eta_resolution_abs=0.1,\n",
    "    eta_resolution_rel=0.,\n",
    "    phi_resolution_abs=0.1,\n",
    "    phi_resolution_rel=0.,\n",
    ")"
   ]
  },
  {
   "cell_type": "markdown",
   "metadata": {},
   "source": [
    "The next step is the definition of observables, either through a Python function or an expression that can be evaluated. Here we demonstrate the latter, which is implemented in `add_observable()`. In the expression string, you can use the terms `j[i]`, `e[i]`, `mu[i]`, `a[i]`, `met`, where the indices `i` refer to a ordering by the transverse momentum. In addition, you can use `p[i]`, which denotes the `i`-th particle in the order given in the LHE sample (which is the order in which the final-state particles where defined in MadGraph).\n",
    "\n",
    "All of these represent objects inheriting from scikit-hep [LorentzVectors](http://scikit-hep.org/api/math.html#vector-classes), see the link for a documentation of their properties. In addition, they have `charge` and `pdg_id` properties.\n",
    "\n",
    "`add_observable()` has an optional keyword `required`. If `required=True`, we will only keep events where the observable can be parsed, i.e. all involved particles have been detected. If `required=False`, un-parseable observables will be filled with the value of another keyword `default`.\n",
    "\n",
    "In a realistic project, you would want to add a large number of observables that capture all information in your events. Here we will just define two observables, the transverse momentum of the leading (= higher-pT) jet, and the azimuthal angle between the two leading jets."
   ]
  },
  {
   "cell_type": "code",
   "execution_count": 7,
   "metadata": {},
   "outputs": [
    {
     "name": "stderr",
     "output_type": "stream",
     "text": [
      "17:05 madminer.lhe         DEBUG   Adding optional observable pt_j1 = j[0].pt with default 0.0\n",
      "17:05 madminer.lhe         DEBUG   Adding required observable delta_phi_jj = (j[0].phi() - j[1].phi()) * (-1. + 2.*float(j[0].eta > j[1].eta))\n"
     ]
    }
   ],
   "source": [
    "proc.add_observable(\n",
    "    'pt_j1',\n",
    "    'j[0].pt',\n",
    "    required=False,\n",
    "    default=0.,\n",
    ")\n",
    "proc.add_observable(\n",
    "    'delta_phi_jj',\n",
    "    '(j[0].phi() - j[1].phi()) * (-1. + 2.*float(j[0].eta > j[1].eta))',\n",
    "    required=True,\n",
    ")"
   ]
  },
  {
   "cell_type": "markdown",
   "metadata": {},
   "source": [
    "We can also add cuts, again in parse-able strings. In addition to the objects discussed above, they can contain the observables:"
   ]
  },
  {
   "cell_type": "code",
   "execution_count": 8,
   "metadata": {},
   "outputs": [
    {
     "name": "stderr",
     "output_type": "stream",
     "text": [
      "17:05 madminer.lhe         DEBUG   Adding cut pt_j1 > 30.\n"
     ]
    }
   ],
   "source": [
    "proc.add_cut('pt_j1 > 30.')"
   ]
  },
  {
   "cell_type": "markdown",
   "metadata": {},
   "source": [
    "The function `analyse_samples` then calculates all observables from the LHE file(s) generated before, applies the smearing, and checks which events pass the cuts:"
   ]
  },
  {
   "cell_type": "code",
   "execution_count": 9,
   "metadata": {
    "scrolled": true
   },
   "outputs": [
    {
     "name": "stderr",
     "output_type": "stream",
     "text": [
      "17:05 madminer.lhe         INFO    Analysing LHE sample mg_processes/signal/Events/run_01/unweighted_events.lhe.gz\n",
      "17:05 madminer.lhe         DEBUG   Extracting nuisance parameter definitions from LHE file\n",
      "17:05 madminer.lhe         DEBUG   Found 0 nuisance parameters with matching benchmarks:\n",
      "17:05 madminer.utils.inter DEBUG   Parsing LHE file mg_processes/signal/Events/run_01/unweighted_events.lhe.gz\n",
      "17:05 madminer.utils.inter DEBUG   Found entry event_norm = sum in LHE header. Interpreting this as weight_norm_is_average = False.\n",
      "17:05 madminer.lhe         DEBUG   Found weights [u'sm', 'w', 'morphing_basis_vector_2', 'morphing_basis_vector_3', 'morphing_basis_vector_4', 'morphing_basis_vector_5'] in LHE file\n",
      "17:05 madminer.lhe         DEBUG   Found 1000 events\n",
      "17:05 madminer.lhe         INFO    Analysing LHE sample mg_processes/background/Events/run_01/unweighted_events.lhe.gz\n",
      "17:05 madminer.lhe         DEBUG   Extracting nuisance parameter definitions from LHE file\n",
      "17:05 madminer.lhe         DEBUG   Found 0 nuisance parameters with matching benchmarks:\n",
      "17:05 madminer.utils.inter DEBUG   Parsing LHE file mg_processes/background/Events/run_01/unweighted_events.lhe.gz\n",
      "17:05 madminer.utils.inter DEBUG   Found entry event_norm = sum in LHE header. Interpreting this as weight_norm_is_average = False.\n",
      "17:05 madminer.lhe         DEBUG   Found weights [u'sm', u'w', u'morphing_basis_vector_2', u'morphing_basis_vector_3', u'morphing_basis_vector_4', u'morphing_basis_vector_5'] in LHE file\n",
      "17:05 madminer.lhe         DEBUG   Found 100 events\n"
     ]
    }
   ],
   "source": [
    "proc.analyse_samples()"
   ]
  },
  {
   "cell_type": "markdown",
   "metadata": {},
   "source": [
    "The values of the observables and the weights are then saved in the HDF5 file. It is possible to overwrite the same file, or to leave the original file intact and save all the data into a new file as follows:"
   ]
  },
  {
   "cell_type": "code",
   "execution_count": 11,
   "metadata": {},
   "outputs": [
    {
     "name": "stderr",
     "output_type": "stream",
     "text": [
      "17:05 madminer.lhe         DEBUG   Loading HDF5 data from data/madminer_example.h5 and saving file to data/madminer_example_with_data.h5\n",
      "17:05 madminer.lhe         DEBUG   Weight names: [u'sm', 'w', 'morphing_basis_vector_2', 'morphing_basis_vector_3', 'morphing_basis_vector_4', 'morphing_basis_vector_5']\n",
      "17:05 madminer.utils.inter DEBUG   Benchmarks found in HDF5 file: [u'sm', u'w', u'morphing_basis_vector_2', u'morphing_basis_vector_3', u'morphing_basis_vector_4', u'morphing_basis_vector_5']\n",
      "17:05 madminer.utils.inter DEBUG   Benchmark morphing_basis_vector_2 already in benchmark_names_phys\n",
      "17:05 madminer.utils.inter DEBUG   Benchmark morphing_basis_vector_3 already in benchmark_names_phys\n",
      "17:05 madminer.utils.inter DEBUG   Benchmark morphing_basis_vector_4 already in benchmark_names_phys\n",
      "17:05 madminer.utils.inter DEBUG   Benchmark morphing_basis_vector_5 already in benchmark_names_phys\n",
      "17:05 madminer.utils.inter DEBUG   Benchmark sm already in benchmark_names_phys\n",
      "17:05 madminer.utils.inter DEBUG   Benchmark w already in benchmark_names_phys\n",
      "17:05 madminer.utils.inter DEBUG   Combined benchmark names: [u'sm', u'w', u'morphing_basis_vector_2', u'morphing_basis_vector_3', u'morphing_basis_vector_4', u'morphing_basis_vector_5']\n",
      "17:05 madminer.utils.inter DEBUG   Combined is_nuisance: [0 0 0 0 0 0]\n",
      "17:05 madminer.utils.inter DEBUG   Combined is_reference: [1 0 0 0 0 0]\n",
      "17:05 madminer.utils.inter DEBUG   Weight names found in Delphes files: [u'sm', 'w', 'morphing_basis_vector_2', 'morphing_basis_vector_3', 'morphing_basis_vector_4', 'morphing_basis_vector_5']\n",
      "17:05 madminer.utils.inter DEBUG   Benchmarks found in MadMiner file: [u'sm', u'w', u'morphing_basis_vector_2', u'morphing_basis_vector_3', u'morphing_basis_vector_4', u'morphing_basis_vector_5']\n",
      "17:05 madminer.utils.inter DEBUG   Sorted benchmarks: [u'sm', u'w', u'morphing_basis_vector_2', u'morphing_basis_vector_3', u'morphing_basis_vector_4', u'morphing_basis_vector_5']\n"
     ]
    },
    {
     "ename": "TypeError",
     "evalue": "Object dtype dtype('O') has no native HDF5 equivalent",
     "output_type": "error",
     "traceback": [
      "\u001b[0;31m---------------------------------------------------------------------------\u001b[0m",
      "\u001b[0;31mTypeError\u001b[0m                                 Traceback (most recent call last)",
      "\u001b[0;32m<ipython-input-11-4dc3ab51f158>\u001b[0m in \u001b[0;36m<module>\u001b[0;34m()\u001b[0m\n\u001b[0;32m----> 1\u001b[0;31m \u001b[0mproc\u001b[0m\u001b[0;34m.\u001b[0m\u001b[0msave\u001b[0m\u001b[0;34m(\u001b[0m\u001b[0;34m'data/madminer_example_with_data.h5'\u001b[0m\u001b[0;34m)\u001b[0m\u001b[0;34m\u001b[0m\u001b[0m\n\u001b[0m",
      "\u001b[0;32m/Users/johannbrehmer/work/projects/madminer/madminer/madminer/lhe.pyc\u001b[0m in \u001b[0;36msave\u001b[0;34m(self, filename_out)\u001b[0m\n\u001b[1;32m    658\u001b[0m \u001b[0;34m\u001b[0m\u001b[0m\n\u001b[1;32m    659\u001b[0m         \u001b[0;31m# Save events\u001b[0m\u001b[0;34m\u001b[0m\u001b[0;34m\u001b[0m\u001b[0m\n\u001b[0;32m--> 660\u001b[0;31m         \u001b[0msave_events_to_madminer_file\u001b[0m\u001b[0;34m(\u001b[0m\u001b[0mfilename_out\u001b[0m\u001b[0;34m,\u001b[0m \u001b[0mself\u001b[0m\u001b[0;34m.\u001b[0m\u001b[0mobservables\u001b[0m\u001b[0;34m,\u001b[0m \u001b[0mself\u001b[0m\u001b[0;34m.\u001b[0m\u001b[0mobservations\u001b[0m\u001b[0;34m,\u001b[0m \u001b[0mself\u001b[0m\u001b[0;34m.\u001b[0m\u001b[0mweights\u001b[0m\u001b[0;34m)\u001b[0m\u001b[0;34m\u001b[0m\u001b[0m\n\u001b[0m\u001b[1;32m    661\u001b[0m \u001b[0;34m\u001b[0m\u001b[0m\n\u001b[1;32m    662\u001b[0m \u001b[0;34m\u001b[0m\u001b[0m\n",
      "\u001b[0;32m/Users/johannbrehmer/work/projects/madminer/madminer/madminer/utils/interfaces/madminer_hdf5.pyc\u001b[0m in \u001b[0;36msave_events_to_madminer_file\u001b[0;34m(filename, observables, observations, weights, copy_from, overwrite_existing_samples)\u001b[0m\n\u001b[1;32m    542\u001b[0m             \u001b[0;31m# Prepare and save observable values\u001b[0m\u001b[0;34m\u001b[0m\u001b[0;34m\u001b[0m\u001b[0m\n\u001b[1;32m    543\u001b[0m             \u001b[0mobservations\u001b[0m \u001b[0;34m=\u001b[0m \u001b[0mnp\u001b[0m\u001b[0;34m.\u001b[0m\u001b[0marray\u001b[0m\u001b[0;34m(\u001b[0m\u001b[0;34m[\u001b[0m\u001b[0mobservations\u001b[0m\u001b[0;34m[\u001b[0m\u001b[0moname\u001b[0m\u001b[0;34m]\u001b[0m \u001b[0;32mfor\u001b[0m \u001b[0moname\u001b[0m \u001b[0;32min\u001b[0m \u001b[0mobservable_names\u001b[0m\u001b[0;34m]\u001b[0m\u001b[0;34m)\u001b[0m\u001b[0;34m.\u001b[0m\u001b[0mT\u001b[0m\u001b[0;34m\u001b[0m\u001b[0m\n\u001b[0;32m--> 544\u001b[0;31m             \u001b[0mf\u001b[0m\u001b[0;34m.\u001b[0m\u001b[0mcreate_dataset\u001b[0m\u001b[0;34m(\u001b[0m\u001b[0;34m\"samples/observations\"\u001b[0m\u001b[0;34m,\u001b[0m \u001b[0mdata\u001b[0m\u001b[0;34m=\u001b[0m\u001b[0mobservations\u001b[0m\u001b[0;34m)\u001b[0m\u001b[0;34m\u001b[0m\u001b[0m\n\u001b[0m\u001b[1;32m    545\u001b[0m \u001b[0;34m\u001b[0m\u001b[0m\n\u001b[1;32m    546\u001b[0m \u001b[0;34m\u001b[0m\u001b[0m\n",
      "\u001b[0;32m/Users/johannbrehmer/anaconda3/envs/python2/lib/python2.7/site-packages/h5py/_hl/group.pyc\u001b[0m in \u001b[0;36mcreate_dataset\u001b[0;34m(self, name, shape, dtype, data, **kwds)\u001b[0m\n\u001b[1;32m    114\u001b[0m         \"\"\"\n\u001b[1;32m    115\u001b[0m         \u001b[0;32mwith\u001b[0m \u001b[0mphil\u001b[0m\u001b[0;34m:\u001b[0m\u001b[0;34m\u001b[0m\u001b[0m\n\u001b[0;32m--> 116\u001b[0;31m             \u001b[0mdsid\u001b[0m \u001b[0;34m=\u001b[0m \u001b[0mdataset\u001b[0m\u001b[0;34m.\u001b[0m\u001b[0mmake_new_dset\u001b[0m\u001b[0;34m(\u001b[0m\u001b[0mself\u001b[0m\u001b[0;34m,\u001b[0m \u001b[0mshape\u001b[0m\u001b[0;34m,\u001b[0m \u001b[0mdtype\u001b[0m\u001b[0;34m,\u001b[0m \u001b[0mdata\u001b[0m\u001b[0;34m,\u001b[0m \u001b[0;34m**\u001b[0m\u001b[0mkwds\u001b[0m\u001b[0;34m)\u001b[0m\u001b[0;34m\u001b[0m\u001b[0m\n\u001b[0m\u001b[1;32m    117\u001b[0m             \u001b[0mdset\u001b[0m \u001b[0;34m=\u001b[0m \u001b[0mdataset\u001b[0m\u001b[0;34m.\u001b[0m\u001b[0mDataset\u001b[0m\u001b[0;34m(\u001b[0m\u001b[0mdsid\u001b[0m\u001b[0;34m)\u001b[0m\u001b[0;34m\u001b[0m\u001b[0m\n\u001b[1;32m    118\u001b[0m             \u001b[0;32mif\u001b[0m \u001b[0mname\u001b[0m \u001b[0;32mis\u001b[0m \u001b[0;32mnot\u001b[0m \u001b[0mNone\u001b[0m\u001b[0;34m:\u001b[0m\u001b[0;34m\u001b[0m\u001b[0m\n",
      "\u001b[0;32m/Users/johannbrehmer/anaconda3/envs/python2/lib/python2.7/site-packages/h5py/_hl/dataset.pyc\u001b[0m in \u001b[0;36mmake_new_dset\u001b[0;34m(parent, shape, dtype, data, chunks, compression, shuffle, fletcher32, maxshape, compression_opts, fillvalue, scaleoffset, track_times)\u001b[0m\n\u001b[1;32m     98\u001b[0m         \u001b[0;32melse\u001b[0m\u001b[0;34m:\u001b[0m\u001b[0;34m\u001b[0m\u001b[0m\n\u001b[1;32m     99\u001b[0m             \u001b[0mdtype\u001b[0m \u001b[0;34m=\u001b[0m \u001b[0mnumpy\u001b[0m\u001b[0;34m.\u001b[0m\u001b[0mdtype\u001b[0m\u001b[0;34m(\u001b[0m\u001b[0mdtype\u001b[0m\u001b[0;34m)\u001b[0m\u001b[0;34m\u001b[0m\u001b[0m\n\u001b[0;32m--> 100\u001b[0;31m         \u001b[0mtid\u001b[0m \u001b[0;34m=\u001b[0m \u001b[0mh5t\u001b[0m\u001b[0;34m.\u001b[0m\u001b[0mpy_create\u001b[0m\u001b[0;34m(\u001b[0m\u001b[0mdtype\u001b[0m\u001b[0;34m,\u001b[0m \u001b[0mlogical\u001b[0m\u001b[0;34m=\u001b[0m\u001b[0;36m1\u001b[0m\u001b[0;34m)\u001b[0m\u001b[0;34m\u001b[0m\u001b[0m\n\u001b[0m\u001b[1;32m    101\u001b[0m \u001b[0;34m\u001b[0m\u001b[0m\n\u001b[1;32m    102\u001b[0m     \u001b[0;31m# Legacy\u001b[0m\u001b[0;34m\u001b[0m\u001b[0;34m\u001b[0m\u001b[0m\n",
      "\u001b[0;32mh5py/h5t.pyx\u001b[0m in \u001b[0;36mh5py.h5t.py_create\u001b[0;34m()\u001b[0m\n",
      "\u001b[0;32mh5py/h5t.pyx\u001b[0m in \u001b[0;36mh5py.h5t.py_create\u001b[0;34m()\u001b[0m\n",
      "\u001b[0;32mh5py/h5t.pyx\u001b[0m in \u001b[0;36mh5py.h5t.py_create\u001b[0;34m()\u001b[0m\n",
      "\u001b[0;31mTypeError\u001b[0m: Object dtype dtype('O') has no native HDF5 equivalent"
     ]
    }
   ],
   "source": [
    "proc.save('data/madminer_example_with_data.h5')"
   ]
  },
  {
   "cell_type": "markdown",
   "metadata": {},
   "source": [
    "One side remark: For the detector simulation and calculation of observables, different users might have very different requirements. While a phenomenologist might be content with the fast detector simulation from Delphes, an experimental analysis might require the full simulation through Geant4. We therefore intend this part to be interchangeable: any user should feel free to run the detector simulation of their choice and save the calculated observables in the MadMiner HDF5 file."
   ]
  },
  {
   "cell_type": "markdown",
   "metadata": {},
   "source": [
    "### A look at distributions"
   ]
  },
  {
   "cell_type": "markdown",
   "metadata": {},
   "source": [
    "Let's see what our MC run produced:"
   ]
  },
  {
   "cell_type": "code",
   "execution_count": 28,
   "metadata": {},
   "outputs": [
    {
     "name": "stderr",
     "output_type": "stream",
     "text": [
      "07:33 madminer.sampling    INFO    Loading data from data/madminer_example_with_data.h5\n",
      "07:33 madminer.sampling    INFO    Found 2 parameters\n",
      "07:33 madminer.sampling    INFO    Did not find nuisance parameters\n",
      "07:33 madminer.sampling    INFO    Found 6 benchmarks, of which 6 physical\n",
      "07:33 madminer.sampling    INFO    Found 2 observables\n",
      "07:33 madminer.sampling    INFO    Found 1018 events\n",
      "07:33 madminer.sampling    INFO    Found morphing setup with 6 components\n"
     ]
    },
    {
     "data": {
      "image/png": "[encoded data removed]",
      "text/plain": [
       "<Figure size 576x288 with 2 Axes>"
      ]
     },
     "metadata": {
      "needs_background": "light"
     },
     "output_type": "display_data"
    }
   ],
   "source": [
    "_ = plot_distributions(\n",
    "    filename='data/madminer_example_with_data.h5',\n",
    "    parameter_points=['sm', np.array([5.,0.])],\n",
    "    line_labels=['SM', 'BSM'],\n",
    "    uncertainties='none',\n",
    "    n_bins=20,\n",
    "    n_cols=2,\n",
    ")"
   ]
  },
  {
   "cell_type": "markdown",
   "metadata": {},
   "source": [
    "## 5. Combine and shuffle different event samples"
   ]
  },
  {
   "cell_type": "markdown",
   "metadata": {},
   "source": [
    "To reduce disk usage, you can generate several small event samples with the steps given above, and combine them now. Note that (for now) it is essential that all of them are generated with the same setup, including the same benchmark points / morphing basis!\n",
    "\n",
    "In our case we only have one sample, so this is not strictly necessary, but we still include it for completeness."
   ]
  },
  {
   "cell_type": "code",
   "execution_count": 29,
   "metadata": {},
   "outputs": [
    {
     "name": "stderr",
     "output_type": "stream",
     "text": [
      "07:33 madminer.sampling    INFO    Copying setup from data/madminer_example_with_data.h5 to data/madminer_example_shuffled.h5\n",
      "07:33 madminer.sampling    INFO    Loading samples from file 1 / 1 at data/madminer_example_with_data.h5, multiplying weights with k factor 1.0\n"
     ]
    }
   ],
   "source": [
    "combine_and_shuffle(\n",
    "    ['data/madminer_example_with_data.h5'],\n",
    "    'data/madminer_example_shuffled.h5'\n",
    ")"
   ]
  },
  {
   "cell_type": "markdown",
   "metadata": {},
   "source": [
    "## 6. Make (unweighted) training and test samples with augmented data"
   ]
  },
  {
   "cell_type": "markdown",
   "metadata": {},
   "source": [
    "At this point, we have all the information we need from MadGraph, Pythia, and Delphes. But the data is not quite ready to be used for machine learning. The `madminer.sampling` class `SampleAugmenter` will take care of the remaining book-keeping steps before we can train our estimators:\n",
    "\n",
    "First, it unweights the samples, i.e. for a given parameter vector `theta` (or a distribution `p(theta)`) it picks events `x` such that their distribution follows `p(x|theta)`. The selected samples will all come from the event file we have so far, but their frequency is changed -- some events will appear multiple times, some will disappear.\n",
    "\n",
    "Second, `SampleAugmenter` calculates all the augmented data (\"gold\") that is the key to our new inference methods. Depending on the specific technique, these are the joint likelihood ratio and / or the joint score. It saves all these pieces of information for the selected events in a set of numpy files that can easily be used in any machine learning framework."
   ]
  },
  {
   "cell_type": "code",
   "execution_count": 30,
   "metadata": {},
   "outputs": [
    {
     "name": "stderr",
     "output_type": "stream",
     "text": [
      "07:33 madminer.sampling    INFO    Loading data from data/madminer_example_shuffled.h5\n",
      "07:33 madminer.sampling    INFO    Found 2 parameters\n",
      "07:33 madminer.sampling    INFO    Did not find nuisance parameters\n",
      "07:33 madminer.sampling    INFO    Found 6 benchmarks, of which 6 physical\n",
      "07:33 madminer.sampling    INFO    Found 2 observables\n",
      "07:33 madminer.sampling    INFO    Found 1018 events\n",
      "07:33 madminer.sampling    INFO    Found morphing setup with 6 components\n"
     ]
    }
   ],
   "source": [
    "sa = SampleAugmenter('data/madminer_example_shuffled.h5')"
   ]
  },
  {
   "cell_type": "markdown",
   "metadata": {},
   "source": [
    "The `SampleAugmenter` class defines five different high-level functions to generate train or test samples:\n",
    "- `extract_samples_train_plain()`, which only saves observations x, for instance for histograms or ABC;\n",
    "- `extract_samples_train_local()` for methods like SALLY and SALLINO, which will be demonstrated in the second part of the tutorial;\n",
    "- `extract_samples_train_ratio()` for techniques like CARL, ROLR, CASCAL, and RASCAL, when only theta0 is parameterized;\n",
    "- `extract_samples_train_more_ratios()` for the same techniques, but with both theta0 and theta1 parameterized;\n",
    "- `extract_samples_test()` for the evaluation of any method.\n",
    "\n",
    "For the arguments `theta`, `theta0`, or `theta1`, you can (and should!) use the helper functions `constant_benchmark_theta()`, `multiple_benchmark_thetas()`, `constant_morphing_theta()`, `multiple_morphing_thetas()`, and `random_morphing_thetas()`, all defined in the `madminer.sampling` module.\n",
    "\n",
    "Here we'll train a likelihood ratio estimator with the ALICES method, so we focus on the `extract_samples_train_ratio()` function."
   ]
  },
  {
   "cell_type": "code",
   "execution_count": 31,
   "metadata": {},
   "outputs": [
    {
     "name": "stderr",
     "output_type": "stream",
     "text": [
      "07:34 madminer.sampling    INFO    Extracting training sample for ratio-based methods. Numerator hypothesis: (u'random', (100, [(u'gaussian', 0.0, 4.0), (u'gaussian', 0.0, 4.0)])), denominator hypothesis: (u'benchmark', u'sm')\n",
      "07:34 madminer.sampling    WARNING Warning: large statistical uncertainty on the total cross section for theta = [-8.6362911   3.91943168]: (0.08593295578132135 +/- 0.07604690777726353) pb\n",
      "07:34 madminer.sampling    WARNING Warning: large statistical uncertainty on the total cross section for theta = [-0.85011818  0.27586565]: (0.011183181897830984 +/- 0.0038421756645266657) pb\n",
      "07:34 madminer.sampling    WARNING Warning: large statistical uncertainty on the total cross section for theta = [6.05726482 0.17536809]: (0.04429203013870813 +/- 0.03426704190068183) pb\n",
      "07:34 madminer.sampling    WARNING Warning: large statistical uncertainty on the total cross section for theta = [3.00798261 1.14065624]: (0.018382456923942758 +/- 0.015514749493659045) pb\n",
      "07:34 madminer.sampling    WARNING Warning: large statistical uncertainty on the total cross section for theta = [0.61421359 0.90550538]: (0.010537432798948006 +/- 0.006622678119831064) pb\n",
      "07:34 madminer.sampling    WARNING Warning: large statistical uncertainty on the total cross section for theta = [-1.61426093 -5.18493963]: (0.015967208989061725 +/- 0.0712209499192453) pb\n",
      "07:34 madminer.sampling    WARNING Warning: large statistical uncertainty on the total cross section for theta = [-5.69607759 -8.15452948]: (0.04987384983063539 +/- 0.12545430951459774) pb\n",
      "07:34 madminer.sampling    WARNING Warning: large statistical uncertainty on the total cross section for theta = [-0.08320235  1.30254011]: (0.010423349044696203 +/- 0.008157345247157869) pb\n",
      "07:34 madminer.sampling    WARNING Warning: large statistical uncertainty on the total cross section for theta = [ 5.74026028 -6.99051959]: (0.04557930624566847 +/- 0.09981145428816757) pb\n",
      "07:34 madminer.sampling    WARNING Warning: large statistical uncertainty on the total cross section for theta = [-0.780136    3.28679833]: (0.011989632719352352 +/- 0.01282045092924151) pb\n",
      "07:34 madminer.sampling    WARNING Warning: large statistical uncertainty on the total cross section for theta = [-1.41971521 -6.22146368]: (0.01651866321130828 +/- 0.09403966853158892) pb\n",
      "07:34 madminer.sampling    WARNING Warning: large statistical uncertainty on the total cross section for theta = [-2.07103621  3.7064178 ]: (0.016133563330846395 +/- 0.015312671829353995) pb\n",
      "07:34 madminer.sampling    WARNING Warning: large statistical uncertainty on the total cross section for theta = [ 0.29301157 -3.96907777]: (0.011920166195902027 +/- 0.05011903533222618) pb\n",
      "07:34 madminer.sampling    WARNING Warning: large statistical uncertainty on the total cross section for theta = [-2.79713576 -3.01771067]: (0.01953663286065179 +/- 0.03097304703425769) pb\n",
      "07:34 madminer.sampling    WARNING Warning: large statistical uncertainty on the total cross section for theta = [ 1.26130911 -3.57679936]: (0.012831283489523098 +/- 0.04296826016743288) pb\n",
      "07:34 madminer.sampling    WARNING Warning: large statistical uncertainty on the total cross section for theta = [-2.17347533  3.73399913]: (0.016598057427560618 +/- 0.015625773123994567) pb\n",
      "07:34 madminer.sampling    WARNING Warning: large statistical uncertainty on the total cross section for theta = [ 1.50959433 -3.53284767]: (0.013402241321750243 +/- 0.04197881885824026) pb\n",
      "07:34 madminer.sampling    WARNING Warning: large statistical uncertainty on the total cross section for theta = [-5.07133749  0.45291568]: (0.036443046884488156 +/- 0.029756183214304052) pb\n",
      "07:34 madminer.sampling    WARNING Warning: large statistical uncertainty on the total cross section for theta = [-2.72812402  5.3053795 ]: (0.020673554736348212 +/- 0.0129059208645079) pb\n",
      "07:34 madminer.sampling    WARNING Warning: large statistical uncertainty on the total cross section for theta = [-0.73109591  2.57738917]: (0.011528573960132394 +/- 0.01234826339167117) pb\n",
      "07:34 madminer.sampling    WARNING Warning: large statistical uncertainty on the total cross section for theta = [ 4.63980406 -3.70911107]: (0.031362651864388094 +/- 0.0383131404604332) pb\n",
      "07:34 madminer.sampling    WARNING Warning: large statistical uncertainty on the total cross section for theta = [ 5.33941572 -0.46953078]: (0.03657884632874136 +/- 0.024604114315017397) pb\n",
      "07:34 madminer.sampling    WARNING Warning: large statistical uncertainty on the total cross section for theta = [ 2.1090832  -2.45987033]: (0.014701453142260595 +/- 0.025151470728102553) pb\n",
      "07:34 madminer.sampling    WARNING Warning: large statistical uncertainty on the total cross section for theta = [1.36410445 1.0484072 ]: (0.011811468555544812 +/- 0.008826483889499167) pb\n",
      "07:34 madminer.sampling    WARNING Warning: large statistical uncertainty on the total cross section for theta = [5.65694862 1.14441334]: (0.03995640073964106 +/- 0.03448088022599468) pb\n",
      "07:34 madminer.sampling    WARNING Warning: large statistical uncertainty on the total cross section for theta = [ 5.29705246 -2.38585231]: (0.03671603356529025 +/- 0.023537742078643727) pb\n",
      "07:34 madminer.sampling    WARNING Warning: large statistical uncertainty on the total cross section for theta = [10.55170224  8.01546997]: (0.12158933585320712 +/- 0.08055549813187764) pb\n",
      "07:34 madminer.sampling    WARNING Warning: large statistical uncertainty on the total cross section for theta = [-2.94291405  8.42924512]: (0.02591759684059298 +/- 0.02032823164977506) pb\n",
      "07:34 madminer.sampling    WARNING Warning: large statistical uncertainty on the total cross section for theta = [-7.03819373  4.00911738]: (0.061356190224004035 +/- 0.05398536344900208) pb\n",
      "07:34 madminer.sampling    WARNING Warning: large statistical uncertainty on the total cross section for theta = [ 7.28632017 -1.69241386]: (0.06016658584118417 +/- 0.038377917830873756) pb\n",
      "07:34 madminer.sampling    WARNING Warning: large statistical uncertainty on the total cross section for theta = [-8.44187628 -5.58496014]: (0.08467305359703411 +/- 0.06399700844154467) pb\n",
      "07:34 madminer.sampling    WARNING Warning: large statistical uncertainty on the total cross section for theta = [1.85147944 3.13700914]: (0.013994655572061115 +/- 0.015386289080837895) pb\n",
      "07:34 madminer.sampling    WARNING Warning: large statistical uncertainty on the total cross section for theta = [0.52545164 0.49845938]: (0.010418504320662669 +/- 0.004258098563994483) pb\n",
      "07:34 madminer.sampling    WARNING Warning: large statistical uncertainty on the total cross section for theta = [ 1.14274802 -3.05558363]: (0.012238192484882969 +/- 0.03480441815534363) pb\n",
      "07:34 madminer.sampling    WARNING Warning: large statistical uncertainty on the total cross section for theta = [2.23977949 2.91635892]: (0.01531606548525511 +/- 0.016540590501425055) pb\n",
      "07:34 madminer.sampling    WARNING Warning: large statistical uncertainty on the total cross section for theta = [-2.99734315  0.20787936]: (0.01971670503736877 +/- 0.013069296987752402) pb\n",
      "07:34 madminer.sampling    WARNING Warning: large statistical uncertainty on the total cross section for theta = [-7.74298536  0.59595019]: (0.07026621618977155 +/- 0.060927010832683925) pb\n",
      "07:34 madminer.sampling    WARNING Warning: large statistical uncertainty on the total cross section for theta = [6.39809886 8.98625823]: (0.05594712439748715 +/- 0.023267666615592597) pb\n",
      "07:34 madminer.sampling    WARNING Warning: large statistical uncertainty on the total cross section for theta = [-8.48480444  3.5795133 ]: (0.0831566602172864 +/- 0.07449725207824483) pb\n",
      "07:34 madminer.sampling    WARNING Warning: large statistical uncertainty on the total cross section for theta = [1.10663549 0.37327189]: (0.011185806364659833 +/- 0.0048313994014570726) pb\n",
      "07:34 madminer.sampling    WARNING Warning: large statistical uncertainty on the total cross section for theta = [-2.79449002  7.40046776]: (0.023529161156822263 +/- 0.010437696085517291) pb\n",
      "07:34 madminer.sampling    WARNING Warning: large statistical uncertainty on the total cross section for theta = [-4.01759771  1.37147223]: (0.02703148533940688 +/- 0.023968905156277334) pb\n",
      "07:34 madminer.sampling    WARNING Warning: large statistical uncertainty on the total cross section for theta = [6.92765623 5.92509847]: (0.05831041768595953 +/- 0.04305758982184742) pb\n"
     ]
    },
    {
     "name": "stderr",
     "output_type": "stream",
     "text": [
      "07:34 madminer.sampling    WARNING Warning: large statistical uncertainty on the total cross section for theta = [ 2.62449538 -4.06306025]: (0.017979461624987397 +/- 0.0491080675802468) pb\n",
      "07:34 madminer.sampling    WARNING Warning: large statistical uncertainty on the total cross section for theta = [-2.33990147 -9.37146108]: (0.024955131014667703 +/- 0.17610129701453311) pb\n",
      "07:34 madminer.sampling    WARNING Warning: large statistical uncertainty on the total cross section for theta = [-5.5611402  -4.04086391]: (0.04335649826277816 +/- 0.04127714385499459) pb\n",
      "07:34 madminer.sampling    WARNING Warning: large statistical uncertainty on the total cross section for theta = [-0.89842759  1.49451899]: (0.011444525403412516 +/- 0.00973959521402008) pb\n",
      "07:34 madminer.sampling    WARNING Warning: large statistical uncertainty on the total cross section for theta = [-4.19394339 -1.52848465]: (0.028638584261521313 +/- 0.01812214450060083) pb\n",
      "07:34 madminer.sampling    WARNING Warning: large statistical uncertainty on the total cross section for theta = [3.5736037  2.75362447]: (0.02241588992574982 +/- 0.022547293740162323) pb\n",
      "07:34 madminer.sampling    WARNING Warning: large statistical uncertainty on the total cross section for theta = [2.70302556 2.05109181]: (0.017028473015043004 +/- 0.01701932139122842) pb\n",
      "07:34 madminer.sampling    WARNING Warning: large statistical uncertainty on the total cross section for theta = [2.70832901 1.01732543]: (0.016775110763829083 +/- 0.013564461963077677) pb\n",
      "07:34 madminer.sampling    WARNING Warning: large statistical uncertainty on the total cross section for theta = [ 0.70527769 -1.08626275]: (0.010724342003102034 +/- 0.009990235770247375) pb\n",
      "07:34 madminer.sampling    WARNING Warning: large statistical uncertainty on the total cross section for theta = [3.21404732 8.38714651]: (0.02605033719637169 +/- 0.019646605668086334) pb\n",
      "07:34 madminer.sampling    WARNING Warning: large statistical uncertainty on the total cross section for theta = [4.93715857 0.91170646]: (0.03270825311427618 +/- 0.027320394944493384) pb\n",
      "07:34 madminer.sampling    WARNING Warning: large statistical uncertainty on the total cross section for theta = [ 3.18937082 -4.92631761]: (0.02178114769637165 +/- 0.06381750746052306) pb\n",
      "07:34 madminer.sampling    WARNING Warning: large statistical uncertainty on the total cross section for theta = [ 1.81998128 -0.29111031]: (0.013042682873802804 +/- 0.005534289701371612) pb\n",
      "07:34 madminer.sampling    WARNING Warning: large statistical uncertainty on the total cross section for theta = [-1.92285852  1.90771264]: (0.014616025790124361 +/- 0.01378931711628203) pb\n",
      "07:34 madminer.sampling    WARNING Warning: large statistical uncertainty on the total cross section for theta = [-2.71632415  4.60416269]: (0.0199655218604948 +/- 0.015640630033730292) pb\n",
      "07:34 madminer.sampling    WARNING Warning: large statistical uncertainty on the total cross section for theta = [-3.00883519  6.3784885 ]: (0.023466294951383533 +/- 0.009335281039133744) pb\n",
      "07:34 madminer.sampling    WARNING Warning: large statistical uncertainty on the total cross section for theta = [ 1.69432601 -3.02329329]: (0.013592357358519092 +/- 0.03373714943738467) pb\n",
      "07:34 madminer.sampling    WARNING Warning: large statistical uncertainty on the total cross section for theta = [ 5.64751019 -2.14660071]: (0.040232246638486555 +/- 0.023995422125366095) pb\n",
      "07:34 madminer.sampling    WARNING Warning: large statistical uncertainty on the total cross section for theta = [ 4.68916093 -4.61311562]: (0.03253847212353758 +/- 0.053280303493509845) pb\n",
      "07:34 madminer.sampling    WARNING Warning: large statistical uncertainty on the total cross section for theta = [2.75151257 1.54633923]: (0.017110310476801997 +/- 0.015768047031745055) pb\n",
      "07:34 madminer.sampling    WARNING Warning: large statistical uncertainty on the total cross section for theta = [ 2.80920852 -2.32708542]: (0.017792920401390154 +/- 0.02246012825356836) pb\n",
      "07:34 madminer.sampling    WARNING Warning: large statistical uncertainty on the total cross section for theta = [-5.12203572  0.65708423]: (0.036969182720059224 +/- 0.030970432283622354) pb\n",
      "07:34 madminer.sampling    WARNING Warning: large statistical uncertainty on the total cross section for theta = [-6.66100189  3.8775707 ]: (0.05616802925644469 +/- 0.049784487651359205) pb\n",
      "07:34 madminer.sampling    WARNING Warning: large statistical uncertainty on the total cross section for theta = [ 0.33966042 -0.41147326]: (0.010328805765890578 +/- 0.0038180341649678732) pb\n",
      "07:34 madminer.sampling    WARNING Warning: large statistical uncertainty on the total cross section for theta = [6.06075613 1.20128915]: (0.04445061939362484 +/- 0.03857774223948353) pb\n",
      "07:34 madminer.sampling    WARNING Warning: large statistical uncertainty on the total cross section for theta = [-0.88613177 -0.61059761]: (0.011310488094324373 +/- 0.00554828965297417) pb\n",
      "07:34 madminer.sampling    WARNING Warning: large statistical uncertainty on the total cross section for theta = [ 0.94045661 -2.50216837]: (0.011569888252998276 +/- 0.026908481400845292) pb\n",
      "07:34 madminer.sampling    WARNING Warning: large statistical uncertainty on the total cross section for theta = [-3.97647312 -4.41327663]: (0.02862895679716132 +/- 0.05013825954875933) pb\n",
      "07:34 madminer.sampling    WARNING Warning: large statistical uncertainty on the total cross section for theta = [8.72350203 1.28525422]: (0.08193425589647216 +/- 0.07140919465475133) pb\n",
      "07:34 madminer.sampling    WARNING Warning: large statistical uncertainty on the total cross section for theta = [-5.66846423 -0.08837487]: (0.04280623841970642 +/- 0.03345461261393088) pb\n",
      "07:34 madminer.sampling    WARNING Warning: large statistical uncertainty on the total cross section for theta = [4.25930606 1.03560725]: (0.02685988156891865 +/- 0.02266239331795114) pb\n",
      "07:34 madminer.sampling    WARNING Warning: large statistical uncertainty on the total cross section for theta = [ 0.6226648 -2.6278622]: (0.011235730164421389 +/- 0.028815492808466063) pb\n",
      "07:34 madminer.sampling    WARNING Warning: large statistical uncertainty on the total cross section for theta = [-2.72827751  9.75730504]: (0.026965719484888892 +/- 0.03999025930981226) pb\n",
      "07:34 madminer.sampling    WARNING Warning: large statistical uncertainty on the total cross section for theta = [3.05316928 3.02829222]: (0.019349053412723465 +/- 0.019985528147277495) pb\n",
      "07:34 madminer.sampling    WARNING Warning: large statistical uncertainty on the total cross section for theta = [ 2.30375182 -3.57980258]: (0.01616370555119989 +/- 0.04154167293998571) pb\n",
      "07:34 madminer.sampling    WARNING Warning: large statistical uncertainty on the total cross section for theta = [2.46710351 0.69472721]: (0.015580739538126139 +/- 0.011083519912418146) pb\n",
      "07:34 madminer.sampling    WARNING Warning: large statistical uncertainty on the total cross section for theta = [3.79870797 1.49708406]: (0.023481856781144686 +/- 0.021252974402425268) pb\n",
      "07:34 madminer.sampling    WARNING Warning: large statistical uncertainty on the total cross section for theta = [6.09680985 3.35893819]: (0.04577696646293301 +/- 0.04224175470279165) pb\n",
      "07:34 madminer.sampling    WARNING Warning: large statistical uncertainty on the total cross section for theta = [ 0.20490364 -3.62132345]: (0.011635700418361324 +/- 0.04418127857917588) pb\n",
      "07:34 madminer.sampling    WARNING Warning: large statistical uncertainty on the total cross section for theta = [ 1.04058154 -2.69466307]: (0.011838239958491332 +/- 0.029553212397681845) pb\n",
      "07:34 madminer.sampling    WARNING Warning: large statistical uncertainty on the total cross section for theta = [4.51453631 2.97207135]: (0.02967270544070515 +/- 0.028743926011063497) pb\n",
      "07:34 madminer.sampling    WARNING Warning: large statistical uncertainty on the total cross section for theta = [-0.68567927  1.89178464]: (0.01118246070383667 +/- 0.010783078864794496) pb\n",
      "07:34 madminer.sampling    WARNING Warning: large statistical uncertainty on the total cross section for theta = [-3.20952915  4.64808913]: (0.022950962326219224 +/- 0.017916668272184178) pb\n",
      "07:34 madminer.sampling    WARNING Warning: large statistical uncertainty on the total cross section for theta = [ 6.04711771 -8.9798877 ]: (0.05209363887169212 +/- 0.15202545796136166) pb\n"
     ]
    },
    {
     "name": "stderr",
     "output_type": "stream",
     "text": [
      "07:34 madminer.sampling    WARNING Warning: large statistical uncertainty on the total cross section for theta = [-3.66588456  3.48703149]: (0.025234471722898378 +/- 0.02339969740280194) pb\n",
      "07:34 madminer.sampling    WARNING Warning: large statistical uncertainty on the total cross section for theta = [-1.09437156  3.70205387]: (0.012901589036557203 +/- 0.012935682298974639) pb\n",
      "07:34 madminer.sampling    WARNING Warning: large statistical uncertainty on the total cross section for theta = [ 2.30748751 -2.40170718]: (0.015470678732317287 +/- 0.024108571445788547) pb\n",
      "07:34 madminer.sampling    WARNING Warning: large statistical uncertainty on the total cross section for theta = [-2.50827669 -5.6000567 ]: (0.020216099125363513 +/- 0.07766720211052011) pb\n",
      "07:34 madminer.sampling    WARNING Warning: large statistical uncertainty on the total cross section for theta = [-0.64904819  6.82186054]: (0.015102703855200614 +/- 0.009025934228010882) pb\n",
      "07:34 madminer.sampling    WARNING Warning: large statistical uncertainty on the total cross section for theta = [-5.22724151  3.92806386]: (0.03935337591570602 +/- 0.034757271758106674) pb\n",
      "07:34 madminer.sampling    WARNING Warning: large statistical uncertainty on the total cross section for theta = [-6.86234931  3.89320827]: (0.058864167755123736 +/- 0.05212902499867104) pb\n",
      "07:34 madminer.sampling    WARNING Warning: large statistical uncertainty on the total cross section for theta = [ 4.05888512 -1.49612816]: (0.025462058289054686 +/- 0.015298768051045412) pb\n",
      "07:34 madminer.sampling    WARNING Warning: large statistical uncertainty on the total cross section for theta = [-4.13941996 -7.17004077]: (0.033137999696187845 +/- 0.10785015554135095) pb\n",
      "07:34 madminer.sampling    WARNING Warning: large statistical uncertainty on the total cross section for theta = [-6.02016532 -0.68036037]: (0.04694515412086252 +/- 0.034672392754312414) pb\n",
      "07:34 madminer.sampling    WARNING Warning: large statistical uncertainty on the total cross section for theta = [0.98355556 3.73494499]: (0.01220062094034205 +/- 0.013180205753329422) pb\n",
      "07:34 madminer.sampling    WARNING Warning: large statistical uncertainty on the total cross section for theta = [-1.76853128 -7.95611322]: (0.020116267619879308 +/- 0.13676690265968922) pb\n",
      "07:34 madminer.sampling    WARNING Warning: large statistical uncertainty on the total cross section for theta = [-2.19642191 -7.47059604]: (0.021135008973468733 +/- 0.12271688001627819) pb\n",
      "07:34 madminer.sampling    INFO    Effective number of samples: mean 7.100055249063912, with individual thetas ranging from 1.2711126397532 to 49.90243093780483\n",
      "07:34 madminer.sampling    WARNING Warning: large statistical uncertainty on the total cross section for theta = [0. 0.]: (0.01027308101999995 +/- 0.001511271117152794) pb\n",
      "07:34 madminer.sampling    WARNING Warning: large statistical uncertainty on the total cross section for theta = [0. 0.]: (0.01027308101999995 +/- 0.001511271117152794) pb\n",
      "07:34 madminer.sampling    WARNING Warning: large statistical uncertainty on the total cross section for theta = [0. 0.]: (0.01027308101999995 +/- 0.001511271117152794) pb\n",
      "07:34 madminer.sampling    WARNING Warning: large statistical uncertainty on the total cross section for theta = [0. 0.]: (0.01027308101999995 +/- 0.001511271117152794) pb\n",
      "07:34 madminer.sampling    WARNING Warning: large statistical uncertainty on the total cross section for theta = [0. 0.]: (0.01027308101999995 +/- 0.001511271117152794) pb\n",
      "07:34 madminer.sampling    WARNING Warning: large statistical uncertainty on the total cross section for theta = [0. 0.]: (0.01027308101999995 +/- 0.001511271117152794) pb\n",
      "07:34 madminer.sampling    WARNING Warning: large statistical uncertainty on the total cross section for theta = [0. 0.]: (0.01027308101999995 +/- 0.001511271117152794) pb\n",
      "07:34 madminer.sampling    WARNING Warning: large statistical uncertainty on the total cross section for theta = [0. 0.]: (0.01027308101999995 +/- 0.001511271117152794) pb\n",
      "07:34 madminer.sampling    WARNING Warning: large statistical uncertainty on the total cross section for theta = [0. 0.]: (0.01027308101999995 +/- 0.001511271117152794) pb\n",
      "07:34 madminer.sampling    WARNING Warning: large statistical uncertainty on the total cross section for theta = [0. 0.]: (0.01027308101999995 +/- 0.001511271117152794) pb\n",
      "07:34 madminer.sampling    WARNING Warning: large statistical uncertainty on the total cross section for theta = [0. 0.]: (0.01027308101999995 +/- 0.001511271117152794) pb\n",
      "07:34 madminer.sampling    WARNING Warning: large statistical uncertainty on the total cross section for theta = [0. 0.]: (0.01027308101999995 +/- 0.001511271117152794) pb\n",
      "07:34 madminer.sampling    WARNING Warning: large statistical uncertainty on the total cross section for theta = [0. 0.]: (0.01027308101999995 +/- 0.001511271117152794) pb\n",
      "07:34 madminer.sampling    WARNING Warning: large statistical uncertainty on the total cross section for theta = [0. 0.]: (0.01027308101999995 +/- 0.001511271117152794) pb\n",
      "07:34 madminer.sampling    WARNING Warning: large statistical uncertainty on the total cross section for theta = [0. 0.]: (0.01027308101999995 +/- 0.001511271117152794) pb\n",
      "07:34 madminer.sampling    WARNING Warning: large statistical uncertainty on the total cross section for theta = [0. 0.]: (0.01027308101999995 +/- 0.001511271117152794) pb\n",
      "07:34 madminer.sampling    WARNING Warning: large statistical uncertainty on the total cross section for theta = [0. 0.]: (0.01027308101999995 +/- 0.001511271117152794) pb\n",
      "07:34 madminer.sampling    WARNING Warning: large statistical uncertainty on the total cross section for theta = [0. 0.]: (0.01027308101999995 +/- 0.001511271117152794) pb\n",
      "07:34 madminer.sampling    WARNING Warning: large statistical uncertainty on the total cross section for theta = [0. 0.]: (0.01027308101999995 +/- 0.001511271117152794) pb\n",
      "07:34 madminer.sampling    WARNING Warning: large statistical uncertainty on the total cross section for theta = [0. 0.]: (0.01027308101999995 +/- 0.001511271117152794) pb\n",
      "07:34 madminer.sampling    WARNING Warning: large statistical uncertainty on the total cross section for theta = [0. 0.]: (0.01027308101999995 +/- 0.001511271117152794) pb\n",
      "07:34 madminer.sampling    WARNING Warning: large statistical uncertainty on the total cross section for theta = [0. 0.]: (0.01027308101999995 +/- 0.001511271117152794) pb\n",
      "07:34 madminer.sampling    WARNING Warning: large statistical uncertainty on the total cross section for theta = [0. 0.]: (0.01027308101999995 +/- 0.001511271117152794) pb\n",
      "07:34 madminer.sampling    WARNING Warning: large statistical uncertainty on the total cross section for theta = [0. 0.]: (0.01027308101999995 +/- 0.001511271117152794) pb\n",
      "07:34 madminer.sampling    WARNING Warning: large statistical uncertainty on the total cross section for theta = [0. 0.]: (0.01027308101999995 +/- 0.001511271117152794) pb\n",
      "07:34 madminer.sampling    WARNING Warning: large statistical uncertainty on the total cross section for theta = [0. 0.]: (0.01027308101999995 +/- 0.001511271117152794) pb\n",
      "07:34 madminer.sampling    WARNING Warning: large statistical uncertainty on the total cross section for theta = [0. 0.]: (0.01027308101999995 +/- 0.001511271117152794) pb\n",
      "07:34 madminer.sampling    WARNING Warning: large statistical uncertainty on the total cross section for theta = [0. 0.]: (0.01027308101999995 +/- 0.001511271117152794) pb\n",
      "07:34 madminer.sampling    WARNING Warning: large statistical uncertainty on the total cross section for theta = [0. 0.]: (0.01027308101999995 +/- 0.001511271117152794) pb\n",
      "07:34 madminer.sampling    WARNING Warning: large statistical uncertainty on the total cross section for theta = [0. 0.]: (0.01027308101999995 +/- 0.001511271117152794) pb\n",
      "07:34 madminer.sampling    WARNING Warning: large statistical uncertainty on the total cross section for theta = [0. 0.]: (0.01027308101999995 +/- 0.001511271117152794) pb\n",
      "07:34 madminer.sampling    WARNING Warning: large statistical uncertainty on the total cross section for theta = [0. 0.]: (0.01027308101999995 +/- 0.001511271117152794) pb\n",
      "07:34 madminer.sampling    WARNING Warning: large statistical uncertainty on the total cross section for theta = [0. 0.]: (0.01027308101999995 +/- 0.001511271117152794) pb\n"
     ]
    },
    {
     "name": "stderr",
     "output_type": "stream",
     "text": [
      "07:34 madminer.sampling    WARNING Warning: large statistical uncertainty on the total cross section for theta = [0. 0.]: (0.01027308101999995 +/- 0.001511271117152794) pb\n",
      "07:34 madminer.sampling    WARNING Warning: large statistical uncertainty on the total cross section for theta = [0. 0.]: (0.01027308101999995 +/- 0.001511271117152794) pb\n",
      "07:34 madminer.sampling    WARNING Warning: large statistical uncertainty on the total cross section for theta = [0. 0.]: (0.01027308101999995 +/- 0.001511271117152794) pb\n",
      "07:34 madminer.sampling    WARNING Warning: large statistical uncertainty on the total cross section for theta = [0. 0.]: (0.01027308101999995 +/- 0.001511271117152794) pb\n",
      "07:34 madminer.sampling    WARNING Warning: large statistical uncertainty on the total cross section for theta = [0. 0.]: (0.01027308101999995 +/- 0.001511271117152794) pb\n",
      "07:34 madminer.sampling    WARNING Warning: large statistical uncertainty on the total cross section for theta = [0. 0.]: (0.01027308101999995 +/- 0.001511271117152794) pb\n",
      "07:34 madminer.sampling    WARNING Warning: large statistical uncertainty on the total cross section for theta = [0. 0.]: (0.01027308101999995 +/- 0.001511271117152794) pb\n",
      "07:34 madminer.sampling    WARNING Warning: large statistical uncertainty on the total cross section for theta = [0. 0.]: (0.01027308101999995 +/- 0.001511271117152794) pb\n",
      "07:34 madminer.sampling    WARNING Warning: large statistical uncertainty on the total cross section for theta = [0. 0.]: (0.01027308101999995 +/- 0.001511271117152794) pb\n",
      "07:34 madminer.sampling    WARNING Warning: large statistical uncertainty on the total cross section for theta = [0. 0.]: (0.01027308101999995 +/- 0.001511271117152794) pb\n",
      "07:34 madminer.sampling    WARNING Warning: large statistical uncertainty on the total cross section for theta = [0. 0.]: (0.01027308101999995 +/- 0.001511271117152794) pb\n",
      "07:34 madminer.sampling    WARNING Warning: large statistical uncertainty on the total cross section for theta = [0. 0.]: (0.01027308101999995 +/- 0.001511271117152794) pb\n",
      "07:34 madminer.sampling    WARNING Warning: large statistical uncertainty on the total cross section for theta = [0. 0.]: (0.01027308101999995 +/- 0.001511271117152794) pb\n",
      "07:34 madminer.sampling    WARNING Warning: large statistical uncertainty on the total cross section for theta = [0. 0.]: (0.01027308101999995 +/- 0.001511271117152794) pb\n",
      "07:34 madminer.sampling    WARNING Warning: large statistical uncertainty on the total cross section for theta = [0. 0.]: (0.01027308101999995 +/- 0.001511271117152794) pb\n",
      "07:34 madminer.sampling    WARNING Warning: large statistical uncertainty on the total cross section for theta = [0. 0.]: (0.01027308101999995 +/- 0.001511271117152794) pb\n",
      "07:34 madminer.sampling    WARNING Warning: large statistical uncertainty on the total cross section for theta = [0. 0.]: (0.01027308101999995 +/- 0.001511271117152794) pb\n",
      "07:34 madminer.sampling    WARNING Warning: large statistical uncertainty on the total cross section for theta = [0. 0.]: (0.01027308101999995 +/- 0.001511271117152794) pb\n",
      "07:34 madminer.sampling    WARNING Warning: large statistical uncertainty on the total cross section for theta = [0. 0.]: (0.01027308101999995 +/- 0.001511271117152794) pb\n",
      "07:34 madminer.sampling    WARNING Warning: large statistical uncertainty on the total cross section for theta = [0. 0.]: (0.01027308101999995 +/- 0.001511271117152794) pb\n",
      "07:34 madminer.sampling    WARNING Warning: large statistical uncertainty on the total cross section for theta = [0. 0.]: (0.01027308101999995 +/- 0.001511271117152794) pb\n",
      "07:34 madminer.sampling    WARNING Warning: large statistical uncertainty on the total cross section for theta = [0. 0.]: (0.01027308101999995 +/- 0.001511271117152794) pb\n",
      "07:34 madminer.sampling    WARNING Warning: large statistical uncertainty on the total cross section for theta = [0. 0.]: (0.01027308101999995 +/- 0.001511271117152794) pb\n",
      "07:34 madminer.sampling    WARNING Warning: large statistical uncertainty on the total cross section for theta = [0. 0.]: (0.01027308101999995 +/- 0.001511271117152794) pb\n",
      "07:34 madminer.sampling    WARNING Warning: large statistical uncertainty on the total cross section for theta = [0. 0.]: (0.01027308101999995 +/- 0.001511271117152794) pb\n",
      "07:34 madminer.sampling    WARNING Warning: large statistical uncertainty on the total cross section for theta = [0. 0.]: (0.01027308101999995 +/- 0.001511271117152794) pb\n",
      "07:34 madminer.sampling    WARNING Warning: large statistical uncertainty on the total cross section for theta = [0. 0.]: (0.01027308101999995 +/- 0.001511271117152794) pb\n",
      "07:34 madminer.sampling    WARNING Warning: large statistical uncertainty on the total cross section for theta = [0. 0.]: (0.01027308101999995 +/- 0.001511271117152794) pb\n",
      "07:34 madminer.sampling    WARNING Warning: large statistical uncertainty on the total cross section for theta = [0. 0.]: (0.01027308101999995 +/- 0.001511271117152794) pb\n",
      "07:34 madminer.sampling    WARNING Warning: large statistical uncertainty on the total cross section for theta = [0. 0.]: (0.01027308101999995 +/- 0.001511271117152794) pb\n",
      "07:34 madminer.sampling    WARNING Warning: large statistical uncertainty on the total cross section for theta = [0. 0.]: (0.01027308101999995 +/- 0.001511271117152794) pb\n",
      "07:34 madminer.sampling    WARNING Warning: large statistical uncertainty on the total cross section for theta = [0. 0.]: (0.01027308101999995 +/- 0.001511271117152794) pb\n",
      "07:34 madminer.sampling    WARNING Warning: large statistical uncertainty on the total cross section for theta = [0. 0.]: (0.01027308101999995 +/- 0.001511271117152794) pb\n",
      "07:34 madminer.sampling    WARNING Warning: large statistical uncertainty on the total cross section for theta = [0. 0.]: (0.01027308101999995 +/- 0.001511271117152794) pb\n",
      "07:34 madminer.sampling    WARNING Warning: large statistical uncertainty on the total cross section for theta = [0. 0.]: (0.01027308101999995 +/- 0.001511271117152794) pb\n",
      "07:34 madminer.sampling    WARNING Warning: large statistical uncertainty on the total cross section for theta = [0. 0.]: (0.01027308101999995 +/- 0.001511271117152794) pb\n",
      "07:34 madminer.sampling    WARNING Warning: large statistical uncertainty on the total cross section for theta = [0. 0.]: (0.01027308101999995 +/- 0.001511271117152794) pb\n",
      "07:34 madminer.sampling    WARNING Warning: large statistical uncertainty on the total cross section for theta = [0. 0.]: (0.01027308101999995 +/- 0.001511271117152794) pb\n",
      "07:34 madminer.sampling    WARNING Warning: large statistical uncertainty on the total cross section for theta = [0. 0.]: (0.01027308101999995 +/- 0.001511271117152794) pb\n",
      "07:34 madminer.sampling    WARNING Warning: large statistical uncertainty on the total cross section for theta = [0. 0.]: (0.01027308101999995 +/- 0.001511271117152794) pb\n",
      "07:34 madminer.sampling    WARNING Warning: large statistical uncertainty on the total cross section for theta = [0. 0.]: (0.01027308101999995 +/- 0.001511271117152794) pb\n",
      "07:34 madminer.sampling    WARNING Warning: large statistical uncertainty on the total cross section for theta = [0. 0.]: (0.01027308101999995 +/- 0.001511271117152794) pb\n",
      "07:34 madminer.sampling    WARNING Warning: large statistical uncertainty on the total cross section for theta = [0. 0.]: (0.01027308101999995 +/- 0.001511271117152794) pb\n",
      "07:34 madminer.sampling    WARNING Warning: large statistical uncertainty on the total cross section for theta = [0. 0.]: (0.01027308101999995 +/- 0.001511271117152794) pb\n",
      "07:34 madminer.sampling    WARNING Warning: large statistical uncertainty on the total cross section for theta = [0. 0.]: (0.01027308101999995 +/- 0.001511271117152794) pb\n",
      "07:34 madminer.sampling    WARNING Warning: large statistical uncertainty on the total cross section for theta = [0. 0.]: (0.01027308101999995 +/- 0.001511271117152794) pb\n",
      "07:34 madminer.sampling    WARNING Warning: large statistical uncertainty on the total cross section for theta = [0. 0.]: (0.01027308101999995 +/- 0.001511271117152794) pb\n",
      "07:34 madminer.sampling    WARNING Warning: large statistical uncertainty on the total cross section for theta = [0. 0.]: (0.01027308101999995 +/- 0.001511271117152794) pb\n"
     ]
    },
    {
     "name": "stderr",
     "output_type": "stream",
     "text": [
      "07:34 madminer.sampling    WARNING Warning: large statistical uncertainty on the total cross section for theta = [0. 0.]: (0.01027308101999995 +/- 0.001511271117152794) pb\n",
      "07:34 madminer.sampling    WARNING Warning: large statistical uncertainty on the total cross section for theta = [0. 0.]: (0.01027308101999995 +/- 0.001511271117152794) pb\n",
      "07:34 madminer.sampling    WARNING Warning: large statistical uncertainty on the total cross section for theta = [0. 0.]: (0.01027308101999995 +/- 0.001511271117152794) pb\n",
      "07:34 madminer.sampling    WARNING Warning: large statistical uncertainty on the total cross section for theta = [0. 0.]: (0.01027308101999995 +/- 0.001511271117152794) pb\n",
      "07:34 madminer.sampling    WARNING Warning: large statistical uncertainty on the total cross section for theta = [0. 0.]: (0.01027308101999995 +/- 0.001511271117152794) pb\n",
      "07:34 madminer.sampling    WARNING Warning: large statistical uncertainty on the total cross section for theta = [0. 0.]: (0.01027308101999995 +/- 0.001511271117152794) pb\n",
      "07:34 madminer.sampling    WARNING Warning: large statistical uncertainty on the total cross section for theta = [0. 0.]: (0.01027308101999995 +/- 0.001511271117152794) pb\n",
      "07:34 madminer.sampling    WARNING Warning: large statistical uncertainty on the total cross section for theta = [0. 0.]: (0.01027308101999995 +/- 0.001511271117152794) pb\n",
      "07:34 madminer.sampling    WARNING Warning: large statistical uncertainty on the total cross section for theta = [0. 0.]: (0.01027308101999995 +/- 0.001511271117152794) pb\n",
      "07:34 madminer.sampling    WARNING Warning: large statistical uncertainty on the total cross section for theta = [0. 0.]: (0.01027308101999995 +/- 0.001511271117152794) pb\n",
      "07:34 madminer.sampling    WARNING Warning: large statistical uncertainty on the total cross section for theta = [0. 0.]: (0.01027308101999995 +/- 0.001511271117152794) pb\n",
      "07:34 madminer.sampling    WARNING Warning: large statistical uncertainty on the total cross section for theta = [0. 0.]: (0.01027308101999995 +/- 0.001511271117152794) pb\n",
      "07:34 madminer.sampling    WARNING Warning: large statistical uncertainty on the total cross section for theta = [0. 0.]: (0.01027308101999995 +/- 0.001511271117152794) pb\n",
      "07:34 madminer.sampling    WARNING Warning: large statistical uncertainty on the total cross section for theta = [0. 0.]: (0.01027308101999995 +/- 0.001511271117152794) pb\n",
      "07:34 madminer.sampling    WARNING Warning: large statistical uncertainty on the total cross section for theta = [0. 0.]: (0.01027308101999995 +/- 0.001511271117152794) pb\n",
      "07:34 madminer.sampling    WARNING Warning: large statistical uncertainty on the total cross section for theta = [0. 0.]: (0.01027308101999995 +/- 0.001511271117152794) pb\n",
      "07:34 madminer.sampling    WARNING Warning: large statistical uncertainty on the total cross section for theta = [0. 0.]: (0.01027308101999995 +/- 0.001511271117152794) pb\n",
      "07:34 madminer.sampling    WARNING Warning: large statistical uncertainty on the total cross section for theta = [0. 0.]: (0.01027308101999995 +/- 0.001511271117152794) pb\n",
      "07:34 madminer.sampling    WARNING Warning: large statistical uncertainty on the total cross section for theta = [0. 0.]: (0.01027308101999995 +/- 0.001511271117152794) pb\n",
      "07:34 madminer.sampling    INFO    Effective number of samples: mean 44.05851798229939, with individual thetas ranging from 44.0585179822994 to 44.0585179822994\n"
     ]
    }
   ],
   "source": [
    "x, theta0, theta1, y, r_xz, t_xz = sa.extract_samples_train_ratio(\n",
    "    theta0=random_morphing_thetas(100, [('gaussian', 0., 4.), ('gaussian', 0., 4.)]),\n",
    "    theta1=constant_benchmark_theta('sm'),\n",
    "    n_samples=10000,\n",
    "    folder='./data/samples',\n",
    "    filename='train'\n",
    ")"
   ]
  },
  {
   "cell_type": "markdown",
   "metadata": {},
   "source": [
    "For the evaluation we'll need a test sample, and we'll make two just for fun:"
   ]
  },
  {
   "cell_type": "code",
   "execution_count": 32,
   "metadata": {
    "scrolled": true
   },
   "outputs": [
    {
     "name": "stderr",
     "output_type": "stream",
     "text": [
      "07:34 madminer.sampling    INFO    Extracting evaluation sample. Sampling according to (u'benchmark', u'sm')\n",
      "07:34 madminer.sampling    WARNING Warning: large statistical uncertainty on the total cross section for theta = [0. 0.]: (0.011664900479999858 +/- 0.0016155926832827248) pb\n",
      "07:34 madminer.sampling    INFO    Effective number of samples: 50.027662252371606\n"
     ]
    }
   ],
   "source": [
    "_ = sa.extract_samples_test(\n",
    "    theta=constant_benchmark_theta('sm'),\n",
    "    n_samples=10000,\n",
    "    folder='./data/samples',\n",
    "    filename='test'\n",
    ")"
   ]
  },
  {
   "cell_type": "markdown",
   "metadata": {},
   "source": [
    "### Plot cross section over parameter space"
   ]
  },
  {
   "cell_type": "markdown",
   "metadata": {},
   "source": [
    "We can also calculate total cross sections:"
   ]
  },
  {
   "cell_type": "code",
   "execution_count": 33,
   "metadata": {},
   "outputs": [
    {
     "name": "stderr",
     "output_type": "stream",
     "text": [
      "07:34 madminer.sampling    INFO    Starting cross-section calculation\n",
      "07:34 madminer.sampling    INFO    Starting cross-section calculation\n"
     ]
    }
   ],
   "source": [
    "thetas_benchmarks, xsecs_benchmarks, xsec_errors_benchmarks = sa.extract_cross_sections(\n",
    "    theta=multiple_benchmark_thetas(['sm', 'w', 'morphing_basis_vector_2', 'morphing_basis_vector_3', 'morphing_basis_vector_4', 'morphing_basis_vector_5'])\n",
    ")\n",
    "\n",
    "thetas_morphing, xsecs_morphing, xsec_errors_morphing = sa.extract_cross_sections(\n",
    "    theta=random_morphing_thetas(1000, [('gaussian', 0., 4.), ('gaussian', 0., 4.)])\n",
    ")"
   ]
  },
  {
   "cell_type": "code",
   "execution_count": 34,
   "metadata": {},
   "outputs": [
    {
     "data": {
      "image/png": "[encoded data removed]",
      "text/plain": [
       "<Figure size 360x288 with 2 Axes>"
      ]
     },
     "metadata": {
      "needs_background": "light"
     },
     "output_type": "display_data"
    }
   ],
   "source": [
    "cmin, cmax = np.mean(xsecs_morphing) - 2 * np.std(xsecs_morphing), np.mean(xsecs_morphing) + 2 * np.std(xsecs_morphing)\n",
    "\n",
    "fig = plt.figure(figsize=(5,4))\n",
    "\n",
    "sc = plt.scatter(thetas_morphing[:,0], thetas_morphing[:,1], c=xsecs_morphing,\n",
    "            s=40., cmap='viridis', vmin=cmin, vmax=cmax,\n",
    "            marker='o')\n",
    "\n",
    "plt.scatter(thetas_benchmarks[:,0], thetas_benchmarks[:,1], c=xsecs_benchmarks,\n",
    "            s=200., cmap='viridis', vmin=cmin, vmax=cmax, lw=2., edgecolor='black',\n",
    "            marker='s')\n",
    "\n",
    "cb = plt.colorbar(sc)\n",
    "cb.set_label('xsec [pb]')\n",
    "\n",
    "plt.xlim(-10.,10.)\n",
    "plt.ylim(-10.,10.)\n",
    "plt.tight_layout()\n",
    "plt.show()"
   ]
  },
  {
   "cell_type": "markdown",
   "metadata": {},
   "source": [
    "What  you see here is a morphing algorithm in action. We only asked MadGraph to calculate event weights (differential cross sections, or basically squared matrix elements) at six fixed parameter points (shown here as squares with black edges). But with our knowledge about the structure of the process we can interpolate any observable to any parameter point without loss (except that statistical uncertainties might increase)!"
   ]
  },
  {
   "cell_type": "markdown",
   "metadata": {},
   "source": [
    "## 7. Train neural networks to estimate likelihood ratios"
   ]
  },
  {
   "cell_type": "markdown",
   "metadata": {},
   "source": [
    "It's now time to build the neural network that estimates the likelihood ratio. The central object for this is the `madminer.ml.MLForge` class. It defines functions that train, save, load, and evaluate the estimators."
   ]
  },
  {
   "cell_type": "code",
   "execution_count": 35,
   "metadata": {},
   "outputs": [],
   "source": [
    "forge = MLForge()"
   ]
  },
  {
   "cell_type": "markdown",
   "metadata": {},
   "source": [
    "### Training"
   ]
  },
  {
   "cell_type": "markdown",
   "metadata": {},
   "source": [
    "We will use the ALICES technique described in [\"Likelihood-free inference with an improved cross-entropy estimator\"](https://arxiv.org/abs/1808.00973). Most other methods, including RASCAL, are described in [\"Constraining Effective Field Theories With Machine Learning\"](https://arxiv.org/abs/1805.00013) and [\"A Guide to Constraining Effective Field Theories With Machine Learning\"](https://arxiv.org/abs/1805.00020). There is also SCANDAL introduced in [\"Mining gold from implicit models to improve likelihood-free inference\"](https://arxiv.org/abs/1805.12244).\n",
    "\n",
    "Most of these methods exist both in a \"single parameterized\" version, in which only the dependence of the likelihood ratio on the numerator is modelled, and a \"doubly parameterized\" version, in which both the dependence on the numerator and denominator parameters is modelled. For the single parameterized version, use `method='rascal'`, `method='alice'`, and so on. For the double parameterized version, use `method='rascal2'`, `method='alice2'`, etc. Note that for the doubly parameterized estimators you have to provide `theta1_filename`, and in the case of RASCAL and ALICES also `t_xz1_filename`."
   ]
  },
  {
   "cell_type": "code",
   "execution_count": 37,
   "metadata": {},
   "outputs": [
    {
     "name": "stderr",
     "output_type": "stream",
     "text": [
      "07:34 madminer.ml          INFO    Starting training\n",
      "07:34 madminer.ml          INFO      Method:                 alices\n",
      "07:34 madminer.ml          INFO      Training data: x at data/samples/x_train1.npy\n",
      "07:34 madminer.ml          INFO                     theta0 at data/samples/theta0_train1.npy\n",
      "07:34 madminer.ml          INFO                     y at data/samples/y_train1.npy\n",
      "07:34 madminer.ml          INFO                     r_xz at data/samples/r_xz_train1.npy\n",
      "07:34 madminer.ml          INFO                     t_xz (theta0) at  data/samples/t_xz_train1.npy\n",
      "07:34 madminer.ml          INFO      Features:               all\n",
      "07:34 madminer.ml          INFO      Method:                 alices\n",
      "07:34 madminer.ml          INFO      Hidden layers:          (20, 20)\n",
      "07:34 madminer.ml          INFO      Activation function:    tanh\n",
      "07:34 madminer.ml          INFO      Batch size:             256\n",
      "07:34 madminer.ml          INFO      Trainer:                amsgrad\n",
      "07:34 madminer.ml          INFO      Epochs:                 10\n",
      "07:34 madminer.ml          INFO      Learning rate:          0.001 initially, decaying to 0.0001\n",
      "07:34 madminer.ml          INFO      Validation split:       0.3\n",
      "07:34 madminer.ml          INFO      Early stopping:         True\n",
      "07:34 madminer.ml          INFO      Scale inputs:           True\n",
      "07:34 madminer.ml          INFO      Shuffle labels          False\n",
      "07:34 madminer.ml          INFO      Regularization:         None\n",
      "07:34 madminer.ml          INFO      Samples:                all\n",
      "07:34 madminer.ml          INFO    Loading training data\n",
      "07:34 madminer.ml          INFO    Found 100000 samples with 2 parameters and 2 observables\n",
      "07:34 madminer.ml          INFO    Rescaling inputs\n",
      "07:34 madminer.ml          INFO    Creating model for method alices\n",
      "07:34 madminer.ml          INFO    Training model\n",
      "07:35 madminer.utils.ml.ra INFO      Epoch 01: train loss 0.7878 (improved_xe: 0.6851, mse_score: 0.0103)\n",
      "07:35 madminer.utils.ml.ra INFO                val. loss  0.7888 (improved_xe: 0.6793, mse_score: 0.0110) (*)\n",
      "07:35 madminer.utils.ml.ra INFO      Epoch 02: train loss 0.7730 (improved_xe: 0.6776, mse_score: 0.0095)\n",
      "07:35 madminer.utils.ml.ra INFO                val. loss  0.7893 (improved_xe: 0.6772, mse_score: 0.0105)\n",
      "07:35 madminer.utils.ml.ra INFO      Epoch 03: train loss 0.7678 (improved_xe: 0.6758, mse_score: 0.0092)\n",
      "07:35 madminer.utils.ml.ra INFO                val. loss  0.7862 (improved_xe: 0.6757, mse_score: 0.0104) (*)\n",
      "07:35 madminer.utils.ml.ra INFO      Epoch 04: train loss 0.7649 (improved_xe: 0.6747, mse_score: 0.0090)\n",
      "07:35 madminer.utils.ml.ra INFO                val. loss  0.7838 (improved_xe: 0.6748, mse_score: 0.0102) (*)\n",
      "07:36 madminer.utils.ml.ra INFO      Epoch 05: train loss 0.7633 (improved_xe: 0.6741, mse_score: 0.0089)\n",
      "07:36 madminer.utils.ml.ra INFO                val. loss  0.7829 (improved_xe: 0.6744, mse_score: 0.0102) (*)\n",
      "13:12 madminer.utils.ml.ra INFO      Epoch 06: train loss 0.7628 (improved_xe: 0.6738, mse_score: 0.0089)\n",
      "13:12 madminer.utils.ml.ra INFO                val. loss  0.7827 (improved_xe: 0.6745, mse_score: 0.0102) (*)\n",
      "13:12 madminer.utils.ml.ra INFO      Epoch 07: train loss 0.7618 (improved_xe: 0.6736, mse_score: 0.0088)\n",
      "13:12 madminer.utils.ml.ra INFO                val. loss  0.7817 (improved_xe: 0.6741, mse_score: 0.0101) (*)\n",
      "13:13 madminer.utils.ml.ra INFO      Epoch 08: train loss 0.7614 (improved_xe: 0.6734, mse_score: 0.0088)\n",
      "13:13 madminer.utils.ml.ra INFO                val. loss  0.7816 (improved_xe: 0.6741, mse_score: 0.0101) (*)\n",
      "13:47 madminer.utils.ml.ra INFO      Epoch 09: train loss 0.7612 (improved_xe: 0.6734, mse_score: 0.0088)\n",
      "13:47 madminer.utils.ml.ra INFO                val. loss  0.7828 (improved_xe: 0.6738, mse_score: 0.0102)\n",
      "13:47 madminer.utils.ml.ra INFO      Epoch 10: train loss 0.7611 (improved_xe: 0.6733, mse_score: 0.0088)\n",
      "13:47 madminer.utils.ml.ra INFO                val. loss  0.7811 (improved_xe: 0.6739, mse_score: 0.0101) (*)\n",
      "13:47 madminer.utils.ml.ra INFO    Early stopping did not improve performance\n",
      "13:47 madminer.utils.ml.ra INFO    Finished training\n"
     ]
    }
   ],
   "source": [
    "forge.train(\n",
    "    method='alices',\n",
    "    theta0_filename='data/samples/theta0_train1.npy',\n",
    "    x_filename='data/samples/x_train1.npy',\n",
    "    y_filename='data/samples/y_train1.npy',\n",
    "    r_xz_filename='data/samples/r_xz_train1.npy',\n",
    "    t_xz0_filename='data/samples/t_xz_train1.npy',\n",
    "    n_hidden=(20,20),\n",
    "    alpha=10.,\n",
    "    n_epochs=10,\n",
    "    validation_split=0.3,\n",
    "    batch_size=256\n",
    ")\n",
    "\n",
    "forge.save('models/alices')"
   ]
  },
  {
   "cell_type": "markdown",
   "metadata": {},
   "source": [
    "### Evaluation"
   ]
  },
  {
   "cell_type": "markdown",
   "metadata": {},
   "source": [
    "`forge.evaluate(theta,x)` estimated the log likelihood ratio and the score for all combination between the given phase-space points `x` and parameters `theta`. That is, if given 100 events `x` and a grid of 25 `theta` points, it will return 25\\*100 estimates for the log likelihood and 25\\*100 estimates for the  score, both indexed by `[i_theta,i_x]`."
   ]
  },
  {
   "cell_type": "code",
   "execution_count": 38,
   "metadata": {},
   "outputs": [],
   "source": [
    "theta_each = np.linspace(-10.,10.,15)\n",
    "theta0, theta1 = np.meshgrid(theta_each, theta_each)\n",
    "theta_grid = np.vstack((theta0.flatten(), theta1.flatten())).T\n",
    "np.save('data/samples/theta_grid.npy', theta_grid)\n",
    "\n",
    "theta_denom = np.array([[0.,0.]])\n",
    "np.save('data/samples/theta_ref.npy', theta_denom)\n"
   ]
  },
  {
   "cell_type": "code",
   "execution_count": 41,
   "metadata": {},
   "outputs": [],
   "source": [
    "forge.load('models/alices')\n",
    "\n",
    "log_r_hat, _, _ = forge.evaluate(\n",
    "    theta0_filename='data/samples/theta_grid.npy',\n",
    "    x='data/samples/x_test.npy',\n",
    "    evaluate_score=False\n",
    ")"
   ]
  },
  {
   "cell_type": "markdown",
   "metadata": {},
   "source": [
    "Let's look at the result:"
   ]
  },
  {
   "cell_type": "code",
   "execution_count": 42,
   "metadata": {},
   "outputs": [
    {
     "data": {
      "image/png": "[encoded data removed]",
      "text/plain": [
       "<Figure size 432x360 with 2 Axes>"
      ]
     },
     "metadata": {
      "needs_background": "light"
     },
     "output_type": "display_data"
    }
   ],
   "source": [
    "bin_size = theta_each[1] - theta_each[0]\n",
    "edges = np.linspace(theta_each[0] - bin_size/2, theta_each[-1] + bin_size/2, len(theta_each)+1)\n",
    "\n",
    "fig = plt.figure(figsize=(6,5))\n",
    "ax = plt.gca()\n",
    "\n",
    "expected_llr = np.mean(log_r_hat,axis=1)\n",
    "best_fit = theta_grid[np.argmin(-2.*expected_llr)]\n",
    "\n",
    "cmin, cmax = np.min(-2*expected_llr), np.max(-2*expected_llr)\n",
    "    \n",
    "pcm = ax.pcolormesh(edges, edges, -2. * expected_llr.reshape((15,15)),\n",
    "                    norm=matplotlib.colors.Normalize(vmin=cmin, vmax=cmax),\n",
    "                    cmap='viridis_r')\n",
    "cbar = fig.colorbar(pcm, ax=ax, extend='both')\n",
    "\n",
    "plt.scatter(best_fit[0], best_fit[1], s=80., color='black', marker='*')\n",
    "\n",
    "plt.xlabel(r'$\\theta_0$')\n",
    "plt.ylabel(r'$\\theta_1$')\n",
    "cbar.set_label(r'$\\mathbb{E}_x [ -2\\, \\log \\,\\hat{r}(x | \\theta, \\theta_{SM}) ]$ (RASCAL)')\n",
    "\n",
    "plt.tight_layout()\n",
    "plt.show()\n"
   ]
  },
  {
   "cell_type": "markdown",
   "metadata": {},
   "source": [
    "Note that in this tutorial our sample size was very small, and the network does not really have a chance to converge to the correct likelihood ratio function. So don't worry if you find a minimum that is not at the right point (the SM, i.e. the origin in this plot). Feel free to dial up the event numbers in the run card as well as the training samples and see what happens then!\n",
    "\n",
    "That's it for now. Please have a look at the documentation for a detailed description of all classes and functions. And if you're curious about SALLY, Fisher information matrices, and ensemble methods, please look at the second part of the tutorial!"
   ]
  },
  {
   "cell_type": "code",
   "execution_count": null,
   "metadata": {},
   "outputs": [],
   "source": []
  }
 ],
 "metadata": {
  "kernelspec": {
   "display_name": "Python 2",
   "language": "python",
   "name": "python2"
  },
  "language_info": {
   "codemirror_mode": {
    "name": "ipython",
    "version": 2
   },
   "file_extension": ".py",
   "mimetype": "text/x-python",
   "name": "python",
   "nbconvert_exporter": "python",
   "pygments_lexer": "ipython2",
   "version": "2.7.15"
  }
 },
 "nbformat": 4,
 "nbformat_minor": 2
}
