{
 "cells": [
  {
   "cell_type": "markdown",
   "metadata": {},
   "source": [
    "## Preparations"
   ]
  },
  {
   "cell_type": "markdown",
   "metadata": {},
   "source": [
    "Let us first load all the python libraries again"
   ]
  },
  {
   "cell_type": "code",
   "execution_count": 1,
   "metadata": {},
   "outputs": [],
   "source": [
    "import sys\n",
    "import os\n",
    "madminer_src_path = \"/Users/felixkling/Documents/GitHub/madminer\"\n",
    "sys.path.append(madminer_src_path)\n",
    "\n",
    "from __future__ import absolute_import, division, print_function, unicode_literals\n",
    "\n",
    "import numpy as np\n",
    "import math\n",
    "import matplotlib\n",
    "import random\n",
    "from matplotlib import pyplot as plt\n",
    "from scipy.optimize import curve_fit\n",
    "import matplotlib.cm as cm\n",
    "% matplotlib inline\n",
    "\n",
    "from madminer.fisherinformation import FisherInformation\n",
    "from madminer.fisherinformation import project_information,profile_information\n",
    "\n",
    "from madminer.plotting import plot_fisher_information_contours_2d\n",
    "\n",
    "from madminer.sampling import SampleAugmenter\n",
    "from madminer.sampling import constant_benchmark_theta, multiple_benchmark_thetas\n",
    "from madminer.sampling import constant_morphing_theta, multiple_morphing_thetas, random_morphing_thetas\n",
    "from madminer.ml import MLForge, EnsembleForge\n",
    "\n",
    "from sklearn.metrics import mean_squared_error"
   ]
  },
  {
   "cell_type": "markdown",
   "metadata": {},
   "source": [
    "To not forget anything later, let us globaly define the number of events in the MG sample"
   ]
  },
  {
   "cell_type": "code",
   "execution_count": 2,
   "metadata": {},
   "outputs": [],
   "source": [
    "lhedatafile = 'data/madminer_lhedata.h5'\n",
    "detectordatafile = 'data/madminer_detectordata.h5'\n",
    "nsamples = 10000"
   ]
  },
  {
   "cell_type": "markdown",
   "metadata": {},
   "source": [
    "## T3 Optimization: ML settings"
   ]
  },
  {
   "cell_type": "markdown",
   "metadata": {},
   "source": [
    "The setup of the MLForge includes a set of input parameters. So far we have just used the default setup. Now we will see how changing this setup effects the performance of the Machine Learning the the accuracy of the score estimation. "
   ]
  },
  {
   "cell_type": "markdown",
   "metadata": {},
   "source": [
    "### T3a) Run the Data Augmentation and Machine Learning part"
   ]
  },
  {
   "cell_type": "markdown",
   "metadata": {},
   "source": [
    "First, we once again augment the dataand machine learning part again. First at truth level"
   ]
  },
  {
   "cell_type": "code",
   "execution_count": 3,
   "metadata": {},
   "outputs": [],
   "source": [
    "sa = SampleAugmenter(lhedatafile, debug=False)\n",
    "\n",
    "x, theta, t_xz = sa.extract_samples_train_local(\n",
    "    theta=constant_benchmark_theta('sm'),\n",
    "    n_samples=int(nsamples/2),\n",
    "    folder='./data/samples_scan/',\n",
    "    filename='train'\n",
    ")\n",
    "\n",
    "x, theta, t_xz = sa.extract_samples_train_local(\n",
    "    theta=constant_benchmark_theta('sm'),\n",
    "    n_samples=int(nsamples/2),\n",
    "    folder='./data/samples_scan/',\n",
    "    filename='test',\n",
    "    switch_train_test_events=True\n",
    ")"
   ]
  },
  {
   "cell_type": "markdown",
   "metadata": {},
   "source": [
    "and then for detector level"
   ]
  },
  {
   "cell_type": "code",
   "execution_count": 4,
   "metadata": {},
   "outputs": [],
   "source": [
    "sa_det = SampleAugmenter(detectordatafile, debug=False)\n",
    "\n",
    "x_det, theta_det, t_xz_det = sa_det.extract_samples_train_local(\n",
    "    theta=constant_benchmark_theta('sm'),\n",
    "    n_samples=int(nsamples/2),\n",
    "    folder='./data/samples_scan_det/',\n",
    "    filename='train'\n",
    ")\n",
    "\n",
    "x_det, theta_det, t_xz_det = sa_det.extract_samples_train_local(\n",
    "    theta=constant_benchmark_theta('sm'),\n",
    "    n_samples=int(nsamples/2),\n",
    "    folder='./data/samples_scan_det/',\n",
    "    filename='test',\n",
    "    switch_train_test_events=True\n",
    ")"
   ]
  },
  {
   "cell_type": "markdown",
   "metadata": {},
   "source": [
    "### 8b) Define set of settings"
   ]
  },
  {
   "cell_type": "markdown",
   "metadata": {},
   "source": [
    "In the following, let us define a set of setting. Later we will choose random combinations of these setting options, train the MLForge, evaulate the Fisher Information and compare the results. In particular, we consider the following settings:\n",
    "- number of epochs\n",
    "- number of hidden layers of the NN\n",
    "- number of neurons per hidden layer \n",
    "- activation function of the neurons\n",
    "- initial learning rate\n",
    "- ratio of initial and final learning rate"
   ]
  },
  {
   "cell_type": "code",
   "execution_count": 5,
   "metadata": {},
   "outputs": [],
   "source": [
    "choices_epochs = [50,100,200] \n",
    "choices_nhidden = [2,3,4,5,6,7]\n",
    "choices_nneuron = [20,50,100,200]\n",
    "choices_activation = ['tanh', 'sigmoid', 'relu']\n",
    "choices_lrinitial = [0.1,0.01,0.001,0.0001]\n",
    "choices_lrratio = [1,10,100,1000] \n",
    "\n",
    "choices_validation = [None]\n",
    "choices_trainer = ['amsgrad'] \n",
    "choices_regularization = [None]  "
   ]
  },
  {
   "cell_type": "markdown",
   "metadata": {},
   "source": [
    "### T3c) Run the scan"
   ]
  },
  {
   "cell_type": "markdown",
   "metadata": {},
   "source": [
    "We will store the results of the scan in a separate file. If it already exists, let's just append to it."
   ]
  },
  {
   "cell_type": "code",
   "execution_count": 6,
   "metadata": {},
   "outputs": [],
   "source": [
    "usesummaryfile='data/samples_scan/summary.npy'\n",
    "if os.path.isfile(usesummaryfile):\n",
    "    summary=np.load(usesummaryfile)\n",
    "else:\n",
    "    summary=np.array([])\n",
    "n0scan=len(summary)"
   ]
  },
  {
   "cell_type": "markdown",
   "metadata": {},
   "source": [
    "Define the number of scans that is supposed to be performed "
   ]
  },
  {
   "cell_type": "code",
   "execution_count": 7,
   "metadata": {},
   "outputs": [],
   "source": [
    "nscan=25"
   ]
  },
  {
   "cell_type": "markdown",
   "metadata": {},
   "source": [
    "Let us now run the scan. It consists of the following steps\n",
    "\n",
    "- choose settings randomly \n",
    "- create/run MLForge\n",
    "- evaluate Fisher Info and Mean Squared Error between truth and estimated scores\n",
    "- save results to summary file \n",
    "\n",
    "Note that the run will be the default setting "
   ]
  },
  {
   "cell_type": "code",
   "execution_count": 8,
   "metadata": {},
   "outputs": [
    {
     "name": "stdout",
     "output_type": "stream",
     "text": [
      "Do Run Number  0  out of  25\n"
     ]
    },
    {
     "name": "stderr",
     "output_type": "stream",
     "text": [
      "No handlers could be found for logger \"madminer.fisherinformation\"\n"
     ]
    },
    {
     "name": "stdout",
     "output_type": "stream",
     "text": [
      "Do Run Number  1  out of  25\n",
      "Do Run Number  2  out of  25\n",
      "Do Run Number  3  out of  25\n",
      "Do Run Number  4  out of  25\n",
      "Do Run Number  5  out of  25\n",
      "Do Run Number  6  out of  25\n",
      "Do Run Number  7  out of  25\n",
      "Do Run Number  8  out of  25\n",
      "Do Run Number  9  out of  25\n",
      "Do Run Number  10  out of  25\n",
      "Do Run Number  11  out of  25\n",
      "Do Run Number  12  out of  25\n",
      "Do Run Number  13  out of  25\n",
      "Do Run Number  14  out of  25\n",
      "Do Run Number  15  out of  25\n",
      "Do Run Number  16  out of  25\n",
      "Do Run Number  17  out of  25\n",
      "Do Run Number  18  out of  25\n",
      "Do Run Number  19  out of  25\n",
      "Do Run Number  20  out of  25\n",
      "Do Run Number  21  out of  25\n",
      "Do Run Number  22  out of  25\n",
      "Do Run Number  23  out of  25\n",
      "Do Run Number  24  out of  25\n"
     ]
    }
   ],
   "source": [
    "for iscan in range (n0scan,n0scan+nscan):\n",
    "    #Output\n",
    "    print ('Do Run Number ', iscan-n0scan , ' out of ', nscan)\n",
    "    \n",
    "    #choose settings randomly\n",
    "    index_epochs=random.randint(0,len(choices_epochs)-1)\n",
    "    index_nhidden=random.randint(0,len(choices_nhidden)-1)\n",
    "    index_nneuron=random.randint(0,len(choices_nneuron)-1)\n",
    "    index_activation=random.randint(0,len(choices_activation)-1)\n",
    "    index_lrinitial=random.randint(0,len(choices_lrinitial)-1)\n",
    "    index_lrratio=random.randint(0,len(choices_lrratio)-1)\n",
    "\n",
    "    this_nhidden = choices_nhidden[index_nhidden]\n",
    "    this_nneuron = choices_nneuron[index_nneuron]\n",
    "    this_lrinitial = choices_lrinitial[index_lrinitial]\n",
    "    this_lrratio = choices_lrratio[index_lrratio]\n",
    "    \n",
    "    this_epochs = choices_epochs[index_epochs]\n",
    "    this_hidden = tuple( [ this_nneuron for i in range(this_nhidden)] )\n",
    "    this_activation = choices_activation[index_activation]\n",
    "    this_learning = ( this_lrinitial,this_lrinitial/this_lrratio )\n",
    "    \n",
    "    #Setup/train/save ensemble\n",
    "    forge = MLForge()\n",
    "    forge_det = MLForge()\n",
    "    if iscan==0:\n",
    "        forge.train(\n",
    "            method='sally',\n",
    "            x_filename='./data/samples_scan/x_train.npy',\n",
    "            t_xz0_filename='./data/samples_scan/t_xz_train.npy'\n",
    "        )   \n",
    "        forge_det.train(\n",
    "            method='sally',\n",
    "            x_filename='./data/samples_scan_det/x_train.npy',\n",
    "            t_xz0_filename='./data/samples_scan_det/t_xz_train.npy'\n",
    "        )   \n",
    "    else: \n",
    "        forge.train(\n",
    "            method='sally',\n",
    "            x_filename='./data/samples_scan/x_train.npy',\n",
    "            t_xz0_filename='./data/samples_scan/t_xz_train.npy',\n",
    "            batch_size=128,\n",
    "            n_epochs=this_epochs,\n",
    "            n_hidden=this_hidden,\n",
    "            activation=this_activation,\n",
    "            initial_lr=this_learning[0],\n",
    "            final_lr=this_learning[1]\n",
    "        )\n",
    "        forge_det.train(\n",
    "            method='sally',\n",
    "            x_filename='./data/samples_scan_det/x_train.npy',\n",
    "            t_xz0_filename='./data/samples_scan_det/t_xz_train.npy',\n",
    "            batch_size=128,\n",
    "            n_epochs=this_epochs,\n",
    "            n_hidden=this_hidden,\n",
    "            activation=this_activation,\n",
    "            initial_lr=this_learning[0],\n",
    "            final_lr=this_learning[1]\n",
    "        )\n",
    "    modelsavefile='./models/samples_scan/setup_{}/sally_test'.format(iscan)\n",
    "    forge.save(modelsavefile)\n",
    "    modelsavefile_det='./models/samples_scan_det/setup_{}/sally_test'.format(iscan)\n",
    "    forge_det.save(modelsavefile_det)\n",
    "    \n",
    "    #Fisher Info \n",
    "    fisher = FisherInformation(lhedatafile, debug=False)\n",
    "    fi_mean_test , _ = fisher.calculate_fisher_information_full_detector(\n",
    "        theta=[0.,0.], luminosity=300*1000.,\n",
    "        model_file=modelsavefile,\n",
    "        unweighted_x_sample_file='./data/samples_scan/x_test.npy'\n",
    "    )\n",
    "    fi_mean_train , _ = fisher.calculate_fisher_information_full_detector(\n",
    "        theta=[0.,0.], luminosity=300*1000.,\n",
    "        model_file=modelsavefile,\n",
    "        unweighted_x_sample_file='./data/samples_scan/x_train.npy'\n",
    "    )\n",
    "    \n",
    "    fisher_det = FisherInformation(detectordatafile, debug=False)\n",
    "    fi_mean_test_det , _ = fisher_det.calculate_fisher_information_full_detector(\n",
    "        theta=[0.,0.], luminosity=300*1000.,\n",
    "        model_file=modelsavefile_det,\n",
    "        unweighted_x_sample_file='./data/samples_scan_det/x_test.npy'\n",
    "    )\n",
    "    fi_mean_train_det , _ = fisher_det.calculate_fisher_information_full_detector(\n",
    "        theta=[0.,0.], luminosity=300*1000.,\n",
    "        model_file=modelsavefile_det,\n",
    "        unweighted_x_sample_file='./data/samples_scan_det/x_train.npy'\n",
    "    )\n",
    "    \n",
    "    #Scores and MSE\n",
    "    t_pl_test=np.load('./data/samples_scan/t_xz_test.npy')\n",
    "    t_ml_test=forge.evaluate('./data/samples_scan/x_test.npy')\n",
    "    t_pl_train=np.load('./data/samples_scan/t_xz_train.npy')\n",
    "    t_ml_train=forge.evaluate('./data/samples_scan/x_train.npy')\n",
    "    t_mse_test = mean_squared_error(t_pl_test,t_ml_test)\n",
    "    t_mse_train = mean_squared_error(t_pl_train,t_ml_train)\n",
    "    \n",
    "    t_pl_test_det=np.load('./data/samples_scan_det/t_xz_test.npy')\n",
    "    t_ml_test_det=forge_det.evaluate('./data/samples_scan_det/x_test.npy')\n",
    "    t_pl_train_det=np.load('./data/samples_scan_det/t_xz_train.npy')\n",
    "    t_ml_train_det=forge_det.evaluate('./data/samples_scan_det/x_train.npy')\n",
    "    t_mse_test_det = mean_squared_error(t_pl_test_det,t_ml_test_det)\n",
    "    t_mse_train_det = mean_squared_error(t_pl_train_det,t_ml_train_det)\n",
    "    \n",
    "    #Save everything\n",
    "    newelement= [iscan,\n",
    "                 index_epochs,index_nhidden,index_nneuron,\n",
    "                 index_activation,index_lrinitial,index_lrratio,\n",
    "                 np.linalg.det(fi_mean_test),t_mse_test,\n",
    "                 np.linalg.det(fi_mean_train),t_mse_train,\n",
    "                 np.linalg.det(fi_mean_test_det),t_mse_test_det,\n",
    "                 np.linalg.det(fi_mean_train_det),t_mse_train_det\n",
    "                ]\n",
    "    if len(summary)==0:\n",
    "        summary= [newelement]\n",
    "    else:\n",
    "        summary = np.append(summary, [newelement],axis=0) \n",
    "    \n",
    "#Save \n",
    "np.save(usesummaryfile,summary)"
   ]
  },
  {
   "cell_type": "markdown",
   "metadata": {},
   "source": [
    "### T3c) Plot results"
   ]
  },
  {
   "cell_type": "markdown",
   "metadata": {},
   "source": [
    "We can now visualize our results as a scatter plot in the Means Squared Error (MSE) vs Fisher Information plane. The dashed line corresponds to the truth level Fisher Information."
   ]
  },
  {
   "cell_type": "code",
   "execution_count": 9,
   "metadata": {},
   "outputs": [
    {
     "data": {
      "image/png": "[encoded data removed]",
      "text/plain": [
       "<matplotlib.figure.Figure at 0x10dbbb290>"
      ]
     },
     "metadata": {},
     "output_type": "display_data"
    }
   ],
   "source": [
    "#######\n",
    "#Truth FisherInfo\n",
    "fi_truth , _= fisher.calculate_fisher_information_full_truth(theta=[0.,0.],luminosity=300*1000.)\n",
    "fidet_truth=np.linalg.det(fi_truth)\n",
    "\n",
    "#######\n",
    "#Input Data\n",
    "data = np.load(usesummaryfile)\n",
    "idx=7 # Det(I) truth test\n",
    "idy=8 # MSE truth test\n",
    "\n",
    "#######\n",
    "#List Manipulation\n",
    "def sublist(inputlist, index, condition):\n",
    "    outputlist=[]\n",
    "    for ilist in range(len(inputlist)):\n",
    "        if inputlist[ilist,index]==condition:\n",
    "            outputlist.append(inputlist[ilist])\n",
    "    return np.array(outputlist)\n",
    "\n",
    "#######\n",
    "#Figure\n",
    "myrangex=[10**(-8),1]\n",
    "myrangey=[5*10**(-5),.005]\n",
    "mysize=4\n",
    "f, ((ax1,ax2),(ax3,ax4),(ax5,ax6)) = plt.subplots(3, 2)\n",
    "f.set_size_inches(8,12)\n",
    "\n",
    "# choices_nepochs\n",
    "mycolors = cm.rainbow(np.linspace(0, 1, len(choices_epochs)))\n",
    "for i in range(len(choices_epochs)):\n",
    "    thisdata=sublist(data,1,i)\n",
    "    if len(thisdata)!=0:\n",
    "        ax1.scatter(thisdata[:,idx], thisdata[:,idy],color=mycolors[i],s=mysize,alpha=1,label=str(choices_epochs[i]))\n",
    "ax1.scatter(data[0,idx], data[0,idy],color='black',marker=\"*\")\n",
    "ax1.set_yscale('log')\n",
    "ax1.set_xscale('log')\n",
    "ax1.set_xlabel('det(I)')\n",
    "ax1.set_ylabel('MSE')\n",
    "ax1.set_xlim(myrangex)\n",
    "ax1.set_ylim(myrangey)\n",
    "ax1.legend(bbox_to_anchor=(0.02, 0.98), loc=2, borderaxespad=0.)\n",
    "ax1.set_title('Number of Epochs')\n",
    "ax1.plot([fidet_truth,fidet_truth], myrangey, linestyle=\"--\", color='gray')\n",
    "\n",
    "# choices_nhidden\n",
    "mycolors = cm.rainbow(np.linspace(0, 1, len(choices_nhidden)))\n",
    "for i in range(len(choices_nhidden)):\n",
    "    thisdata=sublist(data,2,i)\n",
    "    if len(thisdata)!=0:\n",
    "        ax2.scatter(thisdata[:,idx], thisdata[:,idy],color=mycolors[i],s=mysize,alpha=1,label=str(choices_nhidden[i]))\n",
    "ax2.scatter(data[0,idx], data[0,idy],color='black',marker=\"*\")\n",
    "ax2.set_yscale('log')\n",
    "ax2.set_xscale('log')\n",
    "ax2.set_xlabel('det(I)')\n",
    "ax2.set_ylabel('MSE')\n",
    "ax2.set_xlim(myrangex)\n",
    "ax2.set_ylim(myrangey)\n",
    "ax2.legend(bbox_to_anchor=(0.02, 0.98), loc=2, borderaxespad=0.)\n",
    "ax2.set_title('Number of Hidden Layers')\n",
    "ax2.plot([fidet_truth,fidet_truth], myrangey, linestyle=\"--\", color='gray')\n",
    "\n",
    "# choices_nneuron\n",
    "mycolors = cm.rainbow(np.linspace(0, 1, len(choices_nneuron)))\n",
    "for i in range(len(choices_nneuron)):\n",
    "    thisdata=sublist(data,3,i)\n",
    "    if len(thisdata)!=0:\n",
    "        ax3.scatter(thisdata[:,idx], thisdata[:,idy],color=mycolors[i],s=mysize,alpha=1,label=str(choices_nneuron[i]))\n",
    "ax3.scatter(data[0,idx], data[0,idy],color='black',marker=\"*\")\n",
    "ax3.set_yscale('log')\n",
    "ax3.set_xscale('log')\n",
    "ax3.set_xlabel('det(I)')\n",
    "ax3.set_ylabel('MSE')\n",
    "ax3.set_xlim(myrangex)\n",
    "ax3.set_ylim(myrangey)\n",
    "ax3.legend(bbox_to_anchor=(0.02, 0.98), loc=2, borderaxespad=0.)\n",
    "ax3.set_title('Number of Neurons per Layer')\n",
    "ax3.plot([fidet_truth,fidet_truth], myrangey, linestyle=\"--\", color='gray')\n",
    "\n",
    "# choices_activation\n",
    "mycolors = cm.rainbow(np.linspace(0, 1, len(choices_activation)))\n",
    "for i in range(len(choices_activation)):\n",
    "    thisdata=sublist(data,4,i)\n",
    "    if len(thisdata)!=0:\n",
    "        ax4.scatter(thisdata[:,idx], thisdata[:,idy],color=mycolors[i],s=mysize,alpha=1,label=str(choices_activation[i]))\n",
    "ax4.scatter(data[0,idx], data[0,idy],color='black',marker=\"*\")\n",
    "ax4.set_yscale('log')\n",
    "ax4.set_xscale('log')\n",
    "ax4.set_xlabel('det(I)')\n",
    "ax4.set_ylabel('MSE')\n",
    "ax4.set_xlim(myrangex)\n",
    "ax4.set_ylim(myrangey)\n",
    "ax4.legend(bbox_to_anchor=(0.02, 0.98), loc=2, borderaxespad=0.)\n",
    "ax4.set_title('Activation Function')\n",
    "ax4.plot([fidet_truth,fidet_truth], myrangey, linestyle=\"--\", color='gray')\n",
    "\n",
    "# choices_learning\n",
    "mycolors = cm.rainbow(np.linspace(0, 1, len(choices_lrinitial)))\n",
    "for i in range(len(choices_lrinitial)):\n",
    "    thisdata=sublist(data,5,i)\n",
    "    if len(thisdata)!=0:\n",
    "        ax5.scatter(thisdata[:,idx], thisdata[:,idy],color=mycolors[i],s=mysize,alpha=1,label=str(choices_lrinitial[i]))\n",
    "ax5.scatter(data[0,idx], data[0,idy],color='black',marker=\"*\")\n",
    "ax5.set_yscale('log')\n",
    "ax5.set_xscale('log')\n",
    "ax5.set_xlabel('det(I)')\n",
    "ax5.set_ylabel('MSE')\n",
    "ax5.set_xlim(myrangex)\n",
    "ax5.set_ylim(myrangey)\n",
    "ax5.legend(bbox_to_anchor=(0.02, 0.98), loc=2, borderaxespad=0.)\n",
    "ax5.set_title('Initial Learning Rate')\n",
    "ax5.plot([fidet_truth,fidet_truth], myrangey, linestyle=\"--\", color='gray')\n",
    "\n",
    "# choices_learning\n",
    "mycolors = cm.rainbow(np.linspace(0, 1, len(choices_lrratio)))\n",
    "for i in range(len(choices_lrratio)):\n",
    "    thisdata=sublist(data,6,i)\n",
    "    if len(thisdata)!=0:\n",
    "        ax6.scatter(thisdata[:,idx], thisdata[:,idy],color=mycolors[i],s=mysize,alpha=1,label=str(choices_lrratio[i]))\n",
    "ax6.scatter(data[0,idx], data[0,idy],color='black',marker=\"*\")\n",
    "ax6.set_yscale('log')\n",
    "ax6.set_xscale('log')\n",
    "ax6.set_xlabel('det(I)')\n",
    "ax6.set_ylabel('MSE')\n",
    "ax6.set_xlim(myrangex)\n",
    "ax6.set_ylim(myrangey)\n",
    "ax6.legend(bbox_to_anchor=(0.02, 0.98), loc=2, borderaxespad=0.)\n",
    "ax6.set_title('Initial/Final Learning Rate')\n",
    "ax6.plot([fidet_truth,fidet_truth], myrangey, linestyle=\"--\", color='gray')\n",
    "\n",
    "#######\n",
    "#Plot\n",
    "plt.tight_layout()\n",
    "plt.show()"
   ]
  },
  {
   "cell_type": "markdown",
   "metadata": {},
   "source": [
    "### T3d) Compare test and train samples"
   ]
  },
  {
   "cell_type": "markdown",
   "metadata": {},
   "source": [
    "Let us also, as cross check, compare the MSE and Fisher Information of the test amnd train samples"
   ]
  },
  {
   "cell_type": "code",
   "execution_count": 10,
   "metadata": {},
   "outputs": [
    {
     "data": {
      "image/png": "[encoded data removed]",
      "text/plain": [
       "<matplotlib.figure.Figure at 0x1163b6890>"
      ]
     },
     "metadata": {},
     "output_type": "display_data"
    }
   ],
   "source": [
    "#######\n",
    "#Truth FisherInfo\n",
    "fi_truth , _= fisher.calculate_fisher_information_full_truth(theta=[0.,0.],luminosity=300*1000./nsamples)\n",
    "fidet_truth=np.linalg.det(fi_truth)\n",
    "\n",
    "#######\n",
    "#Input Data\n",
    "data = np.load(usesummaryfile)\n",
    "\n",
    "add=0 #parton\n",
    "add=4 #detector\n",
    "\n",
    "#######\n",
    "#Figure\n",
    "myrangefi=[10**(-4),10**(-1)]\n",
    "myrangemse=[10**(-6),10**(-2)]\n",
    "mysize=4\n",
    "f, (ax1,ax2) = plt.subplots(1,2)\n",
    "f.set_size_inches(8,4)\n",
    "\n",
    "# MSE\n",
    "ax1.scatter(data[:,10+add], data[:,8+add],s=mysize,alpha=1)\n",
    "ax1.set_yscale('log')\n",
    "ax1.set_xscale('log')\n",
    "ax1.set_xlabel('MSE - train')\n",
    "ax1.set_ylabel('MSE - test')\n",
    "ax1.set_xlim(myrangemse)\n",
    "ax1.set_ylim(myrangemse)\n",
    "ax1.set_title('Compare MSE')\n",
    "\n",
    "# Fisher\n",
    "ax2.scatter(data[:,9+add], data[:,7+add],s=mysize,alpha=1)\n",
    "ax2.set_yscale('log')\n",
    "ax2.set_xscale('log')\n",
    "ax2.set_xlabel('det(I) - train')\n",
    "ax2.set_ylabel('det(I) - test')\n",
    "ax2.set_xlim(myrangefi)\n",
    "ax2.set_ylim(myrangefi)\n",
    "ax2.set_title('Compare Fisher Information ')\n",
    "\n",
    "#######\n",
    "#Plot\n",
    "plt.tight_layout()\n",
    "plt.show()"
   ]
  },
  {
   "cell_type": "markdown",
   "metadata": {},
   "source": [
    "### T3e) Compare Truth and Detector Samples"
   ]
  },
  {
   "cell_type": "markdown",
   "metadata": {},
   "source": [
    "Let us also, as cross check, compare the MSE and Fisher Info for the Truth and Detector level samples "
   ]
  },
  {
   "cell_type": "code",
   "execution_count": 32,
   "metadata": {},
   "outputs": [
    {
     "data": {
      "image/png": "[encoded data removed]",
      "text/plain": [
       "<matplotlib.figure.Figure at 0x109f92c90>"
      ]
     },
     "metadata": {},
     "output_type": "display_data"
    }
   ],
   "source": [
    "#######\n",
    "#Input Data\n",
    "data = np.load(usesummaryfile)\n",
    "\n",
    "add=2 #train\n",
    "add=0 #test\n",
    "\n",
    "#######\n",
    "#Figure\n",
    "myrangefi=[10**(-4),10**(-1)]\n",
    "myrangemse=[10**(-6),10**(-2)]\n",
    "mysize=4\n",
    "f, (ax1,ax2) = plt.subplots(1,2)\n",
    "f.set_size_inches(8,4)\n",
    "\n",
    "# MSE\n",
    "ax1.scatter(data[:,8+add], data[:,12+add],s=mysize,alpha=1)\n",
    "ax1.set_yscale('log')\n",
    "ax1.set_xscale('log')\n",
    "ax1.set_xlabel('MSE - Truth')\n",
    "ax1.set_ylabel('MSE - Detector')\n",
    "ax1.set_xlim(myrangemse)\n",
    "ax1.set_ylim(myrangemse)\n",
    "ax1.set_title('Compare MSE')\n",
    "\n",
    "# Fisher\n",
    "ax2.scatter(data[:,7+add], data[:,11+add],s=mysize,alpha=1)\n",
    "ax2.set_yscale('log')\n",
    "ax2.set_xscale('log')\n",
    "ax2.set_xlabel('det(I) - Truth')\n",
    "ax2.set_ylabel('det(I) - Detector')\n",
    "ax2.set_xlim(myrangefi)\n",
    "ax2.set_ylim(myrangefi)\n",
    "ax2.set_title('Compare Fisher Information ')\n",
    "\n",
    "#######\n",
    "#Plot\n",
    "plt.tight_layout()\n",
    "plt.show()"
   ]
  },
  {
   "cell_type": "markdown",
   "metadata": {},
   "source": [
    "### T3f) Get list of good settings"
   ]
  },
  {
   "cell_type": "markdown",
   "metadata": {},
   "source": [
    "Let us now output the best settings"
   ]
  },
  {
   "cell_type": "code",
   "execution_count": 11,
   "metadata": {},
   "outputs": [
    {
     "name": "stdout",
     "output_type": "stream",
     "text": [
      "Setting with det(I)= 0.007032454293239243 and MSE= 0.0002318642349305051 had settings\n",
      " - Number of Epochs: 50\n",
      " - Number of Hidden Layers: 7\n",
      " - Number of Neurons per Layer: 50\n",
      " - Activation Function: tanh\n",
      " - Initial Learning Rate: 0.01\n",
      " - Final Learning Rate: 0.0001\n",
      "\n",
      "Setting with det(I)= 0.007025577365531154 and MSE= 0.0002763607103279089 had settings\n",
      " - Number of Epochs: 200\n",
      " - Number of Hidden Layers: 5\n",
      " - Number of Neurons per Layer: 20\n",
      " - Activation Function: tanh\n",
      " - Initial Learning Rate: 0.001\n",
      " - Final Learning Rate: 0.001\n",
      "\n",
      "Setting with det(I)= 0.0011384386870262697 and MSE= 0.00044137745531646846 had settings\n",
      " - Number of Epochs: 100\n",
      " - Number of Hidden Layers: 7\n",
      " - Number of Neurons per Layer: 20\n",
      " - Activation Function: sigmoid\n",
      " - Initial Learning Rate: 0.01\n",
      " - Final Learning Rate: 0.01\n",
      "\n",
      "Setting with det(I)= 0.008207368285977953 and MSE= 0.0001964447755139141 had settings\n",
      " - Number of Epochs: 200\n",
      " - Number of Hidden Layers: 4\n",
      " - Number of Neurons per Layer: 100\n",
      " - Activation Function: relu\n",
      " - Initial Learning Rate: 0.01\n",
      " - Final Learning Rate: 1e-05\n",
      "\n",
      "Setting with det(I)= 0.00759410195401908 and MSE= 0.0004119747235866947 had settings\n",
      " - Number of Epochs: 50\n",
      " - Number of Hidden Layers: 5\n",
      " - Number of Neurons per Layer: 200\n",
      " - Activation Function: tanh\n",
      " - Initial Learning Rate: 0.001\n",
      " - Final Learning Rate: 0.001\n",
      "\n"
     ]
    }
   ],
   "source": [
    "#Sorted by\n",
    "idsort=8 # test Parton\n",
    "idsort=12 # test Detector\n",
    "\n",
    "#Input Data\n",
    "data = np.load(usesummaryfile)\n",
    "data_sort = data[data[:,idsort].argsort()[::1]][:5,:]\n",
    "\n",
    "for i in range(len(data_sort)):\n",
    "    print ('Setting with det(I)=',data_sort[i,7],'and MSE=',data_sort[i,8], 'had settings')\n",
    "    print (' - Number of Epochs:',choices_epochs[int(data_sort[i,1])])\n",
    "    print (' - Number of Hidden Layers:',choices_nhidden[int(data_sort[i,2])])\n",
    "    print (' - Number of Neurons per Layer:',choices_nneuron[int(data_sort[i,3])])\n",
    "    print (' - Activation Function:',choices_activation[int(data_sort[i,4])])\n",
    "    print (' - Initial Learning Rate:',choices_lrinitial[int(data_sort[i,5])])\n",
    "    print (' - Final Learning Rate:',choices_lrinitial[int(data_sort[i,6])]/choices_lrratio[int(data_sort[i,5])])\n",
    "    print ('')"
   ]
  },
  {
   "cell_type": "code",
   "execution_count": null,
   "metadata": {},
   "outputs": [],
   "source": []
  }
 ],
 "metadata": {
  "kernelspec": {
   "display_name": "Python 2",
   "language": "python",
   "name": "python2"
  },
  "language_info": {
   "codemirror_mode": {
    "name": "ipython",
    "version": 2
   },
   "file_extension": ".py",
   "mimetype": "text/x-python",
   "name": "python",
   "nbconvert_exporter": "python",
   "pygments_lexer": "ipython2",
   "version": "2.7.15"
  }
 },
 "nbformat": 4,
 "nbformat_minor": 2
}
