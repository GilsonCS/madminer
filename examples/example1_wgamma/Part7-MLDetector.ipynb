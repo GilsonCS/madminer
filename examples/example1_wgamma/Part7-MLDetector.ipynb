{
 "cells": [
  {
   "cell_type": "markdown",
   "metadata": {},
   "source": [
    "## Preparations"
   ]
  },
  {
   "cell_type": "markdown",
   "metadata": {},
   "source": [
    "Let us first load all the python libraries again"
   ]
  },
  {
   "cell_type": "code",
   "execution_count": null,
   "metadata": {},
   "outputs": [],
   "source": [
    "import sys\n",
    "import os\n",
    "madminer_src_path = \"/Users/felixkling/Documents/GitHub/madminer\"\n",
    "sys.path.append(madminer_src_path)\n",
    "\n",
    "from __future__ import absolute_import, division, print_function, unicode_literals\n",
    "\n",
    "import numpy as np\n",
    "import matplotlib\n",
    "from matplotlib import pyplot as plt\n",
    "from scipy.optimize import curve_fit\n",
    "% matplotlib inline\n",
    "\n",
    "from madminer.delphes import DelphesProcessor\n",
    "from madminer.sampling import combine_and_shuffle\n",
    "from madminer.utils.particle import MadMinerParticle\n",
    "\n",
    "from madminer.fisherinformation import FisherInformation\n",
    "from madminer.fisherinformation import project_information,profile_information\n",
    "\n",
    "from madminer.plotting import plot_fisher_information_contours_2d\n",
    "\n",
    "from madminer.sampling import SampleAugmenter\n",
    "from madminer.sampling import constant_benchmark_theta, multiple_benchmark_thetas\n",
    "from madminer.sampling import constant_morphing_theta, multiple_morphing_thetas, random_morphing_thetas\n",
    "from madminer.ml import MLForge, EnsembleForge\n",
    "\n",
    "from sklearn.metrics import mean_squared_error"
   ]
  },
  {
   "cell_type": "markdown",
   "metadata": {},
   "source": [
    "## 10. Run MadMiner at Detector Level"
   ]
  },
  {
   "cell_type": "markdown",
   "metadata": {},
   "source": [
    "Let's first define the input file, the number of samples and *effective* number of samples"
   ]
  },
  {
   "cell_type": "code",
   "execution_count": 2,
   "metadata": {},
   "outputs": [],
   "source": [
    "lhedatafile = 'data/madminer_lhedata.h5'\n",
    "detectordatafile='data/madminer_detectordata.h5'\n",
    "pythiadatafile='data/madminer_pythiadata.h5'\n",
    "\n",
    "nsamples = 100000"
   ]
  },
  {
   "cell_type": "markdown",
   "metadata": {},
   "source": [
    "### 10a) Run the Data Augmentation and Machine Learning part with Detetector Level Data"
   ]
  },
  {
   "cell_type": "markdown",
   "metadata": {},
   "source": [
    "First, we once again augment the data and machine learning part again. Here  `n_samples` should be choosen similar to the effective number of events, which also depends on the cuts choosen earlier. "
   ]
  },
  {
   "cell_type": "code",
   "execution_count": 3,
   "metadata": {},
   "outputs": [],
   "source": [
    "sa = SampleAugmenter(detectordatafile, debug=False)\n",
    "\n",
    "n_estimators = 5\n",
    "\n",
    "for i in range(n_estimators):\n",
    "    x, theta, t_xz = sa.extract_samples_train_local(\n",
    "        theta=constant_benchmark_theta('sm'),\n",
    "        n_samples=int(nsamples/2),\n",
    "        folder='./data/samples_detector/',\n",
    "        filename='train{}'.format(i)\n",
    "    )\n",
    "\n",
    "x, theta, t_xz = sa.extract_samples_train_local(\n",
    "    theta=constant_benchmark_theta('sm'),\n",
    "    n_samples=int(nsamples/2),\n",
    "    folder='./data/samples_detector/',\n",
    "    filename='test',\n",
    "    switch_train_test_events=True\n",
    ")"
   ]
  },
  {
   "cell_type": "markdown",
   "metadata": {},
   "source": [
    "Next, we use the perform the ML part"
   ]
  },
  {
   "cell_type": "code",
   "execution_count": 4,
   "metadata": {},
   "outputs": [],
   "source": [
    "ensemble = EnsembleForge(estimators=n_estimators)\n",
    "ensemble.train_all(\n",
    "    method='sally',\n",
    "    x_filename=['data/samples_detector/x_train{}.npy'.format(i) for i in range(n_estimators)],\n",
    "    t_xz0_filename=['data/samples_detector/t_xz_train{}.npy'.format(i) for i in range(n_estimators)],\n",
    "    \n",
    "    n_epochs=100,\n",
    "    n_hidden=(100,100,100,100),\n",
    "    activation='tanh',\n",
    "    initial_lr=0.001,\n",
    "    final_lr=0.0001\n",
    ")\n",
    "\n",
    "ensemble.save('models/samples_detector')"
   ]
  },
  {
   "cell_type": "markdown",
   "metadata": {},
   "source": [
    "### 10b) Run the Data Augmentation and Machine Learning part with Pythia Level Data"
   ]
  },
  {
   "cell_type": "markdown",
   "metadata": {},
   "source": [
    "Now we repeat the same procedure, but with the pythia level data"
   ]
  },
  {
   "cell_type": "code",
   "execution_count": 5,
   "metadata": {},
   "outputs": [],
   "source": [
    "sa = SampleAugmenter(pythiadatafile, debug=False)\n",
    "\n",
    "n_estimators = 5\n",
    "\n",
    "for i in range(n_estimators):\n",
    "    x, theta, t_xz = sa.extract_samples_train_local(\n",
    "        theta=constant_benchmark_theta('sm'),\n",
    "        n_samples=int(nsamples/2),\n",
    "        folder='./data/samples_pythia/',\n",
    "        filename='train{}'.format(i)\n",
    "    )\n",
    "\n",
    "x, theta, t_xz = sa.extract_samples_train_local(\n",
    "    theta=constant_benchmark_theta('sm'),\n",
    "    n_samples=int(nsamples/2),\n",
    "    folder='./data/samples_pythia/',\n",
    "    filename='test',\n",
    "    switch_train_test_events=True\n",
    ")"
   ]
  },
  {
   "cell_type": "code",
   "execution_count": 6,
   "metadata": {},
   "outputs": [],
   "source": [
    "ensemble = EnsembleForge(estimators=n_estimators)\n",
    "ensemble.train_all(\n",
    "    method='sally',\n",
    "    x_filename=['data/samples_pythia/x_train{}.npy'.format(i) for i in range(n_estimators)],\n",
    "    t_xz0_filename=['data/samples_pythia/t_xz_train{}.npy'.format(i) for i in range(n_estimators)],\n",
    "    \n",
    "    n_epochs=100,\n",
    "    n_hidden=(100,100,100,100),\n",
    "    activation='tanh',\n",
    "    initial_lr=0.001,\n",
    "    final_lr=0.0001\n",
    ")\n",
    "\n",
    "ensemble.save('models/samples_pythia')"
   ]
  },
  {
   "cell_type": "markdown",
   "metadata": {},
   "source": [
    "### 10c) Obtain the Fisher Info"
   ]
  },
  {
   "cell_type": "markdown",
   "metadata": {},
   "source": [
    "Now let's evaluate the Fisher Info again"
   ]
  },
  {
   "cell_type": "code",
   "execution_count": 8,
   "metadata": {},
   "outputs": [],
   "source": [
    "fisher_parton = FisherInformation(lhedatafile)\n",
    "\n",
    "fi_ml_mean, fi_ml_covariance = fisher_parton.calculate_fisher_information_full_detector(\n",
    "    theta=[0.,0.],\n",
    "    model_file='models/samples_ensemble',\n",
    "    unweighted_x_sample_file='data/samples_ensemble/x_test.npy',\n",
    "    luminosity=300*1000.\n",
    ")\n",
    "\n",
    "fi_metonly_mean, fi_metonly_covariance = fisher_parton.calculate_fisher_information_full_detector(\n",
    "    theta=[0.,0.],\n",
    "    model_file='models/samples_metonly',\n",
    "    unweighted_x_sample_file='data/samples_ensemble/x_test.npy',\n",
    "    luminosity=300*1000.\n",
    ")\n",
    "\n",
    "fi_truth_mean, fi_truth_covariance = fisher_parton.calculate_fisher_information_full_truth(\n",
    "    theta=[0.,0.],\n",
    "    luminosity=300*1000.\n",
    ")\n",
    "\n",
    "fisher_detector = FisherInformation(detectordatafile, debug=False)\n",
    "\n",
    "fi_detector_mean, fi_detector_covariance = fisher_detector.calculate_fisher_information_full_detector(\n",
    "    theta=[0.,0.],\n",
    "    model_file='models/samples_detector',\n",
    "    unweighted_x_sample_file='data/samples_detector/x_test.npy',\n",
    "    luminosity=300*1000.\n",
    ")\n",
    "\n",
    "fisher_pythia = FisherInformation(pythiadatafile, debug=False)\n",
    "\n",
    "fi_pythia_mean, fi_pythia_covariance = fisher_pythia.calculate_fisher_information_full_detector(\n",
    "    theta=[0.,0.],\n",
    "    model_file='models/samples_pythia',\n",
    "    unweighted_x_sample_file='data/samples_pythia/x_test.npy',\n",
    "    luminosity=300*1000.\n",
    ")"
   ]
  },
  {
   "cell_type": "markdown",
   "metadata": {},
   "source": [
    "And let's plot the result"
   ]
  },
  {
   "cell_type": "code",
   "execution_count": 9,
   "metadata": {},
   "outputs": [
    {
     "data": {
      "image/png": "[encoded data removed]",
      "text/plain": [
       "<matplotlib.figure.Figure at 0x112e36910>"
      ]
     },
     "metadata": {},
     "output_type": "display_data"
    }
   ],
   "source": [
    "_ = plot_fisher_information_contours_2d(\n",
    "    [fi_ml_mean, fi_metonly_mean, fi_detector_mean,fi_pythia_mean,fi_truth_mean ],\n",
    "    [fi_ml_covariance, fi_metonly_covariance,fi_detector_covariance, fi_pythia_covariance,fi_truth_covariance],\n",
    "    colors=[u'C0',u'C1',u'C2',u'C3',\"black\"],\n",
    "    linestyles=[\"solid\",\"solid\",\"solid\",\"solid\",\"dashed\"],\n",
    "    inline_labels=[\"PL: all\",\"PL: MET\",\"Detector\",\"Pythia\",\"PL: truth\"],\n",
    "    xrange=(-15,15),\n",
    "    yrange=(-5,5)\n",
    ")"
   ]
  },
  {
   "cell_type": "code",
   "execution_count": null,
   "metadata": {},
   "outputs": [],
   "source": []
  }
 ],
 "metadata": {
  "kernelspec": {
   "display_name": "Python 2",
   "language": "python",
   "name": "python2"
  },
  "language_info": {
   "codemirror_mode": {
    "name": "ipython",
    "version": 2
   },
   "file_extension": ".py",
   "mimetype": "text/x-python",
   "name": "python",
   "nbconvert_exporter": "python",
   "pygments_lexer": "ipython2",
   "version": "2.7.15"
  }
 },
 "nbformat": 4,
 "nbformat_minor": 2
}
