{
 "cells": [
  {
   "cell_type": "markdown",
   "metadata": {},
   "source": [
    "# MadMiner tutorial for Parton-Level Analysis"
   ]
  },
  {
   "cell_type": "markdown",
   "metadata": {},
   "source": [
    "Johann Brehmer, Felix Kling, Kyle Cranmer 2018\n",
    "\n",
    "In this tutorial we'll demonstrate how to use MadMiner to generate train and test samples for the Information Geometry methods introduced in the following papers:\n",
    "- J. Brehmer, K. Cranmer, F. Kling, T. Plehn: [\"Better Higgs Measurements Through Information Geometry\"](https://arxiv.org/abs/1612.05261)\n",
    "- J. Brehmer, F. Kling, T. Plehn, T.M.P. Tait: [\"Better Higgs-CP Tests Through Information Geometry\"](https://arxiv.org/abs/1712.02350)"
   ]
  },
  {
   "cell_type": "markdown",
   "metadata": {},
   "source": [
    "## 0. Preparations"
   ]
  },
  {
   "cell_type": "markdown",
   "metadata": {},
   "source": [
    "Before you execute this notebook, make sure you have running installations of MadGraph. In addition, MadMiner and LHEMiner have to be in your PYTHONPATH."
   ]
  },
  {
   "cell_type": "code",
   "execution_count": null,
   "metadata": {},
   "outputs": [],
   "source": [
    "import sys\n",
    "import os\n",
    "madminer_src_path = \"/Users/felixkling/Documents/GitHub/madminer\"\n",
    "sys.path.append(madminer_src_path)"
   ]
  },
  {
   "cell_type": "code",
   "execution_count": null,
   "metadata": {},
   "outputs": [],
   "source": [
    "from __future__ import absolute_import, division, print_function, unicode_literals\n",
    "\n",
    "import numpy as np\n",
    "import matplotlib\n",
    "from matplotlib import pyplot as plt\n",
    "from scipy.optimize import curve_fit\n",
    "% matplotlib inline\n",
    "\n",
    "from madminer.core import MadMiner\n",
    "from madminer.plotting import plot_2d_morphing_basis\n",
    "from madminer.sampling import combine_and_shuffle\n",
    "from madminer.lhe import LHEProcessor"
   ]
  },
  {
   "cell_type": "markdown",
   "metadata": {},
   "source": [
    "Please enter here the path to your MG5 root directory."
   ]
  },
  {
   "cell_type": "code",
   "execution_count": null,
   "metadata": {},
   "outputs": [],
   "source": [
    "mg_dir = '/Users/felixkling/work/MG5_aMC_v2_6_2'"
   ]
  },
  {
   "cell_type": "markdown",
   "metadata": {},
   "source": [
    "## 1. Define parameter space"
   ]
  },
  {
   "cell_type": "markdown",
   "metadata": {},
   "source": [
    "After creating a `GoldMine` instance, the first important step is the definition of the parameter space. Each model parameter is characterized by a name as well as the LHA block and ID.\n",
    "\n",
    "If morphing is used, one also has to specify the maximal power with which the parameter contributes to the squared matrix element. For instance, a parameter that contributes only to one vertex, will typically have `morphing_max_power=2`, while a parameter that contributes to two vertices usually has `morphing_max_power=4`. Exceptions arise for instance when the interference effects between the SM and dimension-six operators are modelled, but the square of the dimension-six amplitude (subleading in 1/Lambda) is not taken into account, in which case `morphing_max_power=1`. Finally, the `parameter_range` argument defines the range of parameter values that are used for the automatic optimization of the morphing basis."
   ]
  },
  {
   "cell_type": "code",
   "execution_count": null,
   "metadata": {},
   "outputs": [],
   "source": [
    "miner = MadMiner()\n",
    "\n",
    "miner.add_parameter(\n",
    "    lha_block='dim6',\n",
    "    lha_id=2,\n",
    "    parameter_name='CWL2',\n",
    "    morphing_max_power=2,\n",
    "    parameter_range=(-50.,50.)\n",
    ")\n",
    "miner.add_parameter(\n",
    "    lha_block='dim6',\n",
    "    lha_id=5,\n",
    "    parameter_name='CPWL2',\n",
    "    morphing_max_power=2,\n",
    "    parameter_range=(-50.,50.)\n",
    ")"
   ]
  },
  {
   "cell_type": "markdown",
   "metadata": {},
   "source": [
    "## 2. Define benchmark points (evaluation points for |M|^2)"
   ]
  },
  {
   "cell_type": "markdown",
   "metadata": {},
   "source": [
    "The next step is the definition of all the points at which the weights (squared matrix elements) should be evaluated by MadGraph. We call these points \"benchmarks\"."
   ]
  },
  {
   "cell_type": "markdown",
   "metadata": {},
   "source": [
    "### 2a. Set benchmarks by hand"
   ]
  },
  {
   "cell_type": "markdown",
   "metadata": {},
   "source": [
    "One can define benchmarks by hand:"
   ]
  },
  {
   "cell_type": "code",
   "execution_count": null,
   "metadata": {},
   "outputs": [],
   "source": [
    "miner.add_benchmark(\n",
    "    {'CWL2':0., 'CPWL2':0.},\n",
    "    'sm'\n",
    ")\n",
    "miner.add_benchmark(\n",
    "    {'CWL2':20., 'CPWL2':0.},\n",
    "    'w'\n",
    ")\n",
    "miner.add_benchmark(\n",
    "    {'CWL2':50., 'CPWL2':0.},\n",
    "    'w2'\n",
    ")"
   ]
  },
  {
   "cell_type": "markdown",
   "metadata": {},
   "source": [
    "### 2b. Benchmarks for morphing"
   ]
  },
  {
   "cell_type": "markdown",
   "metadata": {},
   "source": [
    "If morphing is used, the function `set_benchmarks_from_morphing` has to be called. With the option `keep_existing_benchmarks=True`, MadMiner will keep all the benchmark points defined beforehand and run a simple optimization algorithm to fix the remaining ones for the basis (which may be none). Otherwise, MadMiner will optimize the full basis and forget about all previously defined benchmark points. The argument `n_trials` determines the number of random candidate bases that the optimization algorithm goes through."
   ]
  },
  {
   "cell_type": "code",
   "execution_count": null,
   "metadata": {
    "scrolled": true
   },
   "outputs": [],
   "source": [
    "miner.set_benchmarks_from_morphing(\n",
    "    keep_existing_benchmarks=True,\n",
    "    n_trials=1000,\n",
    "    max_overall_power=2\n",
    ")"
   ]
  },
  {
   "cell_type": "markdown",
   "metadata": {},
   "source": [
    "Let's have a look at the resulting morphing basis and the \"morphing error\", i.e. the sum of squared morphing weights as a function of the parameter space:"
   ]
  },
  {
   "cell_type": "code",
   "execution_count": null,
   "metadata": {},
   "outputs": [],
   "source": [
    "fig = plot_2d_morphing_basis(\n",
    "    miner.morpher,\n",
    "    xlabel=r'$c_{W} / \\Lambda^2$ [TeV$^{-2}$]',\n",
    "    ylabel=r'$c_{\\tilde{W}} / \\Lambda^2$ [TeV$^{-2}$]',\n",
    "    xrange=(-60.,60),\n",
    "    yrange=(-60.,60.)\n",
    ")"
   ]
  },
  {
   "cell_type": "markdown",
   "metadata": {},
   "source": [
    "## 4. Change UFO Model to include detector smearing"
   ]
  },
  {
   "cell_type": "markdown",
   "metadata": {},
   "source": [
    "To simulate the resolution of the invariant masses due to detector smearing, we use a simple trick: we change the Higgs propagator to reproduce the wanted (smeared) invariant mass distribution. The following example illustrates how to change the UFO model `EWdim6` to reproduce the invariant mass distribution for $H\\to\\gamma\\gamma$. \n",
    "\n",
    "1. We base our simulation of detector effects on the CMS simulation in Fig. 6 (right) of [CMS-PAS-HIG-15-005](https://cds.cern.ch/record/2140979). In particular, we describe the peak region of the $H\\to\\gamma\\gamma$ diphoton mass distribution by a Gaussian \n",
    "\n",
    "    \\begin{equation}\n",
    "    Gaus\\left(m~|~N,m_H,\\sigma\\right)=\\frac{N}{\\sqrt{2\\pi}\\sigma}\\text{Exp}\\left[-\\frac{1}{2} \\left(\\frac{m-m_H}{\\sigma}\\right)^2\\right].\n",
    "    \\end{equation}\n",
    "    \n",
    "    From a fit to the normalized distribution we obtain: $N=0.92$, $m_H=124.7$ and $\\sigma=1.67$. The normalization factor $N$ accounts for the fact, that a gaussian does not describe the tails of the dsitribition well. However, these tails will hardly contribute to the information and we account for the loss of signal rate in these tails through the normalization factor $N$. \n",
    "\n",
    "\n",
    "2. We now replace the usual Breit-Wigner propagator with the (square-root) of the Gaussian distribution: \n",
    "    \n",
    "    \\begin{equation} \n",
    "    \\frac{1}{p^2-m_H^2+i \\Gamma m_H} \\rightarrow \\big[\\frac{N}{N_{BW}}\\frac{1}{\\sqrt{2\\pi}\\sigma}\\big]^{1/2} \\text{Exp}\\left[-\\frac{1}{4} \\left(\\frac{m-m_H}{\\sigma}\\right)^2\\right].\n",
    "    \\end{equation} \n",
    "    \n",
    "    The normalization of the Breit-Wigner is given by  $N_{BW}\\approx 2 m_H^2 \\Gamma_H / \\pi $.  (Here I used $\\Gamma_H \\ll m_H$. For full formula see [Wikipedia](https://en.wikipedia.org/wiki/Relativistic_Breit%E2%80%93Wigner_distribution)). \n",
    "    \n",
    "    This can simply be implemented in the file `propagators.py` of the UFO model. First define the new propagator. Here I use the values obtained from the fit above and choose the prefactor $(\\sqrt{2\\pi}\\sigma N_{BW} / N)^{1/2} = 12.438$ \n",
    "    \n",
    "    `denominator_Higgs=\"12.438*cmath.exp(0.25*(cmath.sqrt(P('mu',id)*P('mu',id))-124.7)**2/1.5245**2)\" `\n",
    "    \n",
    "    Assign the new propagator to to the scalar particles  \n",
    "    \n",
    "    `S = Propagator(name = \"S\",numerator = \"complex(0,1)\",denominator = denominator_Higgs)`\n",
    "\n",
    "\n",
    "3. By defaukt, MadGraph doesn't use the content of `propagators.py`. So we have to make sure it's used. This can simply be done by changing the particle information in the `particles.py` file of the UFO model\n",
    "\n",
    "    `H = Particle(pdg_code = 25, name = 'H', ... , propagator = Prop.S)`\n",
    "    \n",
    "    \n",
    "4. Finally, we will change the `bwcutoff` in `run_card.dat` to ensure that MadGraph integrated over the desired range. The choice of `bwcutoff` depends on the choosen value of the Higgs width in the `param_card.dat`. For $\\Gamma_H=4.07$ MeV I would suggest to choose `bwcutoff=2000`, which then covers an integration range of $m_H \\pm 2000\\times \\Gamma_H = 116.9\\dots 133.1$ GeV. \n",
    "\n",
    "    Note: if you get an error message such as `IEEE_UNDERFLOW_FLAG` or `IEEE_DENORMAL`, it probably means you have choosen a too large value for `bwcutoff`"
   ]
  },
  {
   "cell_type": "markdown",
   "metadata": {},
   "source": [
    "## 4. Save settings and run MadGraph"
   ]
  },
  {
   "cell_type": "markdown",
   "metadata": {},
   "source": [
    "The parameter space, benchmark points, and morphing setup are saved in a HDF5 file:"
   ]
  },
  {
   "cell_type": "code",
   "execution_count": null,
   "metadata": {},
   "outputs": [],
   "source": [
    "miner.save('data/madminer_example.h5')"
   ]
  },
  {
   "cell_type": "markdown",
   "metadata": {},
   "source": [
    "In a next step, MadMiner starts MadGraph and Pythia to generate events and calculate the weights. You have to provide paths to the process card, run card, param card (the entries corresponding to the parameters of interest will be automatically adapted), and an empty reweight card.\n",
    "\n",
    "The `sample_benchmark` option can be used to specify which benchmark should be used for sampling. If it is not used, MadMiner will automatically use the benchmark that was added first. Finally, if MadGraph is supposed to run in a different Python environment or requires other setup steps, you can use the `initial_command` argument.\n",
    "\n",
    "Comment: make sure the `event_norm = sum` in the run_card. Otherwise the normalization is wrong by a factor `nevent`."
   ]
  },
  {
   "cell_type": "code",
   "execution_count": null,
   "metadata": {},
   "outputs": [],
   "source": [
    "miner.run(\n",
    "    mg_directory=mg_dir,\n",
    "    proc_card_file='cards/proc_card_parton.dat',\n",
    "    param_card_template_file='cards/param_card_template.dat',\n",
    "    reweight_card_template_file='cards/reweight_card_template.dat',\n",
    "    run_card_file='cards/run_card_parton.dat',\n",
    "    sample_benchmark='sm',\n",
    "    initial_command='source ~/.bashrc'\n",
    ")"
   ]
  },
  {
   "cell_type": "markdown",
   "metadata": {},
   "source": [
    "## 5. Extract Parton Level Observables / Weights "
   ]
  },
  {
   "cell_type": "markdown",
   "metadata": {},
   "source": [
    "Here we extract the parton level information (observables and weights) from the .lhe file. This is done with the LHEProcessor package. "
   ]
  },
  {
   "cell_type": "code",
   "execution_count": null,
   "metadata": {},
   "outputs": [],
   "source": [
    "lhep = LHEProcessor()"
   ]
  },
  {
   "cell_type": "markdown",
   "metadata": {},
   "source": [
    "After creating the object, one can add a number of LHE event samples."
   ]
  },
  {
   "cell_type": "code",
   "execution_count": null,
   "metadata": {
    "scrolled": false
   },
   "outputs": [],
   "source": [
    "lhep.add_lhe_sample('MG_process/Events/run_01/unweighted_events.lhe.gz',sampling_benchmark=\"sm\")"
   ]
  },
  {
   "cell_type": "markdown",
   "metadata": {},
   "source": [
    "We also want to specify the Benchmark names, because sometimes the order is mixed up in the LHE files. But fortunately, we already stored them in the HDF5 file. "
   ]
  },
  {
   "cell_type": "code",
   "execution_count": null,
   "metadata": {},
   "outputs": [],
   "source": [
    "lhep.read_benchmark_names('data/madminer_example.h5')"
   ]
  },
  {
   "cell_type": "markdown",
   "metadata": {},
   "source": [
    "Not let's define some observables. The `p[i]` correspond to the i'th parton momentum as specified when generating the process.  All of these objects are scikit-hep [LorentzVectors](http://scikit-hep.org/api/math.html#vector-classes), see the link for a documentation of their properties."
   ]
  },
  {
   "cell_type": "code",
   "execution_count": null,
   "metadata": {},
   "outputs": [],
   "source": [
    "lhep.add_observable('pt_j1', 'p[0].pt')\n",
    "lhep.add_observable('pt_j2', 'p[1].pt')\n",
    "lhep.add_observable('m_jj', '(p[0] + p[1]).m')\n",
    "lhep.add_observable('m_aa', '(p[2] + p[3]).m')"
   ]
  },
  {
   "cell_type": "markdown",
   "metadata": {},
   "source": [
    "The function `analyse_lhe_samples` extracts all these observables and weights from the LHE file(s) "
   ]
  },
  {
   "cell_type": "code",
   "execution_count": null,
   "metadata": {},
   "outputs": [],
   "source": [
    "lhep.analyse_lhe_samples()"
   ]
  },
  {
   "cell_type": "markdown",
   "metadata": {},
   "source": [
    "The values of the observables and the weights are then saved in the HDF5 file. It is possible to overwrite the same file, or to leave the original file intact and save all the data into a new file as follows:"
   ]
  },
  {
   "cell_type": "code",
   "execution_count": null,
   "metadata": {},
   "outputs": [],
   "source": [
    "lhep.save('data/madminer_example_with_lhedata.h5', 'data/madminer_example.h5')"
   ]
  },
  {
   "cell_type": "markdown",
   "metadata": {},
   "source": [
    "Let's make a quick cross check by plotting a distributions"
   ]
  },
  {
   "cell_type": "code",
   "execution_count": null,
   "metadata": {},
   "outputs": [],
   "source": [
    "fig = plt.figure(figsize=(5,5))\n",
    "\n",
    "for weights in lhep.weights:\n",
    "    plt.hist(lhep.observations['m_jj'], range=(0.,1000.), bins=20, histtype='step', weights=weights)\n",
    "\n",
    "plt.show()"
   ]
  },
  {
   "cell_type": "markdown",
   "metadata": {},
   "source": [
    "Here I explicitly check the smearing of the mass peak and compare it to the wanted distribution obtained from the experimental collaboration. "
   ]
  },
  {
   "cell_type": "code",
   "execution_count": null,
   "metadata": {},
   "outputs": [],
   "source": [
    "#Define my fitting function\n",
    "def myfunction(x, mean, amplitude, standard_deviation):\n",
    "    return amplitude/np.sqrt(2.0*3.1415*standard_deviation**2) * np.exp( - 0.5*((x - mean) / standard_deviation) ** 2)\n",
    "\n",
    "#Function to do the plotting\n",
    "def smearing_validation_plot(filename,lheprocessor,inputrange,label):\n",
    "    \n",
    "    #Get Data from Experiment / MadMiner\n",
    "    exp_data , exp_weights = np.loadtxt(filename)[:,0] , np.loadtxt(filename)[:,1]\n",
    "    madminer_data , madminer_weights = lheprocessor.observations['m_aa'] , lheprocessor.weights[0]\n",
    "\n",
    "    #Plot Exp. Data\n",
    "    fig = plt.figure(figsize=(5,5))\n",
    "    bin_heights, bin_borders, _ = plt.hist(exp_data, weights=exp_weights,normed=True,\n",
    "        range=(inputrange[0],inputrange[1]), bins=inputrange[2], \n",
    "        histtype='step',color='Red',label=label)\n",
    "\n",
    "    #Fit to Experiment\n",
    "    bin_centers = bin_borders[:-1] + np.diff(bin_borders) / 2\n",
    "    bestfit, _ = curve_fit(myfunction, bin_centers, bin_heights, p0=[125, 1, 1])\n",
    "    fitplotrange=np.arange(inputrange[0], inputrange[1], 0.01)\n",
    "    plt.plot(fitplotrange,myfunction(fitplotrange,bestfit[0],bestfit[1],bestfit[2]),\n",
    "        color='Black',linestyle='dashed', label='Fit to Experiment')\n",
    "    \n",
    "    #Plot MadMiner\n",
    "    norm = sum(madminer_weights)\n",
    "    print ('The total cross section is: %.6f pb'%(norm),)\n",
    "    bin_heights_mm, _ , _ = plt.hist(madminer_data,\n",
    "        weights = madminer_weights/norm*inputrange[2]/(inputrange[1]-inputrange[0])*bestfit[1],\n",
    "        range=(inputrange[0],inputrange[1]), bins=inputrange[2], \n",
    "         histtype='step',color='Blue',label='MadMiner')  \n",
    "\n",
    "    #Finish Plot\n",
    "    plt.legend(loc='upper left')\n",
    "    upperbound=max(max(bin_heights),max(bin_heights_mm))\n",
    "    plt.text(inputrange[0],0.75*upperbound,\n",
    "         r'$\\frac{N}{\\sqrt{2\\pi}\\sigma}\\exp\\left[-\\frac{1}{2}\\left(\\frac{m-m_H}{\\sigma}\\right)^2\\right]$',\n",
    "         fontsize=14)\n",
    "    plt.text(inputrange[0],0.65*upperbound,r'$m_H$=%.3f'%(bestfit[0]),fontsize=14)\n",
    "    plt.text(inputrange[0],0.60*upperbound,r'$N$=%.3f'%(bestfit[1]),fontsize=14)\n",
    "    plt.text(inputrange[0],0.55*upperbound,r'$\\sigma$=%.3f'%(bestfit[2]),fontsize=14)\n",
    "\n",
    "    plt.show()\n",
    "\n",
    "#Call Function\n",
    "smearing_validation_plot('smearing_data/h_2_aa.txt',lhep,[115,130,30],'CMS: PAS HIG-15-005')"
   ]
  },
  {
   "cell_type": "markdown",
   "metadata": {},
   "source": [
    "## 6. Calculate Fisher Information"
   ]
  },
  {
   "cell_type": "code",
   "execution_count": 1,
   "metadata": {},
   "outputs": [],
   "source": [
    "import sys\n",
    "import os\n",
    "madminer_src_path = \"/Users/felixkling/Documents/GitHub/madminer\"\n",
    "sys.path.append(madminer_src_path)\n",
    "\n",
    "from __future__ import absolute_import, division, print_function, unicode_literals\n",
    "\n",
    "import numpy as np\n",
    "import math\n",
    "import matplotlib\n",
    "from matplotlib import pyplot as plt\n",
    "from scipy.optimize import curve_fit\n",
    "% matplotlib inline"
   ]
  },
  {
   "cell_type": "markdown",
   "metadata": {},
   "source": [
    "Here we calculate the Parton Level Fisher Information, using the data extracted from the LHE file. This is done by the MadFisher package. To initialize it, we load the data from an HDF5 file."
   ]
  },
  {
   "cell_type": "code",
   "execution_count": 2,
   "metadata": {},
   "outputs": [
    {
     "name": "stderr",
     "output_type": "stream",
     "text": [
      "15:52  \n",
      "15:52  ------------------------------------------------------------\n",
      "15:52  |                                                          |\n",
      "15:52  |  MadMiner v2018.09.17                                    |\n",
      "15:52  |                                                          |\n",
      "15:52  |           Johann Brehmer, Kyle Cranmer, and Felix Kling  |\n",
      "15:52  |                                                          |\n",
      "15:52  ------------------------------------------------------------\n",
      "15:52  \n",
      "15:52  Loading data from data/madminer_example_with_lhedata.h5\n",
      "15:52  Found 2 parameters:\n",
      "15:52     CWL2 (LHA: dim6 2, maximal power in squared ME: (2,), range: (-50.0, 50.0))\n",
      "15:52     CPWL2 (LHA: dim6 5, maximal power in squared ME: (2,), range: (-50.0, 50.0))\n",
      "15:52  Found 6 benchmarks:\n",
      "15:52     sm: CWL2 = 0.00e+00, CPWL2 = 0.00e+00\n",
      "15:52     w: CWL2 = 20.00, CPWL2 = 0.00e+00\n",
      "15:52     w2: CWL2 = 50.00, CPWL2 = 0.00e+00\n",
      "15:52     morphing_basis_vector_3: CWL2 = -3.13e+00, CPWL2 = -4.53e+01\n",
      "15:52     morphing_basis_vector_4: CWL2 = 4.14, CPWL2 = 32.07\n",
      "15:52     morphing_basis_vector_5: CWL2 = 34.52, CPWL2 = 42.42\n",
      "15:52  Found 4 observables: pt_j1, pt_j2, m_jj, m_aa\n",
      "15:52  Found 100 events\n",
      "15:52  Found morphing setup with 6 components\n"
     ]
    }
   ],
   "source": [
    "from madminer.fisherinformation import FisherInformation\n",
    "mf = FisherInformation('data/madminer_example_with_lhedata.h5')"
   ]
  },
  {
   "cell_type": "markdown",
   "metadata": {},
   "source": [
    "The functions `extract_raw_data()` allows to extract the raw data, consisting of the observables and weighst for the morphing benchmarks. Similarly `extract_observables_and_weights(thetas)` allows to extract the observables and weights for a specified list of benchmarks `thetas`. This function is usefull for both cross checks and simple plotting. "
   ]
  },
  {
   "cell_type": "code",
   "execution_count": 3,
   "metadata": {},
   "outputs": [],
   "source": [
    "# Get List of Raw Data: Observables and Weights \n",
    "x , w = mf.extract_raw_data()\n",
    "\n",
    "# Get List of Data for specified Benchmark: Observables and Weights \n",
    "thistheta=np.array([20,0])\n",
    "_ , w = mf.extract_observables_and_weights([thistheta])"
   ]
  },
  {
   "cell_type": "markdown",
   "metadata": {},
   "source": [
    "We can now calculate the Fisher Information for a given benchmark and a given luminosity (in units of pb$^{-1}$) after considering a set of cuts. The cuts can take into account any function of the observables defined when initializing the LHEProcessor. Additionally there are underflow/overflow bins. \n",
    "\n",
    "There are multiple Fisher Info options\n",
    "- `calculate_fisher_information_full_truth(theta,luminosity,cuts)`, which calculates the full Fisher Info, by summing over the Fisher Infos for each event passing the cuts: $I_{ij}^{full} = \\sum_{events} I_{ij}(w_i)$\n",
    "- `calculate_fisher_information_rate(theta,luminosity,cuts)`, which calculates the Fisher Info corresponding to only the rate, by evaluating the Fisher Info of the sum the weights of all events passing the cuts: $I_{ij}^{rate} =  I_{ij}(\\sum_{events} w_i)$ \n",
    "- `calculate_fisher_information_hist1d(theta,luminosity,cuts,observable,nbins,histrange)`, which calculates the Fisher Info in a 1D histogram, by summing over the Rate Fisher Infos for each bin in the 1D Histogram: $I_{ij}^{hist} =  \\sum_{bins} I_{ij}(w_i)$\n",
    "- `calculate_fisher_information_hist2d(theta,luminosity,cuts,observable1,nbins1,histrange1,observable2,nbins2,histrange2)`, which calculates the Fisher Info in a 2D histogram, by summing over the Rate Fisher Infos for each bin in the 2D Histogram: $I_{ij}^{hist} =  \\sum_{bins} I_{ij}(w_i)$\n",
    "\n",
    "Note that `observable` can be any function of observables"
   ]
  },
  {
   "cell_type": "code",
   "execution_count": 57,
   "metadata": {},
   "outputs": [
    {
     "name": "stdout",
     "output_type": "stream",
     "text": [
      "Full    Fisher Info: \n",
      " [[ 0.01811331 -0.00546326]\n",
      " [-0.00546326  0.02089807]]\n",
      "Rate    Fisher Info: \n",
      " [[ 0.0083552  -0.00158135]\n",
      " [-0.00158135  0.00029929]]\n",
      "Hist 1D Fisher Info: \n",
      " [[0.012892   0.00021353]\n",
      " [0.00021353 0.00714368]]\n",
      "Hist 2D Fisher Info: \n",
      " [[ 0.01379525 -0.00126411]\n",
      " [-0.00126411  0.00956097]]\n"
     ]
    }
   ],
   "source": [
    "# Define Benchmark\n",
    "thistheta=np.array([20,0])\n",
    "\n",
    "#Define luminosity in inverse pb\n",
    "thislumi=100*1000;\n",
    "\n",
    "#Define Cuts\n",
    "thiscuts = ['m_jj>100','pt_j1>100']\n",
    "\n",
    "#Define Histogram 1D\n",
    "thisxobservable='m_jj'\n",
    "thisxrange=(0,5000)\n",
    "thisxnbins=10\n",
    "\n",
    "#Define Histogram 2D\n",
    "thisyobservable='pt_j1'\n",
    "thisyrange=(0,2000)\n",
    "thisynbins=10\n",
    "\n",
    "#Full Fisher Info\n",
    "fi_full = mf.calculate_fisher_information_full_truth(theta=thistheta,\n",
    "                                                     luminosity=thislumi,\n",
    "                                                     cuts=thiscuts\n",
    "                                                     )\n",
    "fi_rate = mf.calculate_fisher_information_rate(theta=thistheta,\n",
    "                                                     luminosity=thislumi,\n",
    "                                                     cuts=thiscuts\n",
    "                                                     )\n",
    "fi_hist1d = mf.calculate_fisher_information_hist1d(theta=thistheta,\n",
    "                                                       luminosity=thislumi,\n",
    "                                                       cuts=thiscuts,\n",
    "                                                       observable=thisxobservable,\n",
    "                                                       nbins=thisxnbins,\n",
    "                                                       histrange=thisxrange\n",
    "                                                       )\n",
    "fi_hist2d = mf.calculate_fisher_information_hist2d(theta=thistheta,\n",
    "                                                       luminosity=thislumi,\n",
    "                                                       cuts=thiscuts,\n",
    "                                                       observable1=thisxobservable,\n",
    "                                                       nbins1=thisxnbins,\n",
    "                                                       histrange1=thisxrange,\n",
    "                                                       observable2=thisyobservable,\n",
    "                                                       nbins2=thisynbins,\n",
    "                                                       histrange2=thisyrange\n",
    "                                                       )\n",
    "\n",
    "print ('Full    Fisher Info: \\n' , fi_full) \n",
    "print ('Rate    Fisher Info: \\n' , fi_rate)\n",
    "print ('Hist 1D Fisher Info: \\n' , fi_hist1d) \n",
    "print ('Hist 2D Fisher Info: \\n' , fi_hist2d) "
   ]
  },
  {
   "cell_type": "markdown",
   "metadata": {},
   "source": [
    "ToDo List: \n",
    "1. Take into account efficiencies (such as for b-tagging)\n",
    "2. DONE Check luminosity units. \n",
    "3. DONE Add Information in 2D Histograms \n",
    "4. Add Plot Differential FI\n",
    "5. Add Plot Reach\n",
    "6. Add Bar Plot\n",
    "7. DONE Overflowbin? Underflowbin? "
   ]
  },
  {
   "cell_type": "markdown",
   "metadata": {},
   "source": [
    "THE FOLLOWING FUNTIONS ARE WORK IN PROGRESS! DON'T WORK ON THEM!!1!!!11!!!"
   ]
  },
  {
   "cell_type": "code",
   "execution_count": 87,
   "metadata": {},
   "outputs": [],
   "source": [
    "from madminer.utils.various import create_missing_folders\n",
    "def plot_det_list_split(matrices,\n",
    "                        matrices_for_determinants,\n",
    "                        labels,\n",
    "                        categories,\n",
    "                        operatorlabels,\n",
    "                        filename,\n",
    "                        additional_label='',\n",
    "                        top_label='',\n",
    "                        normalise_determinants=False,\n",
    "                        use_bar_colors=False,\n",
    "                        eigenvalue_operator_legend2=True\n",
    "                       ):\n",
    "    \n",
    "    #################################################################################\n",
    "    # Data\n",
    "    #################################################################################\n",
    "    \n",
    "    epsilon = 1.e-9\n",
    "    size = len(matrices[1])\n",
    "    size_lower = len(matrices_for_determinants[1])\n",
    "    exponent = 1./float(size)\n",
    "    exponent_lower = 1./float(size_lower)\n",
    "    \n",
    "    determinants = [np.linalg.det(m)**exponent_lower for m in matrices_for_determinants]\n",
    "\n",
    "    # normalise determinants\n",
    "    if normalise_determinants:\n",
    "        max_information = max(determinants)\n",
    "        determinants = determinants / max_information\n",
    "    else:\n",
    "        max_information = 1.\n",
    "\n",
    "    assert len(determinants) == len(labels)\n",
    "    n_entries = len(determinants)\n",
    "\n",
    "    print ('')\n",
    "    for l,d in zip(labels,determinants):\n",
    "        print (l + ': det I_{ij} =', d)\n",
    "\n",
    "    eigenvalues = []\n",
    "    eigenvalues_dominant_components = []\n",
    "    eigenvalues_composition = []\n",
    "    \n",
    "    for m in matrices:\n",
    "        v,w = np.linalg.eig(m)\n",
    "        w=np.transpose(w)\n",
    "        v,w = zip(*sorted(zip(v,w),\n",
    "                 key=lambda x: x[0],\n",
    "                 reverse=True))\n",
    "        temp = []\n",
    "        temp_dominant_components = []\n",
    "        temp_composition = []\n",
    "        for vi,wi in zip(v,w):\n",
    "            temp.append(vi)\n",
    "            temp_dominant_components.append(np.argmax(np.absolute(wi)))\n",
    "            temp_composition.append(wi * wi / (sum(wi * wi)) )\n",
    "\n",
    "        eigenvalues.append(temp)\n",
    "        eigenvalues_dominant_components.append(temp_dominant_components)\n",
    "        eigenvalues_composition.append(temp_composition)\n",
    "            \n",
    "    if len(categories) == 0:\n",
    "        categories = [0 for i in range(n_entries)]\n",
    "    \n",
    "    #################################################################################\n",
    "    # Plotting options\n",
    "    #################################################################################\n",
    "\n",
    "    # Base x values\n",
    "    base_xvalues = np.linspace(0., float(n_entries) - 1., n_entries)\n",
    "    for i in range(n_entries):\n",
    "        base_xvalues[i] += (float(categories[i]) * 1.)\n",
    "\n",
    "    base_xmin = base_xvalues[0]\n",
    "    base_xmax =  base_xvalues[n_entries-1] + 1.\n",
    "    \n",
    "    xpos = base_xvalues + 0.2\n",
    "    width = 0.6\n",
    "    xmin_eigenvalues = base_xvalues + 0.08\n",
    "    xmax_eigenvalues = base_xvalues + 0.92\n",
    "    xpos_ticks = base_xvalues + 0.5\n",
    "    \n",
    "    xpos_lower = base_xvalues + 0.5\n",
    "    width_lower = 0.8\n",
    "\n",
    "    if use_bar_colors:\n",
    "        bar_colors = ['red', 'blue', 'green', 'darkorange', 'fuchsia', 'turquoise']*5\n",
    "        bar_colors_light = ['red', 'blue', 'green', 'darkorange', 'fuchsia', 'turquoise']*5\n",
    "    else:\n",
    "        bar_colors = ['0.5']*30\n",
    "        bar_colors_light = ['0.9']*30\n",
    "            \n",
    "    if size == 2 and r'\\widetilde' in additional_label:\n",
    "        eigenvalue_colors = ['green', 'turquoise']\n",
    "        operator_order = [0,1]\n",
    "    elif size == 2:\n",
    "        eigenvalue_colors = ['blue', 'green']\n",
    "        operator_order = [0,1]\n",
    "    elif size == 3:\n",
    "        eigenvalue_colors = ['blue', 'green', 'red']\n",
    "        operator_order = [2,0,1]\n",
    "    elif size == 5:\n",
    "        eigenvalue_colors = ['darkorange', 'blue', 'fuchsia', 'green', 'red']\n",
    "        operator_order = [4,1,3,0,2]\n",
    "    else:\n",
    "        eigenvalue_colors = ['darkorange', 'blue', 'fuchsia', 'green', 'red', 'turquoise'] * 5.\n",
    "    eigenvalue_linewidth = 1.5\n",
    "\n",
    "    #################################################################################\n",
    "    # Upper plot\n",
    "    #################################################################################\n",
    "\n",
    "    # Plot bars!\n",
    "    fig = plt.figure(figsize=(9.,6.))\n",
    "    ax1 = plt.subplot(211)\n",
    "    ax1.set_yscale('log')\n",
    "    fig.subplots_adjust(left=0.075,right=0.925,bottom=0.15,top=0.95,wspace=0,hspace=0)\n",
    "        \n",
    "    # Plot eigenvalues\n",
    "    for i in range(n_entries):\n",
    "        ## plt.hlines(eigenvalues[i],\n",
    "        ##            xmin_eigenvalues[i], xmax_eigenvalues[i],\n",
    "        ##            [eigenvalue_colors[dc] for dc in eigenvalues_dominant_components[i]],\n",
    "        ##            linestyles='solid',\n",
    "        ##            linewidth=eigenvalue_linewidth)\n",
    "\n",
    "        for eigenvalue, composition in zip(eigenvalues[i],eigenvalues_composition[i]):\n",
    "            # gap sizing\n",
    "            n_gaps = -1\n",
    "            minimal_fraction_for_plot = 0.01\n",
    "            for fraction in composition:\n",
    "                if fraction >= minimal_fraction_for_plot:\n",
    "                    n_gaps += 1\n",
    "            gap_fraction = 0.04\n",
    "            gap_correction_factor = 1. - n_gaps * gap_fraction\n",
    "\n",
    "            fraction_finished = 0.\n",
    "\n",
    "            for j in range(len(composition)):\n",
    "                component = operator_order[j]\n",
    "                fraction = composition[component]\n",
    "            # for component, fraction in enumerate(composition):\n",
    "                if fraction >= minimal_fraction_for_plot:\n",
    "                    plt.hlines([eigenvalue],\n",
    "                               xmin_eigenvalues[i] + fraction_finished * (xmax_eigenvalues[i] - xmin_eigenvalues[i]),\n",
    "                               xmin_eigenvalues[i] + (fraction_finished + gap_correction_factor * fraction) * (xmax_eigenvalues[i] - xmin_eigenvalues[i]),\n",
    "                               eigenvalue_colors[component],\n",
    "                               linestyles='solid',\n",
    "                               linewidth=eigenvalue_linewidth)\n",
    "                    fraction_finished += gap_correction_factor * fraction + gap_fraction\n",
    "\n",
    "    ax1.set_xlim([base_xmin - 0.2,base_xmax + 0.2])\n",
    "\n",
    "    if size > 2:\n",
    "        orderofmagnitudes = 1.e6\n",
    "        topfactor = 8.\n",
    "    else:\n",
    "        orderofmagnitudes = 1.e3\n",
    "        topfactor = 3.\n",
    "\n",
    "    ax1.set_ylim([ max([max(ev) for ev in eigenvalues]) / orderofmagnitudes,\n",
    "                             max([max(ev) for ev in eigenvalues])*topfactor])\n",
    "    legend_position = max([max(ev) for ev in eigenvalues])*topfactor / (topfactor * orderofmagnitudes)**0.1\n",
    "    \n",
    "    ax1.set_xticks(xpos_ticks)\n",
    "    ax1.set_xticklabels(['' for l in labels], rotation=40, ha='right')\n",
    "    ax1.set_ylabel(r'$I_{ij}$ eigenvalues')\n",
    "    ax1.yaxis.set_label_coords(-0.055,0.5)\n",
    "\n",
    "    plt.title(top_label,\n",
    "              fontdict={'fontsize':12.},\n",
    "              loc='right')\n",
    "    \n",
    "    # Second axis with typical precision \n",
    "    ax2 = ax1.twinx()\n",
    "    ax2.set_yscale('log')\n",
    "\n",
    "    def precision_to_information(precision):\n",
    "        # return 1. / np.maximum(precision,epsilon * np.ones_like(precision)) / np.maximum(precision,epsilon * np.ones_like(precision)) / 0.246**4\n",
    "        return (np.maximum(precision,epsilon) / 0.246) ** 4.\n",
    "\n",
    "    def information_to_precision(fisher_inf):\n",
    "        # return 1. / np.sqrt(np.maximum(fisher_inf,epsilon * np.ones_like(fisher_inf))) / 0.246**2\n",
    "        return 0.246 * np.maximum(fisher_inf,epsilon) ** 0.25\n",
    "    \n",
    "    def tick_function_information(fisher_inf):\n",
    "        # precision = 1. / np.sqrt(np.maximum(fisher_inf,epsilon * np.ones_like(fisher_inf))) / 0.246**2\n",
    "        precision = 0.246 * np.maximum(fisher_inf,epsilon) ** 0.25\n",
    "        return [str(z) for z in precision]\n",
    "    \n",
    "    def tick_function_precision(precision):\n",
    "        return [str(z) for z in precision]\n",
    "\n",
    "    \n",
    "    ax2_limits = ax1.get_ylim()\n",
    "    precision_limits = information_to_precision(ax2_limits)\n",
    "\n",
    "    ## precision_ticks = np.array([1.e-3,1.e-2,1.e-1,1.,1.e1,1.e2,1.e3])\n",
    "    precision_ticks = np.array([0.1,0.2,0.5,1.,1.5,2.0,3.0,4.0,5.0])\n",
    "    ax2_ticks = precision_to_information(precision_ticks)\n",
    "\n",
    "    #precision_minor_ticks = []\n",
    "    #for i in [0.01,0.1,1.]:\n",
    "    #    for j in range(10):\n",
    "    #        precision_minor_ticks.append(i * j)\n",
    "    #precision_minor_ticks.append(precision_ticks[-1])\n",
    "    #precision_minor_ticks = np.array(precision_minor_ticks)\n",
    "    precision_minor_ticks = np.linspace(0.,5.,51)\n",
    "    ax2_minor_ticks = precision_to_information(precision_minor_ticks)\n",
    "    ax2.set_yticks(ax2_ticks,minor=False) \n",
    "    ax2.set_yticklabels(tick_function_precision(precision_ticks)) \n",
    "    ax2.set_yticks(ax2_minor_ticks,minor=True)  \n",
    "    ax2.set_ylim(ax2_limits)\n",
    "  \n",
    "    # ax2.set_ylabel(r'$\\Delta (f / \\Lambda^2)_{min}$ [TeV$^{-2}$]')\n",
    "    ax2.set_ylabel(r'Reach $\\Lambda / \\sqrt{f}$ [TeV]')\n",
    "    ax2.yaxis.set_label_coords(1.058,0.5)\n",
    "\n",
    "    # legend\n",
    "    if eigenvalue_operator_legend2:\n",
    "\n",
    "        if size == 2:\n",
    "            legend_labels = [r'Eigenvector composition:'] + operatorlabels\n",
    "            legend_labels_x = [0.58,0.88,0.94]\n",
    "            legend_labels_color = ['black'] + eigenvalue_colors\n",
    "        else: \n",
    "            legend_labels = [r'Eigenvector composition:'] + operatorlabels\n",
    "            legend_labels_x = [0.94-(len(operatorlabels)-1)*0.1-0.4] + np.linspace(0.94-(len(operatorlabels)-1)*0.1, 0.94, num=2)\n",
    "            legend_labels_color = ['black'] + eigenvalue_colors\n",
    "            \n",
    "        for legend_label,x,col in zip(legend_labels,legend_labels_x,legend_labels_color):\n",
    "            ax1.text(x * base_xmax,legend_position,\n",
    "                     legend_label,\n",
    "                     fontsize=12,\n",
    "                     color=col,\n",
    "                     horizontalalignment='left',\n",
    "                     verticalalignment='center')\n",
    "\n",
    "    \n",
    "    \n",
    "    \n",
    "    #################################################################################\n",
    "    # Lower plot\n",
    "    #################################################################################\n",
    "\n",
    "    # Plot bars!\n",
    "    ax3 = plt.subplot(212)\n",
    "\n",
    "    bar_plot = ax3.bar(xpos_lower,\n",
    "                      determinants,\n",
    "                      width=width_lower,\n",
    "                      log=False)\n",
    "\n",
    "    for i in range(n_entries):\n",
    "        bar_plot[i].set_color(bar_colors_light[categories[i]])\n",
    "        bar_plot[i].set_edgecolor(bar_colors[categories[i]])\n",
    "\n",
    "    ax3.set_xlim([base_xmin - 0.2,base_xmax + 0.2])\n",
    "    ax3.set_ylim([0.,max(determinants)*1.05])\n",
    "    \n",
    "    ax3.set_xticks(xpos_ticks)\n",
    "    ax3.set_xticklabels(labels, rotation=40, ha='right')\n",
    "    if normalise_determinants:\n",
    "        ax3.set_ylabel(r'$(\\det \\ I_{ij} / \\det \\ I_{ij}^{\\mathrm{full}})^{1/' + str(size_lower) + r'}$')\n",
    "    else:\n",
    "        ax3.set_ylabel(r'$(\\det \\ I_{ij})^{1/' + str(size_lower) + r'}$')\n",
    "    ax3.yaxis.set_label_coords(-0.052,0.5)\n",
    "\n",
    "    if len(additional_label) > 0:\n",
    "        ax3.text(0.99 * base_xmax,max(determinants) * 0.93,\n",
    "                 additional_label,\n",
    "                 fontsize=12,\n",
    "                 color='black',\n",
    "                 horizontalalignment='right',\n",
    "                 verticalalignment='center')\n",
    "\n",
    "    def precision_to_norm_information(precision):\n",
    "        # return 1. / np.maximum(precision,epsilon * np.ones_like(precision)) / np.maximum(precision,epsilon * np.ones_like(precision)) / 0.246**4\n",
    "        return (np.maximum(precision,epsilon) / 0.246) ** 4. / max_information\n",
    "\n",
    "    def norm_information_to_precision(fisher_inf):\n",
    "        # return 1. / np.sqrt(np.maximum(fisher_inf,epsilon * np.ones_like(fisher_inf))) / 0.246**2\n",
    "        return 0.246 * np.maximum(fisher_inf * max_information,epsilon) ** 0.25\n",
    "    \n",
    "    def tick_function_precision(precision):\n",
    "        return [str(z) for z in precision]\n",
    "\n",
    "    # Second axis with typical precision \n",
    "    ax4 = ax3.twinx()\n",
    "    ax4_limits = ax3.get_ylim()\n",
    "    precision_limits = norm_information_to_precision(np.array(ax4_limits))\n",
    "\n",
    "    ## precision_ticks = np.array([1.e-3,1.e-2,1.e-1,1.,1.e1,1.e2,1.e3])\n",
    "    precision_ticks = np.array([0.5,0.8,0.9,1.0,1.1,1.2,1.3,1.4,1.5])\n",
    "    ax4_ticks = precision_to_norm_information(precision_ticks)\n",
    "\n",
    "    ## precision_minor_ticks = []\n",
    "    ## for i in [0.01,0.1,1.]:\n",
    "    ##     for j in range(10):\n",
    "    ##         precision_minor_ticks.append(i * j)\n",
    "    ## precision_minor_ticks.append(precision_ticks[-1])\n",
    "    ## precision_minor_ticks = np.array(precision_minor_ticks)\n",
    "    precision_minor_ticks = np.linspace(0.1,5.,50)\n",
    "    ax4_minor_ticks = precision_to_norm_information(precision_minor_ticks)\n",
    "\n",
    "    ax4.set_yticks(ax4_ticks,minor=False)\n",
    "    ax4.set_yticklabels(tick_function_precision(precision_ticks))\n",
    "    ax4.set_yticks(ax4_minor_ticks,minor=True)\n",
    "    \n",
    "    ax4.set_ylim(ax4_limits)\n",
    "\n",
    "    # ax4.set_ylabel(r'$\\Delta (f / \\Lambda^2)_{min}$ [TeV$^{-2}$]')\n",
    "    ax4.set_ylabel(r'Reach $\\Lambda / \\sqrt{f}$ [TeV]')\n",
    "    ax4.yaxis.set_label_coords(1.058,0.5)\n",
    "    \n",
    "\n",
    "    plt.show()\n",
    "    #create_missing_folders([os.path.dirname(filename)])    \n",
    "    #plt.savefig(filename, dpi=300)\n",
    "    #plt.close()\n",
    "\n",
    "    \n",
    "    \n"
   ]
  },
  {
   "cell_type": "code",
   "execution_count": 90,
   "metadata": {
    "scrolled": false
   },
   "outputs": [
    {
     "name": "stderr",
     "output_type": "stream",
     "text": [
      "/Users/felixkling/anaconda/envs/python2/lib/python2.7/site-packages/ipykernel_launcher.py:25: RuntimeWarning: invalid value encountered in double_scalars\n"
     ]
    },
    {
     "name": "stdout",
     "output_type": "stream",
     "text": [
      "\n",
      "full: det I_{ij} = 0.018673138336998966\n",
      "rate: det I_{ij} = nan\n",
      "m_jj: det I_{ij} = 0.009594305771625948\n",
      "m_jj+pt_j1: det I_{ij} = 0.011414814217833842\n"
     ]
    },
    {
     "data": {
      "image/png": "[encoded data removed]",
      "text/plain": [
       "<matplotlib.figure.Figure at 0x1125ae450>"
      ]
     },
     "metadata": {},
     "output_type": "display_data"
    }
   ],
   "source": [
    "list_of_fisherinfos=[fi_full,fi_rate,fi_hist1d,fi_hist2d]\n",
    "list_of_labels=[\"full\",\"rate\",\"m_jj\",\"m_jj+pt_j1\"]\n",
    "list_of_cathegories=[1,1,1,1]\n",
    "list_of_operators=[r'$\\mathcal{O}_{W}$',r'$\\mathcal{O}_{\\widetilde{W}}$']\n",
    "\n",
    "plot_det_list_split(matrices=list_of_fisherinfos,\n",
    "                    matrices_for_determinants=list_of_fisherinfos,\n",
    "                    labels=list_of_labels,\n",
    "                    categories=list_of_cathegories,\n",
    "                    operatorlabels=list_of_operators,\n",
    "                    filename=\"figures/output.pdf\",\n",
    "                    additional_label=\"Fisher Info Determinant\",\n",
    "                    top_label=\"Example Plot \",\n",
    "                    normalise_determinants=False,\n",
    "                    use_bar_colors=False,\n",
    "                    eigenvalue_operator_legend2=True)"
   ]
  },
  {
   "cell_type": "code",
   "execution_count": 81,
   "metadata": {},
   "outputs": [
    {
     "data": {
      "text/plain": [
       "u'm_jj'"
      ]
     },
     "execution_count": 81,
     "metadata": {},
     "output_type": "execute_result"
    }
   ],
   "source": [
    "list_of_labels=[\"full\",\"rate\",\"m_jj\",\"m_jj+pt_j1\"]\n",
    "list_of_labels[2]"
   ]
  },
  {
   "cell_type": "code",
   "execution_count": null,
   "metadata": {},
   "outputs": [],
   "source": []
  }
 ],
 "metadata": {
  "kernelspec": {
   "display_name": "Python 2",
   "language": "python",
   "name": "python2"
  },
  "language_info": {
   "codemirror_mode": {
    "name": "ipython",
    "version": 2
   },
   "file_extension": ".py",
   "mimetype": "text/x-python",
   "name": "python",
   "nbconvert_exporter": "python",
   "pygments_lexer": "ipython2",
   "version": "2.7.15"
  }
 },
 "nbformat": 4,
 "nbformat_minor": 2
}
