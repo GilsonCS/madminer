{
 "cells": [
  {
   "cell_type": "markdown",
   "metadata": {},
   "source": [
    "# MadMiner tutorial for Parton-Level Analysis"
   ]
  },
  {
   "cell_type": "markdown",
   "metadata": {},
   "source": [
    "Johann Brehmer, Felix Kling, Kyle Cranmer 2018\n",
    "\n",
    "In this tutorial we'll demonstrate how to use MadMiner to generate train and test samples for the Information Geometry methods introduced in the following papers:\n",
    "- J. Brehmer, K. Cranmer, F. Kling, T. Plehn: [\"Better Higgs Measurements Through Information Geometry\"](https://arxiv.org/abs/1612.05261)\n",
    "- J. Brehmer, F. Kling, T. Plehn, T.M.P. Tait: [\"Better Higgs-CP Tests Through Information Geometry\"](https://arxiv.org/abs/1712.02350)"
   ]
  },
  {
   "cell_type": "markdown",
   "metadata": {},
   "source": [
    "## 0. Preparations"
   ]
  },
  {
   "cell_type": "markdown",
   "metadata": {},
   "source": [
    "Before you execute this notebook, make sure you have running installations of MadGraph. In addition, MadMiner and LHEMiner have to be in your PYTHONPATH."
   ]
  },
  {
   "cell_type": "code",
   "execution_count": 1,
   "metadata": {},
   "outputs": [],
   "source": [
    "import sys\n",
    "import os\n",
    "madminer_src_path = \"/Users/felixkling/Documents/GitHub/madminer\"\n",
    "sys.path.append(madminer_src_path)"
   ]
  },
  {
   "cell_type": "code",
   "execution_count": 2,
   "metadata": {},
   "outputs": [],
   "source": [
    "from __future__ import absolute_import, division, print_function, unicode_literals\n",
    "\n",
    "import numpy as np\n",
    "import matplotlib\n",
    "from matplotlib import pyplot as plt\n",
    "from scipy.optimize import curve_fit\n",
    "% matplotlib inline\n",
    "\n",
    "from madminer.core import MadMiner\n",
    "from madminer.plotting import plot_2d_morphing_basis\n",
    "from madminer.sampling import combine_and_shuffle\n",
    "from madminer.lhe import LHEProcessor"
   ]
  },
  {
   "cell_type": "markdown",
   "metadata": {},
   "source": [
    "Please enter here the path to your MG5 root directory."
   ]
  },
  {
   "cell_type": "code",
   "execution_count": 3,
   "metadata": {},
   "outputs": [],
   "source": [
    "mg_dir = '/Users/felixkling/work/MG5_aMC_v2_6_2'"
   ]
  },
  {
   "cell_type": "markdown",
   "metadata": {},
   "source": [
    "## 1. Define parameter space"
   ]
  },
  {
   "cell_type": "markdown",
   "metadata": {},
   "source": [
    "After creating a `GoldMine` instance, the first important step is the definition of the parameter space. Each model parameter is characterized by a name as well as the LHA block and ID.\n",
    "\n",
    "If morphing is used, one also has to specify the maximal power with which the parameter contributes to the squared matrix element. For instance, a parameter that contributes only to one vertex, will typically have `morphing_max_power=2`, while a parameter that contributes to two vertices usually has `morphing_max_power=4`. Exceptions arise for instance when the interference effects between the SM and dimension-six operators are modelled, but the square of the dimension-six amplitude (subleading in 1/Lambda) is not taken into account, in which case `morphing_max_power=1`. Finally, the `parameter_range` argument defines the range of parameter values that are used for the automatic optimization of the morphing basis."
   ]
  },
  {
   "cell_type": "code",
   "execution_count": 4,
   "metadata": {},
   "outputs": [
    {
     "name": "stderr",
     "output_type": "stream",
     "text": [
      "13:53  \n",
      "13:53  ------------------------------------------------------------\n",
      "13:53  |                                                          |\n",
      "13:53  |  MadMiner v2018.09.17                                    |\n",
      "13:53  |                                                          |\n",
      "13:53  |           Johann Brehmer, Kyle Cranmer, and Felix Kling  |\n",
      "13:53  |                                                          |\n",
      "13:53  ------------------------------------------------------------\n",
      "13:53  \n",
      "13:53  Added parameter CWL2 (LHA: dim6 2, maximal power in squared ME: (2,), range: (-50.0, 50.0))\n",
      "13:53  Added parameter CPWL2 (LHA: dim6 5, maximal power in squared ME: (2,), range: (-50.0, 50.0))\n"
     ]
    }
   ],
   "source": [
    "miner = MadMiner()\n",
    "\n",
    "miner.add_parameter(\n",
    "    lha_block='dim6',\n",
    "    lha_id=2,\n",
    "    parameter_name='CWL2',\n",
    "    morphing_max_power=2,\n",
    "    parameter_range=(-50.,50.)\n",
    ")\n",
    "miner.add_parameter(\n",
    "    lha_block='dim6',\n",
    "    lha_id=5,\n",
    "    parameter_name='CPWL2',\n",
    "    morphing_max_power=2,\n",
    "    parameter_range=(-50.,50.)\n",
    ")"
   ]
  },
  {
   "cell_type": "markdown",
   "metadata": {},
   "source": [
    "## 2. Define benchmark points (evaluation points for |M|^2)"
   ]
  },
  {
   "cell_type": "markdown",
   "metadata": {},
   "source": [
    "The next step is the definition of all the points at which the weights (squared matrix elements) should be evaluated by MadGraph. We call these points \"benchmarks\"."
   ]
  },
  {
   "cell_type": "markdown",
   "metadata": {},
   "source": [
    "### 2a. Set benchmarks by hand"
   ]
  },
  {
   "cell_type": "markdown",
   "metadata": {},
   "source": [
    "One can define benchmarks by hand:"
   ]
  },
  {
   "cell_type": "code",
   "execution_count": 5,
   "metadata": {},
   "outputs": [
    {
     "name": "stderr",
     "output_type": "stream",
     "text": [
      "13:53  Added benchmark sm: CWL2 = 0.00e+00, CPWL2 = 0.00e+00)\n",
      "13:53  Added benchmark w: CWL2 = 20.00, CPWL2 = 0.00e+00)\n",
      "13:53  Added benchmark w2: CWL2 = 50.00, CPWL2 = 0.00e+00)\n"
     ]
    }
   ],
   "source": [
    "miner.add_benchmark(\n",
    "    {'CWL2':0., 'CPWL2':0.},\n",
    "    'sm'\n",
    ")\n",
    "miner.add_benchmark(\n",
    "    {'CWL2':20., 'CPWL2':0.},\n",
    "    'w'\n",
    ")\n",
    "miner.add_benchmark(\n",
    "    {'CWL2':50., 'CPWL2':0.},\n",
    "    'w2'\n",
    ")"
   ]
  },
  {
   "cell_type": "markdown",
   "metadata": {},
   "source": [
    "### 2b. Benchmarks for morphing"
   ]
  },
  {
   "cell_type": "markdown",
   "metadata": {},
   "source": [
    "If morphing is used, the function `set_benchmarks_from_morphing` has to be called. With the option `keep_existing_benchmarks=True`, MadMiner will keep all the benchmark points defined beforehand and run a simple optimization algorithm to fix the remaining ones for the basis (which may be none). Otherwise, MadMiner will optimize the full basis and forget about all previously defined benchmark points. The argument `n_trials` determines the number of random candidate bases that the optimization algorithm goes through."
   ]
  },
  {
   "cell_type": "code",
   "execution_count": 6,
   "metadata": {
    "scrolled": true
   },
   "outputs": [
    {
     "name": "stderr",
     "output_type": "stream",
     "text": [
      "13:53  Optimizing basis for morphing\n",
      "13:53  Added benchmark sm: CWL2 = 0.00e+00, CPWL2 = 0.00e+00)\n",
      "13:53  Added benchmark w: CWL2 = 20.00, CPWL2 = 0.00e+00)\n",
      "13:53  Added benchmark w2: CWL2 = 50.00, CPWL2 = 0.00e+00)\n",
      "13:53  Added benchmark morphing_basis_vector_3: CWL2 = -1.82e+01, CPWL2 = -4.52e+01)\n",
      "13:53  Added benchmark morphing_basis_vector_4: CWL2 = 45.38, CPWL2 = 36.45)\n",
      "13:53  Added benchmark morphing_basis_vector_5: CWL2 = -2.28e+01, CPWL2 = 43.32)\n"
     ]
    }
   ],
   "source": [
    "miner.set_benchmarks_from_morphing(\n",
    "    keep_existing_benchmarks=True,\n",
    "    n_trials=1000,\n",
    "    max_overall_power=2\n",
    ")"
   ]
  },
  {
   "cell_type": "markdown",
   "metadata": {},
   "source": [
    "Let's have a look at the resulting morphing basis and the \"morphing error\", i.e. the sum of squared morphing weights as a function of the parameter space:"
   ]
  },
  {
   "cell_type": "code",
   "execution_count": 7,
   "metadata": {},
   "outputs": [
    {
     "data": {
      "image/png": "[encoded data removed]",
      "text/plain": [
       "<matplotlib.figure.Figure at 0x10d06f450>"
      ]
     },
     "metadata": {},
     "output_type": "display_data"
    }
   ],
   "source": [
    "fig = plot_2d_morphing_basis(\n",
    "    miner.morpher,\n",
    "    xlabel=r'$c_{W} / \\Lambda^2$ [TeV$^{-2}$]',\n",
    "    ylabel=r'$c_{\\tilde{W}} / \\Lambda^2$ [TeV$^{-2}$]',\n",
    "    xrange=(-60.,60),\n",
    "    yrange=(-60.,60.)\n",
    ")"
   ]
  },
  {
   "cell_type": "markdown",
   "metadata": {},
   "source": [
    "## 4. Change UFO Model to include detector smearing"
   ]
  },
  {
   "cell_type": "markdown",
   "metadata": {},
   "source": [
    "To simulate the resolution of the invariant masses due to detector smearing, we use a simple trick: we change the Higgs propagator to reproduce the wanted (smeared) invariant mass distribution. The following example illustrates how to change the UFO model `EWdim6` to reproduce the invariant mass distribution for $H\\to\\gamma\\gamma$. \n",
    "\n",
    "1. We base our simulation of detector effects on the CMS simulation in Fig. 6 (right) of [CMS-PAS-HIG-15-005](https://cds.cern.ch/record/2140979). In particular, we describe the peak region of the $H\\to\\gamma\\gamma$ diphoton mass distribution by a Gaussian \n",
    "\n",
    "    \\begin{equation}\n",
    "    Gaus\\left(m~|~N,m_H,\\sigma\\right)=\\frac{N}{\\sqrt{2\\pi}\\sigma}\\text{Exp}\\left[-\\frac{1}{2} \\left(\\frac{m-m_H}{\\sigma}\\right)^2\\right].\n",
    "    \\end{equation}\n",
    "    \n",
    "    From a fit to the normalized distribution we obtain: $N=0.92$, $m_H=124.7$ and $\\sigma=1.67$. The normalization factor $N$ accounts for the fact, that a gaussian does not describe the tails of the dsitribition well. However, these tails will hardly contribute to the information and we account for the loss of signal rate in these tails through the normalization factor $N$. \n",
    "\n",
    "\n",
    "2. We now replace the usual Breit-Wigner propagator with the (square-root) of the Gaussian distribution: \n",
    "    \n",
    "    \\begin{equation} \n",
    "    \\frac{1}{p^2-m_H^2+i \\Gamma m_H} \\rightarrow \\big[\\frac{N}{N_{BW}}\\frac{1}{\\sqrt{2\\pi}\\sigma}\\big]^{1/2} \\text{Exp}\\left[-\\frac{1}{4} \\left(\\frac{m-m_H}{\\sigma}\\right)^2\\right].\n",
    "    \\end{equation} \n",
    "    \n",
    "    The normalization of the Breit-Wigner is given by  $N_{BW}\\approx 2 m_H^2 \\Gamma_H / \\pi $.  (Here I used $\\Gamma_H \\ll m_H$. For full formula see [Wikipedia](https://en.wikipedia.org/wiki/Relativistic_Breit%E2%80%93Wigner_distribution)). \n",
    "    \n",
    "    This can simply be implemented in the file `propagators.py` of the UFO model. First define the new propagator. Here I use the values obtained from the fit above and choose the prefactor $(\\sqrt{2\\pi}\\sigma N_{BW} / N)^{1/2} = 12.438$ \n",
    "    \n",
    "    `denominator_Higgs=\"12.438*cmath.exp(0.25*(cmath.sqrt(P('mu',id)*P('mu',id))-124.7)**2/1.5245**2)\" `\n",
    "    \n",
    "    Assign the new propagator to to the scalar particles  \n",
    "    \n",
    "    `S = Propagator(name = \"S\",numerator = \"complex(0,1)\",denominator = denominator_Higgs)`\n",
    "\n",
    "\n",
    "3. By defaukt, MadGraph doesn't use the content of `propagators.py`. So we have to make sure it's used. This can simply be done by changing the particle information in the `particles.py` file of the UFO model\n",
    "\n",
    "    `H = Particle(pdg_code = 25, name = 'H', ... , propagator = Prop.S)`\n",
    "    \n",
    "    \n",
    "4. Finally, we will change the `bwcutoff` in `run_card.dat` to ensure that MadGraph integrated over the desired range. The choice of `bwcutoff` depends on the choosen value of the Higgs width in the `param_card.dat`. For $\\Gamma_H=4.07$ MeV I would suggest to choose `bwcutoff=2000`, which then covers an integration range of $m_H \\pm 2000\\times \\Gamma_H = 116.9\\dots 133.1$ GeV. \n",
    "\n",
    "    Note: if you get an error message such as `IEEE_UNDERFLOW_FLAG` or `IEEE_DENORMAL`, it probably means you have choosen a too large value for `bwcutoff`"
   ]
  },
  {
   "cell_type": "markdown",
   "metadata": {},
   "source": [
    "## 4. Save settings and run MadGraph"
   ]
  },
  {
   "cell_type": "markdown",
   "metadata": {},
   "source": [
    "The parameter space, benchmark points, and morphing setup are saved in a HDF5 file:"
   ]
  },
  {
   "cell_type": "code",
   "execution_count": 8,
   "metadata": {},
   "outputs": [
    {
     "name": "stderr",
     "output_type": "stream",
     "text": [
      "13:53  Saving setup (including morphing) to data/madminer_example.h5\n"
     ]
    }
   ],
   "source": [
    "miner.save('data/madminer_example.h5')"
   ]
  },
  {
   "cell_type": "markdown",
   "metadata": {},
   "source": [
    "In a next step, MadMiner starts MadGraph and Pythia to generate events and calculate the weights. You have to provide paths to the process card, run card, param card (the entries corresponding to the parameters of interest will be automatically adapted), and an empty reweight card.\n",
    "\n",
    "The `sample_benchmark` option can be used to specify which benchmark should be used for sampling. If it is not used, MadMiner will automatically use the benchmark that was added first. Finally, if MadGraph is supposed to run in a different Python environment or requires other setup steps, you can use the `initial_command` argument.\n",
    "\n",
    "Comment: make sure the `event_norm = sum` in the run_card. Otherwise the normalization is wrong by a factor `nevent`."
   ]
  },
  {
   "cell_type": "code",
   "execution_count": 9,
   "metadata": {},
   "outputs": [
    {
     "name": "stderr",
     "output_type": "stream",
     "text": [
      "13:53  Generating MadGraph process folder from cards/proc_card_parton.dat at ./MG_process\n",
      "13:53  Creating param and reweight cards in ./MG_process\n",
      "13:53  Starting MadGraph and Pythia in ./MG_process\n"
     ]
    }
   ],
   "source": [
    "miner.run(\n",
    "    mg_directory=mg_dir,\n",
    "    proc_card_file='cards/proc_card_parton.dat',\n",
    "    param_card_template_file='cards/param_card_template.dat',\n",
    "    reweight_card_template_file='cards/reweight_card_template.dat',\n",
    "    run_card_file='cards/run_card_parton.dat',\n",
    "    sample_benchmark='sm',\n",
    "    initial_command='source ~/.bashrc'\n",
    ")"
   ]
  },
  {
   "cell_type": "markdown",
   "metadata": {},
   "source": [
    "## 5. Extract Parton Level Observables / Weights "
   ]
  },
  {
   "cell_type": "markdown",
   "metadata": {},
   "source": [
    "Here we extract the parton level information (observables and weights) from the .lhe file. This is done with the LHEProcessor package. "
   ]
  },
  {
   "cell_type": "code",
   "execution_count": 10,
   "metadata": {},
   "outputs": [
    {
     "name": "stderr",
     "output_type": "stream",
     "text": [
      "13:55  \n",
      "13:55  ------------------------------------------------------------\n",
      "13:55  |                                                          |\n",
      "13:55  |  MadMiner v2018.09.17                                    |\n",
      "13:55  |                                                          |\n",
      "13:55  |           Johann Brehmer, Kyle Cranmer, and Felix Kling  |\n",
      "13:55  |                                                          |\n",
      "13:55  ------------------------------------------------------------\n",
      "13:55  \n"
     ]
    }
   ],
   "source": [
    "lhep = LHEProcessor()"
   ]
  },
  {
   "cell_type": "markdown",
   "metadata": {},
   "source": [
    "After creating the object, one can add a number of LHE event samples."
   ]
  },
  {
   "cell_type": "code",
   "execution_count": 11,
   "metadata": {
    "scrolled": false
   },
   "outputs": [
    {
     "name": "stderr",
     "output_type": "stream",
     "text": [
      "13:55  Adding LHE sample at MG_process/Events/run_01/unweighted_events.lhe.gz\n"
     ]
    }
   ],
   "source": [
    "lhep.add_lhe_sample('MG_process/Events/run_01/unweighted_events.lhe.gz',sampling_benchmark=\"sm\")"
   ]
  },
  {
   "cell_type": "markdown",
   "metadata": {},
   "source": [
    "We also want to specify the Benchmark names, because sometimes the order is mixed up in the LHE files. But fortunately, we already stored them in the HDF5 file. "
   ]
  },
  {
   "cell_type": "code",
   "execution_count": 12,
   "metadata": {},
   "outputs": [],
   "source": [
    "lhep.read_benchmark_names('data/madminer_example.h5')"
   ]
  },
  {
   "cell_type": "markdown",
   "metadata": {},
   "source": [
    "Not let's define some observables. The `p[i]` correspond to the i'th parton momentum as specified when generating the process.  All of these objects are scikit-hep [LorentzVectors](http://scikit-hep.org/api/math.html#vector-classes), see the link for a documentation of their properties."
   ]
  },
  {
   "cell_type": "code",
   "execution_count": 13,
   "metadata": {},
   "outputs": [
    {
     "name": "stderr",
     "output_type": "stream",
     "text": [
      "13:55  Adding (not required) observable pt_j1 = p[0].pt\n",
      "13:55  Adding (not required) observable pt_j2 = p[1].pt\n",
      "13:55  Adding (not required) observable pt_a1 = p[2].pt\n",
      "13:55  Adding (not required) observable pt_a2 = p[3].pt\n",
      "13:55  Adding (not required) observable m_jj = (p[0] + p[1]).m\n",
      "13:55  Adding (not required) observable m_aa = (p[2] + p[3]).m\n"
     ]
    }
   ],
   "source": [
    "lhep.add_observable('pt_j1', 'p[0].pt')\n",
    "lhep.add_observable('pt_j2', 'p[1].pt')\n",
    "lhep.add_observable('pt_a1', 'p[2].pt')\n",
    "lhep.add_observable('pt_a2', 'p[3].pt')\n",
    "lhep.add_observable('m_jj', '(p[0] + p[1]).m')\n",
    "lhep.add_observable('m_aa', '(p[2] + p[3]).m')"
   ]
  },
  {
   "cell_type": "markdown",
   "metadata": {},
   "source": [
    "The function `analyse_lhe_samples` extracts all these observables and weights from the LHE file(s) "
   ]
  },
  {
   "cell_type": "code",
   "execution_count": 14,
   "metadata": {},
   "outputs": [
    {
     "name": "stderr",
     "output_type": "stream",
     "text": [
      "13:55  Analysing LHE sample MG_process/Events/run_01/unweighted_events.lhe.gz\n"
     ]
    }
   ],
   "source": [
    "lhep.analyse_lhe_samples()"
   ]
  },
  {
   "cell_type": "markdown",
   "metadata": {},
   "source": [
    "The values of the observables and the weights are then saved in the HDF5 file. It is possible to overwrite the same file, or to leave the original file intact and save all the data into a new file as follows:"
   ]
  },
  {
   "cell_type": "code",
   "execution_count": 15,
   "metadata": {},
   "outputs": [
    {
     "name": "stderr",
     "output_type": "stream",
     "text": [
      "13:55  Loading HDF5 data from data/madminer_example.h5 and saving file to data/madminer_example_with_lhedata.h5\n"
     ]
    }
   ],
   "source": [
    "lhep.save('data/madminer_example_with_lhedata.h5', 'data/madminer_example.h5')"
   ]
  },
  {
   "cell_type": "markdown",
   "metadata": {},
   "source": [
    "Let's make a quick cross check by plotting a distributions"
   ]
  },
  {
   "cell_type": "code",
   "execution_count": 29,
   "metadata": {},
   "outputs": [
    {
     "data": {
      "image/png": "[encoded data removed]",
      "text/plain": [
       "<matplotlib.figure.Figure at 0x11181edd0>"
      ]
     },
     "metadata": {},
     "output_type": "display_data"
    },
    {
     "data": {
      "image/png": "[encoded data removed]",
      "text/plain": [
       "<matplotlib.figure.Figure at 0x110a3aad0>"
      ]
     },
     "metadata": {},
     "output_type": "display_data"
    }
   ],
   "source": [
    "fig = plt.figure(figsize=(5,5))\n",
    "\n",
    "for weights in lhep.weights:\n",
    "    plt.hist(lhep.observations['m_jj'], range=(0.,5000.), bins=20, histtype='step', weights=weights)\n",
    "\n",
    "plt.show()\n",
    "\n",
    "fig = plt.figure(figsize=(5,5))\n",
    "\n",
    "for weights in lhep.weights:\n",
    "    plt.hist(lhep.observations['pt_j1'], range=(0.,1000.), bins=20, histtype='step', weights=weights)\n",
    "\n",
    "plt.show()"
   ]
  },
  {
   "cell_type": "markdown",
   "metadata": {},
   "source": [
    "Here I explicitly check the smearing of the mass peak and compare it to the wanted distribution obtained from the experimental collaboration. "
   ]
  },
  {
   "cell_type": "code",
   "execution_count": 17,
   "metadata": {},
   "outputs": [
    {
     "name": "stdout",
     "output_type": "stream",
     "text": [
      "The total cross section is: 0.001051 pb\n"
     ]
    },
    {
     "data": {
      "image/png": "[encoded data removed]",
      "text/plain": [
       "<matplotlib.figure.Figure at 0x1109237d0>"
      ]
     },
     "metadata": {},
     "output_type": "display_data"
    }
   ],
   "source": [
    "#Define my fitting function\n",
    "def myfunction(x, mean, amplitude, standard_deviation):\n",
    "    return amplitude/np.sqrt(2.0*3.1415*standard_deviation**2) * np.exp( - 0.5*((x - mean) / standard_deviation) ** 2)\n",
    "\n",
    "#Function to do the plotting\n",
    "def smearing_validation_plot(filename,lheprocessor,inputrange,label):\n",
    "    \n",
    "    #Get Data from Experiment / MadMiner\n",
    "    exp_data , exp_weights = np.loadtxt(filename)[:,0] , np.loadtxt(filename)[:,1]\n",
    "    madminer_data , madminer_weights = lheprocessor.observations['m_aa'] , lheprocessor.weights[0]\n",
    "\n",
    "    #Plot Exp. Data\n",
    "    fig = plt.figure(figsize=(5,5))\n",
    "    bin_heights, bin_borders, _ = plt.hist(exp_data, weights=exp_weights,normed=True,\n",
    "        range=(inputrange[0],inputrange[1]), bins=inputrange[2], \n",
    "        histtype='step',color='Red',label=label)\n",
    "\n",
    "    #Fit to Experiment\n",
    "    bin_centers = bin_borders[:-1] + np.diff(bin_borders) / 2\n",
    "    bestfit, _ = curve_fit(myfunction, bin_centers, bin_heights, p0=[125, 1, 1])\n",
    "    fitplotrange=np.arange(inputrange[0], inputrange[1], 0.01)\n",
    "    plt.plot(fitplotrange,myfunction(fitplotrange,bestfit[0],bestfit[1],bestfit[2]),\n",
    "        color='Black',linestyle='dashed', label='Fit to Experiment')\n",
    "    \n",
    "    #Plot MadMiner\n",
    "    norm = sum(madminer_weights)\n",
    "    print ('The total cross section is: %.6f pb'%(norm),)\n",
    "    bin_heights_mm, _ , _ = plt.hist(madminer_data,\n",
    "        weights = madminer_weights/norm*inputrange[2]/(inputrange[1]-inputrange[0])*bestfit[1],\n",
    "        range=(inputrange[0],inputrange[1]), bins=inputrange[2], \n",
    "         histtype='step',color='Blue',label='MadMiner')  \n",
    "\n",
    "    #Finish Plot\n",
    "    plt.legend(loc='upper left')\n",
    "    upperbound=max(max(bin_heights),max(bin_heights_mm))\n",
    "    plt.text(inputrange[0],0.75*upperbound,\n",
    "         r'$\\frac{N}{\\sqrt{2\\pi}\\sigma}\\exp\\left[-\\frac{1}{2}\\left(\\frac{m-m_H}{\\sigma}\\right)^2\\right]$',\n",
    "         fontsize=14)\n",
    "    plt.text(inputrange[0],0.65*upperbound,r'$m_H$=%.3f'%(bestfit[0]),fontsize=14)\n",
    "    plt.text(inputrange[0],0.60*upperbound,r'$N$=%.3f'%(bestfit[1]),fontsize=14)\n",
    "    plt.text(inputrange[0],0.55*upperbound,r'$\\sigma$=%.3f'%(bestfit[2]),fontsize=14)\n",
    "\n",
    "    plt.show()\n",
    "\n",
    "#Call Function\n",
    "smearing_validation_plot('smearing_data/h_2_aa.txt',lhep,[115,130,30],'CMS: PAS HIG-15-005')"
   ]
  },
  {
   "cell_type": "markdown",
   "metadata": {},
   "source": [
    "## 6. Calculate Fisher Information"
   ]
  },
  {
   "cell_type": "code",
   "execution_count": 1,
   "metadata": {},
   "outputs": [],
   "source": [
    "import sys\n",
    "import os\n",
    "madminer_src_path = \"/Users/felixkling/Documents/GitHub/madminer\"\n",
    "sys.path.append(madminer_src_path)\n",
    "\n",
    "from __future__ import absolute_import, division, print_function, unicode_literals\n",
    "\n",
    "import numpy as np\n",
    "import math\n",
    "import matplotlib\n",
    "from matplotlib import pyplot as plt\n",
    "from scipy.optimize import curve_fit\n",
    "% matplotlib inline"
   ]
  },
  {
   "cell_type": "markdown",
   "metadata": {},
   "source": [
    "Here we calculate the Parton Level Fisher Information, using the data extracted from the LHE file. This is done by the MadFisher package. To initialize it, we load the data from an HDF5 file."
   ]
  },
  {
   "cell_type": "code",
   "execution_count": 2,
   "metadata": {},
   "outputs": [
    {
     "name": "stderr",
     "output_type": "stream",
     "text": [
      "18:18  \n",
      "18:18  ------------------------------------------------------------\n",
      "18:18  |                                                          |\n",
      "18:18  |  MadMiner v2018.09.17                                    |\n",
      "18:18  |                                                          |\n",
      "18:18  |           Johann Brehmer, Kyle Cranmer, and Felix Kling  |\n",
      "18:18  |                                                          |\n",
      "18:18  ------------------------------------------------------------\n",
      "18:18  \n",
      "18:18  Loading data from data/madminer_example_with_lhedata.h5\n",
      "18:18  Found 2 parameters:\n",
      "18:18     CWL2 (LHA: dim6 2, maximal power in squared ME: (2,), range: (-50.0, 50.0))\n",
      "18:18     CPWL2 (LHA: dim6 5, maximal power in squared ME: (2,), range: (-50.0, 50.0))\n",
      "18:18  Found 6 benchmarks:\n",
      "18:18     sm: CWL2 = 0.00e+00, CPWL2 = 0.00e+00\n",
      "18:18     w: CWL2 = 20.00, CPWL2 = 0.00e+00\n",
      "18:18     w2: CWL2 = 50.00, CPWL2 = 0.00e+00\n",
      "18:18     morphing_basis_vector_3: CWL2 = -1.82e+01, CPWL2 = -4.52e+01\n",
      "18:18     morphing_basis_vector_4: CWL2 = 45.38, CPWL2 = 36.45\n",
      "18:18     morphing_basis_vector_5: CWL2 = -2.28e+01, CPWL2 = 43.32\n",
      "18:18  Found 6 observables: pt_j1, pt_j2, pt_a1, pt_a2, m_jj, m_aa\n",
      "18:18  Found 10000 events\n",
      "18:18  Found morphing setup with 6 components\n"
     ]
    }
   ],
   "source": [
    "from madminer.fisherinformation import FisherInformation\n",
    "mf = FisherInformation('data/madminer_example_with_lhedata.h5')"
   ]
  },
  {
   "cell_type": "markdown",
   "metadata": {},
   "source": [
    "The functions `extract_raw_data()` allows to extract the raw data, consisting of the observables and weighst for the morphing benchmarks. Similarly `extract_observables_and_weights(thetas)` allows to extract the observables and weights for a specified list of benchmarks `thetas`. This function is usefull for both cross checks and simple plotting. "
   ]
  },
  {
   "cell_type": "code",
   "execution_count": 3,
   "metadata": {},
   "outputs": [],
   "source": [
    "# Get List of Raw Data: Observables and Weights \n",
    "x , w = mf.extract_raw_data()\n",
    "\n",
    "# Get List of Data for specified Benchmark: Observables and Weights \n",
    "thistheta=np.array([20,0])\n",
    "_ , w = mf.extract_observables_and_weights([thistheta])"
   ]
  },
  {
   "cell_type": "markdown",
   "metadata": {},
   "source": [
    "We can now calculate the Fisher Information for a given benchmark and a given luminosity (in units of pb$^{-1}$) after considering a set of cuts. The cuts can take into account any function of the observables defined when initializing the LHEProcessor. Additionally there are underflow/overflow bins. \n",
    "\n",
    "There are multiple Fisher Info options\n",
    "- `calculate_fisher_information_full_truth(theta,luminosity,cuts)`, which calculates the full Fisher Info, by summing over the Fisher Infos for each event passing the cuts: $I_{ij}^{full} = \\sum_{events} I_{ij}(w_i)$\n",
    "- `calculate_fisher_information_rate(theta,luminosity,cuts)`, which calculates the Fisher Info corresponding to only the rate, by evaluating the Fisher Info of the sum the weights of all events passing the cuts: $I_{ij}^{rate} =  I_{ij}(\\sum_{events} w_i)$ \n",
    "- `calculate_fisher_information_hist1d(theta,luminosity,cuts,observable,nbins,histrange)`, which calculates the Fisher Info in a 1D histogram, by summing over the Rate Fisher Infos for each bin in the 1D Histogram: $I_{ij}^{hist} =  \\sum_{bins} I_{ij}(w_i)$\n",
    "- `calculate_fisher_information_hist2d(theta,luminosity,cuts,observable1,nbins1,histrange1,observable2,nbins2,histrange2)`, which calculates the Fisher Info in a 2D histogram, by summing over the Rate Fisher Infos for each bin in the 2D Histogram: $I_{ij}^{hist} =  \\sum_{bins} I_{ij}(w_i)$\n",
    "\n",
    "Note that `observable` can be any function of observables including `sin`, `cos`, `tan`, `asin`, `acos`, `atan` and `exp`"
   ]
  },
  {
   "cell_type": "code",
   "execution_count": 4,
   "metadata": {},
   "outputs": [
    {
     "name": "stderr",
     "output_type": "stream",
     "text": [
      "/Users/felixkling/Documents/GitHub/madminer/madminer/fisherinformation.py:115: RuntimeWarning: divide by zero encountered in double_scalars\n",
      "  fisher_info.append(luminosity / sigma[i] * np.tensordot(dsigma.T[i], dsigma.T[i], axes=0))\n",
      "/Users/felixkling/Documents/GitHub/madminer/madminer/fisherinformation.py:115: RuntimeWarning: invalid value encountered in multiply\n",
      "  fisher_info.append(luminosity / sigma[i] * np.tensordot(dsigma.T[i], dsigma.T[i], axes=0))\n"
     ]
    },
    {
     "name": "stdout",
     "output_type": "stream",
     "text": [
      "Full    Fisher Info: \n",
      " [[ 0.18752976 -0.00873809]\n",
      " [-0.00873809  0.17764695]] \n",
      " Determinant:  0.03323773550180875\n",
      "Rate    Fisher Info: \n",
      " [[ 4.01715060e-02 -8.46483965e-04]\n",
      " [-8.46483965e-04  1.78368992e-05]] \n",
      " Determinant:  -1.0873231671911571e-23\n",
      "Hist 1D Fisher Info: \n",
      " [[ 4.18180498e-02 -8.89465696e-04]\n",
      " [-8.89465696e-04  8.30549238e-05]] \n",
      " Determinant:  2.682045711020863e-06\n",
      "Hist 2D Fisher Info: \n",
      " [[ 0.08980516 -0.00510548]\n",
      " [-0.00510548  0.01580123]] \n",
      " Determinant:  0.0013929657782905266\n"
     ]
    }
   ],
   "source": [
    "# Define Benchmark\n",
    "thistheta=np.array([0,0])\n",
    "\n",
    "#Define luminosity in inverse pb\n",
    "thislumi=100*1000;\n",
    "\n",
    "#Define Cuts\n",
    "thiscuts = ['m_jj>100','pt_a1>20','pt_a2>20']\n",
    "\n",
    "#This efficiency\n",
    "thisefficiencies = ['0.863-1.07*exp(-pt_a1/34.8)', '0.863-1.07*exp(-pt_a2/34.8)']\n",
    "thisefficiencies = []\n",
    "#Define Histogram 1D\n",
    "thisxobservable='m_jj'\n",
    "thisxrange=(0,5000)\n",
    "thisxnbins=10\n",
    "\n",
    "#Define Histogram 2D\n",
    "thisyobservable='pt_j1'\n",
    "thisyrange=(0,1000)\n",
    "thisynbins=10\n",
    "\n",
    "#Full Fisher Info\n",
    "fi_full = mf.calculate_fisher_information_full_truth(theta=thistheta,\n",
    "                                                     luminosity=thislumi,\n",
    "                                                     cuts=thiscuts,\n",
    "                                                     efficiencies=thisefficiencies\n",
    "                                                     )\n",
    "fi_rate = mf.calculate_fisher_information_rate(theta=thistheta,\n",
    "                                                     luminosity=thislumi,\n",
    "                                                     cuts=thiscuts,\n",
    "                                                     efficiencies=thisefficiencies\n",
    "                                                     )\n",
    "fi_hist1d = mf.calculate_fisher_information_hist1d(theta=thistheta,\n",
    "                                                       luminosity=thislumi,\n",
    "                                                       observable=thisxobservable,\n",
    "                                                       nbins=thisxnbins,\n",
    "                                                       histrange=thisxrange,\n",
    "                                                       cuts=thiscuts,\n",
    "                                                       efficiencies=thisefficiencies\n",
    "                                                       )\n",
    "fi_hist2d = mf.calculate_fisher_information_hist2d(theta=thistheta,\n",
    "                                                       luminosity=thislumi,\n",
    "                                                       observable1=thisxobservable,\n",
    "                                                       nbins1=thisxnbins,\n",
    "                                                       histrange1=thisxrange,\n",
    "                                                       observable2=thisyobservable,\n",
    "                                                       nbins2=thisynbins,\n",
    "                                                       histrange2=thisyrange,\n",
    "                                                       cuts=thiscuts,\n",
    "                                                       efficiencies=thisefficiencies,\n",
    "                                                       )\n",
    "\n",
    "print ('Full    Fisher Info: \\n' , fi_full, \"\\n Determinant: \", np.linalg.det(fi_full) )  \n",
    "print ('Rate    Fisher Info: \\n' , fi_rate, \"\\n Determinant: \", np.linalg.det(fi_rate) )\n",
    "print ('Hist 1D Fisher Info: \\n' , fi_hist1d, \"\\n Determinant: \", np.linalg.det(fi_hist1d) ) \n",
    "print ('Hist 2D Fisher Info: \\n' , fi_hist2d, \"\\n Determinant: \", np.linalg.det(fi_hist2d) ) "
   ]
  },
  {
   "cell_type": "markdown",
   "metadata": {},
   "source": [
    "The dimensionality of the Fisher Information tensor can be reduced by either ignoring components (setting them to zero) or by profiling over components. This is done by the following two functions:\n",
    "- `ignore_information(fisher_info, remaining_components)`\n",
    "- `profile_information(fisher_info, remaining_components)`\n",
    "\n",
    "where `fisher_info` is the original Fisher Information tensor and `remaining_components` is a list of indices of which rows / columns to keep. "
   ]
  },
  {
   "cell_type": "code",
   "execution_count": 22,
   "metadata": {},
   "outputs": [
    {
     "name": "stdout",
     "output_type": "stream",
     "text": [
      "Projected out O_W:  [[0.18752976]]\n",
      "Profiled over O_W:  [[0.18709995]]\n"
     ]
    }
   ],
   "source": [
    "print ('Projected out O_W: ', mf.ignore_information(fi_full,[0]) )\n",
    "print ('Profiled over O_W: ', mf.profile_information(fi_full,[0]) )"
   ]
  },
  {
   "cell_type": "markdown",
   "metadata": {},
   "source": [
    "## 7. Plotting Fisher Information Results"
   ]
  },
  {
   "cell_type": "markdown",
   "metadata": {},
   "source": [
    "Now it's time to do some physics: Let's compare the Fisher Information tensors for different analysis strategies. This can simply be done using the plotting function `plot_fisherinfo_barplot()`. Its inputs are\n",
    "\n",
    "- `matrices` list of Fisher Information tensors for upper panel\n",
    "- `matrices_for_determinants` llist of Fisher Information tensors for lower panel\n",
    "- `labels` list of names for analysis strategy\n",
    "- `categories` assignment of category for each label - there will be extra space between categories\n",
    "- `operatorlabels` list of operator names \n",
    "- `filename` save files under filename (starting from current working directory)\n",
    "- `additional_label` label in lower panel\n",
    "- `top_label` label above top panel\n",
    "- `normalise_determinants` are determinants normalized to unity ?\n",
    "- `use_bar_colors` are bars in lower panel colored or gray ? \n",
    "- `eigenvalue_operator_legend` plot legend for operators ?"
   ]
  },
  {
   "cell_type": "code",
   "execution_count": 31,
   "metadata": {
    "scrolled": false
   },
   "outputs": [
    {
     "name": "stdout",
     "output_type": "stream",
     "text": [
      "\n",
      "full: det I_{ij} = 0.1823121924112832\n",
      "rate: det I_{ij} = nan\n",
      "1D: m_jj: det I_{ij} = 0.001637695243633828\n",
      "2D: m_jj,pt_j1: det I_{ij} = 0.03732245675582633\n"
     ]
    },
    {
     "data": {
      "image/png": "[encoded data removed]",
      "text/plain": [
       "<matplotlib.figure.Figure at 0x111980250>"
      ]
     },
     "metadata": {},
     "output_type": "display_data"
    }
   ],
   "source": [
    "from madminer.plotting import plot_fisherinfo_barplot\n",
    "\n",
    "list_of_fi=[fi_full,fi_rate,fi_hist1d,fi_hist2d]\n",
    "list_of_labels=[\"full\",\"rate\",\"1D: m_jj\",\"2D: m_jj,pt_j1\"]\n",
    "list_of_cathegories=[1,1,1,1] \n",
    "list_of_operators=[r'$\\mathcal{O}_{W}$',r'$\\mathcal{O}_{\\widetilde{W}}$']\n",
    "list_of_projected_fi=[mf.ignore_information(list_of_fi[i],[0]) for i in range(0,len(list_of_fi))] \n",
    "\n",
    "plot_fisherinfo_barplot(matrices=list_of_fi,\n",
    "                    matrices_for_determinants=list_of_fi,\n",
    "                    labels=list_of_labels,\n",
    "                    categories=list_of_cathegories,\n",
    "                    operatorlabels=list_of_operators,\n",
    "                    filename=\"figures/output.pdf\",\n",
    "                    additional_label=\"Fisher Info on $\\mathcal{O}_{W}$\",\n",
    "                    top_label=\"Example Plot \",\n",
    "                    normalise_determinants=False,\n",
    "                    use_bar_colors=False,\n",
    "                    eigenvalue_operator_legend=True)"
   ]
  },
  {
   "cell_type": "markdown",
   "metadata": {},
   "source": [
    "Using the Fisher Information, we can calculate the sensitivity for the coupling measurement. A particularly easy way is the *linearized distance* which is defined as $d(\\theta_1, \\theta_2) = I_{i,j} (\\theta_1 - \\theta_2)^i (\\theta_1 - \\theta_2)^j$.  \n",
    "\n",
    "The funtion `plot_linearized_contours_2d()` visualize the sensitivity to two operators in a contour plot: it shows the $d(\\theta,0)$ contours around the SM-value. Its inputs are\n",
    "\n",
    "- `matrices_2d` list of 2-dimensional Fisher Information matrices\n",
    "- `matrix_labels`  list of labels corresponding to the Fisher Information matrices \n",
    "- `filename` output filename \n",
    "- `contour_distance` distances contour drawn $d(\\theta,0)$ \n",
    "- `axes_max` maximum value on both axes $\\theta_{max}$\n",
    "- `xlabel` label of x-axis \n",
    "- `ylabel` label of y-axis \n",
    "- `n_points` number of grid points for evaluation of figure, 100 seems reasonable\n"
   ]
  },
  {
   "cell_type": "code",
   "execution_count": 32,
   "metadata": {},
   "outputs": [
    {
     "data": {
      "image/png": "[encoded data removed]",
      "text/plain": [
       "<matplotlib.figure.Figure at 0x111838310>"
      ]
     },
     "metadata": {},
     "output_type": "display_data"
    }
   ],
   "source": [
    "from madminer.plotting import plot_fisherinfo_contours_2d\n",
    "\n",
    "plot_fisherinfo_contours_2d(matrices_2d=list_of_fi, \n",
    "                            matrix_labels=list_of_labels,\n",
    "                            filename=\"figures/bla.pdf\",\n",
    "                            contour_distance=1,\n",
    "                            axes_max=15.,\n",
    "                            xlabel=r'$\\mathcal{O}_{W}$',\n",
    "                            ylabel=r'$\\mathcal{O}_{\\widetilde{W}}$',\n",
    "                            n_points=100)"
   ]
  },
  {
   "cell_type": "markdown",
   "metadata": {},
   "source": [
    "We can also look at the kinematic distribution of information. To do so, we first use the function `histogram_of_fisher_information()` to get a histogram of the weight for a given theta (`w_in_histo`), the rate-only fisher information in each bin (`fi_histo_rate`) and total fisher information in each bin (`fi_histo_full`). Here we again can include cuts and efficiencies. \n",
    "\n",
    "In the next step we can plot the histogram using the plotting fuction `kinematic_distribution_of_information`. The black line corresponds to the cross section, the red-shaded area to the determinant of the full fisher information distribution and the red dashed line to the determinant of the rate-only fisher information distribution. \n",
    "\n",
    "In the example below we only show the Fisher Information on $\\mathcal{O}_{W}$. Once considering higher dimensional Fisher Informations, the rate determinant of the rate-only fisher information will naturally vanish. "
   ]
  },
  {
   "cell_type": "code",
   "execution_count": 8,
   "metadata": {},
   "outputs": [
    {
     "data": {
      "image/png": "[encoded data removed]",
      "text/plain": [
       "<matplotlib.figure.Figure at 0x10d2d0e90>"
      ]
     },
     "metadata": {},
     "output_type": "display_data"
    }
   ],
   "source": [
    "from madminer.plotting import kinematic_distribution_of_information\n",
    "\n",
    "bins_histo, w_in_histo, fi_histo_rate, fi_histo_full = mf.histogram_of_fisher_information( theta=thistheta,\n",
    "                                    luminosity=thislumi,\n",
    "                                    observable=thisxobservable,\n",
    "                                    nbins=thisxnbins,\n",
    "                                    histrange=thisxrange,\n",
    "                                    cuts=thiscuts,\n",
    "                                    efficiencies=thisefficiencies\n",
    "                                   )\n",
    "\n",
    "proj_fi_histo_rate=[mf.ignore_information(fi_histo_rate[i],[0]) for i in range(0,len(fi_histo_rate))] \n",
    "proj_fi_histo_full=[mf.ignore_information(fi_histo_full[i],[0]) for i in range(0,len(fi_histo_full))] \n",
    "\n",
    "kinematic_distribution_of_information(xbins=bins_histo, \n",
    "                  xlabel=\"m_jj [GeV]\",\n",
    "                  xmin=0,\n",
    "                  xmax=5000,\n",
    "                  xsecs=w_in_histo,\n",
    "                  matrices=proj_fi_histo_full, \n",
    "                  matrices_aux=proj_fi_histo_rate,\n",
    "                  filename=\"figures/kinematics.pdf\",\n",
    "                  ylabel_addition=' - Info on $\\mathcal{O}_{W}$',\n",
    "                  log_xsec=False,\n",
    "                  norm_xsec=True,\n",
    "                  show_aux=True\n",
    "            )"
   ]
  },
  {
   "cell_type": "markdown",
   "metadata": {},
   "source": [
    "ToDo List: \n",
    "1. Check if Backgrounds work\n",
    "2. Check Plot Differential FI - make nicer?"
   ]
  },
  {
   "cell_type": "code",
   "execution_count": null,
   "metadata": {},
   "outputs": [],
   "source": []
  }
 ],
 "metadata": {
  "kernelspec": {
   "display_name": "Python [default]",
   "language": "python",
   "name": "python3"
  },
  "language_info": {
   "codemirror_mode": {
    "name": "ipython",
    "version": 3
   },
   "file_extension": ".py",
   "mimetype": "text/x-python",
   "name": "python",
   "nbconvert_exporter": "python",
   "pygments_lexer": "ipython3",
   "version": "3.6.4"
  }
 },
 "nbformat": 4,
 "nbformat_minor": 2
}
