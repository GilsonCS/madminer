{
 "cells": [
  {
   "cell_type": "markdown",
   "metadata": {},
   "source": [
    "# MadMiner : Queue of Miners "
   ]
  },
  {
   "cell_type": "markdown",
   "metadata": {},
   "source": [
    "This a large queue of miners, used to quickly perform the mining from the MadGraph mine. "
   ]
  },
  {
   "cell_type": "markdown",
   "metadata": {},
   "source": [
    "## 0. Setup Environment"
   ]
  },
  {
   "cell_type": "code",
   "execution_count": 1,
   "metadata": {},
   "outputs": [],
   "source": [
    "#Set right path to MadMiner\n",
    "import sys\n",
    "import os\n",
    "delphes_src_path = \"/Users/felixkling/Documents/GitHub/delphesminer\"\n",
    "sys.path.append(delphes_src_path)\n",
    "madminer_src_path = \"/Users/felixkling/Documents/GitHub/madminer\"\n",
    "sys.path.append(madminer_src_path)\n",
    "\n",
    "#Import MadMiner\n",
    "from __future__ import absolute_import, division, print_function, unicode_literals\n",
    "\n",
    "import numpy as np\n",
    "from matplotlib import pyplot as plt\n",
    "% matplotlib inline\n",
    "\n",
    "from madminer.goldmine import GoldMine\n",
    "from madminer.refinery import combine_and_shuffle\n",
    "from madminer.refinery import Refinery\n",
    "from madminer.refinery import constant_benchmark_theta, multiple_benchmark_thetas\n",
    "from madminer.refinery import constant_morphing_theta, multiple_morphing_thetas, random_morphing_thetas\n",
    "from madminer.tools.plots import plot_2d_morphing_basis\n",
    "from delphesprocessor.delphesprocessor import DelphesProcessor\n",
    "\n",
    "#Set Path to MG5 directory\n",
    "mg_dir = '/Users/felixkling/work/MG5_aMC_v2_6_2'"
   ]
  },
  {
   "cell_type": "markdown",
   "metadata": {},
   "source": [
    "## 1. Define parameter space"
   ]
  },
  {
   "cell_type": "code",
   "execution_count": 2,
   "metadata": {},
   "outputs": [
    {
     "name": "stderr",
     "output_type": "stream",
     "text": [
      "08:41  \n",
      "08:41  ------------------------------------------------------------\n",
      "08:41  |                                                          |\n",
      "08:41  |  MadMiner                                                |\n",
      "08:41  |                                                          |\n",
      "08:41  |  Version from July 19, 2018                              |\n",
      "08:41  |                                                          |\n",
      "08:41  |           Johann Brehmer, Kyle Cranmer, and Felix Kling  |\n",
      "08:41  |                                                          |\n",
      "08:41  ------------------------------------------------------------\n",
      "08:41  \n",
      "08:41  Added parameter CWL2 (LHA: dim6 2, maximal power in squared ME: 2, range: (-10.0, 10.0))\n",
      "08:41  Added parameter CPWL2 (LHA: dim6 5, maximal power in squared ME: 2, range: (-10.0, 10.0))\n"
     ]
    }
   ],
   "source": [
    "#Initialize GoldMiner\n",
    "miner = GoldMine()\n",
    "\n",
    "#Define Parameter Space\n",
    "miner.add_parameter(\n",
    "    lha_block='dim6',\n",
    "    lha_id=2,\n",
    "    parameter_name='CWL2',\n",
    "    morphing_max_power=2,\n",
    "    parameter_range=(-10.,10.)\n",
    ")\n",
    "miner.add_parameter(\n",
    "    lha_block='dim6',\n",
    "    lha_id=5,\n",
    "    parameter_name='CPWL2',\n",
    "    morphing_max_power=2,\n",
    "    parameter_range=(-10.,10.)\n",
    ")"
   ]
  },
  {
   "cell_type": "markdown",
   "metadata": {},
   "source": [
    "## 2. Define benchmark points (evaluation points for |M|^2)"
   ]
  },
  {
   "cell_type": "markdown",
   "metadata": {},
   "source": [
    "I now define all benchmarks by hand - to be able to regenerate more events with same benchmarks later"
   ]
  },
  {
   "cell_type": "code",
   "execution_count": 3,
   "metadata": {},
   "outputs": [
    {
     "name": "stderr",
     "output_type": "stream",
     "text": [
      "08:41  Added benchmark bsm0: CWL2 = -4.00e+00, CPWL2 = 0.00e+00)\n",
      "08:41  Added benchmark bsm1: CWL2 = 4.00, CPWL2 = 0.00e+00)\n",
      "08:41  Added benchmark bsm2: CWL2 = 2.77, CPWL2 = 8.62)\n",
      "08:41  Added benchmark bsm3: CWL2 = 1.47, CPWL2 = -8.21e+00)\n",
      "08:41  Added benchmark bsm4: CWL2 = -5.71e+00, CPWL2 = -7.29e+00)\n",
      "08:41  Added benchmark bsm5: CWL2 = 7.55, CPWL2 = -9.31e+00)\n",
      "08:41  Optimizing basis for morphing\n",
      "08:41  Added benchmark bsm0: CWL2 = -4.00e+00, CPWL2 = 0.00e+00)\n",
      "08:41  Added benchmark bsm1: CWL2 = 4.00, CPWL2 = 0.00e+00)\n",
      "08:41  Added benchmark bsm2: CWL2 = 2.77, CPWL2 = 8.62)\n",
      "08:41  Added benchmark bsm3: CWL2 = 1.47, CPWL2 = -8.21e+00)\n",
      "08:41  Added benchmark bsm4: CWL2 = -5.71e+00, CPWL2 = -7.29e+00)\n",
      "08:41  Added benchmark bsm5: CWL2 = 7.55, CPWL2 = -9.31e+00)\n",
      "08:41  Saving setup (including morphing) to data/madminer_example.h5\n"
     ]
    },
    {
     "data": {
      "image/png": "[encoded data removed]",
      "text/plain": [
       "<matplotlib.figure.Figure at 0x105ff5810>"
      ]
     },
     "metadata": {},
     "output_type": "display_data"
    }
   ],
   "source": [
    "#Add Benchmark by hand\n",
    "miner.add_benchmark(\n",
    "    {'CWL2':-4., 'CPWL2':0.},\n",
    "    'bsm0'\n",
    ")\n",
    "miner.add_benchmark(\n",
    "    {'CWL2':4., 'CPWL2':0.},\n",
    "    'bsm1'\n",
    ")\n",
    "miner.add_benchmark(\n",
    "    {'CWL2':2.77, 'CPWL2':8.62},\n",
    "    'bsm2'\n",
    ")\n",
    "miner.add_benchmark(\n",
    "    {'CWL2':1.47, 'CPWL2':-8.21},\n",
    "    'bsm3'\n",
    ")\n",
    "miner.add_benchmark(\n",
    "    {'CWL2':-5.71, 'CPWL2':-7.29},\n",
    "    'bsm4'\n",
    ")\n",
    "miner.add_benchmark(\n",
    "    {'CWL2':7.55, 'CPWL2':-9.31},\n",
    "    'bsm5'\n",
    ")\n",
    "\n",
    "#Set Benchmarks\n",
    "miner.set_benchmarks_from_morphing(\n",
    "    keep_existing_benchmarks=True,\n",
    "    n_trials=1000,\n",
    "    max_overall_power=2\n",
    ")\n",
    "\n",
    "#Plot Benchmarks\n",
    "fig = plot_2d_morphing_basis(\n",
    "    miner.morpher,\n",
    "    xlabel=r'$c_{W} / \\Lambda^2$ [TeV$^{-2}$]',\n",
    "    ylabel=r'$c_{\\tilde{W}} / \\Lambda^2$ [TeV$^{-2}$]',\n",
    "    xrange=(-10.,10),\n",
    "    yrange=(-10.,10.)\n",
    ")\n",
    "\n",
    "#Save Settings\n",
    "miner.save('data/madminer_example.h5')"
   ]
  },
  {
   "cell_type": "markdown",
   "metadata": {},
   "source": [
    "## 3. Save settings and run MadGraph + Delphes"
   ]
  },
  {
   "cell_type": "markdown",
   "metadata": {},
   "source": [
    "Run everything"
   ]
  },
  {
   "cell_type": "code",
   "execution_count": 4,
   "metadata": {},
   "outputs": [
    {
     "name": "stderr",
     "output_type": "stream",
     "text": [
      "08:41  Generating MadGraph process folder from cards/proc_card.dat at ./MG_process\n",
      "08:41  Creating param and reweight cards in ./MG_process\n",
      "08:41  Starting MadGraph and Pythia in ./MG_process\n",
      "08:55  \n",
      "08:55  ------------------------------------------------------------\n",
      "08:55  |                                                          |\n",
      "08:55  |  DelphesProcessor                                        |\n",
      "08:55  |                                                          |\n",
      "08:55  |  Version from July 19, 2018                              |\n",
      "08:55  |                                                          |\n",
      "08:55  |           Johann Brehmer, Kyle Cranmer, and Felix Kling  |\n",
      "08:55  |                                                          |\n",
      "08:55  ------------------------------------------------------------\n",
      "08:55  \n",
      "08:55  Hi! How are you today?\n",
      "08:55  Adding HepMC sample at MG_process/Events/run_01/tag_1_pythia8_events.hepmc.gz\n",
      "08:55  Running Delphes at /Users/felixkling/work/MG5_aMC_v2_6_2/Delphes\n",
      "08:58  Adding required observable pt_e1 = e[0].pt\n",
      "08:58  Adding required observable pt_mu1 = mu[0].pt\n",
      "08:58  Adding required observable delta_eta_ll = abs(e[0].eta - mu[0].eta)\n",
      "08:58  Adding required observable delta_phi_ll = abs(e[0].phi() - mu[0].phi())\n",
      "08:58  Analysing Delphes sample MG_process/Events/run_01/tag_1_pythia8_events_delphes.root\n",
      "08:58  Requiring existence of observable pt_e1: 33911 events pass, 16089 events removed\n",
      "08:58  Requiring existence of observable pt_mu1: 38324 events pass, 11676 events removed\n",
      "08:58  Requiring existence of observable delta_eta_ll: 26756 events pass, 23244 events removed\n",
      "08:58  Requiring existence of observable delta_phi_ll: 26756 events pass, 23244 events removed\n",
      "08:58  Loading HDF5 data from data/madminer_example.h5 and saving file to data/madminer_example_with_data_run1.h5\n",
      "08:58  Generating MadGraph process folder from cards/proc_card.dat at ./MG_process\n",
      "08:58  Creating param and reweight cards in ./MG_process\n",
      "08:58  Starting MadGraph and Pythia in ./MG_process\n",
      "09:12  \n",
      "09:12  ------------------------------------------------------------\n",
      "09:12  |                                                          |\n",
      "09:12  |  DelphesProcessor                                        |\n",
      "09:12  |                                                          |\n",
      "09:12  |  Version from July 19, 2018                              |\n",
      "09:12  |                                                          |\n",
      "09:12  |           Johann Brehmer, Kyle Cranmer, and Felix Kling  |\n",
      "09:12  |                                                          |\n",
      "09:12  ------------------------------------------------------------\n",
      "09:12  \n",
      "09:12  Hi! How are you today?\n",
      "09:12  Adding HepMC sample at MG_process/Events/run_01/tag_1_pythia8_events.hepmc.gz\n",
      "09:12  Running Delphes at /Users/felixkling/work/MG5_aMC_v2_6_2/Delphes\n",
      "09:15  Adding required observable pt_e1 = e[0].pt\n",
      "09:15  Adding required observable pt_mu1 = mu[0].pt\n",
      "09:15  Adding required observable delta_eta_ll = abs(e[0].eta - mu[0].eta)\n",
      "09:15  Adding required observable delta_phi_ll = abs(e[0].phi() - mu[0].phi())\n",
      "09:15  Analysing Delphes sample MG_process/Events/run_01/tag_1_pythia8_events_delphes.root\n",
      "09:15  Requiring existence of observable pt_e1: 33897 events pass, 16103 events removed\n",
      "09:15  Requiring existence of observable pt_mu1: 38434 events pass, 11566 events removed\n",
      "09:15  Requiring existence of observable delta_eta_ll: 26745 events pass, 23255 events removed\n",
      "09:15  Requiring existence of observable delta_phi_ll: 26745 events pass, 23255 events removed\n",
      "09:15  Loading HDF5 data from data/madminer_example.h5 and saving file to data/madminer_example_with_data_run2.h5\n",
      "09:15  Generating MadGraph process folder from cards/proc_card.dat at ./MG_process\n",
      "09:15  Creating param and reweight cards in ./MG_process\n",
      "09:15  Starting MadGraph and Pythia in ./MG_process\n",
      "09:29  \n",
      "09:29  ------------------------------------------------------------\n",
      "09:29  |                                                          |\n",
      "09:29  |  DelphesProcessor                                        |\n",
      "09:29  |                                                          |\n",
      "09:29  |  Version from July 19, 2018                              |\n",
      "09:29  |                                                          |\n",
      "09:29  |           Johann Brehmer, Kyle Cranmer, and Felix Kling  |\n",
      "09:29  |                                                          |\n",
      "09:29  ------------------------------------------------------------\n",
      "09:29  \n",
      "09:29  Hi! How are you today?\n",
      "09:29  Adding HepMC sample at MG_process/Events/run_01/tag_1_pythia8_events.hepmc.gz\n",
      "09:29  Running Delphes at /Users/felixkling/work/MG5_aMC_v2_6_2/Delphes\n",
      "09:32  Adding required observable pt_e1 = e[0].pt\n",
      "09:32  Adding required observable pt_mu1 = mu[0].pt\n",
      "09:32  Adding required observable delta_eta_ll = abs(e[0].eta - mu[0].eta)\n",
      "09:32  Adding required observable delta_phi_ll = abs(e[0].phi() - mu[0].phi())\n",
      "09:32  Analysing Delphes sample MG_process/Events/run_01/tag_1_pythia8_events_delphes.root\n",
      "09:32  Requiring existence of observable pt_e1: 33598 events pass, 16402 events removed\n",
      "09:32  Requiring existence of observable pt_mu1: 38315 events pass, 11685 events removed\n",
      "09:32  Requiring existence of observable delta_eta_ll: 26569 events pass, 23431 events removed\n",
      "09:32  Requiring existence of observable delta_phi_ll: 26569 events pass, 23431 events removed\n",
      "09:32  Loading HDF5 data from data/madminer_example.h5 and saving file to data/madminer_example_with_data_run3.h5\n",
      "09:32  Generating MadGraph process folder from cards/proc_card.dat at ./MG_process\n",
      "09:32  Creating param and reweight cards in ./MG_process\n",
      "09:32  Starting MadGraph and Pythia in ./MG_process\n",
      "09:48  \n",
      "09:48  ------------------------------------------------------------\n",
      "09:48  |                                                          |\n",
      "09:48  |  DelphesProcessor                                        |\n",
      "09:48  |                                                          |\n",
      "09:48  |  Version from July 19, 2018                              |\n",
      "09:48  |                                                          |\n",
      "09:48  |           Johann Brehmer, Kyle Cranmer, and Felix Kling  |\n",
      "09:48  |                                                          |\n",
      "09:48  ------------------------------------------------------------\n",
      "09:48  \n",
      "09:48  Hi! How are you today?\n",
      "09:48  Adding HepMC sample at MG_process/Events/run_01/tag_1_pythia8_events.hepmc.gz\n",
      "09:48  Running Delphes at /Users/felixkling/work/MG5_aMC_v2_6_2/Delphes\n",
      "09:51  Adding required observable pt_e1 = e[0].pt\n",
      "09:51  Adding required observable pt_mu1 = mu[0].pt\n",
      "09:51  Adding required observable delta_eta_ll = abs(e[0].eta - mu[0].eta)\n",
      "09:51  Adding required observable delta_phi_ll = abs(e[0].phi() - mu[0].phi())\n",
      "09:51  Analysing Delphes sample MG_process/Events/run_01/tag_1_pythia8_events_delphes.root\n",
      "09:51  Requiring existence of observable pt_e1: 33638 events pass, 16362 events removed\n",
      "09:51  Requiring existence of observable pt_mu1: 38348 events pass, 11652 events removed\n",
      "09:51  Requiring existence of observable delta_eta_ll: 26491 events pass, 23509 events removed\n",
      "09:51  Requiring existence of observable delta_phi_ll: 26491 events pass, 23509 events removed\n",
      "09:51  Loading HDF5 data from data/madminer_example.h5 and saving file to data/madminer_example_with_data_run4.h5\n",
      "09:51  Generating MadGraph process folder from cards/proc_card.dat at ./MG_process\n",
      "09:51  Creating param and reweight cards in ./MG_process\n",
      "09:51  Starting MadGraph and Pythia in ./MG_process\n",
      "10:04  \n",
      "10:04  ------------------------------------------------------------\n",
      "10:04  |                                                          |\n",
      "10:04  |  DelphesProcessor                                        |\n",
      "10:04  |                                                          |\n",
      "10:04  |  Version from July 19, 2018                              |\n",
      "10:04  |                                                          |\n",
      "10:04  |           Johann Brehmer, Kyle Cranmer, and Felix Kling  |\n",
      "10:04  |                                                          |\n",
      "10:04  ------------------------------------------------------------\n",
      "10:04  \n",
      "10:04  Hi! How are you today?\n",
      "10:04  Adding HepMC sample at MG_process/Events/run_01/tag_1_pythia8_events.hepmc.gz\n"
     ]
    },
    {
     "name": "stderr",
     "output_type": "stream",
     "text": [
      "10:04  Running Delphes at /Users/felixkling/work/MG5_aMC_v2_6_2/Delphes\n",
      "10:06  Adding required observable pt_e1 = e[0].pt\n",
      "10:06  Adding required observable pt_mu1 = mu[0].pt\n",
      "10:06  Adding required observable delta_eta_ll = abs(e[0].eta - mu[0].eta)\n",
      "10:06  Adding required observable delta_phi_ll = abs(e[0].phi() - mu[0].phi())\n",
      "10:06  Analysing Delphes sample MG_process/Events/run_01/tag_1_pythia8_events_delphes.root\n",
      "10:06  Requiring existence of observable pt_e1: 33894 events pass, 16106 events removed\n",
      "10:06  Requiring existence of observable pt_mu1: 38373 events pass, 11627 events removed\n",
      "10:06  Requiring existence of observable delta_eta_ll: 26759 events pass, 23241 events removed\n",
      "10:06  Requiring existence of observable delta_phi_ll: 26759 events pass, 23241 events removed\n",
      "10:06  Loading HDF5 data from data/madminer_example.h5 and saving file to data/madminer_example_with_data_run5.h5\n"
     ]
    }
   ],
   "source": [
    "#Set number of runs\n",
    "nruns = 5\n",
    "\n",
    "#Loop\n",
    "for counter in range (1, nruns+1):\n",
    "    #remove old MG_process / not sure if necessary but why not\n",
    "    ! rm -rf /Users/felixkling/Documents/GitHub/madminer/examples/usage/MG_process\n",
    "    \n",
    "    #Run MG5/Reweight/Pythia\n",
    "    miner.run(mg_directory=mg_dir,\n",
    "              proc_card_file='cards/proc_card.dat',\n",
    "              param_card_template_file='cards/param_card_template.dat',\n",
    "              reweight_card_template_file='cards/reweight_card_template.dat',\n",
    "              run_card_file='cards/run_card.dat',\n",
    "              pythia8_card_file='cards/pythia8_card.dat',\n",
    "              sample_benchmark='bsm0',\n",
    "              initial_command='source ~/.bashrc'\n",
    "              )\n",
    "    \n",
    "    #Initialize DelphesProcessor\n",
    "    dm = DelphesProcessor()\n",
    "    \n",
    "    #Set hepmc file \n",
    "    dm.add_hepmc_sample('MG_process/Events/run_01/tag_1_pythia8_events.hepmc.gz')\n",
    "    \n",
    "    #Run Delphes\n",
    "    dm.run_delphes(delphes_directory=mg_dir + '/Delphes',\n",
    "               delphes_card='cards/delphes_card.dat',\n",
    "               initial_command='source ~/.bashrc')\n",
    "    \n",
    "    #Define observables \n",
    "    dm.add_observable('pt_e1', 'e[0].pt', required=True)\n",
    "    dm.add_observable('pt_mu1', 'mu[0].pt', required=True)\n",
    "    dm.add_observable('delta_eta_ll', 'abs(e[0].eta - mu[0].eta)', required=True)\n",
    "    dm.add_observable('delta_phi_ll', 'abs(e[0].phi() - mu[0].phi())', required=True)\n",
    "    \n",
    "    #Extract all these observables from the Delphes ROOT file generated before:\n",
    "    dm.analyse_delphes_samples()\n",
    "    \n",
    "    #The values of the observables and the weights are then saved in the HDF5 file\n",
    "    dm.save('data/madminer_example_with_data_run'+`counter`+'.h5', 'data/madminer_example.h5')"
   ]
  },
  {
   "cell_type": "markdown",
   "metadata": {},
   "source": [
    "## 5. Combine and shuffle different event samples"
   ]
  },
  {
   "cell_type": "markdown",
   "metadata": {},
   "source": [
    "To reduce disk usage, you can generate several small event samples with the steps given above, and combine them now. Note that (for now) it is essential that all of them are generated with the same setup, including the same benchmark points / morphing basis!"
   ]
  },
  {
   "cell_type": "code",
   "execution_count": 6,
   "metadata": {},
   "outputs": [
    {
     "name": "stderr",
     "output_type": "stream",
     "text": [
      "16:24  \n",
      "16:24  ------------------------------------------------------------\n",
      "16:24  |                                                          |\n",
      "16:24  |  MadMiner                                                |\n",
      "16:24  |                                                          |\n",
      "16:24  |  Version from July 19, 2018                              |\n",
      "16:24  |                                                          |\n",
      "16:24  |           Johann Brehmer, Kyle Cranmer, and Felix Kling  |\n",
      "16:24  |                                                          |\n",
      "16:24  ------------------------------------------------------------\n",
      "16:24  \n",
      "16:24  Careful: this tool assumes that all samples are generated with the same setup, including identical benchmarks (and thus morphing setup). If it is used with samples with different settings, there will be wrong results! There are no explicit cross checks in place yet.\n",
      "16:24  Copying setup from datasave/madminer_example_with_data_run_A1.h5 to datasave/madminer_example_shuffled_runA.h5\n",
      "16:24  Loading samples from file 1 / 21 at datasave/madminer_example_with_data_run_A1.h5\n",
      "16:24  Loading samples from file 2 / 21 at datasave/madminer_example_with_data_run_A2.h5\n",
      "16:24  Loading samples from file 3 / 21 at datasave/madminer_example_with_data_run_A3.h5\n",
      "16:24  Loading samples from file 4 / 21 at datasave/madminer_example_with_data_run_A4.h5\n",
      "16:24  Loading samples from file 5 / 21 at datasave/madminer_example_with_data_run_A5.h5\n",
      "16:24  Loading samples from file 6 / 21 at datasave/madminer_example_with_data_run_A6.h5\n",
      "16:24  Loading samples from file 7 / 21 at datasave/madminer_example_with_data_run_A7.h5\n",
      "16:24  Loading samples from file 8 / 21 at datasave/madminer_example_with_data_run_A8.h5\n",
      "16:24  Loading samples from file 9 / 21 at datasave/madminer_example_with_data_run_A9.h5\n",
      "16:24  Loading samples from file 10 / 21 at datasave/madminer_example_with_data_run_A10.h5\n",
      "16:24  Loading samples from file 11 / 21 at datasave/madminer_example_with_data_run_A11.h5\n",
      "16:24  Loading samples from file 12 / 21 at datasave/madminer_example_with_data_run_A12.h5\n",
      "16:24  Loading samples from file 13 / 21 at datasave/madminer_example_with_data_run_A13.h5\n",
      "16:24  Loading samples from file 14 / 21 at datasave/madminer_example_with_data_run_A14.h5\n",
      "16:24  Loading samples from file 15 / 21 at datasave/madminer_example_with_data_run_A15.h5\n",
      "16:24  Loading samples from file 16 / 21 at datasave/madminer_example_with_data_run_A16.h5\n",
      "16:24  Loading samples from file 17 / 21 at datasave/madminer_example_with_data_run_A17.h5\n",
      "16:24  Loading samples from file 18 / 21 at datasave/madminer_example_with_data_run_A18.h5\n",
      "16:24  Loading samples from file 19 / 21 at datasave/madminer_example_with_data_run_A19.h5\n",
      "16:24  Loading samples from file 20 / 21 at datasave/madminer_example_with_data_run_A20.h5\n",
      "16:24  Loading samples from file 21 / 21 at datasave/madminer_example_with_data_run_A21.h5\n"
     ]
    }
   ],
   "source": [
    "combine_and_shuffle(\n",
    "    ['datasave/madminer_example_with_data_run_A1.h5',\n",
    "     'datasave/madminer_example_with_data_run_A2.h5',\n",
    "     'datasave/madminer_example_with_data_run_A3.h5',\n",
    "     'datasave/madminer_example_with_data_run_A4.h5',\n",
    "     'datasave/madminer_example_with_data_run_A5.h5',\n",
    "     'datasave/madminer_example_with_data_run_A6.h5',\n",
    "     'datasave/madminer_example_with_data_run_A7.h5',\n",
    "     'datasave/madminer_example_with_data_run_A8.h5',\n",
    "     'datasave/madminer_example_with_data_run_A9.h5',\n",
    "     'datasave/madminer_example_with_data_run_A10.h5',\n",
    "     'datasave/madminer_example_with_data_run_A11.h5',\n",
    "     'datasave/madminer_example_with_data_run_A12.h5',\n",
    "     'datasave/madminer_example_with_data_run_A13.h5',\n",
    "     'datasave/madminer_example_with_data_run_A14.h5',\n",
    "     'datasave/madminer_example_with_data_run_A15.h5',\n",
    "     'datasave/madminer_example_with_data_run_A16.h5',\n",
    "     'datasave/madminer_example_with_data_run_A17.h5', \n",
    "     'datasave/madminer_example_with_data_run_A18.h5',\n",
    "     'datasave/madminer_example_with_data_run_A19.h5',\n",
    "     'datasave/madminer_example_with_data_run_A20.h5',\n",
    "     'datasave/madminer_example_with_data_run_A21.h5'],\n",
    "    'datasave/madminer_example_shuffled_runA.h5'\n",
    ")"
   ]
  },
  {
   "cell_type": "code",
   "execution_count": 7,
   "metadata": {},
   "outputs": [
    {
     "name": "stderr",
     "output_type": "stream",
     "text": [
      "16:25  \n",
      "16:25  ------------------------------------------------------------\n",
      "16:25  |                                                          |\n",
      "16:25  |  MadMiner                                                |\n",
      "16:25  |                                                          |\n",
      "16:25  |  Version from July 19, 2018                              |\n",
      "16:25  |                                                          |\n",
      "16:25  |           Johann Brehmer, Kyle Cranmer, and Felix Kling  |\n",
      "16:25  |                                                          |\n",
      "16:25  ------------------------------------------------------------\n",
      "16:25  \n",
      "16:25  Careful: this tool assumes that all samples are generated with the same setup, including identical benchmarks (and thus morphing setup). If it is used with samples with different settings, there will be wrong results! There are no explicit cross checks in place yet.\n",
      "16:25  Copying setup from datasave/madminer_example_with_data_run_B1.h5 to datasave/madminer_example_shuffled_runB.h5\n",
      "16:25  Loading samples from file 1 / 5 at datasave/madminer_example_with_data_run_B1.h5\n",
      "16:25  Loading samples from file 2 / 5 at datasave/madminer_example_with_data_run_B2.h5\n",
      "16:25  Loading samples from file 3 / 5 at datasave/madminer_example_with_data_run_B3.h5\n",
      "16:25  Loading samples from file 4 / 5 at datasave/madminer_example_with_data_run_B4.h5\n",
      "16:25  Loading samples from file 5 / 5 at datasave/madminer_example_with_data_run_B5.h5\n"
     ]
    }
   ],
   "source": [
    "combine_and_shuffle(\n",
    "    ['datasave/madminer_example_with_data_run_B1.h5',\n",
    "     'datasave/madminer_example_with_data_run_B2.h5',\n",
    "     'datasave/madminer_example_with_data_run_B3.h5',\n",
    "     'datasave/madminer_example_with_data_run_B4.h5',\n",
    "     'datasave/madminer_example_with_data_run_B5.h5'],\n",
    "    'datasave/madminer_example_shuffled_runB.h5'\n",
    ")"
   ]
  },
  {
   "cell_type": "code",
   "execution_count": null,
   "metadata": {},
   "outputs": [],
   "source": []
  }
 ],
 "metadata": {
  "kernelspec": {
   "display_name": "Python 2",
   "language": "python",
   "name": "python2"
  },
  "language_info": {
   "codemirror_mode": {
    "name": "ipython",
    "version": 2
   },
   "file_extension": ".py",
   "mimetype": "text/x-python",
   "name": "python",
   "nbconvert_exporter": "python",
   "pygments_lexer": "ipython2",
   "version": "2.7.15"
  }
 },
 "nbformat": 4,
 "nbformat_minor": 2
}
