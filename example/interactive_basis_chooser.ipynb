{
 "cells": [
  {
   "cell_type": "markdown",
   "metadata": {},
   "source": [
    "# Interactive basis plaything"
   ]
  },
  {
   "cell_type": "code",
   "execution_count": 1,
   "metadata": {},
   "outputs": [],
   "source": [
    "import numpy as np\n",
    "import bqplot\n",
    "from bqplot import pyplot as plt\n",
    "from IPython.display import display\n",
    "from ipywidgets import Layout\n",
    "import numpy as np\n",
    "import pandas as pd\n",
    "%matplotlib notebook\n",
    "\n",
    "from madminer.morphing import MadMorpher"
   ]
  },
  {
   "cell_type": "markdown",
   "metadata": {},
   "source": [
    "## Settings"
   ]
  },
  {
   "cell_type": "code",
   "execution_count": null,
   "metadata": {},
   "outputs": [],
   "source": [
    "n_bases = 1\n",
    "n_resolution = 100"
   ]
  },
  {
   "cell_type": "markdown",
   "metadata": {},
   "source": [
    "## Preparation"
   ]
  },
  {
   "cell_type": "code",
   "execution_count": null,
   "metadata": {},
   "outputs": [],
   "source": [
    "morpher = MadMorpher(parameter_max_power=[4,4],\n",
    "                     parameter_range=[(-1.,1.), (-1.,1.)],\n",
    "                     max_overall_power=4,\n",
    "                     n_bases=n_bases)"
   ]
  },
  {
   "cell_type": "code",
   "execution_count": null,
   "metadata": {},
   "outputs": [],
   "source": [
    "xi = np.linspace(-1.,1.,n_resolution)\n",
    "yi = np.linspace(-1.,1.,n_resolution)\n",
    "xx, yy = np.meshgrid(xi, yi)\n",
    "xx = xx.reshape((-1,1))\n",
    "yy = yy.reshape((-1,1))\n",
    "theta_evaluation = np.hstack([xx, yy])\n",
    "\n",
    "x_updated = False\n",
    "y_updated = False"
   ]
  },
  {
   "cell_type": "markdown",
   "metadata": {},
   "source": [
    "## Basis evaluation"
   ]
  },
  {
   "cell_type": "code",
   "execution_count": null,
   "metadata": {},
   "outputs": [],
   "source": [
    "def evaluate_basis(basis=None):\n",
    "    \n",
    "    # Optimization\n",
    "    if basis is None:\n",
    "        basis = morpher.find_basis_simple()\n",
    "\n",
    "    # Evaluate basis\n",
    "    squared_weights = []\n",
    "\n",
    "    for theta in theta_evaluation:\n",
    "        wi = morpher._calculate_morphing_weights(theta, basis)\n",
    "        squared_weights.append(np.sum(wi*wi)**0.5)\n",
    "\n",
    "    squared_weights = np.array(squared_weights).reshape((n_resolution,n_resolution))\n",
    "    \n",
    "    return basis, squared_weights"
   ]
  },
  {
   "cell_type": "markdown",
   "metadata": {},
   "source": [
    "## Initial set up"
   ]
  },
  {
   "cell_type": "code",
   "execution_count": null,
   "metadata": {},
   "outputs": [],
   "source": [
    "basis, squared_weights = evaluate_basis(None)"
   ]
  },
  {
   "cell_type": "markdown",
   "metadata": {},
   "source": [
    "## Interactive tool"
   ]
  },
  {
   "cell_type": "code",
   "execution_count": null,
   "metadata": {},
   "outputs": [],
   "source": [
    "def update(change):\n",
    "    global basis, squared_weights, x_updated, y_updated\n",
    "    \n",
    "    variable = change['name']\n",
    "    values = change['new']\n",
    "    \n",
    "    if variable == 'x':\n",
    "        basis[:,0] = values\n",
    "        x_updated = True\n",
    "    elif variable == 'y':\n",
    "        basis[:,1] = values\n",
    "        y_updated = True\n",
    "    \n",
    "    if x_updated and y_updated:\n",
    "        basis, squared_weights = evaluate_basis(basis)\n",
    "        heat.color = squared_weights  # np.log(squared_weights) / np.log(10)\n",
    "        \n",
    "        x_updated = False\n",
    "        y_updated = False"
   ]
  },
  {
   "cell_type": "code",
   "execution_count": null,
   "metadata": {},
   "outputs": [],
   "source": [
    "x_sc = bqplot.scales.LinearScale(min=-1., max=1.)\n",
    "y_sc = bqplot.scales.LinearScale(min=-1., max=1.)\n",
    "c_sc = bqplot.scales.ColorScale(min=0., max=100., scheme='Greys')\n",
    "\n",
    "colors = []\n",
    "for c in bqplot.colorschemes.CATEGORY20:\n",
    "    colors += [c] * morpher.n_components\n",
    "\n",
    "heat = bqplot.GridHeatMap(color=squared_weights,\n",
    "                          scales={'row': x_sc, 'column': y_sc, 'color': c_sc},\n",
    "                          row=yi,\n",
    "                          column=xi,\n",
    "                          stroke=None)\n",
    "\n",
    "scatter = bqplot.Scatter(colors=colors,\n",
    "                         x=basis[:,0],\n",
    "                         y=basis[:,1],\n",
    "                         scales={'x': x_sc, 'y': y_sc})\n",
    "\n",
    "ax_x = bqplot.Axis(scale=x_sc, label='fW')\n",
    "ax_y = bqplot.Axis(scale=y_sc, orientation='vertical', label='fWW')\n",
    "ax_c = bqplot.ColorAxis(scale=c_sc,\n",
    "                        orientation='vertical', \n",
    "                        side='right')\n",
    "\n",
    "fig = bqplot.Figure(marks=[heat, scatter],\n",
    "                    axes=[ax_x, ax_y, ax_c],\n",
    "                    layout=Layout(width='600px', height='600px'))\n",
    "\n",
    "display(fig)\n",
    "\n",
    "scatter.observe(update, ['y','x'])\n",
    "scatter.enable_move = True\n"
   ]
  },
  {
   "cell_type": "code",
   "execution_count": null,
   "metadata": {},
   "outputs": [],
   "source": []
  }
 ],
 "metadata": {
  "kernelspec": {
   "display_name": "Python [default]",
   "language": "python",
   "name": "python3"
  },
  "language_info": {
   "codemirror_mode": {
    "name": "ipython",
    "version": 3
   },
   "file_extension": ".py",
   "mimetype": "text/x-python",
   "name": "python",
   "nbconvert_exporter": "python",
   "pygments_lexer": "ipython3",
   "version": "3.6.4"
  }
 },
 "nbformat": 4,
 "nbformat_minor": 2
}
