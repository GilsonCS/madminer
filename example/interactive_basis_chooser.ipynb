{
 "cells": [
  {
   "cell_type": "markdown",
   "metadata": {},
   "source": [
    "# Interactive basis plaything"
   ]
  },
  {
   "cell_type": "code",
   "execution_count": 1,
   "metadata": {},
   "outputs": [],
   "source": [
    "import numpy as np\n",
    "import bqplot\n",
    "from bqplot import pyplot as plt\n",
    "from IPython.display import display\n",
    "from ipywidgets import Layout\n",
    "import numpy as np\n",
    "import pandas as pd\n",
    "%matplotlib notebook\n",
    "\n",
    "from madminer.madminer import MadMiner"
   ]
  },
  {
   "cell_type": "markdown",
   "metadata": {},
   "source": [
    "## Preparation"
   ]
  },
  {
   "cell_type": "code",
   "execution_count": 2,
   "metadata": {},
   "outputs": [],
   "source": [
    "n_resolution = 50"
   ]
  },
  {
   "cell_type": "code",
   "execution_count": 3,
   "metadata": {},
   "outputs": [],
   "source": [
    "miner = MadMiner()\n",
    "miner.add_parameter(\n",
    "    lha_block='dim6',\n",
    "    lha_id=1,\n",
    "    parameter_name='fW',\n",
    "    morphing_max_power=4,\n",
    "    morphing_parameter_range=(-1.,1.)\n",
    ")\n",
    "miner.add_parameter(\n",
    "    lha_block='dim6',\n",
    "    lha_id=2,\n",
    "    parameter_name='fWW',\n",
    "    morphing_max_power=4,\n",
    "    morphing_parameter_range=(-1.,1.)\n",
    ")\n",
    "\n",
    "xi = np.linspace(-1.,1.,n_resolution)\n",
    "yi = np.linspace(-1.,1.,n_resolution)\n",
    "xx, yy = np.meshgrid(xi, yi)\n",
    "xx = xx.reshape((-1,1))\n",
    "yy = yy.reshape((-1,1))\n",
    "theta_evaluation = np.hstack([xx, yy])\n",
    "\n",
    "x_updated = False\n",
    "y_updated = False"
   ]
  },
  {
   "cell_type": "markdown",
   "metadata": {},
   "source": [
    "## Basis evaluation"
   ]
  },
  {
   "cell_type": "code",
   "execution_count": 4,
   "metadata": {},
   "outputs": [],
   "source": [
    "def evaluate_basis(basis=None):\n",
    "    \n",
    "    # Set basis\n",
    "    miner.set_benchmarks()\n",
    "    if basis is not None:\n",
    "        for theta in basis:\n",
    "            miner.add_benchmark(\n",
    "                {'fW':theta[0], 'fWW':theta[1]}\n",
    "            )\n",
    "            \n",
    "    # Set up morphing\n",
    "    miner.set_benchmarks_from_morphing(keep_existing_benchmarks=True,\n",
    "                           n_trials=1)\n",
    "\n",
    "    # Read out basis (which might have been appended)\n",
    "    actual_basis = []\n",
    "    for _, parameters in miner.benchmarks.items():\n",
    "        actual_basis.append([value for _, value in parameters.items()])\n",
    "    actual_basis = np.array(actual_basis)\n",
    "\n",
    "    # Evaluate basis\n",
    "    squared_weights = []\n",
    "\n",
    "    for theta in theta_evaluation:\n",
    "        wi = miner.current_morpher._calculate_morphing_weights(theta, None)\n",
    "        squared_weights.append(np.sum(wi*wi)**0.5)\n",
    "\n",
    "    squared_weights = np.array(squared_weights).reshape((n_resolution,n_resolution))\n",
    "    \n",
    "    return actual_basis, squared_weights"
   ]
  },
  {
   "cell_type": "markdown",
   "metadata": {},
   "source": [
    "## Initial set up"
   ]
  },
  {
   "cell_type": "code",
   "execution_count": 5,
   "metadata": {},
   "outputs": [],
   "source": [
    "basis = np.array([[ 0.        ,  0.        ],\n",
    "       [-0.8318245 ,  0.85645093],\n",
    "       [-0.82002127, -0.85191237],\n",
    "       [ 0.76870769, -0.81272456],\n",
    "       [ 0.7819962 ,  0.86242685],\n",
    "       [-0.57243257,  0.37755934],\n",
    "       [-0.29730939,  0.74563426],\n",
    "       [ 0.13777926,  0.35254704],\n",
    "       [ 0.46330191,  0.51783982],\n",
    "       [ 0.64649576, -0.01232633],\n",
    "       [ 0.16629182, -0.29365045],\n",
    "       [ 0.39752054, -0.64235507],\n",
    "       [-0.19238158, -0.59962178],\n",
    "       [-0.30730345, -0.09697784],\n",
    "       [-0.70631846, -0.18913046]])\n",
    "\n",
    "basis, squared_weights = evaluate_basis(basis)"
   ]
  },
  {
   "cell_type": "markdown",
   "metadata": {},
   "source": [
    "## Interactive tool"
   ]
  },
  {
   "cell_type": "code",
   "execution_count": 6,
   "metadata": {},
   "outputs": [],
   "source": [
    "def update(change):\n",
    "    global basis, squared_weights, x_updated, y_updated\n",
    "    \n",
    "    variable = change['name']\n",
    "    values = change['new']\n",
    "    \n",
    "    if variable == 'x':\n",
    "        basis[:,0] = values\n",
    "        x_updated = True\n",
    "    elif variable == 'y':\n",
    "        basis[:,1] = values\n",
    "        y_updated = True\n",
    "    \n",
    "    if x_updated and y_updated:\n",
    "        basis, squared_weights = evaluate_basis(basis)\n",
    "        heat.color = np.log(squared_weights) / np.log(10)\n",
    "        \n",
    "        x_updated = False\n",
    "        y_updated = False"
   ]
  },
  {
   "cell_type": "code",
   "execution_count": 8,
   "metadata": {},
   "outputs": [
    {
     "data": {
      "application/vnd.jupyter.widget-view+json": {
       "model_id": "40fd2607e9c147df80059533d3a36d74",
       "version_major": 2,
       "version_minor": 0
      },
      "text/html": [
       "<p>Failed to display Jupyter Widget of type <code>Figure</code>.</p>\n",
       "<p>\n",
       "  If you're reading this message in the Jupyter Notebook or JupyterLab Notebook, it may mean\n",
       "  that the widgets JavaScript is still loading. If this message persists, it\n",
       "  likely means that the widgets JavaScript library is either not installed or\n",
       "  not enabled. See the <a href=\"https://ipywidgets.readthedocs.io/en/stable/user_install.html\">Jupyter\n",
       "  Widgets Documentation</a> for setup instructions.\n",
       "</p>\n",
       "<p>\n",
       "  If you're reading this message in another frontend (for example, a static\n",
       "  rendering on GitHub or <a href=\"https://nbviewer.jupyter.org/\">NBViewer</a>),\n",
       "  it may mean that your frontend doesn't currently support widgets.\n",
       "</p>\n"
      ],
      "text/plain": [
       "Figure(axes=[Axis(label='fW', scale=LinearScale(max=1.0, min=-1.0)), Axis(label='fWW', orientation='vertical', scale=LinearScale(max=1.0, min=-1.0)), ColorAxis(orientation='vertical', scale=ColorScale(max=2.0, mid=1.0, min=0.0, scheme='YlOrRd'), side='right')], fig_margin={'top': 60, 'bottom': 60, 'left': 60, 'right': 60}, layout=Layout(height='600px', width='600px'), marks=[GridHeatMap(anchor_style={'fill': 'white', 'stroke': 'blue'}, color=array([[2.32657735, 2.28160512, 2.24608306, ..., 2.36927034, 2.46051482,\n",
       "        2.54918499],\n",
       "       [2.21201676, 2.14679153, 2.09170744, ..., 2.30453903, 2.41006681,\n",
       "        2.50940785],\n",
       "       [2.09174081, 1.99529323, 1.90585276, ..., 2.24536985, 2.36554086,\n",
       "        2.47517553],\n",
       "       ...,\n",
       "       [2.75821   , 2.68489933, 2.60954857, ..., 1.77116069, 1.8525234 ,\n",
       "        1.94854608],\n",
       "       [2.78549059, 2.71695397, 2.64742883, ..., 2.00289022, 2.0459879 ,\n",
       "        2.10372075],\n",
       "       [2.81572664, 2.7521741 , 2.68857861, ..., 2.18123939, 2.20586043,\n",
       "        2.24214734]]), column=array([-1.        , -0.95918367, -0.91836735, -0.87755102, -0.83673469,\n",
       "       -0.79591837, -0.75510204, -0.71428571, -0.67346939, -0.63265306,\n",
       "       -0.59183673, -0.55102041, -0.51020408, -0.46938776, -0.42857143,\n",
       "       -0.3877551 , -0.34693878, -0.30612245, -0.26530612, -0.2244898 ,\n",
       "       -0.18367347, -0.14285714, -0.10204082, -0.06122449, -0.02040816,\n",
       "        0.02040816,  0.06122449,  0.10204082,  0.14285714,  0.18367347,\n",
       "        0.2244898 ,  0.26530612,  0.30612245,  0.34693878,  0.3877551 ,\n",
       "        0.42857143,  0.46938776,  0.51020408,  0.55102041,  0.59183673,\n",
       "        0.63265306,  0.67346939,  0.71428571,  0.75510204,  0.79591837,\n",
       "        0.83673469,  0.87755102,  0.91836735,  0.95918367,  1.        ]), interactions={'hover': 'tooltip'}, row=array([-1.        , -0.95918367, -0.91836735, -0.87755102, -0.83673469,\n",
       "       -0.79591837, -0.75510204, -0.71428571, -0.67346939, -0.63265306,\n",
       "       -0.59183673, -0.55102041, -0.51020408, -0.46938776, -0.42857143,\n",
       "       -0.3877551 , -0.34693878, -0.30612245, -0.26530612, -0.2244898 ,\n",
       "       -0.18367347, -0.14285714, -0.10204082, -0.06122449, -0.02040816,\n",
       "        0.02040816,  0.06122449,  0.10204082,  0.14285714,  0.18367347,\n",
       "        0.2244898 ,  0.26530612,  0.30612245,  0.34693878,  0.3877551 ,\n",
       "        0.42857143,  0.46938776,  0.51020408,  0.55102041,  0.59183673,\n",
       "        0.63265306,  0.67346939,  0.71428571,  0.75510204,  0.79591837,\n",
       "        0.83673469,  0.87755102,  0.91836735,  0.95918367,  1.        ]), scales={'row': LinearScale(max=1.0, min=-1.0), 'column': LinearScale(max=1.0, min=-1.0), 'color': ColorScale(max=2.0, mid=1.0, min=0.0, scheme='YlOrRd')}, scales_metadata={'row': {'orientation': 'vertical', 'dimension': 'y'}, 'column': {'orientation': 'horizontal', 'dimension': 'x'}, 'color': {'dimension': 'color'}}, stroke=None, tooltip_style={'opacity': 0.9}), Scatter(colors=['black'], interactions={'hover': 'tooltip'}, scales={'x': LinearScale(max=1.0, min=-1.0), 'y': LinearScale(max=1.0, min=-1.0)}, scales_metadata={'x': {'orientation': 'horizontal', 'dimension': 'x'}, 'y': {'orientation': 'vertical', 'dimension': 'y'}, 'color': {'dimension': 'color'}, 'size': {'dimension': 'size'}, 'opacity': {'dimension': 'opacity'}, 'rotation': {'dimension': 'rotation'}, 'skew': {'dimension': 'skew'}}, tooltip_style={'opacity': 0.9}, x=array([-0.25325798, -0.62772606, -0.82002127,  0.76870769,  0.7819962 ,\n",
       "       -0.50857713, -0.29730939,  0.21482713,  0.38078457,  0.79780585,\n",
       "        0.16629182,  0.58503989, -0.10857713, -0.2362367 , -0.70631846]), y=array([ 0.26828756,  0.56873599, -0.85191237, -0.81272456,  0.86242685,\n",
       "        0.1247898 ,  0.74563426,  0.6673907 ,  0.15169563,  0.28174047,\n",
       "       -0.29365045, -0.10839406, -0.695838  , -0.21153307, -0.18913046]))], scale_x=LinearScale(allow_padding=False, max=1.0, min=0.0), scale_y=LinearScale(allow_padding=False, max=1.0, min=0.0))"
      ]
     },
     "metadata": {},
     "output_type": "display_data"
    }
   ],
   "source": [
    "x_sc = bqplot.scales.LinearScale(min=-1., max=1.)\n",
    "y_sc = bqplot.scales.LinearScale(min=-1., max=1.)\n",
    "c_sc = bqplot.scales.ColorScale(min=0., mid=1., max=2., scheme='YlOrRd')\n",
    "\n",
    "heat = bqplot.GridHeatMap(color=np.log(squared_weights) / np.log(10),\n",
    "                          scales={'row': x_sc, 'column': y_sc, 'color': c_sc},\n",
    "                          #stroke='white',\n",
    "                          row=yi,\n",
    "                          column=xi,\n",
    "                          stroke=None\n",
    "                         )\n",
    "\n",
    "scatter = bqplot.Scatter(colors=['black'],\n",
    "                         x=basis[:,0],\n",
    "                         y=basis[:,1],\n",
    "                         scales={'x': x_sc, 'y': y_sc})\n",
    "\n",
    "ax_x = bqplot.Axis(scale=x_sc, label='fW')\n",
    "ax_y = bqplot.Axis(scale=y_sc, orientation='vertical', label='fWW')\n",
    "ax_c = bqplot.ColorAxis(scale=c_sc,\n",
    "                        orientation='vertical', \n",
    "                        side='right')\n",
    "\n",
    "fig = bqplot.Figure(marks=[heat, scatter],\n",
    "                    axes=[ax_x, ax_y, ax_c],\n",
    "                    layout=Layout(width='600px', height='600px'))\n",
    "\n",
    "display(fig)\n",
    "\n",
    "scatter.observe(update, ['y','x'])\n",
    "scatter.enable_move = True\n"
   ]
  },
  {
   "cell_type": "code",
   "execution_count": null,
   "metadata": {},
   "outputs": [],
   "source": []
  }
 ],
 "metadata": {
  "kernelspec": {
   "display_name": "Python [default]",
   "language": "python",
   "name": "python3"
  },
  "language_info": {
   "codemirror_mode": {
    "name": "ipython",
    "version": 3
   },
   "file_extension": ".py",
   "mimetype": "text/x-python",
   "name": "python",
   "nbconvert_exporter": "python",
   "pygments_lexer": "ipython3",
   "version": "3.6.4"
  }
 },
 "nbformat": 4,
 "nbformat_minor": 2
}
