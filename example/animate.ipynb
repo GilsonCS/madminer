{
 "cells": [
  {
   "cell_type": "markdown",
   "metadata": {},
   "source": [
    "# Interactive basis plaything"
   ]
  },
  {
   "cell_type": "code",
   "execution_count": 1,
   "metadata": {},
   "outputs": [],
   "source": [
    "import numpy as np\n",
    "import matplotlib\n",
    "from matplotlib import pyplot as plt\n",
    "from matplotlib.animation import FuncAnimation\n",
    "import numpy as np\n",
    "%matplotlib notebook\n",
    "\n",
    "from madminer.morphing import MadMorpher"
   ]
  },
  {
   "cell_type": "markdown",
   "metadata": {},
   "source": [
    "## Settings"
   ]
  },
  {
   "cell_type": "code",
   "execution_count": 2,
   "metadata": {},
   "outputs": [],
   "source": [
    "n_bases = 1\n",
    "n_resolution = 50\n",
    "\n",
    "n_frames = 200"
   ]
  },
  {
   "cell_type": "markdown",
   "metadata": {},
   "source": [
    "## Preparation"
   ]
  },
  {
   "cell_type": "code",
   "execution_count": 26,
   "metadata": {},
   "outputs": [],
   "source": [
    "morpher = MadMorpher(parameter_max_power=[4,4],\n",
    "                     parameter_range=[(-1.,1.), (-1.,1.)],\n",
    "                     max_overall_power=4,\n",
    "                     n_bases=n_bases)"
   ]
  },
  {
   "cell_type": "code",
   "execution_count": 27,
   "metadata": {},
   "outputs": [],
   "source": [
    "xi = np.linspace(-1.,1.,n_resolution)\n",
    "yi = np.linspace(-1.,1.,n_resolution)\n",
    "xx, yy = np.meshgrid(xi, yi)\n",
    "xx = xx.reshape((-1,1))\n",
    "yy = yy.reshape((-1,1))\n",
    "theta_evaluation = np.hstack([xx, yy])"
   ]
  },
  {
   "cell_type": "markdown",
   "metadata": {},
   "source": [
    "## Basis evaluation"
   ]
  },
  {
   "cell_type": "code",
   "execution_count": 28,
   "metadata": {},
   "outputs": [],
   "source": [
    "def evaluate_basis(basis=None):\n",
    "    \n",
    "    # Optimization\n",
    "    if basis is None:\n",
    "        basis = morpher.find_basis_simple()\n",
    "\n",
    "    # Evaluate basis\n",
    "    squared_weights = []\n",
    "\n",
    "    for theta in theta_evaluation:\n",
    "        wi = morpher._calculate_morphing_weights(theta, basis)\n",
    "        squared_weights.append(np.sum(wi*wi)**0.5)\n",
    "\n",
    "    squared_weights = np.array(squared_weights).reshape((n_resolution,n_resolution))\n",
    "    \n",
    "    return squared_weights"
   ]
  },
  {
   "cell_type": "markdown",
   "metadata": {},
   "source": [
    "## Trajectories"
   ]
  },
  {
   "cell_type": "code",
   "execution_count": 110,
   "metadata": {},
   "outputs": [],
   "source": [
    "theta_min = np.array([[ 0.        ,  0.        ],\n",
    "       [-0.8318245 ,  0.85645093],\n",
    "       [-0.82002127, -0.85191237],\n",
    "       [ 0.76870769, -0.81272456],\n",
    "       [ 0.7819962 ,  0.86242685],\n",
    "       [-0.57243257,  0.37755934],\n",
    "       [-0.29730939,  0.74563426],\n",
    "       [ 0.13777926,  0.35254704],\n",
    "       [ 0.46330191,  0.51783982],\n",
    "       [ 0.64649576, -0.01232633],\n",
    "       [ 0.16629182, -0.29365045],\n",
    "       [ 0.39752054, -0.64235507],\n",
    "       [-0.19238158, -0.59962178],\n",
    "       [-0.30730345, -0.09697784],\n",
    "       [-0.70631846, -0.18913046]])\n",
    "\n",
    "random_points = -1. + 2.*np.random.rand(morpher.n_benchmarks,2)\n",
    "random_weights = 0.6 * np.random.rand(morpher.n_benchmarks,2)\n",
    "theta_max = (1.-random_weights) * (theta_min ) + random_weights*random_points\n",
    "theta_phase = 2.*np.pi*np.random.rand(morpher.n_benchmarks,2)"
   ]
  },
  {
   "cell_type": "code",
   "execution_count": 111,
   "metadata": {},
   "outputs": [],
   "source": [
    "def calculate_basis(t):\n",
    "    basis = 0.5 * (\n",
    "        (theta_max + theta_min)\n",
    "        + (theta_max - theta_min)\n",
    "        * np.sin(2.*np.pi * t / n_frames + theta_phase)\n",
    "    )\n",
    "    return basis"
   ]
  },
  {
   "cell_type": "markdown",
   "metadata": {},
   "source": [
    "## Initial configuration"
   ]
  },
  {
   "cell_type": "code",
   "execution_count": 112,
   "metadata": {},
   "outputs": [],
   "source": [
    "basis = calculate_basis(0)\n",
    "\n",
    "squared_weights = evaluate_basis(basis)"
   ]
  },
  {
   "cell_type": "code",
   "execution_count": 113,
   "metadata": {},
   "outputs": [
    {
     "data": {
      "image/png": "[encoded data removed]",
      "text/plain": [
       "<matplotlib.figure.Figure at 0x111ea2710>"
      ]
     },
     "metadata": {},
     "output_type": "display_data"
    }
   ],
   "source": [
    "fig = plt.figure(figsize=(6.,5.))\n",
    "ax = plt.gca()\n",
    "\n",
    "colors = []\n",
    "for c in ['white', 'black', 'yellow', 'green', 'blue', 'red'][:morpher.n_bases]:\n",
    "    colors += [c] * morpher.n_components\n",
    "\n",
    "pcm = ax.pcolormesh(xi, yi, squared_weights,\n",
    "                   norm=matplotlib.colors.LogNorm(vmin=1., vmax=1000.),\n",
    "                   cmap='viridis_r')\n",
    "cbar = fig.colorbar(pcm, ax=ax, extend='both')\n",
    "\n",
    "scatter = plt.scatter(basis[:,0], basis[:,1], s=50., c=colors)\n",
    "\n",
    "plt.xlabel(r'$f_W$')\n",
    "plt.ylabel(r'$f_{WW}$')\n",
    "cbar.set_label(r'$\\sqrt{\\sum w_i^2}$')\n",
    "plt.xlim(-1.,1.)\n",
    "plt.ylim(-1.,1.)\n",
    "\n",
    "plt.tight_layout()\n",
    "plt.show()"
   ]
  },
  {
   "cell_type": "markdown",
   "metadata": {},
   "source": [
    "## Animation"
   ]
  },
  {
   "cell_type": "code",
   "execution_count": 114,
   "metadata": {},
   "outputs": [],
   "source": [
    "def update(t):\n",
    "    basis = calculate_basis(t)\n",
    "    squared_weights = evaluate_basis(basis)\n",
    "    \n",
    "    print(t)\n",
    "    \n",
    "    scatter.set_offsets(basis)\n",
    "    pcm.set_array(squared_weights[:-1,:-1].ravel())\n",
    "    "
   ]
  },
  {
   "cell_type": "code",
   "execution_count": 115,
   "metadata": {},
   "outputs": [
    {
     "name": "stdout",
     "output_type": "stream",
     "text": [
      "0\n",
      "0\n",
      "1\n",
      "2\n",
      "3\n",
      "4\n",
      "5\n",
      "6\n",
      "7\n",
      "8\n",
      "9\n",
      "10\n",
      "11\n",
      "12\n",
      "13\n",
      "14\n",
      "15\n",
      "16\n",
      "17\n",
      "18\n",
      "19\n",
      "20\n",
      "21\n",
      "22\n",
      "23\n",
      "24\n",
      "25\n",
      "26\n",
      "27\n",
      "28\n",
      "29\n",
      "30\n",
      "31\n",
      "32\n",
      "33\n",
      "34\n",
      "35\n",
      "36\n",
      "37\n",
      "38\n",
      "39\n",
      "40\n",
      "41\n",
      "42\n",
      "43\n",
      "44\n",
      "45\n",
      "46\n",
      "47\n",
      "48\n",
      "49\n",
      "50\n",
      "51\n",
      "52\n",
      "53\n",
      "54\n",
      "55\n",
      "56\n",
      "57\n",
      "58\n",
      "59\n",
      "60\n",
      "61\n",
      "62\n",
      "63\n",
      "64\n",
      "65\n",
      "66\n",
      "67\n",
      "68\n",
      "69\n",
      "70\n",
      "71\n",
      "72\n",
      "73\n",
      "74\n",
      "75\n",
      "76\n",
      "77\n",
      "78\n",
      "79\n",
      "80\n",
      "81\n",
      "82\n",
      "83\n",
      "84\n",
      "85\n",
      "86\n",
      "87\n",
      "88\n",
      "89\n",
      "90\n",
      "91\n",
      "92\n",
      "93\n",
      "94\n",
      "95\n",
      "96\n",
      "97\n",
      "98\n",
      "99\n",
      "100\n",
      "101\n",
      "102\n",
      "103\n",
      "104\n",
      "105\n",
      "106\n",
      "107\n",
      "108\n",
      "109\n",
      "110\n",
      "111\n",
      "112\n",
      "113\n",
      "114\n",
      "115\n",
      "116\n",
      "117\n",
      "118\n",
      "119\n",
      "120\n",
      "121\n",
      "122\n",
      "123\n",
      "124\n",
      "125\n",
      "126\n",
      "127\n",
      "128\n",
      "129\n",
      "130\n",
      "131\n",
      "132\n",
      "133\n",
      "134\n",
      "135\n",
      "136\n",
      "137\n",
      "138\n",
      "139\n",
      "140\n",
      "141\n",
      "142\n",
      "143\n",
      "144\n",
      "145\n",
      "146\n",
      "147\n",
      "148\n",
      "149\n",
      "150\n",
      "151\n",
      "152\n",
      "153\n",
      "154\n",
      "155\n",
      "156\n",
      "157\n",
      "158\n",
      "159\n",
      "160\n",
      "161\n",
      "162\n",
      "163\n",
      "164\n",
      "165\n",
      "166\n",
      "167\n",
      "168\n",
      "169\n",
      "170\n",
      "171\n",
      "172\n",
      "173\n",
      "174\n",
      "175\n",
      "176\n",
      "177\n",
      "178\n",
      "179\n",
      "180\n",
      "181\n",
      "182\n",
      "183\n",
      "184\n",
      "185\n",
      "186\n",
      "187\n",
      "188\n",
      "189\n",
      "190\n",
      "191\n",
      "192\n",
      "193\n",
      "194\n",
      "195\n",
      "196\n",
      "197\n",
      "198\n",
      "199\n",
      "0\n"
     ]
    },
    {
     "data": {
      "image/png": "[encoded data removed]",
      "text/plain": [
       "<matplotlib.figure.Figure at 0x1122c8d30>"
      ]
     },
     "metadata": {},
     "output_type": "display_data"
    }
   ],
   "source": [
    "fig = plt.figure(figsize=(5.,4.))\n",
    "ax = plt.gca()\n",
    "\n",
    "colors = []\n",
    "for c in ['white', 'black', 'yellow', 'green', 'blue', 'red'][:morpher.n_bases]:\n",
    "    colors += [c] * morpher.n_components\n",
    "\n",
    "pcm = ax.pcolormesh(xi, yi, squared_weights,\n",
    "                   norm=matplotlib.colors.LogNorm(vmin=1., vmax=1000.),\n",
    "                   cmap='viridis_r')\n",
    "cbar = fig.colorbar(pcm, ax=ax, extend='both')\n",
    "\n",
    "scatter = plt.scatter(basis[:,0], basis[:,1], s=50., c=colors)\n",
    "\n",
    "plt.xlabel(r'$f_W$')\n",
    "plt.ylabel(r'$f_{WW}$')\n",
    "cbar.set_label(r'$\\sqrt{\\sum w_i^2}$')\n",
    "plt.xlim(-1.,1.)\n",
    "plt.ylim(-1.,1.)\n",
    "\n",
    "plt.tight_layout()\n",
    "\n",
    "anim = FuncAnimation(fig, update, frames=np.arange(0, n_frames), interval=40)\n",
    "anim.save('test.gif', dpi=150, writer='imagemagick')\n"
   ]
  },
  {
   "cell_type": "code",
   "execution_count": null,
   "metadata": {},
   "outputs": [],
   "source": []
  }
 ],
 "metadata": {
  "kernelspec": {
   "display_name": "Python [default]",
   "language": "python",
   "name": "python3"
  },
  "language_info": {
   "codemirror_mode": {
    "name": "ipython",
    "version": 3
   },
   "file_extension": ".py",
   "mimetype": "text/x-python",
   "name": "python",
   "nbconvert_exporter": "python",
   "pygments_lexer": "ipython3",
   "version": "3.6.4"
  }
 },
 "nbformat": 4,
 "nbformat_minor": 2
}
