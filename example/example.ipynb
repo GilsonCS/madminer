{
 "cells": [
  {
   "cell_type": "markdown",
   "metadata": {},
   "source": [
    "# Example"
   ]
  },
  {
   "cell_type": "code",
   "execution_count": 1,
   "metadata": {},
   "outputs": [],
   "source": [
    "import numpy as np\n",
    "from madminer import MadMiner"
   ]
  },
  {
   "cell_type": "markdown",
   "metadata": {},
   "source": [
    "## 1. Create MadMiner object"
   ]
  },
  {
   "cell_type": "code",
   "execution_count": 2,
   "metadata": {},
   "outputs": [],
   "source": [
    "miner = MadMiner()"
   ]
  },
  {
   "cell_type": "markdown",
   "metadata": {},
   "source": [
    "## 2. Define parameter space"
   ]
  },
  {
   "cell_type": "code",
   "execution_count": 3,
   "metadata": {},
   "outputs": [
    {
     "data": {
      "text/plain": [
       "{'GF': ('sminputs', 2), 'alphaEW': ('sminputs', 1)}"
      ]
     },
     "execution_count": 3,
     "metadata": {},
     "output_type": "execute_result"
    }
   ],
   "source": [
    "miner.add_parameter('sminputs', 1, 'alphaEW')\n",
    "miner.add_parameter('sminputs', 2, 'GF')\n",
    "\n",
    "miner.parameters"
   ]
  },
  {
   "cell_type": "markdown",
   "metadata": {},
   "source": [
    "## 3. Define benchmark points"
   ]
  },
  {
   "cell_type": "code",
   "execution_count": 4,
   "metadata": {},
   "outputs": [
    {
     "data": {
      "text/plain": [
       "{'apples': {'GF': 1.17e-06, 'alphaEW': 120.0},\n",
       " 'avocados': {'GF': 1.15e-06, 'alphaEW': 130.0},\n",
       " 'oranges': {'GF': 1.16e-06, 'alphaEW': 125.0}}"
      ]
     },
     "execution_count": 4,
     "metadata": {},
     "output_type": "execute_result"
    }
   ],
   "source": [
    "miner.add_benchmark(\n",
    "    {'alphaEW':120., 'GF':1.17e-6},\n",
    "    'apples'\n",
    ")\n",
    "miner.add_benchmark(\n",
    "    {'alphaEW':125., 'GF':1.16e-6},\n",
    "    'oranges'\n",
    ")\n",
    "miner.add_benchmark(\n",
    "    {'alphaEW':130., 'GF':1.15e-6},\n",
    "    'avocados'\n",
    ")\n",
    "\n",
    "miner.benchmarks"
   ]
  },
  {
   "cell_type": "markdown",
   "metadata": {},
   "source": [
    "## 4. Export parameter and reweight cards, integrating along two different scenarios"
   ]
  },
  {
   "cell_type": "code",
   "execution_count": 5,
   "metadata": {},
   "outputs": [],
   "source": [
    "miner.export_cards(\n",
    "    'templates/param_card_template.dat',\n",
    "    'templates/reweight_card_template.dat',\n",
    "    'MG_process_1'\n",
    ")"
   ]
  },
  {
   "cell_type": "code",
   "execution_count": 6,
   "metadata": {},
   "outputs": [],
   "source": [
    "miner.export_cards(\n",
    "    'templates/param_card_template.dat',\n",
    "    'templates/reweight_card_template.dat',\n",
    "    'MG_process_2',\n",
    "    sample_benchmark='avocados'\n",
    ")"
   ]
  },
  {
   "cell_type": "code",
   "execution_count": null,
   "metadata": {},
   "outputs": [],
   "source": []
  }
 ],
 "metadata": {
  "kernelspec": {
   "display_name": "Python [default]",
   "language": "python",
   "name": "python3"
  },
  "language_info": {
   "codemirror_mode": {
    "name": "ipython",
    "version": 3
   },
   "file_extension": ".py",
   "mimetype": "text/x-python",
   "name": "python",
   "nbconvert_exporter": "python",
   "pygments_lexer": "ipython3",
   "version": "3.6.4"
  }
 },
 "nbformat": 4,
 "nbformat_minor": 2
}
