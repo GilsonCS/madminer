{
 "cells": [
  {
   "cell_type": "markdown",
   "metadata": {},
   "source": [
    "# Example"
   ]
  },
  {
   "cell_type": "code",
   "execution_count": 1,
   "metadata": {},
   "outputs": [],
   "source": [
    "import numpy as np\n",
    "from matplotlib import pyplot as plt\n",
    "import matplotlib\n",
    "% matplotlib inline\n",
    "\n",
    "from madminer.madminer import MadMiner"
   ]
  },
  {
   "cell_type": "markdown",
   "metadata": {},
   "source": [
    "## 1. Create MadMiner object"
   ]
  },
  {
   "cell_type": "code",
   "execution_count": 2,
   "metadata": {},
   "outputs": [],
   "source": [
    "miner = MadMiner()"
   ]
  },
  {
   "cell_type": "markdown",
   "metadata": {},
   "source": [
    "## 2. Define parameter space"
   ]
  },
  {
   "cell_type": "code",
   "execution_count": 17,
   "metadata": {},
   "outputs": [
    {
     "data": {
      "text/plain": [
       "OrderedDict([('fW', ('ANOINPUTS', 3, 4, (-1.0, 1.0))),\n",
       "             ('fWW', ('ANOINPUTS', 7, 4, (-1.0, 1.0)))])"
      ]
     },
     "execution_count": 17,
     "metadata": {},
     "output_type": "execute_result"
    }
   ],
   "source": [
    "miner.set_parameters()\n",
    "\n",
    "miner.add_parameter(\n",
    "    lha_block='ANOINPUTS',\n",
    "    lha_id=3,\n",
    "    parameter_name='fW',\n",
    "    morphing_max_power=4,\n",
    "    morphing_parameter_range=(-1.,1.)\n",
    ")\n",
    "miner.add_parameter(\n",
    "    lha_block='ANOINPUTS',\n",
    "    lha_id=7,\n",
    "    parameter_name='fWW',\n",
    "    morphing_max_power=4,\n",
    "    morphing_parameter_range=(-1.,1.)\n",
    ")\n",
    "\n",
    "miner.parameters"
   ]
  },
  {
   "cell_type": "markdown",
   "metadata": {},
   "source": [
    "## 3a. Define benchmark points manually"
   ]
  },
  {
   "cell_type": "code",
   "execution_count": 4,
   "metadata": {},
   "outputs": [],
   "source": [
    "thetas_old = np.array([[ 0.        ,  0.        ],\n",
    "       [-0.8318245 ,  0.85645093],\n",
    "       [-0.82002127, -0.85191237],\n",
    "       [ 0.76870769, -0.81272456],\n",
    "       [ 0.7819962 ,  0.86242685],\n",
    "       [-0.57243257,  0.37755934],\n",
    "       [-0.29730939,  0.74563426],\n",
    "       [ 0.13777926,  0.35254704],\n",
    "       [ 0.46330191,  0.51783982],\n",
    "       [ 0.64649576, -0.01232633],\n",
    "       [ 0.16629182, -0.29365045],\n",
    "       [ 0.39752054, -0.64235507],\n",
    "       [-0.19238158, -0.59962178],\n",
    "       [-0.30730345, -0.09697784],\n",
    "       [-0.70631846, -0.18913046]])"
   ]
  },
  {
   "cell_type": "code",
   "execution_count": 5,
   "metadata": {},
   "outputs": [
    {
     "data": {
      "text/plain": [
       "OrderedDict([('benchmark_0', {'fW': 0.0, 'fWW': 0.0}),\n",
       "             ('benchmark_1', {'fW': -0.8318245, 'fWW': 0.85645093}),\n",
       "             ('benchmark_2', {'fW': -0.82002127, 'fWW': -0.85191237}),\n",
       "             ('benchmark_3', {'fW': 0.76870769, 'fWW': -0.81272456}),\n",
       "             ('benchmark_4', {'fW': 0.7819962, 'fWW': 0.86242685}),\n",
       "             ('benchmark_5', {'fW': -0.57243257, 'fWW': 0.37755934}),\n",
       "             ('benchmark_6', {'fW': -0.29730939, 'fWW': 0.74563426}),\n",
       "             ('benchmark_7', {'fW': 0.13777926, 'fWW': 0.35254704}),\n",
       "             ('benchmark_8', {'fW': 0.46330191, 'fWW': 0.51783982}),\n",
       "             ('benchmark_9', {'fW': 0.64649576, 'fWW': -0.01232633}),\n",
       "             ('benchmark_10', {'fW': 0.16629182, 'fWW': -0.29365045}),\n",
       "             ('benchmark_11', {'fW': 0.39752054, 'fWW': -0.64235507}),\n",
       "             ('benchmark_12', {'fW': -0.19238158, 'fWW': -0.59962178}),\n",
       "             ('benchmark_13', {'fW': -0.30730345, 'fWW': -0.09697784}),\n",
       "             ('benchmark_14', {'fW': -0.70631846, 'fWW': -0.18913046})])"
      ]
     },
     "execution_count": 5,
     "metadata": {},
     "output_type": "execute_result"
    }
   ],
   "source": [
    "for theta in thetas_old:\n",
    "    miner.add_benchmark(\n",
    "        {'fW':theta[0], 'fWW':theta[1]}\n",
    "    )\n",
    "\n",
    "miner.benchmarks"
   ]
  },
  {
   "cell_type": "markdown",
   "metadata": {},
   "source": [
    "## 3b. Define benchmark points through morphing"
   ]
  },
  {
   "cell_type": "code",
   "execution_count": 12,
   "metadata": {},
   "outputs": [],
   "source": [
    "miner.set_benchmarks_from_morphing(keep_existing_benchmarks=True,\n",
    "                                   n_bases=2,\n",
    "                                   n_trials=1000)\n",
    "\n",
    "basis = []\n",
    "for _, parameters in miner.benchmarks.items():\n",
    "    basis.append([value for _, value in parameters.items()])\n",
    "basis = np.array(basis)"
   ]
  },
  {
   "cell_type": "code",
   "execution_count": 13,
   "metadata": {},
   "outputs": [],
   "source": [
    "xi = np.linspace(-1.,1.,100)\n",
    "yi = np.linspace(-1.,1.,100)\n",
    "xx, yy = np.meshgrid(xi, yi)\n",
    "xx = xx.reshape((-1,1))\n",
    "yy = yy.reshape((-1,1))\n",
    "theta_test = np.hstack([xx, yy])\n",
    "\n",
    "squared_weights = []\n",
    "squared_weights_normalized = []\n",
    "\n",
    "for theta in theta_test:\n",
    "    wi = miner.current_morpher._calculate_morphing_weights(theta, None)\n",
    "    squared_weights.append(np.sum(wi*wi)**0.5)\n",
    "    \n",
    "squared_weights = np.array(squared_weights).reshape((100,100))"
   ]
  },
  {
   "cell_type": "code",
   "execution_count": 15,
   "metadata": {},
   "outputs": [
    {
     "data": {
      "image/png": "[encoded data removed]",
      "text/plain": [
       "<matplotlib.figure.Figure at 0x10ebff898>"
      ]
     },
     "metadata": {},
     "output_type": "display_data"
    }
   ],
   "source": [
    "fig = plt.figure(figsize=(6.5,5))\n",
    "ax = plt.gca()\n",
    "\n",
    "\n",
    "\n",
    "pcm = ax.pcolormesh(xi, yi, squared_weights,\n",
    "                   norm=matplotlib.colors.LogNorm(vmin=1., vmax=1.e2),\n",
    "                   cmap='viridis_r')\n",
    "cbar = fig.colorbar(pcm, ax=ax, extend='both')\n",
    "\n",
    "plt.scatter(basis[:15,0], basis[:15,1], s=50., c='w')\n",
    "plt.scatter(basis[15:,0], basis[15:,1], s=50., c='yellow')\n",
    "\n",
    "plt.xlabel(r'$f_W$')\n",
    "plt.ylabel(r'$f_{WW}$')\n",
    "cbar.set_label(r'$\\sqrt{\\sum w_i^2}$')\n",
    "plt.xlim(-1.,1.)\n",
    "plt.ylim(-1.,1.)\n",
    "\n",
    "\n",
    "\n",
    "plt.tight_layout()\n",
    "plt.show()\n"
   ]
  },
  {
   "cell_type": "markdown",
   "metadata": {},
   "source": [
    "## 4. Export parameter and reweight cards, integrating along two different scenarios"
   ]
  },
  {
   "cell_type": "code",
   "execution_count": 18,
   "metadata": {},
   "outputs": [],
   "source": [
    "miner.export_cards(\n",
    "    'templates/param_card_template.dat',\n",
    "    'templates/reweight_card_template.dat',\n",
    "    'MG_process_1'\n",
    ")"
   ]
  },
  {
   "cell_type": "code",
   "execution_count": null,
   "metadata": {},
   "outputs": [],
   "source": []
  }
 ],
 "metadata": {
  "kernelspec": {
   "display_name": "Python [default]",
   "language": "python",
   "name": "python3"
  },
  "language_info": {
   "codemirror_mode": {
    "name": "ipython",
    "version": 3
   },
   "file_extension": ".py",
   "mimetype": "text/x-python",
   "name": "python",
   "nbconvert_exporter": "python",
   "pygments_lexer": "ipython3",
   "version": "3.6.4"
  }
 },
 "nbformat": 4,
 "nbformat_minor": 2
}
