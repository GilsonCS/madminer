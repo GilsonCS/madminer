{
 "cells": [
  {
   "cell_type": "markdown",
   "metadata": {},
   "source": [
    "# Example"
   ]
  },
  {
   "cell_type": "code",
   "execution_count": 1,
   "metadata": {},
   "outputs": [],
   "source": [
    "import numpy as np\n",
    "from matplotlib import pyplot as plt\n",
    "import matplotlib\n",
    "% matplotlib inline\n",
    "\n",
    "from madminer.madminer import MadMiner"
   ]
  },
  {
   "cell_type": "markdown",
   "metadata": {},
   "source": [
    "## 1. Create MadMiner object"
   ]
  },
  {
   "cell_type": "code",
   "execution_count": 2,
   "metadata": {},
   "outputs": [],
   "source": [
    "miner = MadMiner()"
   ]
  },
  {
   "cell_type": "markdown",
   "metadata": {},
   "source": [
    "## 2. Define parameter space"
   ]
  },
  {
   "cell_type": "code",
   "execution_count": 3,
   "metadata": {},
   "outputs": [],
   "source": [
    "miner.set_parameters()\n",
    "\n",
    "miner.add_parameter(\n",
    "    lha_block='ANOINPUTS',\n",
    "    lha_id=3,\n",
    "    parameter_name='fW',\n",
    "    morphing_max_power=4,\n",
    "    morphing_parameter_range=(-1.,1.)\n",
    ")\n",
    "miner.add_parameter(\n",
    "    lha_block='ANOINPUTS',\n",
    "    lha_id=7,\n",
    "    parameter_name='fWW',\n",
    "    morphing_max_power=4,\n",
    "    morphing_parameter_range=(-1.,1.)\n",
    ")"
   ]
  },
  {
   "cell_type": "markdown",
   "metadata": {},
   "source": [
    "## 3a. Define benchmark points manually"
   ]
  },
  {
   "cell_type": "code",
   "execution_count": 4,
   "metadata": {},
   "outputs": [],
   "source": [
    "miner.add_benchmark(\n",
    "    {'fW':0., 'fWW':0.},\n",
    "    'sm'\n",
    ")"
   ]
  },
  {
   "cell_type": "code",
   "execution_count": 9,
   "metadata": {},
   "outputs": [
    {
     "data": {
      "text/plain": [
       "OrderedDict([('morphing_basis_vector_0',\n",
       "              OrderedDict([('fW', 0.0), ('fWW', 0.0)])),\n",
       "             ('morphing_basis_vector_1',\n",
       "              OrderedDict([('fW', -0.3096512422427262),\n",
       "                           ('fWW', 0.9907387243636991)])),\n",
       "             ('morphing_basis_vector_2',\n",
       "              OrderedDict([('fW', 0.875516152826618),\n",
       "                           ('fWW', -0.8834979001967336)])),\n",
       "             ('morphing_basis_vector_3',\n",
       "              OrderedDict([('fW', -0.8232616384808373),\n",
       "                           ('fWW', 0.41397918642218867)])),\n",
       "             ('morphing_basis_vector_4',\n",
       "              OrderedDict([('fW', -0.29130419173292266),\n",
       "                           ('fWW', -0.9810342112384063)])),\n",
       "             ('morphing_basis_vector_5',\n",
       "              OrderedDict([('fW', 0.6602923440617599),\n",
       "                           ('fWW', 0.44915536006672885)])),\n",
       "             ('morphing_basis_vector_6',\n",
       "              OrderedDict([('fW', 0.9470631555744315),\n",
       "                           ('fWW', -0.6280655430889814)])),\n",
       "             ('morphing_basis_vector_7',\n",
       "              OrderedDict([('fW', 0.861644709004995),\n",
       "                           ('fWW', 0.7849057822909553)])),\n",
       "             ('morphing_basis_vector_8',\n",
       "              OrderedDict([('fW', 0.15322070622002837),\n",
       "                           ('fWW', 0.7587385797549016)])),\n",
       "             ('morphing_basis_vector_9',\n",
       "              OrderedDict([('fW', 0.7631277039743856),\n",
       "                           ('fWW', -0.40551656672361824)])),\n",
       "             ('morphing_basis_vector_10',\n",
       "              OrderedDict([('fW', 0.7743871637425961),\n",
       "                           ('fWW', 0.19639584298857216)])),\n",
       "             ('morphing_basis_vector_11',\n",
       "              OrderedDict([('fW', -0.9055982664128699),\n",
       "                           ('fWW', -0.6563535581344451)])),\n",
       "             ('morphing_basis_vector_12',\n",
       "              OrderedDict([('fW', 0.7123708823564889),\n",
       "                           ('fWW', -0.7233365855921814)])),\n",
       "             ('morphing_basis_vector_13',\n",
       "              OrderedDict([('fW', -0.5398530406651654),\n",
       "                           ('fWW', 0.4184088621238595)])),\n",
       "             ('morphing_basis_vector_14',\n",
       "              OrderedDict([('fW', -0.6869376137818823),\n",
       "                           ('fWW', -0.25872657464581716)]))])"
      ]
     },
     "execution_count": 9,
     "metadata": {},
     "output_type": "execute_result"
    }
   ],
   "source": [
    "miner.benchmarks"
   ]
  },
  {
   "cell_type": "markdown",
   "metadata": {},
   "source": [
    "## 3b. Define benchmark points through morphing"
   ]
  },
  {
   "cell_type": "code",
   "execution_count": 5,
   "metadata": {},
   "outputs": [],
   "source": [
    "miner.set_benchmarks_from_morphing(keep_existing_benchmarks=True,\n",
    "                                   n_bases=1,\n",
    "                                   n_trials=4000,\n",
    "                                   n_test_thetas=4000)\n",
    "morpher = miner.morpher\n",
    "basis = morpher.current_basis"
   ]
  },
  {
   "cell_type": "code",
   "execution_count": 6,
   "metadata": {},
   "outputs": [],
   "source": [
    "xi = np.linspace(-1.,1.,100)\n",
    "yi = np.linspace(-1.,1.,100)\n",
    "xx, yy = np.meshgrid(xi, yi)\n",
    "xx = xx.reshape((-1,1))\n",
    "yy = yy.reshape((-1,1))\n",
    "theta_test = np.hstack([xx, yy])\n",
    "\n",
    "squared_weights = []\n",
    "\n",
    "for theta in theta_test:\n",
    "    wi = morpher._calculate_morphing_weights(theta, None)\n",
    "    squared_weights.append(np.sum(wi*wi)**0.5)\n",
    "    \n",
    "squared_weights = np.array(squared_weights).reshape((100,100))"
   ]
  },
  {
   "cell_type": "code",
   "execution_count": 7,
   "metadata": {},
   "outputs": [
    {
     "data": {
      "image/png": "[encoded data removed]",
      "text/plain": [
       "<matplotlib.figure.Figure at 0x107715470>"
      ]
     },
     "metadata": {},
     "output_type": "display_data"
    }
   ],
   "source": [
    "fig = plt.figure(figsize=(6.5,5))\n",
    "ax = plt.gca()\n",
    "\n",
    "colors = []\n",
    "for c in ['white', 'black', 'yellow', 'green', 'blue', 'red'][:morpher.n_bases]:\n",
    "    colors += [c] * morpher.n_components\n",
    "\n",
    "pcm = ax.pcolormesh(xi, yi, squared_weights,\n",
    "                   norm=matplotlib.colors.LogNorm(vmin=1., vmax=1.e2),\n",
    "                   cmap='viridis_r')\n",
    "cbar = fig.colorbar(pcm, ax=ax, extend='both')\n",
    "\n",
    "plt.scatter(basis[:,0], basis[:,1], s=50., c=colors)\n",
    "\n",
    "plt.xlabel(r'$f_W$')\n",
    "plt.ylabel(r'$f_{WW}$')\n",
    "cbar.set_label(r'$\\sqrt{\\sum w_i^2}$')\n",
    "plt.xlim(-1.,1.)\n",
    "plt.ylim(-1.,1.)\n",
    "\n",
    "plt.tight_layout()\n",
    "plt.show()"
   ]
  },
  {
   "cell_type": "markdown",
   "metadata": {},
   "source": [
    "## 4. Export parameter and reweight cards, integrating along two different scenarios"
   ]
  },
  {
   "cell_type": "code",
   "execution_count": 8,
   "metadata": {},
   "outputs": [
    {
     "ename": "KeyError",
     "evalue": "'sm'",
     "output_type": "error",
     "traceback": [
      "\u001b[0;31m---------------------------------------------------------------------------\u001b[0m",
      "\u001b[0;31mKeyError\u001b[0m                                  Traceback (most recent call last)",
      "\u001b[0;32m<ipython-input-8-ada1fe7134db>\u001b[0m in \u001b[0;36m<module>\u001b[0;34m()\u001b[0m\n\u001b[1;32m      3\u001b[0m     \u001b[0;34m'templates/reweight_card_template.dat'\u001b[0m\u001b[0;34m,\u001b[0m\u001b[0;34m\u001b[0m\u001b[0m\n\u001b[1;32m      4\u001b[0m     \u001b[0;34m'MG_process_1'\u001b[0m\u001b[0;34m,\u001b[0m\u001b[0;34m\u001b[0m\u001b[0m\n\u001b[0;32m----> 5\u001b[0;31m     \u001b[0msample_benchmark\u001b[0m\u001b[0;34m=\u001b[0m\u001b[0;34m'sm'\u001b[0m\u001b[0;34m\u001b[0m\u001b[0m\n\u001b[0m\u001b[1;32m      6\u001b[0m )\n",
      "\u001b[0;32m~/work/projects/more_inference/madminer/madminer/madminer.py\u001b[0m in \u001b[0;36mexport_cards\u001b[0;34m(self, param_card_template_file, reweight_card_template_file, mg_process_directory, sample_benchmark)\u001b[0m\n\u001b[1;32m    213\u001b[0m \u001b[0;34m\u001b[0m\u001b[0m\n\u001b[1;32m    214\u001b[0m         \u001b[0;31m# Export param card\u001b[0m\u001b[0;34m\u001b[0m\u001b[0;34m\u001b[0m\u001b[0m\n\u001b[0;32m--> 215\u001b[0;31m         export_param_card(benchmark=self.benchmarks[sample_benchmark],\n\u001b[0m\u001b[1;32m    216\u001b[0m                           \u001b[0mparameters\u001b[0m\u001b[0;34m=\u001b[0m\u001b[0mself\u001b[0m\u001b[0;34m.\u001b[0m\u001b[0mparameters\u001b[0m\u001b[0;34m,\u001b[0m\u001b[0;34m\u001b[0m\u001b[0m\n\u001b[1;32m    217\u001b[0m                           \u001b[0mparam_card_template_file\u001b[0m\u001b[0;34m=\u001b[0m\u001b[0mparam_card_template_file\u001b[0m\u001b[0;34m,\u001b[0m\u001b[0;34m\u001b[0m\u001b[0m\n",
      "\u001b[0;31mKeyError\u001b[0m: 'sm'"
     ]
    }
   ],
   "source": [
    "miner.export_cards(\n",
    "    'templates/param_card_template.dat',\n",
    "    'templates/reweight_card_template.dat',\n",
    "    'MG_process_1',\n",
    "    sample_benchmark='sm'\n",
    ")"
   ]
  },
  {
   "cell_type": "code",
   "execution_count": null,
   "metadata": {},
   "outputs": [],
   "source": []
  }
 ],
 "metadata": {
  "kernelspec": {
   "display_name": "Python [default]",
   "language": "python",
   "name": "python3"
  },
  "language_info": {
   "codemirror_mode": {
    "name": "ipython",
    "version": 3
   },
   "file_extension": ".py",
   "mimetype": "text/x-python",
   "name": "python",
   "nbconvert_exporter": "python",
   "pygments_lexer": "ipython3",
   "version": "3.6.4"
  }
 },
 "nbformat": 4,
 "nbformat_minor": 2
}
