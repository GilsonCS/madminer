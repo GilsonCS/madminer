{
 "cells": [
  {
   "cell_type": "markdown",
   "metadata": {},
   "source": [
    "# Example"
   ]
  },
  {
   "cell_type": "code",
   "execution_count": 2,
   "metadata": {},
   "outputs": [],
   "source": [
    "import numpy as np\n",
    "from matplotlib import pyplot as plt\n",
    "import matplotlib\n",
    "% matplotlib inline\n",
    "from subprocess import call, Popen, PIPE\n",
    "\n",
    "from madminer import MadMiner, Smithy"
   ]
  },
  {
   "cell_type": "markdown",
   "metadata": {},
   "source": [
    "## 1. Create MadMiner object"
   ]
  },
  {
   "cell_type": "code",
   "execution_count": null,
   "metadata": {},
   "outputs": [],
   "source": [
    "miner = MadMiner()"
   ]
  },
  {
   "cell_type": "markdown",
   "metadata": {},
   "source": [
    "## 2. Define parameter space"
   ]
  },
  {
   "cell_type": "code",
   "execution_count": null,
   "metadata": {},
   "outputs": [],
   "source": [
    "miner.set_parameters()\n",
    "\n",
    "miner.add_parameter(\n",
    "    lha_block='ANOINPUTS',\n",
    "    lha_id=3,\n",
    "    parameter_name='fW',\n",
    "    morphing_max_power=4,\n",
    "    morphing_parameter_range=(-1.,1.)\n",
    ")\n",
    "miner.add_parameter(\n",
    "    lha_block='ANOINPUTS',\n",
    "    lha_id=7,\n",
    "    parameter_name='fWW',\n",
    "    morphing_max_power=4,\n",
    "    morphing_parameter_range=(-1.,1.)\n",
    ")"
   ]
  },
  {
   "cell_type": "markdown",
   "metadata": {},
   "source": [
    "## 3a. Define benchmark points manually"
   ]
  },
  {
   "cell_type": "code",
   "execution_count": null,
   "metadata": {},
   "outputs": [],
   "source": [
    "miner.add_benchmark(\n",
    "    {'fW':0., 'fWW':0.},\n",
    "    'sm'\n",
    ")"
   ]
  },
  {
   "cell_type": "markdown",
   "metadata": {},
   "source": [
    "## 3b. Define benchmark points through morphing"
   ]
  },
  {
   "cell_type": "code",
   "execution_count": null,
   "metadata": {},
   "outputs": [],
   "source": [
    "miner.set_benchmarks_from_morphing(keep_existing_benchmarks=True,\n",
    "                                   n_bases=1,\n",
    "                                   n_trials=100,\n",
    "                                   n_test_thetas=100)"
   ]
  },
  {
   "cell_type": "markdown",
   "metadata": {},
   "source": [
    "### Plot morphing basis and squared morphing weights (optional)"
   ]
  },
  {
   "cell_type": "code",
   "execution_count": null,
   "metadata": {},
   "outputs": [],
   "source": [
    "morpher = miner.morpher\n",
    "basis = morpher.basis\n",
    "\n",
    "xi, yi = np.linspace(-1.,1.,100), np.linspace(-1.,1.,100)\n",
    "xx, yy = np.meshgrid(xi, yi)\n",
    "xx, yy = xx.reshape((-1,1)), yy.reshape((-1,1))\n",
    "theta_test = np.hstack([xx, yy])\n",
    "\n",
    "squared_weights = []\n",
    "for theta in theta_test:\n",
    "    wi = morpher._calculate_morphing_weights(theta, None)\n",
    "    squared_weights.append(np.sum(wi*wi)**0.5)\n",
    "squared_weights = np.array(squared_weights).reshape((100,100))\n",
    "\n",
    "fig = plt.figure(figsize=(6.5,5))\n",
    "ax = plt.gca()\n",
    "\n",
    "pcm = ax.pcolormesh(xi, yi, squared_weights,\n",
    "                    norm=matplotlib.colors.LogNorm(vmin=1., vmax=1.e2),\n",
    "                    cmap='viridis_r')\n",
    "cbar = fig.colorbar(pcm, ax=ax, extend='both')\n",
    "\n",
    "plt.scatter(basis[:,0], basis[:,1], s=50., c='black')\n",
    "\n",
    "plt.xlabel(r'$f_W$')\n",
    "plt.ylabel(r'$f_{WW}$')\n",
    "cbar.set_label(r'$\\sqrt{\\sum w_i^2}$')\n",
    "plt.xlim(-1.,1.)\n",
    "plt.ylim(-1.,1.)\n",
    "\n",
    "plt.tight_layout()\n",
    "plt.show()"
   ]
  },
  {
   "cell_type": "markdown",
   "metadata": {},
   "source": [
    "## 4. Save settings"
   ]
  },
  {
   "cell_type": "code",
   "execution_count": null,
   "metadata": {},
   "outputs": [],
   "source": [
    "miner.save('data/madminer_example.h5')"
   ]
  },
  {
   "cell_type": "markdown",
   "metadata": {},
   "source": [
    "## 5. Run MadGraph"
   ]
  },
  {
   "cell_type": "code",
   "execution_count": null,
   "metadata": {},
   "outputs": [],
   "source": [
    "miner.run(\n",
    "    mg_directory='/Users/johannbrehmer/work/projects/madminer/MG5_aMC_v2_6_2',\n",
    "    proc_card_file='./templates/proc_card.dat',\n",
    "    param_card_template_file='./templates/param_card_template.dat',\n",
    "    reweight_card_template_file='./templates/reweight_card_template.dat',\n",
    "    temp_directory='./temp',\n",
    "    log_directory='./logs',\n",
    "    sample_benchmark='sm',\n",
    "    initial_command='source activate python2'\n",
    ")"
   ]
  },
  {
   "cell_type": "markdown",
   "metadata": {},
   "source": [
    "## 6. Run detector simulation and extract observables\n",
    "\n",
    "To increase flexibility, this is not part of the madminer package. The delphesminer package includes the necessary steps based on Delphes"
   ]
  },
  {
   "cell_type": "markdown",
   "metadata": {},
   "source": [
    "## 7. Create Smithy object and load data"
   ]
  },
  {
   "cell_type": "code",
   "execution_count": 3,
   "metadata": {},
   "outputs": [],
   "source": [
    "smithy = Smithy('data/madminer_example_with_data.h5')"
   ]
  },
  {
   "cell_type": "code",
   "execution_count": null,
   "metadata": {},
   "outputs": [],
   "source": []
  }
 ],
 "metadata": {
  "kernelspec": {
   "display_name": "Python [default]",
   "language": "python",
   "name": "python3"
  },
  "language_info": {
   "codemirror_mode": {
    "name": "ipython",
    "version": 3
   },
   "file_extension": ".py",
   "mimetype": "text/x-python",
   "name": "python",
   "nbconvert_exporter": "python",
   "pygments_lexer": "ipython3",
   "version": "3.6.4"
  }
 },
 "nbformat": 4,
 "nbformat_minor": 2
}
